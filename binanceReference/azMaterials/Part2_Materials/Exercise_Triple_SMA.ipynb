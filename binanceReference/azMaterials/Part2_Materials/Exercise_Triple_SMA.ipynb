{
 "cells": [
  {
   "cell_type": "markdown",
   "id": "56a7db59",
   "metadata": {},
   "source": [
    "# Homework Challenge: A Triple SMA Crossover Strategy (Long-Short)"
   ]
  },
  {
   "cell_type": "markdown",
   "id": "8c31503b",
   "metadata": {},
   "source": [
    "__Please proceed with the following steps:__"
   ]
  },
  {
   "cell_type": "markdown",
   "id": "e4a1bc6b",
   "metadata": {},
   "source": [
    "1. Understand the idea/rational behind a Triple SMA Crossover Strategy."
   ]
  },
  {
   "cell_type": "markdown",
   "id": "bcf5ae85",
   "metadata": {},
   "source": [
    "2. Load the dataset bitcoin.csv, prepare the data and define/calculate SMA_S = 15 (short), SMA_M = 50 (medium) and SMA_L = 200 (long). "
   ]
  },
  {
   "cell_type": "markdown",
   "id": "e4bab47a",
   "metadata": {},
   "source": [
    "3. Remember, to calculate simple moving average prices, you have to use df.price.rolling() (see Section 7, Lecture \"Rolling Statistics\")."
   ]
  },
  {
   "cell_type": "markdown",
   "id": "c926bbb3",
   "metadata": {},
   "source": [
    "4. Define the Trading Positions and visualize Trading Positions over time."
   ]
  },
  {
   "cell_type": "markdown",
   "id": "b949ca24",
   "metadata": {},
   "source": [
    "5. Adjust the Long_Short_Backtester Frawework to the Triple SMA Crossover (hint: there are three strategy parameters: SMA_S, SMA_M, SMA_L)"
   ]
  },
  {
   "cell_type": "markdown",
   "id": "fd01dfd0",
   "metadata": {},
   "source": [
    "6. Backtest the Triple SMA Strategy with the following inputs:"
   ]
  },
  {
   "cell_type": "code",
   "execution_count": null,
   "id": "70aebd98",
   "metadata": {},
   "outputs": [],
   "source": [
    "filepath = \"bitcoin.csv\"\n",
    "symbol = \"BTCUSDT\"\n",
    "start = \"2017-08-17\"\n",
    "end = \"2021-10-07\"\n",
    "tc = -0.00085\n",
    "sma_s = 15\n",
    "sma_m = 50\n",
    "sma_l = 200"
   ]
  },
  {
   "cell_type": "markdown",
   "id": "8d78a20c",
   "metadata": {},
   "source": [
    "(The strategy multiple is:14.96014)"
   ]
  },
  {
   "cell_type": "markdown",
   "id": "a7b75e1d",
   "metadata": {},
   "source": [
    "7. Repeat the Backtest with zero Trading Costs and compare."
   ]
  },
  {
   "cell_type": "markdown",
   "id": "f10d518c",
   "metadata": {},
   "source": [
    "(The strategy multiple with zero trading costs is: 37.528076)"
   ]
  },
  {
   "cell_type": "markdown",
   "id": "b114315a",
   "metadata": {},
   "source": [
    "8. Run the optimization (full period) in the following ranges:"
   ]
  },
  {
   "cell_type": "code",
   "execution_count": null,
   "id": "aa909494",
   "metadata": {},
   "outputs": [],
   "source": [
    "SMA_S_range = (50, 300, 20) \n",
    "SMA_M_range = (500, 1500, 30)\n",
    "SMA_L_range = (2000, 5000, 100)\n",
    "metric = \"Multiple\""
   ]
  },
  {
   "cell_type": "markdown",
   "id": "35a01d01",
   "metadata": {},
   "source": [
    "(The optimal backtesting solution is: SMA_S: 170 | SMA_M: 1010 | SMA_L : 2400 | Multiple: 27.97009)"
   ]
  },
  {
   "cell_type": "markdown",
   "id": "1f210e79",
   "metadata": {},
   "source": [
    "9. Adjust the LongShortTrader Framework and implement/run the Triple SMA Strategy with the following parameters:"
   ]
  },
  {
   "cell_type": "code",
   "execution_count": null,
   "id": "394e2573",
   "metadata": {},
   "outputs": [],
   "source": [
    "symbol = \"BTCUSDT\"\n",
    "bar_length = \"1m\"\n",
    "sma_s = 10\n",
    "sma_m = 20\n",
    "sma_l = 50\n",
    "units = 0.001\n",
    "position = 0"
   ]
  },
  {
   "cell_type": "markdown",
   "id": "50f3bf86",
   "metadata": {},
   "source": [
    "10. Implement/run the Triple SMA Strategy with the following parameters:"
   ]
  },
  {
   "cell_type": "code",
   "execution_count": null,
   "id": "6b1731af",
   "metadata": {},
   "outputs": [],
   "source": [
    "symbol = \"BTCUSDT\"\n",
    "bar_length = \"1h\"\n",
    "sma_s = 15\n",
    "sma_m = 50\n",
    "sma_l = 200\n",
    "units = 0.001\n",
    "position = 0"
   ]
  },
  {
   "cell_type": "markdown",
   "id": "18c76929",
   "metadata": {},
   "source": [
    "Be careful here! (hint: check the historical data requirements!)"
   ]
  },
  {
   "cell_type": "code",
   "execution_count": null,
   "id": "fa5c5cd3",
   "metadata": {},
   "outputs": [],
   "source": []
  },
  {
   "cell_type": "code",
   "execution_count": null,
   "id": "7c9676a1",
   "metadata": {},
   "outputs": [],
   "source": []
  },
  {
   "cell_type": "markdown",
   "id": "66905af6",
   "metadata": {},
   "source": [
    "# ++++ Solution - Stop here if you want to do the exercise on your own! ++++"
   ]
  },
  {
   "cell_type": "code",
   "execution_count": null,
   "id": "54df3c87",
   "metadata": {},
   "outputs": [],
   "source": []
  },
  {
   "cell_type": "code",
   "execution_count": null,
   "id": "aac21577",
   "metadata": {},
   "outputs": [],
   "source": []
  },
  {
   "cell_type": "code",
   "execution_count": null,
   "id": "14e84c40",
   "metadata": {},
   "outputs": [],
   "source": []
  },
  {
   "cell_type": "code",
   "execution_count": null,
   "id": "28ed5153",
   "metadata": {},
   "outputs": [],
   "source": []
  },
  {
   "cell_type": "code",
   "execution_count": null,
   "id": "668a8d49",
   "metadata": {},
   "outputs": [],
   "source": []
  },
  {
   "cell_type": "markdown",
   "id": "774f8c6d",
   "metadata": {},
   "source": [
    "## Getting the data"
   ]
  },
  {
   "cell_type": "code",
   "execution_count": null,
   "id": "e4434faf",
   "metadata": {},
   "outputs": [],
   "source": [
    "import pandas as pd\n",
    "import numpy as np\n",
    "import matplotlib.pyplot as plt\n",
    "plt.style.use(\"seaborn-v0_8\")"
   ]
  },
  {
   "cell_type": "code",
   "execution_count": null,
   "id": "d6f10acc",
   "metadata": {},
   "outputs": [],
   "source": [
    "data = pd.read_csv(\"bitcoin.csv\", parse_dates = [\"Date\"], index_col = \"Date\")\n",
    "data"
   ]
  },
  {
   "cell_type": "code",
   "execution_count": null,
   "id": "7b241f1a",
   "metadata": {},
   "outputs": [],
   "source": [
    "data.info()"
   ]
  },
  {
   "cell_type": "code",
   "execution_count": null,
   "id": "23d89c1a",
   "metadata": {},
   "outputs": [],
   "source": [
    "data = data[[\"Close\"]].copy()"
   ]
  },
  {
   "cell_type": "code",
   "execution_count": null,
   "id": "1000b40e",
   "metadata": {},
   "outputs": [],
   "source": [
    "data"
   ]
  },
  {
   "cell_type": "code",
   "execution_count": null,
   "id": "7839c839",
   "metadata": {},
   "outputs": [],
   "source": [
    "data[\"returns\"] = np.log(data.Close.div(data.Close.shift(1)))"
   ]
  },
  {
   "cell_type": "code",
   "execution_count": null,
   "id": "2871e084",
   "metadata": {},
   "outputs": [],
   "source": [
    "data"
   ]
  },
  {
   "cell_type": "code",
   "execution_count": null,
   "id": "72ba2233",
   "metadata": {},
   "outputs": [],
   "source": [
    "data.info()"
   ]
  },
  {
   "cell_type": "code",
   "execution_count": null,
   "id": "3d23f23e",
   "metadata": {},
   "outputs": [],
   "source": []
  },
  {
   "cell_type": "markdown",
   "id": "e9770942",
   "metadata": {},
   "source": [
    "## Formulating a Triple SMA Crossover Strategy"
   ]
  },
  {
   "cell_type": "code",
   "execution_count": null,
   "id": "7b8827c8",
   "metadata": {},
   "outputs": [],
   "source": [
    "SMA_S = 15\n",
    "SMA_M = 50\n",
    "SMA_L = 200"
   ]
  },
  {
   "cell_type": "code",
   "execution_count": null,
   "id": "2ab6f54d",
   "metadata": {},
   "outputs": [],
   "source": [
    "data[\"SMA_S\"] = data.Close.rolling(window = SMA_S).mean()\n",
    "data[\"SMA_M\"] = data.Close.rolling(window = SMA_M).mean()\n",
    "data[\"SMA_L\"] = data.Close.rolling(window = SMA_L).mean()"
   ]
  },
  {
   "cell_type": "code",
   "execution_count": null,
   "id": "2cb842a5",
   "metadata": {},
   "outputs": [],
   "source": [
    "data"
   ]
  },
  {
   "cell_type": "code",
   "execution_count": null,
   "id": "a7339fd8",
   "metadata": {},
   "outputs": [],
   "source": [
    "data.dropna(inplace = True)"
   ]
  },
  {
   "cell_type": "code",
   "execution_count": null,
   "id": "eab4924f",
   "metadata": {},
   "outputs": [],
   "source": [
    "smas = [\"SMA_S\", \"SMA_M\", \"SMA_L\"]\n",
    "smas"
   ]
  },
  {
   "cell_type": "code",
   "execution_count": null,
   "id": "1c58320b",
   "metadata": {},
   "outputs": [],
   "source": [
    "data.loc[\"06-2020\", smas].plot(figsize = (12, 8))\n",
    "plt.show()"
   ]
  },
  {
   "cell_type": "code",
   "execution_count": null,
   "id": "365ad118",
   "metadata": {},
   "outputs": [],
   "source": [
    "data[\"position\"] = 0 # Trading position -> Neutral for all bars\n",
    "data"
   ]
  },
  {
   "cell_type": "code",
   "execution_count": null,
   "id": "a24f70ea",
   "metadata": {},
   "outputs": [],
   "source": [
    "cond1 = (data.SMA_S > data.SMA_M) & (data.SMA_M > data.SMA_L) # long position\n",
    "cond1"
   ]
  },
  {
   "cell_type": "code",
   "execution_count": null,
   "id": "407ab93e",
   "metadata": {},
   "outputs": [],
   "source": [
    "cond2 = (data.SMA_S < data.SMA_M) & (data.SMA_M < data.SMA_L) # short position\n",
    "cond2"
   ]
  },
  {
   "cell_type": "code",
   "execution_count": null,
   "id": "7f9ba44d",
   "metadata": {},
   "outputs": [],
   "source": [
    "data.loc[cond1, \"position\"] = 1\n",
    "data.loc[cond2, \"position\"] = -1"
   ]
  },
  {
   "cell_type": "code",
   "execution_count": null,
   "id": "50ea9721",
   "metadata": {},
   "outputs": [],
   "source": [
    "data.position.value_counts()"
   ]
  },
  {
   "cell_type": "code",
   "execution_count": null,
   "id": "4ce2ccdb",
   "metadata": {},
   "outputs": [],
   "source": [
    "data.loc[:, smas + [\"position\"]].plot(figsize = (12, 8), secondary_y = \"position\")\n",
    "plt.show()"
   ]
  },
  {
   "cell_type": "code",
   "execution_count": null,
   "id": "3ec3a9ca",
   "metadata": {},
   "outputs": [],
   "source": []
  },
  {
   "cell_type": "markdown",
   "id": "e104a68a",
   "metadata": {},
   "source": [
    "## Backtesting"
   ]
  },
  {
   "cell_type": "code",
   "execution_count": null,
   "id": "ff0cccc2",
   "metadata": {},
   "outputs": [],
   "source": [
    "class Long_Short_Backtester():\n",
    "    ''' Class for the vectorized backtesting of simple Long-Short trading strategies.\n",
    "    \n",
    "    Attributes\n",
    "    ============\n",
    "    filepath: str\n",
    "        local filepath of the dataset (csv-file)\n",
    "    symbol: str\n",
    "        ticker symbol (instrument) to be backtested\n",
    "    start: str\n",
    "        start date for data import\n",
    "    end: str\n",
    "        end date for data import\n",
    "    tc: float\n",
    "        proportional trading costs per trade\n",
    "    \n",
    "    \n",
    "    Methods\n",
    "    =======\n",
    "    get_data:\n",
    "        imports the data.\n",
    "        \n",
    "    test_strategy:\n",
    "        prepares the data and backtests the trading strategy incl. reporting (wrapper).\n",
    "        \n",
    "    prepare_data:\n",
    "        prepares the data for backtesting.\n",
    "    \n",
    "    run_backtest:\n",
    "        runs the strategy backtest.\n",
    "        \n",
    "    plot_results:\n",
    "        plots the cumulative performance of the trading strategy compared to buy-and-hold.\n",
    "        \n",
    "    optimize_strategy:\n",
    "        backtests strategy for different parameter values incl. optimization and reporting (wrapper).\n",
    "    \n",
    "    find_best_strategy:\n",
    "        finds the optimal strategy (global maximum).\n",
    "         \n",
    "        \n",
    "    print_performance:\n",
    "        calculates and prints various performance metrics.\n",
    "        \n",
    "    '''    \n",
    "    \n",
    "    def __init__(self, filepath, symbol, start, end, tc):\n",
    "        \n",
    "        self.filepath = filepath\n",
    "        self.symbol = symbol\n",
    "        self.start = start\n",
    "        self.end = end\n",
    "        self.tc = tc\n",
    "        self.results = None\n",
    "        self.get_data()\n",
    "        self.tp_year = (self.data.Close.count() / ((self.data.index[-1] - self.data.index[0]).days / 365.25))\n",
    "        \n",
    "    def __repr__(self):\n",
    "        return \"Long_Short_Backtester(symbol = {}, start = {}, end = {})\".format(self.symbol, self.start, self.end)\n",
    "        \n",
    "    def get_data(self):\n",
    "        ''' Imports the data.\n",
    "        '''\n",
    "        raw = pd.read_csv(self.filepath, parse_dates = [\"Date\"], index_col = \"Date\")\n",
    "        raw = raw.loc[self.start:self.end].copy()\n",
    "        raw[\"returns\"] = np.log(raw.Close / raw.Close.shift(1))\n",
    "        self.data = raw\n",
    "        \n",
    "    def test_strategy(self, smas):\n",
    "        '''\n",
    "        Prepares the data and backtests the trading strategy incl. reporting (Wrapper).\n",
    "         \n",
    "        Parameters\n",
    "        ============\n",
    "        smas: tuple (SMA_S, SMA_M, SMA_L)\n",
    "            Simple Moving Averages to be considered for the strategy.\n",
    "            \n",
    "        '''\n",
    "        \n",
    "        self.SMA_S = smas[0]\n",
    "        self.SMA_M = smas[1]\n",
    "        self.SMA_L = smas[2]\n",
    "        \n",
    "        \n",
    "        self.prepare_data(smas = smas)\n",
    "        self.run_backtest()\n",
    "        \n",
    "        data = self.results.copy()\n",
    "        data[\"creturns\"] = data[\"returns\"].cumsum().apply(np.exp)\n",
    "        data[\"cstrategy\"] = data[\"strategy\"].cumsum().apply(np.exp)\n",
    "        self.results = data\n",
    "        \n",
    "        self.print_performance()\n",
    "    \n",
    "    def prepare_data(self, smas):\n",
    "        ''' Prepares the Data for Backtesting.\n",
    "        '''\n",
    "        ########################## Strategy-Specific #############################\n",
    "        \n",
    "        data = self.data[[\"Close\", \"returns\"]].copy()\n",
    "        data[\"SMA_S\"] = data.Close.rolling(window = smas[0]).mean()\n",
    "        data[\"SMA_M\"] = data.Close.rolling(window = smas[1]).mean()\n",
    "        data[\"SMA_L\"] = data.Close.rolling(window = smas[2]).mean()\n",
    "        \n",
    "        data.dropna(inplace = True)\n",
    "                \n",
    "        cond1 = (data.SMA_S > data.SMA_M) & (data.SMA_M > data.SMA_L)\n",
    "        cond2 = (data.SMA_S < data.SMA_M) & (data.SMA_M < data.SMA_L)\n",
    "        \n",
    "        data[\"position\"] = 0\n",
    "        data.loc[cond1, \"position\"] = 1\n",
    "        data.loc[cond2, \"position\"] = -1\n",
    "\n",
    "        ##########################################################################\n",
    "        \n",
    "        self.results = data\n",
    "    \n",
    "    def run_backtest(self):\n",
    "        ''' Runs the strategy backtest.\n",
    "        '''\n",
    "        \n",
    "        data = self.results.copy()\n",
    "        data[\"strategy\"] = data[\"position\"].shift(1) * data[\"returns\"]\n",
    "        data[\"trades\"] = data.position.diff().fillna(0).abs()\n",
    "        data.strategy = data.strategy + data.trades * self.tc\n",
    "        \n",
    "        self.results = data\n",
    "    \n",
    "    def plot_results(self):\n",
    "        '''  Plots the cumulative performance of the trading strategy compared to buy-and-hold.\n",
    "        '''\n",
    "        if self.results is None:\n",
    "            print(\"Run test_strategy() first.\")\n",
    "        else:\n",
    "            title = \"{} | TC = {}\".format(self.symbol, self.tc)\n",
    "            self.results[[\"creturns\", \"cstrategy\"]].plot(title=title, figsize=(12, 8))\n",
    "            \n",
    "    def optimize_strategy(self, SMA_S_range, SMA_M_range, SMA_L_range, metric = \"Multiple\"):\n",
    "        '''\n",
    "        Backtests strategy for different parameter values incl. Optimization and Reporting (Wrapper).\n",
    "         \n",
    "        Parameters\n",
    "        ============\n",
    "        SMA_S_range: tuple\n",
    "            tuples of the form (start, end, step size).\n",
    "        \n",
    "        SMA_M_range: tuple\n",
    "            tuples of the form (start, end, step size).\n",
    "            \n",
    "        SMA_L_range: tuple\n",
    "            tuples of the form (start, end, step size).\n",
    "        \n",
    "        metric: str\n",
    "            performance metric to be optimized (can be \"Multiple\" or \"Sharpe\")\n",
    "        '''\n",
    "        \n",
    "        self.metric = metric\n",
    "        \n",
    "        if metric == \"Multiple\":\n",
    "            performance_function = self.calculate_multiple\n",
    "        elif metric == \"Sharpe\":\n",
    "            performance_function = self.calculate_sharpe\n",
    "        \n",
    "        SMA_S_range = range(*SMA_S_range)\n",
    "        SMA_M_range = range(*SMA_M_range)\n",
    "        SMA_L_range = range(*SMA_L_range)\n",
    "        \n",
    "        combinations = list(product(SMA_S_range, SMA_M_range, SMA_L_range))\n",
    "         \n",
    "        performance = []\n",
    "        for comb in combinations:\n",
    "            self.prepare_data(smas = comb)\n",
    "            self.run_backtest()\n",
    "            performance.append(performance_function(self.results.strategy))\n",
    "    \n",
    "        self.results_overview =  pd.DataFrame(data = np.array(combinations), columns = [\"SMA_S\", \"SMA_M\", \"SMA_L\"])\n",
    "        self.results_overview[\"performance\"] = performance\n",
    "        self.find_best_strategy()\n",
    "        \n",
    "        \n",
    "    def find_best_strategy(self):\n",
    "        ''' Finds the optimal strategy (global maximum).\n",
    "        '''\n",
    "        \n",
    "        best = self.results_overview.nlargest(1, \"performance\")\n",
    "        SMA_S = best.SMA_S.iloc[0]\n",
    "        SMA_M = best.SMA_M.iloc[0]\n",
    "        SMA_L = best.SMA_L.iloc[0]\n",
    "        perf = best.performance.iloc[0]\n",
    "        print(\"SMA_S: {} | SMA_M: {} | SMA_L : {} | {}: {}\".format(SMA_S, SMA_M, SMA_L, self.metric, round(perf, 5)))  \n",
    "        self.test_strategy(smas = (SMA_S, SMA_M, SMA_L))\n",
    "            \n",
    "    ############################## Performance ######################################\n",
    "    \n",
    "    def print_performance(self):\n",
    "        ''' Calculates and prints various Performance Metrics.\n",
    "        '''\n",
    "        \n",
    "        data = self.results.copy()\n",
    "        strategy_multiple = round(self.calculate_multiple(data.strategy), 6)\n",
    "        bh_multiple =       round(self.calculate_multiple(data.returns), 6)\n",
    "        outperf =           round(strategy_multiple - bh_multiple, 6)\n",
    "        cagr =              round(self.calculate_cagr(data.strategy), 6)\n",
    "        ann_mean =          round(self.calculate_annualized_mean(data.strategy), 6)\n",
    "        ann_std =           round(self.calculate_annualized_std(data.strategy), 6)\n",
    "        sharpe =            round(self.calculate_sharpe(data.strategy), 6)\n",
    "       \n",
    "        print(100 * \"=\")\n",
    "        print(\"TRIPLE SMA STRATEGY | INSTRUMENT = {} | SMAs = {}\".format(self.symbol, [self.SMA_S, self.SMA_M, self.SMA_L]))\n",
    "        print(100 * \"-\")\n",
    "        print(\"PERFORMANCE MEASURES:\")\n",
    "        print(\"\\n\")\n",
    "        print(\"Multiple (Strategy):         {}\".format(strategy_multiple))\n",
    "        print(\"Multiple (Buy-and-Hold):     {}\".format(bh_multiple))\n",
    "        print(38 * \"-\")\n",
    "        print(\"Out-/Underperformance:       {}\".format(outperf))\n",
    "        print(\"\\n\")\n",
    "        print(\"CAGR:                        {}\".format(cagr))\n",
    "        print(\"Annualized Mean:             {}\".format(ann_mean))\n",
    "        print(\"Annualized Std:              {}\".format(ann_std))\n",
    "        print(\"Sharpe Ratio:                {}\".format(sharpe))\n",
    "        \n",
    "        print(100 * \"=\")\n",
    "        \n",
    "    def calculate_multiple(self, series):\n",
    "        return np.exp(series.sum())\n",
    "    \n",
    "    def calculate_cagr(self, series):\n",
    "        return np.exp(series.sum())**(1/((series.index[-1] - series.index[0]).days / 365.25)) - 1\n",
    "    \n",
    "    def calculate_annualized_mean(self, series):\n",
    "        return series.mean() * self.tp_year\n",
    "    \n",
    "    def calculate_annualized_std(self, series):\n",
    "        return series.std() * np.sqrt(self.tp_year)\n",
    "    \n",
    "    def calculate_sharpe(self, series):\n",
    "        if series.std() == 0:\n",
    "            return np.nan\n",
    "        else:\n",
    "            return self.calculate_cagr(series) / self.calculate_annualized_std(series)"
   ]
  },
  {
   "cell_type": "code",
   "execution_count": null,
   "id": "c5abd24e",
   "metadata": {},
   "outputs": [],
   "source": [
    "filepath = \"bitcoin.csv\"\n",
    "symbol = \"BTCUSDT\"\n",
    "start = \"2017-08-17\"\n",
    "end = \"2021-10-07\"\n",
    "tc = -0.00085\n",
    "sma_s = 15 \n",
    "sma_m = 50 \n",
    "sma_l = 200 "
   ]
  },
  {
   "cell_type": "code",
   "execution_count": null,
   "id": "6cb4ea94",
   "metadata": {},
   "outputs": [],
   "source": [
    "tester = Long_Short_Backtester(filepath = filepath, symbol = symbol,\n",
    "                              start = start, end = end, tc = tc)"
   ]
  },
  {
   "cell_type": "code",
   "execution_count": null,
   "id": "b06b53b8",
   "metadata": {},
   "outputs": [],
   "source": [
    "tester.data"
   ]
  },
  {
   "cell_type": "code",
   "execution_count": null,
   "id": "d53bdb12",
   "metadata": {},
   "outputs": [],
   "source": [
    "tester.test_strategy(smas = (sma_s, sma_m, sma_l))"
   ]
  },
  {
   "cell_type": "code",
   "execution_count": null,
   "id": "78fc7d78",
   "metadata": {},
   "outputs": [],
   "source": [
    "tester.plot_results()"
   ]
  },
  {
   "cell_type": "code",
   "execution_count": null,
   "id": "d3e691a8",
   "metadata": {},
   "outputs": [],
   "source": [
    "tester.results"
   ]
  },
  {
   "cell_type": "code",
   "execution_count": null,
   "id": "3e6e1e72",
   "metadata": {},
   "outputs": [],
   "source": [
    "tester.results.trades.value_counts()"
   ]
  },
  {
   "cell_type": "code",
   "execution_count": null,
   "id": "8e1f4b25",
   "metadata": {},
   "outputs": [],
   "source": []
  },
  {
   "cell_type": "markdown",
   "id": "e05a9a7c",
   "metadata": {},
   "source": [
    "## Optimization"
   ]
  },
  {
   "cell_type": "code",
   "execution_count": null,
   "id": "a5ee4405",
   "metadata": {},
   "outputs": [],
   "source": [
    "import pandas as pd\n",
    "import numpy as np\n",
    "import matplotlib.pyplot as plt\n",
    "from itertools import product\n",
    "import warnings\n",
    "warnings.filterwarnings(\"ignore\")\n",
    "plt.style.use(\"seaborn-v0_8\")"
   ]
  },
  {
   "cell_type": "code",
   "execution_count": null,
   "id": "62083980",
   "metadata": {},
   "outputs": [],
   "source": [
    "tester.optimize_strategy(SMA_S_range = (50, 300, 20), \n",
    "                         SMA_M_range = (500, 1500, 30),\n",
    "                         SMA_L_range = (2000, 5000, 100),\n",
    "                         metric = \"Multiple\")"
   ]
  },
  {
   "cell_type": "code",
   "execution_count": null,
   "id": "a81e000b",
   "metadata": {},
   "outputs": [],
   "source": [
    "tester.plot_results()"
   ]
  },
  {
   "cell_type": "code",
   "execution_count": null,
   "id": "2f5a6c2a",
   "metadata": {},
   "outputs": [],
   "source": [
    "tester.results_overview"
   ]
  },
  {
   "cell_type": "code",
   "execution_count": null,
   "id": "d1ad0931",
   "metadata": {},
   "outputs": [],
   "source": []
  },
  {
   "cell_type": "markdown",
   "id": "e5a83b8b",
   "metadata": {},
   "source": [
    "## Implementation"
   ]
  },
  {
   "cell_type": "code",
   "execution_count": null,
   "id": "62a19bc5",
   "metadata": {},
   "outputs": [],
   "source": [
    "from binance.client import Client\n",
    "from binance import ThreadedWebsocketManager\n",
    "import pandas as pd\n",
    "import numpy as np\n",
    "from datetime import datetime, timedelta\n",
    "import time"
   ]
  },
  {
   "cell_type": "code",
   "execution_count": null,
   "id": "dae1fe80",
   "metadata": {},
   "outputs": [],
   "source": [
    "api_key = \"insert here\"\n",
    "secret_key = \"insert here\""
   ]
  },
  {
   "cell_type": "code",
   "execution_count": null,
   "id": "d1745c24",
   "metadata": {},
   "outputs": [],
   "source": [
    "client = Client(api_key = api_key, api_secret = secret_key, tld = \"com\", testnet = True)"
   ]
  },
  {
   "cell_type": "code",
   "execution_count": null,
   "id": "10bcb6ee",
   "metadata": {},
   "outputs": [],
   "source": [
    "class LongShortTrader():\n",
    "    \n",
    "    def __init__(self, symbol, bar_length, sma_s, sma_m, sma_l, units, position = 0):\n",
    "        \n",
    "        self.symbol = symbol\n",
    "        self.bar_length = bar_length\n",
    "        self.available_intervals = [\"1m\", \"3m\", \"5m\", \"15m\", \"30m\", \"1h\", \"2h\", \"4h\", \"6h\", \"8h\", \"12h\", \"1d\", \"3d\", \"1w\", \"1M\"]\n",
    "        self.units = units\n",
    "        self.position = position\n",
    "        self.trades = 0 \n",
    "        self.trade_values = []\n",
    "        \n",
    "        #*****************add strategy-specific attributes here******************\n",
    "        self.SMA_S = sma_s\n",
    "        self.SMA_M = sma_m\n",
    "        self.SMA_L = sma_l\n",
    "        #************************************************************************\n",
    "    \n",
    "    def start_trading(self, historical_days):\n",
    "        \n",
    "        self.twm = ThreadedWebsocketManager()\n",
    "        self.twm.start()\n",
    "        \n",
    "        if self.bar_length in self.available_intervals:\n",
    "            self.get_most_recent(symbol = self.symbol, interval = self.bar_length,\n",
    "                                 days = historical_days)\n",
    "            self.twm.start_kline_socket(callback = self.stream_candles,\n",
    "                                        symbol = self.symbol, interval = self.bar_length)\n",
    "        # \"else\" to be added later in the course \n",
    "    \n",
    "    def get_most_recent(self, symbol, interval, days):\n",
    "    \n",
    "        now = datetime.utcnow()\n",
    "        past = str(now - timedelta(days = days))\n",
    "    \n",
    "        bars = client.get_historical_klines(symbol = symbol, interval = interval,\n",
    "                                            start_str = past, end_str = None, limit = 1000)\n",
    "        df = pd.DataFrame(bars)\n",
    "        df[\"Date\"] = pd.to_datetime(df.iloc[:,0], unit = \"ms\")\n",
    "        df.columns = [\"Open Time\", \"Open\", \"High\", \"Low\", \"Close\", \"Volume\",\n",
    "                      \"Clos Time\", \"Quote Asset Volume\", \"Number of Trades\",\n",
    "                      \"Taker Buy Base Asset Volume\", \"Taker Buy Quote Asset Volume\", \"Ignore\", \"Date\"]\n",
    "        df = df[[\"Date\", \"Open\", \"High\", \"Low\", \"Close\", \"Volume\"]].copy()\n",
    "        df.set_index(\"Date\", inplace = True)\n",
    "        for column in df.columns:\n",
    "            df[column] = pd.to_numeric(df[column], errors = \"coerce\")\n",
    "        df[\"Complete\"] = [True for row in range(len(df)-1)] + [False]\n",
    "        \n",
    "        self.data = df\n",
    "    \n",
    "    def stream_candles(self, msg):\n",
    "        \n",
    "        # extract the required items from msg\n",
    "        event_time = pd.to_datetime(msg[\"E\"], unit = \"ms\")\n",
    "        start_time = pd.to_datetime(msg[\"k\"][\"t\"], unit = \"ms\")\n",
    "        first   = float(msg[\"k\"][\"o\"])\n",
    "        high    = float(msg[\"k\"][\"h\"])\n",
    "        low     = float(msg[\"k\"][\"l\"])\n",
    "        close   = float(msg[\"k\"][\"c\"])\n",
    "        volume  = float(msg[\"k\"][\"v\"])\n",
    "        complete=       msg[\"k\"][\"x\"]\n",
    "    \n",
    "        # stop trading session\n",
    "        if self.trades >= 5: # stop stream after 5 trades\n",
    "            self.twm.stop()\n",
    "            if self.position == 1:\n",
    "                order = client.create_order(symbol = self.symbol, side = \"SELL\", type = \"MARKET\", quantity = self.units)\n",
    "                self.report_trade(order, \"GOING NEUTRAL AND STOP\")\n",
    "                self.position = 0\n",
    "            elif self.position == -1:\n",
    "                order = client.create_order(symbol = self.symbol, side = \"BUY\", type = \"MARKET\", quantity = self.units)\n",
    "                self.report_trade(order, \"GOING NEUTRAL AND STOP\")\n",
    "                self.position = 0\n",
    "            else: \n",
    "                print(\"STOP\")\n",
    "        \n",
    "        else:\n",
    "            # print out\n",
    "            print(\".\", end = \"\", flush = True) # just print something to get a feedback (everything OK) \n",
    "    \n",
    "            # feed df (add new bar / update latest bar)\n",
    "            self.data.loc[start_time] = [first, high, low, close, volume, complete]\n",
    "        \n",
    "            # prepare features and define strategy/trading positions whenever the latest bar is complete\n",
    "            if complete == True:\n",
    "                self.define_strategy()\n",
    "                self.execute_trades()\n",
    "        \n",
    "    def define_strategy(self):\n",
    "        \n",
    "        data = self.data.copy()\n",
    "        \n",
    "        #******************** define your strategy here ************************\n",
    "        data = data[[\"Close\"]].copy()\n",
    "        \n",
    "        data[\"SMA_S\"] = data.Close.rolling(window = self.SMA_S).mean()\n",
    "        data[\"SMA_M\"] = data.Close.rolling(window = self.SMA_M).mean()\n",
    "        data[\"SMA_L\"] = data.Close.rolling(window = self.SMA_L).mean()\n",
    "        \n",
    "        data.dropna(inplace = True)\n",
    "                \n",
    "        cond1 = (data.SMA_S > data.SMA_M) & (data.SMA_M > data.SMA_L)\n",
    "        cond2 = (data.SMA_S < data.SMA_M) & (data.SMA_M < data.SMA_L)\n",
    "        \n",
    "        data[\"position\"] = 0\n",
    "        data.loc[cond1, \"position\"] = 1\n",
    "        data.loc[cond2, \"position\"] = -1\n",
    "        #***********************************************************************\n",
    "        \n",
    "        self.prepared_data = data.copy()\n",
    "    \n",
    "    def execute_trades(self): \n",
    "        if self.prepared_data[\"position\"].iloc[-1] == 1: # if position is long -> go/stay long\n",
    "            if self.position == 0:\n",
    "                order = client.create_order(symbol = self.symbol, side = \"BUY\", type = \"MARKET\", quantity = self.units)\n",
    "                self.report_trade(order, \"GOING LONG\")  \n",
    "            elif self.position == -1:\n",
    "                order = client.create_order(symbol = self.symbol, side = \"BUY\", type = \"MARKET\", quantity = self.units)\n",
    "                self.report_trade(order, \"GOING NEUTRAL\")\n",
    "                time.sleep(1)\n",
    "                order = client.create_order(symbol = self.symbol, side = \"BUY\", type = \"MARKET\", quantity = self.units)\n",
    "                self.report_trade(order, \"GOING LONG\")\n",
    "            self.position = 1\n",
    "        elif self.prepared_data[\"position\"].iloc[-1] == 0: # if position is neutral -> go/stay neutral\n",
    "            if self.position == 1:\n",
    "                order = client.create_order(symbol = self.symbol, side = \"SELL\", type = \"MARKET\", quantity = self.units)\n",
    "                self.report_trade(order, \"GOING NEUTRAL\") \n",
    "            elif self.position == -1:\n",
    "                order = client.create_order(symbol = self.symbol, side = \"BUY\", type = \"MARKET\", quantity = self.units)\n",
    "                self.report_trade(order, \"GOING NEUTRAL\") \n",
    "            self.position = 0\n",
    "        if self.prepared_data[\"position\"].iloc[-1] == -1: # if position is short -> go/stay short\n",
    "            if self.position == 0:\n",
    "                order = client.create_order(symbol = self.symbol, side = \"SELL\", type = \"MARKET\", quantity = self.units)\n",
    "                self.report_trade(order, \"GOING SHORT\") \n",
    "            elif self.position == 1:\n",
    "                order = client.create_order(symbol = self.symbol, side = \"SELL\", type = \"MARKET\", quantity = self.units)\n",
    "                self.report_trade(order, \"GOING NEUTRAL\")\n",
    "                time.sleep(1)\n",
    "                order = client.create_order(symbol = self.symbol, side = \"SELL\", type = \"MARKET\", quantity = self.units)\n",
    "                self.report_trade(order, \"GOING SHORT\")\n",
    "            self.position = -1\n",
    "    \n",
    "    def report_trade(self, order, going): \n",
    "        \n",
    "        # extract data from order object\n",
    "        side = order[\"side\"]\n",
    "        time = pd.to_datetime(order[\"transactTime\"], unit = \"ms\")\n",
    "        base_units = float(order[\"executedQty\"])\n",
    "        quote_units = float(order[\"cummulativeQuoteQty\"])\n",
    "        price = round(quote_units / base_units, 5)\n",
    "        \n",
    "        # calculate trading profits\n",
    "        self.trades += 1\n",
    "        if side == \"BUY\":\n",
    "            self.trade_values.append(-quote_units)\n",
    "        elif side == \"SELL\":\n",
    "            self.trade_values.append(quote_units) \n",
    "        \n",
    "        if self.trades % 2 == 0:\n",
    "            real_profit = round(np.sum(self.trade_values[-2:]), 3) \n",
    "            self.cum_profits = round(np.sum(self.trade_values), 3)\n",
    "        else: \n",
    "            real_profit = 0\n",
    "            self.cum_profits = round(np.sum(self.trade_values[:-1]), 3)\n",
    "        \n",
    "        # print trade report\n",
    "        print(2 * \"\\n\" + 100* \"-\")\n",
    "        print(\"{} | {}\".format(time, going)) \n",
    "        print(\"{} | Base_Units = {} | Quote_Units = {} | Price = {} \".format(time, base_units, quote_units, price))\n",
    "        print(\"{} | Profit = {} | CumProfits = {} \".format(time, real_profit, self.cum_profits))\n",
    "        print(100 * \"-\" + \"\\n\")"
   ]
  },
  {
   "cell_type": "code",
   "execution_count": null,
   "id": "a37cb809",
   "metadata": {},
   "outputs": [],
   "source": [
    "symbol = \"BTCUSDT\"\n",
    "bar_length = \"1m\"\n",
    "sma_s = 10\n",
    "sma_m = 20\n",
    "sma_l = 50\n",
    "units = 0.001\n",
    "position = 0"
   ]
  },
  {
   "cell_type": "code",
   "execution_count": null,
   "id": "cb769f89",
   "metadata": {},
   "outputs": [],
   "source": [
    "client.get_account()"
   ]
  },
  {
   "cell_type": "code",
   "execution_count": null,
   "id": "c31b59a0",
   "metadata": {},
   "outputs": [],
   "source": [
    "trader = LongShortTrader(symbol = symbol, bar_length = bar_length, sma_s = sma_s, sma_m = sma_m, sma_l = sma_l,\n",
    "                         units = units, position = position)"
   ]
  },
  {
   "cell_type": "code",
   "execution_count": null,
   "id": "56081644",
   "metadata": {},
   "outputs": [],
   "source": [
    "trader.start_trading(historical_days = 1/24)"
   ]
  },
  {
   "cell_type": "code",
   "execution_count": null,
   "id": "fb55ef4d",
   "metadata": {},
   "outputs": [],
   "source": [
    "trader.twm.stop()"
   ]
  },
  {
   "cell_type": "code",
   "execution_count": null,
   "id": "bc4195f7",
   "metadata": {},
   "outputs": [],
   "source": [
    "trader.prepared_data"
   ]
  },
  {
   "cell_type": "code",
   "execution_count": null,
   "id": "e2e2a0b9",
   "metadata": {},
   "outputs": [],
   "source": []
  },
  {
   "cell_type": "markdown",
   "id": "8eb10cf0",
   "metadata": {},
   "source": [
    "__Implementation 2__"
   ]
  },
  {
   "cell_type": "code",
   "execution_count": null,
   "id": "3e4ac7f0",
   "metadata": {},
   "outputs": [],
   "source": [
    "symbol = \"BTCUSDT\"\n",
    "bar_length = \"1h\"\n",
    "sma_s = 15\n",
    "sma_m = 50\n",
    "sma_l = 200\n",
    "units = 0.001\n",
    "position = 0"
   ]
  },
  {
   "cell_type": "code",
   "execution_count": null,
   "id": "01d1ce96",
   "metadata": {},
   "outputs": [],
   "source": [
    "trader = LongShortTrader(symbol = symbol, bar_length = bar_length, sma_s = sma_s, sma_m = sma_m, sma_l = sma_l,\n",
    "                         units = units, position = position)"
   ]
  },
  {
   "cell_type": "markdown",
   "id": "8fe6a0c3",
   "metadata": {},
   "source": [
    "We need at least 200 hours of historical data -> 9 days"
   ]
  },
  {
   "cell_type": "code",
   "execution_count": null,
   "id": "faaf4734",
   "metadata": {},
   "outputs": [],
   "source": [
    "trader.start_trading(historical_days = 9)"
   ]
  },
  {
   "cell_type": "code",
   "execution_count": null,
   "id": "30f8ac60",
   "metadata": {},
   "outputs": [],
   "source": [
    "trader.twm.stop()"
   ]
  },
  {
   "cell_type": "code",
   "execution_count": null,
   "id": "eefcf7b7",
   "metadata": {},
   "outputs": [],
   "source": []
  }
 ],
 "metadata": {
  "kernelspec": {
   "display_name": "Python 3 (ipykernel)",
   "language": "python",
   "name": "python3"
  },
  "language_info": {
   "codemirror_mode": {
    "name": "ipython",
    "version": 3
   },
   "file_extension": ".py",
   "mimetype": "text/x-python",
   "name": "python",
   "nbconvert_exporter": "python",
   "pygments_lexer": "ipython3",
   "version": "3.11.4"
  }
 },
 "nbformat": 4,
 "nbformat_minor": 5
}
