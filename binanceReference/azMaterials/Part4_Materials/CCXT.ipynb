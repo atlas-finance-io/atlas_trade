{
 "cells": [
  {
   "cell_type": "markdown",
   "id": "548e0e4c",
   "metadata": {},
   "source": [
    "# API Trading for many exchanges with CCXT"
   ]
  },
  {
   "cell_type": "markdown",
   "id": "6d566e4e",
   "metadata": {},
   "source": [
    "## Installing required Libraries/Packages"
   ]
  },
  {
   "cell_type": "markdown",
   "id": "b415d673",
   "metadata": {},
   "source": [
    "Install ccxt with:\n",
    "- pip install ccxt"
   ]
  },
  {
   "cell_type": "markdown",
   "id": "a61a77fd",
   "metadata": {},
   "source": [
    "(first: conda update anaconda)"
   ]
  },
  {
   "cell_type": "code",
   "execution_count": null,
   "id": "acfbb8a1",
   "metadata": {},
   "outputs": [],
   "source": []
  },
  {
   "cell_type": "markdown",
   "id": "a8671986",
   "metadata": {},
   "source": [
    "## Introduction"
   ]
  },
  {
   "cell_type": "code",
   "execution_count": null,
   "id": "bb6d0a8e",
   "metadata": {},
   "outputs": [],
   "source": [
    "import ccxt"
   ]
  },
  {
   "cell_type": "code",
   "execution_count": null,
   "id": "e249bc8b",
   "metadata": {},
   "outputs": [],
   "source": [
    "print(ccxt.exchanges) # all supported exchanges"
   ]
  },
  {
   "cell_type": "markdown",
   "id": "41f47f36",
   "metadata": {},
   "source": [
    "__Binance.com (Spot)__"
   ]
  },
  {
   "cell_type": "code",
   "execution_count": null,
   "id": "373355b9",
   "metadata": {},
   "outputs": [],
   "source": [
    "binance = ccxt.binance()\n",
    "binance"
   ]
  },
  {
   "cell_type": "code",
   "execution_count": null,
   "id": "e4e77329",
   "metadata": {},
   "outputs": [],
   "source": [
    "binance."
   ]
  },
  {
   "cell_type": "code",
   "execution_count": null,
   "id": "f6df05fe",
   "metadata": {},
   "outputs": [],
   "source": [
    "binance.fetchTicker(symbol = 'BTC/USDT') # get current market data"
   ]
  },
  {
   "cell_type": "markdown",
   "id": "a612e365",
   "metadata": {},
   "source": [
    "__Binance.US (Spot)__"
   ]
  },
  {
   "cell_type": "code",
   "execution_count": null,
   "id": "c2b1f5b1",
   "metadata": {},
   "outputs": [],
   "source": [
    "binanceus = ccxt.binanceus()\n",
    "binanceus"
   ]
  },
  {
   "cell_type": "code",
   "execution_count": null,
   "id": "d781e1c2",
   "metadata": {},
   "outputs": [],
   "source": [
    "binanceus.fetchTicker(symbol = 'BTC/USD') # get current market data"
   ]
  },
  {
   "cell_type": "markdown",
   "id": "19f210c5",
   "metadata": {},
   "source": [
    "__Binance Futures (USD-margined)__"
   ]
  },
  {
   "cell_type": "code",
   "execution_count": null,
   "id": "2b43376c",
   "metadata": {},
   "outputs": [],
   "source": [
    "binanceusdm = ccxt.binanceusdm()\n",
    "binanceusdm"
   ]
  },
  {
   "cell_type": "code",
   "execution_count": null,
   "id": "1502a6c5",
   "metadata": {},
   "outputs": [],
   "source": [
    "binanceusdm.fetchTicker(symbol = 'BTC/USDT') # get current market data"
   ]
  },
  {
   "cell_type": "markdown",
   "id": "5ff11dd2",
   "metadata": {},
   "source": [
    "__Binance Futures (Coin-margined)__"
   ]
  },
  {
   "cell_type": "code",
   "execution_count": null,
   "id": "700e4ff9",
   "metadata": {},
   "outputs": [],
   "source": [
    "binancecoinm = ccxt.binancecoinm()\n",
    "binancecoinm"
   ]
  },
  {
   "cell_type": "code",
   "execution_count": null,
   "id": "04926900",
   "metadata": {},
   "outputs": [],
   "source": [
    "binancecoinm.fetchTicker(symbol = 'BTC/USD') # get current market data"
   ]
  },
  {
   "cell_type": "markdown",
   "id": "6ed3ec3e",
   "metadata": {},
   "source": [
    "__coinbasepro__"
   ]
  },
  {
   "cell_type": "code",
   "execution_count": null,
   "id": "ac9d190e",
   "metadata": {},
   "outputs": [],
   "source": [
    "coinbasepro = ccxt.coinbasepro()\n",
    "coinbasepro"
   ]
  },
  {
   "cell_type": "code",
   "execution_count": null,
   "id": "169c4bdc",
   "metadata": {},
   "outputs": [],
   "source": [
    "coinbasepro.fetchTicker(symbol = 'BTC/USDT') # get current market data"
   ]
  },
  {
   "cell_type": "markdown",
   "id": "ea241525",
   "metadata": {},
   "source": [
    "__FTX.com__ # removed"
   ]
  },
  {
   "cell_type": "code",
   "execution_count": null,
   "id": "9c0095bb",
   "metadata": {},
   "outputs": [],
   "source": [
    "ftx = ccxt.ftx() # removed\n",
    "ftx"
   ]
  },
  {
   "cell_type": "code",
   "execution_count": null,
   "id": "34182e96",
   "metadata": {},
   "outputs": [],
   "source": [
    "ftx.fetchTicker(symbol = 'BTC/USDT') # get current market data"
   ]
  },
  {
   "cell_type": "markdown",
   "id": "ebb19976",
   "metadata": {},
   "source": [
    "__FTX.US__ # removed"
   ]
  },
  {
   "cell_type": "code",
   "execution_count": null,
   "id": "0ed83fac",
   "metadata": {},
   "outputs": [],
   "source": [
    "ftxus = ccxt.ftxus() # removed\n",
    "ftxus"
   ]
  },
  {
   "cell_type": "code",
   "execution_count": null,
   "id": "48053c0e",
   "metadata": {},
   "outputs": [],
   "source": [
    "ftxus.fetchTicker(symbol = 'BTC/USDT') # get current market data"
   ]
  },
  {
   "cell_type": "code",
   "execution_count": null,
   "id": "46dd636e",
   "metadata": {},
   "outputs": [],
   "source": []
  },
  {
   "cell_type": "markdown",
   "id": "95f5a154",
   "metadata": {},
   "source": [
    "__bybit__"
   ]
  },
  {
   "cell_type": "code",
   "execution_count": null,
   "id": "71197815",
   "metadata": {},
   "outputs": [],
   "source": [
    "bybit = ccxt.bybit()\n",
    "bybit"
   ]
  },
  {
   "cell_type": "code",
   "execution_count": null,
   "id": "2aca4698",
   "metadata": {},
   "outputs": [],
   "source": [
    "bybit.fetchTicker(symbol = 'BTC/USDT') # get current market data"
   ]
  },
  {
   "cell_type": "code",
   "execution_count": null,
   "id": "682cb75c",
   "metadata": {},
   "outputs": [],
   "source": []
  },
  {
   "cell_type": "markdown",
   "id": "dfb02599",
   "metadata": {},
   "source": [
    "__kraken__"
   ]
  },
  {
   "cell_type": "code",
   "execution_count": null,
   "id": "797d72a1",
   "metadata": {},
   "outputs": [],
   "source": [
    "kraken = ccxt.kraken()\n",
    "kraken"
   ]
  },
  {
   "cell_type": "code",
   "execution_count": null,
   "id": "aa69ad29",
   "metadata": {},
   "outputs": [],
   "source": [
    "kraken.fetchTicker(symbol = 'BTC/USDT') # get current market data"
   ]
  },
  {
   "cell_type": "code",
   "execution_count": null,
   "id": "f79e9ad0",
   "metadata": {},
   "outputs": [],
   "source": []
  },
  {
   "cell_type": "markdown",
   "id": "325a38bd",
   "metadata": {},
   "source": [
    "## General Exchange Information"
   ]
  },
  {
   "cell_type": "code",
   "execution_count": null,
   "id": "24dd0a4d",
   "metadata": {},
   "outputs": [],
   "source": [
    "import ccxt\n",
    "import pandas as pd"
   ]
  },
  {
   "cell_type": "code",
   "execution_count": null,
   "id": "be669e96",
   "metadata": {},
   "outputs": [],
   "source": [
    "binance = ccxt.binance()\n",
    "binance"
   ]
  },
  {
   "cell_type": "code",
   "execution_count": null,
   "id": "3257b478",
   "metadata": {},
   "outputs": [],
   "source": [
    "binance.id"
   ]
  },
  {
   "cell_type": "code",
   "execution_count": null,
   "id": "00d6319a",
   "metadata": {
    "scrolled": true
   },
   "outputs": [],
   "source": [
    "binance.name"
   ]
  },
  {
   "cell_type": "code",
   "execution_count": null,
   "id": "0dffdad1",
   "metadata": {},
   "outputs": [],
   "source": [
    "binance.has # most important/common methods among the exchanges (\"Unified API\")"
   ]
  },
  {
   "cell_type": "code",
   "execution_count": null,
   "id": "263ebd66",
   "metadata": {},
   "outputs": [],
   "source": [
    "binance.timeframes # available timeframes / frequencies"
   ]
  },
  {
   "cell_type": "code",
   "execution_count": null,
   "id": "8fe4c52c",
   "metadata": {
    "scrolled": true
   },
   "outputs": [],
   "source": [
    "binance.loadMarkets() # available currency pairs"
   ]
  },
  {
   "cell_type": "code",
   "execution_count": null,
   "id": "629aec8d",
   "metadata": {},
   "outputs": [],
   "source": [
    "binance.loadMarkets()[\"BTC/USDT\"] # get more info on a specific pair"
   ]
  },
  {
   "cell_type": "code",
   "execution_count": null,
   "id": "3036b87a",
   "metadata": {},
   "outputs": [],
   "source": [
    "pd.DataFrame(binance.loadMarkets()).T"
   ]
  },
  {
   "cell_type": "code",
   "execution_count": null,
   "id": "d3cf3a0c",
   "metadata": {},
   "outputs": [],
   "source": [
    "binance.symbols # currency pairs (just symbol)"
   ]
  },
  {
   "cell_type": "code",
   "execution_count": null,
   "id": "3a0fb8f2",
   "metadata": {},
   "outputs": [],
   "source": [
    "len(binance.symbols)"
   ]
  },
  {
   "cell_type": "code",
   "execution_count": null,
   "id": "90e1575e",
   "metadata": {},
   "outputs": [],
   "source": [
    "binance.currencies # info on coins"
   ]
  },
  {
   "cell_type": "code",
   "execution_count": null,
   "id": "fcdf3484",
   "metadata": {},
   "outputs": [],
   "source": []
  },
  {
   "cell_type": "markdown",
   "id": "f33dafb1",
   "metadata": {},
   "source": [
    "## Public API"
   ]
  },
  {
   "cell_type": "markdown",
   "id": "4553348f",
   "metadata": {},
   "source": [
    "Public -> we don´t need an account/api-keys to pull market data"
   ]
  },
  {
   "cell_type": "code",
   "execution_count": null,
   "id": "298b7cff",
   "metadata": {},
   "outputs": [],
   "source": [
    "import ccxt\n",
    "import pandas as pd"
   ]
  },
  {
   "cell_type": "code",
   "execution_count": null,
   "id": "91839ab3",
   "metadata": {},
   "outputs": [],
   "source": [
    "binance = ccxt.binance()\n",
    "binance"
   ]
  },
  {
   "cell_type": "code",
   "execution_count": null,
   "id": "36626f64",
   "metadata": {},
   "outputs": [],
   "source": [
    "binance.has"
   ]
  },
  {
   "cell_type": "code",
   "execution_count": null,
   "id": "a4db4c61",
   "metadata": {},
   "outputs": [],
   "source": [
    "binance.fetchTicker(symbol = 'BTC/USDT') # get current market data for one symbol"
   ]
  },
  {
   "cell_type": "code",
   "execution_count": null,
   "id": "27a21eea",
   "metadata": {},
   "outputs": [],
   "source": [
    "binance.fetchTickers(symbols = ['BTC/USDT', \"ETH/USDT\"])  # get current market data for many symbols"
   ]
  },
  {
   "cell_type": "code",
   "execution_count": null,
   "id": "a0f9157c",
   "metadata": {},
   "outputs": [],
   "source": [
    "binance.fetchOHLCV(symbol = \"BTC/USDT\", timeframe = \"1d\", limit = 1000) # OHLCV for one symbol"
   ]
  },
  {
   "cell_type": "code",
   "execution_count": null,
   "id": "a33b887c",
   "metadata": {},
   "outputs": [],
   "source": [
    "# OHLCV for one symbol (index)\n",
    "# index price == bucket of prices from the major exchanges\n",
    "binance.fetchIndexOHLCV(symbol = \"BTC/USDT\", timeframe = \"1d\", limit = 1000)"
   ]
  },
  {
   "cell_type": "code",
   "execution_count": null,
   "id": "55b0bbce",
   "metadata": {},
   "outputs": [],
   "source": [
    "binance.fetchOrderBook(symbol = \"BTC/USDT\") # current Order Book for one symbol"
   ]
  },
  {
   "cell_type": "code",
   "execution_count": null,
   "id": "da1f13b4",
   "metadata": {
    "scrolled": true
   },
   "outputs": [],
   "source": [
    "binance.fetchTrades(symbol = \"BTC/USDT\") # most recent Trades for one symbol"
   ]
  },
  {
   "cell_type": "code",
   "execution_count": null,
   "id": "31a47939",
   "metadata": {},
   "outputs": [],
   "source": []
  },
  {
   "cell_type": "markdown",
   "id": "05685c72",
   "metadata": {},
   "source": [
    "## Loading Historical Data (Part 1)"
   ]
  },
  {
   "cell_type": "code",
   "execution_count": null,
   "id": "e579a797",
   "metadata": {},
   "outputs": [],
   "source": [
    "import ccxt\n",
    "import pandas as pd"
   ]
  },
  {
   "cell_type": "code",
   "execution_count": null,
   "id": "9c112dd3",
   "metadata": {},
   "outputs": [],
   "source": [
    "binance = ccxt.binance()\n",
    "binance"
   ]
  },
  {
   "cell_type": "code",
   "execution_count": null,
   "id": "18643a20",
   "metadata": {},
   "outputs": [],
   "source": [
    "binance.timeframes"
   ]
  },
  {
   "cell_type": "code",
   "execution_count": null,
   "id": "599ea509",
   "metadata": {},
   "outputs": [],
   "source": [
    "# last 1000 bars (max. 1000)\n",
    "data = binance.fetchOHLCV(symbol = \"BTC/USDT\", timeframe = \"1d\", limit = 1000) \n",
    "data"
   ]
  },
  {
   "cell_type": "code",
   "execution_count": null,
   "id": "956f5e6f",
   "metadata": {},
   "outputs": [],
   "source": [
    "len(data)"
   ]
  },
  {
   "cell_type": "code",
   "execution_count": null,
   "id": "e17e27e4",
   "metadata": {},
   "outputs": [],
   "source": [
    "start = \"2020-05-15 00:00:00\" # UTC time"
   ]
  },
  {
   "cell_type": "code",
   "execution_count": null,
   "id": "bdab75f1",
   "metadata": {},
   "outputs": [],
   "source": [
    "unix = binance.parse8601(start)\n",
    "unix"
   ]
  },
  {
   "cell_type": "code",
   "execution_count": null,
   "id": "53fabb5b",
   "metadata": {},
   "outputs": [],
   "source": [
    "binance.iso8601(unix)"
   ]
  },
  {
   "cell_type": "code",
   "execution_count": null,
   "id": "724b09a3",
   "metadata": {
    "scrolled": true
   },
   "outputs": [],
   "source": [
    "# since ... but max 1000 bars \n",
    "data = binance.fetchOHLCV(symbol = \"BTC/USDT\", timeframe = \"1d\", since = unix, limit = 1000) \n",
    "data"
   ]
  },
  {
   "cell_type": "code",
   "execution_count": null,
   "id": "0b09ea53",
   "metadata": {},
   "outputs": [],
   "source": [
    "len(data)"
   ]
  },
  {
   "cell_type": "code",
   "execution_count": null,
   "id": "4067f5a6",
   "metadata": {},
   "outputs": [],
   "source": [
    "def get_history(symbol, interval, start = None, limit = 1000):\n",
    "    \n",
    "    if start:\n",
    "        start = binance.parse8601(start)\n",
    "    \n",
    "    data = binance.fetchOHLCV(symbol = symbol, timeframe = interval, since = start, limit = limit)\n",
    "    \n",
    "    df = pd.DataFrame(data)\n",
    "    df.columns = [\"Date\", \"Open\", \"High\", \"Low\", \"Close\", \"Volume\"]\n",
    "    df.Date = pd.to_datetime(df.Date, unit = \"ms\")\n",
    "    df.set_index(\"Date\", inplace = True)\n",
    "\n",
    "    return df"
   ]
  },
  {
   "cell_type": "code",
   "execution_count": null,
   "id": "77301509",
   "metadata": {},
   "outputs": [],
   "source": [
    "df = get_history(symbol = \"BTC/USDT\", interval = \"1h\", limit = 1000) # last x bars\n",
    "df"
   ]
  },
  {
   "cell_type": "code",
   "execution_count": null,
   "id": "0f9c82c4",
   "metadata": {},
   "outputs": [],
   "source": [
    "df.info()"
   ]
  },
  {
   "cell_type": "code",
   "execution_count": null,
   "id": "5a9fc8ed",
   "metadata": {},
   "outputs": [],
   "source": [
    "start = \"2021-11-15 09:00:00\""
   ]
  },
  {
   "cell_type": "code",
   "execution_count": null,
   "id": "3eed4126",
   "metadata": {},
   "outputs": [],
   "source": [
    "# since ... but max 1000 bars\n",
    "df = get_history(symbol = \"BTC/USDT\", interval = \"1h\", start = start, limit = 1000) \n",
    "df"
   ]
  },
  {
   "cell_type": "code",
   "execution_count": null,
   "id": "165c9b93",
   "metadata": {},
   "outputs": [],
   "source": [
    "start = \"2020-11-15 09:00:00\""
   ]
  },
  {
   "cell_type": "code",
   "execution_count": null,
   "id": "17e8430b",
   "metadata": {},
   "outputs": [],
   "source": [
    "# since ... but max 1000 bars\n",
    "df = get_history(symbol = \"BTC/USDT\", interval = \"1h\", start = start, limit = 1000)\n",
    "df"
   ]
  },
  {
   "cell_type": "code",
   "execution_count": null,
   "id": "1a43260a",
   "metadata": {},
   "outputs": [],
   "source": []
  },
  {
   "cell_type": "markdown",
   "id": "9a8999e0",
   "metadata": {},
   "source": [
    "## Loading Historical Data (Part 2)"
   ]
  },
  {
   "cell_type": "markdown",
   "id": "38847744",
   "metadata": {},
   "source": [
    "Solution: Loading data in batches of 1,000 bars each (until we reach the current bar)"
   ]
  },
  {
   "cell_type": "code",
   "execution_count": null,
   "id": "58c2794e",
   "metadata": {},
   "outputs": [],
   "source": [
    "import time"
   ]
  },
  {
   "cell_type": "code",
   "execution_count": null,
   "id": "1a83469a",
   "metadata": {},
   "outputs": [],
   "source": [
    "def get_history(symbol, interval, start = None, limit = 1000):\n",
    "    \n",
    "    if start:\n",
    "        start = binance.parse8601(start)\n",
    "    \n",
    "    data = binance.fetchOHLCV(symbol = symbol, timeframe = interval, since = start, limit = limit)\n",
    "    last_bar_actual = data[-1][0] # timestamp of last loaded bar\n",
    "    \n",
    "    # timestamp of current bar \n",
    "    last_bar_target = binance.fetchOHLCV(symbol = symbol, timeframe = interval, limit = 2)[-1][0]\n",
    "    \n",
    "    # as long as we don´t have all bars (most recent): let´s pull the next 1000 bars\n",
    "    while last_bar_target != last_bar_actual: \n",
    "        \n",
    "        time.sleep(0.1)\n",
    "        data_add = binance.fetchOHLCV(symbol = symbol, timeframe = interval,\n",
    "                                      since = last_bar_actual, limit = limit)\n",
    "        data += data_add[1:]\n",
    "        last_bar_actual = data[-1][0]\n",
    "        last_bar_target = binance.fetchOHLCV(symbol = symbol, timeframe = interval, limit = 2)[-1][0]      \n",
    "    \n",
    "    df = pd.DataFrame(data)\n",
    "    df.columns = [\"Date\", \"Open\", \"High\", \"Low\", \"Close\", \"Volume\"]\n",
    "    df.Date = pd.to_datetime(df.Date, unit = \"ms\")\n",
    "    df.set_index(\"Date\", inplace = True)\n",
    "\n",
    "    return df"
   ]
  },
  {
   "cell_type": "code",
   "execution_count": null,
   "id": "6d699f32",
   "metadata": {},
   "outputs": [],
   "source": [
    "start = \"2020-11-15 09:00:00\""
   ]
  },
  {
   "cell_type": "code",
   "execution_count": null,
   "id": "20fa863c",
   "metadata": {},
   "outputs": [],
   "source": [
    "# since ... but max 1000 bars\n",
    "df = get_history(symbol = \"BTC/USDT\", interval = \"1h\", start = start, limit = 1000)\n",
    "df"
   ]
  },
  {
   "cell_type": "code",
   "execution_count": null,
   "id": "fd2c09c8",
   "metadata": {},
   "outputs": [],
   "source": [
    "df.info()"
   ]
  },
  {
   "cell_type": "code",
   "execution_count": null,
   "id": "d54b0a8e",
   "metadata": {},
   "outputs": [],
   "source": [
    "df.index.is_unique"
   ]
  },
  {
   "cell_type": "code",
   "execution_count": null,
   "id": "737cad8b",
   "metadata": {},
   "outputs": [],
   "source": []
  },
  {
   "cell_type": "markdown",
   "id": "d4c07f8b",
   "metadata": {},
   "source": [
    "## Streaming real-time Data (Part 1)"
   ]
  },
  {
   "cell_type": "markdown",
   "id": "d088c370",
   "metadata": {},
   "source": [
    "Problem: Websocket API is not available in free version"
   ]
  },
  {
   "cell_type": "markdown",
   "id": "5c08ad6c",
   "metadata": {},
   "source": [
    "-> Not a Problem if we don´t need (ultra) High-Frequency Data (many updates per second with very low latency)"
   ]
  },
  {
   "cell_type": "markdown",
   "id": "d033fb77",
   "metadata": {},
   "source": [
    "Solution: frequently pull last/most current bar via the Rest API"
   ]
  },
  {
   "cell_type": "markdown",
   "id": "5816e51f",
   "metadata": {},
   "source": [
    "-> We need to be careful with API Rate limits (maximum number of calls) "
   ]
  },
  {
   "cell_type": "code",
   "execution_count": null,
   "id": "839b10dc",
   "metadata": {},
   "outputs": [],
   "source": [
    "import ccxt\n",
    "import pandas as pd\n",
    "import time"
   ]
  },
  {
   "cell_type": "code",
   "execution_count": null,
   "id": "5e66a934",
   "metadata": {},
   "outputs": [],
   "source": [
    "binance = ccxt.binance()\n",
    "binance"
   ]
  },
  {
   "cell_type": "code",
   "execution_count": null,
   "id": "fad344f6",
   "metadata": {},
   "outputs": [],
   "source": [
    "for i in range(10):\n",
    "    data = binance.fetchOHLCV(symbol = \"BTC/USDT\", timeframe = \"1m\", limit = 1)\n",
    "    print(data)\n",
    "    time.sleep(1)"
   ]
  },
  {
   "cell_type": "code",
   "execution_count": null,
   "id": "2f900d5a",
   "metadata": {},
   "outputs": [],
   "source": [
    "def start_kline_stream(callback, symbol, interval):\n",
    "    \n",
    "    for i in range(10):\n",
    "        msg = binance.fetchOHLCV(symbol = symbol, timeframe = interval, limit = 1)\n",
    "        \n",
    "        if len(msg) == 0:\n",
    "            print(\"No data received\")\n",
    "        else:\n",
    "            callback(msg)\n",
    "    \n",
    "        time.sleep(1)"
   ]
  },
  {
   "cell_type": "code",
   "execution_count": null,
   "id": "a15c1271",
   "metadata": {},
   "outputs": [],
   "source": [
    "def stream_candles(msg):\n",
    "    # defines how to process the msg\n",
    "    \n",
    "    print(msg)"
   ]
  },
  {
   "cell_type": "code",
   "execution_count": null,
   "id": "6780029c",
   "metadata": {},
   "outputs": [],
   "source": [
    "start_kline_stream(callback = stream_candles, symbol = \"BTC/USDT\", interval = \"1m\")"
   ]
  },
  {
   "cell_type": "code",
   "execution_count": null,
   "id": "9c368417",
   "metadata": {},
   "outputs": [],
   "source": []
  },
  {
   "cell_type": "markdown",
   "id": "362cf86e",
   "metadata": {},
   "source": [
    "## Introduction to Multithreaded Programming"
   ]
  },
  {
   "cell_type": "markdown",
   "id": "aa5522dd",
   "metadata": {},
   "source": [
    "Goal: Running multiple tasks/sub-programs in parallel (simultaniously)"
   ]
  },
  {
   "cell_type": "code",
   "execution_count": null,
   "id": "e9482a20",
   "metadata": {},
   "outputs": [],
   "source": [
    "import time"
   ]
  },
  {
   "cell_type": "code",
   "execution_count": null,
   "id": "6a129a2a",
   "metadata": {},
   "outputs": [],
   "source": [
    "def print_integers(start, stop):\n",
    "    for i in range(start, stop):\n",
    "        print(i)\n",
    "        time.sleep(1)"
   ]
  },
  {
   "cell_type": "code",
   "execution_count": null,
   "id": "be0fc2d7",
   "metadata": {},
   "outputs": [],
   "source": [
    "print_integers(1, 10) # task 1"
   ]
  },
  {
   "cell_type": "code",
   "execution_count": null,
   "id": "3e18b731",
   "metadata": {},
   "outputs": [],
   "source": [
    "# task 2\n",
    "a = 5 + 8\n",
    "print(\"a is {}.\".format(a))"
   ]
  },
  {
   "cell_type": "code",
   "execution_count": null,
   "id": "81eb466f",
   "metadata": {},
   "outputs": [],
   "source": [
    "from threading import Thread"
   ]
  },
  {
   "cell_type": "code",
   "execution_count": null,
   "id": "5c727013",
   "metadata": {},
   "outputs": [],
   "source": [
    "thread = Thread(target = print_integers, args = (1, 10))\n",
    "thread"
   ]
  },
  {
   "cell_type": "code",
   "execution_count": null,
   "id": "e3bf25d6",
   "metadata": {},
   "outputs": [],
   "source": [
    "thread.start() # task 1"
   ]
  },
  {
   "cell_type": "code",
   "execution_count": null,
   "id": "acd1f207",
   "metadata": {},
   "outputs": [],
   "source": [
    "# task 2\n",
    "a = 5 + 8\n",
    "print(\"a is {}.\".format(a))"
   ]
  },
  {
   "cell_type": "code",
   "execution_count": null,
   "id": "003be92f",
   "metadata": {},
   "outputs": [],
   "source": []
  },
  {
   "cell_type": "markdown",
   "id": "b8df8033",
   "metadata": {},
   "source": [
    "## Streaming real-time Data (Part 2)"
   ]
  },
  {
   "cell_type": "code",
   "execution_count": null,
   "id": "c84d2a62",
   "metadata": {},
   "outputs": [],
   "source": [
    "import ccxt\n",
    "import pandas as pd\n",
    "import time\n",
    "from threading import Thread"
   ]
  },
  {
   "cell_type": "code",
   "execution_count": null,
   "id": "fb3cc363",
   "metadata": {},
   "outputs": [],
   "source": [
    "binance = ccxt.binance()\n",
    "binance"
   ]
  },
  {
   "cell_type": "code",
   "execution_count": null,
   "id": "5f412fa1",
   "metadata": {},
   "outputs": [],
   "source": [
    "def start_kline_stream(callback, symbol, interval):\n",
    "    \n",
    "    global running\n",
    "    running = True\n",
    "    \n",
    "    while running == True:\n",
    "        msg = binance.fetchOHLCV(symbol = symbol, timeframe = interval, limit = 1)\n",
    "        \n",
    "        if len(msg) == 0:\n",
    "            print(\"No data received\")\n",
    "        else:\n",
    "            callback(msg)\n",
    "    \n",
    "        time.sleep(1)"
   ]
  },
  {
   "cell_type": "code",
   "execution_count": null,
   "id": "d4e96044",
   "metadata": {},
   "outputs": [],
   "source": [
    "def stream_candles(msg):\n",
    "    # defines how to process the msg\n",
    "    \n",
    "    print(msg)"
   ]
  },
  {
   "cell_type": "code",
   "execution_count": null,
   "id": "d3d5591e",
   "metadata": {},
   "outputs": [],
   "source": [
    "def stop_stream():\n",
    "    global running\n",
    "    running = False"
   ]
  },
  {
   "cell_type": "code",
   "execution_count": null,
   "id": "cad02827",
   "metadata": {},
   "outputs": [],
   "source": [
    "thread = Thread(target = start_kline_stream, args = (stream_candles, \"BTC/USDT\", \"1m\"))\n",
    "thread"
   ]
  },
  {
   "cell_type": "code",
   "execution_count": null,
   "id": "f2740164",
   "metadata": {},
   "outputs": [],
   "source": [
    "thread.start()"
   ]
  },
  {
   "cell_type": "code",
   "execution_count": null,
   "id": "1e5d9093",
   "metadata": {},
   "outputs": [],
   "source": [
    "stop_stream()"
   ]
  },
  {
   "cell_type": "code",
   "execution_count": null,
   "id": "e368a1b9",
   "metadata": {},
   "outputs": [],
   "source": []
  },
  {
   "cell_type": "markdown",
   "id": "2c8e5e8f",
   "metadata": {},
   "source": [
    "## Streaming real-time Data (Part 3)"
   ]
  },
  {
   "cell_type": "code",
   "execution_count": null,
   "id": "23fffb1d",
   "metadata": {},
   "outputs": [],
   "source": [
    "df = pd.DataFrame(columns = [\"Open\", \"High\", \"Low\", \"Close\", \"Volume\"])\n",
    "df"
   ]
  },
  {
   "cell_type": "code",
   "execution_count": null,
   "id": "3abb4eff",
   "metadata": {},
   "outputs": [],
   "source": [
    "def stream_candles(msg):\n",
    "    # defines how to process the msg\n",
    "    \n",
    "    # extract data form msg\n",
    "    start_time = pd.to_datetime(msg[0][0], unit = \"ms\")\n",
    "    first = msg[0][1]\n",
    "    high = msg[0][2]\n",
    "    low = msg[0][3]\n",
    "    close  = msg[0][4]\n",
    "    volume = msg[0][5]\n",
    "    \n",
    "    # feed df\n",
    "    df.loc[start_time] = [first, high, low, close, volume]\n",
    "    \n",
    "    # print something\n",
    "    print(\".\", end = \"\", flush = True)"
   ]
  },
  {
   "cell_type": "code",
   "execution_count": null,
   "id": "ab012340",
   "metadata": {},
   "outputs": [],
   "source": [
    "thread = Thread(target = start_kline_stream, args = (stream_candles, \"BTC/USDT\", \"1m\"))\n",
    "thread"
   ]
  },
  {
   "cell_type": "code",
   "execution_count": null,
   "id": "fe21b697",
   "metadata": {},
   "outputs": [],
   "source": [
    "thread.start()"
   ]
  },
  {
   "cell_type": "code",
   "execution_count": null,
   "id": "f3eba5b8",
   "metadata": {},
   "outputs": [],
   "source": [
    "stop_stream()"
   ]
  },
  {
   "cell_type": "code",
   "execution_count": null,
   "id": "0b897f90",
   "metadata": {},
   "outputs": [],
   "source": [
    "df"
   ]
  },
  {
   "cell_type": "code",
   "execution_count": null,
   "id": "b329597a",
   "metadata": {},
   "outputs": [],
   "source": []
  },
  {
   "cell_type": "markdown",
   "id": "85a4fa8a",
   "metadata": {},
   "source": [
    "## Get Historical Data and Stream live Data"
   ]
  },
  {
   "cell_type": "code",
   "execution_count": null,
   "id": "ad61fcbf",
   "metadata": {},
   "outputs": [],
   "source": [
    "import ccxt\n",
    "import pandas as pd\n",
    "import time\n",
    "from threading import Thread"
   ]
  },
  {
   "cell_type": "code",
   "execution_count": null,
   "id": "f1657683",
   "metadata": {},
   "outputs": [],
   "source": [
    "exchange = ccxt.binance()\n",
    "exchange"
   ]
  },
  {
   "cell_type": "code",
   "execution_count": null,
   "id": "6951fcb4",
   "metadata": {},
   "outputs": [],
   "source": [
    "class CCXTTrader(): # without execution code\n",
    "    \n",
    "    def __init__(self, symbol, bar_length):\n",
    "        \n",
    "        self.symbol = symbol\n",
    "        self.bar_length = bar_length\n",
    "        self.get_available_intervals()\n",
    "    \n",
    "    def get_available_intervals(self):\n",
    "        \n",
    "        l = []\n",
    "        for key, value in exchange.timeframes.items():\n",
    "            l.append(key)\n",
    "        self.available_intervals = l\n",
    "    \n",
    "    def start_trading(self, start = None, hist_bars = None):\n",
    "        \n",
    "        if not hist_bars:\n",
    "            hist_bars = 1000\n",
    "        \n",
    "        if self.bar_length in self.available_intervals:\n",
    "            self.get_most_recent(symbol = self.symbol, interval = self.bar_length,\n",
    "                                 start = start, limit = hist_bars)\n",
    "            thread = Thread(target = self.start_kline_stream, args = (self.stream_candles, self.symbol, self.bar_length))\n",
    "            thread.start()\n",
    "            \n",
    "        # \"else\" to be added later in the course \n",
    "    \n",
    "    def get_most_recent(self, symbol, interval, start, limit):\n",
    "        \n",
    "        if start:\n",
    "            start = exchange.parse8601(start)\n",
    "    \n",
    "        data = exchange.fetchOHLCV(symbol = symbol, timeframe = interval, since = start, limit = limit)\n",
    "        last_bar_actual = data[-1][0]\n",
    "    \n",
    "        # timestamp of current bar\n",
    "        last_bar_target = exchange.fetchOHLCV(symbol = symbol, timeframe = interval, limit = 2)[-1][0]\n",
    "    \n",
    "        # as long as we don´t have all bars (most recent): let´s pull the next 1000 bars\n",
    "        while last_bar_target != last_bar_actual:\n",
    "        \n",
    "            time.sleep(0.1)\n",
    "            data_add = exchange.fetchOHLCV(symbol = symbol, timeframe = interval, since = last_bar_actual, limit = limit)\n",
    "            data += data_add[1:]\n",
    "            last_bar_actual = data[-1][0]\n",
    "            last_bar_target = exchange.fetchOHLCV(symbol = symbol, timeframe = interval, limit = 2)[-1][0]      \n",
    "    \n",
    "        df = pd.DataFrame(data)\n",
    "        df.columns = [\"Date\", \"Open\", \"High\", \"Low\", \"Close\", \"Volume\"]\n",
    "        df.Date = pd.to_datetime(df.Date, unit = \"ms\")\n",
    "        df.set_index(\"Date\", inplace = True)\n",
    "        df[\"Complete\"] = [True for row in range(len(df)-1)] + [False]\n",
    "        self.last_bar = df.index[-1]\n",
    "\n",
    "        self.data = df\n",
    "        \n",
    "    def stream_candles(self, msg):\n",
    "        # defines how to process the msg\n",
    "    \n",
    "        # extract data form msg\n",
    "        start_time = pd.to_datetime(msg[-1][0], unit = \"ms\")\n",
    "        first = msg[-1][1]\n",
    "        high = msg[-1][2]\n",
    "        low = msg[-1][3]\n",
    "        close  = msg[-1][4]\n",
    "        volume = msg[-1][5]\n",
    "        \n",
    "        # check if a bar is complete\n",
    "        if start_time == self.last_bar: # not complete\n",
    "            complete = False\n",
    "        else: # complete\n",
    "            complete = True\n",
    "            if len(msg) == 2:\n",
    "                self.data.loc[self.last_bar] = [msg[0][1], msg[0][2], msg[0][3], msg[0][4], msg[0][5], complete]\n",
    "            else:\n",
    "                self.data.loc[self.last_bar, \"Complete\"] = complete\n",
    "            self.last_bar = start_time\n",
    "        \n",
    "        # print something\n",
    "        print(\".\", end = \"\", flush = True)\n",
    "        \n",
    "        # feed df with latest bar\n",
    "        self.data.loc[start_time] = [first, high, low, close, volume, False]\n",
    "        \n",
    "        # if a bar is complete, define strategy and trade\n",
    "        if complete == True:\n",
    "            print(\"\\n\", \"Define Strategy and execute Trades\") # just a placeholder\n",
    "            #self.define_strategy()\n",
    "            #self.execute_trades()\n",
    "    \n",
    "    def start_kline_stream(self, callback, symbol, interval):\n",
    "    \n",
    "        self.running = True\n",
    "    \n",
    "        while self.running == True:\n",
    "            msg = exchange.fetchOHLCV(symbol = symbol, timeframe = interval, limit = 2)\n",
    "        \n",
    "            if len(msg) == 0:\n",
    "                print(\"No data received\")\n",
    "            else:\n",
    "                callback(msg)\n",
    "    \n",
    "            time.sleep(1)\n",
    "    \n",
    "    def stop_stream(self):\n",
    "        self.running = False        "
   ]
  },
  {
   "cell_type": "code",
   "execution_count": null,
   "id": "54741cfd",
   "metadata": {},
   "outputs": [],
   "source": [
    "trader = CCXTTrader(symbol = \"BTC/USDT\", bar_length = \"1m\")\n",
    "trader"
   ]
  },
  {
   "cell_type": "code",
   "execution_count": null,
   "id": "b16933b8",
   "metadata": {},
   "outputs": [],
   "source": [
    "trader.start_trading(start = None, hist_bars = 10)"
   ]
  },
  {
   "cell_type": "code",
   "execution_count": null,
   "id": "e4fb35d5",
   "metadata": {},
   "outputs": [],
   "source": [
    "trader.stop_stream()"
   ]
  },
  {
   "cell_type": "code",
   "execution_count": null,
   "id": "85f08865",
   "metadata": {},
   "outputs": [],
   "source": [
    "trader.data"
   ]
  },
  {
   "cell_type": "code",
   "execution_count": null,
   "id": "67d9e839",
   "metadata": {},
   "outputs": [],
   "source": []
  },
  {
   "cell_type": "markdown",
   "id": "3979dc6f",
   "metadata": {},
   "source": [
    "## Private API"
   ]
  },
  {
   "cell_type": "code",
   "execution_count": null,
   "id": "bfe12233",
   "metadata": {},
   "outputs": [],
   "source": [
    "import ccxt\n",
    "import pandas as pd"
   ]
  },
  {
   "cell_type": "code",
   "execution_count": null,
   "id": "f3c8a974",
   "metadata": {},
   "outputs": [],
   "source": [
    "binance = ccxt.binance() # in case you have a binance.us account: ccxt.binanceus()\n",
    "binance"
   ]
  },
  {
   "cell_type": "markdown",
   "id": "2ac1e855",
   "metadata": {},
   "source": [
    "__Copy/Paste your (real account) login credentials here:__"
   ]
  },
  {
   "cell_type": "code",
   "execution_count": null,
   "id": "e0f40255",
   "metadata": {},
   "outputs": [],
   "source": [
    "api_key = \"insert here\"\n",
    "secret_key = \"insert here\""
   ]
  },
  {
   "cell_type": "code",
   "execution_count": null,
   "id": "b0367d22",
   "metadata": {},
   "outputs": [],
   "source": [
    "binance.apiKey = api_key\n",
    "binance.secret = secret_key"
   ]
  },
  {
   "cell_type": "code",
   "execution_count": null,
   "id": "a3e1c135",
   "metadata": {
    "scrolled": true
   },
   "outputs": [],
   "source": [
    "binance.fetchBalance()[\"info\"][\"balances\"] # get asset balances"
   ]
  },
  {
   "cell_type": "code",
   "execution_count": null,
   "id": "82c71603",
   "metadata": {},
   "outputs": [],
   "source": [
    "trades = binance.fetchMyTrades(symbol = \"LINK/BUSD\") # recent trades\n",
    "trades"
   ]
  },
  {
   "cell_type": "code",
   "execution_count": null,
   "id": "a451c29d",
   "metadata": {},
   "outputs": [],
   "source": [
    "order_id = trades[0][\"order\"]\n",
    "order_id"
   ]
  },
  {
   "cell_type": "code",
   "execution_count": null,
   "id": "497ed926",
   "metadata": {},
   "outputs": [],
   "source": [
    "binance.fetchOrder(id = order_id, symbol = \"LINK/BUSD\") # specific order (id)"
   ]
  },
  {
   "cell_type": "code",
   "execution_count": null,
   "id": "e8b65437",
   "metadata": {},
   "outputs": [],
   "source": [
    "binance.fetchOrders(symbol = \"LINK/BUSD\") # recent orders"
   ]
  },
  {
   "cell_type": "code",
   "execution_count": null,
   "id": "4a394629",
   "metadata": {},
   "outputs": [],
   "source": [
    "binance.fetchOpenOrders(symbol = \"LINK/BUSD\") # open orders"
   ]
  },
  {
   "cell_type": "code",
   "execution_count": null,
   "id": "26155a7f",
   "metadata": {},
   "outputs": [],
   "source": [
    "binance.fetchClosedOrders(symbol = \"LINK/BUSD\") # closed orders"
   ]
  },
  {
   "cell_type": "code",
   "execution_count": null,
   "id": "0ca2bc0f",
   "metadata": {},
   "outputs": [],
   "source": []
  },
  {
   "cell_type": "markdown",
   "id": "8db5502b",
   "metadata": {},
   "source": [
    "## Use the Testnets"
   ]
  },
  {
   "cell_type": "code",
   "execution_count": null,
   "id": "46850df2",
   "metadata": {},
   "outputs": [],
   "source": [
    "import ccxt\n",
    "import pandas as pd"
   ]
  },
  {
   "cell_type": "code",
   "execution_count": null,
   "id": "96066f69",
   "metadata": {},
   "outputs": [],
   "source": [
    "binance_t = ccxt.binance()\n",
    "binance_t"
   ]
  },
  {
   "cell_type": "code",
   "execution_count": null,
   "id": "69f1126a",
   "metadata": {},
   "outputs": [],
   "source": [
    "binance_t.set_sandbox_mode(True) # Binance Spot Testnet"
   ]
  },
  {
   "cell_type": "markdown",
   "id": "6b6a4d4d",
   "metadata": {},
   "source": [
    "__Copy/Paste your (spot testnet account) login credentials here:__"
   ]
  },
  {
   "cell_type": "code",
   "execution_count": null,
   "id": "40977811",
   "metadata": {},
   "outputs": [],
   "source": [
    "api_key = \"insert here\"\n",
    "secret_key = \"insert here\""
   ]
  },
  {
   "cell_type": "code",
   "execution_count": null,
   "id": "0746b986",
   "metadata": {},
   "outputs": [],
   "source": [
    "binance_t.apiKey = api_key\n",
    "binance_t.secret = secret_key"
   ]
  },
  {
   "cell_type": "code",
   "execution_count": null,
   "id": "4aa4bb79",
   "metadata": {},
   "outputs": [],
   "source": [
    "binance_t.fetchBalance()[\"info\"][\"balances\"]"
   ]
  },
  {
   "cell_type": "code",
   "execution_count": null,
   "id": "7c3870aa",
   "metadata": {},
   "outputs": [],
   "source": [
    "ftx = ccxt.ftx() # removed\n",
    "ftx"
   ]
  },
  {
   "cell_type": "code",
   "execution_count": null,
   "id": "4b6f8c78",
   "metadata": {},
   "outputs": [],
   "source": [
    "ftx.set_sandbox_mode(True)"
   ]
  },
  {
   "cell_type": "code",
   "execution_count": null,
   "id": "d7df70d9",
   "metadata": {},
   "outputs": [],
   "source": [
    "bybit = ccxt.bybit()\n",
    "bybit"
   ]
  },
  {
   "cell_type": "code",
   "execution_count": null,
   "id": "eb54e2dc",
   "metadata": {},
   "outputs": [],
   "source": [
    "bybit.set_sandbox_mode(True)"
   ]
  },
  {
   "cell_type": "code",
   "execution_count": null,
   "id": "3b60c48a",
   "metadata": {},
   "outputs": [],
   "source": []
  },
  {
   "cell_type": "markdown",
   "id": "e222e1a8",
   "metadata": {},
   "source": [
    "## Creating Orders (in the Spot Testnet)"
   ]
  },
  {
   "cell_type": "code",
   "execution_count": null,
   "id": "71cf3eae",
   "metadata": {},
   "outputs": [],
   "source": [
    "binance_t.fetchBalance()[\"info\"][\"balances\"]"
   ]
  },
  {
   "cell_type": "code",
   "execution_count": null,
   "id": "598c9299",
   "metadata": {},
   "outputs": [],
   "source": [
    "binance_t.has[\"createMarketOrder\"]"
   ]
  },
  {
   "cell_type": "code",
   "execution_count": null,
   "id": "1cfb2dab",
   "metadata": {},
   "outputs": [],
   "source": [
    "# buy 0.01 BTC\n",
    "order = binance_t.createMarketOrder(symbol = \"BTC/USDT\", side = \"BUY\", amount = 0.01)\n",
    "order"
   ]
  },
  {
   "cell_type": "code",
   "execution_count": null,
   "id": "b91f0a7b",
   "metadata": {},
   "outputs": [],
   "source": [
    "binance_t.fetchBalance()[\"info\"][\"balances\"]"
   ]
  },
  {
   "cell_type": "code",
   "execution_count": null,
   "id": "85aa42fe",
   "metadata": {},
   "outputs": [],
   "source": [
    "# Sell 0.01 BTC\n",
    "order = binance_t.createMarketOrder(symbol = \"BTC/USDT\", side = \"SELL\", amount = 0.01)\n",
    "order"
   ]
  },
  {
   "cell_type": "code",
   "execution_count": null,
   "id": "a4622bd2",
   "metadata": {},
   "outputs": [],
   "source": [
    "# Buy X BTC for 5,000 USDT\n",
    "order = binance_t.createMarketOrder(symbol = \"BTC/USDT\", side = \"BUY\", amount = 1, price = 5000)\n",
    "order"
   ]
  },
  {
   "cell_type": "code",
   "execution_count": null,
   "id": "83af79d0",
   "metadata": {},
   "outputs": [],
   "source": [
    "amount = float(order[\"info\"]['executedQty'])\n",
    "amount"
   ]
  },
  {
   "cell_type": "code",
   "execution_count": null,
   "id": "3121b21d",
   "metadata": {},
   "outputs": [],
   "source": [
    "order = binance_t.createMarketOrder(symbol = \"BTC/USDT\", side = \"SELL\", amount = amount)\n",
    "order"
   ]
  },
  {
   "cell_type": "code",
   "execution_count": null,
   "id": "72212c12",
   "metadata": {},
   "outputs": [],
   "source": [
    "binance_t.fetchBalance()[\"info\"][\"balances\"]"
   ]
  },
  {
   "cell_type": "code",
   "execution_count": null,
   "id": "6276215f",
   "metadata": {},
   "outputs": [],
   "source": []
  },
  {
   "cell_type": "markdown",
   "id": "c159f8ab",
   "metadata": {},
   "source": [
    "## Futures Testnet"
   ]
  },
  {
   "cell_type": "code",
   "execution_count": null,
   "id": "ba9a359f",
   "metadata": {},
   "outputs": [],
   "source": [
    "import ccxt\n",
    "import pandas as pd"
   ]
  },
  {
   "cell_type": "code",
   "execution_count": null,
   "id": "1e838cb8",
   "metadata": {},
   "outputs": [],
   "source": [
    "# usd-margined Futures\n",
    "binanceusdm = ccxt.binanceusdm()\n",
    "binanceusdm"
   ]
  },
  {
   "cell_type": "markdown",
   "id": "7a2a3d97",
   "metadata": {},
   "source": [
    "__Copy/Paste your (futures testnet account) login credentials here:__"
   ]
  },
  {
   "cell_type": "code",
   "execution_count": null,
   "id": "04d3a813",
   "metadata": {},
   "outputs": [],
   "source": [
    "api_key = \"insert here\"\n",
    "secret_key = \"insert here\""
   ]
  },
  {
   "cell_type": "code",
   "execution_count": null,
   "id": "90af4ea3",
   "metadata": {},
   "outputs": [],
   "source": [
    "binanceusdm.apiKey = api_key\n",
    "binanceusdm.secret = secret_key"
   ]
  },
  {
   "cell_type": "code",
   "execution_count": null,
   "id": "e9567013",
   "metadata": {},
   "outputs": [],
   "source": [
    "binanceusdm.set_sandbox_mode(True)"
   ]
  },
  {
   "cell_type": "code",
   "execution_count": null,
   "id": "66a6cf4d",
   "metadata": {},
   "outputs": [],
   "source": [
    "binanceusdm.has"
   ]
  },
  {
   "cell_type": "code",
   "execution_count": null,
   "id": "0ec5b990",
   "metadata": {
    "scrolled": true
   },
   "outputs": [],
   "source": [
    "binanceusdm.fetchBalance()[\"info\"][\"assets\"]"
   ]
  },
  {
   "cell_type": "code",
   "execution_count": null,
   "id": "e6c2d68c",
   "metadata": {},
   "outputs": [],
   "source": [
    "# Go Short 0.001 BTC\n",
    "order = binanceusdm.createMarketOrder(symbol = \"BTC/USDT\", side = \"SELL\", amount = 0.001)\n",
    "order"
   ]
  },
  {
   "cell_type": "code",
   "execution_count": null,
   "id": "278c9682",
   "metadata": {},
   "outputs": [],
   "source": [
    "binanceusdm.fetchPositions(symbols = [\"BTC/USDT\"]) # get open positions"
   ]
  },
  {
   "cell_type": "code",
   "execution_count": null,
   "id": "1db8ffc1",
   "metadata": {},
   "outputs": [],
   "source": [
    "binanceusdm.fetchMyTrades(symbol = \"BTC/USDT\")[-1] # get recent trades"
   ]
  },
  {
   "cell_type": "code",
   "execution_count": null,
   "id": "37c8f655",
   "metadata": {},
   "outputs": [],
   "source": [
    "# Close Short Position\n",
    "order = binanceusdm.createMarketOrder(symbol = \"BTC/USDT\", side = \"BUY\", amount = 0.001)\n",
    "order"
   ]
  },
  {
   "cell_type": "code",
   "execution_count": null,
   "id": "76c5b2aa",
   "metadata": {},
   "outputs": [],
   "source": [
    "binanceusdm.fetchPositions(symbols = [\"BTC/USDT\"]) # get open positions"
   ]
  },
  {
   "cell_type": "code",
   "execution_count": null,
   "id": "1a3ebb83",
   "metadata": {},
   "outputs": [],
   "source": [
    "binanceusdm.fetchMyTrades(symbol = \"BTC/USDT\")[-1] # get recent trades"
   ]
  },
  {
   "cell_type": "code",
   "execution_count": null,
   "id": "e074273b",
   "metadata": {},
   "outputs": [],
   "source": [
    "binanceusdm.fetchPositions(symbols = [\"BTC/USDT\"])[0][\"info\"][\"leverage\"] # check leverage"
   ]
  },
  {
   "cell_type": "code",
   "execution_count": null,
   "id": "aec9ff69",
   "metadata": {},
   "outputs": [],
   "source": [
    "binanceusdm.set_leverage(leverage = 15, symbol = \"BTC/USDT\") # set leverage"
   ]
  },
  {
   "cell_type": "code",
   "execution_count": null,
   "id": "f8a25da1",
   "metadata": {},
   "outputs": [],
   "source": [
    "binanceusdm.fetchPositions(symbols = [\"BTC/USDT\"])[0][\"info\"][\"marginType\"] # check margin mode"
   ]
  },
  {
   "cell_type": "code",
   "execution_count": null,
   "id": "dec8d3f0",
   "metadata": {},
   "outputs": [],
   "source": [
    "binanceusdm.set_margin_mode(marginMode = \"isolated\", symbol = \"BTC/USDT\") # set margin mode"
   ]
  },
  {
   "cell_type": "code",
   "execution_count": null,
   "id": "1a4b6d60",
   "metadata": {},
   "outputs": [],
   "source": []
  },
  {
   "cell_type": "markdown",
   "id": "137485b9",
   "metadata": {},
   "source": [
    "## Algorithmic Spot Trading with Binance and CCXT"
   ]
  },
  {
   "cell_type": "markdown",
   "id": "98dc7329",
   "metadata": {},
   "source": [
    "_Disclaimer: <br>\n",
    "The following illustrative examples are for general information and educational purposes only. <br>\n",
    "It is neither investment advice nor a recommendation to trade, invest or take whatsoever actions.<br>\n",
    "The below code should only be used in combination with the Binance Spot Testnet and NOT with a Live Trading Account._"
   ]
  },
  {
   "cell_type": "code",
   "execution_count": null,
   "id": "c6c82a91",
   "metadata": {},
   "outputs": [],
   "source": [
    "import pandas as pd\n",
    "import numpy as np\n",
    "import time\n",
    "import ccxt\n",
    "from threading import Thread"
   ]
  },
  {
   "cell_type": "code",
   "execution_count": null,
   "id": "dcbf6194",
   "metadata": {},
   "outputs": [],
   "source": [
    "class CCXTSpotTrader(): # based on Long-Short Trader (Contrarian Strategy)\n",
    "    \n",
    "    def __init__(self, symbol, bar_length, return_thresh, volume_thresh,\n",
    "                 units, position = 0, sandbox = True):\n",
    "        \n",
    "        exchange.set_sandbox_mode(sandbox) # NEW!\n",
    "        \n",
    "        self.symbol = symbol\n",
    "        self.bar_length = bar_length\n",
    "        self.get_available_intervals()\n",
    "        self.units = units\n",
    "        self.position = position\n",
    "        self.trades = 0 \n",
    "        self.trade_values = []\n",
    "        \n",
    "        #*****************add strategy-specific attributes here******************\n",
    "        self.return_thresh = return_thresh\n",
    "        self.volume_thresh = volume_thresh\n",
    "        #************************************************************************\n",
    "    \n",
    "    def get_available_intervals(self):\n",
    "        \n",
    "        l = []\n",
    "        for key, value in exchange.timeframes.items():\n",
    "            l.append(key)\n",
    "        self.available_intervals = l\n",
    "    \n",
    "    def start_trading(self, start = None, hist_bars = None):\n",
    "        \n",
    "        if not hist_bars:\n",
    "            hist_bars = 1000\n",
    "        \n",
    "        if self.bar_length in self.available_intervals:\n",
    "            self.get_most_recent(symbol = self.symbol, interval = self.bar_length,\n",
    "                                 start = start, limit = hist_bars)\n",
    "            thread = Thread(target = self.start_kline_stream, args = (self.stream_candles, self.symbol, self.bar_length))\n",
    "            thread.start()\n",
    "            \n",
    "        # \"else\" to be added later in the course \n",
    "    \n",
    "    def get_most_recent(self, symbol, interval, start, limit):\n",
    "        \n",
    "        if start:\n",
    "            start = exchange.parse8601(start)\n",
    "    \n",
    "        data = exchange.fetchOHLCV(symbol = symbol, timeframe = interval, since = start, limit = limit)\n",
    "        last_bar_actual = data[-1][0]\n",
    "    \n",
    "        # timestamp of current bar\n",
    "        last_bar_target = exchange.fetchOHLCV(symbol = symbol, timeframe = interval, limit = 2)[-1][0]\n",
    "    \n",
    "        # as long as we don´t have all bars (most recent): let´s pull the next 1000 bars\n",
    "        while last_bar_target != last_bar_actual:\n",
    "        \n",
    "            time.sleep(0.1)\n",
    "            data_add = exchange.fetchOHLCV(symbol = symbol, timeframe = interval, since = last_bar_actual, limit = limit)\n",
    "            data += data_add[1:]\n",
    "            last_bar_actual = data[-1][0]\n",
    "            last_bar_target = exchange.fetchOHLCV(symbol = symbol, timeframe = interval, limit = 2)[-1][0]      \n",
    "    \n",
    "        df = pd.DataFrame(data)\n",
    "        df.columns = [\"Date\", \"Open\", \"High\", \"Low\", \"Close\", \"Volume\"]\n",
    "        df.Date = pd.to_datetime(df.Date, unit = \"ms\")\n",
    "        df.set_index(\"Date\", inplace = True)\n",
    "        df[\"Complete\"] = [True for row in range(len(df)-1)] + [False]\n",
    "        self.last_bar = df.index[-1]\n",
    "\n",
    "        self.data = df\n",
    "        \n",
    "    def stream_candles(self, msg):\n",
    "        # defines how to process the msg\n",
    "    \n",
    "        # extract data form msg\n",
    "        start_time = pd.to_datetime(msg[-1][0], unit = \"ms\")\n",
    "        first = msg[-1][1]\n",
    "        high = msg[-1][2]\n",
    "        low = msg[-1][3]\n",
    "        close  = msg[-1][4]\n",
    "        volume = msg[-1][5]\n",
    "        \n",
    "        # check if a bar is complete\n",
    "        if start_time == self.last_bar:\n",
    "            complete = False\n",
    "        else:\n",
    "            complete = True\n",
    "            if len(msg) == 2:\n",
    "                self.data.loc[self.last_bar] = [msg[0][1], msg[0][2], msg[0][3], msg[0][4], msg[0][5], complete]\n",
    "            else:\n",
    "                self.data.loc[self.last_bar, \"Complete\"] = complete\n",
    "            self.last_bar = start_time\n",
    "        \n",
    "        # print something\n",
    "        print(\".\", end = \"\", flush = True)\n",
    "        \n",
    "        # feed df with latest bar\n",
    "        self.data.loc[start_time] = [first, high, low, close, volume, False]\n",
    "        \n",
    "        # if a bar is complete, define strategy and trade\n",
    "        if complete == True:\n",
    "            self.define_strategy()\n",
    "            self.execute_trades()\n",
    "    \n",
    "    def start_kline_stream(self, callback, symbol, interval):\n",
    "    \n",
    "        self.running = True\n",
    "    \n",
    "        while self.running == True:\n",
    "            msg = exchange.fetchOHLCV(symbol = symbol, timeframe = interval, limit = 2)\n",
    "        \n",
    "            if len(msg) == 0:\n",
    "                print(\"No data received\")\n",
    "            else:\n",
    "                callback(msg)\n",
    "    \n",
    "            time.sleep(1)\n",
    "    \n",
    "    def stop_stream(self):\n",
    "        self.running = False     \n",
    "         \n",
    "    def define_strategy(self):\n",
    "        \n",
    "        df = self.data.loc[self.data.Complete == True].copy() # Adj!\n",
    "        \n",
    "        #******************** define your strategy here ************************\n",
    "        df = df[[\"Close\", \"Volume\"]].copy()\n",
    "        df[\"returns\"] = np.log(df.Close / df.Close.shift())\n",
    "        df[\"vol_ch\"] = np.log(df.Volume.div(df.Volume.shift(1)))\n",
    "        df.loc[df.vol_ch > 3, \"vol_ch\"] = np.nan\n",
    "        df.loc[df.vol_ch < -3, \"vol_ch\"] = np.nan  \n",
    "        \n",
    "        cond1 = df.returns <= self.return_thresh[0]\n",
    "        cond2 = df.vol_ch.between(self.volume_thresh[0], self.volume_thresh[1])\n",
    "        cond3 = df.returns >= self.return_thresh[1]\n",
    "        \n",
    "        df[\"position\"] = 0\n",
    "        df.loc[cond1 & cond2, \"position\"] = 1\n",
    "        df.loc[cond3 & cond2, \"position\"] = -1\n",
    "        #***********************************************************************\n",
    "        \n",
    "        self.prepared_data = df.copy()\n",
    "    \n",
    "    def execute_trades(self): \n",
    "        if self.prepared_data[\"position\"].iloc[-1] == 1: # if position is long -> go/stay long\n",
    "            if self.position == 0:\n",
    "                order = exchange.createMarketOrder(symbol = self.symbol, side = \"BUY\", amount = self.units)\n",
    "                self.report_trade(order, \"GOING LONG\")  \n",
    "            elif self.position == -1:\n",
    "                order = exchange.createMarketOrder(symbol = self.symbol, side = \"BUY\", amount = self.units)\n",
    "                self.report_trade(order, \"GOING NEUTRAL\")\n",
    "                time.sleep(0.1)\n",
    "                order = exchange.createMarketOrder(symbol = self.symbol, side = \"BUY\", amount = self.units)\n",
    "                self.report_trade(order, \"GOING LONG\")\n",
    "            self.position = 1\n",
    "        elif self.prepared_data[\"position\"].iloc[-1] == 0: # if position is neutral -> go/stay neutral\n",
    "            if self.position == 1:\n",
    "                order = exchange.createMarketOrder(symbol = self.symbol, side = \"SELL\", amount = self.units)\n",
    "                self.report_trade(order, \"GOING NEUTRAL\") \n",
    "            elif self.position == -1:\n",
    "                order = exchange.createMarketOrder(symbol = self.symbol, side = \"BUY\", amount = self.units)\n",
    "                self.report_trade(order, \"GOING NEUTRAL\") \n",
    "            self.position = 0\n",
    "        if self.prepared_data[\"position\"].iloc[-1] == -1: # if position is short -> go/stay short\n",
    "            if self.position == 0:\n",
    "                order = exchange.createMarketOrder(symbol = self.symbol, side = \"SELL\", amount = self.units)\n",
    "                self.report_trade(order, \"GOING SHORT\") \n",
    "            elif self.position == 1:\n",
    "                order = exchange.createMarketOrder(symbol = self.symbol, side = \"SELL\", amount = self.units)\n",
    "                self.report_trade(order, \"GOING NEUTRAL\")\n",
    "                time.sleep(0.1)\n",
    "                order = exchange.createMarketOrder(symbol = self.symbol, side = \"SELL\", amount = self.units)\n",
    "                self.report_trade(order, \"GOING SHORT\")\n",
    "            self.position = -1\n",
    "            \n",
    "    def report_trade(self, order, going): \n",
    "        \n",
    "        # extract data from order object (Adj!!!)\n",
    "        side = order[\"side\"].upper()\n",
    "        time = pd.to_datetime(order[\"timestamp\"], unit = \"ms\")\n",
    "        base_units = float(order[\"filled\"])\n",
    "        quote_units = float(order[\"cost\"])\n",
    "        price = float(order[\"average\"])\n",
    "        fee_asset = order[\"fees\"][0][\"currency\"]\n",
    "        fee_amount: order[\"fees\"][0][\"cost\"]\n",
    "        \n",
    "        # calculate trading profits\n",
    "        self.trades += 1\n",
    "        if side == \"BUY\":\n",
    "            self.trade_values.append(-quote_units)\n",
    "        elif side == \"SELL\":\n",
    "            self.trade_values.append(quote_units) \n",
    "        \n",
    "        if self.trades % 2 == 0:\n",
    "            real_profit = round(np.sum(self.trade_values[-2:]), 3) \n",
    "            self.cum_profits = round(np.sum(self.trade_values), 3)\n",
    "        else: \n",
    "            real_profit = 0\n",
    "            self.cum_profits = round(np.sum(self.trade_values[:-1]), 3)\n",
    "        \n",
    "        # print trade report\n",
    "        print(2 * \"\\n\" + 100* \"-\")\n",
    "        print(\"{} | {}\".format(time, going)) \n",
    "        print(\"{} | Base_Units = {} | Quote_Units = {} | Price = {} \".format(time, base_units, quote_units, price))\n",
    "        print(\"{} | Profit = {} | CumProfits = {} \".format(time, real_profit, self.cum_profits))\n",
    "        print(100 * \"-\" + \"\\n\")\n",
    "        "
   ]
  },
  {
   "cell_type": "code",
   "execution_count": null,
   "id": "d5dd870d",
   "metadata": {},
   "outputs": [],
   "source": [
    "exchange = ccxt.binance()\n",
    "exchange"
   ]
  },
  {
   "cell_type": "markdown",
   "id": "6176e0da",
   "metadata": {},
   "source": [
    "__Copy/Paste your (Spot testnet account) login credentials here:__"
   ]
  },
  {
   "cell_type": "code",
   "execution_count": null,
   "id": "fe5bf9b5",
   "metadata": {},
   "outputs": [],
   "source": [
    "api_key = \"insert here\"\n",
    "secret_key = \"insert here\""
   ]
  },
  {
   "cell_type": "code",
   "execution_count": null,
   "id": "33ef25b8",
   "metadata": {},
   "outputs": [],
   "source": [
    "exchange.apiKey = api_key\n",
    "exchange.secret = secret_key"
   ]
  },
  {
   "cell_type": "code",
   "execution_count": null,
   "id": "2937668c",
   "metadata": {},
   "outputs": [],
   "source": [
    "symbol = \"BTC/USDT\"\n",
    "bar_length = \"1m\"\n",
    "return_thresh = [-0.0001, 0.0001]\n",
    "volume_thresh = [-3, 3]\n",
    "units = 0.01\n",
    "position = 0"
   ]
  },
  {
   "cell_type": "code",
   "execution_count": null,
   "id": "70c69678",
   "metadata": {},
   "outputs": [],
   "source": [
    "trader = CCXTSpotTrader(symbol = symbol, bar_length = bar_length, return_thresh = return_thresh,\n",
    "                        volume_thresh = volume_thresh, units = units, position = 0, sandbox = True)"
   ]
  },
  {
   "cell_type": "code",
   "execution_count": null,
   "id": "cae7dd0d",
   "metadata": {},
   "outputs": [],
   "source": [
    "exchange.fetchBalance()[\"info\"][\"balances\"] # get asset balances"
   ]
  },
  {
   "cell_type": "code",
   "execution_count": null,
   "id": "5c3c815c",
   "metadata": {
    "scrolled": false
   },
   "outputs": [],
   "source": [
    "trader.start_trading(start = None, hist_bars = 10)"
   ]
  },
  {
   "cell_type": "code",
   "execution_count": null,
   "id": "6be5eeb6",
   "metadata": {},
   "outputs": [],
   "source": [
    "trader.stop_stream()"
   ]
  },
  {
   "cell_type": "code",
   "execution_count": null,
   "id": "216eabda",
   "metadata": {},
   "outputs": [],
   "source": [
    "trader.prepared_data"
   ]
  },
  {
   "cell_type": "code",
   "execution_count": null,
   "id": "11382358",
   "metadata": {},
   "outputs": [],
   "source": [
    "exchange.fetchBalance()[\"info\"][\"balances\"] # get asset balances"
   ]
  },
  {
   "cell_type": "code",
   "execution_count": null,
   "id": "cda2d2a4",
   "metadata": {},
   "outputs": [],
   "source": []
  },
  {
   "cell_type": "markdown",
   "id": "f44ad3bc",
   "metadata": {},
   "source": [
    "## Excursus: Generalization / Covering all cases"
   ]
  },
  {
   "cell_type": "markdown",
   "id": "5d24a0e4",
   "metadata": {},
   "source": [
    "- CCXTSpotTrader works with the Binance Spot API\n",
    "- The more exchanges we include, the more __(strange) behaviors__ we have to handle/take into account\n",
    "- this makes the (generalized) Trader Class __more complex__ and harder to read/understand"
   ]
  },
  {
   "cell_type": "code",
   "execution_count": null,
   "id": "bbb0f67f",
   "metadata": {},
   "outputs": [],
   "source": []
  },
  {
   "cell_type": "markdown",
   "id": "834add4d",
   "metadata": {},
   "source": [
    "__Example: Pulling the two most recent bars (\"live stream\")__"
   ]
  },
  {
   "cell_type": "markdown",
   "id": "924231b1",
   "metadata": {},
   "source": [
    "__Desired outcome__: We receive the __two most recent bars__"
   ]
  },
  {
   "cell_type": "markdown",
   "id": "6c13f897",
   "metadata": {},
   "source": [
    "__What can go wrong?__ (all potential cases):"
   ]
  },
  {
   "cell_type": "markdown",
   "id": "85924f05",
   "metadata": {},
   "source": [
    "- __no__ bar/empty output (already covered in the class)"
   ]
  },
  {
   "cell_type": "markdown",
   "id": "d6751625",
   "metadata": {},
   "source": [
    "- only __one__ bar (already covered in the class)"
   ]
  },
  {
   "cell_type": "markdown",
   "id": "02ca88dd",
   "metadata": {},
   "source": [
    "- __error__ (to be fixed with error handling techniques -> later)"
   ]
  },
  {
   "cell_type": "markdown",
   "id": "e24d9d47",
   "metadata": {},
   "source": [
    "- not the two most recent bars (typically second and third most recent bar -> __most recent bar missing__)"
   ]
  },
  {
   "cell_type": "code",
   "execution_count": null,
   "id": "ddeedc78",
   "metadata": {},
   "outputs": [],
   "source": [
    "def stream_candles(self, msg):\n",
    "        # defines how to process the msg\n",
    "    \n",
    "        # extract data form msg\n",
    "        start_time = pd.to_datetime(msg[-1][0], unit = \"ms\")\n",
    "        first = msg[-1][1]\n",
    "        high = msg[-1][2]\n",
    "        low = msg[-1][3]\n",
    "        close  = msg[-1][4]\n",
    "        volume = msg[-1][5]\n",
    "        \n",
    "        # if most recent bar is suddenly missing\n",
    "        if start_time < self.last_bar:\n",
    "            pass # do nothing and pull the next msg\n",
    "            \n",
    "        else:\n",
    "            if start_time == self.last_bar:\n",
    "                complete = False\n",
    "            elif start_time > self.last_bar:\n",
    "                complete = True\n",
    "                if len(msg) == 2:\n",
    "                    self.data.loc[self.last_bar] = [msg[0][1], msg[0][2], msg[0][3], msg[0][4], msg[0][5], complete]\n",
    "                else:\n",
    "                    self.data.loc[self.last_bar, \"Complete\"] = complete\n",
    "                self.last_bar = start_time\n",
    "            \n",
    "            # print something\n",
    "            print(\".\", end = \"\", flush = True)\n",
    "        \n",
    "            # feed df with latest bar\n",
    "            self.data.loc[start_time] = [first, high, low, close, volume, False]\n",
    "        \n",
    "            # if a bar is complete, define strategy and trade\n",
    "            if complete == True:\n",
    "                self.define_strategy()\n",
    "                self.execute_trades()"
   ]
  },
  {
   "cell_type": "markdown",
   "id": "a21c5970",
   "metadata": {},
   "source": [
    "-> required for the Binance Futures API!"
   ]
  },
  {
   "cell_type": "code",
   "execution_count": null,
   "id": "7568f37b",
   "metadata": {},
   "outputs": [],
   "source": []
  },
  {
   "cell_type": "markdown",
   "id": "d3cfcac2",
   "metadata": {},
   "source": [
    "## Algorithmic Futures Trading with Binance and CCXT"
   ]
  },
  {
   "cell_type": "markdown",
   "id": "bef5e555",
   "metadata": {},
   "source": [
    "_Disclaimer: <br>\n",
    "The following illustrative examples are for general information and educational purposes only. <br>\n",
    "It is neither investment advice nor a recommendation to trade, invest or take whatsoever actions.<br>\n",
    "The below code should only be used in combination with the Binance Futures Testnet and NOT with a Live Trading Account._"
   ]
  },
  {
   "cell_type": "code",
   "execution_count": null,
   "id": "613f5a6d",
   "metadata": {},
   "outputs": [],
   "source": [
    "import pandas as pd\n",
    "import numpy as np\n",
    "import time\n",
    "import ccxt\n",
    "from threading import Thread"
   ]
  },
  {
   "cell_type": "code",
   "execution_count": null,
   "id": "10935232",
   "metadata": {},
   "outputs": [],
   "source": [
    "class CCXTFuturesTrader(): # Based on FuturesTrader (Contrarian)\n",
    "    \n",
    "    def __init__(self, symbol, bar_length, return_thresh, volume_thresh,\n",
    "                 units, position = 0, leverage = 5, sandbox = True):\n",
    "        \n",
    "        exchange.set_sandbox_mode(sandbox)\n",
    "        \n",
    "        self.symbol = symbol\n",
    "        self.bar_length = bar_length\n",
    "        self.get_available_intervals()\n",
    "        self.units = units\n",
    "        self.position = position\n",
    "        self.leverage = leverage\n",
    "        self.cum_profits = 0\n",
    "        \n",
    "        #*****************add strategy-specific attributes here******************\n",
    "        self.return_thresh = return_thresh\n",
    "        self.volume_thresh = volume_thresh\n",
    "        #************************************************************************\n",
    "    \n",
    "    def get_available_intervals(self):\n",
    "        \n",
    "        l = []\n",
    "        for key, value in exchange.timeframes.items():\n",
    "            l.append(key)\n",
    "        self.available_intervals = l\n",
    "    \n",
    "    def start_trading(self, start = None, hist_bars = None):\n",
    "        \n",
    "        if not hist_bars:\n",
    "            hist_bars = 1000\n",
    "        \n",
    "        exchange.set_leverage(leverage = self.leverage, symbol = self.symbol)\n",
    "        \n",
    "        if self.bar_length in self.available_intervals:\n",
    "            self.get_most_recent(symbol = self.symbol, interval = self.bar_length,\n",
    "                                 start = start, limit = hist_bars)\n",
    "            thread = Thread(target = self.start_kline_stream, args = (self.stream_candles, self.symbol, self.bar_length))\n",
    "            thread.start()\n",
    "            \n",
    "        # \"else\" to be added later in the course \n",
    "    \n",
    "    def get_most_recent(self, symbol, interval, start, limit):\n",
    "        \n",
    "        if start:\n",
    "            start = exchange.parse8601(start)\n",
    "    \n",
    "        data = exchange.fetchOHLCV(symbol = symbol, timeframe = interval, since = start, limit = limit)\n",
    "        last_bar_actual = data[-1][0]\n",
    "    \n",
    "        # timestamp of current bar\n",
    "        last_bar_target = exchange.fetchOHLCV(symbol = symbol, timeframe = interval, limit = 2)[-1][0]\n",
    "    \n",
    "        # as long as we don´t have all bars (most recent): let´s pull the next 1000 bars\n",
    "        while last_bar_target != last_bar_actual:\n",
    "        \n",
    "            time.sleep(0.1)\n",
    "            data_add = exchange.fetchOHLCV(symbol = symbol, timeframe = interval, since = last_bar_actual, limit = limit)\n",
    "            data += data_add[1:]\n",
    "            last_bar_actual = data[-1][0]\n",
    "            last_bar_target = exchange.fetchOHLCV(symbol = symbol, timeframe = interval, limit = 2)[-1][0]      \n",
    "    \n",
    "        df = pd.DataFrame(data)\n",
    "        df.columns = [\"Date\", \"Open\", \"High\", \"Low\", \"Close\", \"Volume\"]\n",
    "        df.Date = pd.to_datetime(df.Date, unit = \"ms\")\n",
    "        df.set_index(\"Date\", inplace = True)\n",
    "        df[\"Complete\"] = [True for row in range(len(df)-1)] + [False]\n",
    "        self.last_bar = df.index[-1]\n",
    "\n",
    "        self.data = df\n",
    "        \n",
    "    def stream_candles(self, msg):\n",
    "        # defines how to process the msg\n",
    "    \n",
    "        # extract data form msg\n",
    "        start_time = pd.to_datetime(msg[-1][0], unit = \"ms\")\n",
    "        first = msg[-1][1]\n",
    "        high = msg[-1][2]\n",
    "        low = msg[-1][3]\n",
    "        close  = msg[-1][4]\n",
    "        volume = msg[-1][5]\n",
    "        \n",
    "        if start_time < self.last_bar:\n",
    "            pass\n",
    "            \n",
    "        else:\n",
    "            if start_time == self.last_bar:\n",
    "                complete = False\n",
    "            elif start_time > self.last_bar:\n",
    "                complete = True\n",
    "                if len(msg) == 2:\n",
    "                    self.data.loc[self.last_bar] = [msg[0][1], msg[0][2], msg[0][3], msg[0][4], msg[0][5], complete]\n",
    "                else:\n",
    "                    self.data.loc[self.last_bar, \"Complete\"] = complete\n",
    "                self.last_bar = start_time\n",
    "            \n",
    "            # print something\n",
    "            print(\".\", end = \"\", flush = True)\n",
    "        \n",
    "            # feed df with latest bar\n",
    "            self.data.loc[start_time] = [first, high, low, close, volume, False]\n",
    "        \n",
    "            # if a bar is complete, define strategy and trade\n",
    "            if complete == True:\n",
    "                self.define_strategy()\n",
    "                self.execute_trades()\n",
    "    \n",
    "    def start_kline_stream(self, callback, symbol, interval):\n",
    "    \n",
    "        self.running = True\n",
    "    \n",
    "        while self.running == True:\n",
    "            msg = exchange.fetchOHLCV(symbol = symbol, timeframe = interval, limit = 2)\n",
    "        \n",
    "            if len(msg) == 0:\n",
    "                print(\"No data received\")\n",
    "            else:\n",
    "                callback(msg)\n",
    "    \n",
    "            time.sleep(1)\n",
    "    \n",
    "    def stop_stream(self):\n",
    "        self.running = False     \n",
    "         \n",
    "    def define_strategy(self):\n",
    "        \n",
    "        df = self.data.loc[self.data.Complete == True].copy()\n",
    "        \n",
    "        #******************** define your strategy here ************************\n",
    "        df = df[[\"Close\", \"Volume\"]].copy()\n",
    "        df[\"returns\"] = np.log(df.Close / df.Close.shift())\n",
    "        df[\"vol_ch\"] = np.log(df.Volume.div(df.Volume.shift(1)))\n",
    "        df.loc[df.vol_ch > 3, \"vol_ch\"] = np.nan\n",
    "        df.loc[df.vol_ch < -3, \"vol_ch\"] = np.nan  \n",
    "        \n",
    "        cond1 = df.returns <= self.return_thresh[0]\n",
    "        cond2 = df.vol_ch.between(self.volume_thresh[0], self.volume_thresh[1])\n",
    "        cond3 = df.returns >= self.return_thresh[1]\n",
    "        \n",
    "        df[\"position\"] = 0\n",
    "        df.loc[cond1 & cond2, \"position\"] = 1\n",
    "        df.loc[cond3 & cond2, \"position\"] = -1\n",
    "        #***********************************************************************\n",
    "        \n",
    "        self.prepared_data = df.copy()\n",
    "    \n",
    "    def execute_trades(self): \n",
    "        if self.prepared_data[\"position\"].iloc[-1] == 1: # if position is long -> go/stay long\n",
    "            if self.position == 0:\n",
    "                order = exchange.createMarketOrder(symbol = self.symbol, side = \"BUY\", amount = self.units)\n",
    "                self.report_trade(order, \"GOING LONG\")  \n",
    "            elif self.position == -1:\n",
    "                order = exchange.createMarketOrder(symbol = self.symbol, side = \"BUY\", amount = 2 * self.units)\n",
    "                self.report_trade(order, \"GOING LONG\")\n",
    "            self.position = 1\n",
    "        elif self.prepared_data[\"position\"].iloc[-1] == 0: # if position is neutral -> go/stay neutral\n",
    "            if self.position == 1:\n",
    "                order = exchange.createMarketOrder(symbol = self.symbol, side = \"SELL\", amount = self.units)\n",
    "                self.report_trade(order, \"GOING NEUTRAL\") \n",
    "            elif self.position == -1:\n",
    "                order = exchange.createMarketOrder(symbol = self.symbol, side = \"BUY\", amount = self.units)\n",
    "                self.report_trade(order, \"GOING NEUTRAL\")\n",
    "            self.position = 0\n",
    "        if self.prepared_data[\"position\"].iloc[-1] == -1: # if position is short -> go/stay short\n",
    "            if self.position == 0:\n",
    "                order = exchange.createMarketOrder(symbol = self.symbol, side = \"SELL\", amount = self.units)\n",
    "                self.report_trade(order, \"GOING SHORT\") \n",
    "            elif self.position == 1:\n",
    "                order = exchange.createMarketOrder(symbol = self.symbol, side = \"SELL\", amount = 2 * self.units)\n",
    "                self.report_trade(order, \"GOING SHORT\")\n",
    "            self.position = -1\n",
    "    \n",
    "    def report_trade(self, order, going): # Adj!\n",
    "        \n",
    "        time.sleep(0.1)\n",
    "        order_time = int(order[\"info\"][\"updateTime\"])\n",
    "        trades = exchange.fetchMyTrades(symbol = self.symbol, since = order_time)\n",
    "        order_time = pd.to_datetime(order_time, unit = \"ms\")\n",
    "        \n",
    "        # extract data from trade object\n",
    "        df = pd.json_normalize(trades)\n",
    "        columns = [\"amount\", \"cost\", \"info.commission\",\"info.realizedPnl\"]\n",
    "        for column in columns:\n",
    "            df[column] = pd.to_numeric(df[column], errors = \"coerce\")\n",
    "        base_units = round(df[\"amount\"].sum(), 5)\n",
    "        quote_units = round(df[\"cost\"].sum(), 5)\n",
    "        commission = -round(df[\"info.commission\"].sum(), 5)\n",
    "        real_profit = round(df[\"info.realizedPnl\"].sum(), 5)\n",
    "        price = round(quote_units / base_units, 5)\n",
    "        \n",
    "        # calculate cumulative trading profits\n",
    "        self.cum_profits += round((commission + real_profit), 5)\n",
    "        \n",
    "        # print trade report\n",
    "        print(2 * \"\\n\" + 100* \"-\")\n",
    "        print(\"{} | {}\".format(order_time, going)) \n",
    "        print(\"{} | Base_Units = {} | Quote_Units = {} | Price = {} \".format(order_time, base_units, quote_units, price))\n",
    "        print(\"{} | Profit = {} | CumProfits = {} \".format(order_time, real_profit, self.cum_profits))\n",
    "        print(100 * \"-\" + \"\\n\")"
   ]
  },
  {
   "cell_type": "code",
   "execution_count": null,
   "id": "71955e90",
   "metadata": {},
   "outputs": [],
   "source": [
    "exchange = ccxt.binanceusdm() \n",
    "exchange"
   ]
  },
  {
   "cell_type": "markdown",
   "id": "0c91dc18",
   "metadata": {},
   "source": [
    "__Copy/Paste your (Futures testnet account) login credentials here:__"
   ]
  },
  {
   "cell_type": "code",
   "execution_count": null,
   "id": "6f920d8a",
   "metadata": {},
   "outputs": [],
   "source": [
    "api_key = \"insert here\"\n",
    "secret_key = \"insert here\""
   ]
  },
  {
   "cell_type": "code",
   "execution_count": null,
   "id": "e2312b64",
   "metadata": {},
   "outputs": [],
   "source": [
    "exchange.apiKey = api_key\n",
    "exchange.secret = secret_key"
   ]
  },
  {
   "cell_type": "code",
   "execution_count": null,
   "id": "80b00ab3",
   "metadata": {},
   "outputs": [],
   "source": [
    "symbol = \"BTC/USDT\"\n",
    "bar_length = \"1m\"\n",
    "return_thresh = [-0.0001, 0.0001]\n",
    "volume_thresh = [-3, 3]\n",
    "units = 0.01\n",
    "position = 0\n",
    "leverage = 5\n",
    "sandbox = True"
   ]
  },
  {
   "cell_type": "code",
   "execution_count": null,
   "id": "cfdf7a4e",
   "metadata": {},
   "outputs": [],
   "source": [
    "trader = CCXTFuturesTrader(symbol = symbol, bar_length = bar_length, return_thresh = return_thresh,\n",
    "                           volume_thresh = volume_thresh, units = units, position = position,\n",
    "                           leverage = leverage, sandbox = sandbox)"
   ]
  },
  {
   "cell_type": "code",
   "execution_count": null,
   "id": "3b857fdd",
   "metadata": {},
   "outputs": [],
   "source": [
    "exchange.fetchBalance()[\"info\"][\"assets\"] # get asset balances"
   ]
  },
  {
   "cell_type": "code",
   "execution_count": null,
   "id": "e19b7f45",
   "metadata": {
    "scrolled": false
   },
   "outputs": [],
   "source": [
    "trader.start_trading(start = None, hist_bars = 10)"
   ]
  },
  {
   "cell_type": "code",
   "execution_count": null,
   "id": "17a12cef",
   "metadata": {},
   "outputs": [],
   "source": [
    "trader.stop_stream()"
   ]
  },
  {
   "cell_type": "code",
   "execution_count": null,
   "id": "6b675eb2",
   "metadata": {
    "scrolled": false
   },
   "outputs": [],
   "source": [
    "trader.prepared_data"
   ]
  },
  {
   "cell_type": "code",
   "execution_count": null,
   "id": "92cb5f4e",
   "metadata": {},
   "outputs": [],
   "source": [
    "exchange.fetchBalance()[\"info\"][\"assets\"] # get asset balances"
   ]
  },
  {
   "cell_type": "code",
   "execution_count": null,
   "id": "da30e73a",
   "metadata": {},
   "outputs": [],
   "source": []
  }
 ],
 "metadata": {
  "kernelspec": {
   "display_name": "Python 3 (ipykernel)",
   "language": "python",
   "name": "python3"
  },
  "language_info": {
   "codemirror_mode": {
    "name": "ipython",
    "version": 3
   },
   "file_extension": ".py",
   "mimetype": "text/x-python",
   "name": "python",
   "nbconvert_exporter": "python",
   "pygments_lexer": "ipython3",
   "version": "3.9.16"
  }
 },
 "nbformat": 4,
 "nbformat_minor": 5
}
