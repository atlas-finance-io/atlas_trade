{
 "cells": [
  {
   "cell_type": "markdown",
   "id": "548e0e4c",
   "metadata": {},
   "source": [
    "# API Trading with Bybit and CCXT"
   ]
  },
  {
   "cell_type": "markdown",
   "id": "6d566e4e",
   "metadata": {},
   "source": [
    "__Remember:__"
   ]
  },
  {
   "cell_type": "markdown",
   "id": "b415d673",
   "metadata": {},
   "source": [
    "Install ccxt with:\n",
    "- pip install ccxt"
   ]
  },
  {
   "cell_type": "markdown",
   "id": "a61a77fd",
   "metadata": {},
   "source": [
    "(first: conda update anaconda)"
   ]
  },
  {
   "cell_type": "markdown",
   "id": "a934751f",
   "metadata": {},
   "source": [
    "__Insert your Bybit (testnet) login credentials here:__"
   ]
  },
  {
   "cell_type": "code",
   "execution_count": null,
   "id": "f819bf3a",
   "metadata": {},
   "outputs": [],
   "source": [
    "api_key = \"insert_here\"\n",
    "secret_key = \"insert_here\""
   ]
  },
  {
   "cell_type": "markdown",
   "id": "a8671986",
   "metadata": {},
   "source": [
    "## Introduction"
   ]
  },
  {
   "cell_type": "code",
   "execution_count": null,
   "id": "bb6d0a8e",
   "metadata": {},
   "outputs": [],
   "source": [
    "import ccxt\n",
    "import pandas as pd"
   ]
  },
  {
   "cell_type": "code",
   "execution_count": null,
   "id": "e249bc8b",
   "metadata": {},
   "outputs": [],
   "source": [
    "print(ccxt.exchanges) # all supported exchanges"
   ]
  },
  {
   "cell_type": "markdown",
   "id": "f1903f60",
   "metadata": {},
   "source": [
    "- one exchange: bybit\n",
    "- no separate exchanges for Spot & Futures Trading (different symbols: BTC/USDT vs. BTC/USDT:USDT)"
   ]
  },
  {
   "cell_type": "markdown",
   "id": "ea241525",
   "metadata": {},
   "source": [
    "__Bybit__"
   ]
  },
  {
   "cell_type": "code",
   "execution_count": null,
   "id": "9c0095bb",
   "metadata": {},
   "outputs": [],
   "source": [
    "exchange = ccxt.bybit()\n",
    "exchange"
   ]
  },
  {
   "cell_type": "code",
   "execution_count": null,
   "id": "34182e96",
   "metadata": {},
   "outputs": [],
   "source": [
    "exchange.fetchTicker(symbol = 'BTC/USDT') # get current SPOT market data"
   ]
  },
  {
   "cell_type": "code",
   "execution_count": null,
   "id": "c0c81707",
   "metadata": {},
   "outputs": [],
   "source": [
    "exchange.fetchTicker(symbol = 'BTC/USDT:USDT') # get current FUTURE market data"
   ]
  },
  {
   "cell_type": "code",
   "execution_count": null,
   "id": "97c636de",
   "metadata": {},
   "outputs": [],
   "source": [
    "exchange.symbols"
   ]
  },
  {
   "cell_type": "code",
   "execution_count": null,
   "id": "3f3e9bfc",
   "metadata": {},
   "outputs": [],
   "source": [
    "exchange.apiKey = api_key\n",
    "exchange.secret = secret_key"
   ]
  },
  {
   "cell_type": "code",
   "execution_count": null,
   "id": "fe7e9e42",
   "metadata": {},
   "outputs": [],
   "source": [
    "exchange.set_sandbox_mode(True) # for Testnet"
   ]
  },
  {
   "cell_type": "code",
   "execution_count": null,
   "id": "ee95d097",
   "metadata": {},
   "outputs": [],
   "source": [
    "#exchange.fetchBalance()[\"info\"][\"balances\"] # with binance / doesn´t work for bybit"
   ]
  },
  {
   "cell_type": "code",
   "execution_count": null,
   "id": "f580c49e",
   "metadata": {},
   "outputs": [],
   "source": [
    "exchange.fetchBalance()[\"info\"][\"result\"][\"list\"] # bybit derivatives account"
   ]
  },
  {
   "cell_type": "code",
   "execution_count": null,
   "id": "fe481c7f",
   "metadata": {},
   "outputs": [],
   "source": [
    "exchange.fetch_balance({\"type\":\"spot\"})[\"info\"][\"result\"][\"balances\"] # bybit SPOT account"
   ]
  },
  {
   "cell_type": "code",
   "execution_count": null,
   "id": "3f5d04e4",
   "metadata": {},
   "outputs": [],
   "source": [
    "pd.DataFrame(exchange.fetch_balance({\"type\":\"spot\"})[\"info\"][\"result\"][\"balances\"])"
   ]
  },
  {
   "cell_type": "code",
   "execution_count": null,
   "id": "93a4080c",
   "metadata": {},
   "outputs": [],
   "source": []
  },
  {
   "cell_type": "markdown",
   "id": "9a8999e0",
   "metadata": {},
   "source": [
    "## Backtesting with Bybit"
   ]
  },
  {
   "cell_type": "markdown",
   "id": "0dffc13e",
   "metadata": {},
   "source": [
    "-> Works in the same way as for any other exchange"
   ]
  },
  {
   "cell_type": "markdown",
   "id": "1bc5b951",
   "metadata": {},
   "source": [
    "-> Most important: Determine the applicable proportional trading costs (ptc) level! (Fees + hidden costs)"
   ]
  },
  {
   "cell_type": "markdown",
   "id": "12c5f1fe",
   "metadata": {},
   "source": [
    "-> Approximately, you could even use historical data from other exchanges (as Bybit history is limited) "
   ]
  },
  {
   "cell_type": "code",
   "execution_count": null,
   "id": "58c2794e",
   "metadata": {},
   "outputs": [],
   "source": [
    "import ccxt\n",
    "import pandas as pd\n",
    "import time"
   ]
  },
  {
   "cell_type": "code",
   "execution_count": null,
   "id": "e5e141f2",
   "metadata": {},
   "outputs": [],
   "source": [
    "exchange = ccxt.bybit()"
   ]
  },
  {
   "cell_type": "code",
   "execution_count": null,
   "id": "1a83469a",
   "metadata": {},
   "outputs": [],
   "source": [
    "def get_history(symbol, interval, start = None, limit = 1000):\n",
    "    \n",
    "    if start:\n",
    "        start = exchange.parse8601(start)\n",
    "    \n",
    "    data = exchange.fetchOHLCV(symbol = symbol, timeframe = interval, since = start, limit = limit)\n",
    "    last_bar_actual = data[-1][0] # timestamp of last loaded bar\n",
    "    \n",
    "    # timestamp of current bar \n",
    "    last_bar_target = exchange.fetchOHLCV(symbol = symbol, timeframe = interval, limit = 2)[-1][0]\n",
    "    \n",
    "    # as long as we don´t have all bars (most recent): let´s pull the next 1000 bars\n",
    "    while last_bar_target != last_bar_actual: \n",
    "        \n",
    "        time.sleep(0.1)\n",
    "        data_add = exchange.fetchOHLCV(symbol = symbol, timeframe = interval,\n",
    "                                      since = last_bar_actual, limit = limit)\n",
    "        data += data_add[1:]\n",
    "        last_bar_actual = data[-1][0]\n",
    "        last_bar_target = exchange.fetchOHLCV(symbol = symbol, timeframe = interval, limit = 2)[-1][0]      \n",
    "    \n",
    "    df = pd.DataFrame(data)\n",
    "    df.columns = [\"Date\", \"Open\", \"High\", \"Low\", \"Close\", \"Volume\"]\n",
    "    df.Date = pd.to_datetime(df.Date, unit = \"ms\")\n",
    "    df.set_index(\"Date\", inplace = True)\n",
    "\n",
    "    return df"
   ]
  },
  {
   "cell_type": "code",
   "execution_count": null,
   "id": "6d699f32",
   "metadata": {},
   "outputs": [],
   "source": [
    "start = \"2022-12-15 09:00:00\""
   ]
  },
  {
   "cell_type": "code",
   "execution_count": null,
   "id": "7c4ecb6f",
   "metadata": {},
   "outputs": [],
   "source": [
    "df = get_history(symbol = \"BTC/USDT\", interval = \"1h\", limit = 1000) # last 200 bars (limit == 200)\n",
    "df"
   ]
  },
  {
   "cell_type": "code",
   "execution_count": null,
   "id": "20fa863c",
   "metadata": {},
   "outputs": [],
   "source": [
    "df = get_history(symbol = \"BTC/USDT\", interval = \"1h\", start = start) # since start (in junks of 200 bars)\n",
    "df"
   ]
  },
  {
   "cell_type": "code",
   "execution_count": null,
   "id": "014b03c6",
   "metadata": {},
   "outputs": [],
   "source": [
    "df = get_history(symbol = \"BTC/USDT\", interval = \"1d\") # Spot (last 200 bars)\n",
    "df"
   ]
  },
  {
   "cell_type": "code",
   "execution_count": null,
   "id": "ba9b3232",
   "metadata": {},
   "outputs": [],
   "source": [
    "df = get_history(symbol = \"BTC/USDT:USDT\", interval = \"1d\") # Perp Futures (last 200 bars)\n",
    "df"
   ]
  },
  {
   "cell_type": "code",
   "execution_count": null,
   "id": "c20979e5",
   "metadata": {},
   "outputs": [],
   "source": []
  },
  {
   "cell_type": "markdown",
   "id": "5dd99f4f",
   "metadata": {},
   "source": [
    "## Spot Trading (Orders & Trades)"
   ]
  },
  {
   "cell_type": "code",
   "execution_count": null,
   "id": "8f07e090",
   "metadata": {},
   "outputs": [],
   "source": [
    "import ccxt\n",
    "import pandas as pd"
   ]
  },
  {
   "cell_type": "code",
   "execution_count": null,
   "id": "06d00243",
   "metadata": {},
   "outputs": [],
   "source": [
    "exchange = ccxt.bybit()\n",
    "exchange"
   ]
  },
  {
   "cell_type": "code",
   "execution_count": null,
   "id": "05176d39",
   "metadata": {},
   "outputs": [],
   "source": [
    "api_key = \"insert here\"\n",
    "secret_key = \"insert here\""
   ]
  },
  {
   "cell_type": "code",
   "execution_count": null,
   "id": "9ca7cc1b",
   "metadata": {},
   "outputs": [],
   "source": [
    "exchange.apiKey = api_key\n",
    "exchange.secret = secret_key"
   ]
  },
  {
   "cell_type": "code",
   "execution_count": null,
   "id": "8a6ac05a",
   "metadata": {},
   "outputs": [],
   "source": [
    "exchange.set_sandbox_mode(True) # for Testnet"
   ]
  },
  {
   "cell_type": "code",
   "execution_count": null,
   "id": "77ea8e4d",
   "metadata": {},
   "outputs": [],
   "source": [
    "# buy 0.1 BTC -> not working on Bybit\n",
    "#order = exchange.createMarketOrder(symbol = \"BTC/USDT\", side = \"buy\", amount = 0.1)\n",
    "#order"
   ]
  },
  {
   "cell_type": "code",
   "execution_count": null,
   "id": "683335eb",
   "metadata": {},
   "outputs": [],
   "source": [
    "# buy BTC for 1*2000 USDT                \n",
    "order = exchange.createMarketOrder(symbol = \"BTC/USDT\", side = \"buy\", amount = 1, price = 2000)\n",
    "order"
   ]
  },
  {
   "cell_type": "code",
   "execution_count": null,
   "id": "e28eb5cb",
   "metadata": {},
   "outputs": [],
   "source": [
    "order_id = order[\"id\"]\n",
    "order_id"
   ]
  },
  {
   "cell_type": "code",
   "execution_count": null,
   "id": "9b537752",
   "metadata": {},
   "outputs": [],
   "source": [
    "order = exchange.fetchOrder(id = order_id, symbol = \"BTC/USDT\")\n",
    "order"
   ]
  },
  {
   "cell_type": "code",
   "execution_count": null,
   "id": "64df697c",
   "metadata": {},
   "outputs": [],
   "source": [
    "side = order[\"side\"]\n",
    "side"
   ]
  },
  {
   "cell_type": "code",
   "execution_count": null,
   "id": "96ac97e6",
   "metadata": {},
   "outputs": [],
   "source": [
    "order_time = pd.to_datetime(order[\"timestamp\"], unit = \"ms\")\n",
    "order_time"
   ]
  },
  {
   "cell_type": "code",
   "execution_count": null,
   "id": "cd269c03",
   "metadata": {},
   "outputs": [],
   "source": [
    "base_units = float(order[\"filled\"])\n",
    "base_units"
   ]
  },
  {
   "cell_type": "code",
   "execution_count": null,
   "id": "d8951863",
   "metadata": {},
   "outputs": [],
   "source": [
    "quote_units = float(order[\"cost\"])\n",
    "quote_units"
   ]
  },
  {
   "cell_type": "code",
   "execution_count": null,
   "id": "d0914981",
   "metadata": {},
   "outputs": [],
   "source": [
    "price = float(order[\"average\"])\n",
    "price"
   ]
  },
  {
   "cell_type": "code",
   "execution_count": null,
   "id": "0ebd7f1c",
   "metadata": {},
   "outputs": [],
   "source": [
    "base_units"
   ]
  },
  {
   "cell_type": "code",
   "execution_count": null,
   "id": "7c656ae3",
   "metadata": {},
   "outputs": [],
   "source": [
    "# sells 1 BTC!!! not BTC worth 1*2000 USDT!!! \n",
    "#order = exchange.createMarketOrder(symbol = \"BTC/USDT\", side = \"sell\", amount = 1, price = 2000)\n",
    "#order"
   ]
  },
  {
   "cell_type": "code",
   "execution_count": null,
   "id": "ac9325c4",
   "metadata": {},
   "outputs": [],
   "source": [
    "# sell [amount] Bitcoin and receive USDT \n",
    "order = exchange.createMarketOrder(symbol = \"BTC/USDT\", side = \"sell\", amount = base_units)\n",
    "order"
   ]
  },
  {
   "cell_type": "code",
   "execution_count": null,
   "id": "678b9b38",
   "metadata": {},
   "outputs": [],
   "source": []
  },
  {
   "cell_type": "markdown",
   "id": "137485b9",
   "metadata": {},
   "source": [
    "## Algorithmic Spot Trading with Bybit and CCXT"
   ]
  },
  {
   "cell_type": "markdown",
   "id": "98dc7329",
   "metadata": {},
   "source": [
    "_Disclaimer: <br>\n",
    "The following illustrative examples are for general information and educational purposes only. <br>\n",
    "It is neither investment advice nor a recommendation to trade, invest or take whatsoever actions.<br>\n",
    "The below code should only be used in combination with a Spot Testnet and NOT with a Live Trading Account._"
   ]
  },
  {
   "cell_type": "code",
   "execution_count": null,
   "id": "c6c82a91",
   "metadata": {},
   "outputs": [],
   "source": [
    "import pandas as pd\n",
    "import numpy as np\n",
    "import time\n",
    "import ccxt\n",
    "from threading import Thread"
   ]
  },
  {
   "cell_type": "code",
   "execution_count": null,
   "id": "dcbf6194",
   "metadata": {},
   "outputs": [],
   "source": [
    "class CCXTSpotTrader(): # based on Long-Short Trader (Contrarian Strategy)\n",
    "    \n",
    "    def __init__(self, symbol, bar_length, return_thresh, volume_thresh,\n",
    "                 units, position = 0, sandbox = True):\n",
    "        \n",
    "        exchange.set_sandbox_mode(sandbox) \n",
    "        \n",
    "        self.symbol = symbol\n",
    "        self.bar_length = bar_length\n",
    "        self.get_available_intervals()\n",
    "        self.units = units  \n",
    "        self.position = position\n",
    "        self.trades = 0 \n",
    "        self.trade_values = []\n",
    "        \n",
    "        #*****************add strategy-specific attributes here******************\n",
    "        self.return_thresh = return_thresh\n",
    "        self.volume_thresh = volume_thresh\n",
    "        #************************************************************************\n",
    "    \n",
    "    def get_available_intervals(self):\n",
    "        \n",
    "        l = []\n",
    "        for key, value in exchange.timeframes.items():\n",
    "            l.append(key)\n",
    "        self.available_intervals = l\n",
    "    \n",
    "    def start_trading(self, start = None, hist_bars = None):\n",
    "        \n",
    "        if not hist_bars:\n",
    "            hist_bars = 1000\n",
    "        \n",
    "        if self.bar_length in self.available_intervals:\n",
    "            self.get_most_recent(symbol = self.symbol, interval = self.bar_length,\n",
    "                                 start = start, limit = hist_bars)\n",
    "            thread = Thread(target = self.start_kline_stream, args = (self.stream_candles, self.symbol, self.bar_length))\n",
    "            thread.start()\n",
    "            \n",
    "        # \"else\" to be added later in the course \n",
    "    \n",
    "    def get_most_recent(self, symbol, interval, start, limit):\n",
    "        \n",
    "        if start:\n",
    "            start = exchange.parse8601(start)\n",
    "    \n",
    "        data = exchange.fetchOHLCV(symbol = symbol, timeframe = interval, since = start, limit = limit)\n",
    "        last_bar_actual = data[-1][0]\n",
    "    \n",
    "        # timestamp of current bar\n",
    "        last_bar_target = exchange.fetchOHLCV(symbol = symbol, timeframe = interval, limit = 2)[-1][0]\n",
    "    \n",
    "        # as long as we don´t have all bars (most recent): let´s pull the next 1000 bars\n",
    "        while last_bar_target != last_bar_actual:\n",
    "        \n",
    "            time.sleep(0.1)\n",
    "            data_add = exchange.fetchOHLCV(symbol = symbol, timeframe = interval, since = last_bar_actual, limit = limit)\n",
    "            data += data_add[1:]\n",
    "            last_bar_actual = data[-1][0]\n",
    "            last_bar_target = exchange.fetchOHLCV(symbol = symbol, timeframe = interval, limit = 2)[-1][0]      \n",
    "    \n",
    "        df = pd.DataFrame(data)\n",
    "        df.columns = [\"Date\", \"Open\", \"High\", \"Low\", \"Close\", \"Volume\"]\n",
    "        df.Date = pd.to_datetime(df.Date, unit = \"ms\")\n",
    "        df.set_index(\"Date\", inplace = True)\n",
    "        df[\"Complete\"] = [True for row in range(len(df)-1)] + [False]\n",
    "        self.last_bar = df.index[-1]\n",
    "\n",
    "        self.data = df\n",
    "        \n",
    "    def stream_candles(self, msg):\n",
    "        # defines how to process the msg\n",
    "    \n",
    "        # extract data form msg\n",
    "        start_time = pd.to_datetime(msg[-1][0], unit = \"ms\")\n",
    "        first = msg[-1][1]\n",
    "        high = msg[-1][2]\n",
    "        low = msg[-1][3]\n",
    "        close  = msg[-1][4]\n",
    "        volume = msg[-1][5]\n",
    "        \n",
    "        # if most recent bar is suddenly missing\n",
    "        if start_time < self.last_bar:\n",
    "            pass # do nothing and pull the next msg\n",
    "            \n",
    "        else:\n",
    "            if start_time == self.last_bar:\n",
    "                complete = False\n",
    "            elif start_time > self.last_bar:\n",
    "                complete = True\n",
    "                if len(msg) == 2:\n",
    "                    self.data.loc[self.last_bar] = [msg[0][1], msg[0][2], msg[0][3], msg[0][4], msg[0][5], complete]\n",
    "                else:\n",
    "                    self.data.loc[self.last_bar, \"Complete\"] = complete\n",
    "                self.last_bar = start_time\n",
    "            \n",
    "            # print something\n",
    "            print(\".\", end = \"\", flush = True)\n",
    "        \n",
    "            # feed df with latest bar\n",
    "            self.data.loc[start_time] = [first, high, low, close, volume, False]\n",
    "        \n",
    "            # if a bar is complete, define strategy and trade\n",
    "            if complete == True:\n",
    "                #print(\"Define Strategy and check Trades!\")\n",
    "                self.define_strategy()\n",
    "                self.execute_trades()\n",
    "    \n",
    "    def start_kline_stream(self, callback, symbol, interval):\n",
    "    \n",
    "        self.running = True\n",
    "    \n",
    "        while self.running == True:\n",
    "            msg = exchange.fetchOHLCV(symbol = symbol, timeframe = interval, limit = 2)\n",
    "        \n",
    "            if len(msg) == 0:\n",
    "                print(\"No data received\")\n",
    "            else:\n",
    "                callback(msg)\n",
    "    \n",
    "            time.sleep(1)\n",
    "    \n",
    "    def stop_stream(self):\n",
    "        self.running = False     \n",
    "         \n",
    "    def define_strategy(self):\n",
    "        \n",
    "        df = self.data.loc[self.data.Complete == True].copy()\n",
    "        \n",
    "        #******************** define your strategy here ************************\n",
    "        df = df[[\"Close\", \"Volume\"]].copy()\n",
    "        df[\"returns\"] = np.log(df.Close / df.Close.shift())\n",
    "        df[\"vol_ch\"] = np.log(df.Volume.div(df.Volume.shift(1)))\n",
    "        df.loc[df.vol_ch > 3, \"vol_ch\"] = np.nan\n",
    "        df.loc[df.vol_ch < -3, \"vol_ch\"] = np.nan  \n",
    "        \n",
    "        cond1 = df.returns <= self.return_thresh[0]\n",
    "        cond2 = df.vol_ch.between(self.volume_thresh[0], self.volume_thresh[1])\n",
    "        cond3 = df.returns >= self.return_thresh[1]\n",
    "        \n",
    "        df[\"position\"] = 0\n",
    "        df.loc[cond1 & cond2, \"position\"] = 1\n",
    "        df.loc[cond3 & cond2, \"position\"] = -1\n",
    "        #***********************************************************************\n",
    "        \n",
    "        self.prepared_data = df.copy()\n",
    "    \n",
    "    def execute_trades(self): \n",
    "        \n",
    "        close = self.data.Close[-1] # NEW: latest btc price\n",
    "        \n",
    "        if self.prepared_data[\"position\"].iloc[-1] == 1: # if position is long -> go/stay long\n",
    "            if self.position == 0:\n",
    "                order = exchange.createMarketOrder(symbol = self.symbol, side = \"buy\", amount = 1, price = self.units * close)\n",
    "                self.report_trade(order, \"GOING LONG\")  \n",
    "            elif self.position == -1:\n",
    "                order = exchange.createMarketOrder(symbol = self.symbol, side = \"buy\", amount = 1, price = self.amount * close)\n",
    "                self.report_trade(order, \"GOING NEUTRAL\")\n",
    "                time.sleep(0.1)\n",
    "                order = exchange.createMarketOrder(symbol = self.symbol, side = \"buy\", amount = 1, price = self.units * close)\n",
    "                self.report_trade(order, \"GOING LONG\")\n",
    "            self.position = 1\n",
    "        elif self.prepared_data[\"position\"].iloc[-1] == 0: # if position is neutral -> go/stay neutral\n",
    "            if self.position == 1:\n",
    "                order = exchange.createMarketOrder(symbol = self.symbol, side = \"sell\", amount = self.amount)\n",
    "                self.report_trade(order, \"GOING NEUTRAL\") \n",
    "            elif self.position == -1:\n",
    "                order = exchange.createMarketOrder(symbol = self.symbol, side = \"buy\", amount = 1, price = self.amount * close)\n",
    "                self.report_trade(order, \"GOING NEUTRAL\") \n",
    "            self.position = 0\n",
    "        if self.prepared_data[\"position\"].iloc[-1] == -1: # if position is short -> go/stay short\n",
    "            if self.position == 0:\n",
    "                order = exchange.createMarketOrder(symbol = self.symbol, side = \"sell\", amount = self.units)\n",
    "                self.report_trade(order, \"GOING SHORT\") \n",
    "            elif self.position == 1:\n",
    "                order = exchange.createMarketOrder(symbol = self.symbol, side = \"sell\", amount = self.amount)\n",
    "                self.report_trade(order, \"GOING NEUTRAL\")\n",
    "                time.sleep(0.1)\n",
    "                order = exchange.createMarketOrder(symbol = self.symbol, side = \"sell\", amount = self.units)\n",
    "                self.report_trade(order, \"GOING SHORT\")\n",
    "            self.position = -1\n",
    "            \n",
    "    def report_trade(self, order, going): \n",
    "        \n",
    "        # extract data from order object\n",
    "        order_id = order[\"id\"]\n",
    "        time.sleep(20)\n",
    "        \n",
    "        order = exchange.fetchOrder(id = order_id, symbol = self.symbol)\n",
    "        \n",
    "        side = order[\"side\"]\n",
    "        order_time = pd.to_datetime(order[\"timestamp\"], unit = \"ms\")\n",
    "        base_units = float(order[\"filled\"])\n",
    "        self.amount = base_units # new\n",
    "        quote_units = float(order[\"cost\"])\n",
    "        price = float(order[\"average\"])\n",
    "        \n",
    "        # calculate trading profits\n",
    "        self.trades += 1\n",
    "        if side == \"buy\":\n",
    "            self.trade_values.append(-quote_units)\n",
    "        elif side == \"sell\":\n",
    "            self.trade_values.append(quote_units) \n",
    "        \n",
    "        if self.trades % 2 == 0:\n",
    "            real_profit = round(np.sum(self.trade_values[-2:]), 3) \n",
    "            self.cum_profits = round(np.sum(self.trade_values), 3)\n",
    "        else: \n",
    "            real_profit = 0\n",
    "            self.cum_profits = round(np.sum(self.trade_values[:-1]), 3)\n",
    "        \n",
    "        # print trade report\n",
    "        print(2 * \"\\n\" + 100* \"-\")\n",
    "        print(\"{} | {}\".format(order_time, going)) \n",
    "        print(\"{} | Base_Units = {} | Quote_Units = {} | Price = {} \".format(order_time, base_units, quote_units, price))\n",
    "        print(\"{} | Profit = {} | CumProfits = {} \".format(order_time, real_profit, self.cum_profits))\n",
    "        print(100 * \"-\" + \"\\n\")\n",
    "        "
   ]
  },
  {
   "cell_type": "code",
   "execution_count": null,
   "id": "d5dd870d",
   "metadata": {},
   "outputs": [],
   "source": [
    "exchange = ccxt.bybit()\n",
    "exchange"
   ]
  },
  {
   "cell_type": "markdown",
   "id": "6176e0da",
   "metadata": {},
   "source": [
    "__Copy/Paste your login credentials here:__"
   ]
  },
  {
   "cell_type": "code",
   "execution_count": null,
   "id": "fe5bf9b5",
   "metadata": {},
   "outputs": [],
   "source": [
    "api_key = \"insert here\"\n",
    "secret_key = \"insert here\""
   ]
  },
  {
   "cell_type": "code",
   "execution_count": null,
   "id": "33ef25b8",
   "metadata": {},
   "outputs": [],
   "source": [
    "exchange.apiKey = api_key\n",
    "exchange.secret = secret_key"
   ]
  },
  {
   "cell_type": "code",
   "execution_count": null,
   "id": "2937668c",
   "metadata": {},
   "outputs": [],
   "source": [
    "symbol = \"BTC/USDT\"\n",
    "bar_length = \"1m\"\n",
    "return_thresh = [-0.000001, 0.000001]\n",
    "volume_thresh = [-3, 3]\n",
    "units = 0.001\n",
    "position = 0"
   ]
  },
  {
   "cell_type": "code",
   "execution_count": null,
   "id": "70c69678",
   "metadata": {},
   "outputs": [],
   "source": [
    "trader = CCXTSpotTrader(symbol = symbol, bar_length = bar_length, return_thresh = return_thresh,\n",
    "                        volume_thresh = volume_thresh, units = units, position = 0, sandbox = True)"
   ]
  },
  {
   "cell_type": "code",
   "execution_count": null,
   "id": "5c3c815c",
   "metadata": {},
   "outputs": [],
   "source": [
    "trader.start_trading(start = None, hist_bars = 10)"
   ]
  },
  {
   "cell_type": "code",
   "execution_count": null,
   "id": "6be5eeb6",
   "metadata": {},
   "outputs": [],
   "source": [
    "trader.stop_stream()"
   ]
  },
  {
   "cell_type": "code",
   "execution_count": null,
   "id": "216eabda",
   "metadata": {},
   "outputs": [],
   "source": [
    "trader.prepared_data"
   ]
  },
  {
   "cell_type": "code",
   "execution_count": null,
   "id": "45a6f42e",
   "metadata": {},
   "outputs": [],
   "source": []
  },
  {
   "cell_type": "markdown",
   "id": "cc0c5e70",
   "metadata": {},
   "source": [
    "## Futures Trading (Orders & Trades)"
   ]
  },
  {
   "cell_type": "code",
   "execution_count": null,
   "id": "355de3fe",
   "metadata": {},
   "outputs": [],
   "source": [
    "import ccxt\n",
    "import pandas as pd"
   ]
  },
  {
   "cell_type": "code",
   "execution_count": null,
   "id": "4284add6",
   "metadata": {},
   "outputs": [],
   "source": [
    "exchange = ccxt.bybit()\n",
    "exchange"
   ]
  },
  {
   "cell_type": "code",
   "execution_count": null,
   "id": "44b55d4d",
   "metadata": {},
   "outputs": [],
   "source": [
    "api_key = \"insert here\"\n",
    "secret_key = \"insert here\""
   ]
  },
  {
   "cell_type": "code",
   "execution_count": null,
   "id": "0f214e53",
   "metadata": {},
   "outputs": [],
   "source": [
    "exchange.apiKey = api_key\n",
    "exchange.secret = secret_key"
   ]
  },
  {
   "cell_type": "code",
   "execution_count": null,
   "id": "6a9cec99",
   "metadata": {},
   "outputs": [],
   "source": [
    "exchange.set_sandbox_mode(True) # for Testnet"
   ]
  },
  {
   "cell_type": "code",
   "execution_count": null,
   "id": "10d8a9ca",
   "metadata": {},
   "outputs": [],
   "source": [
    "exchange.fetchBalance()[\"info\"][\"result\"][\"list\"] # bybit derivatives account"
   ]
  },
  {
   "cell_type": "code",
   "execution_count": null,
   "id": "caa9d316",
   "metadata": {},
   "outputs": [],
   "source": [
    "exchange.fetch_balance({\"type\":\"spot\"})[\"info\"][\"result\"][\"balances\"] # bybit SPOT account"
   ]
  },
  {
   "cell_type": "code",
   "execution_count": null,
   "id": "5ceb7efa",
   "metadata": {},
   "outputs": [],
   "source": [
    "order = exchange.createMarketOrder(symbol = \"BTC/USDT:USDT\", side = \"buy\", amount = 0.1) # go long 0.1 BTC \n",
    "order               "
   ]
  },
  {
   "cell_type": "code",
   "execution_count": null,
   "id": "3a5adc5f",
   "metadata": {},
   "outputs": [],
   "source": [
    "order_id = order[\"id\"]\n",
    "order_id"
   ]
  },
  {
   "cell_type": "code",
   "execution_count": null,
   "id": "084322af",
   "metadata": {},
   "outputs": [],
   "source": [
    "order = exchange.fetchOrder(id = order_id, symbol = \"BTC/USDT:USDT\")\n",
    "order"
   ]
  },
  {
   "cell_type": "code",
   "execution_count": null,
   "id": "2fd9dc67",
   "metadata": {},
   "outputs": [],
   "source": [
    "side = order[\"side\"]\n",
    "side"
   ]
  },
  {
   "cell_type": "code",
   "execution_count": null,
   "id": "b5db2fba",
   "metadata": {},
   "outputs": [],
   "source": [
    "order_time = pd.to_datetime(order[\"timestamp\"], unit = \"ms\")\n",
    "order_time"
   ]
  },
  {
   "cell_type": "code",
   "execution_count": null,
   "id": "46c9dfb9",
   "metadata": {},
   "outputs": [],
   "source": [
    "base_units = float(order[\"filled\"])\n",
    "base_units"
   ]
  },
  {
   "cell_type": "code",
   "execution_count": null,
   "id": "cb566c5b",
   "metadata": {},
   "outputs": [],
   "source": [
    "quote_units = float(order[\"cost\"])\n",
    "quote_units"
   ]
  },
  {
   "cell_type": "code",
   "execution_count": null,
   "id": "4d72e0c2",
   "metadata": {},
   "outputs": [],
   "source": [
    "price = float(order[\"average\"])\n",
    "price"
   ]
  },
  {
   "cell_type": "code",
   "execution_count": null,
   "id": "5398f40f",
   "metadata": {},
   "outputs": [],
   "source": [
    "commission = float(order[\"info\"][\"cumExecFee\"])\n",
    "commission"
   ]
  },
  {
   "cell_type": "code",
   "execution_count": null,
   "id": "4a04a628",
   "metadata": {},
   "outputs": [],
   "source": [
    "order = exchange.createMarketOrder(symbol = \"BTC/USDT:USDT\", side = \"sell\", amount = 0.1) # sell 0.1 BTC \n",
    "order"
   ]
  },
  {
   "cell_type": "code",
   "execution_count": null,
   "id": "1eeebcf0",
   "metadata": {},
   "outputs": [],
   "source": [
    "exchange.fetchMyTrades(\"BTC/USDT:USDT\")[-1] # no PnL included"
   ]
  },
  {
   "cell_type": "code",
   "execution_count": null,
   "id": "7ad05b72",
   "metadata": {},
   "outputs": [],
   "source": []
  },
  {
   "cell_type": "markdown",
   "id": "d3cfcac2",
   "metadata": {},
   "source": [
    "## Algorithmic Futures Trading with Bybit and CCXT"
   ]
  },
  {
   "cell_type": "markdown",
   "id": "bef5e555",
   "metadata": {},
   "source": [
    "_Disclaimer: <br>\n",
    "The following illustrative examples are for general information and educational purposes only. <br>\n",
    "It is neither investment advice nor a recommendation to trade, invest or take whatsoever actions.<br>\n",
    "The below code should only be used in combination with a Futures Testnet and NOT with a Live Trading Account._"
   ]
  },
  {
   "cell_type": "markdown",
   "id": "ed80b584",
   "metadata": {},
   "source": [
    "__Trade Reporting for Bybit Futures__<br>\n",
    "Unlike Binance Futures API, Bybit Futures API (CCXT) does __not provide realized PnL for full trades__. <br>\n",
    "Solution: Use Trade values to calculate realized PnL (see Spot Trading). "
   ]
  },
  {
   "cell_type": "code",
   "execution_count": null,
   "id": "613f5a6d",
   "metadata": {},
   "outputs": [],
   "source": [
    "import pandas as pd\n",
    "import numpy as np\n",
    "import time\n",
    "import ccxt\n",
    "from threading import Thread"
   ]
  },
  {
   "cell_type": "code",
   "execution_count": null,
   "id": "10935232",
   "metadata": {},
   "outputs": [],
   "source": [
    "class CCXTFuturesTrader(): # Based on FuturesTrader (Contrarian)\n",
    "    \n",
    "    def __init__(self, symbol, bar_length, return_thresh, volume_thresh,\n",
    "                 units, position = 0, leverage = 5, sandbox = True):\n",
    "        \n",
    "        exchange.set_sandbox_mode(sandbox)\n",
    "        \n",
    "        self.symbol = symbol\n",
    "        self.bar_length = bar_length\n",
    "        self.get_available_intervals()\n",
    "        self.units = units\n",
    "        self.position = position\n",
    "        self.leverage = leverage\n",
    "        self.trades = 0 \n",
    "        self.trade_values = []\n",
    "        self.commissions = [] # added\n",
    "        \n",
    "        #*****************add strategy-specific attributes here******************\n",
    "        self.return_thresh = return_thresh\n",
    "        self.volume_thresh = volume_thresh\n",
    "        #************************************************************************\n",
    "    \n",
    "    def get_available_intervals(self):\n",
    "        \n",
    "        l = []\n",
    "        for key, value in exchange.timeframes.items():\n",
    "            l.append(key)\n",
    "        self.available_intervals = l\n",
    "    \n",
    "    def start_trading(self, start = None, hist_bars = None):\n",
    "        \n",
    "        if not hist_bars:\n",
    "            hist_bars = 1000\n",
    "        \n",
    "        try: # error if target leverage is equal to current leverage -> catch with try/except\n",
    "            exchange.set_leverage(leverage = self.leverage, symbol = self.symbol)\n",
    "        except:\n",
    "            pass\n",
    "        \n",
    "        if self.bar_length in self.available_intervals:\n",
    "            self.get_most_recent(symbol = self.symbol, interval = self.bar_length,\n",
    "                                 start = start, limit = hist_bars)\n",
    "            thread = Thread(target = self.start_kline_stream, args = (self.stream_candles, self.symbol, self.bar_length))\n",
    "            thread.start()\n",
    "            \n",
    "        # \"else\" to be added later in the course \n",
    "    \n",
    "    def get_most_recent(self, symbol, interval, start, limit):\n",
    "        \n",
    "        if start:\n",
    "            start = exchange.parse8601(start)\n",
    "    \n",
    "        data = exchange.fetchOHLCV(symbol = symbol, timeframe = interval, since = start, limit = limit)\n",
    "        last_bar_actual = data[-1][0]\n",
    "    \n",
    "        # timestamp of current bar\n",
    "        last_bar_target = exchange.fetchOHLCV(symbol = symbol, timeframe = interval, limit = 2)[-1][0]\n",
    "    \n",
    "        # as long as we don´t have all bars (most recent): let´s pull the next 1000 bars\n",
    "        while last_bar_target != last_bar_actual:\n",
    "        \n",
    "            time.sleep(0.1)\n",
    "            data_add = exchange.fetchOHLCV(symbol = symbol, timeframe = interval, since = last_bar_actual, limit = limit)\n",
    "            data += data_add[1:]\n",
    "            last_bar_actual = data[-1][0]\n",
    "            last_bar_target = exchange.fetchOHLCV(symbol = symbol, timeframe = interval, limit = 2)[-1][0]      \n",
    "    \n",
    "        df = pd.DataFrame(data)\n",
    "        df.columns = [\"Date\", \"Open\", \"High\", \"Low\", \"Close\", \"Volume\"]\n",
    "        df.Date = pd.to_datetime(df.Date, unit = \"ms\")\n",
    "        df.set_index(\"Date\", inplace = True)\n",
    "        df[\"Complete\"] = [True for row in range(len(df)-1)] + [False]\n",
    "        self.last_bar = df.index[-1]\n",
    "\n",
    "        self.data = df\n",
    "        \n",
    "    def stream_candles(self, msg):\n",
    "        # defines how to process the msg\n",
    "    \n",
    "        # extract data form msg\n",
    "        start_time = pd.to_datetime(msg[-1][0], unit = \"ms\")\n",
    "        first = msg[-1][1]\n",
    "        high = msg[-1][2]\n",
    "        low = msg[-1][3]\n",
    "        close  = msg[-1][4]\n",
    "        volume = msg[-1][5]\n",
    "        \n",
    "        if start_time < self.last_bar:\n",
    "            pass\n",
    "            \n",
    "        else:\n",
    "            if start_time == self.last_bar:\n",
    "                complete = False\n",
    "            elif start_time > self.last_bar:\n",
    "                complete = True\n",
    "                if len(msg) == 2:\n",
    "                    self.data.loc[self.last_bar] = [msg[0][1], msg[0][2], msg[0][3], msg[0][4], msg[0][5], complete]\n",
    "                else:\n",
    "                    self.data.loc[self.last_bar, \"Complete\"] = complete\n",
    "                self.last_bar = start_time\n",
    "            \n",
    "            # print something\n",
    "            print(\".\", end = \"\", flush = True)\n",
    "        \n",
    "            # feed df with latest bar\n",
    "            self.data.loc[start_time] = [first, high, low, close, volume, False]\n",
    "        \n",
    "            # if a bar is complete, define strategy and trade\n",
    "            if complete == True:\n",
    "                #print(\"Define Strategy and check Trades!\")\n",
    "                self.define_strategy()\n",
    "                self.execute_trades()\n",
    "    \n",
    "    def start_kline_stream(self, callback, symbol, interval):\n",
    "    \n",
    "        self.running = True\n",
    "    \n",
    "        while self.running == True:\n",
    "            msg = exchange.fetchOHLCV(symbol = symbol, timeframe = interval, limit = 2)\n",
    "        \n",
    "            if len(msg) == 0:\n",
    "                print(\"No data received\")\n",
    "            else:\n",
    "                callback(msg)\n",
    "    \n",
    "            time.sleep(1)\n",
    "    \n",
    "    def stop_stream(self):\n",
    "        self.running = False     \n",
    "         \n",
    "    def define_strategy(self):\n",
    "        \n",
    "        df = self.data.loc[self.data.Complete == True].copy()\n",
    "        \n",
    "        #******************** define your strategy here ************************\n",
    "        df = df[[\"Close\", \"Volume\"]].copy()\n",
    "        df[\"returns\"] = np.log(df.Close / df.Close.shift())\n",
    "        df[\"vol_ch\"] = np.log(df.Volume.div(df.Volume.shift(1)))\n",
    "        df.loc[df.vol_ch > 3, \"vol_ch\"] = np.nan\n",
    "        df.loc[df.vol_ch < -3, \"vol_ch\"] = np.nan  \n",
    "        \n",
    "        cond1 = df.returns <= self.return_thresh[0]\n",
    "        cond2 = df.vol_ch.between(self.volume_thresh[0], self.volume_thresh[1])\n",
    "        cond3 = df.returns >= self.return_thresh[1]\n",
    "        \n",
    "        df[\"position\"] = 0\n",
    "        df.loc[cond1 & cond2, \"position\"] = 1\n",
    "        df.loc[cond3 & cond2, \"position\"] = -1\n",
    "        #***********************************************************************\n",
    "        \n",
    "        self.prepared_data = df.copy()\n",
    "    \n",
    "    def execute_trades(self): \n",
    "        if self.prepared_data[\"position\"].iloc[-1] == 1: # if position is long -> go/stay long\n",
    "            if self.position == 0:\n",
    "                order = exchange.createMarketOrder(symbol = self.symbol, side = \"buy\", amount = self.units)\n",
    "                self.report_trade(order, \"GOING LONG\")  \n",
    "            elif self.position == -1:\n",
    "                order = exchange.createMarketOrder(symbol = self.symbol, side = \"buy\", amount = self.units)\n",
    "                self.report_trade(order, \"GOING NEUTRAL\")\n",
    "                time.sleep(0.1)\n",
    "                order = exchange.createMarketOrder(symbol = self.symbol, side = \"buy\", amount = self.units)\n",
    "                self.report_trade(order, \"GOING LONG\")\n",
    "            self.position = 1\n",
    "        elif self.prepared_data[\"position\"].iloc[-1] == 0: # if position is neutral -> go/stay neutral\n",
    "            if self.position == 1:\n",
    "                order = exchange.createMarketOrder(symbol = self.symbol, side = \"sell\", amount = self.units)\n",
    "                self.report_trade(order, \"GOING NEUTRAL\") \n",
    "            elif self.position == -1:\n",
    "                order = exchange.createMarketOrder(symbol = self.symbol, side = \"buy\", amount = self.units)\n",
    "                self.report_trade(order, \"GOING NEUTRAL\") \n",
    "            self.position = 0\n",
    "        if self.prepared_data[\"position\"].iloc[-1] == -1: # if position is short -> go/stay short\n",
    "            if self.position == 0:\n",
    "                order = exchange.createMarketOrder(symbol = self.symbol, side = \"sell\", amount = self.units)\n",
    "                self.report_trade(order, \"GOING SHORT\") \n",
    "            elif self.position == 1:\n",
    "                order = exchange.createMarketOrder(symbol = self.symbol, side = \"sell\", amount = self.units)\n",
    "                self.report_trade(order, \"GOING NEUTRAL\")\n",
    "                time.sleep(0.1)\n",
    "                order = exchange.createMarketOrder(symbol = self.symbol, side = \"sell\", amount = self.units)\n",
    "                self.report_trade(order, \"GOING SHORT\")\n",
    "            self.position = -1\n",
    "            \n",
    "    def report_trade(self, order, going): \n",
    "        \n",
    "        # extract data from order object\n",
    "        order_id = order[\"id\"]\n",
    "        time.sleep(20)\n",
    "        \n",
    "        order = exchange.fetchOrder(id = order_id, symbol = self.symbol)\n",
    "        \n",
    "        side = order[\"side\"]\n",
    "        order_time = pd.to_datetime(order[\"timestamp\"], unit = \"ms\")\n",
    "        base_units = float(order[\"filled\"])\n",
    "        quote_units = float(order[\"cost\"])\n",
    "        price = float(order[\"average\"])\n",
    "        commission = float(order[\"info\"][\"cumExecFee\"])\n",
    "        self.commissions.append(commission)\n",
    "        \n",
    "        # calculate trading profits\n",
    "        self.trades += 1\n",
    "        if side == \"buy\":\n",
    "            self.trade_values.append(-quote_units)\n",
    "        elif side == \"sell\":\n",
    "            self.trade_values.append(quote_units) \n",
    "        \n",
    "        if self.trades % 2 == 0:\n",
    "            real_profit = round(np.sum(self.trade_values[-2:]), 3) - commission\n",
    "            self.cum_profits = round(np.sum(self.trade_values), 3) - np.sum(self.commissions)\n",
    "        else: \n",
    "            real_profit = 0 - commission\n",
    "            self.cum_profits = round(np.sum(self.trade_values[:-1]), 3) - np.sum(self.commissions)\n",
    "        \n",
    "        # print trade report\n",
    "        print(2 * \"\\n\" + 100* \"-\")\n",
    "        print(\"{} | {}\".format(order_time, going)) \n",
    "        print(\"{} | Base_Units = {} | Quote_Units = {} | Price = {} \".format(order_time, base_units, quote_units, price))\n",
    "        print(\"{} | Profit = {} | CumProfits = {} \".format(order_time, real_profit, self.cum_profits))\n",
    "        print(100 * \"-\" + \"\\n\")\n",
    "        "
   ]
  },
  {
   "cell_type": "code",
   "execution_count": null,
   "id": "71955e90",
   "metadata": {},
   "outputs": [],
   "source": [
    "exchange = ccxt.bybit() \n",
    "exchange"
   ]
  },
  {
   "cell_type": "markdown",
   "id": "0c91dc18",
   "metadata": {},
   "source": [
    "__Copy/Paste your (Futures subaccount) login credentials here:__"
   ]
  },
  {
   "cell_type": "code",
   "execution_count": null,
   "id": "6f920d8a",
   "metadata": {},
   "outputs": [],
   "source": [
    "api_key = \"insert here\"\n",
    "secret_key = \"insert here\""
   ]
  },
  {
   "cell_type": "code",
   "execution_count": null,
   "id": "e2312b64",
   "metadata": {},
   "outputs": [],
   "source": [
    "exchange.apiKey = api_key\n",
    "exchange.secret = secret_key"
   ]
  },
  {
   "cell_type": "code",
   "execution_count": null,
   "id": "80b00ab3",
   "metadata": {},
   "outputs": [],
   "source": [
    "symbol = \"BTC/USDT:USDT\"\n",
    "bar_length = \"1m\"\n",
    "return_thresh = [-0.000001, 0.000001]\n",
    "volume_thresh = [-3, 3]\n",
    "units = 0.001\n",
    "position = 0\n",
    "leverage = 10"
   ]
  },
  {
   "cell_type": "code",
   "execution_count": null,
   "id": "cfdf7a4e",
   "metadata": {},
   "outputs": [],
   "source": [
    "trader = CCXTFuturesTrader(symbol = symbol, bar_length = bar_length, return_thresh = return_thresh,\n",
    "                           volume_thresh = volume_thresh, units = units, position = position,\n",
    "                           leverage = leverage, sandbox = True)"
   ]
  },
  {
   "cell_type": "code",
   "execution_count": null,
   "id": "e19b7f45",
   "metadata": {},
   "outputs": [],
   "source": [
    "trader.start_trading(start = None, hist_bars = 10)"
   ]
  },
  {
   "cell_type": "code",
   "execution_count": null,
   "id": "17a12cef",
   "metadata": {},
   "outputs": [],
   "source": [
    "trader.stop_stream()"
   ]
  },
  {
   "cell_type": "code",
   "execution_count": null,
   "id": "6b675eb2",
   "metadata": {},
   "outputs": [],
   "source": [
    "trader.prepared_data"
   ]
  },
  {
   "cell_type": "code",
   "execution_count": null,
   "id": "6d8ff915",
   "metadata": {},
   "outputs": [],
   "source": []
  }
 ],
 "metadata": {
  "kernelspec": {
   "display_name": "Python 3 (ipykernel)",
   "language": "python",
   "name": "python3"
  },
  "language_info": {
   "codemirror_mode": {
    "name": "ipython",
    "version": 3
   },
   "file_extension": ".py",
   "mimetype": "text/x-python",
   "name": "python",
   "nbconvert_exporter": "python",
   "pygments_lexer": "ipython3",
   "version": "3.9.16"
  }
 },
 "nbformat": 4,
 "nbformat_minor": 5
}
