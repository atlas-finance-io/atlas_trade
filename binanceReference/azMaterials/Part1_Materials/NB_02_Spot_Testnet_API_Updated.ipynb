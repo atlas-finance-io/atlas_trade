{
 "cells": [
  {
   "cell_type": "markdown",
   "id": "dab6e5ec",
   "metadata": {},
   "source": [
    "# Paper Trading with Python and Binance - the Spot Testnet API"
   ]
  },
  {
   "cell_type": "markdown",
   "id": "03859346",
   "metadata": {},
   "source": [
    "More Information and getting the Credentials: https://testnet.binance.vision/"
   ]
  },
  {
   "cell_type": "markdown",
   "id": "4f19bb62",
   "metadata": {},
   "source": [
    "__Insert your Spot Testnet Credentials here__:"
   ]
  },
  {
   "cell_type": "code",
   "execution_count": 1,
   "id": "2b9a8ea5",
   "metadata": {},
   "outputs": [],
   "source": [
    "api_key = \"VNRlpmU7cW3b3iGVSqsQbnYpK8Pe8zZR01lNiHTR9dmRala63fK66JQqek4mJ6zo\"\n",
    "secret_key = \"OeeHtMJ5ya5udRQq2qts1c46pzabUoTCCIRYoVDn1KyL44UwKatW3duMBP8haSK7\""
   ]
  },
  {
   "cell_type": "markdown",
   "id": "49a45235",
   "metadata": {},
   "source": [
    "## Creating a Connection to the Spot Testnet"
   ]
  },
  {
   "cell_type": "code",
   "execution_count": 2,
   "id": "4743b747",
   "metadata": {},
   "outputs": [],
   "source": [
    "from binance.client import Client"
   ]
  },
  {
   "cell_type": "code",
   "execution_count": 3,
   "id": "84908c00",
   "metadata": {},
   "outputs": [],
   "source": [
    "client = Client(api_key = api_key, api_secret = secret_key, tld = \"com\", testnet = True) # Testnet!!!"
   ]
  },
  {
   "cell_type": "markdown",
   "id": "608d86bf",
   "metadata": {},
   "source": [
    "__Simple Rule:__ <br>\n",
    "Use your __Testnet Credentials with testnet = True__ and your __\"Real Account\" Credentials with testnet = False__ (default)"
   ]
  },
  {
   "cell_type": "code",
   "execution_count": 4,
   "id": "0c03d176",
   "metadata": {},
   "outputs": [
    {
     "data": {
      "text/plain": [
       "<binance.client.Client at 0x107dfabb0>"
      ]
     },
     "execution_count": 4,
     "metadata": {},
     "output_type": "execute_result"
    }
   ],
   "source": [
    "client"
   ]
  },
  {
   "cell_type": "code",
   "execution_count": 5,
   "id": "b0795d04",
   "metadata": {},
   "outputs": [
    {
     "data": {
      "text/plain": [
       "{'makerCommission': 0,\n",
       " 'takerCommission': 0,\n",
       " 'buyerCommission': 0,\n",
       " 'sellerCommission': 0,\n",
       " 'commissionRates': {'maker': '0.00000000',\n",
       "  'taker': '0.00000000',\n",
       "  'buyer': '0.00000000',\n",
       "  'seller': '0.00000000'},\n",
       " 'canTrade': True,\n",
       " 'canWithdraw': False,\n",
       " 'canDeposit': False,\n",
       " 'brokered': False,\n",
       " 'requireSelfTradePrevention': False,\n",
       " 'preventSor': False,\n",
       " 'updateTime': 1694007827988,\n",
       " 'accountType': 'SPOT',\n",
       " 'balances': [{'asset': 'BNB', 'free': '2.00000000', 'locked': '0.00000000'},\n",
       "  {'asset': 'BTC', 'free': '1.00000000', 'locked': '0.00000000'},\n",
       "  {'asset': 'BUSD', 'free': '10000.00000000', 'locked': '0.00000000'},\n",
       "  {'asset': 'ETH', 'free': '1.00000000', 'locked': '0.00000000'},\n",
       "  {'asset': 'LTC', 'free': '7.00000000', 'locked': '0.00000000'},\n",
       "  {'asset': 'TRX', 'free': '6397.00000000', 'locked': '0.00000000'},\n",
       "  {'asset': 'USDT', 'free': '10000.00000000', 'locked': '0.00000000'},\n",
       "  {'asset': 'XRP', 'free': '997.00000000', 'locked': '0.00000000'},\n",
       "  {'asset': 'NEO', 'free': '68.00000000', 'locked': '0.00000000'},\n",
       "  {'asset': 'QTUM', 'free': '231.00000000', 'locked': '0.00000000'},\n",
       "  {'asset': 'EOS', 'free': '848.00000000', 'locked': '0.00000000'},\n",
       "  {'asset': 'SNT', 'free': '23320.00000000', 'locked': '0.00000000'},\n",
       "  {'asset': 'BNT', 'free': '1145.00000000', 'locked': '0.00000000'},\n",
       "  {'asset': 'BCC', 'free': '735.00000000', 'locked': '0.00000000'},\n",
       "  {'asset': 'GAS', 'free': '221.00000000', 'locked': '0.00000000'},\n",
       "  {'asset': 'HSR', 'free': '500.00000000', 'locked': '0.00000000'},\n",
       "  {'asset': 'OAX', 'free': '4133.00000000', 'locked': '0.00000000'},\n",
       "  {'asset': 'DNT', 'free': '20764.00000000', 'locked': '0.00000000'},\n",
       "  {'asset': 'MCO', 'free': '40.00000000', 'locked': '0.00000000'},\n",
       "  {'asset': 'ICN', 'free': '13280.00000000', 'locked': '0.00000000'},\n",
       "  {'asset': 'WTC', 'free': '3264.00000000', 'locked': '0.00000000'},\n",
       "  {'asset': 'LRC', 'free': '2687.00000000', 'locked': '0.00000000'},\n",
       "  {'asset': 'YOYO', 'free': '1.00000000', 'locked': '0.00000000'},\n",
       "  {'asset': 'OMG', 'free': '1050.00000000', 'locked': '0.00000000'},\n",
       "  {'asset': 'ZRX', 'free': '2900.00000000', 'locked': '0.00000000'},\n",
       "  {'asset': 'STRAT', 'free': '1.00000000', 'locked': '0.00000000'},\n",
       "  {'asset': 'SNGLS', 'free': '57091.00000000', 'locked': '0.00000000'},\n",
       "  {'asset': 'BQX', 'free': '500.00000000', 'locked': '0.00000000'},\n",
       "  {'asset': 'KNC', 'free': '935.00000000', 'locked': '0.00000000'},\n",
       "  {'asset': 'FUN', 'free': '11680.00000000', 'locked': '0.00000000'},\n",
       "  {'asset': 'SNM', 'free': '46688.00000000', 'locked': '0.00000000'},\n",
       "  {'asset': 'IOTA', 'free': '500.00000000', 'locked': '0.00000000'},\n",
       "  {'asset': 'LINK', 'free': '81.00000000', 'locked': '0.00000000'},\n",
       "  {'asset': 'XVG', 'free': '14986.00000000', 'locked': '0.00000000'},\n",
       "  {'asset': 'SALT', 'free': '24543.00000000', 'locked': '0.00000000'},\n",
       "  {'asset': 'MDA', 'free': '12724.00000000', 'locked': '0.00000000'},\n",
       "  {'asset': 'MTL', 'free': '419.00000000', 'locked': '0.00000000'},\n",
       "  {'asset': 'SUB', 'free': '13855.00000000', 'locked': '0.00000000'},\n",
       "  {'asset': 'ETC', 'free': '32.00000000', 'locked': '0.00000000'},\n",
       "  {'asset': 'MTH', 'free': '13497.00000000', 'locked': '0.00000000'},\n",
       "  {'asset': 'ENG', 'free': '66599.00000000', 'locked': '0.00000000'},\n",
       "  {'asset': 'ZEC', 'free': '19.00000000', 'locked': '0.00000000'},\n",
       "  {'asset': 'AST', 'free': '5774.00000000', 'locked': '0.00000000'},\n",
       "  {'asset': 'DASH', 'free': '19.00000000', 'locked': '0.00000000'},\n",
       "  {'asset': 'BTG', 'free': '39.00000000', 'locked': '0.00000000'},\n",
       "  {'asset': 'EVX', 'free': '21453.00000000', 'locked': '0.00000000'},\n",
       "  {'asset': 'REQ', 'free': '7615.00000000', 'locked': '0.00000000'},\n",
       "  {'asset': 'VIB', 'free': '11785.00000000', 'locked': '0.00000000'},\n",
       "  {'asset': 'POWR', 'free': '3721.00000000', 'locked': '0.00000000'},\n",
       "  {'asset': 'ARK', 'free': '1697.00000000', 'locked': '0.00000000'},\n",
       "  {'asset': 'MOD', 'free': '4981.00000000', 'locked': '0.00000000'},\n",
       "  {'asset': 'ENJ', 'free': '1877.00000000', 'locked': '0.00000000'},\n",
       "  {'asset': 'STORJ', 'free': '2143.00000000', 'locked': '0.00000000'},\n",
       "  {'asset': 'VEN', 'free': '9161.00000000', 'locked': '0.00000000'},\n",
       "  {'asset': 'KMD', 'free': '2326.00000000', 'locked': '0.00000000'},\n",
       "  {'asset': 'NULS', 'free': '2682.00000000', 'locked': '0.00000000'},\n",
       "  {'asset': 'RCN', 'free': '35445.00000000', 'locked': '0.00000000'},\n",
       "  {'asset': 'RDN', 'free': '94193.00000000', 'locked': '0.00000000'},\n",
       "  {'asset': 'XMR', 'free': '3.00000000', 'locked': '0.00000000'},\n",
       "  {'asset': 'DLT', 'free': '77702.00000000', 'locked': '0.00000000'},\n",
       "  {'asset': 'AMB', 'free': '61764.00000000', 'locked': '0.00000000'},\n",
       "  {'asset': 'BAT', 'free': '2928.00000000', 'locked': '0.00000000'},\n",
       "  {'asset': 'BCPT', 'free': '20403.00000000', 'locked': '0.00000000'},\n",
       "  {'asset': 'ARN', 'free': '500.00000000', 'locked': '0.00000000'},\n",
       "  {'asset': 'GVT', 'free': '5354.00000000', 'locked': '0.00000000'},\n",
       "  {'asset': 'CDT', 'free': '2081.00000000', 'locked': '0.00000000'},\n",
       "  {'asset': 'GXS', 'free': '500.00000000', 'locked': '0.00000000'},\n",
       "  {'asset': 'POE', 'free': '48449.00000000', 'locked': '0.00000000'},\n",
       "  {'asset': 'QSP', 'free': '49412.00000000', 'locked': '0.00000000'},\n",
       "  {'asset': 'BTS', 'free': '54352.00000000', 'locked': '0.00000000'},\n",
       "  {'asset': 'XZC', 'free': '1.00000000', 'locked': '0.00000000'},\n",
       "  {'asset': 'LSK', 'free': '719.00000000', 'locked': '0.00000000'},\n",
       "  {'asset': 'TNT', 'free': '33171.00000000', 'locked': '0.00000000'},\n",
       "  {'asset': 'FUEL', 'free': '23476.00000000', 'locked': '0.00000000'},\n",
       "  {'asset': 'MANA', 'free': '1695.00000000', 'locked': '0.00000000'},\n",
       "  {'asset': 'BCD', 'free': '8136.00000000', 'locked': '0.00000000'},\n",
       "  {'asset': 'DGD', 'free': '8.00000000', 'locked': '0.00000000'},\n",
       "  {'asset': 'ADX', 'free': '3801.00000000', 'locked': '0.00000000'},\n",
       "  {'asset': 'ADA', 'free': '1951.00000000', 'locked': '0.00000000'},\n",
       "  {'asset': 'PPT', 'free': '22421.00000000', 'locked': '0.00000000'},\n",
       "  {'asset': 'CMT', 'free': '19425.00000000', 'locked': '0.00000000'},\n",
       "  {'asset': 'XLM', 'free': '4167.00000000', 'locked': '0.00000000'},\n",
       "  {'asset': 'CND', 'free': '24737.00000000', 'locked': '0.00000000'},\n",
       "  {'asset': 'LEND', 'free': '972.00000000', 'locked': '0.00000000'},\n",
       "  {'asset': 'WABI', 'free': '46530.00000000', 'locked': '0.00000000'}],\n",
       " 'permissions': ['SPOT'],\n",
       " 'uid': 1692802094701680202}"
      ]
     },
     "execution_count": 5,
     "metadata": {},
     "output_type": "execute_result"
    }
   ],
   "source": [
    "client.get_account() # Test account details"
   ]
  },
  {
   "cell_type": "code",
   "execution_count": null,
   "id": "ee572efe",
   "metadata": {},
   "outputs": [],
   "source": []
  },
  {
   "cell_type": "markdown",
   "id": "aeb728c5",
   "metadata": {},
   "source": [
    "## Spot Testnet API - Overview"
   ]
  },
  {
   "cell_type": "markdown",
   "id": "40e56281",
   "metadata": {},
   "source": [
    "__Same Documentation applies for Spot Testnet:__"
   ]
  },
  {
   "cell_type": "markdown",
   "id": "9c151512",
   "metadata": {},
   "source": [
    "https://binance-docs.github.io/apidocs/spot/en/#introduction"
   ]
  },
  {
   "cell_type": "code",
   "execution_count": 6,
   "id": "bd670d70",
   "metadata": {},
   "outputs": [],
   "source": [
    "import pandas as pd\n",
    "from binance.client import Client"
   ]
  },
  {
   "cell_type": "code",
   "execution_count": 7,
   "id": "90d3ff60",
   "metadata": {},
   "outputs": [],
   "source": [
    "client = Client(api_key = api_key, api_secret = secret_key, tld = \"com\", testnet = True) # Testnet!!!"
   ]
  },
  {
   "cell_type": "code",
   "execution_count": 8,
   "id": "93f5a1e6",
   "metadata": {},
   "outputs": [
    {
     "data": {
      "text/plain": [
       "{'status': 0, 'msg': 'normal'}"
      ]
     },
     "execution_count": 8,
     "metadata": {},
     "output_type": "execute_result"
    }
   ],
   "source": [
    "client.get_system_status()"
   ]
  },
  {
   "cell_type": "code",
   "execution_count": 9,
   "id": "9f302a73",
   "metadata": {},
   "outputs": [
    {
     "data": {
      "text/plain": [
       "{'makerCommission': 0,\n",
       " 'takerCommission': 0,\n",
       " 'buyerCommission': 0,\n",
       " 'sellerCommission': 0,\n",
       " 'commissionRates': {'maker': '0.00000000',\n",
       "  'taker': '0.00000000',\n",
       "  'buyer': '0.00000000',\n",
       "  'seller': '0.00000000'},\n",
       " 'canTrade': True,\n",
       " 'canWithdraw': False,\n",
       " 'canDeposit': False,\n",
       " 'brokered': False,\n",
       " 'requireSelfTradePrevention': False,\n",
       " 'preventSor': False,\n",
       " 'updateTime': 1694007827988,\n",
       " 'accountType': 'SPOT',\n",
       " 'balances': [{'asset': 'BNB', 'free': '2.00000000', 'locked': '0.00000000'},\n",
       "  {'asset': 'BTC', 'free': '1.00000000', 'locked': '0.00000000'},\n",
       "  {'asset': 'BUSD', 'free': '10000.00000000', 'locked': '0.00000000'},\n",
       "  {'asset': 'ETH', 'free': '1.00000000', 'locked': '0.00000000'},\n",
       "  {'asset': 'LTC', 'free': '7.00000000', 'locked': '0.00000000'},\n",
       "  {'asset': 'TRX', 'free': '6397.00000000', 'locked': '0.00000000'},\n",
       "  {'asset': 'USDT', 'free': '10000.00000000', 'locked': '0.00000000'},\n",
       "  {'asset': 'XRP', 'free': '997.00000000', 'locked': '0.00000000'},\n",
       "  {'asset': 'NEO', 'free': '68.00000000', 'locked': '0.00000000'},\n",
       "  {'asset': 'QTUM', 'free': '231.00000000', 'locked': '0.00000000'},\n",
       "  {'asset': 'EOS', 'free': '848.00000000', 'locked': '0.00000000'},\n",
       "  {'asset': 'SNT', 'free': '23320.00000000', 'locked': '0.00000000'},\n",
       "  {'asset': 'BNT', 'free': '1145.00000000', 'locked': '0.00000000'},\n",
       "  {'asset': 'BCC', 'free': '735.00000000', 'locked': '0.00000000'},\n",
       "  {'asset': 'GAS', 'free': '221.00000000', 'locked': '0.00000000'},\n",
       "  {'asset': 'HSR', 'free': '500.00000000', 'locked': '0.00000000'},\n",
       "  {'asset': 'OAX', 'free': '4133.00000000', 'locked': '0.00000000'},\n",
       "  {'asset': 'DNT', 'free': '20764.00000000', 'locked': '0.00000000'},\n",
       "  {'asset': 'MCO', 'free': '40.00000000', 'locked': '0.00000000'},\n",
       "  {'asset': 'ICN', 'free': '13280.00000000', 'locked': '0.00000000'},\n",
       "  {'asset': 'WTC', 'free': '3264.00000000', 'locked': '0.00000000'},\n",
       "  {'asset': 'LRC', 'free': '2687.00000000', 'locked': '0.00000000'},\n",
       "  {'asset': 'YOYO', 'free': '1.00000000', 'locked': '0.00000000'},\n",
       "  {'asset': 'OMG', 'free': '1050.00000000', 'locked': '0.00000000'},\n",
       "  {'asset': 'ZRX', 'free': '2900.00000000', 'locked': '0.00000000'},\n",
       "  {'asset': 'STRAT', 'free': '1.00000000', 'locked': '0.00000000'},\n",
       "  {'asset': 'SNGLS', 'free': '57091.00000000', 'locked': '0.00000000'},\n",
       "  {'asset': 'BQX', 'free': '500.00000000', 'locked': '0.00000000'},\n",
       "  {'asset': 'KNC', 'free': '935.00000000', 'locked': '0.00000000'},\n",
       "  {'asset': 'FUN', 'free': '11680.00000000', 'locked': '0.00000000'},\n",
       "  {'asset': 'SNM', 'free': '46688.00000000', 'locked': '0.00000000'},\n",
       "  {'asset': 'IOTA', 'free': '500.00000000', 'locked': '0.00000000'},\n",
       "  {'asset': 'LINK', 'free': '81.00000000', 'locked': '0.00000000'},\n",
       "  {'asset': 'XVG', 'free': '14986.00000000', 'locked': '0.00000000'},\n",
       "  {'asset': 'SALT', 'free': '24543.00000000', 'locked': '0.00000000'},\n",
       "  {'asset': 'MDA', 'free': '12724.00000000', 'locked': '0.00000000'},\n",
       "  {'asset': 'MTL', 'free': '419.00000000', 'locked': '0.00000000'},\n",
       "  {'asset': 'SUB', 'free': '13855.00000000', 'locked': '0.00000000'},\n",
       "  {'asset': 'ETC', 'free': '32.00000000', 'locked': '0.00000000'},\n",
       "  {'asset': 'MTH', 'free': '13497.00000000', 'locked': '0.00000000'},\n",
       "  {'asset': 'ENG', 'free': '66599.00000000', 'locked': '0.00000000'},\n",
       "  {'asset': 'ZEC', 'free': '19.00000000', 'locked': '0.00000000'},\n",
       "  {'asset': 'AST', 'free': '5774.00000000', 'locked': '0.00000000'},\n",
       "  {'asset': 'DASH', 'free': '19.00000000', 'locked': '0.00000000'},\n",
       "  {'asset': 'BTG', 'free': '39.00000000', 'locked': '0.00000000'},\n",
       "  {'asset': 'EVX', 'free': '21453.00000000', 'locked': '0.00000000'},\n",
       "  {'asset': 'REQ', 'free': '7615.00000000', 'locked': '0.00000000'},\n",
       "  {'asset': 'VIB', 'free': '11785.00000000', 'locked': '0.00000000'},\n",
       "  {'asset': 'POWR', 'free': '3721.00000000', 'locked': '0.00000000'},\n",
       "  {'asset': 'ARK', 'free': '1697.00000000', 'locked': '0.00000000'},\n",
       "  {'asset': 'MOD', 'free': '4981.00000000', 'locked': '0.00000000'},\n",
       "  {'asset': 'ENJ', 'free': '1877.00000000', 'locked': '0.00000000'},\n",
       "  {'asset': 'STORJ', 'free': '2143.00000000', 'locked': '0.00000000'},\n",
       "  {'asset': 'VEN', 'free': '9161.00000000', 'locked': '0.00000000'},\n",
       "  {'asset': 'KMD', 'free': '2326.00000000', 'locked': '0.00000000'},\n",
       "  {'asset': 'NULS', 'free': '2682.00000000', 'locked': '0.00000000'},\n",
       "  {'asset': 'RCN', 'free': '35445.00000000', 'locked': '0.00000000'},\n",
       "  {'asset': 'RDN', 'free': '94193.00000000', 'locked': '0.00000000'},\n",
       "  {'asset': 'XMR', 'free': '3.00000000', 'locked': '0.00000000'},\n",
       "  {'asset': 'DLT', 'free': '77702.00000000', 'locked': '0.00000000'},\n",
       "  {'asset': 'AMB', 'free': '61764.00000000', 'locked': '0.00000000'},\n",
       "  {'asset': 'BAT', 'free': '2928.00000000', 'locked': '0.00000000'},\n",
       "  {'asset': 'BCPT', 'free': '20403.00000000', 'locked': '0.00000000'},\n",
       "  {'asset': 'ARN', 'free': '500.00000000', 'locked': '0.00000000'},\n",
       "  {'asset': 'GVT', 'free': '5354.00000000', 'locked': '0.00000000'},\n",
       "  {'asset': 'CDT', 'free': '2081.00000000', 'locked': '0.00000000'},\n",
       "  {'asset': 'GXS', 'free': '500.00000000', 'locked': '0.00000000'},\n",
       "  {'asset': 'POE', 'free': '48449.00000000', 'locked': '0.00000000'},\n",
       "  {'asset': 'QSP', 'free': '49412.00000000', 'locked': '0.00000000'},\n",
       "  {'asset': 'BTS', 'free': '54352.00000000', 'locked': '0.00000000'},\n",
       "  {'asset': 'XZC', 'free': '1.00000000', 'locked': '0.00000000'},\n",
       "  {'asset': 'LSK', 'free': '719.00000000', 'locked': '0.00000000'},\n",
       "  {'asset': 'TNT', 'free': '33171.00000000', 'locked': '0.00000000'},\n",
       "  {'asset': 'FUEL', 'free': '23476.00000000', 'locked': '0.00000000'},\n",
       "  {'asset': 'MANA', 'free': '1695.00000000', 'locked': '0.00000000'},\n",
       "  {'asset': 'BCD', 'free': '8136.00000000', 'locked': '0.00000000'},\n",
       "  {'asset': 'DGD', 'free': '8.00000000', 'locked': '0.00000000'},\n",
       "  {'asset': 'ADX', 'free': '3801.00000000', 'locked': '0.00000000'},\n",
       "  {'asset': 'ADA', 'free': '1951.00000000', 'locked': '0.00000000'},\n",
       "  {'asset': 'PPT', 'free': '22421.00000000', 'locked': '0.00000000'},\n",
       "  {'asset': 'CMT', 'free': '19425.00000000', 'locked': '0.00000000'},\n",
       "  {'asset': 'XLM', 'free': '4167.00000000', 'locked': '0.00000000'},\n",
       "  {'asset': 'CND', 'free': '24737.00000000', 'locked': '0.00000000'},\n",
       "  {'asset': 'LEND', 'free': '972.00000000', 'locked': '0.00000000'},\n",
       "  {'asset': 'WABI', 'free': '46530.00000000', 'locked': '0.00000000'}],\n",
       " 'permissions': ['SPOT'],\n",
       " 'uid': 1692802094701680202}"
      ]
     },
     "execution_count": 9,
     "metadata": {},
     "output_type": "execute_result"
    }
   ],
   "source": [
    "account = client.get_account()\n",
    "account"
   ]
  },
  {
   "cell_type": "code",
   "execution_count": 10,
   "id": "5fe880a7",
   "metadata": {},
   "outputs": [
    {
     "data": {
      "text/html": [
       "<div>\n",
       "<style scoped>\n",
       "    .dataframe tbody tr th:only-of-type {\n",
       "        vertical-align: middle;\n",
       "    }\n",
       "\n",
       "    .dataframe tbody tr th {\n",
       "        vertical-align: top;\n",
       "    }\n",
       "\n",
       "    .dataframe thead th {\n",
       "        text-align: right;\n",
       "    }\n",
       "</style>\n",
       "<table border=\"1\" class=\"dataframe\">\n",
       "  <thead>\n",
       "    <tr style=\"text-align: right;\">\n",
       "      <th></th>\n",
       "      <th>asset</th>\n",
       "      <th>free</th>\n",
       "      <th>locked</th>\n",
       "    </tr>\n",
       "  </thead>\n",
       "  <tbody>\n",
       "    <tr>\n",
       "      <th>0</th>\n",
       "      <td>BNB</td>\n",
       "      <td>2.00000000</td>\n",
       "      <td>0.00000000</td>\n",
       "    </tr>\n",
       "    <tr>\n",
       "      <th>1</th>\n",
       "      <td>BTC</td>\n",
       "      <td>1.00000000</td>\n",
       "      <td>0.00000000</td>\n",
       "    </tr>\n",
       "    <tr>\n",
       "      <th>2</th>\n",
       "      <td>BUSD</td>\n",
       "      <td>10000.00000000</td>\n",
       "      <td>0.00000000</td>\n",
       "    </tr>\n",
       "    <tr>\n",
       "      <th>3</th>\n",
       "      <td>ETH</td>\n",
       "      <td>1.00000000</td>\n",
       "      <td>0.00000000</td>\n",
       "    </tr>\n",
       "    <tr>\n",
       "      <th>4</th>\n",
       "      <td>LTC</td>\n",
       "      <td>7.00000000</td>\n",
       "      <td>0.00000000</td>\n",
       "    </tr>\n",
       "    <tr>\n",
       "      <th>...</th>\n",
       "      <td>...</td>\n",
       "      <td>...</td>\n",
       "      <td>...</td>\n",
       "    </tr>\n",
       "    <tr>\n",
       "      <th>80</th>\n",
       "      <td>CMT</td>\n",
       "      <td>19425.00000000</td>\n",
       "      <td>0.00000000</td>\n",
       "    </tr>\n",
       "    <tr>\n",
       "      <th>81</th>\n",
       "      <td>XLM</td>\n",
       "      <td>4167.00000000</td>\n",
       "      <td>0.00000000</td>\n",
       "    </tr>\n",
       "    <tr>\n",
       "      <th>82</th>\n",
       "      <td>CND</td>\n",
       "      <td>24737.00000000</td>\n",
       "      <td>0.00000000</td>\n",
       "    </tr>\n",
       "    <tr>\n",
       "      <th>83</th>\n",
       "      <td>LEND</td>\n",
       "      <td>972.00000000</td>\n",
       "      <td>0.00000000</td>\n",
       "    </tr>\n",
       "    <tr>\n",
       "      <th>84</th>\n",
       "      <td>WABI</td>\n",
       "      <td>46530.00000000</td>\n",
       "      <td>0.00000000</td>\n",
       "    </tr>\n",
       "  </tbody>\n",
       "</table>\n",
       "<p>85 rows × 3 columns</p>\n",
       "</div>"
      ],
      "text/plain": [
       "   asset            free      locked\n",
       "0    BNB      2.00000000  0.00000000\n",
       "1    BTC      1.00000000  0.00000000\n",
       "2   BUSD  10000.00000000  0.00000000\n",
       "3    ETH      1.00000000  0.00000000\n",
       "4    LTC      7.00000000  0.00000000\n",
       "..   ...             ...         ...\n",
       "80   CMT  19425.00000000  0.00000000\n",
       "81   XLM   4167.00000000  0.00000000\n",
       "82   CND  24737.00000000  0.00000000\n",
       "83  LEND    972.00000000  0.00000000\n",
       "84  WABI  46530.00000000  0.00000000\n",
       "\n",
       "[85 rows x 3 columns]"
      ]
     },
     "execution_count": 10,
     "metadata": {},
     "output_type": "execute_result"
    }
   ],
   "source": [
    "df = pd.DataFrame(account[\"balances\"])\n",
    "df"
   ]
  },
  {
   "cell_type": "code",
   "execution_count": 11,
   "id": "81f70401",
   "metadata": {},
   "outputs": [],
   "source": [
    "df.free = pd.to_numeric(df.free, errors = \"coerce\")\n",
    "df.locked = pd.to_numeric(df.locked, errors = \"coerce\")"
   ]
  },
  {
   "cell_type": "code",
   "execution_count": 12,
   "id": "390d6f03",
   "metadata": {},
   "outputs": [
    {
     "name": "stdout",
     "output_type": "stream",
     "text": [
      "<class 'pandas.core.frame.DataFrame'>\n",
      "RangeIndex: 85 entries, 0 to 84\n",
      "Data columns (total 3 columns):\n",
      " #   Column  Non-Null Count  Dtype  \n",
      "---  ------  --------------  -----  \n",
      " 0   asset   85 non-null     object \n",
      " 1   free    85 non-null     float64\n",
      " 2   locked  85 non-null     float64\n",
      "dtypes: float64(2), object(1)\n",
      "memory usage: 2.1+ KB\n"
     ]
    }
   ],
   "source": [
    "df.info()"
   ]
  },
  {
   "cell_type": "code",
   "execution_count": 13,
   "id": "3d5a5dfc",
   "metadata": {},
   "outputs": [
    {
     "data": {
      "text/plain": [
       "{'asset': 'BTC', 'free': '1.00000000', 'locked': '0.00000000'}"
      ]
     },
     "execution_count": 13,
     "metadata": {},
     "output_type": "execute_result"
    }
   ],
   "source": [
    "client.get_asset_balance(asset = \"BTC\")"
   ]
  },
  {
   "cell_type": "code",
   "execution_count": 14,
   "id": "cf953033",
   "metadata": {},
   "outputs": [
    {
     "data": {
      "text/plain": [
       "{'asset': 'ETH', 'free': '1.00000000', 'locked': '0.00000000'}"
      ]
     },
     "execution_count": 14,
     "metadata": {},
     "output_type": "execute_result"
    }
   ],
   "source": [
    "client.get_asset_balance(asset = \"ETH\")"
   ]
  },
  {
   "cell_type": "code",
   "execution_count": 15,
   "id": "93c8b40a",
   "metadata": {},
   "outputs": [],
   "source": [
    "client.get_asset_balance(asset = \"EUR\")"
   ]
  },
  {
   "cell_type": "code",
   "execution_count": 16,
   "id": "84360e93",
   "metadata": {},
   "outputs": [
    {
     "data": {
      "text/plain": [
       "{'symbol': 'BTCUSDT', 'price': '25846.74000000'}"
      ]
     },
     "execution_count": 16,
     "metadata": {},
     "output_type": "execute_result"
    }
   ],
   "source": [
    "client.get_symbol_ticker(symbol = \"BTCUSDT\") # current price for one symbol"
   ]
  },
  {
   "cell_type": "code",
   "execution_count": 17,
   "id": "652274fc",
   "metadata": {},
   "outputs": [
    {
     "data": {
      "text/plain": [
       "[{'symbol': 'BNBBUSD', 'price': '212.50000000'},\n",
       " {'symbol': 'BTCBUSD', 'price': '25846.50000000'},\n",
       " {'symbol': 'ETHBUSD', 'price': '1618.21000000'},\n",
       " {'symbol': 'LTCBUSD', 'price': '61.19000000'},\n",
       " {'symbol': 'TRXBUSD', 'price': '0.07828000'},\n",
       " {'symbol': 'XRPBUSD', 'price': '0.49830000'},\n",
       " {'symbol': 'BNBUSDT', 'price': '212.50000000'},\n",
       " {'symbol': 'BTCUSDT', 'price': '25846.74000000'},\n",
       " {'symbol': 'ETHUSDT', 'price': '1618.35000000'},\n",
       " {'symbol': 'LTCUSDT', 'price': '61.19000000'},\n",
       " {'symbol': 'TRXUSDT', 'price': '0.07831000'},\n",
       " {'symbol': 'XRPUSDT', 'price': '0.49840000'},\n",
       " {'symbol': 'BNBBTC', 'price': '0.00822400'},\n",
       " {'symbol': 'ETHBTC', 'price': '0.06262000'},\n",
       " {'symbol': 'LTCBTC', 'price': '0.00236700'},\n",
       " {'symbol': 'TRXBTC', 'price': '0.00000302'},\n",
       " {'symbol': 'XRPBTC', 'price': '0.00001928'},\n",
       " {'symbol': 'LTCBNB', 'price': '0.28740000'},\n",
       " {'symbol': 'TRXBNB', 'price': '0.00036850'},\n",
       " {'symbol': 'XRPBNB', 'price': '0.00234600'},\n",
       " {'symbol': 'NEOBTC', 'price': '0.00027510'},\n",
       " {'symbol': 'QTUMETH', 'price': '0.00128200'},\n",
       " {'symbol': 'EOSETH', 'price': '0.00034770'},\n",
       " {'symbol': 'SNTETH', 'price': '0.00001347'},\n",
       " {'symbol': 'BNTETH', 'price': '0.00025070'},\n",
       " {'symbol': 'BCCBTC', 'price': '0.07908100'},\n",
       " {'symbol': 'GASBTC', 'price': '0.00008660'},\n",
       " {'symbol': 'BNBETH', 'price': '0.13130000'},\n",
       " {'symbol': 'HSRBTC', 'price': '0.00041400'},\n",
       " {'symbol': 'OAXETH', 'price': '0.00017780'},\n",
       " {'symbol': 'DNTETH', 'price': '0.00002801'},\n",
       " {'symbol': 'MCOETH', 'price': '0.00577200'},\n",
       " {'symbol': 'ICNETH', 'price': '0.00166300'},\n",
       " {'symbol': 'MCOBTC', 'price': '0.00021140'},\n",
       " {'symbol': 'WTCBTC', 'price': '0.00000564'},\n",
       " {'symbol': 'WTCETH', 'price': '0.00023700'},\n",
       " {'symbol': 'LRCBTC', 'price': '0.00000716'},\n",
       " {'symbol': 'LRCETH', 'price': '0.00011404'},\n",
       " {'symbol': 'QTUMBTC', 'price': '0.00008000'},\n",
       " {'symbol': 'YOYOBTC', 'price': '0.00000000'},\n",
       " {'symbol': 'OMGBTC', 'price': '0.00003080'},\n",
       " {'symbol': 'OMGETH', 'price': '0.00079100'},\n",
       " {'symbol': 'ZRXBTC', 'price': '0.00000648'},\n",
       " {'symbol': 'ZRXETH', 'price': '0.00009940'},\n",
       " {'symbol': 'STRATBTC', 'price': '0.00003085'},\n",
       " {'symbol': 'STRATETH', 'price': '0.00105300'},\n",
       " {'symbol': 'SNGLSBTC', 'price': '0.00000013'},\n",
       " {'symbol': 'SNGLSETH', 'price': '0.00005306'},\n",
       " {'symbol': 'BQXBTC', 'price': '0.00008703'},\n",
       " {'symbol': 'BQXETH', 'price': '0.00000000'},\n",
       " {'symbol': 'KNCBTC', 'price': '0.00002055'},\n",
       " {'symbol': 'KNCETH', 'price': '0.00039410'},\n",
       " {'symbol': 'FUNBTC', 'price': '0.00000029'},\n",
       " {'symbol': 'FUNETH', 'price': '0.00000260'},\n",
       " {'symbol': 'SNMBTC', 'price': '0.00000057'},\n",
       " {'symbol': 'SNMETH', 'price': '0.00004986'},\n",
       " {'symbol': 'NEOETH', 'price': '0.00440300'},\n",
       " {'symbol': 'IOTABTC', 'price': '0.00000664'},\n",
       " {'symbol': 'IOTAETH', 'price': '0.00010640'},\n",
       " {'symbol': 'LINKBTC', 'price': '0.00023280'},\n",
       " {'symbol': 'LINKETH', 'price': '0.00372300'},\n",
       " {'symbol': 'XVGBTC', 'price': '0.00000015'},\n",
       " {'symbol': 'XVGETH', 'price': '0.00000223'},\n",
       " {'symbol': 'SALTBTC', 'price': '0.00004250'},\n",
       " {'symbol': 'SALTETH', 'price': '0.00113800'},\n",
       " {'symbol': 'MDABTC', 'price': '0.00000382'},\n",
       " {'symbol': 'MDAETH', 'price': '0.00181150'},\n",
       " {'symbol': 'MTLBTC', 'price': '0.00004958'},\n",
       " {'symbol': 'MTLETH', 'price': '0.00068340'},\n",
       " {'symbol': 'SUBBTC', 'price': '0.00000457'},\n",
       " {'symbol': 'SUBETH', 'price': '0.00012334'},\n",
       " {'symbol': 'EOSBTC', 'price': '0.00002180'},\n",
       " {'symbol': 'SNTBTC', 'price': '0.00000084'},\n",
       " {'symbol': 'ETCETH', 'price': '0.00928000'},\n",
       " {'symbol': 'ETCBTC', 'price': '0.00058400'},\n",
       " {'symbol': 'MTHBTC', 'price': '0.00000023'},\n",
       " {'symbol': 'MTHETH', 'price': '0.00004135'},\n",
       " {'symbol': 'ENGBTC', 'price': '0.00006200'},\n",
       " {'symbol': 'ENGETH', 'price': '0.00186480'},\n",
       " {'symbol': 'DNTBTC', 'price': '0.00000186'},\n",
       " {'symbol': 'ZECBTC', 'price': '0.00095900'},\n",
       " {'symbol': 'ZECETH', 'price': '0.01533000'},\n",
       " {'symbol': 'BNTBTC', 'price': '0.00001580'},\n",
       " {'symbol': 'ASTBTC', 'price': '0.00000328'},\n",
       " {'symbol': 'ASTETH', 'price': '0.00006960'},\n",
       " {'symbol': 'DASHBTC', 'price': '0.00099300'},\n",
       " {'symbol': 'DASHETH', 'price': '0.01584000'},\n",
       " {'symbol': 'OAXBTC', 'price': '0.00000542'},\n",
       " {'symbol': 'ICNBTC', 'price': '0.00005742'},\n",
       " {'symbol': 'BTGBTC', 'price': '0.00091300'},\n",
       " {'symbol': 'BTGETH', 'price': '0.05274500'},\n",
       " {'symbol': 'EVXBTC', 'price': '0.00000274'},\n",
       " {'symbol': 'EVXETH', 'price': '0.00062490'},\n",
       " {'symbol': 'REQBTC', 'price': '0.00000245'},\n",
       " {'symbol': 'REQETH', 'price': '0.00004995'},\n",
       " {'symbol': 'VIBBTC', 'price': '0.00000160'},\n",
       " {'symbol': 'VIBETH', 'price': '0.00003450'},\n",
       " {'symbol': 'HSRETH', 'price': '0.01247400'},\n",
       " {'symbol': 'TRXETH', 'price': '0.00004832'},\n",
       " {'symbol': 'POWRBTC', 'price': '0.00000515'},\n",
       " {'symbol': 'POWRETH', 'price': '0.00008210'},\n",
       " {'symbol': 'ARKBTC', 'price': '0.00001679'},\n",
       " {'symbol': 'ARKETH', 'price': '0.00104600'},\n",
       " {'symbol': 'YOYOETH', 'price': '0.00005828'},\n",
       " {'symbol': 'XRPETH', 'price': '0.00030800'},\n",
       " {'symbol': 'MODBTC', 'price': '0.00004280'},\n",
       " {'symbol': 'MODETH', 'price': '0.00116700'},\n",
       " {'symbol': 'ENJBTC', 'price': '0.00000920'},\n",
       " {'symbol': 'ENJETH', 'price': '0.00015320'},\n",
       " {'symbol': 'STORJBTC', 'price': '0.00001170'},\n",
       " {'symbol': 'STORJETH', 'price': '0.00029910'},\n",
       " {'symbol': 'VENBNB', 'price': '0.14920000'},\n",
       " {'symbol': 'YOYOBNB', 'price': '0.00059800'},\n",
       " {'symbol': 'POWRBNB', 'price': '0.00385000'},\n",
       " {'symbol': 'VENBTC', 'price': '0.00013928'},\n",
       " {'symbol': 'VENETH', 'price': '0.00325194'},\n",
       " {'symbol': 'KMDBTC', 'price': '0.00000833'},\n",
       " {'symbol': 'KMDETH', 'price': '0.00020970'},\n",
       " {'symbol': 'NULSBNB', 'price': '0.01257000'},\n",
       " {'symbol': 'RCNBTC', 'price': '0.00000074'},\n",
       " {'symbol': 'RCNETH', 'price': '0.00037604'},\n",
       " {'symbol': 'RCNBNB', 'price': '0.00347300'},\n",
       " {'symbol': 'NULSBTC', 'price': '0.00000694'},\n",
       " {'symbol': 'NULSETH', 'price': '0.00051926'},\n",
       " {'symbol': 'RDNBTC', 'price': '0.00000447'},\n",
       " {'symbol': 'RDNETH', 'price': '0.00071530'},\n",
       " {'symbol': 'RDNBNB', 'price': '0.00623000'},\n",
       " {'symbol': 'XMRBTC', 'price': '0.00555900'},\n",
       " {'symbol': 'XMRETH', 'price': '0.08876000'},\n",
       " {'symbol': 'DLTBNB', 'price': '0.00240000'},\n",
       " {'symbol': 'WTCBNB', 'price': '0.00180500'},\n",
       " {'symbol': 'DLTBTC', 'price': '0.00000071'},\n",
       " {'symbol': 'DLTETH', 'price': '0.00016807'},\n",
       " {'symbol': 'AMBBTC', 'price': '0.00000029'},\n",
       " {'symbol': 'AMBETH', 'price': '0.00004100'},\n",
       " {'symbol': 'AMBBNB', 'price': '0.00068500'},\n",
       " {'symbol': 'BCCETH', 'price': '2.47246000'},\n",
       " {'symbol': 'BCCUSDT', 'price': '448.70000000'},\n",
       " {'symbol': 'BCCBNB', 'price': '54.29000000'},\n",
       " {'symbol': 'BATBTC', 'price': '0.00000642'},\n",
       " {'symbol': 'BATETH', 'price': '0.00010570'},\n",
       " {'symbol': 'BATBNB', 'price': '0.00183100'},\n",
       " {'symbol': 'BCPTBTC', 'price': '0.00000048'},\n",
       " {'symbol': 'BCPTETH', 'price': '0.00008181'},\n",
       " {'symbol': 'BCPTBNB', 'price': '0.00116200'},\n",
       " {'symbol': 'ARNBTC', 'price': '0.00000761'},\n",
       " {'symbol': 'ARNETH', 'price': '0.00029362'},\n",
       " {'symbol': 'GVTBTC', 'price': '0.00001792'},\n",
       " {'symbol': 'GVTETH', 'price': '0.00384600'},\n",
       " {'symbol': 'CDTBTC', 'price': '0.00000317'},\n",
       " {'symbol': 'CDTETH', 'price': '0.00005119'},\n",
       " {'symbol': 'GXSBTC', 'price': '0.00004581'},\n",
       " {'symbol': 'GXSETH', 'price': '0.00062460'},\n",
       " {'symbol': 'NEOUSDT', 'price': '7.13000000'},\n",
       " {'symbol': 'NEOBNB', 'price': '0.03315000'},\n",
       " {'symbol': 'POEBTC', 'price': '0.00000005'},\n",
       " {'symbol': 'POEETH', 'price': '0.00000664'},\n",
       " {'symbol': 'QSPBTC', 'price': '0.00000076'},\n",
       " {'symbol': 'QSPETH', 'price': '0.00002249'},\n",
       " {'symbol': 'QSPBNB', 'price': '0.00052350'},\n",
       " {'symbol': 'BTSBTC', 'price': '0.00000043'},\n",
       " {'symbol': 'BTSETH', 'price': '0.00009498'},\n",
       " {'symbol': 'BTSBNB', 'price': '0.00144800'},\n",
       " {'symbol': 'XZCBTC', 'price': '0.00013550'},\n",
       " {'symbol': 'XZCETH', 'price': '0.00310000'},\n",
       " {'symbol': 'XZCBNB', 'price': '0.26750000'},\n",
       " {'symbol': 'LSKBTC', 'price': '0.00002677'},\n",
       " {'symbol': 'LSKETH', 'price': '0.00042800'},\n",
       " {'symbol': 'LSKBNB', 'price': '0.06494000'},\n",
       " {'symbol': 'TNTBTC', 'price': '0.00000261'},\n",
       " {'symbol': 'TNTETH', 'price': '0.00000920'},\n",
       " {'symbol': 'FUELBTC', 'price': '0.00000026'},\n",
       " {'symbol': 'FUELETH', 'price': '0.00002221'},\n",
       " {'symbol': 'MANABTC', 'price': '0.00001098'},\n",
       " {'symbol': 'MANAETH', 'price': '0.00017880'},\n",
       " {'symbol': 'BCDBTC', 'price': '0.00001351'},\n",
       " {'symbol': 'BCDETH', 'price': '0.00251000'},\n",
       " {'symbol': 'DGDBTC', 'price': '0.00393100'},\n",
       " {'symbol': 'DGDETH', 'price': '0.19260000'},\n",
       " {'symbol': 'IOTABNB', 'price': '0.00071700'},\n",
       " {'symbol': 'ADXBTC', 'price': '0.00000502'},\n",
       " {'symbol': 'ADXETH', 'price': '0.00008020'},\n",
       " {'symbol': 'ADXBNB', 'price': '0.00492900'},\n",
       " {'symbol': 'ADABTC', 'price': '0.00000964'},\n",
       " {'symbol': 'ADAETH', 'price': '0.00015380'},\n",
       " {'symbol': 'PPTBTC', 'price': '0.00001855'},\n",
       " {'symbol': 'PPTETH', 'price': '0.00141000'},\n",
       " {'symbol': 'CMTBTC', 'price': '0.00000028'},\n",
       " {'symbol': 'CMTETH', 'price': '0.00000625'},\n",
       " {'symbol': 'CMTBNB', 'price': '0.00057700'},\n",
       " {'symbol': 'XLMBTC', 'price': '0.00000519'},\n",
       " {'symbol': 'XLMETH', 'price': '0.00008290'},\n",
       " {'symbol': 'XLMBNB', 'price': '0.00062740'},\n",
       " {'symbol': 'CNDBTC', 'price': '0.00000006'},\n",
       " {'symbol': 'CNDETH', 'price': '0.00002599'},\n",
       " {'symbol': 'CNDBNB', 'price': '0.00033990'},\n",
       " {'symbol': 'LENDBTC', 'price': '0.00004512'},\n",
       " {'symbol': 'LENDETH', 'price': '0.00137174'},\n",
       " {'symbol': 'WABIBTC', 'price': '0.00000030'},\n",
       " {'symbol': 'WABIETH', 'price': '0.00040308'}]"
      ]
     },
     "execution_count": 17,
     "metadata": {},
     "output_type": "execute_result"
    }
   ],
   "source": [
    "# get current prices for all pairs\n",
    "client.get_all_tickers()"
   ]
  },
  {
   "cell_type": "code",
   "execution_count": 18,
   "id": "69749ee7",
   "metadata": {},
   "outputs": [
    {
     "data": {
      "text/plain": [
       "{'symbol': 'BTCUSDT',\n",
       " 'priceChange': '-57.25000000',\n",
       " 'priceChangePercent': '-0.221',\n",
       " 'weightedAvgPrice': '25776.16680931',\n",
       " 'prevClosePrice': '25903.48000000',\n",
       " 'lastPrice': '25845.83000000',\n",
       " 'lastQty': '0.01652800',\n",
       " 'bidPrice': '25845.83000000',\n",
       " 'bidQty': '0.00978200',\n",
       " 'askPrice': '25846.59000000',\n",
       " 'askQty': '0.01348200',\n",
       " 'openPrice': '25903.08000000',\n",
       " 'highPrice': '26302.00000000',\n",
       " 'lowPrice': '9000.00000000',\n",
       " 'volume': '1372.09896300',\n",
       " 'quoteVolume': '35367451.74917180',\n",
       " 'openTime': 1694302963287,\n",
       " 'closeTime': 1694389363287,\n",
       " 'firstId': 256547,\n",
       " 'lastId': 332271,\n",
       " 'count': 75725}"
      ]
     },
     "execution_count": 18,
     "metadata": {},
     "output_type": "execute_result"
    }
   ],
   "source": [
    "last24 = client.get_ticker(symbol = \"BTCUSDT\") # 24H Price change statistic\n",
    "last24"
   ]
  },
  {
   "cell_type": "code",
   "execution_count": 19,
   "id": "6a4d174a",
   "metadata": {},
   "outputs": [
    {
     "data": {
      "text/plain": [
       "1693958400000"
      ]
     },
     "execution_count": 19,
     "metadata": {},
     "output_type": "execute_result"
    }
   ],
   "source": [
    "timestamp = client._get_earliest_valid_timestamp(symbol = \"BTCUSDT\", interval = \"1d\")\n",
    "timestamp"
   ]
  },
  {
   "cell_type": "code",
   "execution_count": 20,
   "id": "564e7e2a",
   "metadata": {},
   "outputs": [
    {
     "data": {
      "text/plain": [
       "Timestamp('2023-09-06 00:00:00')"
      ]
     },
     "execution_count": 20,
     "metadata": {},
     "output_type": "execute_result"
    }
   ],
   "source": [
    "pd.to_datetime(timestamp, unit = \"ms\") # reset every month!!!"
   ]
  },
  {
   "cell_type": "code",
   "execution_count": 21,
   "id": "2e361b59",
   "metadata": {},
   "outputs": [],
   "source": [
    "def get_history(symbol, interval, start, end = None):\n",
    "    bars = client.get_historical_klines(symbol = symbol, interval = interval,\n",
    "                                        start_str = start, end_str = end, limit = 1000)\n",
    "    df = pd.DataFrame(bars)\n",
    "    df[\"Date\"] = pd.to_datetime(df.iloc[:,0], unit = \"ms\")\n",
    "    df.columns = [\"Open Time\", \"Open\", \"High\", \"Low\", \"Close\", \"Volume\",\n",
    "                  \"Clos Time\", \"Quote Asset Volume\", \"Number of Trades\",\n",
    "                  \"Taker Buy Base Asset Volume\", \"Taker Buy Quote Asset Volume\", \"Ignore\", \"Date\"]\n",
    "    df = df[[\"Date\", \"Open\", \"High\", \"Low\", \"Close\", \"Volume\"]].copy()\n",
    "    df.set_index(\"Date\", inplace = True)\n",
    "    for column in df.columns:\n",
    "        df[column] = pd.to_numeric(df[column], errors = \"coerce\")\n",
    "    \n",
    "    return df"
   ]
  },
  {
   "cell_type": "code",
   "execution_count": 22,
   "id": "97329e22",
   "metadata": {},
   "outputs": [
    {
     "data": {
      "text/html": [
       "<div>\n",
       "<style scoped>\n",
       "    .dataframe tbody tr th:only-of-type {\n",
       "        vertical-align: middle;\n",
       "    }\n",
       "\n",
       "    .dataframe tbody tr th {\n",
       "        vertical-align: top;\n",
       "    }\n",
       "\n",
       "    .dataframe thead th {\n",
       "        text-align: right;\n",
       "    }\n",
       "</style>\n",
       "<table border=\"1\" class=\"dataframe\">\n",
       "  <thead>\n",
       "    <tr style=\"text-align: right;\">\n",
       "      <th></th>\n",
       "      <th>Open</th>\n",
       "      <th>High</th>\n",
       "      <th>Low</th>\n",
       "      <th>Close</th>\n",
       "      <th>Volume</th>\n",
       "    </tr>\n",
       "    <tr>\n",
       "      <th>Date</th>\n",
       "      <th></th>\n",
       "      <th></th>\n",
       "      <th></th>\n",
       "      <th></th>\n",
       "      <th></th>\n",
       "    </tr>\n",
       "  </thead>\n",
       "  <tbody>\n",
       "    <tr>\n",
       "      <th>2023-09-06</th>\n",
       "      <td>26846.26</td>\n",
       "      <td>28268.13</td>\n",
       "      <td>10000.00</td>\n",
       "      <td>25759.90</td>\n",
       "      <td>1609.400310</td>\n",
       "    </tr>\n",
       "    <tr>\n",
       "      <th>2023-09-07</th>\n",
       "      <td>25759.94</td>\n",
       "      <td>26532.58</td>\n",
       "      <td>10000.00</td>\n",
       "      <td>26253.04</td>\n",
       "      <td>3328.887766</td>\n",
       "    </tr>\n",
       "    <tr>\n",
       "      <th>2023-09-08</th>\n",
       "      <td>26253.90</td>\n",
       "      <td>26438.03</td>\n",
       "      <td>10000.00</td>\n",
       "      <td>25910.49</td>\n",
       "      <td>1986.573462</td>\n",
       "    </tr>\n",
       "    <tr>\n",
       "      <th>2023-09-09</th>\n",
       "      <td>25910.66</td>\n",
       "      <td>26226.07</td>\n",
       "      <td>25251.54</td>\n",
       "      <td>25901.60</td>\n",
       "      <td>572.468637</td>\n",
       "    </tr>\n",
       "    <tr>\n",
       "      <th>2023-09-10</th>\n",
       "      <td>25901.61</td>\n",
       "      <td>26302.00</td>\n",
       "      <td>9000.00</td>\n",
       "      <td>25845.83</td>\n",
       "      <td>1368.871617</td>\n",
       "    </tr>\n",
       "  </tbody>\n",
       "</table>\n",
       "</div>"
      ],
      "text/plain": [
       "                Open      High       Low     Close       Volume\n",
       "Date                                                           \n",
       "2023-09-06  26846.26  28268.13  10000.00  25759.90  1609.400310\n",
       "2023-09-07  25759.94  26532.58  10000.00  26253.04  3328.887766\n",
       "2023-09-08  26253.90  26438.03  10000.00  25910.49  1986.573462\n",
       "2023-09-09  25910.66  26226.07  25251.54  25901.60   572.468637\n",
       "2023-09-10  25901.61  26302.00   9000.00  25845.83  1368.871617"
      ]
     },
     "execution_count": 22,
     "metadata": {},
     "output_type": "execute_result"
    }
   ],
   "source": [
    "df = get_history(symbol = \"BTCUSDT\", interval = \"1d\", start = timestamp)\n",
    "df"
   ]
  },
  {
   "cell_type": "code",
   "execution_count": 23,
   "id": "a860eb2e",
   "metadata": {},
   "outputs": [
    {
     "data": {
      "text/html": [
       "<div>\n",
       "<style scoped>\n",
       "    .dataframe tbody tr th:only-of-type {\n",
       "        vertical-align: middle;\n",
       "    }\n",
       "\n",
       "    .dataframe tbody tr th {\n",
       "        vertical-align: top;\n",
       "    }\n",
       "\n",
       "    .dataframe thead th {\n",
       "        text-align: right;\n",
       "    }\n",
       "</style>\n",
       "<table border=\"1\" class=\"dataframe\">\n",
       "  <thead>\n",
       "    <tr style=\"text-align: right;\">\n",
       "      <th></th>\n",
       "      <th>Open</th>\n",
       "      <th>High</th>\n",
       "      <th>Low</th>\n",
       "      <th>Close</th>\n",
       "      <th>Volume</th>\n",
       "    </tr>\n",
       "    <tr>\n",
       "      <th>Date</th>\n",
       "      <th></th>\n",
       "      <th></th>\n",
       "      <th></th>\n",
       "      <th></th>\n",
       "      <th></th>\n",
       "    </tr>\n",
       "  </thead>\n",
       "  <tbody>\n",
       "    <tr>\n",
       "      <th>2023-09-06 13:00:00</th>\n",
       "      <td>26846.26</td>\n",
       "      <td>26846.26</td>\n",
       "      <td>10000.00</td>\n",
       "      <td>26577.80</td>\n",
       "      <td>3.705516</td>\n",
       "    </tr>\n",
       "    <tr>\n",
       "      <th>2023-09-06 14:00:00</th>\n",
       "      <td>26577.80</td>\n",
       "      <td>28268.13</td>\n",
       "      <td>22672.64</td>\n",
       "      <td>26009.28</td>\n",
       "      <td>8.581807</td>\n",
       "    </tr>\n",
       "    <tr>\n",
       "      <th>2023-09-06 15:00:00</th>\n",
       "      <td>26009.28</td>\n",
       "      <td>28268.00</td>\n",
       "      <td>20000.00</td>\n",
       "      <td>25587.42</td>\n",
       "      <td>63.642582</td>\n",
       "    </tr>\n",
       "    <tr>\n",
       "      <th>2023-09-06 16:00:00</th>\n",
       "      <td>25588.01</td>\n",
       "      <td>25638.50</td>\n",
       "      <td>25553.95</td>\n",
       "      <td>25594.14</td>\n",
       "      <td>170.641942</td>\n",
       "    </tr>\n",
       "    <tr>\n",
       "      <th>2023-09-06 17:00:00</th>\n",
       "      <td>25595.19</td>\n",
       "      <td>26031.34</td>\n",
       "      <td>25113.28</td>\n",
       "      <td>25869.74</td>\n",
       "      <td>326.280618</td>\n",
       "    </tr>\n",
       "    <tr>\n",
       "      <th>...</th>\n",
       "      <td>...</td>\n",
       "      <td>...</td>\n",
       "      <td>...</td>\n",
       "      <td>...</td>\n",
       "      <td>...</td>\n",
       "    </tr>\n",
       "    <tr>\n",
       "      <th>2023-09-10 19:00:00</th>\n",
       "      <td>25728.22</td>\n",
       "      <td>26059.19</td>\n",
       "      <td>12848.15</td>\n",
       "      <td>25799.99</td>\n",
       "      <td>81.032164</td>\n",
       "    </tr>\n",
       "    <tr>\n",
       "      <th>2023-09-10 20:00:00</th>\n",
       "      <td>25799.99</td>\n",
       "      <td>25983.50</td>\n",
       "      <td>23774.85</td>\n",
       "      <td>25819.00</td>\n",
       "      <td>116.734440</td>\n",
       "    </tr>\n",
       "    <tr>\n",
       "      <th>2023-09-10 21:00:00</th>\n",
       "      <td>25820.35</td>\n",
       "      <td>26098.50</td>\n",
       "      <td>9311.80</td>\n",
       "      <td>25901.22</td>\n",
       "      <td>113.830723</td>\n",
       "    </tr>\n",
       "    <tr>\n",
       "      <th>2023-09-10 22:00:00</th>\n",
       "      <td>25901.77</td>\n",
       "      <td>26018.50</td>\n",
       "      <td>20000.00</td>\n",
       "      <td>25851.93</td>\n",
       "      <td>143.271181</td>\n",
       "    </tr>\n",
       "    <tr>\n",
       "      <th>2023-09-10 23:00:00</th>\n",
       "      <td>25852.35</td>\n",
       "      <td>25864.99</td>\n",
       "      <td>25817.37</td>\n",
       "      <td>25845.83</td>\n",
       "      <td>59.908155</td>\n",
       "    </tr>\n",
       "  </tbody>\n",
       "</table>\n",
       "<p>107 rows × 5 columns</p>\n",
       "</div>"
      ],
      "text/plain": [
       "                         Open      High       Low     Close      Volume\n",
       "Date                                                                   \n",
       "2023-09-06 13:00:00  26846.26  26846.26  10000.00  26577.80    3.705516\n",
       "2023-09-06 14:00:00  26577.80  28268.13  22672.64  26009.28    8.581807\n",
       "2023-09-06 15:00:00  26009.28  28268.00  20000.00  25587.42   63.642582\n",
       "2023-09-06 16:00:00  25588.01  25638.50  25553.95  25594.14  170.641942\n",
       "2023-09-06 17:00:00  25595.19  26031.34  25113.28  25869.74  326.280618\n",
       "...                       ...       ...       ...       ...         ...\n",
       "2023-09-10 19:00:00  25728.22  26059.19  12848.15  25799.99   81.032164\n",
       "2023-09-10 20:00:00  25799.99  25983.50  23774.85  25819.00  116.734440\n",
       "2023-09-10 21:00:00  25820.35  26098.50   9311.80  25901.22  113.830723\n",
       "2023-09-10 22:00:00  25901.77  26018.50  20000.00  25851.93  143.271181\n",
       "2023-09-10 23:00:00  25852.35  25864.99  25817.37  25845.83   59.908155\n",
       "\n",
       "[107 rows x 5 columns]"
      ]
     },
     "execution_count": 23,
     "metadata": {},
     "output_type": "execute_result"
    }
   ],
   "source": [
    "df = get_history(symbol = \"BTCUSDT\", interval = \"1h\", start = \"2021-09-15\")\n",
    "df"
   ]
  },
  {
   "cell_type": "markdown",
   "id": "0648f385",
   "metadata": {},
   "source": [
    "### ++++++ Update (August 2023) ++++++++"
   ]
  },
  {
   "cell_type": "markdown",
   "id": "81128331",
   "metadata": {},
   "source": [
    "There are two alterantives to stream live data with python-binance:\n",
    "- using __ThreadedWebsocketManager__ -or-\n",
    "- using __BinanceSocketManager (newly added to the course)__"
   ]
  },
  {
   "cell_type": "markdown",
   "id": "a0701e19",
   "metadata": {},
   "source": [
    "__What´s the benefit of covering both options?__<br>\n",
    "-> We can now __run Trading Bots in Jupyter and as a Script__ with the __latest Versions__ for Python and Python-Binance. No need to care about Versions and Installations anymore!"
   ]
  },
  {
   "cell_type": "markdown",
   "id": "972e3fa7",
   "metadata": {},
   "source": [
    "For more information, please go back to the previous Lectures (API Intro)!"
   ]
  },
  {
   "cell_type": "markdown",
   "id": "4db8e3e9",
   "metadata": {},
   "source": [
    "### Option 1: ThreadedWebsocketManager (only executable in scripts, not in Jupyter!):"
   ]
  },
  {
   "cell_type": "code",
   "execution_count": 24,
   "id": "6215bd3a",
   "metadata": {},
   "outputs": [],
   "source": [
    "from binance import ThreadedWebsocketManager"
   ]
  },
  {
   "cell_type": "code",
   "execution_count": 25,
   "id": "f3c79706",
   "metadata": {},
   "outputs": [],
   "source": [
    "def stream_data(msg):\n",
    "    ''' define how to process incoming WebSocket messages '''\n",
    "    \n",
    "    time = pd.to_datetime(msg[\"E\"], unit = \"ms\")\n",
    "    price = msg[\"c\"]\n",
    "    \n",
    "    print(\"Time: {} | Price: {}\".format(time, price))"
   ]
  },
  {
   "cell_type": "code",
   "execution_count": 26,
   "id": "9a653d18",
   "metadata": {},
   "outputs": [
    {
     "name": "stderr",
     "output_type": "stream",
     "text": [
      "Exception in thread Thread-4:\n",
      "Traceback (most recent call last):\n",
      "  File \"/Library/Developer/CommandLineTools/Library/Frameworks/Python3.framework/Versions/3.9/lib/python3.9/threading.py\", line 973, in _bootstrap_inner\n",
      "    self.run()\n",
      "  File \"/Users/markwindsor/Desktop/atlas_trade/.venv/lib/python3.9/site-packages/binance/threaded_stream.py\", line 59, in run\n",
      "    self._loop.run_until_complete(self.socket_listener())\n",
      "  File \"/Library/Developer/CommandLineTools/Library/Frameworks/Python3.framework/Versions/3.9/lib/python3.9/asyncio/base_events.py\", line 618, in run_until_complete\n"
     ]
    }
   ],
   "source": [
    "# initialize and start the WebSocket\n",
    "twm = ThreadedWebsocketManager()\n",
    "twm.start()"
   ]
  },
  {
   "cell_type": "code",
   "execution_count": 27,
   "id": "1db6b7b8",
   "metadata": {},
   "outputs": [
    {
     "name": "stderr",
     "output_type": "stream",
     "text": [
      "    self._check_running()\n",
      "  File \"/Library/Developer/CommandLineTools/Library/Frameworks/Python3.framework/Versions/3.9/lib/python3.9/asyncio/base_events.py\", line 578, in _check_running\n",
      "    raise RuntimeError('This event loop is already running')\n",
      "RuntimeError: This event loop is already running\n"
     ]
    },
    {
     "name": "stderr",
     "output_type": "stream",
     "text": [
      "/Library/Developer/CommandLineTools/Library/Frameworks/Python3.framework/Versions/3.9/lib/python3.9/threading.py:975: RuntimeWarning: coroutine 'ThreadedApiManager.socket_listener' was never awaited\n",
      "  self._invoke_excepthook(self)\n",
      "RuntimeWarning: Enable tracemalloc to get the object allocation traceback\n"
     ]
    },
    {
     "ename": "KeyboardInterrupt",
     "evalue": "",
     "output_type": "error",
     "traceback": [
      "\u001b[0;31m---------------------------------------------------------------------------\u001b[0m",
      "\u001b[0;31mKeyboardInterrupt\u001b[0m                         Traceback (most recent call last)",
      "Cell \u001b[0;32mIn[27], line 2\u001b[0m\n\u001b[1;32m      1\u001b[0m \u001b[39m# subscribe to the stream\u001b[39;00m\n\u001b[0;32m----> 2\u001b[0m twm\u001b[39m.\u001b[39;49mstart_symbol_miniticker_socket(callback \u001b[39m=\u001b[39;49m stream_data, symbol \u001b[39m=\u001b[39;49m \u001b[39m\"\u001b[39;49m\u001b[39mBTCUSDT\u001b[39;49m\u001b[39m\"\u001b[39;49m)\n",
      "File \u001b[0;32m~/Desktop/atlas_trade/.venv/lib/python3.9/site-packages/binance/streams.py:1305\u001b[0m, in \u001b[0;36mThreadedWebsocketManager.start_symbol_miniticker_socket\u001b[0;34m(self, callback, symbol)\u001b[0m\n\u001b[1;32m   1304\u001b[0m \u001b[39mdef\u001b[39;00m \u001b[39mstart_symbol_miniticker_socket\u001b[39m(\u001b[39mself\u001b[39m, callback: Callable, symbol: \u001b[39mstr\u001b[39m) \u001b[39m-\u001b[39m\u001b[39m>\u001b[39m \u001b[39mstr\u001b[39m:\n\u001b[0;32m-> 1305\u001b[0m     \u001b[39mreturn\u001b[39;00m \u001b[39mself\u001b[39;49m\u001b[39m.\u001b[39;49m_start_async_socket(\n\u001b[1;32m   1306\u001b[0m         callback\u001b[39m=\u001b[39;49mcallback,\n\u001b[1;32m   1307\u001b[0m         socket_name\u001b[39m=\u001b[39;49m\u001b[39m'\u001b[39;49m\u001b[39msymbol_miniticker_socket\u001b[39;49m\u001b[39m'\u001b[39;49m,\n\u001b[1;32m   1308\u001b[0m         params\u001b[39m=\u001b[39;49m{\n\u001b[1;32m   1309\u001b[0m             \u001b[39m'\u001b[39;49m\u001b[39msymbol\u001b[39;49m\u001b[39m'\u001b[39;49m: symbol,\n\u001b[1;32m   1310\u001b[0m         }\n\u001b[1;32m   1311\u001b[0m     )\n",
      "File \u001b[0;32m~/Desktop/atlas_trade/.venv/lib/python3.9/site-packages/binance/streams.py:1220\u001b[0m, in \u001b[0;36mThreadedWebsocketManager._start_async_socket\u001b[0;34m(self, callback, socket_name, params, path)\u001b[0m\n\u001b[1;32m   1216\u001b[0m \u001b[39mdef\u001b[39;00m \u001b[39m_start_async_socket\u001b[39m(\n\u001b[1;32m   1217\u001b[0m     \u001b[39mself\u001b[39m, callback: Callable, socket_name: \u001b[39mstr\u001b[39m, params: Dict[\u001b[39mstr\u001b[39m, Any], path: Optional[\u001b[39mstr\u001b[39m] \u001b[39m=\u001b[39m \u001b[39mNone\u001b[39;00m\n\u001b[1;32m   1218\u001b[0m ) \u001b[39m-\u001b[39m\u001b[39m>\u001b[39m \u001b[39mstr\u001b[39m:\n\u001b[1;32m   1219\u001b[0m     \u001b[39mwhile\u001b[39;00m \u001b[39mnot\u001b[39;00m \u001b[39mself\u001b[39m\u001b[39m.\u001b[39m_bsm:\n\u001b[0;32m-> 1220\u001b[0m         time\u001b[39m.\u001b[39;49msleep(\u001b[39m0.1\u001b[39;49m)\n\u001b[1;32m   1221\u001b[0m     socket \u001b[39m=\u001b[39m \u001b[39mgetattr\u001b[39m(\u001b[39mself\u001b[39m\u001b[39m.\u001b[39m_bsm, socket_name)(\u001b[39m*\u001b[39m\u001b[39m*\u001b[39mparams)\n\u001b[1;32m   1222\u001b[0m     socket_path: \u001b[39mstr\u001b[39m \u001b[39m=\u001b[39m path \u001b[39mor\u001b[39;00m socket\u001b[39m.\u001b[39m_path  \u001b[39m# noqa\u001b[39;00m\n",
      "\u001b[0;31mKeyboardInterrupt\u001b[0m: "
     ]
    }
   ],
   "source": [
    "# subscribe to the stream\n",
    "twm.start_symbol_miniticker_socket(callback = stream_data, symbol = \"BTCUSDT\")"
   ]
  },
  {
   "cell_type": "code",
   "execution_count": null,
   "id": "473ab5ee",
   "metadata": {},
   "outputs": [],
   "source": [
    "# stop the Websocket/Stream after 20 seconds\n",
    "while True:\n",
    "    time.sleep(20)\n",
    "    twm.stop()\n",
    "    break"
   ]
  },
  {
   "cell_type": "markdown",
   "id": "9999f1c6",
   "metadata": {},
   "source": [
    "---------------------------"
   ]
  },
  {
   "cell_type": "markdown",
   "id": "34365b7e",
   "metadata": {},
   "source": [
    "### Option 2: BinanceSocketManager (executable in Jupyter!):"
   ]
  },
  {
   "cell_type": "code",
   "execution_count": 28,
   "id": "bda7ad53",
   "metadata": {},
   "outputs": [
    {
     "data": {
      "text/plain": [
       "<function __main__.stream_data(msg)>"
      ]
     },
     "execution_count": 28,
     "metadata": {},
     "output_type": "execute_result"
    }
   ],
   "source": [
    "stream_data"
   ]
  },
  {
   "cell_type": "code",
   "execution_count": 29,
   "id": "d1ea702d",
   "metadata": {},
   "outputs": [],
   "source": [
    "import asyncio\n",
    "from binance import AsyncClient, BinanceSocketManager"
   ]
  },
  {
   "cell_type": "code",
   "execution_count": 30,
   "id": "382e4f2f",
   "metadata": {},
   "outputs": [
    {
     "name": "stdout",
     "output_type": "stream",
     "text": [
      "Time: 2023-09-10 23:43:42.920000 | Price: 25840.26000000\n",
      "Time: 2023-09-10 23:43:44.748000 | Price: 25840.26000000\n",
      "Time: 2023-09-10 23:43:44.848000 | Price: 25840.26000000\n",
      "Time: 2023-09-10 23:43:48.269000 | Price: 25840.25000000\n",
      "Time: 2023-09-10 23:43:51.261000 | Price: 25840.26000000\n",
      "Time: 2023-09-10 23:43:51.834000 | Price: 25840.25000000\n",
      "Time: 2023-09-10 23:43:53.185000 | Price: 25840.25000000\n",
      "Time: 2023-09-10 23:43:55.358000 | Price: 25840.25000000\n",
      "Time: 2023-09-10 23:43:57.628000 | Price: 25840.25000000\n",
      "Time: 2023-09-10 23:43:58.371000 | Price: 25840.25000000\n"
     ]
    }
   ],
   "source": [
    "async def main():\n",
    "    client = await AsyncClient.create()\n",
    "    bm = BinanceSocketManager(client)\n",
    "    ts = bm.symbol_miniticker_socket(symbol = \"BTCUSDT\")\n",
    "    \n",
    "    async with ts as tscm:\n",
    "        for _ in range(10):\n",
    "            res = await tscm.recv()\n",
    "            stream_data(res)\n",
    "\n",
    "    await client.close_connection()\n",
    "await main()"
   ]
  },
  {
   "cell_type": "code",
   "execution_count": null,
   "id": "7d8ff037",
   "metadata": {},
   "outputs": [],
   "source": []
  },
  {
   "cell_type": "markdown",
   "id": "f9c909d8",
   "metadata": {},
   "source": [
    "## Placing a Market Buy Order"
   ]
  },
  {
   "cell_type": "code",
   "execution_count": 31,
   "id": "385a2351",
   "metadata": {},
   "outputs": [],
   "source": [
    "from binance.client import Client\n",
    "import pandas as pd"
   ]
  },
  {
   "cell_type": "code",
   "execution_count": 32,
   "id": "d9de7cad",
   "metadata": {},
   "outputs": [],
   "source": [
    "client = Client(api_key = api_key, api_secret = secret_key, tld = \"com\", testnet = True) "
   ]
  },
  {
   "cell_type": "code",
   "execution_count": 33,
   "id": "66e49c94",
   "metadata": {},
   "outputs": [
    {
     "data": {
      "text/plain": [
       "{'makerCommission': 0,\n",
       " 'takerCommission': 0,\n",
       " 'buyerCommission': 0,\n",
       " 'sellerCommission': 0,\n",
       " 'commissionRates': {'maker': '0.00000000',\n",
       "  'taker': '0.00000000',\n",
       "  'buyer': '0.00000000',\n",
       "  'seller': '0.00000000'},\n",
       " 'canTrade': True,\n",
       " 'canWithdraw': False,\n",
       " 'canDeposit': False,\n",
       " 'brokered': False,\n",
       " 'requireSelfTradePrevention': False,\n",
       " 'preventSor': False,\n",
       " 'updateTime': 1694007827988,\n",
       " 'accountType': 'SPOT',\n",
       " 'balances': [{'asset': 'BNB', 'free': '2.00000000', 'locked': '0.00000000'},\n",
       "  {'asset': 'BTC', 'free': '1.00000000', 'locked': '0.00000000'},\n",
       "  {'asset': 'BUSD', 'free': '10000.00000000', 'locked': '0.00000000'},\n",
       "  {'asset': 'ETH', 'free': '1.00000000', 'locked': '0.00000000'},\n",
       "  {'asset': 'LTC', 'free': '7.00000000', 'locked': '0.00000000'},\n",
       "  {'asset': 'TRX', 'free': '6397.00000000', 'locked': '0.00000000'},\n",
       "  {'asset': 'USDT', 'free': '10000.00000000', 'locked': '0.00000000'},\n",
       "  {'asset': 'XRP', 'free': '997.00000000', 'locked': '0.00000000'},\n",
       "  {'asset': 'NEO', 'free': '68.00000000', 'locked': '0.00000000'},\n",
       "  {'asset': 'QTUM', 'free': '231.00000000', 'locked': '0.00000000'},\n",
       "  {'asset': 'EOS', 'free': '848.00000000', 'locked': '0.00000000'},\n",
       "  {'asset': 'SNT', 'free': '23320.00000000', 'locked': '0.00000000'},\n",
       "  {'asset': 'BNT', 'free': '1145.00000000', 'locked': '0.00000000'},\n",
       "  {'asset': 'BCC', 'free': '735.00000000', 'locked': '0.00000000'},\n",
       "  {'asset': 'GAS', 'free': '221.00000000', 'locked': '0.00000000'},\n",
       "  {'asset': 'HSR', 'free': '500.00000000', 'locked': '0.00000000'},\n",
       "  {'asset': 'OAX', 'free': '4133.00000000', 'locked': '0.00000000'},\n",
       "  {'asset': 'DNT', 'free': '20764.00000000', 'locked': '0.00000000'},\n",
       "  {'asset': 'MCO', 'free': '40.00000000', 'locked': '0.00000000'},\n",
       "  {'asset': 'ICN', 'free': '13280.00000000', 'locked': '0.00000000'},\n",
       "  {'asset': 'WTC', 'free': '3264.00000000', 'locked': '0.00000000'},\n",
       "  {'asset': 'LRC', 'free': '2687.00000000', 'locked': '0.00000000'},\n",
       "  {'asset': 'YOYO', 'free': '1.00000000', 'locked': '0.00000000'},\n",
       "  {'asset': 'OMG', 'free': '1050.00000000', 'locked': '0.00000000'},\n",
       "  {'asset': 'ZRX', 'free': '2900.00000000', 'locked': '0.00000000'},\n",
       "  {'asset': 'STRAT', 'free': '1.00000000', 'locked': '0.00000000'},\n",
       "  {'asset': 'SNGLS', 'free': '57091.00000000', 'locked': '0.00000000'},\n",
       "  {'asset': 'BQX', 'free': '500.00000000', 'locked': '0.00000000'},\n",
       "  {'asset': 'KNC', 'free': '935.00000000', 'locked': '0.00000000'},\n",
       "  {'asset': 'FUN', 'free': '11680.00000000', 'locked': '0.00000000'},\n",
       "  {'asset': 'SNM', 'free': '46688.00000000', 'locked': '0.00000000'},\n",
       "  {'asset': 'IOTA', 'free': '500.00000000', 'locked': '0.00000000'},\n",
       "  {'asset': 'LINK', 'free': '81.00000000', 'locked': '0.00000000'},\n",
       "  {'asset': 'XVG', 'free': '14986.00000000', 'locked': '0.00000000'},\n",
       "  {'asset': 'SALT', 'free': '24543.00000000', 'locked': '0.00000000'},\n",
       "  {'asset': 'MDA', 'free': '12724.00000000', 'locked': '0.00000000'},\n",
       "  {'asset': 'MTL', 'free': '419.00000000', 'locked': '0.00000000'},\n",
       "  {'asset': 'SUB', 'free': '13855.00000000', 'locked': '0.00000000'},\n",
       "  {'asset': 'ETC', 'free': '32.00000000', 'locked': '0.00000000'},\n",
       "  {'asset': 'MTH', 'free': '13497.00000000', 'locked': '0.00000000'},\n",
       "  {'asset': 'ENG', 'free': '66599.00000000', 'locked': '0.00000000'},\n",
       "  {'asset': 'ZEC', 'free': '19.00000000', 'locked': '0.00000000'},\n",
       "  {'asset': 'AST', 'free': '5774.00000000', 'locked': '0.00000000'},\n",
       "  {'asset': 'DASH', 'free': '19.00000000', 'locked': '0.00000000'},\n",
       "  {'asset': 'BTG', 'free': '39.00000000', 'locked': '0.00000000'},\n",
       "  {'asset': 'EVX', 'free': '21453.00000000', 'locked': '0.00000000'},\n",
       "  {'asset': 'REQ', 'free': '7615.00000000', 'locked': '0.00000000'},\n",
       "  {'asset': 'VIB', 'free': '11785.00000000', 'locked': '0.00000000'},\n",
       "  {'asset': 'POWR', 'free': '3721.00000000', 'locked': '0.00000000'},\n",
       "  {'asset': 'ARK', 'free': '1697.00000000', 'locked': '0.00000000'},\n",
       "  {'asset': 'MOD', 'free': '4981.00000000', 'locked': '0.00000000'},\n",
       "  {'asset': 'ENJ', 'free': '1877.00000000', 'locked': '0.00000000'},\n",
       "  {'asset': 'STORJ', 'free': '2143.00000000', 'locked': '0.00000000'},\n",
       "  {'asset': 'VEN', 'free': '9161.00000000', 'locked': '0.00000000'},\n",
       "  {'asset': 'KMD', 'free': '2326.00000000', 'locked': '0.00000000'},\n",
       "  {'asset': 'NULS', 'free': '2682.00000000', 'locked': '0.00000000'},\n",
       "  {'asset': 'RCN', 'free': '35445.00000000', 'locked': '0.00000000'},\n",
       "  {'asset': 'RDN', 'free': '94193.00000000', 'locked': '0.00000000'},\n",
       "  {'asset': 'XMR', 'free': '3.00000000', 'locked': '0.00000000'},\n",
       "  {'asset': 'DLT', 'free': '77702.00000000', 'locked': '0.00000000'},\n",
       "  {'asset': 'AMB', 'free': '61764.00000000', 'locked': '0.00000000'},\n",
       "  {'asset': 'BAT', 'free': '2928.00000000', 'locked': '0.00000000'},\n",
       "  {'asset': 'BCPT', 'free': '20403.00000000', 'locked': '0.00000000'},\n",
       "  {'asset': 'ARN', 'free': '500.00000000', 'locked': '0.00000000'},\n",
       "  {'asset': 'GVT', 'free': '5354.00000000', 'locked': '0.00000000'},\n",
       "  {'asset': 'CDT', 'free': '2081.00000000', 'locked': '0.00000000'},\n",
       "  {'asset': 'GXS', 'free': '500.00000000', 'locked': '0.00000000'},\n",
       "  {'asset': 'POE', 'free': '48449.00000000', 'locked': '0.00000000'},\n",
       "  {'asset': 'QSP', 'free': '49412.00000000', 'locked': '0.00000000'},\n",
       "  {'asset': 'BTS', 'free': '54352.00000000', 'locked': '0.00000000'},\n",
       "  {'asset': 'XZC', 'free': '1.00000000', 'locked': '0.00000000'},\n",
       "  {'asset': 'LSK', 'free': '719.00000000', 'locked': '0.00000000'},\n",
       "  {'asset': 'TNT', 'free': '33171.00000000', 'locked': '0.00000000'},\n",
       "  {'asset': 'FUEL', 'free': '23476.00000000', 'locked': '0.00000000'},\n",
       "  {'asset': 'MANA', 'free': '1695.00000000', 'locked': '0.00000000'},\n",
       "  {'asset': 'BCD', 'free': '8136.00000000', 'locked': '0.00000000'},\n",
       "  {'asset': 'DGD', 'free': '8.00000000', 'locked': '0.00000000'},\n",
       "  {'asset': 'ADX', 'free': '3801.00000000', 'locked': '0.00000000'},\n",
       "  {'asset': 'ADA', 'free': '1951.00000000', 'locked': '0.00000000'},\n",
       "  {'asset': 'PPT', 'free': '22421.00000000', 'locked': '0.00000000'},\n",
       "  {'asset': 'CMT', 'free': '19425.00000000', 'locked': '0.00000000'},\n",
       "  {'asset': 'XLM', 'free': '4167.00000000', 'locked': '0.00000000'},\n",
       "  {'asset': 'CND', 'free': '24737.00000000', 'locked': '0.00000000'},\n",
       "  {'asset': 'LEND', 'free': '972.00000000', 'locked': '0.00000000'},\n",
       "  {'asset': 'WABI', 'free': '46530.00000000', 'locked': '0.00000000'}],\n",
       " 'permissions': ['SPOT'],\n",
       " 'uid': 1692802094701680202}"
      ]
     },
     "execution_count": 33,
     "metadata": {},
     "output_type": "execute_result"
    }
   ],
   "source": [
    "client.get_account() "
   ]
  },
  {
   "cell_type": "code",
   "execution_count": 34,
   "id": "0561c813",
   "metadata": {},
   "outputs": [],
   "source": [
    "# buy 0.1 BTC\n",
    "order = client.create_order(symbol = \"BTCUSDT\", side = \"BUY\", type = \"MARKET\", quantity = 0.1)"
   ]
  },
  {
   "cell_type": "code",
   "execution_count": 35,
   "id": "6e99aed2",
   "metadata": {},
   "outputs": [
    {
     "data": {
      "text/plain": [
       "{'symbol': 'BTCUSDT',\n",
       " 'orderId': 2749980,\n",
       " 'orderListId': -1,\n",
       " 'clientOrderId': 'SKUP35a916gcOuSvKMItub',\n",
       " 'transactTime': 1694389440863,\n",
       " 'price': '0.00000000',\n",
       " 'origQty': '0.10000000',\n",
       " 'executedQty': '0.10000000',\n",
       " 'cummulativeQuoteQty': '2584.04665876',\n",
       " 'status': 'FILLED',\n",
       " 'timeInForce': 'GTC',\n",
       " 'type': 'MARKET',\n",
       " 'side': 'BUY',\n",
       " 'workingTime': 1694389440863,\n",
       " 'fills': [{'price': '25840.26000000',\n",
       "   'qty': '0.02863800',\n",
       "   'commission': '0.00000000',\n",
       "   'commissionAsset': 'BTC',\n",
       "   'tradeId': 332345},\n",
       "  {'price': '25840.26000000',\n",
       "   'qty': '0.01000000',\n",
       "   'commission': '0.00000000',\n",
       "   'commissionAsset': 'BTC',\n",
       "   'tradeId': 332346},\n",
       "  {'price': '25840.36000000',\n",
       "   'qty': '0.01597900',\n",
       "   'commission': '0.00000000',\n",
       "   'commissionAsset': 'BTC',\n",
       "   'tradeId': 332347},\n",
       "  {'price': '25840.68000000',\n",
       "   'qty': '0.04538300',\n",
       "   'commission': '0.00000000',\n",
       "   'commissionAsset': 'BTC',\n",
       "   'tradeId': 332348}],\n",
       " 'selfTradePreventionMode': 'NONE'}"
      ]
     },
     "execution_count": 35,
     "metadata": {},
     "output_type": "execute_result"
    }
   ],
   "source": [
    "order"
   ]
  },
  {
   "cell_type": "code",
   "execution_count": 36,
   "id": "e031c52e",
   "metadata": {
    "scrolled": true
   },
   "outputs": [
    {
     "data": {
      "text/html": [
       "<div>\n",
       "<style scoped>\n",
       "    .dataframe tbody tr th:only-of-type {\n",
       "        vertical-align: middle;\n",
       "    }\n",
       "\n",
       "    .dataframe tbody tr th {\n",
       "        vertical-align: top;\n",
       "    }\n",
       "\n",
       "    .dataframe thead th {\n",
       "        text-align: right;\n",
       "    }\n",
       "</style>\n",
       "<table border=\"1\" class=\"dataframe\">\n",
       "  <thead>\n",
       "    <tr style=\"text-align: right;\">\n",
       "      <th></th>\n",
       "      <th>price</th>\n",
       "      <th>qty</th>\n",
       "      <th>commission</th>\n",
       "      <th>commissionAsset</th>\n",
       "      <th>tradeId</th>\n",
       "    </tr>\n",
       "  </thead>\n",
       "  <tbody>\n",
       "    <tr>\n",
       "      <th>0</th>\n",
       "      <td>25840.26000000</td>\n",
       "      <td>0.02863800</td>\n",
       "      <td>0.00000000</td>\n",
       "      <td>BTC</td>\n",
       "      <td>332345</td>\n",
       "    </tr>\n",
       "    <tr>\n",
       "      <th>1</th>\n",
       "      <td>25840.26000000</td>\n",
       "      <td>0.01000000</td>\n",
       "      <td>0.00000000</td>\n",
       "      <td>BTC</td>\n",
       "      <td>332346</td>\n",
       "    </tr>\n",
       "    <tr>\n",
       "      <th>2</th>\n",
       "      <td>25840.36000000</td>\n",
       "      <td>0.01597900</td>\n",
       "      <td>0.00000000</td>\n",
       "      <td>BTC</td>\n",
       "      <td>332347</td>\n",
       "    </tr>\n",
       "    <tr>\n",
       "      <th>3</th>\n",
       "      <td>25840.68000000</td>\n",
       "      <td>0.04538300</td>\n",
       "      <td>0.00000000</td>\n",
       "      <td>BTC</td>\n",
       "      <td>332348</td>\n",
       "    </tr>\n",
       "  </tbody>\n",
       "</table>\n",
       "</div>"
      ],
      "text/plain": [
       "            price         qty  commission commissionAsset  tradeId\n",
       "0  25840.26000000  0.02863800  0.00000000             BTC   332345\n",
       "1  25840.26000000  0.01000000  0.00000000             BTC   332346\n",
       "2  25840.36000000  0.01597900  0.00000000             BTC   332347\n",
       "3  25840.68000000  0.04538300  0.00000000             BTC   332348"
      ]
     },
     "execution_count": 36,
     "metadata": {},
     "output_type": "execute_result"
    }
   ],
   "source": [
    "df = pd.DataFrame(order[\"fills\"])\n",
    "df"
   ]
  },
  {
   "cell_type": "code",
   "execution_count": 37,
   "id": "df26364c",
   "metadata": {},
   "outputs": [
    {
     "name": "stdout",
     "output_type": "stream",
     "text": [
      "<class 'pandas.core.frame.DataFrame'>\n",
      "RangeIndex: 4 entries, 0 to 3\n",
      "Data columns (total 5 columns):\n",
      " #   Column           Non-Null Count  Dtype \n",
      "---  ------           --------------  ----- \n",
      " 0   price            4 non-null      object\n",
      " 1   qty              4 non-null      object\n",
      " 2   commission       4 non-null      object\n",
      " 3   commissionAsset  4 non-null      object\n",
      " 4   tradeId          4 non-null      int64 \n",
      "dtypes: int64(1), object(4)\n",
      "memory usage: 288.0+ bytes\n"
     ]
    }
   ],
   "source": [
    "df.info()"
   ]
  },
  {
   "cell_type": "code",
   "execution_count": 38,
   "id": "b4746852",
   "metadata": {},
   "outputs": [],
   "source": [
    "num_columns = [\"price\", \"qty\", \"commission\"]"
   ]
  },
  {
   "cell_type": "code",
   "execution_count": 39,
   "id": "08a3b407",
   "metadata": {},
   "outputs": [],
   "source": [
    "for column in num_columns:\n",
    "    df[column] = pd.to_numeric(df[column], errors = \"coerce\")"
   ]
  },
  {
   "cell_type": "code",
   "execution_count": 40,
   "id": "212d4767",
   "metadata": {},
   "outputs": [
    {
     "name": "stdout",
     "output_type": "stream",
     "text": [
      "<class 'pandas.core.frame.DataFrame'>\n",
      "RangeIndex: 4 entries, 0 to 3\n",
      "Data columns (total 5 columns):\n",
      " #   Column           Non-Null Count  Dtype  \n",
      "---  ------           --------------  -----  \n",
      " 0   price            4 non-null      float64\n",
      " 1   qty              4 non-null      float64\n",
      " 2   commission       4 non-null      float64\n",
      " 3   commissionAsset  4 non-null      object \n",
      " 4   tradeId          4 non-null      int64  \n",
      "dtypes: float64(3), int64(1), object(1)\n",
      "memory usage: 288.0+ bytes\n"
     ]
    }
   ],
   "source": [
    "df.info()"
   ]
  },
  {
   "cell_type": "code",
   "execution_count": 41,
   "id": "3a3089bd",
   "metadata": {},
   "outputs": [
    {
     "data": {
      "text/plain": [
       "0.1"
      ]
     },
     "execution_count": 41,
     "metadata": {},
     "output_type": "execute_result"
    }
   ],
   "source": [
    "df.qty.sum()"
   ]
  },
  {
   "cell_type": "code",
   "execution_count": 42,
   "id": "a354199d",
   "metadata": {},
   "outputs": [
    {
     "data": {
      "text/plain": [
       "2584.0466587600004"
      ]
     },
     "execution_count": 42,
     "metadata": {},
     "output_type": "execute_result"
    }
   ],
   "source": [
    "df.price.mul(df.qty).sum()"
   ]
  },
  {
   "cell_type": "code",
   "execution_count": 43,
   "id": "f4685df9",
   "metadata": {},
   "outputs": [
    {
     "data": {
      "text/plain": [
       "{'makerCommission': 0,\n",
       " 'takerCommission': 0,\n",
       " 'buyerCommission': 0,\n",
       " 'sellerCommission': 0,\n",
       " 'commissionRates': {'maker': '0.00000000',\n",
       "  'taker': '0.00000000',\n",
       "  'buyer': '0.00000000',\n",
       "  'seller': '0.00000000'},\n",
       " 'canTrade': True,\n",
       " 'canWithdraw': False,\n",
       " 'canDeposit': False,\n",
       " 'brokered': False,\n",
       " 'requireSelfTradePrevention': False,\n",
       " 'preventSor': False,\n",
       " 'updateTime': 1694389440863,\n",
       " 'accountType': 'SPOT',\n",
       " 'balances': [{'asset': 'BNB', 'free': '2.00000000', 'locked': '0.00000000'},\n",
       "  {'asset': 'BTC', 'free': '1.10000000', 'locked': '0.00000000'},\n",
       "  {'asset': 'BUSD', 'free': '10000.00000000', 'locked': '0.00000000'},\n",
       "  {'asset': 'ETH', 'free': '1.00000000', 'locked': '0.00000000'},\n",
       "  {'asset': 'LTC', 'free': '7.00000000', 'locked': '0.00000000'},\n",
       "  {'asset': 'TRX', 'free': '6397.00000000', 'locked': '0.00000000'},\n",
       "  {'asset': 'USDT', 'free': '7415.95334124', 'locked': '0.00000000'},\n",
       "  {'asset': 'XRP', 'free': '997.00000000', 'locked': '0.00000000'},\n",
       "  {'asset': 'NEO', 'free': '68.00000000', 'locked': '0.00000000'},\n",
       "  {'asset': 'QTUM', 'free': '231.00000000', 'locked': '0.00000000'},\n",
       "  {'asset': 'EOS', 'free': '848.00000000', 'locked': '0.00000000'},\n",
       "  {'asset': 'SNT', 'free': '23320.00000000', 'locked': '0.00000000'},\n",
       "  {'asset': 'BNT', 'free': '1145.00000000', 'locked': '0.00000000'},\n",
       "  {'asset': 'BCC', 'free': '735.00000000', 'locked': '0.00000000'},\n",
       "  {'asset': 'GAS', 'free': '221.00000000', 'locked': '0.00000000'},\n",
       "  {'asset': 'HSR', 'free': '500.00000000', 'locked': '0.00000000'},\n",
       "  {'asset': 'OAX', 'free': '4133.00000000', 'locked': '0.00000000'},\n",
       "  {'asset': 'DNT', 'free': '20764.00000000', 'locked': '0.00000000'},\n",
       "  {'asset': 'MCO', 'free': '40.00000000', 'locked': '0.00000000'},\n",
       "  {'asset': 'ICN', 'free': '13280.00000000', 'locked': '0.00000000'},\n",
       "  {'asset': 'WTC', 'free': '3264.00000000', 'locked': '0.00000000'},\n",
       "  {'asset': 'LRC', 'free': '2687.00000000', 'locked': '0.00000000'},\n",
       "  {'asset': 'YOYO', 'free': '1.00000000', 'locked': '0.00000000'},\n",
       "  {'asset': 'OMG', 'free': '1050.00000000', 'locked': '0.00000000'},\n",
       "  {'asset': 'ZRX', 'free': '2900.00000000', 'locked': '0.00000000'},\n",
       "  {'asset': 'STRAT', 'free': '1.00000000', 'locked': '0.00000000'},\n",
       "  {'asset': 'SNGLS', 'free': '57091.00000000', 'locked': '0.00000000'},\n",
       "  {'asset': 'BQX', 'free': '500.00000000', 'locked': '0.00000000'},\n",
       "  {'asset': 'KNC', 'free': '935.00000000', 'locked': '0.00000000'},\n",
       "  {'asset': 'FUN', 'free': '11680.00000000', 'locked': '0.00000000'},\n",
       "  {'asset': 'SNM', 'free': '46688.00000000', 'locked': '0.00000000'},\n",
       "  {'asset': 'IOTA', 'free': '500.00000000', 'locked': '0.00000000'},\n",
       "  {'asset': 'LINK', 'free': '81.00000000', 'locked': '0.00000000'},\n",
       "  {'asset': 'XVG', 'free': '14986.00000000', 'locked': '0.00000000'},\n",
       "  {'asset': 'SALT', 'free': '24543.00000000', 'locked': '0.00000000'},\n",
       "  {'asset': 'MDA', 'free': '12724.00000000', 'locked': '0.00000000'},\n",
       "  {'asset': 'MTL', 'free': '419.00000000', 'locked': '0.00000000'},\n",
       "  {'asset': 'SUB', 'free': '13855.00000000', 'locked': '0.00000000'},\n",
       "  {'asset': 'ETC', 'free': '32.00000000', 'locked': '0.00000000'},\n",
       "  {'asset': 'MTH', 'free': '13497.00000000', 'locked': '0.00000000'},\n",
       "  {'asset': 'ENG', 'free': '66599.00000000', 'locked': '0.00000000'},\n",
       "  {'asset': 'ZEC', 'free': '19.00000000', 'locked': '0.00000000'},\n",
       "  {'asset': 'AST', 'free': '5774.00000000', 'locked': '0.00000000'},\n",
       "  {'asset': 'DASH', 'free': '19.00000000', 'locked': '0.00000000'},\n",
       "  {'asset': 'BTG', 'free': '39.00000000', 'locked': '0.00000000'},\n",
       "  {'asset': 'EVX', 'free': '21453.00000000', 'locked': '0.00000000'},\n",
       "  {'asset': 'REQ', 'free': '7615.00000000', 'locked': '0.00000000'},\n",
       "  {'asset': 'VIB', 'free': '11785.00000000', 'locked': '0.00000000'},\n",
       "  {'asset': 'POWR', 'free': '3721.00000000', 'locked': '0.00000000'},\n",
       "  {'asset': 'ARK', 'free': '1697.00000000', 'locked': '0.00000000'},\n",
       "  {'asset': 'MOD', 'free': '4981.00000000', 'locked': '0.00000000'},\n",
       "  {'asset': 'ENJ', 'free': '1877.00000000', 'locked': '0.00000000'},\n",
       "  {'asset': 'STORJ', 'free': '2143.00000000', 'locked': '0.00000000'},\n",
       "  {'asset': 'VEN', 'free': '9161.00000000', 'locked': '0.00000000'},\n",
       "  {'asset': 'KMD', 'free': '2326.00000000', 'locked': '0.00000000'},\n",
       "  {'asset': 'NULS', 'free': '2682.00000000', 'locked': '0.00000000'},\n",
       "  {'asset': 'RCN', 'free': '35445.00000000', 'locked': '0.00000000'},\n",
       "  {'asset': 'RDN', 'free': '94193.00000000', 'locked': '0.00000000'},\n",
       "  {'asset': 'XMR', 'free': '3.00000000', 'locked': '0.00000000'},\n",
       "  {'asset': 'DLT', 'free': '77702.00000000', 'locked': '0.00000000'},\n",
       "  {'asset': 'AMB', 'free': '61764.00000000', 'locked': '0.00000000'},\n",
       "  {'asset': 'BAT', 'free': '2928.00000000', 'locked': '0.00000000'},\n",
       "  {'asset': 'BCPT', 'free': '20403.00000000', 'locked': '0.00000000'},\n",
       "  {'asset': 'ARN', 'free': '500.00000000', 'locked': '0.00000000'},\n",
       "  {'asset': 'GVT', 'free': '5354.00000000', 'locked': '0.00000000'},\n",
       "  {'asset': 'CDT', 'free': '2081.00000000', 'locked': '0.00000000'},\n",
       "  {'asset': 'GXS', 'free': '500.00000000', 'locked': '0.00000000'},\n",
       "  {'asset': 'POE', 'free': '48449.00000000', 'locked': '0.00000000'},\n",
       "  {'asset': 'QSP', 'free': '49412.00000000', 'locked': '0.00000000'},\n",
       "  {'asset': 'BTS', 'free': '54352.00000000', 'locked': '0.00000000'},\n",
       "  {'asset': 'XZC', 'free': '1.00000000', 'locked': '0.00000000'},\n",
       "  {'asset': 'LSK', 'free': '719.00000000', 'locked': '0.00000000'},\n",
       "  {'asset': 'TNT', 'free': '33171.00000000', 'locked': '0.00000000'},\n",
       "  {'asset': 'FUEL', 'free': '23476.00000000', 'locked': '0.00000000'},\n",
       "  {'asset': 'MANA', 'free': '1695.00000000', 'locked': '0.00000000'},\n",
       "  {'asset': 'BCD', 'free': '8136.00000000', 'locked': '0.00000000'},\n",
       "  {'asset': 'DGD', 'free': '8.00000000', 'locked': '0.00000000'},\n",
       "  {'asset': 'ADX', 'free': '3801.00000000', 'locked': '0.00000000'},\n",
       "  {'asset': 'ADA', 'free': '1951.00000000', 'locked': '0.00000000'},\n",
       "  {'asset': 'PPT', 'free': '22421.00000000', 'locked': '0.00000000'},\n",
       "  {'asset': 'CMT', 'free': '19425.00000000', 'locked': '0.00000000'},\n",
       "  {'asset': 'XLM', 'free': '4167.00000000', 'locked': '0.00000000'},\n",
       "  {'asset': 'CND', 'free': '24737.00000000', 'locked': '0.00000000'},\n",
       "  {'asset': 'LEND', 'free': '972.00000000', 'locked': '0.00000000'},\n",
       "  {'asset': 'WABI', 'free': '46530.00000000', 'locked': '0.00000000'}],\n",
       " 'permissions': ['SPOT'],\n",
       " 'uid': 1692802094701680202}"
      ]
     },
     "execution_count": 43,
     "metadata": {},
     "output_type": "execute_result"
    }
   ],
   "source": [
    "client.get_account()"
   ]
  },
  {
   "cell_type": "code",
   "execution_count": 44,
   "id": "203c0298",
   "metadata": {},
   "outputs": [],
   "source": [
    "# buy BTC for 1,000 USDT \n",
    "order = client.create_order(symbol = \"BTCUSDT\", side = \"BUY\", type = \"MARKET\", quoteOrderQty = 1000)"
   ]
  },
  {
   "cell_type": "code",
   "execution_count": 45,
   "id": "d6064063",
   "metadata": {},
   "outputs": [
    {
     "data": {
      "text/plain": [
       "{'symbol': 'BTCUSDT',\n",
       " 'orderId': 2749985,\n",
       " 'orderListId': -1,\n",
       " 'clientOrderId': 'g7X6lWQa7zX55drWkSxTZe',\n",
       " 'transactTime': 1694389441977,\n",
       " 'price': '0.00000000',\n",
       " 'origQty': '0.03869800',\n",
       " 'executedQty': '0.03869800',\n",
       " 'cummulativeQuoteQty': '999.98353180',\n",
       " 'status': 'FILLED',\n",
       " 'timeInForce': 'GTC',\n",
       " 'type': 'MARKET',\n",
       " 'side': 'BUY',\n",
       " 'workingTime': 1694389441977,\n",
       " 'fills': [{'price': '25840.69000000',\n",
       "   'qty': '0.03792500',\n",
       "   'commission': '0.00000000',\n",
       "   'commissionAsset': 'BTC',\n",
       "   'tradeId': 332349},\n",
       "  {'price': '25841.35000000',\n",
       "   'qty': '0.00077300',\n",
       "   'commission': '0.00000000',\n",
       "   'commissionAsset': 'BTC',\n",
       "   'tradeId': 332350}],\n",
       " 'selfTradePreventionMode': 'NONE'}"
      ]
     },
     "execution_count": 45,
     "metadata": {},
     "output_type": "execute_result"
    }
   ],
   "source": [
    "order"
   ]
  },
  {
   "cell_type": "code",
   "execution_count": 46,
   "id": "e03c9827",
   "metadata": {},
   "outputs": [
    {
     "data": {
      "text/plain": [
       "25840.703183627058"
      ]
     },
     "execution_count": 46,
     "metadata": {},
     "output_type": "execute_result"
    }
   ],
   "source": [
    "avr_price = float(order[\"cummulativeQuoteQty\"]) / float(order[\"origQty\"]) \n",
    "avr_price"
   ]
  },
  {
   "cell_type": "code",
   "execution_count": 47,
   "id": "518a611b",
   "metadata": {},
   "outputs": [
    {
     "data": {
      "text/plain": [
       "{'makerCommission': 0,\n",
       " 'takerCommission': 0,\n",
       " 'buyerCommission': 0,\n",
       " 'sellerCommission': 0,\n",
       " 'commissionRates': {'maker': '0.00000000',\n",
       "  'taker': '0.00000000',\n",
       "  'buyer': '0.00000000',\n",
       "  'seller': '0.00000000'},\n",
       " 'canTrade': True,\n",
       " 'canWithdraw': False,\n",
       " 'canDeposit': False,\n",
       " 'brokered': False,\n",
       " 'requireSelfTradePrevention': False,\n",
       " 'preventSor': False,\n",
       " 'updateTime': 1694389441977,\n",
       " 'accountType': 'SPOT',\n",
       " 'balances': [{'asset': 'BNB', 'free': '2.00000000', 'locked': '0.00000000'},\n",
       "  {'asset': 'BTC', 'free': '1.13869800', 'locked': '0.00000000'},\n",
       "  {'asset': 'BUSD', 'free': '10000.00000000', 'locked': '0.00000000'},\n",
       "  {'asset': 'ETH', 'free': '1.00000000', 'locked': '0.00000000'},\n",
       "  {'asset': 'LTC', 'free': '7.00000000', 'locked': '0.00000000'},\n",
       "  {'asset': 'TRX', 'free': '6397.00000000', 'locked': '0.00000000'},\n",
       "  {'asset': 'USDT', 'free': '6415.96980944', 'locked': '0.00000000'},\n",
       "  {'asset': 'XRP', 'free': '997.00000000', 'locked': '0.00000000'},\n",
       "  {'asset': 'NEO', 'free': '68.00000000', 'locked': '0.00000000'},\n",
       "  {'asset': 'QTUM', 'free': '231.00000000', 'locked': '0.00000000'},\n",
       "  {'asset': 'EOS', 'free': '848.00000000', 'locked': '0.00000000'},\n",
       "  {'asset': 'SNT', 'free': '23320.00000000', 'locked': '0.00000000'},\n",
       "  {'asset': 'BNT', 'free': '1145.00000000', 'locked': '0.00000000'},\n",
       "  {'asset': 'BCC', 'free': '735.00000000', 'locked': '0.00000000'},\n",
       "  {'asset': 'GAS', 'free': '221.00000000', 'locked': '0.00000000'},\n",
       "  {'asset': 'HSR', 'free': '500.00000000', 'locked': '0.00000000'},\n",
       "  {'asset': 'OAX', 'free': '4133.00000000', 'locked': '0.00000000'},\n",
       "  {'asset': 'DNT', 'free': '20764.00000000', 'locked': '0.00000000'},\n",
       "  {'asset': 'MCO', 'free': '40.00000000', 'locked': '0.00000000'},\n",
       "  {'asset': 'ICN', 'free': '13280.00000000', 'locked': '0.00000000'},\n",
       "  {'asset': 'WTC', 'free': '3264.00000000', 'locked': '0.00000000'},\n",
       "  {'asset': 'LRC', 'free': '2687.00000000', 'locked': '0.00000000'},\n",
       "  {'asset': 'YOYO', 'free': '1.00000000', 'locked': '0.00000000'},\n",
       "  {'asset': 'OMG', 'free': '1050.00000000', 'locked': '0.00000000'},\n",
       "  {'asset': 'ZRX', 'free': '2900.00000000', 'locked': '0.00000000'},\n",
       "  {'asset': 'STRAT', 'free': '1.00000000', 'locked': '0.00000000'},\n",
       "  {'asset': 'SNGLS', 'free': '57091.00000000', 'locked': '0.00000000'},\n",
       "  {'asset': 'BQX', 'free': '500.00000000', 'locked': '0.00000000'},\n",
       "  {'asset': 'KNC', 'free': '935.00000000', 'locked': '0.00000000'},\n",
       "  {'asset': 'FUN', 'free': '11680.00000000', 'locked': '0.00000000'},\n",
       "  {'asset': 'SNM', 'free': '46688.00000000', 'locked': '0.00000000'},\n",
       "  {'asset': 'IOTA', 'free': '500.00000000', 'locked': '0.00000000'},\n",
       "  {'asset': 'LINK', 'free': '81.00000000', 'locked': '0.00000000'},\n",
       "  {'asset': 'XVG', 'free': '14986.00000000', 'locked': '0.00000000'},\n",
       "  {'asset': 'SALT', 'free': '24543.00000000', 'locked': '0.00000000'},\n",
       "  {'asset': 'MDA', 'free': '12724.00000000', 'locked': '0.00000000'},\n",
       "  {'asset': 'MTL', 'free': '419.00000000', 'locked': '0.00000000'},\n",
       "  {'asset': 'SUB', 'free': '13855.00000000', 'locked': '0.00000000'},\n",
       "  {'asset': 'ETC', 'free': '32.00000000', 'locked': '0.00000000'},\n",
       "  {'asset': 'MTH', 'free': '13497.00000000', 'locked': '0.00000000'},\n",
       "  {'asset': 'ENG', 'free': '66599.00000000', 'locked': '0.00000000'},\n",
       "  {'asset': 'ZEC', 'free': '19.00000000', 'locked': '0.00000000'},\n",
       "  {'asset': 'AST', 'free': '5774.00000000', 'locked': '0.00000000'},\n",
       "  {'asset': 'DASH', 'free': '19.00000000', 'locked': '0.00000000'},\n",
       "  {'asset': 'BTG', 'free': '39.00000000', 'locked': '0.00000000'},\n",
       "  {'asset': 'EVX', 'free': '21453.00000000', 'locked': '0.00000000'},\n",
       "  {'asset': 'REQ', 'free': '7615.00000000', 'locked': '0.00000000'},\n",
       "  {'asset': 'VIB', 'free': '11785.00000000', 'locked': '0.00000000'},\n",
       "  {'asset': 'POWR', 'free': '3721.00000000', 'locked': '0.00000000'},\n",
       "  {'asset': 'ARK', 'free': '1697.00000000', 'locked': '0.00000000'},\n",
       "  {'asset': 'MOD', 'free': '4981.00000000', 'locked': '0.00000000'},\n",
       "  {'asset': 'ENJ', 'free': '1877.00000000', 'locked': '0.00000000'},\n",
       "  {'asset': 'STORJ', 'free': '2143.00000000', 'locked': '0.00000000'},\n",
       "  {'asset': 'VEN', 'free': '9161.00000000', 'locked': '0.00000000'},\n",
       "  {'asset': 'KMD', 'free': '2326.00000000', 'locked': '0.00000000'},\n",
       "  {'asset': 'NULS', 'free': '2682.00000000', 'locked': '0.00000000'},\n",
       "  {'asset': 'RCN', 'free': '35445.00000000', 'locked': '0.00000000'},\n",
       "  {'asset': 'RDN', 'free': '94193.00000000', 'locked': '0.00000000'},\n",
       "  {'asset': 'XMR', 'free': '3.00000000', 'locked': '0.00000000'},\n",
       "  {'asset': 'DLT', 'free': '77702.00000000', 'locked': '0.00000000'},\n",
       "  {'asset': 'AMB', 'free': '61764.00000000', 'locked': '0.00000000'},\n",
       "  {'asset': 'BAT', 'free': '2928.00000000', 'locked': '0.00000000'},\n",
       "  {'asset': 'BCPT', 'free': '20403.00000000', 'locked': '0.00000000'},\n",
       "  {'asset': 'ARN', 'free': '500.00000000', 'locked': '0.00000000'},\n",
       "  {'asset': 'GVT', 'free': '5354.00000000', 'locked': '0.00000000'},\n",
       "  {'asset': 'CDT', 'free': '2081.00000000', 'locked': '0.00000000'},\n",
       "  {'asset': 'GXS', 'free': '500.00000000', 'locked': '0.00000000'},\n",
       "  {'asset': 'POE', 'free': '48449.00000000', 'locked': '0.00000000'},\n",
       "  {'asset': 'QSP', 'free': '49412.00000000', 'locked': '0.00000000'},\n",
       "  {'asset': 'BTS', 'free': '54352.00000000', 'locked': '0.00000000'},\n",
       "  {'asset': 'XZC', 'free': '1.00000000', 'locked': '0.00000000'},\n",
       "  {'asset': 'LSK', 'free': '719.00000000', 'locked': '0.00000000'},\n",
       "  {'asset': 'TNT', 'free': '33171.00000000', 'locked': '0.00000000'},\n",
       "  {'asset': 'FUEL', 'free': '23476.00000000', 'locked': '0.00000000'},\n",
       "  {'asset': 'MANA', 'free': '1695.00000000', 'locked': '0.00000000'},\n",
       "  {'asset': 'BCD', 'free': '8136.00000000', 'locked': '0.00000000'},\n",
       "  {'asset': 'DGD', 'free': '8.00000000', 'locked': '0.00000000'},\n",
       "  {'asset': 'ADX', 'free': '3801.00000000', 'locked': '0.00000000'},\n",
       "  {'asset': 'ADA', 'free': '1951.00000000', 'locked': '0.00000000'},\n",
       "  {'asset': 'PPT', 'free': '22421.00000000', 'locked': '0.00000000'},\n",
       "  {'asset': 'CMT', 'free': '19425.00000000', 'locked': '0.00000000'},\n",
       "  {'asset': 'XLM', 'free': '4167.00000000', 'locked': '0.00000000'},\n",
       "  {'asset': 'CND', 'free': '24737.00000000', 'locked': '0.00000000'},\n",
       "  {'asset': 'LEND', 'free': '972.00000000', 'locked': '0.00000000'},\n",
       "  {'asset': 'WABI', 'free': '46530.00000000', 'locked': '0.00000000'}],\n",
       " 'permissions': ['SPOT'],\n",
       " 'uid': 1692802094701680202}"
      ]
     },
     "execution_count": 47,
     "metadata": {},
     "output_type": "execute_result"
    }
   ],
   "source": [
    "client.get_account()"
   ]
  },
  {
   "cell_type": "code",
   "execution_count": null,
   "id": "2e1f0aba",
   "metadata": {},
   "outputs": [],
   "source": []
  },
  {
   "cell_type": "markdown",
   "id": "2753fec7",
   "metadata": {},
   "source": [
    "## Placing a Market Sell Order"
   ]
  },
  {
   "cell_type": "code",
   "execution_count": 48,
   "id": "7c5e4d9a",
   "metadata": {},
   "outputs": [],
   "source": [
    "# selling 0.118011 BTC \n",
    "order = client.create_order(symbol = \"BTCUSDT\", side = \"SELL\", type = \"MARKET\", quantity = 0.1)"
   ]
  },
  {
   "cell_type": "code",
   "execution_count": 49,
   "id": "63bfde67",
   "metadata": {},
   "outputs": [
    {
     "data": {
      "text/plain": [
       "{'symbol': 'BTCUSDT',\n",
       " 'orderId': 2750000,\n",
       " 'orderListId': -1,\n",
       " 'clientOrderId': 'uyfs1LiWbpxpBpUx2subjB',\n",
       " 'transactTime': 1694389443105,\n",
       " 'price': '0.00000000',\n",
       " 'origQty': '0.10000000',\n",
       " 'executedQty': '0.10000000',\n",
       " 'cummulativeQuoteQty': '2583.98614406',\n",
       " 'status': 'FILLED',\n",
       " 'timeInForce': 'GTC',\n",
       " 'type': 'MARKET',\n",
       " 'side': 'SELL',\n",
       " 'workingTime': 1694389443105,\n",
       " 'fills': [{'price': '25840.25000000',\n",
       "   'qty': '0.02283300',\n",
       "   'commission': '0.00000000',\n",
       "   'commissionAsset': 'USDT',\n",
       "   'tradeId': 332353},\n",
       "  {'price': '25840.25000000',\n",
       "   'qty': '0.01000000',\n",
       "   'commission': '0.00000000',\n",
       "   'commissionAsset': 'USDT',\n",
       "   'tradeId': 332354},\n",
       "  {'price': '25840.05000000',\n",
       "   'qty': '0.00941200',\n",
       "   'commission': '0.00000000',\n",
       "   'commissionAsset': 'USDT',\n",
       "   'tradeId': 332355},\n",
       "  {'price': '25840.00000000',\n",
       "   'qty': '0.00100000',\n",
       "   'commission': '0.00000000',\n",
       "   'commissionAsset': 'USDT',\n",
       "   'tradeId': 332356},\n",
       "  {'price': '25839.70000000',\n",
       "   'qty': '0.01570900',\n",
       "   'commission': '0.00000000',\n",
       "   'commissionAsset': 'USDT',\n",
       "   'tradeId': 332357},\n",
       "  {'price': '25839.61000000',\n",
       "   'qty': '0.02709100',\n",
       "   'commission': '0.00000000',\n",
       "   'commissionAsset': 'USDT',\n",
       "   'tradeId': 332358},\n",
       "  {'price': '25839.48000000',\n",
       "   'qty': '0.01395500',\n",
       "   'commission': '0.00000000',\n",
       "   'commissionAsset': 'USDT',\n",
       "   'tradeId': 332359}],\n",
       " 'selfTradePreventionMode': 'NONE'}"
      ]
     },
     "execution_count": 49,
     "metadata": {},
     "output_type": "execute_result"
    }
   ],
   "source": [
    "order"
   ]
  },
  {
   "cell_type": "code",
   "execution_count": 50,
   "id": "46e9161c",
   "metadata": {},
   "outputs": [
    {
     "data": {
      "text/plain": [
       "{'makerCommission': 0,\n",
       " 'takerCommission': 0,\n",
       " 'buyerCommission': 0,\n",
       " 'sellerCommission': 0,\n",
       " 'commissionRates': {'maker': '0.00000000',\n",
       "  'taker': '0.00000000',\n",
       "  'buyer': '0.00000000',\n",
       "  'seller': '0.00000000'},\n",
       " 'canTrade': True,\n",
       " 'canWithdraw': False,\n",
       " 'canDeposit': False,\n",
       " 'brokered': False,\n",
       " 'requireSelfTradePrevention': False,\n",
       " 'preventSor': False,\n",
       " 'updateTime': 1694389443105,\n",
       " 'accountType': 'SPOT',\n",
       " 'balances': [{'asset': 'BNB', 'free': '2.00000000', 'locked': '0.00000000'},\n",
       "  {'asset': 'BTC', 'free': '1.03869800', 'locked': '0.00000000'},\n",
       "  {'asset': 'BUSD', 'free': '10000.00000000', 'locked': '0.00000000'},\n",
       "  {'asset': 'ETH', 'free': '1.00000000', 'locked': '0.00000000'},\n",
       "  {'asset': 'LTC', 'free': '7.00000000', 'locked': '0.00000000'},\n",
       "  {'asset': 'TRX', 'free': '6397.00000000', 'locked': '0.00000000'},\n",
       "  {'asset': 'USDT', 'free': '8999.95595350', 'locked': '0.00000000'},\n",
       "  {'asset': 'XRP', 'free': '997.00000000', 'locked': '0.00000000'},\n",
       "  {'asset': 'NEO', 'free': '68.00000000', 'locked': '0.00000000'},\n",
       "  {'asset': 'QTUM', 'free': '231.00000000', 'locked': '0.00000000'},\n",
       "  {'asset': 'EOS', 'free': '848.00000000', 'locked': '0.00000000'},\n",
       "  {'asset': 'SNT', 'free': '23320.00000000', 'locked': '0.00000000'},\n",
       "  {'asset': 'BNT', 'free': '1145.00000000', 'locked': '0.00000000'},\n",
       "  {'asset': 'BCC', 'free': '735.00000000', 'locked': '0.00000000'},\n",
       "  {'asset': 'GAS', 'free': '221.00000000', 'locked': '0.00000000'},\n",
       "  {'asset': 'HSR', 'free': '500.00000000', 'locked': '0.00000000'},\n",
       "  {'asset': 'OAX', 'free': '4133.00000000', 'locked': '0.00000000'},\n",
       "  {'asset': 'DNT', 'free': '20764.00000000', 'locked': '0.00000000'},\n",
       "  {'asset': 'MCO', 'free': '40.00000000', 'locked': '0.00000000'},\n",
       "  {'asset': 'ICN', 'free': '13280.00000000', 'locked': '0.00000000'},\n",
       "  {'asset': 'WTC', 'free': '3264.00000000', 'locked': '0.00000000'},\n",
       "  {'asset': 'LRC', 'free': '2687.00000000', 'locked': '0.00000000'},\n",
       "  {'asset': 'YOYO', 'free': '1.00000000', 'locked': '0.00000000'},\n",
       "  {'asset': 'OMG', 'free': '1050.00000000', 'locked': '0.00000000'},\n",
       "  {'asset': 'ZRX', 'free': '2900.00000000', 'locked': '0.00000000'},\n",
       "  {'asset': 'STRAT', 'free': '1.00000000', 'locked': '0.00000000'},\n",
       "  {'asset': 'SNGLS', 'free': '57091.00000000', 'locked': '0.00000000'},\n",
       "  {'asset': 'BQX', 'free': '500.00000000', 'locked': '0.00000000'},\n",
       "  {'asset': 'KNC', 'free': '935.00000000', 'locked': '0.00000000'},\n",
       "  {'asset': 'FUN', 'free': '11680.00000000', 'locked': '0.00000000'},\n",
       "  {'asset': 'SNM', 'free': '46688.00000000', 'locked': '0.00000000'},\n",
       "  {'asset': 'IOTA', 'free': '500.00000000', 'locked': '0.00000000'},\n",
       "  {'asset': 'LINK', 'free': '81.00000000', 'locked': '0.00000000'},\n",
       "  {'asset': 'XVG', 'free': '14986.00000000', 'locked': '0.00000000'},\n",
       "  {'asset': 'SALT', 'free': '24543.00000000', 'locked': '0.00000000'},\n",
       "  {'asset': 'MDA', 'free': '12724.00000000', 'locked': '0.00000000'},\n",
       "  {'asset': 'MTL', 'free': '419.00000000', 'locked': '0.00000000'},\n",
       "  {'asset': 'SUB', 'free': '13855.00000000', 'locked': '0.00000000'},\n",
       "  {'asset': 'ETC', 'free': '32.00000000', 'locked': '0.00000000'},\n",
       "  {'asset': 'MTH', 'free': '13497.00000000', 'locked': '0.00000000'},\n",
       "  {'asset': 'ENG', 'free': '66599.00000000', 'locked': '0.00000000'},\n",
       "  {'asset': 'ZEC', 'free': '19.00000000', 'locked': '0.00000000'},\n",
       "  {'asset': 'AST', 'free': '5774.00000000', 'locked': '0.00000000'},\n",
       "  {'asset': 'DASH', 'free': '19.00000000', 'locked': '0.00000000'},\n",
       "  {'asset': 'BTG', 'free': '39.00000000', 'locked': '0.00000000'},\n",
       "  {'asset': 'EVX', 'free': '21453.00000000', 'locked': '0.00000000'},\n",
       "  {'asset': 'REQ', 'free': '7615.00000000', 'locked': '0.00000000'},\n",
       "  {'asset': 'VIB', 'free': '11785.00000000', 'locked': '0.00000000'},\n",
       "  {'asset': 'POWR', 'free': '3721.00000000', 'locked': '0.00000000'},\n",
       "  {'asset': 'ARK', 'free': '1697.00000000', 'locked': '0.00000000'},\n",
       "  {'asset': 'MOD', 'free': '4981.00000000', 'locked': '0.00000000'},\n",
       "  {'asset': 'ENJ', 'free': '1877.00000000', 'locked': '0.00000000'},\n",
       "  {'asset': 'STORJ', 'free': '2143.00000000', 'locked': '0.00000000'},\n",
       "  {'asset': 'VEN', 'free': '9161.00000000', 'locked': '0.00000000'},\n",
       "  {'asset': 'KMD', 'free': '2326.00000000', 'locked': '0.00000000'},\n",
       "  {'asset': 'NULS', 'free': '2682.00000000', 'locked': '0.00000000'},\n",
       "  {'asset': 'RCN', 'free': '35445.00000000', 'locked': '0.00000000'},\n",
       "  {'asset': 'RDN', 'free': '94193.00000000', 'locked': '0.00000000'},\n",
       "  {'asset': 'XMR', 'free': '3.00000000', 'locked': '0.00000000'},\n",
       "  {'asset': 'DLT', 'free': '77702.00000000', 'locked': '0.00000000'},\n",
       "  {'asset': 'AMB', 'free': '61764.00000000', 'locked': '0.00000000'},\n",
       "  {'asset': 'BAT', 'free': '2928.00000000', 'locked': '0.00000000'},\n",
       "  {'asset': 'BCPT', 'free': '20403.00000000', 'locked': '0.00000000'},\n",
       "  {'asset': 'ARN', 'free': '500.00000000', 'locked': '0.00000000'},\n",
       "  {'asset': 'GVT', 'free': '5354.00000000', 'locked': '0.00000000'},\n",
       "  {'asset': 'CDT', 'free': '2081.00000000', 'locked': '0.00000000'},\n",
       "  {'asset': 'GXS', 'free': '500.00000000', 'locked': '0.00000000'},\n",
       "  {'asset': 'POE', 'free': '48449.00000000', 'locked': '0.00000000'},\n",
       "  {'asset': 'QSP', 'free': '49412.00000000', 'locked': '0.00000000'},\n",
       "  {'asset': 'BTS', 'free': '54352.00000000', 'locked': '0.00000000'},\n",
       "  {'asset': 'XZC', 'free': '1.00000000', 'locked': '0.00000000'},\n",
       "  {'asset': 'LSK', 'free': '719.00000000', 'locked': '0.00000000'},\n",
       "  {'asset': 'TNT', 'free': '33171.00000000', 'locked': '0.00000000'},\n",
       "  {'asset': 'FUEL', 'free': '23476.00000000', 'locked': '0.00000000'},\n",
       "  {'asset': 'MANA', 'free': '1695.00000000', 'locked': '0.00000000'},\n",
       "  {'asset': 'BCD', 'free': '8136.00000000', 'locked': '0.00000000'},\n",
       "  {'asset': 'DGD', 'free': '8.00000000', 'locked': '0.00000000'},\n",
       "  {'asset': 'ADX', 'free': '3801.00000000', 'locked': '0.00000000'},\n",
       "  {'asset': 'ADA', 'free': '1951.00000000', 'locked': '0.00000000'},\n",
       "  {'asset': 'PPT', 'free': '22421.00000000', 'locked': '0.00000000'},\n",
       "  {'asset': 'CMT', 'free': '19425.00000000', 'locked': '0.00000000'},\n",
       "  {'asset': 'XLM', 'free': '4167.00000000', 'locked': '0.00000000'},\n",
       "  {'asset': 'CND', 'free': '24737.00000000', 'locked': '0.00000000'},\n",
       "  {'asset': 'LEND', 'free': '972.00000000', 'locked': '0.00000000'},\n",
       "  {'asset': 'WABI', 'free': '46530.00000000', 'locked': '0.00000000'}],\n",
       " 'permissions': ['SPOT'],\n",
       " 'uid': 1692802094701680202}"
      ]
     },
     "execution_count": 50,
     "metadata": {},
     "output_type": "execute_result"
    }
   ],
   "source": [
    "client.get_account() # Test account details"
   ]
  },
  {
   "cell_type": "code",
   "execution_count": null,
   "id": "01f5b3eb",
   "metadata": {},
   "outputs": [],
   "source": []
  },
  {
   "cell_type": "markdown",
   "id": "40d2302c",
   "metadata": {},
   "source": [
    "## Placing Limit Orders"
   ]
  },
  {
   "cell_type": "code",
   "execution_count": 51,
   "id": "8c921629",
   "metadata": {},
   "outputs": [],
   "source": [
    "from binance.client import Client\n",
    "import pandas as pd"
   ]
  },
  {
   "cell_type": "code",
   "execution_count": 52,
   "id": "dc1d14a2",
   "metadata": {},
   "outputs": [],
   "source": [
    "client = Client(api_key = api_key, api_secret = secret_key, tld = \"com\", testnet = True) "
   ]
  },
  {
   "cell_type": "code",
   "execution_count": 53,
   "id": "94749439",
   "metadata": {},
   "outputs": [
    {
     "data": {
      "text/plain": [
       "{'makerCommission': 0,\n",
       " 'takerCommission': 0,\n",
       " 'buyerCommission': 0,\n",
       " 'sellerCommission': 0,\n",
       " 'commissionRates': {'maker': '0.00000000',\n",
       "  'taker': '0.00000000',\n",
       "  'buyer': '0.00000000',\n",
       "  'seller': '0.00000000'},\n",
       " 'canTrade': True,\n",
       " 'canWithdraw': False,\n",
       " 'canDeposit': False,\n",
       " 'brokered': False,\n",
       " 'requireSelfTradePrevention': False,\n",
       " 'preventSor': False,\n",
       " 'updateTime': 1694389443105,\n",
       " 'accountType': 'SPOT',\n",
       " 'balances': [{'asset': 'BNB', 'free': '2.00000000', 'locked': '0.00000000'},\n",
       "  {'asset': 'BTC', 'free': '1.03869800', 'locked': '0.00000000'},\n",
       "  {'asset': 'BUSD', 'free': '10000.00000000', 'locked': '0.00000000'},\n",
       "  {'asset': 'ETH', 'free': '1.00000000', 'locked': '0.00000000'},\n",
       "  {'asset': 'LTC', 'free': '7.00000000', 'locked': '0.00000000'},\n",
       "  {'asset': 'TRX', 'free': '6397.00000000', 'locked': '0.00000000'},\n",
       "  {'asset': 'USDT', 'free': '8999.95595350', 'locked': '0.00000000'},\n",
       "  {'asset': 'XRP', 'free': '997.00000000', 'locked': '0.00000000'},\n",
       "  {'asset': 'NEO', 'free': '68.00000000', 'locked': '0.00000000'},\n",
       "  {'asset': 'QTUM', 'free': '231.00000000', 'locked': '0.00000000'},\n",
       "  {'asset': 'EOS', 'free': '848.00000000', 'locked': '0.00000000'},\n",
       "  {'asset': 'SNT', 'free': '23320.00000000', 'locked': '0.00000000'},\n",
       "  {'asset': 'BNT', 'free': '1145.00000000', 'locked': '0.00000000'},\n",
       "  {'asset': 'BCC', 'free': '735.00000000', 'locked': '0.00000000'},\n",
       "  {'asset': 'GAS', 'free': '221.00000000', 'locked': '0.00000000'},\n",
       "  {'asset': 'HSR', 'free': '500.00000000', 'locked': '0.00000000'},\n",
       "  {'asset': 'OAX', 'free': '4133.00000000', 'locked': '0.00000000'},\n",
       "  {'asset': 'DNT', 'free': '20764.00000000', 'locked': '0.00000000'},\n",
       "  {'asset': 'MCO', 'free': '40.00000000', 'locked': '0.00000000'},\n",
       "  {'asset': 'ICN', 'free': '13280.00000000', 'locked': '0.00000000'},\n",
       "  {'asset': 'WTC', 'free': '3264.00000000', 'locked': '0.00000000'},\n",
       "  {'asset': 'LRC', 'free': '2687.00000000', 'locked': '0.00000000'},\n",
       "  {'asset': 'YOYO', 'free': '1.00000000', 'locked': '0.00000000'},\n",
       "  {'asset': 'OMG', 'free': '1050.00000000', 'locked': '0.00000000'},\n",
       "  {'asset': 'ZRX', 'free': '2900.00000000', 'locked': '0.00000000'},\n",
       "  {'asset': 'STRAT', 'free': '1.00000000', 'locked': '0.00000000'},\n",
       "  {'asset': 'SNGLS', 'free': '57091.00000000', 'locked': '0.00000000'},\n",
       "  {'asset': 'BQX', 'free': '500.00000000', 'locked': '0.00000000'},\n",
       "  {'asset': 'KNC', 'free': '935.00000000', 'locked': '0.00000000'},\n",
       "  {'asset': 'FUN', 'free': '11680.00000000', 'locked': '0.00000000'},\n",
       "  {'asset': 'SNM', 'free': '46688.00000000', 'locked': '0.00000000'},\n",
       "  {'asset': 'IOTA', 'free': '500.00000000', 'locked': '0.00000000'},\n",
       "  {'asset': 'LINK', 'free': '81.00000000', 'locked': '0.00000000'},\n",
       "  {'asset': 'XVG', 'free': '14986.00000000', 'locked': '0.00000000'},\n",
       "  {'asset': 'SALT', 'free': '24543.00000000', 'locked': '0.00000000'},\n",
       "  {'asset': 'MDA', 'free': '12724.00000000', 'locked': '0.00000000'},\n",
       "  {'asset': 'MTL', 'free': '419.00000000', 'locked': '0.00000000'},\n",
       "  {'asset': 'SUB', 'free': '13855.00000000', 'locked': '0.00000000'},\n",
       "  {'asset': 'ETC', 'free': '32.00000000', 'locked': '0.00000000'},\n",
       "  {'asset': 'MTH', 'free': '13497.00000000', 'locked': '0.00000000'},\n",
       "  {'asset': 'ENG', 'free': '66599.00000000', 'locked': '0.00000000'},\n",
       "  {'asset': 'ZEC', 'free': '19.00000000', 'locked': '0.00000000'},\n",
       "  {'asset': 'AST', 'free': '5774.00000000', 'locked': '0.00000000'},\n",
       "  {'asset': 'DASH', 'free': '19.00000000', 'locked': '0.00000000'},\n",
       "  {'asset': 'BTG', 'free': '39.00000000', 'locked': '0.00000000'},\n",
       "  {'asset': 'EVX', 'free': '21453.00000000', 'locked': '0.00000000'},\n",
       "  {'asset': 'REQ', 'free': '7615.00000000', 'locked': '0.00000000'},\n",
       "  {'asset': 'VIB', 'free': '11785.00000000', 'locked': '0.00000000'},\n",
       "  {'asset': 'POWR', 'free': '3721.00000000', 'locked': '0.00000000'},\n",
       "  {'asset': 'ARK', 'free': '1697.00000000', 'locked': '0.00000000'},\n",
       "  {'asset': 'MOD', 'free': '4981.00000000', 'locked': '0.00000000'},\n",
       "  {'asset': 'ENJ', 'free': '1877.00000000', 'locked': '0.00000000'},\n",
       "  {'asset': 'STORJ', 'free': '2143.00000000', 'locked': '0.00000000'},\n",
       "  {'asset': 'VEN', 'free': '9161.00000000', 'locked': '0.00000000'},\n",
       "  {'asset': 'KMD', 'free': '2326.00000000', 'locked': '0.00000000'},\n",
       "  {'asset': 'NULS', 'free': '2682.00000000', 'locked': '0.00000000'},\n",
       "  {'asset': 'RCN', 'free': '35445.00000000', 'locked': '0.00000000'},\n",
       "  {'asset': 'RDN', 'free': '94193.00000000', 'locked': '0.00000000'},\n",
       "  {'asset': 'XMR', 'free': '3.00000000', 'locked': '0.00000000'},\n",
       "  {'asset': 'DLT', 'free': '77702.00000000', 'locked': '0.00000000'},\n",
       "  {'asset': 'AMB', 'free': '61764.00000000', 'locked': '0.00000000'},\n",
       "  {'asset': 'BAT', 'free': '2928.00000000', 'locked': '0.00000000'},\n",
       "  {'asset': 'BCPT', 'free': '20403.00000000', 'locked': '0.00000000'},\n",
       "  {'asset': 'ARN', 'free': '500.00000000', 'locked': '0.00000000'},\n",
       "  {'asset': 'GVT', 'free': '5354.00000000', 'locked': '0.00000000'},\n",
       "  {'asset': 'CDT', 'free': '2081.00000000', 'locked': '0.00000000'},\n",
       "  {'asset': 'GXS', 'free': '500.00000000', 'locked': '0.00000000'},\n",
       "  {'asset': 'POE', 'free': '48449.00000000', 'locked': '0.00000000'},\n",
       "  {'asset': 'QSP', 'free': '49412.00000000', 'locked': '0.00000000'},\n",
       "  {'asset': 'BTS', 'free': '54352.00000000', 'locked': '0.00000000'},\n",
       "  {'asset': 'XZC', 'free': '1.00000000', 'locked': '0.00000000'},\n",
       "  {'asset': 'LSK', 'free': '719.00000000', 'locked': '0.00000000'},\n",
       "  {'asset': 'TNT', 'free': '33171.00000000', 'locked': '0.00000000'},\n",
       "  {'asset': 'FUEL', 'free': '23476.00000000', 'locked': '0.00000000'},\n",
       "  {'asset': 'MANA', 'free': '1695.00000000', 'locked': '0.00000000'},\n",
       "  {'asset': 'BCD', 'free': '8136.00000000', 'locked': '0.00000000'},\n",
       "  {'asset': 'DGD', 'free': '8.00000000', 'locked': '0.00000000'},\n",
       "  {'asset': 'ADX', 'free': '3801.00000000', 'locked': '0.00000000'},\n",
       "  {'asset': 'ADA', 'free': '1951.00000000', 'locked': '0.00000000'},\n",
       "  {'asset': 'PPT', 'free': '22421.00000000', 'locked': '0.00000000'},\n",
       "  {'asset': 'CMT', 'free': '19425.00000000', 'locked': '0.00000000'},\n",
       "  {'asset': 'XLM', 'free': '4167.00000000', 'locked': '0.00000000'},\n",
       "  {'asset': 'CND', 'free': '24737.00000000', 'locked': '0.00000000'},\n",
       "  {'asset': 'LEND', 'free': '972.00000000', 'locked': '0.00000000'},\n",
       "  {'asset': 'WABI', 'free': '46530.00000000', 'locked': '0.00000000'}],\n",
       " 'permissions': ['SPOT'],\n",
       " 'uid': 1692802094701680202}"
      ]
     },
     "execution_count": 53,
     "metadata": {},
     "output_type": "execute_result"
    }
   ],
   "source": [
    "client.get_account()"
   ]
  },
  {
   "cell_type": "code",
   "execution_count": 54,
   "id": "cd090e59",
   "metadata": {},
   "outputs": [
    {
     "data": {
      "text/plain": [
       "{'symbol': 'BTCUSDT', 'price': '25841.28000000'}"
      ]
     },
     "execution_count": 54,
     "metadata": {},
     "output_type": "execute_result"
    }
   ],
   "source": [
    "client.get_symbol_ticker(symbol = \"BTCUSDT\") # current price"
   ]
  },
  {
   "cell_type": "markdown",
   "id": "850300c8",
   "metadata": {},
   "source": [
    "__Limit Buy Order__"
   ]
  },
  {
   "cell_type": "code",
   "execution_count": 55,
   "id": "5d28a577",
   "metadata": {},
   "outputs": [],
   "source": [
    "order1 = client.create_order(symbol=\"BTCUSDT\", side = \"BUY\", type = \"LIMIT\",\n",
    "                            quantity = 0.1, timeInForce = \"GTC\", price = 50000)"
   ]
  },
  {
   "cell_type": "code",
   "execution_count": 56,
   "id": "b504bcf1",
   "metadata": {},
   "outputs": [
    {
     "data": {
      "text/plain": [
       "{'symbol': 'BTCUSDT',\n",
       " 'orderId': 2750020,\n",
       " 'orderListId': -1,\n",
       " 'clientOrderId': 'OEyCKWE5b4o2JGh8r1UlPF',\n",
       " 'transactTime': 1694389445978,\n",
       " 'price': '50000.00000000',\n",
       " 'origQty': '0.10000000',\n",
       " 'executedQty': '0.10000000',\n",
       " 'cummulativeQuoteQty': '2584.10111579',\n",
       " 'status': 'FILLED',\n",
       " 'timeInForce': 'GTC',\n",
       " 'type': 'LIMIT',\n",
       " 'side': 'BUY',\n",
       " 'workingTime': 1694389445978,\n",
       " 'fills': [{'price': '25840.26000000',\n",
       "   'qty': '0.03057300',\n",
       "   'commission': '0.00000000',\n",
       "   'commissionAsset': 'BTC',\n",
       "   'tradeId': 332365},\n",
       "  {'price': '25841.28000000',\n",
       "   'qty': '0.00900000',\n",
       "   'commission': '0.00000000',\n",
       "   'commissionAsset': 'BTC',\n",
       "   'tradeId': 332366},\n",
       "  {'price': '25841.35000000',\n",
       "   'qty': '0.05339100',\n",
       "   'commission': '0.00000000',\n",
       "   'commissionAsset': 'BTC',\n",
       "   'tradeId': 332367},\n",
       "  {'price': '25841.36000000',\n",
       "   'qty': '0.00703600',\n",
       "   'commission': '0.00000000',\n",
       "   'commissionAsset': 'BTC',\n",
       "   'tradeId': 332368}],\n",
       " 'selfTradePreventionMode': 'NONE'}"
      ]
     },
     "execution_count": 56,
     "metadata": {},
     "output_type": "execute_result"
    }
   ],
   "source": [
    "order1"
   ]
  },
  {
   "cell_type": "code",
   "execution_count": 57,
   "id": "45e8d645",
   "metadata": {},
   "outputs": [
    {
     "data": {
      "text/plain": [
       "2750020"
      ]
     },
     "execution_count": 57,
     "metadata": {},
     "output_type": "execute_result"
    }
   ],
   "source": [
    "order_id_buy = order1[\"orderId\"]\n",
    "order_id_buy"
   ]
  },
  {
   "cell_type": "code",
   "execution_count": 58,
   "id": "db9f17e8",
   "metadata": {},
   "outputs": [
    {
     "data": {
      "text/plain": [
       "{'symbol': 'BTCUSDT',\n",
       " 'orderId': 2750020,\n",
       " 'orderListId': -1,\n",
       " 'clientOrderId': 'OEyCKWE5b4o2JGh8r1UlPF',\n",
       " 'price': '50000.00000000',\n",
       " 'origQty': '0.10000000',\n",
       " 'executedQty': '0.10000000',\n",
       " 'cummulativeQuoteQty': '2584.10111579',\n",
       " 'status': 'FILLED',\n",
       " 'timeInForce': 'GTC',\n",
       " 'type': 'LIMIT',\n",
       " 'side': 'BUY',\n",
       " 'stopPrice': '0.00000000',\n",
       " 'icebergQty': '0.00000000',\n",
       " 'time': 1694389445978,\n",
       " 'updateTime': 1694389445978,\n",
       " 'isWorking': True,\n",
       " 'workingTime': 1694389445978,\n",
       " 'origQuoteOrderQty': '0.00000000',\n",
       " 'selfTradePreventionMode': 'NONE'}"
      ]
     },
     "execution_count": 58,
     "metadata": {},
     "output_type": "execute_result"
    }
   ],
   "source": [
    "client.get_order(symbol = \"BTCUSDT\", orderId = order_id_buy)"
   ]
  },
  {
   "cell_type": "markdown",
   "id": "2a963e5c",
   "metadata": {},
   "source": [
    "__Limit Sell Order__"
   ]
  },
  {
   "cell_type": "code",
   "execution_count": 59,
   "id": "678fd273",
   "metadata": {},
   "outputs": [],
   "source": [
    "order2 = client.create_order(symbol=\"BTCUSDT\", side = \"SELL\", type = \"LIMIT\",\n",
    "                            quantity = 0.1, timeInForce = \"GTC\", price = 60000)"
   ]
  },
  {
   "cell_type": "code",
   "execution_count": 60,
   "id": "00b842a4",
   "metadata": {},
   "outputs": [
    {
     "data": {
      "text/plain": [
       "{'symbol': 'BTCUSDT',\n",
       " 'orderId': 2750025,\n",
       " 'orderListId': -1,\n",
       " 'clientOrderId': '484TywtV86OBcAFotjTaO7',\n",
       " 'transactTime': 1694389446821,\n",
       " 'price': '60000.00000000',\n",
       " 'origQty': '0.10000000',\n",
       " 'executedQty': '0.00000000',\n",
       " 'cummulativeQuoteQty': '0.00000000',\n",
       " 'status': 'NEW',\n",
       " 'timeInForce': 'GTC',\n",
       " 'type': 'LIMIT',\n",
       " 'side': 'SELL',\n",
       " 'workingTime': 1694389446821,\n",
       " 'fills': [],\n",
       " 'selfTradePreventionMode': 'NONE'}"
      ]
     },
     "execution_count": 60,
     "metadata": {},
     "output_type": "execute_result"
    }
   ],
   "source": [
    "order2"
   ]
  },
  {
   "cell_type": "code",
   "execution_count": 61,
   "id": "b04f76b3",
   "metadata": {},
   "outputs": [
    {
     "data": {
      "text/plain": [
       "2750025"
      ]
     },
     "execution_count": 61,
     "metadata": {},
     "output_type": "execute_result"
    }
   ],
   "source": [
    "order_id_sell = order2[\"orderId\"]\n",
    "order_id_sell"
   ]
  },
  {
   "cell_type": "code",
   "execution_count": 62,
   "id": "a013347c",
   "metadata": {},
   "outputs": [
    {
     "data": {
      "text/plain": [
       "[{'symbol': 'BTCUSDT',\n",
       "  'orderId': 2750025,\n",
       "  'orderListId': -1,\n",
       "  'clientOrderId': '484TywtV86OBcAFotjTaO7',\n",
       "  'price': '60000.00000000',\n",
       "  'origQty': '0.10000000',\n",
       "  'executedQty': '0.00000000',\n",
       "  'cummulativeQuoteQty': '0.00000000',\n",
       "  'status': 'NEW',\n",
       "  'timeInForce': 'GTC',\n",
       "  'type': 'LIMIT',\n",
       "  'side': 'SELL',\n",
       "  'stopPrice': '0.00000000',\n",
       "  'icebergQty': '0.00000000',\n",
       "  'time': 1694389446821,\n",
       "  'updateTime': 1694389446821,\n",
       "  'isWorking': True,\n",
       "  'workingTime': 1694389446821,\n",
       "  'origQuoteOrderQty': '0.00000000',\n",
       "  'selfTradePreventionMode': 'NONE'}]"
      ]
     },
     "execution_count": 62,
     "metadata": {},
     "output_type": "execute_result"
    }
   ],
   "source": [
    "open_orders = client.get_open_orders(symbol = \"BTCUSDT\")\n",
    "open_orders"
   ]
  },
  {
   "cell_type": "code",
   "execution_count": 63,
   "id": "e6f87f5d",
   "metadata": {},
   "outputs": [
    {
     "data": {
      "text/html": [
       "<div>\n",
       "<style scoped>\n",
       "    .dataframe tbody tr th:only-of-type {\n",
       "        vertical-align: middle;\n",
       "    }\n",
       "\n",
       "    .dataframe tbody tr th {\n",
       "        vertical-align: top;\n",
       "    }\n",
       "\n",
       "    .dataframe thead th {\n",
       "        text-align: right;\n",
       "    }\n",
       "</style>\n",
       "<table border=\"1\" class=\"dataframe\">\n",
       "  <thead>\n",
       "    <tr style=\"text-align: right;\">\n",
       "      <th></th>\n",
       "      <th>symbol</th>\n",
       "      <th>orderId</th>\n",
       "      <th>orderListId</th>\n",
       "      <th>clientOrderId</th>\n",
       "      <th>price</th>\n",
       "      <th>origQty</th>\n",
       "      <th>executedQty</th>\n",
       "      <th>cummulativeQuoteQty</th>\n",
       "      <th>status</th>\n",
       "      <th>timeInForce</th>\n",
       "      <th>type</th>\n",
       "      <th>side</th>\n",
       "      <th>stopPrice</th>\n",
       "      <th>icebergQty</th>\n",
       "      <th>time</th>\n",
       "      <th>updateTime</th>\n",
       "      <th>isWorking</th>\n",
       "      <th>workingTime</th>\n",
       "      <th>origQuoteOrderQty</th>\n",
       "      <th>selfTradePreventionMode</th>\n",
       "    </tr>\n",
       "  </thead>\n",
       "  <tbody>\n",
       "    <tr>\n",
       "      <th>0</th>\n",
       "      <td>BTCUSDT</td>\n",
       "      <td>2750025</td>\n",
       "      <td>-1</td>\n",
       "      <td>484TywtV86OBcAFotjTaO7</td>\n",
       "      <td>60000.00000000</td>\n",
       "      <td>0.10000000</td>\n",
       "      <td>0.00000000</td>\n",
       "      <td>0.00000000</td>\n",
       "      <td>NEW</td>\n",
       "      <td>GTC</td>\n",
       "      <td>LIMIT</td>\n",
       "      <td>SELL</td>\n",
       "      <td>0.00000000</td>\n",
       "      <td>0.00000000</td>\n",
       "      <td>1694389446821</td>\n",
       "      <td>1694389446821</td>\n",
       "      <td>True</td>\n",
       "      <td>1694389446821</td>\n",
       "      <td>0.00000000</td>\n",
       "      <td>NONE</td>\n",
       "    </tr>\n",
       "  </tbody>\n",
       "</table>\n",
       "</div>"
      ],
      "text/plain": [
       "    symbol  orderId  orderListId           clientOrderId           price  \\\n",
       "0  BTCUSDT  2750025           -1  484TywtV86OBcAFotjTaO7  60000.00000000   \n",
       "\n",
       "      origQty executedQty cummulativeQuoteQty status timeInForce   type  side  \\\n",
       "0  0.10000000  0.00000000          0.00000000    NEW         GTC  LIMIT  SELL   \n",
       "\n",
       "    stopPrice  icebergQty           time     updateTime  isWorking  \\\n",
       "0  0.00000000  0.00000000  1694389446821  1694389446821       True   \n",
       "\n",
       "     workingTime origQuoteOrderQty selfTradePreventionMode  \n",
       "0  1694389446821        0.00000000                    NONE  "
      ]
     },
     "execution_count": 63,
     "metadata": {},
     "output_type": "execute_result"
    }
   ],
   "source": [
    "pd.DataFrame(open_orders)"
   ]
  },
  {
   "cell_type": "code",
   "execution_count": 64,
   "id": "b5b186f8",
   "metadata": {},
   "outputs": [
    {
     "ename": "BinanceAPIException",
     "evalue": "APIError(code=-2011): Unknown order sent.",
     "output_type": "error",
     "traceback": [
      "\u001b[0;31m---------------------------------------------------------------------------\u001b[0m",
      "\u001b[0;31mBinanceAPIException\u001b[0m                       Traceback (most recent call last)",
      "Cell \u001b[0;32mIn[64], line 1\u001b[0m\n\u001b[0;32m----> 1\u001b[0m result \u001b[39m=\u001b[39m client\u001b[39m.\u001b[39;49mcancel_order(symbol \u001b[39m=\u001b[39;49m \u001b[39m\"\u001b[39;49m\u001b[39mBTCUSDT\u001b[39;49m\u001b[39m\"\u001b[39;49m, orderId \u001b[39m=\u001b[39;49m order_id_buy)\n\u001b[1;32m      2\u001b[0m result\n",
      "File \u001b[0;32m~/Desktop/atlas_trade/.venv/lib/python3.9/site-packages/binance/client.py:1942\u001b[0m, in \u001b[0;36mClient.cancel_order\u001b[0;34m(self, **params)\u001b[0m\n\u001b[1;32m   1912\u001b[0m \u001b[39mdef\u001b[39;00m \u001b[39mcancel_order\u001b[39m(\u001b[39mself\u001b[39m, \u001b[39m*\u001b[39m\u001b[39m*\u001b[39mparams):\n\u001b[1;32m   1913\u001b[0m \u001b[39m    \u001b[39m\u001b[39m\"\"\"Cancel an active order. Either orderId or origClientOrderId must be sent.\u001b[39;00m\n\u001b[1;32m   1914\u001b[0m \n\u001b[1;32m   1915\u001b[0m \u001b[39m    https://binance-docs.github.io/apidocs/spot/en/#cancel-order-trade\u001b[39;00m\n\u001b[0;32m   (...)\u001b[0m\n\u001b[1;32m   1940\u001b[0m \n\u001b[1;32m   1941\u001b[0m \u001b[39m    \"\"\"\u001b[39;00m\n\u001b[0;32m-> 1942\u001b[0m     \u001b[39mreturn\u001b[39;00m \u001b[39mself\u001b[39;49m\u001b[39m.\u001b[39;49m_delete(\u001b[39m'\u001b[39;49m\u001b[39morder\u001b[39;49m\u001b[39m'\u001b[39;49m, \u001b[39mTrue\u001b[39;49;00m, data\u001b[39m=\u001b[39;49mparams)\n",
      "File \u001b[0;32m~/Desktop/atlas_trade/.venv/lib/python3.9/site-packages/binance/client.py:424\u001b[0m, in \u001b[0;36mClient._delete\u001b[0;34m(self, path, signed, version, **kwargs)\u001b[0m\n\u001b[1;32m    423\u001b[0m \u001b[39mdef\u001b[39;00m \u001b[39m_delete\u001b[39m(\u001b[39mself\u001b[39m, path, signed\u001b[39m=\u001b[39m\u001b[39mFalse\u001b[39;00m, version\u001b[39m=\u001b[39mBaseClient\u001b[39m.\u001b[39mPUBLIC_API_VERSION, \u001b[39m*\u001b[39m\u001b[39m*\u001b[39mkwargs) \u001b[39m-\u001b[39m\u001b[39m>\u001b[39m Dict:\n\u001b[0;32m--> 424\u001b[0m     \u001b[39mreturn\u001b[39;00m \u001b[39mself\u001b[39;49m\u001b[39m.\u001b[39;49m_request_api(\u001b[39m'\u001b[39;49m\u001b[39mdelete\u001b[39;49m\u001b[39m'\u001b[39;49m, path, signed, version, \u001b[39m*\u001b[39;49m\u001b[39m*\u001b[39;49mkwargs)\n",
      "File \u001b[0;32m~/Desktop/atlas_trade/.venv/lib/python3.9/site-packages/binance/client.py:378\u001b[0m, in \u001b[0;36mClient._request_api\u001b[0;34m(self, method, path, signed, version, **kwargs)\u001b[0m\n\u001b[1;32m    374\u001b[0m \u001b[39mdef\u001b[39;00m \u001b[39m_request_api\u001b[39m(\n\u001b[1;32m    375\u001b[0m     \u001b[39mself\u001b[39m, method, path: \u001b[39mstr\u001b[39m, signed: \u001b[39mbool\u001b[39m \u001b[39m=\u001b[39m \u001b[39mFalse\u001b[39;00m, version\u001b[39m=\u001b[39mBaseClient\u001b[39m.\u001b[39mPUBLIC_API_VERSION, \u001b[39m*\u001b[39m\u001b[39m*\u001b[39mkwargs\n\u001b[1;32m    376\u001b[0m ):\n\u001b[1;32m    377\u001b[0m     uri \u001b[39m=\u001b[39m \u001b[39mself\u001b[39m\u001b[39m.\u001b[39m_create_api_uri(path, signed, version)\n\u001b[0;32m--> 378\u001b[0m     \u001b[39mreturn\u001b[39;00m \u001b[39mself\u001b[39;49m\u001b[39m.\u001b[39;49m_request(method, uri, signed, \u001b[39m*\u001b[39;49m\u001b[39m*\u001b[39;49mkwargs)\n",
      "File \u001b[0;32m~/Desktop/atlas_trade/.venv/lib/python3.9/site-packages/binance/client.py:359\u001b[0m, in \u001b[0;36mClient._request\u001b[0;34m(self, method, uri, signed, force_params, **kwargs)\u001b[0m\n\u001b[1;32m    356\u001b[0m kwargs \u001b[39m=\u001b[39m \u001b[39mself\u001b[39m\u001b[39m.\u001b[39m_get_request_kwargs(method, signed, force_params, \u001b[39m*\u001b[39m\u001b[39m*\u001b[39mkwargs)\n\u001b[1;32m    358\u001b[0m \u001b[39mself\u001b[39m\u001b[39m.\u001b[39mresponse \u001b[39m=\u001b[39m \u001b[39mgetattr\u001b[39m(\u001b[39mself\u001b[39m\u001b[39m.\u001b[39msession, method)(uri, \u001b[39m*\u001b[39m\u001b[39m*\u001b[39mkwargs)\n\u001b[0;32m--> 359\u001b[0m \u001b[39mreturn\u001b[39;00m \u001b[39mself\u001b[39;49m\u001b[39m.\u001b[39;49m_handle_response(\u001b[39mself\u001b[39;49m\u001b[39m.\u001b[39;49mresponse)\n",
      "File \u001b[0;32m~/Desktop/atlas_trade/.venv/lib/python3.9/site-packages/binance/client.py:368\u001b[0m, in \u001b[0;36mClient._handle_response\u001b[0;34m(response)\u001b[0m\n\u001b[1;32m    363\u001b[0m \u001b[39m\u001b[39m\u001b[39m\"\"\"Internal helper for handling API responses from the Binance server.\u001b[39;00m\n\u001b[1;32m    364\u001b[0m \u001b[39mRaises the appropriate exceptions when necessary; otherwise, returns the\u001b[39;00m\n\u001b[1;32m    365\u001b[0m \u001b[39mresponse.\u001b[39;00m\n\u001b[1;32m    366\u001b[0m \u001b[39m\"\"\"\u001b[39;00m\n\u001b[1;32m    367\u001b[0m \u001b[39mif\u001b[39;00m \u001b[39mnot\u001b[39;00m (\u001b[39m200\u001b[39m \u001b[39m<\u001b[39m\u001b[39m=\u001b[39m response\u001b[39m.\u001b[39mstatus_code \u001b[39m<\u001b[39m \u001b[39m300\u001b[39m):\n\u001b[0;32m--> 368\u001b[0m     \u001b[39mraise\u001b[39;00m BinanceAPIException(response, response\u001b[39m.\u001b[39mstatus_code, response\u001b[39m.\u001b[39mtext)\n\u001b[1;32m    369\u001b[0m \u001b[39mtry\u001b[39;00m:\n\u001b[1;32m    370\u001b[0m     \u001b[39mreturn\u001b[39;00m response\u001b[39m.\u001b[39mjson()\n",
      "\u001b[0;31mBinanceAPIException\u001b[0m: APIError(code=-2011): Unknown order sent."
     ]
    }
   ],
   "source": [
    "result = client.cancel_order(symbol = \"BTCUSDT\", orderId = order_id_buy)\n",
    "result"
   ]
  },
  {
   "cell_type": "code",
   "execution_count": null,
   "id": "23bbca55",
   "metadata": {},
   "outputs": [],
   "source": [
    "result = client.cancel_order(symbol = \"BTCUSDT\", orderId = order_id_sell)\n",
    "result"
   ]
  },
  {
   "cell_type": "code",
   "execution_count": null,
   "id": "31e13603",
   "metadata": {},
   "outputs": [],
   "source": []
  },
  {
   "cell_type": "markdown",
   "id": "5f08c14e",
   "metadata": {},
   "source": [
    "## Reporting: Getting all (historical) Orders and Trades"
   ]
  },
  {
   "cell_type": "code",
   "execution_count": null,
   "id": "6adf8bff",
   "metadata": {},
   "outputs": [],
   "source": [
    "from binance.client import Client\n",
    "import pandas as pd"
   ]
  },
  {
   "cell_type": "code",
   "execution_count": null,
   "id": "86fdeb4f",
   "metadata": {},
   "outputs": [],
   "source": [
    "client = Client(api_key = api_key, api_secret = secret_key, tld = \"com\", testnet = True) "
   ]
  },
  {
   "cell_type": "code",
   "execution_count": null,
   "id": "53564005",
   "metadata": {},
   "outputs": [],
   "source": [
    "all_orders = client.get_all_orders(symbol = \"BTCUSDT\")\n",
    "all_orders"
   ]
  },
  {
   "cell_type": "code",
   "execution_count": null,
   "id": "345caac2",
   "metadata": {},
   "outputs": [],
   "source": [
    "pd.DataFrame(all_orders)"
   ]
  },
  {
   "cell_type": "code",
   "execution_count": null,
   "id": "227575f4",
   "metadata": {},
   "outputs": [],
   "source": [
    "trades = client.get_my_trades(symbol = \"BTCUSDT\")\n",
    "trades"
   ]
  },
  {
   "cell_type": "code",
   "execution_count": null,
   "id": "9c79c4dd",
   "metadata": {},
   "outputs": [],
   "source": [
    "df = pd.DataFrame(trades)\n",
    "df"
   ]
  },
  {
   "cell_type": "code",
   "execution_count": null,
   "id": "3f2e0c59",
   "metadata": {},
   "outputs": [],
   "source": [
    "df.time = pd.to_datetime(df.time, unit = \"ms\", errors = \"coerce\")"
   ]
  },
  {
   "cell_type": "code",
   "execution_count": null,
   "id": "164cd013",
   "metadata": {},
   "outputs": [],
   "source": [
    "df"
   ]
  },
  {
   "cell_type": "code",
   "execution_count": null,
   "id": "295c22e1",
   "metadata": {},
   "outputs": [],
   "source": []
  },
  {
   "cell_type": "markdown",
   "id": "2c96576c",
   "metadata": {},
   "source": [
    "## Creating & Running a first (simple) Trading Bot"
   ]
  },
  {
   "cell_type": "code",
   "execution_count": null,
   "id": "147be47b",
   "metadata": {},
   "outputs": [],
   "source": [
    "from binance.client import Client\n",
    "import pandas as pd"
   ]
  },
  {
   "cell_type": "code",
   "execution_count": null,
   "id": "5aae4ec9",
   "metadata": {},
   "outputs": [],
   "source": [
    "client = Client(api_key = api_key, api_secret = secret_key, tld = \"com\", testnet = True)"
   ]
  },
  {
   "cell_type": "code",
   "execution_count": null,
   "id": "0ffefb77",
   "metadata": {},
   "outputs": [],
   "source": [
    "client.get_account()"
   ]
  },
  {
   "cell_type": "markdown",
   "id": "b5597221",
   "metadata": {},
   "source": [
    "### Random Trading Bot"
   ]
  },
  {
   "cell_type": "markdown",
   "id": "6c8914fa",
   "metadata": {},
   "source": [
    "__A simple random Trading Bot__: Stream Market Data and buy 0.1 BTC (with USDT) once condition x (Price and/or Volume) has been met. Then stop the Stream."
   ]
  },
  {
   "cell_type": "markdown",
   "id": "6a2a2062",
   "metadata": {},
   "source": [
    "Condition x: Price (rounded down) is divisible by 10 without remainder."
   ]
  },
  {
   "cell_type": "code",
   "execution_count": null,
   "id": "bb570a2e",
   "metadata": {},
   "outputs": [],
   "source": [
    "40215 % 10 # modulo"
   ]
  },
  {
   "cell_type": "markdown",
   "id": "887728e8",
   "metadata": {},
   "source": [
    "__Using the Miniticker Stream:__"
   ]
  },
  {
   "attachments": {
    "image.png": {
     "image/png": "[encoded data removed]"
    }
   },
   "cell_type": "markdown",
   "id": "1c1b2b0b",
   "metadata": {},
   "source": [
    "![image.png](attachment:image.png)"
   ]
  },
  {
   "cell_type": "markdown",
   "id": "2bb136f2",
   "metadata": {},
   "source": [
    "### Option 1: ThreadedWebsocketManager (only executable in scripts, not in Jupyter!):"
   ]
  },
  {
   "cell_type": "code",
   "execution_count": null,
   "id": "a5a0eab7",
   "metadata": {},
   "outputs": [],
   "source": [
    "from binance import ThreadedWebsocketManager"
   ]
  },
  {
   "cell_type": "code",
   "execution_count": null,
   "id": "bcda5431",
   "metadata": {},
   "outputs": [],
   "source": [
    "twm = ThreadedWebsocketManager()\n",
    "twm.start()"
   ]
  },
  {
   "cell_type": "code",
   "execution_count": null,
   "id": "c8f056fc",
   "metadata": {},
   "outputs": [],
   "source": [
    "def simple_bot(msg):\n",
    "    ''' define how to process incoming WebSocket messages '''\n",
    "    \n",
    "    time = pd.to_datetime(msg[\"E\"], unit = \"ms\")\n",
    "    price = float(msg[\"c\"])\n",
    "    \n",
    "    print(\"Time: {} | Price: {}\".format(time, price))\n",
    "    \n",
    "    if int(price) % 10 == 0:\n",
    "        order = client.create_order(symbol = \"BTCUSDT\", side = \"BUY\", type = \"MARKET\", quantity = 0.1)\n",
    "        print(\"\\n\" + 50 * \"-\")\n",
    "        print(\"Buy {} BTC for {} USDT\".format(order[\"executedQty\"], order[\"cummulativeQuoteQty\"]))\n",
    "        print(50 * \"-\" + \"\\n\")\n",
    "        \n",
    "        twm.stop() # stop defined inside callback"
   ]
  },
  {
   "cell_type": "code",
   "execution_count": null,
   "id": "d7c3a21f",
   "metadata": {},
   "outputs": [],
   "source": [
    "twm.start_symbol_miniticker_socket(callback = simple_bot, symbol = \"BTCUSDT\")\n",
    "twm.join() # required if stop is defined in callback function"
   ]
  },
  {
   "cell_type": "markdown",
   "id": "07e5a36e",
   "metadata": {},
   "source": [
    "-----------------------------"
   ]
  },
  {
   "cell_type": "markdown",
   "id": "2084a395",
   "metadata": {},
   "source": [
    "### Option 2: BinanceSocketManager (executable in Jupyter!): "
   ]
  },
  {
   "cell_type": "code",
   "execution_count": null,
   "id": "2bc14222",
   "metadata": {},
   "outputs": [],
   "source": [
    "import asyncio\n",
    "from binance import AsyncClient, BinanceSocketManager"
   ]
  },
  {
   "cell_type": "code",
   "execution_count": null,
   "id": "6069375b",
   "metadata": {},
   "outputs": [],
   "source": [
    "stop_streaming = False # setting a stop_streaming variable (initially: False)"
   ]
  },
  {
   "cell_type": "code",
   "execution_count": null,
   "id": "27374767",
   "metadata": {},
   "outputs": [],
   "source": [
    "def simple_bot(msg):\n",
    "    ''' define how to process incoming WebSocket messages '''\n",
    "    \n",
    "    time = pd.to_datetime(msg[\"E\"], unit = \"ms\")\n",
    "    price = float(msg[\"c\"])\n",
    "    \n",
    "    print(\"Time: {} | Price: {}\".format(time, price))\n",
    "    \n",
    "    if int(price) % 10 == 0:\n",
    "        order = client.create_order(symbol = \"BTCUSDT\", side = \"BUY\", type = \"MARKET\", quantity = 0.1)\n",
    "        print(\"\\n\" + 50 * \"-\")\n",
    "        print(\"Buy {} BTC for {} USDT\".format(order[\"executedQty\"], order[\"cummulativeQuoteQty\"]))\n",
    "        print(50 * \"-\" + \"\\n\")\n",
    "        \n",
    "        global stop_streaming\n",
    "        stop_streaming = True  # stop defined inside callback"
   ]
  },
  {
   "cell_type": "code",
   "execution_count": null,
   "id": "de844f6a",
   "metadata": {},
   "outputs": [],
   "source": [
    "async def main():\n",
    "    client = await AsyncClient.create()\n",
    "    bm = BinanceSocketManager(client)\n",
    "    ts = bm.symbol_miniticker_socket(symbol=\"BTCUSDT\")\n",
    "    \n",
    "    async with ts as tscm:\n",
    "        while True:\n",
    "            res = await tscm.recv()\n",
    "            simple_bot(res)\n",
    "            \n",
    "            if stop_streaming:\n",
    "                break\n",
    "\n",
    "    await client.close_connection()"
   ]
  },
  {
   "cell_type": "code",
   "execution_count": null,
   "id": "e4300c4a",
   "metadata": {},
   "outputs": [],
   "source": [
    "await main()"
   ]
  },
  {
   "cell_type": "code",
   "execution_count": null,
   "id": "5d345371",
   "metadata": {},
   "outputs": [],
   "source": [
    "client.get_account() "
   ]
  }
 ],
 "metadata": {
  "kernelspec": {
   "display_name": "Python 3 (ipykernel)",
   "language": "python",
   "name": "python3"
  },
  "language_info": {
   "codemirror_mode": {
    "name": "ipython",
    "version": 3
   },
   "file_extension": ".py",
   "mimetype": "text/x-python",
   "name": "python",
   "nbconvert_exporter": "python",
   "pygments_lexer": "ipython3",
   "version": "3.9.6"
  }
 },
 "nbformat": 4,
 "nbformat_minor": 5
}
