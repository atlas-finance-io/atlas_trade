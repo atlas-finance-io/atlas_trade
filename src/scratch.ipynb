{
 "cells": [
  {
   "cell_type": "code",
   "execution_count": 1,
   "metadata": {},
   "outputs": [
    {
     "name": "stdout",
     "output_type": "stream",
     "text": [
      "17.92525110581662\n"
     ]
    }
   ],
   "source": [
    "import pandas as pd\n",
    "import statsmodels.api as sm\n",
    "\n",
    "data = pd.read_csv('testhedge.csv')\n",
    "\n",
    "x = data['x']\n",
    "y = data['y']\n",
    "\n",
    "# Perform linear regression\n",
    "model = sm.OLS(y, sm.add_constant(x)).fit()\n",
    "hedge_ratio = model.params[1]\n",
    "\n",
    "print(hedge_ratio)"
   ]
  },
  {
   "cell_type": "code",
   "execution_count": 12,
   "metadata": {},
   "outputs": [
    {
     "name": "stdout",
     "output_type": "stream",
     "text": [
      "[{'info': {'symbol': 'MATICUSDT', 'positionAmt': '0', 'entryPrice': '0.0', 'breakEvenPrice': '0.0', 'markPrice': '0.81471022', 'unRealizedProfit': '0.00000000', 'liquidationPrice': '0', 'leverage': '50', 'maxNotionalValue': '25000', 'marginType': 'cross', 'isolatedMargin': '0.00000000', 'isAutoAddMargin': 'false', 'positionSide': 'BOTH', 'notional': '0', 'isolatedWallet': '0', 'updateTime': '1701594133374', 'isolated': False, 'adlQuantile': '0'}, 'id': None, 'symbol': 'MATIC/USDT:USDT', 'contracts': 0.0, 'contractSize': 1.0, 'unrealizedPnl': 0.0, 'leverage': 50.0, 'liquidationPrice': None, 'collateral': 0.0, 'notional': 0.0, 'markPrice': 0.81471022, 'entryPrice': 0.0, 'timestamp': 1701594133374, 'initialMargin': 0.0, 'initialMarginPercentage': 0.02, 'maintenanceMargin': 0.0, 'maintenanceMarginPercentage': 0.006, 'marginRatio': None, 'datetime': '2023-12-03T09:02:13.374Z', 'marginMode': 'cross', 'marginType': 'cross', 'side': None, 'hedged': False, 'percentage': None, 'stopLossPrice': None, 'takeProfitPrice': None}]\n"
     ]
    }
   ],
   "source": [
    "import ccxt\n",
    "\n",
    "binance = ccxt.binance({\n",
    "        \"apiKey\": \"ePi8ChaFZHc42PkylvrdRDpBUM7fxuHHXHNroLyUr6Sh491OtHh7EEDGgDBZEZKr\",\n",
    "        \"secret\": \"r7XL9zi3nw7qhL0y9Cs78o2pzBbDcIfhPSEs3av1rMTOD0781g9vuWMheXRYmtXx\",\n",
    "        'timeout': 30000,\n",
    "        'enableRateLimit': True,\n",
    "        'options': {\n",
    "            'defaultType': 'future',\n",
    "        },\n",
    "    })\n",
    "\n",
    "symbol_one = \"MATICUSDT\"\n",
    "symbol_two = \"XTZUSDT\"\n",
    "\n",
    "def liquidate_positions():\n",
    "    symbol_one_position_data = binance.fetch_positions([symbol_one])\n",
    "    symbol_two_position_data = binance.fapiPrivateV2GetPositionRisk({'symbol': symbol_two})\n",
    "\n",
    "    print(symbol_one_position_data)\n",
    "\n",
    "\n",
    "liquidate_positions()"
   ]
  },
  {
   "cell_type": "code",
   "execution_count": 16,
   "metadata": {},
   "outputs": [
    {
     "name": "stdout",
     "output_type": "stream",
     "text": [
      "USDT Perpetual Pairs on Bybit:\n",
      "['1000000VINU/USDT:USDT', '10000LADYS/USDT:USDT', '10000NFT/USDT:USDT', '10000SATS/USDT:USDT', '10000STARL/USDT:USDT', '1000BONK/USDT:USDT', '1000BTT/USDT:USDT', '1000FLOKI/USDT:USDT', '1000LUNC/USDT:USDT', '1000PEPE/USDT:USDT', '1000RATS/USDT:USDT', '1000XEC/USDT:USDT', '1INCH/USDT:USDT', 'AAVE/USDT:USDT', 'ACH/USDT:USDT', 'ADA/USDT:USDT', 'AERGO/USDT:USDT', 'AGI/USDT:USDT', 'AGIX/USDT:USDT', 'AGLD/USDT:USDT', 'AKRO/USDT:USDT', 'ALGO/USDT:USDT', 'ALICE/USDT:USDT', 'ALPACA/USDT:USDT', 'ALPHA/USDT:USDT', 'AMB/USDT:USDT', 'ANKR/USDT:USDT', 'ANT/USDT:USDT', 'APE/USDT:USDT', 'API3/USDT:USDT', 'APT/USDT:USDT', 'ARB/USDT:USDT', 'ARKM/USDT:USDT', 'ARK/USDT:USDT', 'ARPA/USDT:USDT', 'AR/USDT:USDT', 'ASTR/USDT:USDT', 'ATA/USDT:USDT', 'ATOM/USDT:USDT', 'AUCTION/USDT:USDT', 'AUDIO/USDT:USDT', 'AVAX/USDT:USDT', 'AXS/USDT:USDT', 'BADGER/USDT:USDT', 'BAKE/USDT:USDT', 'BAL/USDT:USDT', 'BAND/USDT:USDT', 'BAT/USDT:USDT', 'BCH/USDT:USDT', 'BEAM/USDT:USDT', 'BEL/USDT:USDT', 'BICO/USDT:USDT', 'BIGTIME/USDT:USDT', 'BLUR/USDT:USDT', 'BLZ/USDT:USDT', 'BNB/USDT:USDT', 'BNT/USDT:USDT', 'BNX/USDT:USDT', 'BOBA/USDT:USDT', 'BOND/USDT:USDT', 'BSV/USDT:USDT', 'BSW/USDT:USDT', 'BTC/USDT:USDT', 'BUSD/USDT:USDT', 'C98/USDT:USDT', 'CAKE/USDT:USDT', 'CEEK/USDT:USDT', 'CELO/USDT:USDT', 'CELR/USDT:USDT', 'CFX/USDT:USDT', 'CHR/USDT:USDT', 'CHZ/USDT:USDT', 'CKB/USDT:USDT', 'COMBO/USDT:USDT', 'COMP/USDT:USDT', 'CORE/USDT:USDT', 'COTI/USDT:USDT', 'CRO/USDT:USDT', 'CRV/USDT:USDT', 'CTC/USDT:USDT', 'CTK/USDT:USDT', 'CTSI/USDT:USDT', 'CVC/USDT:USDT', 'CVX/USDT:USDT', 'CYBER/USDT:USDT', 'DAR/USDT:USDT', 'DASH/USDT:USDT', 'DENT/USDT:USDT', 'DGB/USDT:USDT', 'DODO/USDT:USDT', 'DOGE/USDT:USDT', 'DOT/USDT:USDT', 'DUSK/USDT:USDT', 'DYDX/USDT:USDT', 'EDU/USDT:USDT', 'EGLD/USDT:USDT', 'ENJ/USDT:USDT', 'ENS/USDT:USDT', 'EOS/USDT:USDT', 'ETC/USDT:USDT', 'ETH/USDT:USDT', 'ETHW/USDT:USDT', 'FET/USDT:USDT', 'FIL/USDT:USDT', 'FITFI/USDT:USDT', 'FLM/USDT:USDT', 'FLOW/USDT:USDT', 'FLR/USDT:USDT', 'FORTH/USDT:USDT', 'FRONT/USDT:USDT', 'FTM/USDT:USDT', 'FXS/USDT:USDT', 'GALA/USDT:USDT', 'GAL/USDT:USDT', 'GASDAO/USDT:USDT', 'GFT/USDT:USDT', 'GLMR/USDT:USDT', 'GLM/USDT:USDT', 'GMT/USDT:USDT', 'GMX/USDT:USDT', 'GODS/USDT:USDT', 'GPT/USDT:USDT', 'GRT/USDT:USDT', 'GTC/USDT:USDT', 'HBAR/USDT:USDT', 'HFT/USDT:USDT', 'HIFI/USDT:USDT', 'HIGH/USDT:USDT', 'HNT/USDT:USDT', 'HOOK/USDT:USDT', 'HOT/USDT:USDT', 'ICP/USDT:USDT', 'ICX/USDT:USDT', 'IDEX/USDT:USDT', 'ID/USDT:USDT', 'ILV/USDT:USDT', 'IMX/USDT:USDT', 'INJ/USDT:USDT', 'IOST/USDT:USDT', 'IOTA/USDT:USDT', 'IOTX/USDT:USDT', 'JASMY/USDT:USDT', 'JOE/USDT:USDT', 'JST/USDT:USDT', 'KAS/USDT:USDT', 'KAVA/USDT:USDT', 'KDA/USDT:USDT', 'KEY/USDT:USDT', 'KLAY/USDT:USDT', 'KNC/USDT:USDT', 'KSM/USDT:USDT', 'LDO/USDT:USDT', 'LEVER/USDT:USDT', 'LINA/USDT:USDT', 'LINK/USDT:USDT', 'LIT/USDT:USDT', 'LOOKS/USDT:USDT', 'LOOM/USDT:USDT', 'LPT/USDT:USDT', 'LQTY/USDT:USDT', 'LRC/USDT:USDT', 'LTC/USDT:USDT', 'LUNA2/USDT:USDT', 'MAGIC/USDT:USDT', 'MANA/USDT:USDT', 'MASK/USDT:USDT', 'MATIC/USDT:USDT', 'MAV/USDT:USDT', 'MBL/USDT:USDT', 'MDT/USDT:USDT', 'MEME/USDT:USDT', 'MINA/USDT:USDT', 'MKR/USDT:USDT', 'MNT/USDT:USDT', 'MOVR/USDT:USDT', 'MTL/USDT:USDT', 'MULTI/USDT:USDT', 'NEAR/USDT:USDT', 'NEO/USDT:USDT', 'NKN/USDT:USDT', 'NMR/USDT:USDT', 'NTRN/USDT:USDT', 'OCEAN/USDT:USDT', 'OGN/USDT:USDT', 'OG/USDT:USDT', 'OMG/USDT:USDT', 'ONE/USDT:USDT', 'ONG/USDT:USDT', 'ONT/USDT:USDT', 'OP/USDT:USDT', 'ORBS/USDT:USDT', 'ORDI/USDT:USDT', 'OXT/USDT:USDT', 'PAXG/USDT:USDT', 'PENDLE/USDT:USDT', 'PEOPLE/USDT:USDT', 'PERP/USDT:USDT', 'PHB/USDT:USDT', 'POLYX/USDT:USDT', 'POWR/USDT:USDT', 'PROM/USDT:USDT', 'PYTH/USDT:USDT', 'QNT/USDT:USDT', 'QTUM/USDT:USDT', 'RAD/USDT:USDT', 'RARE/USDT:USDT', 'RDNT/USDT:USDT', 'REEF/USDT:USDT', 'REN/USDT:USDT', 'REQ/USDT:USDT', 'RIF/USDT:USDT', 'RLC/USDT:USDT', 'RNDR/USDT:USDT', 'ROSE/USDT:USDT', 'RPL/USDT:USDT', 'RSR/USDT:USDT', 'RSS3/USDT:USDT', 'RUNE/USDT:USDT', 'RVN/USDT:USDT', 'SAND/USDT:USDT', 'SCRT/USDT:USDT', 'SC/USDT:USDT', 'SEI/USDT:USDT', 'SFP/USDT:USDT', 'SHIB1000/USDT:USDT', 'SKL/USDT:USDT', 'SLP/USDT:USDT', 'SNT/USDT:USDT', 'SNX/USDT:USDT', 'SOL/USDT:USDT', 'SPELL/USDT:USDT', 'SSV/USDT:USDT', 'STEEM/USDT:USDT', 'STG/USDT:USDT', 'STMX/USDT:USDT', 'STORJ/USDT:USDT', 'STPT/USDT:USDT', 'STRAX/USDT:USDT', 'STX/USDT:USDT', 'SUI/USDT:USDT', 'SUN/USDT:USDT', 'SUPER/USDT:USDT', 'SUSHI/USDT:USDT', 'SWEAT/USDT:USDT', 'SXP/USDT:USDT', 'THETA/USDT:USDT', 'TIA/USDT:USDT', 'TLM/USDT:USDT', 'TOKEN/USDT:USDT', 'TOMI/USDT:USDT', 'TON/USDT:USDT', 'TRB/USDT:USDT', 'TRU/USDT:USDT', 'TRX/USDT:USDT', 'T/USDT:USDT', 'TWT/USDT:USDT', 'UMA/USDT:USDT', 'UNFI/USDT:USDT', 'UNI/USDT:USDT', 'USDC/USDT:USDT', 'USTC/USDT:USDT', 'VET/USDT:USDT', 'VGX/USDT:USDT', 'VRA/USDT:USDT', 'WAVES/USDT:USDT', 'WAXP/USDT:USDT', 'WLD/USDT:USDT', 'WOO/USDT:USDT', 'WSM/USDT:USDT', 'XCN/USDT:USDT', 'XEM/USDT:USDT', 'XLM/USDT:USDT', 'XMR/USDT:USDT', 'XNO/USDT:USDT', 'XRP/USDT:USDT', 'XTZ/USDT:USDT', 'XVG/USDT:USDT', 'XVS/USDT:USDT', 'YFII/USDT:USDT', 'YFI/USDT:USDT', 'YGG/USDT:USDT', 'ZEC/USDT:USDT', 'ZEN/USDT:USDT', 'ZIL/USDT:USDT', 'ZRX/USDT:USDT']\n"
     ]
    }
   ],
   "source": [
    "import ccxt\n",
    "\n",
    "def find_usdt_perp_pairs(exchange_id='bybit'):\n",
    "    # Create an exchange instance\n",
    "    exchange = getattr(ccxt, exchange_id)()\n",
    "\n",
    "    # Load markets\n",
    "    exchange.load_markets()\n",
    "\n",
    "    # Filtering USDT perpetual pairs\n",
    "    usdt_perp_pairs = [market for market, details in exchange.markets.items()\n",
    "                       if details['type'] == 'swap' and 'USDT' in market]\n",
    "\n",
    "    return usdt_perp_pairs\n",
    "\n",
    "# Example usage\n",
    "usdt_perp_pairs = find_usdt_perp_pairs()\n",
    "print(\"USDT Perpetual Pairs on Bybit:\")\n",
    "print(usdt_perp_pairs)"
   ]
  },
  {
   "cell_type": "code",
   "execution_count": 24,
   "metadata": {},
   "outputs": [
    {
     "name": "stdout",
     "output_type": "stream",
     "text": [
      "['1000000VINUUSDT', '10000LADYSUSDT', '10000NFTUSDT', '10000SATSUSDT', '10000STARLUSDT', '1000BONKUSDT', '1000BTTUSDT', '1000FLOKIUSDT', '1000LUNCUSDT', '1000PEPEUSDT', '1000RATSUSDT', '1000XECUSDT', '1INCHUSDT', 'AAVEUSDT', 'ACHUSDT', 'ADAUSDT', 'AERGOUSDT', 'AGIUSDT', 'AGIXUSDT', 'AGLDUSDT', 'AKROUSDT', 'ALGOUSDT', 'ALICEUSDT', 'ALPACAUSDT', 'ALPHAUSDT', 'AMBUSDT', 'ANKRUSDT', 'ANTUSDT', 'APEUSDT', 'API3USDT', 'APTUSDT', 'ARBUSDT', 'ARKMUSDT', 'ARKUSDT', 'ARPAUSDT', 'ARUSDT', 'ASTRUSDT', 'ATAUSDT', 'ATOMUSDT', 'AUCTIONUSDT', 'AUDIOUSDT', 'AVAXUSDT', 'AXSUSDT', 'BADGERUSDT', 'BAKEUSDT', 'BALUSDT', 'BANDUSDT', 'BATUSDT', 'BCHUSDT', 'BEAMUSDT', 'BELUSDT', 'BICOUSDT', 'BIGTIMEUSDT', 'BLURUSDT', 'BLZUSDT', 'BNBUSDT', 'BNTUSDT', 'BNXUSDT', 'BOBAUSDT', 'BONDUSDT', 'BSVUSDT', 'BSWUSDT', 'BTCUSDT', 'BUSDUSDT', 'C98USDT', 'CAKEUSDT', 'CEEKUSDT', 'CELOUSDT', 'CELRUSDT', 'CFXUSDT', 'CHRUSDT', 'CHZUSDT', 'CKBUSDT', 'COMBOUSDT', 'COMPUSDT', 'COREUSDT', 'COTIUSDT', 'CROUSDT', 'CRVUSDT', 'CTCUSDT', 'CTKUSDT', 'CTSIUSDT', 'CVCUSDT', 'CVXUSDT', 'CYBERUSDT', 'DARUSDT', 'DASHUSDT', 'DENTUSDT', 'DGBUSDT', 'DODOUSDT', 'DOGEUSDT', 'DOTUSDT', 'DUSKUSDT', 'DYDXUSDT', 'EDUUSDT', 'EGLDUSDT', 'ENJUSDT', 'ENSUSDT', 'EOSUSDT', 'ETCUSDT', 'ETHUSDT', 'ETHWUSDT', 'FETUSDT', 'FILUSDT', 'FITFIUSDT', 'FLMUSDT', 'FLOWUSDT', 'FLRUSDT', 'FORTHUSDT', 'FRONTUSDT', 'FTMUSDT', 'FXSUSDT', 'GALAUSDT', 'GALUSDT', 'GASDAOUSDT', 'GFTUSDT', 'GLMRUSDT', 'GLMUSDT', 'GMTUSDT', 'GMXUSDT', 'GODSUSDT', 'GPTUSDT', 'GRTUSDT', 'GTCUSDT', 'HBARUSDT', 'HFTUSDT', 'HIFIUSDT', 'HIGHUSDT', 'HNTUSDT', 'HOOKUSDT', 'HOTUSDT', 'ICPUSDT', 'ICXUSDT', 'IDEXUSDT', 'IDUSDT', 'ILVUSDT', 'IMXUSDT', 'INJUSDT', 'IOSTUSDT', 'IOTAUSDT', 'IOTXUSDT', 'JASMYUSDT', 'JOEUSDT', 'JSTUSDT', 'KASUSDT', 'KAVAUSDT', 'KDAUSDT', 'KEYUSDT', 'KLAYUSDT', 'KNCUSDT', 'KSMUSDT', 'LDOUSDT', 'LEVERUSDT', 'LINAUSDT', 'LINKUSDT', 'LITUSDT', 'LOOKSUSDT', 'LOOMUSDT', 'LPTUSDT', 'LQTYUSDT', 'LRCUSDT', 'LTCUSDT', 'LUNA2USDT', 'MAGICUSDT', 'MANAUSDT', 'MASKUSDT', 'MATICUSDT', 'MAVUSDT', 'MBLUSDT', 'MDTUSDT', 'MEMEUSDT', 'MINAUSDT', 'MKRUSDT', 'MNTUSDT', 'MOVRUSDT', 'MTLUSDT', 'MULTIUSDT', 'NEARUSDT', 'NEOUSDT', 'NKNUSDT', 'NMRUSDT', 'NTRNUSDT', 'OCEANUSDT', 'OGNUSDT', 'OGUSDT', 'OMGUSDT', 'ONEUSDT', 'ONGUSDT', 'ONTUSDT', 'OPUSDT', 'ORBSUSDT', 'ORDIUSDT', 'OXTUSDT', 'PAXGUSDT', 'PENDLEUSDT', 'PEOPLEUSDT', 'PERPUSDT', 'PHBUSDT', 'POLYXUSDT', 'POWRUSDT', 'PROMUSDT', 'PYTHUSDT', 'QNTUSDT', 'QTUMUSDT', 'RADUSDT', 'RAREUSDT', 'RDNTUSDT', 'REEFUSDT', 'RENUSDT', 'REQUSDT', 'RIFUSDT', 'RLCUSDT', 'RNDRUSDT', 'ROSEUSDT', 'RPLUSDT', 'RSRUSDT', 'RSS3USDT', 'RUNEUSDT', 'RVNUSDT', 'SANDUSDT', 'SCRTUSDT', 'SCUSDT', 'SEIUSDT', 'SFPUSDT', 'SHIB1000USDT', 'SKLUSDT', 'SLPUSDT', 'SNTUSDT', 'SNXUSDT', 'SOLUSDT', 'SPELLUSDT', 'SSVUSDT', 'STEEMUSDT', 'STGUSDT', 'STMXUSDT', 'STORJUSDT', 'STPTUSDT', 'STRAXUSDT', 'STXUSDT', 'SUIUSDT', 'SUNUSDT', 'SUPERUSDT', 'SUSHIUSDT', 'SWEATUSDT', 'SXPUSDT', 'THETAUSDT', 'TIAUSDT', 'TLMUSDT', 'TOKENUSDT', 'TOMIUSDT', 'TONUSDT', 'TRBUSDT', 'TRUUSDT', 'TRXUSDT', 'TUSDT', 'TWTUSDT', 'UMAUSDT', 'UNFIUSDT', 'UNIUSDT', 'USDCUSDT', 'USTCUSDT', 'VETUSDT', 'VGXUSDT', 'VRAUSDT', 'WAVESUSDT', 'WAXPUSDT', 'WLDUSDT', 'WOOUSDT', 'WSMUSDT', 'XCNUSDT', 'XEMUSDT', 'XLMUSDT', 'XMRUSDT', 'XNOUSDT', 'XRPUSDT', 'XTZUSDT', 'XVGUSDT', 'XVSUSDT', 'YFIIUSDT', 'YFIUSDT', 'YGGUSDT', 'ZECUSDT', 'ZENUSDT', 'ZILUSDT', 'ZRXUSDT']\n"
     ]
    }
   ],
   "source": [
    "pairs = ['1000000VINU/USDT:USDT', '10000LADYS/USDT:USDT', '10000NFT/USDT:USDT', '10000SATS/USDT:USDT', '10000STARL/USDT:USDT', '1000BONK/USDT:USDT', '1000BTT/USDT:USDT', '1000FLOKI/USDT:USDT', '1000LUNC/USDT:USDT', '1000PEPE/USDT:USDT', '1000RATS/USDT:USDT', '1000XEC/USDT:USDT', '1INCH/USDT:USDT', 'AAVE/USDT:USDT', 'ACH/USDT:USDT', 'ADA/USDT:USDT', 'AERGO/USDT:USDT', 'AGI/USDT:USDT', 'AGIX/USDT:USDT', 'AGLD/USDT:USDT', 'AKRO/USDT:USDT', 'ALGO/USDT:USDT', 'ALICE/USDT:USDT', 'ALPACA/USDT:USDT', 'ALPHA/USDT:USDT', 'AMB/USDT:USDT', 'ANKR/USDT:USDT', 'ANT/USDT:USDT', 'APE/USDT:USDT', 'API3/USDT:USDT', 'APT/USDT:USDT', 'ARB/USDT:USDT', 'ARKM/USDT:USDT', 'ARK/USDT:USDT', 'ARPA/USDT:USDT', 'AR/USDT:USDT', 'ASTR/USDT:USDT', 'ATA/USDT:USDT', 'ATOM/USDT:USDT', 'AUCTION/USDT:USDT', 'AUDIO/USDT:USDT', 'AVAX/USDT:USDT', 'AXS/USDT:USDT', 'BADGER/USDT:USDT', 'BAKE/USDT:USDT', 'BAL/USDT:USDT', 'BAND/USDT:USDT', 'BAT/USDT:USDT', 'BCH/USDT:USDT', 'BEAM/USDT:USDT', 'BEL/USDT:USDT', 'BICO/USDT:USDT', 'BIGTIME/USDT:USDT', 'BLUR/USDT:USDT', 'BLZ/USDT:USDT', 'BNB/USDT:USDT', 'BNT/USDT:USDT', 'BNX/USDT:USDT', 'BOBA/USDT:USDT', 'BOND/USDT:USDT', 'BSV/USDT:USDT', 'BSW/USDT:USDT', 'BTC/USDT:USDT', 'BUSD/USDT:USDT', 'C98/USDT:USDT', 'CAKE/USDT:USDT', 'CEEK/USDT:USDT', 'CELO/USDT:USDT', 'CELR/USDT:USDT', 'CFX/USDT:USDT', 'CHR/USDT:USDT', 'CHZ/USDT:USDT', 'CKB/USDT:USDT', 'COMBO/USDT:USDT', 'COMP/USDT:USDT', 'CORE/USDT:USDT', 'COTI/USDT:USDT', 'CRO/USDT:USDT', 'CRV/USDT:USDT', 'CTC/USDT:USDT', 'CTK/USDT:USDT', 'CTSI/USDT:USDT', 'CVC/USDT:USDT', 'CVX/USDT:USDT', 'CYBER/USDT:USDT', 'DAR/USDT:USDT', 'DASH/USDT:USDT', 'DENT/USDT:USDT', 'DGB/USDT:USDT', 'DODO/USDT:USDT', 'DOGE/USDT:USDT', 'DOT/USDT:USDT', 'DUSK/USDT:USDT', 'DYDX/USDT:USDT', 'EDU/USDT:USDT', 'EGLD/USDT:USDT', 'ENJ/USDT:USDT', 'ENS/USDT:USDT', 'EOS/USDT:USDT', 'ETC/USDT:USDT', 'ETH/USDT:USDT', 'ETHW/USDT:USDT', 'FET/USDT:USDT', 'FIL/USDT:USDT', 'FITFI/USDT:USDT', 'FLM/USDT:USDT', 'FLOW/USDT:USDT', 'FLR/USDT:USDT', 'FORTH/USDT:USDT', 'FRONT/USDT:USDT', 'FTM/USDT:USDT', 'FXS/USDT:USDT', 'GALA/USDT:USDT', 'GAL/USDT:USDT', 'GASDAO/USDT:USDT', 'GFT/USDT:USDT', 'GLMR/USDT:USDT', 'GLM/USDT:USDT', 'GMT/USDT:USDT', 'GMX/USDT:USDT', 'GODS/USDT:USDT', 'GPT/USDT:USDT', 'GRT/USDT:USDT', 'GTC/USDT:USDT', 'HBAR/USDT:USDT', 'HFT/USDT:USDT', 'HIFI/USDT:USDT', 'HIGH/USDT:USDT', 'HNT/USDT:USDT', 'HOOK/USDT:USDT', 'HOT/USDT:USDT', 'ICP/USDT:USDT', 'ICX/USDT:USDT', 'IDEX/USDT:USDT', 'ID/USDT:USDT', 'ILV/USDT:USDT', 'IMX/USDT:USDT', 'INJ/USDT:USDT', 'IOST/USDT:USDT', 'IOTA/USDT:USDT', 'IOTX/USDT:USDT', 'JASMY/USDT:USDT', 'JOE/USDT:USDT', 'JST/USDT:USDT', 'KAS/USDT:USDT', 'KAVA/USDT:USDT', 'KDA/USDT:USDT', 'KEY/USDT:USDT', 'KLAY/USDT:USDT', 'KNC/USDT:USDT', 'KSM/USDT:USDT', 'LDO/USDT:USDT', 'LEVER/USDT:USDT', 'LINA/USDT:USDT', 'LINK/USDT:USDT', 'LIT/USDT:USDT', 'LOOKS/USDT:USDT', 'LOOM/USDT:USDT', 'LPT/USDT:USDT', 'LQTY/USDT:USDT', 'LRC/USDT:USDT', 'LTC/USDT:USDT', 'LUNA2/USDT:USDT', 'MAGIC/USDT:USDT', 'MANA/USDT:USDT', 'MASK/USDT:USDT', 'MATIC/USDT:USDT', 'MAV/USDT:USDT', 'MBL/USDT:USDT', 'MDT/USDT:USDT', 'MEME/USDT:USDT', 'MINA/USDT:USDT', 'MKR/USDT:USDT', 'MNT/USDT:USDT', 'MOVR/USDT:USDT', 'MTL/USDT:USDT', 'MULTI/USDT:USDT', 'NEAR/USDT:USDT', 'NEO/USDT:USDT', 'NKN/USDT:USDT', 'NMR/USDT:USDT', 'NTRN/USDT:USDT', 'OCEAN/USDT:USDT', 'OGN/USDT:USDT', 'OG/USDT:USDT', 'OMG/USDT:USDT', 'ONE/USDT:USDT', 'ONG/USDT:USDT', 'ONT/USDT:USDT', 'OP/USDT:USDT', 'ORBS/USDT:USDT', 'ORDI/USDT:USDT', 'OXT/USDT:USDT', 'PAXG/USDT:USDT', 'PENDLE/USDT:USDT', 'PEOPLE/USDT:USDT', 'PERP/USDT:USDT', 'PHB/USDT:USDT', 'POLYX/USDT:USDT', 'POWR/USDT:USDT', 'PROM/USDT:USDT', 'PYTH/USDT:USDT', 'QNT/USDT:USDT', 'QTUM/USDT:USDT', 'RAD/USDT:USDT', 'RARE/USDT:USDT', 'RDNT/USDT:USDT', 'REEF/USDT:USDT', 'REN/USDT:USDT', 'REQ/USDT:USDT', 'RIF/USDT:USDT', 'RLC/USDT:USDT', 'RNDR/USDT:USDT', 'ROSE/USDT:USDT', 'RPL/USDT:USDT', 'RSR/USDT:USDT', 'RSS3/USDT:USDT', 'RUNE/USDT:USDT', 'RVN/USDT:USDT', 'SAND/USDT:USDT', 'SCRT/USDT:USDT', 'SC/USDT:USDT', 'SEI/USDT:USDT', 'SFP/USDT:USDT', 'SHIB1000/USDT:USDT', 'SKL/USDT:USDT', 'SLP/USDT:USDT', 'SNT/USDT:USDT', 'SNX/USDT:USDT', 'SOL/USDT:USDT', 'SPELL/USDT:USDT', 'SSV/USDT:USDT', 'STEEM/USDT:USDT', 'STG/USDT:USDT', 'STMX/USDT:USDT', 'STORJ/USDT:USDT', 'STPT/USDT:USDT', 'STRAX/USDT:USDT', 'STX/USDT:USDT', 'SUI/USDT:USDT', 'SUN/USDT:USDT', 'SUPER/USDT:USDT', 'SUSHI/USDT:USDT', 'SWEAT/USDT:USDT', 'SXP/USDT:USDT', 'THETA/USDT:USDT', 'TIA/USDT:USDT', 'TLM/USDT:USDT', 'TOKEN/USDT:USDT', 'TOMI/USDT:USDT', 'TON/USDT:USDT', 'TRB/USDT:USDT', 'TRU/USDT:USDT', 'TRX/USDT:USDT', 'T/USDT:USDT', 'TWT/USDT:USDT', 'UMA/USDT:USDT', 'UNFI/USDT:USDT', 'UNI/USDT:USDT', 'USDC/USDT:USDT', 'USTC/USDT:USDT', 'VET/USDT:USDT', 'VGX/USDT:USDT', 'VRA/USDT:USDT', 'WAVES/USDT:USDT', 'WAXP/USDT:USDT', 'WLD/USDT:USDT', 'WOO/USDT:USDT', 'WSM/USDT:USDT', 'XCN/USDT:USDT', 'XEM/USDT:USDT', 'XLM/USDT:USDT', 'XMR/USDT:USDT', 'XNO/USDT:USDT', 'XRP/USDT:USDT', 'XTZ/USDT:USDT', 'XVG/USDT:USDT', 'XVS/USDT:USDT', 'YFII/USDT:USDT', 'YFI/USDT:USDT', 'YGG/USDT:USDT', 'ZEC/USDT:USDT', 'ZEN/USDT:USDT', 'ZIL/USDT:USDT', 'ZRX/USDT:USDT']\n",
    "\n",
    "\n",
    "# Convert the format from 'SYMBOL/USDT:USDT' to 'SYMBOLUSDT'\n",
    "converted_pairs = [pair.split('/')[0] + 'USDT' for pair in pairs]\n",
    "\n",
    "print(converted_pairs)\n"
   ]
  },
  {
   "cell_type": "code",
   "execution_count": 25,
   "metadata": {},
   "outputs": [
    {
     "name": "stdout",
     "output_type": "stream",
     "text": [
      "['BIGTIME/USDT:USDT', 'ALGO/USDT:USDT', 'ZRX/USDT:USDT', 'TLM/USDT:USDT', 'JASMY/USDT:USDT', 'LUNA2/USDT:USDT', 'AGIX/USDT:USDT', 'LDO/USDT:USDT', 'BICO/USDT:USDT', 'GMT/USDT:USDT', 'FLOKI/USDT:USDT', 'ACH/USDT:USDT', 'UNFI/USDT:USDT', 'BNB/USDT:USDT', 'SOL/USDT:USDT', 'LADYS/USDT:USDT', '1INCH/USDT:USDT', 'TOKEN/USDT:USDT', 'BEL/USDT:USDT', 'ID/USDT:USDT', 'LOOM/USDT:USDT', 'SSV/USDT:USDT', 'AGLD/USDT:USDT', 'MKR/USDT:USDT', 'STORJ/USDT:USDT', 'MEME/USDT:USDT', 'AVAX/USDT:USDT', 'ZIL/USDT:USDT', 'XTZ/USDT:USDT', 'SLP/USDT:USDT', 'KAS/USDT:USDT', 'REEF/USDT:USDT', 'FLM/USDT:USDT', 'BLUR/USDT:USDT', 'C98/USDT:USDT', 'LTC/USDT:USDT', 'SEI/USDT:USDT', 'ROSE/USDT:USDT', 'ORBS/USDT:USDT', 'ETC/USDT:USDT', 'HOOK/USDT:USDT', 'STG/USDT:USDT', 'WAXP/USDT:USDT', 'HIFI/USDT:USDT', 'GLMR/USDT:USDT', 'AAVE/USDT:USDT', 'HIGH/USDT:USDT', 'FIL/USDT:USDT', 'FRONT/USDT:USDT', 'RNDR/USDT:USDT', 'GAS/USDT:USDT', 'BTC/USD:USDT', 'AR/USDT:USDT', 'ARB/USDT:USDT', 'XRP/USDT:USDT', 'FET/USDT:USDT', 'DYDX/USDT:USDT', 'LRC/USDT:USDT', 'ATOM/USDT:USDT', 'RSR/USDT:USDT', 'GAL/USDT:USDT', 'COMP/USDT:USDT', 'LEVER/USDT:USDT', 'ETH/USDT:USDT', 'LINK/USDT:USDT', 'KNC/USDT:USDT', 'WOO/USDT:USDT', 'STRAX/USDT:USDT', 'XLM/USDT:USDT', 'DOT/USDT:USDT', 'THETA/USDT:USDT', 'SNX/USDT:USDT', 'AXS/USDT:USDT', 'PEOPLE/USDT:USDT', 'AUDIO/USDT:USDT', 'BSV/USDT:USDT', 'FLOW/USDT:USDT', 'INJ/USDT:USDT', 'ARKM/USDT:USDT', '1000LUNC/USDT:USDT', 'MASK/USDT:USDT', 'BOND/USDT:USDT', 'BTC/USDT:USDT', 'FTM/USDT:USDT', 'NKN/USDT:USDT', 'QTUM/USDT:USDT', 'TRX/USDT:USDT', 'ICP/USDT:USDT', 'WAVES/USDT:USDT', 'BLZ/USDT:USDT', 'BNT/USDT:USDT', 'OGN/USDT:USDT', 'CYBER/USDT:USDT', 'APT/USDT:USDT', 'MATIC/USDT:USDT', 'POLYX/USDT:USDT', 'STX/USDT:USDT', 'MINA/USDT:USDT', 'WLD/USDT:USDT', 'EOS/USDT:USDT', 'JOE/USDT:USDT', 'ENS/USDT:USDT', 'QNT/USDT:USDT', 'ARPA/USDT:USDT', 'RIF/USDT:USDT', 'TIA/USDT:USDT', 'BMX/USDT:USDT', 'AMB/USDT:USDT', 'CRV/USDT:USDT', 'VET/USDT:USDT', 'NEO/USDT:USDT', 'DOGE/USDT:USDT', 'MAGIC/USDT:USDT', 'UNI/USDT:USDT', 'ORDI/USDT:USDT', 'OCEAN/USDT:USDT', 'RUNE/USDT:USDT', 'DAR/USDT:USDT', 'EGLD/USDT:USDT', 'SUI/USDT:USDT', 'ETH/USD:USDT', 'CHZ/USDT:USDT', 'XMR/USDT:USDT', 'USDC/USDT:USDT', 'GTC/USDT:USDT', '1000PEPE/USDT:USDT', 'NEAR/USDT:USDT', 'GALA/USDT:USDT', 'BAND/USDT:USDT', 'RVN/USDT:USDT', 'STPT/USDT:USDT', 'ARK/USDT:USDT', 'MANA/USDT:USDT', 'ADA/USDT:USDT', 'OP/USDT:USDT', 'KAVA/USDT:USDT', '1000SHIB/USDT:USDT', 'SAND/USDT:USDT', 'BAL/USDT:USDT', 'PENDLE/USDT:USDT', 'LIT/USDT:USDT', 'BCH/USDT:USDT', 'APE/USDT:USDT', 'TRB/USDT:USDT']\n"
     ]
    }
   ],
   "source": [
    "import ccxt\n",
    "\n",
    "# Initialize BitMart Exchange\n",
    "bitmart = ccxt.bitmart()\n",
    "\n",
    "# Load markets from BitMart\n",
    "markets = bitmart.load_markets()\n",
    "\n",
    "# Extract and print perpetual USDT futures pairs\n",
    "perpetual_pairs = []\n",
    "for market, details in markets.items():\n",
    "    if 'swap' in details['type'] and 'USDT' in market:\n",
    "        perpetual_pairs.append(market)\n",
    "\n",
    "print(perpetual_pairs)\n"
   ]
  },
  {
   "cell_type": "code",
   "execution_count": 26,
   "metadata": {},
   "outputs": [
    {
     "name": "stdout",
     "output_type": "stream",
     "text": [
      "['BTC/USDT:USDT', 'ETH/USDT:USDT', 'XRP/USDT:USDT', 'EOS/USDT:USDT', 'BCH/USDT:USDT', 'LTC/USDT:USDT', 'ADA/USDT:USDT', 'ETC/USDT:USDT', 'LINK/USDT:USDT', 'TRX/USDT:USDT', 'DOT/USDT:USDT', 'DOGE/USDT:USDT', 'SOL/USDT:USDT', 'MATIC/USDT:USDT', 'BNB/USDT:USDT', 'UNI/USDT:USDT', 'ICP/USDT:USDT', 'AAVE/USDT:USDT', 'FIL/USDT:USDT', 'XLM/USDT:USDT', 'ATOM/USDT:USDT', 'XTZ/USDT:USDT', 'SUSHI/USDT:USDT', 'AXS/USDT:USDT', 'THETA/USDT:USDT', 'AVAX/USDT:USDT', 'DASH/USDT:USDT', 'SHIB/USDT:USDT', 'MANA/USDT:USDT', 'GALA/USDT:USDT', 'SAND/USDT:USDT', 'DYDX/USDT:USDT', 'CRV/USDT:USDT', 'NEAR/USDT:USDT', 'EGLD/USDT:USDT', 'KSM/USDT:USDT', 'AR/USDT:USDT', 'REN/USDT:USDT', 'FTM/USDT:USDT', 'PEOPLE/USDT:USDT', 'LRC/USDT:USDT', 'NEO/USDT:USDT', 'ALICE/USDT:USDT', 'WAVES/USDT:USDT', 'ALGO/USDT:USDT', 'IOTA/USDT:USDT', 'ENJ/USDT:USDT', 'GMT/USDT:USDT', 'ZIL/USDT:USDT', 'IOST/USDT:USDT', 'APE/USDT:USDT', 'RUNE/USDT:USDT', 'KNC/USDT:USDT', 'APT/USDT:USDT', 'CHZ/USDT:USDT', 'XMR/USDT:USDT', 'ROSE/USDT:USDT', 'ZRX/USDT:USDT', 'KAVA/USDT:USDT', 'ENS/USDT:USDT', 'GAL/USDT:USDT', 'AUDIO/USDT:USDT', 'SXP/USDT:USDT', 'C98/USDT:USDT', 'OP/USDT:USDT', 'RSR/USDT:USDT', 'SNX/USDT:USDT', 'STORJ/USDT:USDT', '1INCH/USDT:USDT', 'COMP/USDT:USDT', 'IMX/USDT:USDT', 'LUNA2/USDT:USDT', 'FLOW/USDT:USDT', 'REEF/USDT:USDT', 'TRB/USDT:USDT', 'QTUM/USDT:USDT', 'API3/USDT:USDT', 'MASK/USDT:USDT', 'WOO/USDT:USDT', 'GRT/USDT:USDT', 'BAND/USDT:USDT', 'STG/USDT:USDT', 'LUNC/USDT:USDT', 'ONE/USDT:USDT', 'JASMY/USDT:USDT', 'MKR/USDT:USDT', 'BAT/USDT:USDT', 'MAGIC/USDT:USDT', 'ALPHA/USDT:USDT', 'LDO/USDT:USDT', 'OCEAN/USDT:USDT', 'CELO/USDT:USDT', 'BLUR/USDT:USDT', 'MINA/USDT:USDT', 'CORE/USDT:USDT', 'CFX/USDT:USDT', 'HIGH/USDT:USDT', 'ASTR/USDT:USDT', 'AGIX/USDT:USDT', 'GMX/USDT:USDT', 'LINA/USDT:USDT', 'ANKR/USDT:USDT', 'ACH/USDT:USDT', 'FET/USDT:USDT', 'FXS/USDT:USDT', 'RNDR/USDT:USDT', 'HOOK/USDT:USDT', 'BNX/USDT:USDT', 'SSV/USDT:USDT', 'USDC/USDT:USDT', 'LQTY/USDT:USDT', 'STX/USDT:USDT', 'TRU/USDT:USDT', 'DUSK/USDT:USDT', 'HBAR/USDT:USDT', 'INJ/USDT:USDT', 'BEL/USDT:USDT', 'COTI/USDT:USDT', 'VET/USDT:USDT', 'ARB/USDT:USDT', 'LOOKS/USDT:USDT', 'KLAY/USDT:USDT', 'FLM/USDT:USDT', 'OMG/USDT:USDT', 'RLC/USDT:USDT', 'CKB/USDT:USDT', 'ID/USDT:USDT', 'LIT/USDT:USDT', 'JOE/USDT:USDT', 'TLM/USDT:USDT', 'HOT/USDT:USDT', 'CHR/USDT:USDT', 'RDNT/USDT:USDT', 'ICX/USDT:USDT', 'HFT/USDT:USDT', 'ONT/USDT:USDT', 'ZEC/USDT:USDT', 'UNFI/USDT:USDT', 'NKN/USDT:USDT', 'ARPA/USDT:USDT', 'DAR/USDT:USDT', 'SFP/USDT:USDT', 'CTSI/USDT:USDT', 'SKL/USDT:USDT', 'RVN/USDT:USDT', 'CELR/USDT:USDT', 'FLOKI/USDT:USDT', 'SPELL/USDT:USDT', 'SUI/USDT:USDT', 'EDU/USDT:USDT', 'PEPE/USDT:USDT', 'IOTX/USDT:USDT', 'CTK/USDT:USDT', 'STMX/USDT:USDT', 'UMA/USDT:USDT', 'BSV/USDT:USDT', '10000LADYS/USDT:USDT', 'TON/USDT:USDT', 'GTC/USDT:USDT', 'DENT/USDT:USDT', 'ZEN/USDT:USDT', 'PHB/USDT:USDT', 'ORDI/USDT:USDT', 'KEY/USDT:USDT', 'IDEX/USDT:USDT', 'SLP/USDT:USDT', 'COMBO/USDT:USDT', 'AMB/USDT:USDT', 'LEVER/USDT:USDT', 'ZZZ/USDT:USDT', 'RAD/USDT:USDT', 'ANT/USDT:USDT', 'QNT/USDT:USDT', 'MAV/USDT:USDT', 'MDT/USDT:USDT', 'XVG/USDT:USDT', '1000XEC/USDT:USDT', 'AGLD/USDT:USDT', 'WLD/USDT:USDT', 'PENDLE/USDT:USDT', 'ARKM/USDT:USDT', 'CVX/USDT:USDT', 'YGG/USDT:USDT', 'OGN/USDT:USDT', 'LPT/USDT:USDT', 'BNT/USDT:USDT', 'SEI/USDT:USDT', 'CYBER/USDT:USDT', 'BAKE/USDT:USDT', 'GLMR/USDT:USDT', 'LOOM/USDT:USDT', 'BIGTIME/USDT:USDT', 'ORBS/USDT:USDT', 'WAXP/USDT:USDT', 'POLYX/USDT:USDT', 'TIA/USDT:USDT', 'TWT/USDT:USDT', 'MEME/USDT:USDT', 'PYTH/USDT:USDT']\n"
     ]
    }
   ],
   "source": [
    "import ccxt\n",
    "\n",
    "# Initialize Bitget Exchange\n",
    "bitget = ccxt.bitget()\n",
    "\n",
    "# Load markets from Bitget\n",
    "markets = bitget.load_markets()\n",
    "\n",
    "# Extract and print perpetual USDT futures pairs\n",
    "perpetual_pairs = []\n",
    "for market, details in markets.items():\n",
    "    if 'swap' in details['type'] and 'USDT' in market:\n",
    "        perpetual_pairs.append(market)\n",
    "\n",
    "print(perpetual_pairs)"
   ]
  },
  {
   "cell_type": "code",
   "execution_count": 27,
   "metadata": {},
   "outputs": [
    {
     "ename": "IndentationError",
     "evalue": "expected an indented block (2010937530.py, line 20)",
     "output_type": "error",
     "traceback": [
      "\u001b[0;36m  Cell \u001b[0;32mIn[27], line 20\u001b[0;36m\u001b[0m\n\u001b[0;31m    def run_bot():\u001b[0m\n\u001b[0m    ^\u001b[0m\n\u001b[0;31mIndentationError\u001b[0m\u001b[0;31m:\u001b[0m expected an indented block\n"
     ]
    }
   ],
   "source": [
    "import ccxt\n",
    "import pandas as pd\n",
    "from datetime import datetime\n",
    "\n",
    "import schedule\n",
    "import time\n",
    "pd.set_option('display.max_rows', None)\n",
    "\n",
    "exchange = ccxt.binanceus({\n",
    "    \"apiKey\": \"48ec6d428ba946e5cb872151695dface9bbe82558174f2cf46b67b91e362394b\",\n",
    "    \"secret\": \"1d20d89e04bd9268ef2ab7c14db137e9d6490869b7ec703de4b423a3cb14c417\"\n",
    "})\n",
    "\n",
    "exchange.set_sandbox_mode(True)\n",
    "\n",
    "def fetch_data(symbol):\n",
    "    \n",
    "\n",
    "\n",
    "def run_bot():\n",
    "    print(f\"Fetching new bars for {datetime.now().isoformat()}\")\n",
    "    bars = exchange.fetch_ohlcv('ETH/USDT', timeframe='1m', limit=100)\n",
    "    df = pd.DataFrame(bars[:-1], columns=['timestamp',\n",
    "                      'open', 'high', 'low', 'close', 'volume'])\n",
    "    # df['timestamp'] = pd.to_datetime(df['timestamp'], unit='ms')\n",
    "    print(df)\n",
    "\n",
    "\n",
    "schedule.every(10).seconds.do(run_bot)\n",
    "\n",
    "\n",
    "while True:\n",
    "    schedule.run_pending()\n",
    "    time.sleep(1)\n"
   ]
  }
 ],
 "metadata": {
  "kernelspec": {
   "display_name": ".venv",
   "language": "python",
   "name": "python3"
  },
  "language_info": {
   "codemirror_mode": {
    "name": "ipython",
    "version": 3
   },
   "file_extension": ".py",
   "mimetype": "text/x-python",
   "name": "python",
   "nbconvert_exporter": "python",
   "pygments_lexer": "ipython3",
   "version": "3.9.6"
  },
  "orig_nbformat": 4
 },
 "nbformat": 4,
 "nbformat_minor": 2
}
