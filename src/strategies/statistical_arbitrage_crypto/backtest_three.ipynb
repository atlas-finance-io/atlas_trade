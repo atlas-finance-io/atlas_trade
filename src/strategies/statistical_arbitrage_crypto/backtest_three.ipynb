{
 "cells": [
  {
   "cell_type": "code",
   "execution_count": 1,
   "metadata": {},
   "outputs": [
    {
     "name": "stdout",
     "output_type": "stream",
     "text": [
      "                     calculated_spread  trading_signal  strategy_returns  \\\n",
      "time                                                                       \n",
      "2023-05-30 16:30:00                NaN               0               NaN   \n",
      "2023-05-30 17:30:00                NaN               0               NaN   \n",
      "2023-05-30 18:30:00                NaN               0               NaN   \n",
      "2023-05-30 19:30:00                NaN               0               NaN   \n",
      "2023-05-30 20:30:00                NaN               0               NaN   \n",
      "...                                ...             ...               ...   \n",
      "2023-09-27 11:30:00           0.000331               0               0.0   \n",
      "2023-09-27 12:30:00           0.000354               0               0.0   \n",
      "2023-09-27 13:30:00           0.000377               0               0.0   \n",
      "2023-09-27 14:30:00           0.000400               0               0.0   \n",
      "2023-09-27 15:30:00           0.000509               0               0.0   \n",
      "\n",
      "                     cumulative_strategy_returns  \n",
      "time                                              \n",
      "2023-05-30 16:30:00                          NaN  \n",
      "2023-05-30 17:30:00                          NaN  \n",
      "2023-05-30 18:30:00                          NaN  \n",
      "2023-05-30 19:30:00                          NaN  \n",
      "2023-05-30 20:30:00                          NaN  \n",
      "...                                          ...  \n",
      "2023-09-27 11:30:00                     1.939559  \n",
      "2023-09-27 12:30:00                     1.939559  \n",
      "2023-09-27 13:30:00                     1.939559  \n",
      "2023-09-27 14:30:00                     1.939559  \n",
      "2023-09-27 15:30:00                     1.939559  \n",
      "\n",
      "[2880 rows x 4 columns]\n"
     ]
    }
   ],
   "source": [
    "import pandas as pd\n",
    "from statsmodels.regression.linear_model import OLS\n",
    "import numpy as np\n",
    "\n",
    "# 1. Load the data\n",
    "data = pd.read_csv('backtest_data_1h.csv', parse_dates=True, index_col='time')\n",
    "\n",
    "# 2. Calculate hedge ratio\n",
    "def rolling_hedge_ratio(Y, X, window_size):\n",
    "    hedge_ratios = []\n",
    "    for i in range(len(Y) - window_size + 1):\n",
    "        y = Y[i:i+window_size]\n",
    "        x = X[i:i+window_size]\n",
    "        model = OLS(y, x).fit()\n",
    "        hedge_ratios.append(model.params[0])\n",
    "    return pd.Series([np.nan] * (window_size - 1) + hedge_ratios, index=Y.index)\n",
    "\n",
    "window = 90\n",
    "data['hedge_ratio'] = rolling_hedge_ratio(data['xrp_close'], data['theta_close'], window)\n",
    "\n",
    "# 3. Calculate the spread\n",
    "data['calculated_spread'] = data['xrp_close'] - data['hedge_ratio'] * data['theta_close']\n",
    "\n",
    "# 4. Calculate the rolling mean, standard deviation, and z-score\n",
    "data['rolling_mean_spread'] = data['calculated_spread'].rolling(window=window).mean()\n",
    "data['rolling_std_spread'] = data['calculated_spread'].rolling(window=window).std()\n",
    "data['z_score'] = (data['calculated_spread'] - data['rolling_mean_spread']) / data['rolling_std_spread']\n",
    "\n",
    "# 5. Determine trading signals\n",
    "data['trading_signal'] = 0\n",
    "data.loc[data['z_score'] < -1.8, 'trading_signal'] = 1  # Go long\n",
    "data.loc[data['z_score'] > 1.8, 'trading_signal'] = -1  # Go short\n",
    "data.loc[data['z_score'] * data['z_score'].shift(1) < 0, 'trading_signal'] = 0  # Go neutral\n",
    "\n",
    "# 6. Backtest the strategy\n",
    "data['strategy_returns'] = data['calculated_spread'].diff() * data['trading_signal'].shift(1)\n",
    "data['cumulative_strategy_returns'] = (1 + data['strategy_returns']).cumprod()\n",
    "\n",
    "print(data[['calculated_spread', 'trading_signal', 'strategy_returns', 'cumulative_strategy_returns']])\n",
    "\n",
    "data.to_csv('backtest_result.csv', index=False)\n"
   ]
  }
 ],
 "metadata": {
  "kernelspec": {
   "display_name": ".venv",
   "language": "python",
   "name": "python3"
  },
  "language_info": {
   "codemirror_mode": {
    "name": "ipython",
    "version": 3
   },
   "file_extension": ".py",
   "mimetype": "text/x-python",
   "name": "python",
   "nbconvert_exporter": "python",
   "pygments_lexer": "ipython3",
   "version": "3.9.6"
  },
  "orig_nbformat": 4
 },
 "nbformat": 4,
 "nbformat_minor": 2
}
