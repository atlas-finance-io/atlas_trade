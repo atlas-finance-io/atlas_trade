{
 "cells": [
  {
   "cell_type": "code",
   "execution_count": 1,
   "metadata": {},
   "outputs": [],
   "source": [
    "import pandas as pd\n",
    "import ccxt\n",
    "from statsmodels.regression.rolling import RollingOLS\n",
    "from statsmodels.tsa.stattools import adfuller\n",
    "import statsmodels.api as sm\n",
    "import numpy as np\n",
    "import matplotlib.pyplot as plt\n",
    "from statsmodels.tsa.stattools import coint\n",
    "\n",
    "plt.style.use(\"seaborn-v0_8\")"
   ]
  },
  {
   "cell_type": "code",
   "execution_count": 2,
   "metadata": {},
   "outputs": [
    {
     "name": "stdout",
     "output_type": "stream",
     "text": [
      "Hedge Ratio:  0.4020663256848915\n"
     ]
    }
   ],
   "source": [
    "def fetch_prices(binance, symbol_one, symbol_two, look_back_days): \n",
    "    # Prepare empty dataframe for results\n",
    "    df_final = pd.DataFrame()\n",
    "    \n",
    "    # Calculate the end timestamp for the data fetching\n",
    "    end_timestamp = binance.milliseconds()\n",
    "    since_timestamp = end_timestamp - look_back_days * 24 * 60 * 60 * 1000 \n",
    "    \n",
    "    while since_timestamp < end_timestamp:\n",
    "        try:\n",
    "            # Fetch OHLCV data\n",
    "            ohlcv_theta = binance.fetch_ohlcv(symbol_two, '1h', since=since_timestamp, limit=1000)\n",
    "            ohlcv_xrp = binance.fetch_ohlcv(symbol_one, '1h', since=since_timestamp, limit=1000)\n",
    "            \n",
    "            # Create temporary dataframes to hold fetched data\n",
    "            df_theta_temp = pd.DataFrame(ohlcv_theta, columns=['timestamp', 'open', 'high', 'low', 'close', 'volume'])\n",
    "            df_xrp_temp = pd.DataFrame(ohlcv_xrp, columns=['timestamp', 'open', 'high', 'low', 'close', 'volume'])\n",
    "\n",
    "            # Check if both dataframes have the same length\n",
    "            if len(df_theta_temp) != len(df_xrp_temp):\n",
    "                print(\n",
    "                    f\"Data length mismatch: {symbol_two} has {len(df_theta_temp)} rows, {symbol_one} has {len(df_xrp_temp)} rows.\")\n",
    "                return None\n",
    "            \n",
    "            # Merge dataframes\n",
    "            df_temp = pd.merge(df_xrp_temp[['timestamp', 'close']], df_theta_temp[['timestamp', 'close']], on='timestamp', how='inner')\n",
    "            df_temp.columns = ['timestamp', symbol_one, symbol_two]\n",
    "            \n",
    "            # Concatenate with the final dataframe\n",
    "            df_final = pd.concat([df_final, df_temp])\n",
    "            \n",
    "            # Update the since_timestamp to the last timestamp fetched\n",
    "            since_timestamp = df_final['timestamp'].max() + (60 * 60 * 1000)  # Add one hour\n",
    "\n",
    "        except Exception as e:\n",
    "            print(f\"Error in fetching prices: {e}\")\n",
    "            break\n",
    "    \n",
    "    # Remove duplicates and sort the dataframe\n",
    "    df_final.drop_duplicates(subset='timestamp', keep='first', inplace=True)\n",
    "    df_final.sort_values(by='timestamp', inplace=True)\n",
    "    \n",
    "    return df_final\n",
    "\n",
    "\n",
    "symbol_one = \"ATOMUSDT\"\n",
    "symbol_two = \"AXSUSDT\"\n",
    "\n",
    "binance = ccxt.binance()\n",
    "\n",
    "prices = fetch_prices(binance, symbol_one, symbol_two, 15)\n",
    "\n",
    "x = prices[symbol_one]\n",
    "y = prices[symbol_two]\n",
    "\n",
    "model = sm.OLS(y, sm.add_constant(x)).fit()\n",
    "hedge_ratio = model.params[1]\n",
    "print(\"Hedge Ratio: \", hedge_ratio)\n"
   ]
  }
 ],
 "metadata": {
  "kernelspec": {
   "display_name": ".venv",
   "language": "python",
   "name": "python3"
  },
  "language_info": {
   "codemirror_mode": {
    "name": "ipython",
    "version": 3
   },
   "file_extension": ".py",
   "mimetype": "text/x-python",
   "name": "python",
   "nbconvert_exporter": "python",
   "pygments_lexer": "ipython3",
   "version": "3.9.6"
  }
 },
 "nbformat": 4,
 "nbformat_minor": 2
}
