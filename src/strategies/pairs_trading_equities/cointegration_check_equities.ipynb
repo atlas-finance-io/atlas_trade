{
 "cells": [
  {
   "cell_type": "code",
   "execution_count": 4,
   "metadata": {},
   "outputs": [
    {
     "name": "stdout",
     "output_type": "stream",
     "text": [
      "Pair is cointegrated at: 0.020810280385302894 level of significance\n"
     ]
    }
   ],
   "source": [
    "import pandas as pd\n",
    "import nasdaqdatalink\n",
    "import numpy as np\n",
    "import seaborn as sns\n",
    "import matplotlib.pyplot as plt\n",
    "from statsmodels.tsa.stattools import coint\n",
    "\n",
    "nasdaqdatalink.ApiConfig.api_key = 'zxLNKQydu_qNXQ2tZ7vz'\n",
    "\n",
    "symbol_one = \"IGSB\"\n",
    "symbol_two = \"SPYG\"\n",
    "\n",
    "df = pd.DataFrame()\n",
    "\n",
    "# Iterate over each ETF in your universe\n",
    "for ticker in [symbol_one, symbol_two]:\n",
    "    # Fetch the data\n",
    "    prices = nasdaqdatalink.get_table('SHARADAR/SFP', qopts={\"columns\":['date', 'closeadj']}, date={'gte':'2022-11-13'}, ticker=ticker)\n",
    "    \n",
    "    # Create DataFrame and calculate log returns\n",
    "    prices_df = pd.DataFrame(prices[::-1])\n",
    "    prices_df.set_index('date', inplace=True)  # Set 'date' as index\n",
    "\n",
    "    # Add this ETF's adjusted close prices to the combined DataFrame\n",
    "    df[ticker] = prices_df['closeadj']\n",
    "\n",
    "# Drop rows with any NaN values to ensure all series are aligned\n",
    "df.dropna(inplace=True)\n",
    "\n",
    "S1 = df[symbol_one]\n",
    "S2 = df[symbol_two]\n",
    "result = coint(S1, S2)\n",
    "score = result[0]\n",
    "pvalue = result[1]\n",
    "\n",
    "if pvalue < 0.05:\n",
    "    print(f\"Pair is cointegrated at: {pvalue} level of significance\")\n",
    "else:\n",
    "    print(\"Not cointegrated\")\n",
    "\n",
    "\n",
    "\n"
   ]
  },
  {
   "cell_type": "code",
   "execution_count": null,
   "metadata": {},
   "outputs": [],
   "source": []
  }
 ],
 "metadata": {
  "kernelspec": {
   "display_name": ".venv",
   "language": "python",
   "name": "python3"
  },
  "language_info": {
   "codemirror_mode": {
    "name": "ipython",
    "version": 3
   },
   "file_extension": ".py",
   "mimetype": "text/x-python",
   "name": "python",
   "nbconvert_exporter": "python",
   "pygments_lexer": "ipython3",
   "version": "3.9.6"
  }
 },
 "nbformat": 4,
 "nbformat_minor": 2
}
