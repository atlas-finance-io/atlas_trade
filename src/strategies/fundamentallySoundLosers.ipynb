{
 "cells": [
  {
   "cell_type": "code",
   "execution_count": null,
   "metadata": {},
   "outputs": [],
   "source": [
    "from ib_insync import *\n",
    "util.startLoop()\n",
    "ib = IB()\n",
    "ib.connect('127.0.0.1', 7497, clientId=1)"
   ]
  },
  {
   "cell_type": "code",
   "execution_count": null,
   "metadata": {},
   "outputs": [],
   "source": [
    "def place_order(direction, qty, df, tp, sl):\n",
    "    bracket_order = ib.bracketOrder(\n",
    "        direction,\n",
    "        qty,\n",
    "        limitPrice=df.close.iloc[-1],\n",
    "        takeProfitPrice=tp,\n",
    "        stopLossPrice=sl,\n",
    "    )\n",
    "\n",
    "    for ord in bracket_order:\n",
    "        ib.placeOrder(contract, ord)"
   ]
  }
 ],
 "metadata": {
  "language_info": {
   "name": "python"
  },
  "orig_nbformat": 4
 },
 "nbformat": 4,
 "nbformat_minor": 2
}
