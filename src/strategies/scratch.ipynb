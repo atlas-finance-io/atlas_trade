{
 "cells": [
  {
   "cell_type": "code",
   "execution_count": 1,
   "metadata": {},
   "outputs": [
    {
     "name": "stdout",
     "output_type": "stream",
     "text": [
      "17.92525110581662\n"
     ]
    }
   ],
   "source": [
    "import pandas as pd\n",
    "import statsmodels.api as sm\n",
    "\n",
    "data = pd.read_csv('testhedge.csv')\n",
    "\n",
    "x = data['x']\n",
    "y = data['y']\n",
    "\n",
    "# Perform linear regression\n",
    "model = sm.OLS(y, sm.add_constant(x)).fit()\n",
    "hedge_ratio = model.params[1]\n",
    "\n",
    "print(hedge_ratio)"
   ]
  },
  {
   "cell_type": "code",
   "execution_count": 3,
   "metadata": {},
   "outputs": [
    {
     "name": "stdout",
     "output_type": "stream",
     "text": [
      "['ADA/USDT:USDT', 'APT/USDT:USDT', 'QNT/USDT:USDT', 'TRB/USDT:USDT', 'FET/USDT:USDT', 'HIGH/USDT:USDT', 'DOGE/USDT:USDT', 'RIF/USDT:USDT', 'STG/USDT:USDT', 'DOT/USDT:USDT', 'XMR/USDT:USDT', 'BAL/USDT:USDT', 'ZRX/USDT:USDT', 'FLOW/USDT:USDT', 'FIL/USDT:USDT', 'USDC/USDT:USDT', 'JASMY/USDT:USDT', 'XRP/USDT:USDT', 'BICO/USDT:USDT', 'LRC/USDT:USDT', 'AR/USDT:USDT', 'BOND/USDT:USDT', 'SLP/USDT:USDT', 'OGN/USDT:USDT', 'ACH/USDT:USDT', 'GTC/USDT:USDT', 'LIT/USDT:USDT', 'LTC/USDT:USDT', 'TLM/USDT:USDT', 'AXS/USDT:USDT', 'AMB/USDT:USDT', 'THETA/USDT:USDT', 'ENS/USDT:USDT', 'STRAX/USDT:USDT', 'AGIX/USDT:USDT', 'APE/USDT:USDT', 'BTC/USDT:USDT', 'BIGTIME/USDT:USDT', 'BNB/USDT:USDT', 'CYBER/USDT:USDT', 'ROSE/USDT:USDT', 'BAND/USDT:USDT', 'LOOM/USDT:USDT', 'RVN/USDT:USDT', 'ETH/USDT:USDT', 'FLM/USDT:USDT', 'INJ/USDT:USDT', 'ICP/USDT:USDT', 'AGLD/USDT:USDT', 'CHZ/USDT:USDT', 'ARB/USDT:USDT', 'STPT/USDT:USDT', 'VET/USDT:USDT', 'WLD/USDT:USDT', '1000SHIB/USDT:USDT', 'MASK/USDT:USDT', 'MAGIC/USDT:USDT', 'ATOM/USDT:USDT', 'BCH/USDT:USDT', 'AVAX/USDT:USDT', 'JOE/USDT:USDT', 'LINK/USDT:USDT', 'UNI/USDT:USDT', 'SOL/USDT:USDT', 'FLOKI/USDT:USDT', 'AAVE/USDT:USDT', 'SSV/USDT:USDT', 'SAND/USDT:USDT', 'MEME/USDT:USDT', 'BTC/USD:USDT', 'UNFI/USDT:USDT', 'RNDR/USDT:USDT', 'WAVES/USDT:USDT', 'DYDX/USDT:USDT', 'ZIL/USDT:USDT', 'BSV/USDT:USDT', 'BMX/USDT:USDT', 'ORBS/USDT:USDT', 'ARK/USDT:USDT', 'NKN/USDT:USDT', 'AUDIO/USDT:USDT', 'STX/USDT:USDT', 'WOO/USDT:USDT', 'RUNE/USDT:USDT', 'NEAR/USDT:USDT', '1000PEPE/USDT:USDT', 'TIA/USDT:USDT', 'DAR/USDT:USDT', 'COMP/USDT:USDT', 'MKR/USDT:USDT', 'LDO/USDT:USDT', 'XLM/USDT:USDT', 'BEL/USDT:USDT', 'MANA/USDT:USDT', 'ARPA/USDT:USDT', 'ETC/USDT:USDT', 'BLUR/USDT:USDT', 'STORJ/USDT:USDT', 'ARKM/USDT:USDT', 'BNT/USDT:USDT', 'PEOPLE/USDT:USDT', 'WAXP/USDT:USDT', 'SNX/USDT:USDT', 'ORDI/USDT:USDT', 'CRV/USDT:USDT', 'NEO/USDT:USDT', 'ALGO/USDT:USDT', 'C98/USDT:USDT', 'SUI/USDT:USDT', 'FRONT/USDT:USDT', 'QTUM/USDT:USDT', 'SEI/USDT:USDT', 'FTM/USDT:USDT', 'PENDLE/USDT:USDT', 'OCEAN/USDT:USDT', 'TOKEN/USDT:USDT', 'BLZ/USDT:USDT', 'LUNA2/USDT:USDT', 'KNC/USDT:USDT', 'EOS/USDT:USDT', 'GMT/USDT:USDT', 'GLMR/USDT:USDT', 'EGLD/USDT:USDT', 'GALA/USDT:USDT', 'ETH/USD:USDT', 'OP/USDT:USDT', 'LEVER/USDT:USDT', 'GAL/USDT:USDT', 'KAS/USDT:USDT', 'REEF/USDT:USDT', 'HIFI/USDT:USDT', 'RSR/USDT:USDT', '1000LUNC/USDT:USDT', 'LADYS/USDT:USDT', 'MATIC/USDT:USDT', 'TRX/USDT:USDT', 'HOOK/USDT:USDT', 'ID/USDT:USDT', 'XTZ/USDT:USDT', 'KAVA/USDT:USDT']\n"
     ]
    }
   ],
   "source": [
    "import ccxt\n",
    "\n",
    "# Initialize BitMart Exchange\n",
    "bitmart = ccxt.bitmart()\n",
    "\n",
    "# Load markets from BitMart\n",
    "markets = bitmart.load_markets()\n",
    "\n",
    "# Extract and print perpetual USDT futures pairs\n",
    "perpetual_pairs = []\n",
    "for market, details in markets.items():\n",
    "    if 'swap' in details['type'] and 'USDT' in market:\n",
    "        perpetual_pairs.append(market)\n",
    "\n",
    "print(perpetual_pairs)\n"
   ]
  },
  {
   "cell_type": "code",
   "execution_count": 5,
   "metadata": {},
   "outputs": [
    {
     "name": "stdout",
     "output_type": "stream",
     "text": [
      "['BTC/USDT:USDT', 'ETH/USDT:USDT', 'XRP/USDT:USDT', 'EOS/USDT:USDT', 'BCH/USDT:USDT', 'LTC/USDT:USDT', 'ADA/USDT:USDT', 'ETC/USDT:USDT', 'LINK/USDT:USDT', 'TRX/USDT:USDT', 'DOT/USDT:USDT', 'DOGE/USDT:USDT', 'SOL/USDT:USDT', 'MATIC/USDT:USDT', 'BNB/USDT:USDT', 'UNI/USDT:USDT', 'ICP/USDT:USDT', 'AAVE/USDT:USDT', 'FIL/USDT:USDT', 'XLM/USDT:USDT', 'ATOM/USDT:USDT', 'XTZ/USDT:USDT', 'SUSHI/USDT:USDT', 'AXS/USDT:USDT', 'THETA/USDT:USDT', 'AVAX/USDT:USDT', 'DASH/USDT:USDT', 'SHIB/USDT:USDT', 'MANA/USDT:USDT', 'GALA/USDT:USDT', 'SAND/USDT:USDT', 'DYDX/USDT:USDT', 'CRV/USDT:USDT', 'NEAR/USDT:USDT', 'EGLD/USDT:USDT', 'KSM/USDT:USDT', 'AR/USDT:USDT', 'REN/USDT:USDT', 'FTM/USDT:USDT', 'PEOPLE/USDT:USDT', 'LRC/USDT:USDT', 'NEO/USDT:USDT', 'ALICE/USDT:USDT', 'WAVES/USDT:USDT', 'ALGO/USDT:USDT', 'IOTA/USDT:USDT', 'YFI/USDT:USDT', 'ENJ/USDT:USDT', 'GMT/USDT:USDT', 'ZIL/USDT:USDT', 'IOST/USDT:USDT', 'APE/USDT:USDT', 'RUNE/USDT:USDT', 'KNC/USDT:USDT', 'APT/USDT:USDT', 'CHZ/USDT:USDT', 'XMR/USDT:USDT', 'ROSE/USDT:USDT', 'ZRX/USDT:USDT', 'KAVA/USDT:USDT', 'ENS/USDT:USDT', 'GAL/USDT:USDT', 'AUDIO/USDT:USDT', 'SXP/USDT:USDT', 'C98/USDT:USDT', 'OP/USDT:USDT', 'RSR/USDT:USDT', 'SNX/USDT:USDT', 'STORJ/USDT:USDT', '1INCH/USDT:USDT', 'COMP/USDT:USDT', 'IMX/USDT:USDT', 'LUNA2/USDT:USDT', 'FLOW/USDT:USDT', 'REEF/USDT:USDT', 'TRB/USDT:USDT', 'QTUM/USDT:USDT', 'API3/USDT:USDT', 'MASK/USDT:USDT', 'WOO/USDT:USDT', 'GRT/USDT:USDT', 'BAND/USDT:USDT', 'STG/USDT:USDT', 'LUNC/USDT:USDT', 'ONE/USDT:USDT', 'JASMY/USDT:USDT', 'MKR/USDT:USDT', 'BAT/USDT:USDT', 'MAGIC/USDT:USDT', 'ALPHA/USDT:USDT', 'LDO/USDT:USDT', 'OCEAN/USDT:USDT', 'CELO/USDT:USDT', 'BLUR/USDT:USDT', 'MINA/USDT:USDT', 'CORE/USDT:USDT', 'CFX/USDT:USDT', 'HIGH/USDT:USDT', 'ASTR/USDT:USDT', 'AGIX/USDT:USDT', 'GMX/USDT:USDT', 'LINA/USDT:USDT', 'ANKR/USDT:USDT', 'ACH/USDT:USDT', 'FET/USDT:USDT', 'FXS/USDT:USDT', 'RNDR/USDT:USDT', 'HOOK/USDT:USDT', 'BNX/USDT:USDT', 'SSV/USDT:USDT', 'USDC/USDT:USDT', 'LQTY/USDT:USDT', 'STX/USDT:USDT', 'TRU/USDT:USDT', 'DUSK/USDT:USDT', 'HBAR/USDT:USDT', 'INJ/USDT:USDT', 'BEL/USDT:USDT', 'COTI/USDT:USDT', 'VET/USDT:USDT', 'ARB/USDT:USDT', 'LOOKS/USDT:USDT', 'KLAY/USDT:USDT', 'FLM/USDT:USDT', 'OMG/USDT:USDT', 'RLC/USDT:USDT', 'CKB/USDT:USDT', 'ID/USDT:USDT', 'LIT/USDT:USDT', 'JOE/USDT:USDT', 'TLM/USDT:USDT', 'HOT/USDT:USDT', 'CHR/USDT:USDT', 'RDNT/USDT:USDT', 'ICX/USDT:USDT', 'HFT/USDT:USDT', 'ONT/USDT:USDT', 'ZEC/USDT:USDT', 'UNFI/USDT:USDT', 'NKN/USDT:USDT', 'ARPA/USDT:USDT', 'DAR/USDT:USDT', 'SFP/USDT:USDT', 'CTSI/USDT:USDT', 'SKL/USDT:USDT', 'RVN/USDT:USDT', 'CELR/USDT:USDT', 'FLOKI/USDT:USDT', 'SPELL/USDT:USDT', 'SUI/USDT:USDT', 'EDU/USDT:USDT', 'PEPE/USDT:USDT', 'IOTX/USDT:USDT', 'CTK/USDT:USDT', 'STMX/USDT:USDT', 'UMA/USDT:USDT', 'BSV/USDT:USDT', '10000LADYS/USDT:USDT', 'TON/USDT:USDT', 'GTC/USDT:USDT', 'DENT/USDT:USDT', 'ZEN/USDT:USDT', 'PHB/USDT:USDT', 'ORDI/USDT:USDT', 'KEY/USDT:USDT', 'IDEX/USDT:USDT', 'SLP/USDT:USDT', 'COMBO/USDT:USDT', 'AMB/USDT:USDT', 'LEVER/USDT:USDT', 'ZZZ/USDT:USDT', 'RAD/USDT:USDT', 'ANT/USDT:USDT', 'QNT/USDT:USDT', 'MAV/USDT:USDT', 'MDT/USDT:USDT', 'XVG/USDT:USDT', '1000XEC/USDT:USDT', 'AGLD/USDT:USDT', 'WLD/USDT:USDT', 'PENDLE/USDT:USDT', 'ARKM/USDT:USDT', 'CVX/USDT:USDT', 'YGG/USDT:USDT', 'OGN/USDT:USDT', 'LPT/USDT:USDT', 'BNT/USDT:USDT', 'SEI/USDT:USDT', 'CYBER/USDT:USDT', 'BAKE/USDT:USDT', 'GLMR/USDT:USDT', 'LOOM/USDT:USDT', 'BIGTIME/USDT:USDT', 'ORBS/USDT:USDT', 'WAXP/USDT:USDT', 'POLYX/USDT:USDT', 'TIA/USDT:USDT', 'TWT/USDT:USDT', 'MEME/USDT:USDT', 'PYTH/USDT:USDT']\n"
     ]
    }
   ],
   "source": [
    "import ccxt\n",
    "\n",
    "# Initialize Bitget Exchange\n",
    "bitget = ccxt.bitget()\n",
    "\n",
    "# Load markets from Bitget\n",
    "markets = bitget.load_markets()\n",
    "\n",
    "# Extract and print perpetual USDT futures pairs\n",
    "perpetual_pairs = []\n",
    "for market, details in markets.items():\n",
    "    if 'swap' in details['type'] and 'USDT' in market:\n",
    "        perpetual_pairs.append(market)\n",
    "\n",
    "print(perpetual_pairs)"
   ]
  },
  {
   "cell_type": "code",
   "execution_count": 6,
   "metadata": {},
   "outputs": [
    {
     "ename": "IndentationError",
     "evalue": "expected an indented block (2010937530.py, line 20)",
     "output_type": "error",
     "traceback": [
      "\u001b[0;36m  Cell \u001b[0;32mIn[6], line 20\u001b[0;36m\u001b[0m\n\u001b[0;31m    def run_bot():\u001b[0m\n\u001b[0m    ^\u001b[0m\n\u001b[0;31mIndentationError\u001b[0m\u001b[0;31m:\u001b[0m expected an indented block\n"
     ]
    }
   ],
   "source": [
    "import ccxt\n",
    "import pandas as pd\n",
    "from datetime import datetime\n",
    "\n",
    "import schedule\n",
    "import time\n",
    "pd.set_option('display.max_rows', None)\n",
    "\n",
    "exchange = ccxt.binanceus({\n",
    "    \"apiKey\": \"48ec6d428ba946e5cb872151695dface9bbe82558174f2cf46b67b91e362394b\",\n",
    "    \"secret\": \"1d20d89e04bd9268ef2ab7c14db137e9d6490869b7ec703de4b423a3cb14c417\"\n",
    "})\n",
    "\n",
    "exchange.set_sandbox_mode(True)\n",
    "\n",
    "def fetch_data(symbol):\n",
    "    \n",
    "\n",
    "\n",
    "def run_bot():\n",
    "    print(f\"Fetching new bars for {datetime.now().isoformat()}\")\n",
    "    bars = exchange.fetch_ohlcv('ETH/USDT', timeframe='1m', limit=100)\n",
    "    df = pd.DataFrame(bars[:-1], columns=['timestamp',\n",
    "                      'open', 'high', 'low', 'close', 'volume'])\n",
    "    # df['timestamp'] = pd.to_datetime(df['timestamp'], unit='ms')\n",
    "    print(df)\n",
    "\n",
    "\n",
    "schedule.every(10).seconds.do(run_bot)\n",
    "\n",
    "\n",
    "while True:\n",
    "    schedule.run_pending()\n",
    "    time.sleep(1)\n"
   ]
  }
 ],
 "metadata": {
  "kernelspec": {
   "display_name": ".venv",
   "language": "python",
   "name": "python3"
  },
  "language_info": {
   "codemirror_mode": {
    "name": "ipython",
    "version": 3
   },
   "file_extension": ".py",
   "mimetype": "text/x-python",
   "name": "python",
   "nbconvert_exporter": "python",
   "pygments_lexer": "ipython3",
   "version": "3.9.6"
  },
  "orig_nbformat": 4
 },
 "nbformat": 4,
 "nbformat_minor": 2
}
