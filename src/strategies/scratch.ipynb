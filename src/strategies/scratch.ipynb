{
 "cells": [
  {
   "cell_type": "code",
   "execution_count": 9,
   "metadata": {},
   "outputs": [
    {
     "data": {
      "text/plain": [
       "[{'symbol': 'ETHUSDT',\n",
       "  'id': 3229902374,\n",
       "  'orderId': 8389765617120614086,\n",
       "  'side': 'BUY',\n",
       "  'price': '1629.26',\n",
       "  'qty': '0.050',\n",
       "  'realizedPnl': '0',\n",
       "  'marginAsset': 'USDT',\n",
       "  'quoteQty': '81.46300',\n",
       "  'commission': '0.03258520',\n",
       "  'commissionAsset': 'USDT',\n",
       "  'time': 1694731680627,\n",
       "  'positionSide': 'BOTH',\n",
       "  'buyer': True,\n",
       "  'maker': False},\n",
       " {'symbol': 'ETHUSDT',\n",
       "  'id': 3229972051,\n",
       "  'orderId': 8389765617129217227,\n",
       "  'side': 'SELL',\n",
       "  'price': '1627.34',\n",
       "  'qty': '0.500',\n",
       "  'realizedPnl': '-0.09599999',\n",
       "  'marginAsset': 'USDT',\n",
       "  'quoteQty': '813.67000',\n",
       "  'commission': '0.32546799',\n",
       "  'commissionAsset': 'USDT',\n",
       "  'time': 1694738100142,\n",
       "  'positionSide': 'BOTH',\n",
       "  'buyer': False,\n",
       "  'maker': False}]"
      ]
     },
     "execution_count": 9,
     "metadata": {},
     "output_type": "execute_result"
    }
   ],
   "source": [
    "from dotenv import load_dotenv\n",
    "import os\n",
    "import time\n",
    "from datetime import datetime, timedelta\n",
    "import numpy as np\n",
    "import pandas as pd\n",
    "from binance import ThreadedWebsocketManager\n",
    "from binance.client import Client\n",
    "import sys\n",
    "import sys\n",
    "sys.path.append('/Users/markwindsor/Desktop/atlas_trade')\n",
    "\n",
    "from src.utils.technical_indicators import *\n",
    "\n",
    "\n",
    "load_dotenv()  # Load the .env file\n",
    "\n",
    "\n",
    "client = Client(api_key=API_KEY, api_secret=API_SECRET,\n",
    "                    tld=\"com\")\n",
    "\n",
    "trades = client.futures_account_trades(\n",
    "            symbol='ETHUSDT')\n",
    "\n",
    "trades\n"
   ]
  }
 ],
 "metadata": {
  "kernelspec": {
   "display_name": ".venv",
   "language": "python",
   "name": "python3"
  },
  "language_info": {
   "codemirror_mode": {
    "name": "ipython",
    "version": 3
   },
   "file_extension": ".py",
   "mimetype": "text/x-python",
   "name": "python",
   "nbconvert_exporter": "python",
   "pygments_lexer": "ipython3",
   "version": "3.9.6"
  },
  "orig_nbformat": 4
 },
 "nbformat": 4,
 "nbformat_minor": 2
}
