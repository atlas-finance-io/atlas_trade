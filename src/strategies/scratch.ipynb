{
 "cells": [
  {
   "cell_type": "code",
   "execution_count": 6,
   "metadata": {},
   "outputs": [
    {
     "name": "stdout",
     "output_type": "stream",
     "text": [
      "17.526126733263794\n"
     ]
    }
   ],
   "source": [
    "import pandas as pd\n",
    "import statsmodels.api as sm\n",
    "\n",
    "data = pd.read_csv('testhedge.csv')\n",
    "\n",
    "x = data['x']\n",
    "y = data['y']\n",
    "\n",
    "# Perform linear regression\n",
    "model = sm.OLS(y, sm.add_constant(x)).fit()\n",
    "hedge_ratio = model.params[1]\n",
    "\n",
    "print(hedge_ratio)"
   ]
  },
  {
   "cell_type": "code",
   "execution_count": 7,
   "metadata": {},
   "outputs": [
    {
     "ename": "IndentationError",
     "evalue": "expected an indented block (2010937530.py, line 20)",
     "output_type": "error",
     "traceback": [
      "\u001b[0;36m  Cell \u001b[0;32mIn[7], line 20\u001b[0;36m\u001b[0m\n\u001b[0;31m    def run_bot():\u001b[0m\n\u001b[0m    ^\u001b[0m\n\u001b[0;31mIndentationError\u001b[0m\u001b[0;31m:\u001b[0m expected an indented block\n"
     ]
    }
   ],
   "source": [
    "import ccxt\n",
    "import pandas as pd\n",
    "from datetime import datetime\n",
    "\n",
    "import schedule\n",
    "import time\n",
    "pd.set_option('display.max_rows', None)\n",
    "\n",
    "exchange = ccxt.binanceus({\n",
    "    \"apiKey\": \"48ec6d428ba946e5cb872151695dface9bbe82558174f2cf46b67b91e362394b\",\n",
    "    \"secret\": \"1d20d89e04bd9268ef2ab7c14db137e9d6490869b7ec703de4b423a3cb14c417\"\n",
    "})\n",
    "\n",
    "exchange.set_sandbox_mode(True)\n",
    "\n",
    "def fetch_data(symbol):\n",
    "    \n",
    "\n",
    "\n",
    "def run_bot():\n",
    "    print(f\"Fetching new bars for {datetime.now().isoformat()}\")\n",
    "    bars = exchange.fetch_ohlcv('ETH/USDT', timeframe='1m', limit=100)\n",
    "    df = pd.DataFrame(bars[:-1], columns=['timestamp',\n",
    "                      'open', 'high', 'low', 'close', 'volume'])\n",
    "    # df['timestamp'] = pd.to_datetime(df['timestamp'], unit='ms')\n",
    "    print(df)\n",
    "\n",
    "\n",
    "schedule.every(10).seconds.do(run_bot)\n",
    "\n",
    "\n",
    "while True:\n",
    "    schedule.run_pending()\n",
    "    time.sleep(1)\n"
   ]
  }
 ],
 "metadata": {
  "kernelspec": {
   "display_name": ".venv",
   "language": "python",
   "name": "python3"
  },
  "language_info": {
   "codemirror_mode": {
    "name": "ipython",
    "version": 3
   },
   "file_extension": ".py",
   "mimetype": "text/x-python",
   "name": "python",
   "nbconvert_exporter": "python",
   "pygments_lexer": "ipython3",
   "version": "3.9.6"
  },
  "orig_nbformat": 4
 },
 "nbformat": 4,
 "nbformat_minor": 2
}
