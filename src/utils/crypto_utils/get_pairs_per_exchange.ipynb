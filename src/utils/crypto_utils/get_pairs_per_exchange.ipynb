{
 "cells": [
  {
   "cell_type": "code",
   "execution_count": null,
   "metadata": {},
   "outputs": [],
   "source": []
  },
  {
   "cell_type": "markdown",
   "metadata": {},
   "source": [
    "## Get Futures Pairs for BitGet"
   ]
  },
  {
   "cell_type": "code",
   "execution_count": 14,
   "metadata": {},
   "outputs": [
    {
     "name": "stdout",
     "output_type": "stream",
     "text": [
      "ETH/USD:ETH-231229\n",
      "BTC/USD:BTC-231229\n",
      "BTC/USD:BTC-240329\n",
      "ETH/USD:ETH-240329\n"
     ]
    }
   ],
   "source": [
    "import ccxt\n",
    "\n",
    "# Initialize Bitget Exchange\n",
    "bitget = ccxt.bitget()\n",
    "\n",
    "# Load markets\n",
    "markets = bitget.load_markets()\n",
    "\n",
    "\n",
    "for key, value in markets.items():\n",
    "    # print(key, value)\n",
    "    if value['type'] == 'future' and value['active'] == True:\n",
    "        print(key)\n",
    "\n",
    "\n"
   ]
  }
 ],
 "metadata": {
  "kernelspec": {
   "display_name": ".venv",
   "language": "python",
   "name": "python3"
  },
  "language_info": {
   "codemirror_mode": {
    "name": "ipython",
    "version": 3
   },
   "file_extension": ".py",
   "mimetype": "text/x-python",
   "name": "python",
   "nbconvert_exporter": "python",
   "pygments_lexer": "ipython3",
   "version": "3.9.6"
  }
 },
 "nbformat": 4,
 "nbformat_minor": 2
}
