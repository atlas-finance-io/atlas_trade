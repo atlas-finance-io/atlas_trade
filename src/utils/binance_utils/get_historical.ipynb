{
 "cells": [
  {
   "cell_type": "code",
   "execution_count": 2,
   "metadata": {},
   "outputs": [],
   "source": [
    "import requests\n",
    "import datetime\n",
    "import time\n",
    "import csv\n",
    "\n",
    "def fetch_binance_data(symbol, interval, start_time, end_time):\n",
    "    BASE_URL = 'https://fapi.binance.com/fapi/v1/klines'\n",
    "    limit = 1000  # maximum number of results per request\n",
    "    all_klines = []\n",
    "\n",
    "    while start_time < end_time:\n",
    "        params = {\n",
    "            'symbol': symbol,\n",
    "            'interval': interval,\n",
    "            'startTime': start_time,\n",
    "            'endTime': end_time,\n",
    "            'limit': limit\n",
    "        }\n",
    "        response = requests.get(BASE_URL, params=params)\n",
    "        klines = response.json()\n",
    "        if not klines:\n",
    "            break\n",
    "        all_klines.extend(klines)\n",
    "        start_time = klines[-1][0] + 1  # start where the last batch left off\n",
    "        time.sleep(1)  # wait for a second before making another request\n",
    "\n",
    "    return all_klines\n",
    "\n",
    "def save_to_csv(data, filename):\n",
    "    with open(filename, 'w', newline='') as csvfile:\n",
    "        writer = csv.writer(csvfile)\n",
    "        writer.writerow(['timestamp', 'time', 'open', 'high', 'low', 'close', 'volume'])\n",
    "        for entry in data:\n",
    "            time_str = datetime.datetime.fromtimestamp(entry[0] / 1000).strftime('%Y-%m-%d %H:%M:%S')\n",
    "            writer.writerow([entry[0], [time_str, entry[1], entry[2], entry[3], entry[4], entry[5]])\n",
    "\n",
    "# Parameters\n",
    "symbol = 'XRPUSDT'\n",
    "interval = '1h'\n",
    "end_time = int(time.time() * 1000)  # current time in milliseconds\n",
    "start_time = end_time - (90 * 24 * 60 * 60 * 1000)  \n",
    "\n",
    "data = fetch_binance_data(symbol, interval, start_time, end_time)\n",
    "\n",
    "# Save data to CSV\n",
    "save_to_csv(data, 'XRP.csv')"
   ]
  }
 ],
 "metadata": {
  "kernelspec": {
   "display_name": ".venv",
   "language": "python",
   "name": "python3"
  },
  "language_info": {
   "codemirror_mode": {
    "name": "ipython",
    "version": 3
   },
   "file_extension": ".py",
   "mimetype": "text/x-python",
   "name": "python",
   "nbconvert_exporter": "python",
   "pygments_lexer": "ipython3",
   "version": "3.9.6"
  },
  "orig_nbformat": 4
 },
 "nbformat": 4,
 "nbformat_minor": 2
}
