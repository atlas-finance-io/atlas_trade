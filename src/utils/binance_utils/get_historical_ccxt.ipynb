{
 "cells": [
  {
   "cell_type": "code",
   "execution_count": 3,
   "metadata": {},
   "outputs": [
    {
     "name": "stdout",
     "output_type": "stream",
     "text": [
      "       timestamp  THETAUSDT  XRPUSDT\n",
      "0  1606183200000    0.68746  0.59974\n",
      "1  1606186800000    0.70396  0.63776\n",
      "2  1606190400000    0.72465  0.68505\n",
      "3  1606194000000    0.71359  0.73306\n",
      "4  1606197600000    0.70433  0.69859\n"
     ]
    }
   ],
   "source": [
    "import logging\n",
    "import pandas as pd\n",
    "import ccxt\n",
    "from datetime import datetime\n",
    "\n",
    "pd.set_option('display.float_format', '{:.5f}'.format)\n",
    "\n",
    "\n",
    "def fetch_prices(binance, symbol_one, symbol_two, look_back_days=1080):\n",
    "    # Prepare empty dataframe for results\n",
    "    df_final = pd.DataFrame()\n",
    "    \n",
    "    # Calculate the end timestamp for the data fetching\n",
    "    end_timestamp = binance.milliseconds()\n",
    "    since_timestamp = end_timestamp - look_back_days * 24 * 60 * 60 * 1000  # look back days in milliseconds\n",
    "    \n",
    "    while since_timestamp < end_timestamp:\n",
    "        try:\n",
    "            # Fetch OHLCV data\n",
    "            ohlcv_theta = binance.fetch_ohlcv(symbol_two, '1h', since=since_timestamp, limit=1000)\n",
    "            ohlcv_xrp = binance.fetch_ohlcv(symbol_one, '1h', since=since_timestamp, limit=1000)\n",
    "            \n",
    "            # Create temporary dataframes to hold fetched data\n",
    "            df_theta_temp = pd.DataFrame(ohlcv_theta, columns=['timestamp', 'open', 'high', 'low', 'close', 'volume'])\n",
    "            df_xrp_temp = pd.DataFrame(ohlcv_xrp, columns=['timestamp', 'open', 'high', 'low', 'close', 'volume'])\n",
    "            \n",
    "            # Merge dataframes\n",
    "            df_temp = pd.merge(df_theta_temp[['timestamp', 'close']], df_xrp_temp[['timestamp', 'close']], on='timestamp', how='inner')\n",
    "            df_temp.columns = ['timestamp', symbol_two, symbol_one]\n",
    "            \n",
    "            # Concatenate with the final dataframe\n",
    "            df_final = pd.concat([df_final, df_temp])\n",
    "            \n",
    "            # Update the since_timestamp to the last timestamp fetched\n",
    "            since_timestamp = df_final['timestamp'].max() + (60 * 60 * 1000)  # Add one hour\n",
    "\n",
    "        except Exception as e:\n",
    "            logging.error(f\"Error in fetching prices: {e}\")\n",
    "            break\n",
    "    \n",
    "    # Remove duplicates and sort the dataframe\n",
    "    df_final.drop_duplicates(subset='timestamp', keep='first', inplace=True)\n",
    "    df_final.sort_values(by='timestamp', inplace=True)\n",
    "    \n",
    "    return df_final\n",
    "\n",
    "# Set up exchange connection\n",
    "binance = ccxt.binance()\n",
    "\n",
    "# Fetch prices\n",
    "prices = fetch_prices(binance, \"XRPUSDT\", \"THETAUSDT\")\n",
    "print(prices.head())\n",
    "\n",
    "\n",
    "# Convert timestamps to datetime format and set as index\n",
    "prices['time'] = pd.to_datetime(prices['timestamp'], unit='ms')\n",
    "prices.set_index('time', inplace=True)\n",
    "\n",
    "# Save to CSV\n",
    "prices.to_csv('XRPTHETA_yearly.csv', index=True, float_format='%.5f')\n"
   ]
  }
 ],
 "metadata": {
  "kernelspec": {
   "display_name": ".venv",
   "language": "python",
   "name": "python3"
  },
  "language_info": {
   "codemirror_mode": {
    "name": "ipython",
    "version": 3
   },
   "file_extension": ".py",
   "mimetype": "text/x-python",
   "name": "python",
   "nbconvert_exporter": "python",
   "pygments_lexer": "ipython3",
   "version": "3.9.6"
  }
 },
 "nbformat": 4,
 "nbformat_minor": 2
}
