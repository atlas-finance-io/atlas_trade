{
 "cells": [
  {
   "cell_type": "code",
   "execution_count": 3,
   "metadata": {},
   "outputs": [
    {
     "name": "stdout",
     "output_type": "stream",
     "text": [
      "Error:  HTTPSConnectionPool(host='api.binance.com', port=443): Max retries exceeded with url: /api/v3/ping (Caused by NewConnectionError('<urllib3.connection.HTTPSConnection object at 0x10369e130>: Failed to establish a new connection: [Errno 8] nodename nor servname provided, or not known'))\n"
     ]
    }
   ],
   "source": [
    "from binance.client import Client\n",
    "import pandas as pd\n",
    "import numpy as np\n",
    "\n",
    "# Initialize the Binance client (no need for API keys for public endpoints)\n",
    "\n",
    "try:\n",
    "\n",
    "    client = Client()\n",
    "\n",
    "    # Fetch spot trading pairs\n",
    "    spot_exchange_info = client.get_exchange_info()\n",
    "    spot_pairs = [s['symbol'] for s in spot_exchange_info['symbols']]\n",
    "\n",
    "    # Fetch USDT-margined futures trading pairs\n",
    "    futures_usdt_exchange_info = client.futures_coin_exchange_info()\n",
    "    futures_usdt_pairs = [s['symbol'] for s in futures_usdt_exchange_info['symbols']]\n",
    "\n",
    "    # Fetch coin-margined futures trading pairs\n",
    "    futures_coin_exchange_info = client.futures_coin_exchange_info()\n",
    "    futures_coin_pairs = [s['symbol'] for s in futures_coin_exchange_info['symbols']]\n",
    "\n",
    "    # Find the maximum length among the lists\n",
    "    max_length = max(len(spot_pairs), len(futures_usdt_pairs), len(futures_coin_pairs))\n",
    "\n",
    "    # Extend the shorter lists with NaN values\n",
    "    spot_pairs.extend([np.nan] * (max_length - len(spot_pairs)))\n",
    "    futures_usdt_pairs.extend([np.nan] * (max_length - len(futures_usdt_pairs)))\n",
    "    futures_coin_pairs.extend([np.nan] * (max_length - len(futures_coin_pairs)))\n",
    "\n",
    "    data_dict = {\n",
    "        'spot_pairs': spot_pairs,\n",
    "        'futures_usdt_pairs': futures_usdt_pairs,\n",
    "        'futures_coin_pairs': futures_coin_pairs\n",
    "    }\n",
    "\n",
    "    df = pd.DataFrame(data_dict)\n",
    "    df.to_csv('binance_pairs.csv', index=False)\n",
    "\n",
    "except Exception as e:\n",
    "    print(\"Error: \", e)"
   ]
  },
  {
   "cell_type": "code",
   "execution_count": null,
   "metadata": {},
   "outputs": [],
   "source": []
  },
  {
   "cell_type": "code",
   "execution_count": null,
   "metadata": {},
   "outputs": [],
   "source": []
  }
 ],
 "metadata": {
  "kernelspec": {
   "display_name": ".venv",
   "language": "python",
   "name": "python3"
  },
  "language_info": {
   "codemirror_mode": {
    "name": "ipython",
    "version": 3
   },
   "file_extension": ".py",
   "mimetype": "text/x-python",
   "name": "python",
   "nbconvert_exporter": "python",
   "pygments_lexer": "ipython3",
   "version": "3.9.6"
  },
  "orig_nbformat": 4
 },
 "nbformat": 4,
 "nbformat_minor": 2
}
