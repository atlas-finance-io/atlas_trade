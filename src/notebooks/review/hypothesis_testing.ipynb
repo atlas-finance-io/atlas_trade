{
 "cells": [
  {
   "cell_type": "markdown",
   "metadata": {},
   "source": [
    "# Hypothesis Testing"
   ]
  },
  {
   "cell_type": "markdown",
   "metadata": {},
   "source": [
    "Statistical inference, the practice of making predictions about a large group based on smaller samples, is traditionally broken into two segments.\n",
    "\n",
    "- Estimation\n",
    "- Hypothesis Testing\n",
    "\n"
   ]
  }
 ],
 "metadata": {
  "language_info": {
   "name": "python"
  }
 },
 "nbformat": 4,
 "nbformat_minor": 2
}
