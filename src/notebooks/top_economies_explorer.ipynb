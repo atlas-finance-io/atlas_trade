{
 "cells": [
  {
   "cell_type": "markdown",
   "metadata": {},
   "source": [
    "# Exploring the top Economies\n",
    "\n",
    "Exploring Fred and some stats on the top economies in the world"
   ]
  },
  {
   "cell_type": "code",
   "execution_count": 1,
   "metadata": {},
   "outputs": [],
   "source": [
    "\n",
    "import pandas as pd\n",
    "import numpy as np\n",
    "import requests\n",
    "\n",
    "\n",
    "import matplotlib.pyplot as plt\n",
    "plt.style.use('dark_background')\n",
    "\n",
    "url = \"https://api.stlouisfed.org/fred/series/observations\""
   ]
  },
  {
   "cell_type": "markdown",
   "metadata": {},
   "source": [
    "## GPD per capital for top 5 Economies"
   ]
  },
  {
   "cell_type": "code",
   "execution_count": 2,
   "metadata": {},
   "outputs": [
    {
     "data": {
      "text/html": [
       "<div>\n",
       "<style scoped>\n",
       "    .dataframe tbody tr th:only-of-type {\n",
       "        vertical-align: middle;\n",
       "    }\n",
       "\n",
       "    .dataframe tbody tr th {\n",
       "        vertical-align: top;\n",
       "    }\n",
       "\n",
       "    .dataframe thead th {\n",
       "        text-align: right;\n",
       "    }\n",
       "</style>\n",
       "<table border=\"1\" class=\"dataframe\">\n",
       "  <thead>\n",
       "    <tr style=\"text-align: right;\">\n",
       "      <th></th>\n",
       "      <th>date</th>\n",
       "      <th>us_value</th>\n",
       "    </tr>\n",
       "  </thead>\n",
       "  <tbody>\n",
       "    <tr>\n",
       "      <th>0</th>\n",
       "      <td>1960-01-01</td>\n",
       "      <td>3007.12344537862</td>\n",
       "    </tr>\n",
       "    <tr>\n",
       "      <th>1</th>\n",
       "      <td>1961-01-01</td>\n",
       "      <td>3066.56286916615</td>\n",
       "    </tr>\n",
       "    <tr>\n",
       "      <th>2</th>\n",
       "      <td>1962-01-01</td>\n",
       "      <td>3243.84307754988</td>\n",
       "    </tr>\n",
       "    <tr>\n",
       "      <th>3</th>\n",
       "      <td>1963-01-01</td>\n",
       "      <td>3374.51517105082</td>\n",
       "    </tr>\n",
       "    <tr>\n",
       "      <th>4</th>\n",
       "      <td>1964-01-01</td>\n",
       "      <td>3573.94118474743</td>\n",
       "    </tr>\n",
       "    <tr>\n",
       "      <th>...</th>\n",
       "      <td>...</td>\n",
       "      <td>...</td>\n",
       "    </tr>\n",
       "    <tr>\n",
       "      <th>58</th>\n",
       "      <td>2018-01-01</td>\n",
       "      <td>62823.309438197</td>\n",
       "    </tr>\n",
       "    <tr>\n",
       "      <th>59</th>\n",
       "      <td>2019-01-01</td>\n",
       "      <td>65120.3946628653</td>\n",
       "    </tr>\n",
       "    <tr>\n",
       "      <th>60</th>\n",
       "      <td>2020-01-01</td>\n",
       "      <td>63528.6343027508</td>\n",
       "    </tr>\n",
       "    <tr>\n",
       "      <th>61</th>\n",
       "      <td>2021-01-01</td>\n",
       "      <td>70219.472454115</td>\n",
       "    </tr>\n",
       "    <tr>\n",
       "      <th>62</th>\n",
       "      <td>2022-01-01</td>\n",
       "      <td>76329.5822652029</td>\n",
       "    </tr>\n",
       "  </tbody>\n",
       "</table>\n",
       "<p>63 rows × 2 columns</p>\n",
       "</div>"
      ],
      "text/plain": [
       "         date          us_value\n",
       "0  1960-01-01  3007.12344537862\n",
       "1  1961-01-01  3066.56286916615\n",
       "2  1962-01-01  3243.84307754988\n",
       "3  1963-01-01  3374.51517105082\n",
       "4  1964-01-01  3573.94118474743\n",
       "..        ...               ...\n",
       "58 2018-01-01   62823.309438197\n",
       "59 2019-01-01  65120.3946628653\n",
       "60 2020-01-01  63528.6343027508\n",
       "61 2021-01-01   70219.472454115\n",
       "62 2022-01-01  76329.5822652029\n",
       "\n",
       "[63 rows x 2 columns]"
      ]
     },
     "execution_count": 2,
     "metadata": {},
     "output_type": "execute_result"
    }
   ],
   "source": [
    "\n",
    "# United States GDP per Capita\n",
    "us_params = {\n",
    "    'series_id': 'PCAGDPUSA646NWDB',\n",
    "    'api_key': '976a964605bdb8bed09739ba9b4d8511',\n",
    "    'file_type': 'json'\n",
    "}\n",
    "\n",
    "# Make the GET request for DFF\n",
    "us_response = requests.get(url, params=us_params)\n",
    "us_json = us_response.json()\n",
    "us_observations = us_json['observations']\n",
    "us_df = pd.DataFrame(us_observations, columns=['date', 'value'])\n",
    "# Rename the columns\n",
    "us_df = us_df.rename(columns={'value': 'us_value'})\n",
    "us_df['date'] = pd.to_datetime(us_df['date'])\n",
    "\n",
    "us_df"
   ]
  },
  {
   "cell_type": "code",
   "execution_count": 3,
   "metadata": {},
   "outputs": [
    {
     "data": {
      "text/html": [
       "<div>\n",
       "<style scoped>\n",
       "    .dataframe tbody tr th:only-of-type {\n",
       "        vertical-align: middle;\n",
       "    }\n",
       "\n",
       "    .dataframe tbody tr th {\n",
       "        vertical-align: top;\n",
       "    }\n",
       "\n",
       "    .dataframe thead th {\n",
       "        text-align: right;\n",
       "    }\n",
       "</style>\n",
       "<table border=\"1\" class=\"dataframe\">\n",
       "  <thead>\n",
       "    <tr style=\"text-align: right;\">\n",
       "      <th></th>\n",
       "      <th>date</th>\n",
       "      <th>china_value</th>\n",
       "    </tr>\n",
       "  </thead>\n",
       "  <tbody>\n",
       "    <tr>\n",
       "      <th>0</th>\n",
       "      <td>1960-01-01</td>\n",
       "      <td>89.5202142368479</td>\n",
       "    </tr>\n",
       "    <tr>\n",
       "      <th>1</th>\n",
       "      <td>1961-01-01</td>\n",
       "      <td>75.8055607913604</td>\n",
       "    </tr>\n",
       "    <tr>\n",
       "      <th>2</th>\n",
       "      <td>1962-01-01</td>\n",
       "      <td>70.9091524330558</td>\n",
       "    </tr>\n",
       "    <tr>\n",
       "      <th>3</th>\n",
       "      <td>1963-01-01</td>\n",
       "      <td>74.3133717692149</td>\n",
       "    </tr>\n",
       "    <tr>\n",
       "      <th>4</th>\n",
       "      <td>1964-01-01</td>\n",
       "      <td>85.4982425898924</td>\n",
       "    </tr>\n",
       "    <tr>\n",
       "      <th>...</th>\n",
       "      <td>...</td>\n",
       "      <td>...</td>\n",
       "    </tr>\n",
       "    <tr>\n",
       "      <th>58</th>\n",
       "      <td>2018-01-01</td>\n",
       "      <td>9905.40638307759</td>\n",
       "    </tr>\n",
       "    <tr>\n",
       "      <th>59</th>\n",
       "      <td>2019-01-01</td>\n",
       "      <td>10143.8602205959</td>\n",
       "    </tr>\n",
       "    <tr>\n",
       "      <th>60</th>\n",
       "      <td>2020-01-01</td>\n",
       "      <td>10408.7195541075</td>\n",
       "    </tr>\n",
       "    <tr>\n",
       "      <th>61</th>\n",
       "      <td>2021-01-01</td>\n",
       "      <td>12617.5051041181</td>\n",
       "    </tr>\n",
       "    <tr>\n",
       "      <th>62</th>\n",
       "      <td>2022-01-01</td>\n",
       "      <td>12720.2163182363</td>\n",
       "    </tr>\n",
       "  </tbody>\n",
       "</table>\n",
       "<p>63 rows × 2 columns</p>\n",
       "</div>"
      ],
      "text/plain": [
       "         date       china_value\n",
       "0  1960-01-01  89.5202142368479\n",
       "1  1961-01-01  75.8055607913604\n",
       "2  1962-01-01  70.9091524330558\n",
       "3  1963-01-01  74.3133717692149\n",
       "4  1964-01-01  85.4982425898924\n",
       "..        ...               ...\n",
       "58 2018-01-01  9905.40638307759\n",
       "59 2019-01-01  10143.8602205959\n",
       "60 2020-01-01  10408.7195541075\n",
       "61 2021-01-01  12617.5051041181\n",
       "62 2022-01-01  12720.2163182363\n",
       "\n",
       "[63 rows x 2 columns]"
      ]
     },
     "execution_count": 3,
     "metadata": {},
     "output_type": "execute_result"
    }
   ],
   "source": [
    "china_params = {\n",
    "    'series_id': 'PCAGDPCNA646NWDB',\n",
    "    'api_key': '976a964605bdb8bed09739ba9b4d8511',\n",
    "    'file_type': 'json'\n",
    "}\n",
    "\n",
    "china_response = requests.get(url, params=china_params)\n",
    "china_json = china_response.json()\n",
    "china_observations = china_json['observations']\n",
    "china_df = pd.DataFrame(china_observations, columns=['date', 'value'])\n",
    "# Rename the columns\n",
    "china_df = china_df.rename(columns={'value': 'china_value'})\n",
    "\n",
    "china_df['date'] = pd.to_datetime(us_df['date'])\n",
    "\n",
    "china_df"
   ]
  },
  {
   "cell_type": "code",
   "execution_count": 4,
   "metadata": {},
   "outputs": [
    {
     "data": {
      "text/html": [
       "<div>\n",
       "<style scoped>\n",
       "    .dataframe tbody tr th:only-of-type {\n",
       "        vertical-align: middle;\n",
       "    }\n",
       "\n",
       "    .dataframe tbody tr th {\n",
       "        vertical-align: top;\n",
       "    }\n",
       "\n",
       "    .dataframe thead th {\n",
       "        text-align: right;\n",
       "    }\n",
       "</style>\n",
       "<table border=\"1\" class=\"dataframe\">\n",
       "  <thead>\n",
       "    <tr style=\"text-align: right;\">\n",
       "      <th></th>\n",
       "      <th>date</th>\n",
       "      <th>japan_value</th>\n",
       "    </tr>\n",
       "  </thead>\n",
       "  <tbody>\n",
       "    <tr>\n",
       "      <th>0</th>\n",
       "      <td>1960-01-01</td>\n",
       "      <td>475.319075592173</td>\n",
       "    </tr>\n",
       "    <tr>\n",
       "      <th>1</th>\n",
       "      <td>1961-01-01</td>\n",
       "      <td>568.907742697122</td>\n",
       "    </tr>\n",
       "    <tr>\n",
       "      <th>2</th>\n",
       "      <td>1962-01-01</td>\n",
       "      <td>639.640785435342</td>\n",
       "    </tr>\n",
       "    <tr>\n",
       "      <th>3</th>\n",
       "      <td>1963-01-01</td>\n",
       "      <td>724.693762224539</td>\n",
       "    </tr>\n",
       "    <tr>\n",
       "      <th>4</th>\n",
       "      <td>1964-01-01</td>\n",
       "      <td>843.616878543607</td>\n",
       "    </tr>\n",
       "    <tr>\n",
       "      <th>...</th>\n",
       "      <td>...</td>\n",
       "      <td>...</td>\n",
       "    </tr>\n",
       "    <tr>\n",
       "      <th>58</th>\n",
       "      <td>2018-01-01</td>\n",
       "      <td>39751.1330982711</td>\n",
       "    </tr>\n",
       "    <tr>\n",
       "      <th>59</th>\n",
       "      <td>2019-01-01</td>\n",
       "      <td>40415.9567649547</td>\n",
       "    </tr>\n",
       "    <tr>\n",
       "      <th>60</th>\n",
       "      <td>2020-01-01</td>\n",
       "      <td>39986.9286287091</td>\n",
       "    </tr>\n",
       "    <tr>\n",
       "      <th>61</th>\n",
       "      <td>2021-01-01</td>\n",
       "      <td>39827.1267678179</td>\n",
       "    </tr>\n",
       "    <tr>\n",
       "      <th>62</th>\n",
       "      <td>2022-01-01</td>\n",
       "      <td>33823.5707344332</td>\n",
       "    </tr>\n",
       "  </tbody>\n",
       "</table>\n",
       "<p>63 rows × 2 columns</p>\n",
       "</div>"
      ],
      "text/plain": [
       "         date       japan_value\n",
       "0  1960-01-01  475.319075592173\n",
       "1  1961-01-01  568.907742697122\n",
       "2  1962-01-01  639.640785435342\n",
       "3  1963-01-01  724.693762224539\n",
       "4  1964-01-01  843.616878543607\n",
       "..        ...               ...\n",
       "58 2018-01-01  39751.1330982711\n",
       "59 2019-01-01  40415.9567649547\n",
       "60 2020-01-01  39986.9286287091\n",
       "61 2021-01-01  39827.1267678179\n",
       "62 2022-01-01  33823.5707344332\n",
       "\n",
       "[63 rows x 2 columns]"
      ]
     },
     "execution_count": 4,
     "metadata": {},
     "output_type": "execute_result"
    }
   ],
   "source": [
    "japan_params = {\n",
    "    'series_id': 'PCAGDPJPA646NWDB',\n",
    "    'api_key': '976a964605bdb8bed09739ba9b4d8511',\n",
    "    'file_type': 'json'\n",
    "}\n",
    "\n",
    "japan_response = requests.get(url, params=japan_params)\n",
    "japan_json = japan_response.json()\n",
    "japan_observations = japan_json['observations']\n",
    "japan_df = pd.DataFrame(japan_observations, columns=['date', 'value'])\n",
    "# Rename the columns\n",
    "japan_df = japan_df.rename(columns={'value': 'japan_value'})\n",
    "\n",
    "japan_df['date'] = pd.to_datetime(japan_df['date'])\n",
    "\n",
    "japan_df"
   ]
  },
  {
   "cell_type": "code",
   "execution_count": 5,
   "metadata": {},
   "outputs": [
    {
     "data": {
      "text/html": [
       "<div>\n",
       "<style scoped>\n",
       "    .dataframe tbody tr th:only-of-type {\n",
       "        vertical-align: middle;\n",
       "    }\n",
       "\n",
       "    .dataframe tbody tr th {\n",
       "        vertical-align: top;\n",
       "    }\n",
       "\n",
       "    .dataframe thead th {\n",
       "        text-align: right;\n",
       "    }\n",
       "</style>\n",
       "<table border=\"1\" class=\"dataframe\">\n",
       "  <thead>\n",
       "    <tr style=\"text-align: right;\">\n",
       "      <th></th>\n",
       "      <th>date</th>\n",
       "      <th>germany_value</th>\n",
       "    </tr>\n",
       "  </thead>\n",
       "  <tbody>\n",
       "    <tr>\n",
       "      <th>0</th>\n",
       "      <td>1970-01-01</td>\n",
       "      <td>2761.16683289339</td>\n",
       "    </tr>\n",
       "    <tr>\n",
       "      <th>1</th>\n",
       "      <td>1971-01-01</td>\n",
       "      <td>3192.13361563743</td>\n",
       "    </tr>\n",
       "    <tr>\n",
       "      <th>2</th>\n",
       "      <td>1972-01-01</td>\n",
       "      <td>3809.98144489456</td>\n",
       "    </tr>\n",
       "    <tr>\n",
       "      <th>3</th>\n",
       "      <td>1973-01-01</td>\n",
       "      <td>5046.75510305815</td>\n",
       "    </tr>\n",
       "    <tr>\n",
       "      <th>4</th>\n",
       "      <td>1974-01-01</td>\n",
       "      <td>5639.07762129679</td>\n",
       "    </tr>\n",
       "    <tr>\n",
       "      <th>5</th>\n",
       "      <td>1975-01-01</td>\n",
       "      <td>6236.3588812986</td>\n",
       "    </tr>\n",
       "    <tr>\n",
       "      <th>6</th>\n",
       "      <td>1976-01-01</td>\n",
       "      <td>6634.85689909309</td>\n",
       "    </tr>\n",
       "    <tr>\n",
       "      <th>7</th>\n",
       "      <td>1977-01-01</td>\n",
       "      <td>7682.95377492882</td>\n",
       "    </tr>\n",
       "    <tr>\n",
       "      <th>8</th>\n",
       "      <td>1978-01-01</td>\n",
       "      <td>9482.04284964716</td>\n",
       "    </tr>\n",
       "    <tr>\n",
       "      <th>9</th>\n",
       "      <td>1979-01-01</td>\n",
       "      <td>11281.0233245081</td>\n",
       "    </tr>\n",
       "    <tr>\n",
       "      <th>10</th>\n",
       "      <td>1980-01-01</td>\n",
       "      <td>12138.3081034267</td>\n",
       "    </tr>\n",
       "    <tr>\n",
       "      <th>11</th>\n",
       "      <td>1981-01-01</td>\n",
       "      <td>10209.0731153846</td>\n",
       "    </tr>\n",
       "    <tr>\n",
       "      <th>12</th>\n",
       "      <td>1982-01-01</td>\n",
       "      <td>9913.73764159395</td>\n",
       "    </tr>\n",
       "    <tr>\n",
       "      <th>13</th>\n",
       "      <td>1983-01-01</td>\n",
       "      <td>9864.3449403866</td>\n",
       "    </tr>\n",
       "    <tr>\n",
       "      <th>14</th>\n",
       "      <td>1984-01-01</td>\n",
       "      <td>9313.16941243118</td>\n",
       "    </tr>\n",
       "    <tr>\n",
       "      <th>15</th>\n",
       "      <td>1985-01-01</td>\n",
       "      <td>9429.56921688214</td>\n",
       "    </tr>\n",
       "    <tr>\n",
       "      <th>16</th>\n",
       "      <td>1986-01-01</td>\n",
       "      <td>13461.8310034147</td>\n",
       "    </tr>\n",
       "    <tr>\n",
       "      <th>17</th>\n",
       "      <td>1987-01-01</td>\n",
       "      <td>16677.51078816</td>\n",
       "    </tr>\n",
       "    <tr>\n",
       "      <th>18</th>\n",
       "      <td>1988-01-01</td>\n",
       "      <td>17931.2823228876</td>\n",
       "    </tr>\n",
       "    <tr>\n",
       "      <th>19</th>\n",
       "      <td>1989-01-01</td>\n",
       "      <td>17764.376445833</td>\n",
       "    </tr>\n",
       "    <tr>\n",
       "      <th>20</th>\n",
       "      <td>1990-01-01</td>\n",
       "      <td>22303.9613266628</td>\n",
       "    </tr>\n",
       "    <tr>\n",
       "      <th>21</th>\n",
       "      <td>1991-01-01</td>\n",
       "      <td>23357.757725073</td>\n",
       "    </tr>\n",
       "    <tr>\n",
       "      <th>22</th>\n",
       "      <td>1992-01-01</td>\n",
       "      <td>26438.2303888417</td>\n",
       "    </tr>\n",
       "    <tr>\n",
       "      <th>23</th>\n",
       "      <td>1993-01-01</td>\n",
       "      <td>25522.6295733618</td>\n",
       "    </tr>\n",
       "    <tr>\n",
       "      <th>24</th>\n",
       "      <td>1994-01-01</td>\n",
       "      <td>27076.60675014</td>\n",
       "    </tr>\n",
       "    <tr>\n",
       "      <th>25</th>\n",
       "      <td>1995-01-01</td>\n",
       "      <td>31658.3493789135</td>\n",
       "    </tr>\n",
       "    <tr>\n",
       "      <th>26</th>\n",
       "      <td>1996-01-01</td>\n",
       "      <td>30485.8665482279</td>\n",
       "    </tr>\n",
       "    <tr>\n",
       "      <th>27</th>\n",
       "      <td>1997-01-01</td>\n",
       "      <td>26964.0494672673</td>\n",
       "    </tr>\n",
       "    <tr>\n",
       "      <th>28</th>\n",
       "      <td>1998-01-01</td>\n",
       "      <td>27289.0593603191</td>\n",
       "    </tr>\n",
       "    <tr>\n",
       "      <th>29</th>\n",
       "      <td>1999-01-01</td>\n",
       "      <td>26734.9425369252</td>\n",
       "    </tr>\n",
       "    <tr>\n",
       "      <th>30</th>\n",
       "      <td>2000-01-01</td>\n",
       "      <td>23694.7604830673</td>\n",
       "    </tr>\n",
       "    <tr>\n",
       "      <th>31</th>\n",
       "      <td>2001-01-01</td>\n",
       "      <td>23628.3272122367</td>\n",
       "    </tr>\n",
       "    <tr>\n",
       "      <th>32</th>\n",
       "      <td>2002-01-01</td>\n",
       "      <td>25197.2656001848</td>\n",
       "    </tr>\n",
       "    <tr>\n",
       "      <th>33</th>\n",
       "      <td>2003-01-01</td>\n",
       "      <td>30310.3575963774</td>\n",
       "    </tr>\n",
       "    <tr>\n",
       "      <th>34</th>\n",
       "      <td>2004-01-01</td>\n",
       "      <td>34106.6581224001</td>\n",
       "    </tr>\n",
       "    <tr>\n",
       "      <th>35</th>\n",
       "      <td>2005-01-01</td>\n",
       "      <td>34520.2396492496</td>\n",
       "    </tr>\n",
       "    <tr>\n",
       "      <th>36</th>\n",
       "      <td>2006-01-01</td>\n",
       "      <td>36353.8803343631</td>\n",
       "    </tr>\n",
       "    <tr>\n",
       "      <th>37</th>\n",
       "      <td>2007-01-01</td>\n",
       "      <td>41640.0808695147</td>\n",
       "    </tr>\n",
       "    <tr>\n",
       "      <th>38</th>\n",
       "      <td>2008-01-01</td>\n",
       "      <td>45612.7106221441</td>\n",
       "    </tr>\n",
       "    <tr>\n",
       "      <th>39</th>\n",
       "      <td>2009-01-01</td>\n",
       "      <td>41650.3678297162</td>\n",
       "    </tr>\n",
       "    <tr>\n",
       "      <th>40</th>\n",
       "      <td>2010-01-01</td>\n",
       "      <td>41572.4559481507</td>\n",
       "    </tr>\n",
       "    <tr>\n",
       "      <th>41</th>\n",
       "      <td>2011-01-01</td>\n",
       "      <td>46705.8957963353</td>\n",
       "    </tr>\n",
       "    <tr>\n",
       "      <th>42</th>\n",
       "      <td>2012-01-01</td>\n",
       "      <td>43855.8544658618</td>\n",
       "    </tr>\n",
       "    <tr>\n",
       "      <th>43</th>\n",
       "      <td>2013-01-01</td>\n",
       "      <td>46298.9229177341</td>\n",
       "    </tr>\n",
       "    <tr>\n",
       "      <th>44</th>\n",
       "      <td>2014-01-01</td>\n",
       "      <td>48023.8699845462</td>\n",
       "    </tr>\n",
       "    <tr>\n",
       "      <th>45</th>\n",
       "      <td>2015-01-01</td>\n",
       "      <td>41103.2564363768</td>\n",
       "    </tr>\n",
       "    <tr>\n",
       "      <th>46</th>\n",
       "      <td>2016-01-01</td>\n",
       "      <td>42136.1207907991</td>\n",
       "    </tr>\n",
       "    <tr>\n",
       "      <th>47</th>\n",
       "      <td>2017-01-01</td>\n",
       "      <td>44652.5891722719</td>\n",
       "    </tr>\n",
       "    <tr>\n",
       "      <th>48</th>\n",
       "      <td>2018-01-01</td>\n",
       "      <td>47939.2782884504</td>\n",
       "    </tr>\n",
       "    <tr>\n",
       "      <th>49</th>\n",
       "      <td>2019-01-01</td>\n",
       "      <td>46805.1384334439</td>\n",
       "    </tr>\n",
       "    <tr>\n",
       "      <th>50</th>\n",
       "      <td>2020-01-01</td>\n",
       "      <td>46749.4762280016</td>\n",
       "    </tr>\n",
       "    <tr>\n",
       "      <th>51</th>\n",
       "      <td>2021-01-01</td>\n",
       "      <td>51426.7503654421</td>\n",
       "    </tr>\n",
       "    <tr>\n",
       "      <th>52</th>\n",
       "      <td>2022-01-01</td>\n",
       "      <td>48717.9911402128</td>\n",
       "    </tr>\n",
       "  </tbody>\n",
       "</table>\n",
       "</div>"
      ],
      "text/plain": [
       "         date     germany_value\n",
       "0  1970-01-01  2761.16683289339\n",
       "1  1971-01-01  3192.13361563743\n",
       "2  1972-01-01  3809.98144489456\n",
       "3  1973-01-01  5046.75510305815\n",
       "4  1974-01-01  5639.07762129679\n",
       "5  1975-01-01   6236.3588812986\n",
       "6  1976-01-01  6634.85689909309\n",
       "7  1977-01-01  7682.95377492882\n",
       "8  1978-01-01  9482.04284964716\n",
       "9  1979-01-01  11281.0233245081\n",
       "10 1980-01-01  12138.3081034267\n",
       "11 1981-01-01  10209.0731153846\n",
       "12 1982-01-01  9913.73764159395\n",
       "13 1983-01-01   9864.3449403866\n",
       "14 1984-01-01  9313.16941243118\n",
       "15 1985-01-01  9429.56921688214\n",
       "16 1986-01-01  13461.8310034147\n",
       "17 1987-01-01    16677.51078816\n",
       "18 1988-01-01  17931.2823228876\n",
       "19 1989-01-01   17764.376445833\n",
       "20 1990-01-01  22303.9613266628\n",
       "21 1991-01-01   23357.757725073\n",
       "22 1992-01-01  26438.2303888417\n",
       "23 1993-01-01  25522.6295733618\n",
       "24 1994-01-01    27076.60675014\n",
       "25 1995-01-01  31658.3493789135\n",
       "26 1996-01-01  30485.8665482279\n",
       "27 1997-01-01  26964.0494672673\n",
       "28 1998-01-01  27289.0593603191\n",
       "29 1999-01-01  26734.9425369252\n",
       "30 2000-01-01  23694.7604830673\n",
       "31 2001-01-01  23628.3272122367\n",
       "32 2002-01-01  25197.2656001848\n",
       "33 2003-01-01  30310.3575963774\n",
       "34 2004-01-01  34106.6581224001\n",
       "35 2005-01-01  34520.2396492496\n",
       "36 2006-01-01  36353.8803343631\n",
       "37 2007-01-01  41640.0808695147\n",
       "38 2008-01-01  45612.7106221441\n",
       "39 2009-01-01  41650.3678297162\n",
       "40 2010-01-01  41572.4559481507\n",
       "41 2011-01-01  46705.8957963353\n",
       "42 2012-01-01  43855.8544658618\n",
       "43 2013-01-01  46298.9229177341\n",
       "44 2014-01-01  48023.8699845462\n",
       "45 2015-01-01  41103.2564363768\n",
       "46 2016-01-01  42136.1207907991\n",
       "47 2017-01-01  44652.5891722719\n",
       "48 2018-01-01  47939.2782884504\n",
       "49 2019-01-01  46805.1384334439\n",
       "50 2020-01-01  46749.4762280016\n",
       "51 2021-01-01  51426.7503654421\n",
       "52 2022-01-01  48717.9911402128"
      ]
     },
     "execution_count": 5,
     "metadata": {},
     "output_type": "execute_result"
    }
   ],
   "source": [
    "\n",
    "germany_params = {\n",
    "    'series_id': 'PCAGDPDEA646NWDB',\n",
    "    'api_key': '976a964605bdb8bed09739ba9b4d8511',\n",
    "    'file_type': 'json'\n",
    "}\n",
    "\n",
    "germany_response = requests.get(url, params=germany_params)\n",
    "germany_json = germany_response.json()\n",
    "germany_observations = germany_json['observations']\n",
    "germany_df = pd.DataFrame(germany_observations, columns=['date', 'value'])\n",
    "# Rename the columns\n",
    "germany_df = germany_df.rename(columns={'value': 'germany_value'})\n",
    "\n",
    "germany_df['date'] = pd.to_datetime(germany_df['date'])\n",
    "\n",
    "germany_df"
   ]
  },
  {
   "cell_type": "code",
   "execution_count": 6,
   "metadata": {},
   "outputs": [
    {
     "data": {
      "text/html": [
       "<div>\n",
       "<style scoped>\n",
       "    .dataframe tbody tr th:only-of-type {\n",
       "        vertical-align: middle;\n",
       "    }\n",
       "\n",
       "    .dataframe tbody tr th {\n",
       "        vertical-align: top;\n",
       "    }\n",
       "\n",
       "    .dataframe thead th {\n",
       "        text-align: right;\n",
       "    }\n",
       "</style>\n",
       "<table border=\"1\" class=\"dataframe\">\n",
       "  <thead>\n",
       "    <tr style=\"text-align: right;\">\n",
       "      <th></th>\n",
       "      <th>date</th>\n",
       "      <th>india_value</th>\n",
       "    </tr>\n",
       "  </thead>\n",
       "  <tbody>\n",
       "    <tr>\n",
       "      <th>0</th>\n",
       "      <td>1960-01-01</td>\n",
       "      <td>83.0351018240893</td>\n",
       "    </tr>\n",
       "    <tr>\n",
       "      <th>1</th>\n",
       "      <td>1961-01-01</td>\n",
       "      <td>85.9697041851008</td>\n",
       "    </tr>\n",
       "    <tr>\n",
       "      <th>2</th>\n",
       "      <td>1962-01-01</td>\n",
       "      <td>90.2768689288905</td>\n",
       "    </tr>\n",
       "    <tr>\n",
       "      <th>3</th>\n",
       "      <td>1963-01-01</td>\n",
       "      <td>101.31516498136</td>\n",
       "    </tr>\n",
       "    <tr>\n",
       "      <th>4</th>\n",
       "      <td>1964-01-01</td>\n",
       "      <td>115.487608356699</td>\n",
       "    </tr>\n",
       "    <tr>\n",
       "      <th>...</th>\n",
       "      <td>...</td>\n",
       "      <td>...</td>\n",
       "    </tr>\n",
       "    <tr>\n",
       "      <th>58</th>\n",
       "      <td>2018-01-01</td>\n",
       "      <td>1974.3777314935</td>\n",
       "    </tr>\n",
       "    <tr>\n",
       "      <th>59</th>\n",
       "      <td>2019-01-01</td>\n",
       "      <td>2050.1638002619</td>\n",
       "    </tr>\n",
       "    <tr>\n",
       "      <th>60</th>\n",
       "      <td>2020-01-01</td>\n",
       "      <td>1913.21973278751</td>\n",
       "    </tr>\n",
       "    <tr>\n",
       "      <th>61</th>\n",
       "      <td>2021-01-01</td>\n",
       "      <td>2238.12714218765</td>\n",
       "    </tr>\n",
       "    <tr>\n",
       "      <th>62</th>\n",
       "      <td>2022-01-01</td>\n",
       "      <td>2410.88802070689</td>\n",
       "    </tr>\n",
       "  </tbody>\n",
       "</table>\n",
       "<p>63 rows × 2 columns</p>\n",
       "</div>"
      ],
      "text/plain": [
       "         date       india_value\n",
       "0  1960-01-01  83.0351018240893\n",
       "1  1961-01-01  85.9697041851008\n",
       "2  1962-01-01  90.2768689288905\n",
       "3  1963-01-01   101.31516498136\n",
       "4  1964-01-01  115.487608356699\n",
       "..        ...               ...\n",
       "58 2018-01-01   1974.3777314935\n",
       "59 2019-01-01   2050.1638002619\n",
       "60 2020-01-01  1913.21973278751\n",
       "61 2021-01-01  2238.12714218765\n",
       "62 2022-01-01  2410.88802070689\n",
       "\n",
       "[63 rows x 2 columns]"
      ]
     },
     "execution_count": 6,
     "metadata": {},
     "output_type": "execute_result"
    }
   ],
   "source": [
    "india_params = {\n",
    "    'series_id': 'PCAGDPINA646NWDB',  # Example series_id for India's GDP\n",
    "    'api_key': '976a964605bdb8bed09739ba9b4d8511',\n",
    "    'file_type': 'json'\n",
    "}\n",
    "\n",
    "india_response = requests.get(url, params=india_params)\n",
    "india_json = india_response.json()\n",
    "india_observations = india_json['observations']\n",
    "india_df = pd.DataFrame(india_observations, columns=['date', 'value'])\n",
    "# Rename the columns\n",
    "india_df = india_df.rename(columns={'value': 'india_value'})\n",
    "\n",
    "india_df['date'] = pd.to_datetime(india_df['date'])\n",
    "\n",
    "india_df"
   ]
  },
  {
   "cell_type": "markdown",
   "metadata": {},
   "source": [
    "## Merge Dataframes together"
   ]
  },
  {
   "cell_type": "code",
   "execution_count": 7,
   "metadata": {},
   "outputs": [],
   "source": [
    "# Merge the DataFrames one by one\n",
    "merged_df = pd.merge(us_df, china_df, on='date', how='outer')\n",
    "merged_df = pd.merge(merged_df, japan_df, on='date', how='outer')\n",
    "merged_df = pd.merge(merged_df, germany_df, on='date', how='outer')\n",
    "merged_df = pd.merge(merged_df, india_df, on='date', how='outer')\n",
    "\n",
    "# Save the merged DataFrame to a CSV file\n",
    "merged_df = merged_df.dropna()\n",
    "merged_df.to_csv(\"merged.csv\", index=False)\n"
   ]
  },
  {
   "cell_type": "markdown",
   "metadata": {},
   "source": [
    "## Plot GDP per capita for all countries in one graph"
   ]
  },
  {
   "cell_type": "code",
   "execution_count": 8,
   "metadata": {},
   "outputs": [
    {
     "data": {
      "text/plain": [
       "<Figure size 1200x800 with 0 Axes>"
      ]
     },
     "metadata": {},
     "output_type": "display_data"
    },
    {
     "data": {
      "image/png": "[encoded data removed]",
      "text/plain": [
       "<Figure size 1200x800 with 1 Axes>"
      ]
     },
     "metadata": {},
     "output_type": "display_data"
    }
   ],
   "source": [
    "# merged_df['date'] = pd.to_datetime(merged_df['date'])\n",
    "merged_df.set_index('date', inplace=True)\n",
    "\n",
    "# Assuming 'date' is the common column, and other columns are named accordingly\n",
    "# Adjust column names based on your actual DataFrame\n",
    "plt.figure(figsize=(12, 8))\n",
    "\n",
    "# Plotting data for each country\n",
    "plt.figure(figsize=(12, 8))\n",
    "plt.plot(merged_df.index, merged_df['us_value'], label='US')\n",
    "# plt.plot(merged_df.index, merged_df['china_value'], label='China')\n",
    "# plt.plot(merged_df.index, merged_df['japan_value'], label='Japan')\n",
    "# plt.plot(merged_df.index, merged_df['germany_value'], label='Germany')\n",
    "# plt.plot(merged_df.index, merged_df['india_value'], label='India')\n",
    "\n",
    "# plt.yscale('log')\n",
    "\n",
    "\n",
    "# Adding labels and title\n",
    "plt.xlabel('Date')\n",
    "plt.ylabel('Value')\n",
    "plt.title('Values Over Time')\n",
    "plt.legend()\n",
    "plt.show()"
   ]
  },
  {
   "cell_type": "code",
   "execution_count": 10,
   "metadata": {},
   "outputs": [
    {
     "data": {
      "application/vnd.plotly.v1+json": {
       "config": {
        "plotlyServerURL": "https://plot.ly"
       },
       "data": [
        {
         "hovertemplate": "<extra></extra>",
         "legendgroup": "",
         "line": {
          "color": "#636efa",
          "dash": "solid"
         },
         "marker": {
          "symbol": "circle"
         },
         "mode": "lines",
         "name": "",
         "orientation": "v",
         "showlegend": false,
         "type": "scatter",
         "xaxis": "x",
         "yaxis": "y"
        },
        {
         "mode": "lines",
         "name": "us_value",
         "showlegend": false,
         "type": "scatter",
         "x": [
          "1970-01-01T00:00:00",
          "1971-01-01T00:00:00",
          "1972-01-01T00:00:00",
          "1973-01-01T00:00:00",
          "1974-01-01T00:00:00",
          "1975-01-01T00:00:00",
          "1976-01-01T00:00:00",
          "1977-01-01T00:00:00",
          "1978-01-01T00:00:00",
          "1979-01-01T00:00:00",
          "1980-01-01T00:00:00",
          "1981-01-01T00:00:00",
          "1982-01-01T00:00:00",
          "1983-01-01T00:00:00",
          "1984-01-01T00:00:00",
          "1985-01-01T00:00:00",
          "1986-01-01T00:00:00",
          "1987-01-01T00:00:00",
          "1988-01-01T00:00:00",
          "1989-01-01T00:00:00",
          "1990-01-01T00:00:00",
          "1991-01-01T00:00:00",
          "1992-01-01T00:00:00",
          "1993-01-01T00:00:00",
          "1994-01-01T00:00:00",
          "1995-01-01T00:00:00",
          "1996-01-01T00:00:00",
          "1997-01-01T00:00:00",
          "1998-01-01T00:00:00",
          "1999-01-01T00:00:00",
          "2000-01-01T00:00:00",
          "2001-01-01T00:00:00",
          "2002-01-01T00:00:00",
          "2003-01-01T00:00:00",
          "2004-01-01T00:00:00",
          "2005-01-01T00:00:00",
          "2006-01-01T00:00:00",
          "2007-01-01T00:00:00",
          "2008-01-01T00:00:00",
          "2009-01-01T00:00:00",
          "2010-01-01T00:00:00",
          "2011-01-01T00:00:00",
          "2012-01-01T00:00:00",
          "2013-01-01T00:00:00",
          "2014-01-01T00:00:00",
          "2015-01-01T00:00:00",
          "2016-01-01T00:00:00",
          "2017-01-01T00:00:00",
          "2018-01-01T00:00:00",
          "2019-01-01T00:00:00",
          "2020-01-01T00:00:00",
          "2021-01-01T00:00:00",
          "2022-01-01T00:00:00"
         ],
         "y": [
          "5234.2966662115",
          "5609.38259952519",
          "6094.01798986165",
          "6726.35895596695",
          "7225.69135952566",
          "7801.45666356443",
          "8592.25353727612",
          "9452.57651914511",
          "10564.9482220275",
          "11674.1818666548",
          "12574.7915062163",
          "13976.10539252",
          "14433.787727053",
          "15543.8937174925",
          "17121.2254849995",
          "18236.8277265009",
          "19071.2271949295",
          "20038.9410992658",
          "21417.0119305191",
          "22857.1544330056",
          "23888.6000088133",
          "24342.2589048189",
          "25418.9907763319",
          "26387.2937338171",
          "27694.853416234",
          "28690.8757013347",
          "29967.7127181749",
          "31459.1389804773",
          "32853.6769523009",
          "34515.3902272076",
          "36329.9560727102",
          "37133.623113437",
          "37997.7596573051",
          "39490.2749557007",
          "41724.6316287624",
          "44123.4070679055",
          "46302.0008800056",
          "48050.2237771135",
          "48570.0459804586",
          "47194.9433547336",
          "48650.6431283336",
          "50065.9665041742",
          "51784.4185738837",
          "53291.1276891406",
          "55123.8497869046",
          "56762.7294515989",
          "57866.7449341091",
          "59907.754260885",
          "62823.309438197",
          "65120.3946628653",
          "63528.6343027508",
          "70219.472454115",
          "76329.5822652029"
         ]
        },
        {
         "mode": "lines",
         "name": "china_value",
         "showlegend": false,
         "type": "scatter",
         "x": [
          "1970-01-01T00:00:00",
          "1971-01-01T00:00:00",
          "1972-01-01T00:00:00",
          "1973-01-01T00:00:00",
          "1974-01-01T00:00:00",
          "1975-01-01T00:00:00",
          "1976-01-01T00:00:00",
          "1977-01-01T00:00:00",
          "1978-01-01T00:00:00",
          "1979-01-01T00:00:00",
          "1980-01-01T00:00:00",
          "1981-01-01T00:00:00",
          "1982-01-01T00:00:00",
          "1983-01-01T00:00:00",
          "1984-01-01T00:00:00",
          "1985-01-01T00:00:00",
          "1986-01-01T00:00:00",
          "1987-01-01T00:00:00",
          "1988-01-01T00:00:00",
          "1989-01-01T00:00:00",
          "1990-01-01T00:00:00",
          "1991-01-01T00:00:00",
          "1992-01-01T00:00:00",
          "1993-01-01T00:00:00",
          "1994-01-01T00:00:00",
          "1995-01-01T00:00:00",
          "1996-01-01T00:00:00",
          "1997-01-01T00:00:00",
          "1998-01-01T00:00:00",
          "1999-01-01T00:00:00",
          "2000-01-01T00:00:00",
          "2001-01-01T00:00:00",
          "2002-01-01T00:00:00",
          "2003-01-01T00:00:00",
          "2004-01-01T00:00:00",
          "2005-01-01T00:00:00",
          "2006-01-01T00:00:00",
          "2007-01-01T00:00:00",
          "2008-01-01T00:00:00",
          "2009-01-01T00:00:00",
          "2010-01-01T00:00:00",
          "2011-01-01T00:00:00",
          "2012-01-01T00:00:00",
          "2013-01-01T00:00:00",
          "2014-01-01T00:00:00",
          "2015-01-01T00:00:00",
          "2016-01-01T00:00:00",
          "2017-01-01T00:00:00",
          "2018-01-01T00:00:00",
          "2019-01-01T00:00:00",
          "2020-01-01T00:00:00",
          "2021-01-01T00:00:00",
          "2022-01-01T00:00:00"
         ],
         "y": [
          "113.162577847967",
          "118.654144002222",
          "131.885558530844",
          "157.089110889702",
          "160.147687922555",
          "178.339614096146",
          "165.404262395736",
          "185.420537363904",
          "228.519313233137",
          "272.146922693902",
          "312.020377234655",
          "291.358237452471",
          "281.499333737952",
          "297.807022526203",
          "302.585824711882",
          "294.78973494214",
          "281.699495234272",
          "301.733249522454",
          "370.219284508463",
          "407.892658171152",
          "347.57836594833",
          "359.213268699902",
          "423.304430056569",
          "525.365692365863",
          "473.489916407064",
          "609.604337927454",
          "709.415888233368",
          "781.74256121344",
          "828.594691043134",
          "873.297610969115",
          "959.360431340438",
          "1053.11231446589",
          "1148.51425712598",
          "1288.63749136212",
          "1508.66791563578",
          "1753.41419162417",
          "2099.2194300786",
          "2693.95873162278",
          "3468.32706308591",
          "3832.22745696438",
          "4550.47394361131",
          "5614.3860223103",
          "6300.58217952904",
          "7020.38607424065",
          "7636.0743401587",
          "8016.44559491162",
          "8094.39016730811",
          "8817.04560829162",
          "9905.40638307759",
          "10143.8602205959",
          "10408.7195541075",
          "12617.5051041181",
          "12720.2163182363"
         ]
        },
        {
         "mode": "lines",
         "name": "japan_value",
         "showlegend": false,
         "type": "scatter",
         "x": [
          "1970-01-01T00:00:00",
          "1971-01-01T00:00:00",
          "1972-01-01T00:00:00",
          "1973-01-01T00:00:00",
          "1974-01-01T00:00:00",
          "1975-01-01T00:00:00",
          "1976-01-01T00:00:00",
          "1977-01-01T00:00:00",
          "1978-01-01T00:00:00",
          "1979-01-01T00:00:00",
          "1980-01-01T00:00:00",
          "1981-01-01T00:00:00",
          "1982-01-01T00:00:00",
          "1983-01-01T00:00:00",
          "1984-01-01T00:00:00",
          "1985-01-01T00:00:00",
          "1986-01-01T00:00:00",
          "1987-01-01T00:00:00",
          "1988-01-01T00:00:00",
          "1989-01-01T00:00:00",
          "1990-01-01T00:00:00",
          "1991-01-01T00:00:00",
          "1992-01-01T00:00:00",
          "1993-01-01T00:00:00",
          "1994-01-01T00:00:00",
          "1995-01-01T00:00:00",
          "1996-01-01T00:00:00",
          "1997-01-01T00:00:00",
          "1998-01-01T00:00:00",
          "1999-01-01T00:00:00",
          "2000-01-01T00:00:00",
          "2001-01-01T00:00:00",
          "2002-01-01T00:00:00",
          "2003-01-01T00:00:00",
          "2004-01-01T00:00:00",
          "2005-01-01T00:00:00",
          "2006-01-01T00:00:00",
          "2007-01-01T00:00:00",
          "2008-01-01T00:00:00",
          "2009-01-01T00:00:00",
          "2010-01-01T00:00:00",
          "2011-01-01T00:00:00",
          "2012-01-01T00:00:00",
          "2013-01-01T00:00:00",
          "2014-01-01T00:00:00",
          "2015-01-01T00:00:00",
          "2016-01-01T00:00:00",
          "2017-01-01T00:00:00",
          "2018-01-01T00:00:00",
          "2019-01-01T00:00:00",
          "2020-01-01T00:00:00",
          "2021-01-01T00:00:00",
          "2022-01-01T00:00:00"
         ],
         "y": [
          "2100.74807036009",
          "2321.39092521418",
          "3031.43860570759",
          "4061.0133895326",
          "4448.31965623627",
          "4775.89953559305",
          "5310.43140904992",
          "6472.7877874079",
          "9012.13603523182",
          "9301.14831026293",
          "9668.74626395709",
          "10583.1278908402",
          "9779.97490636267",
          "10652.0147161768",
          "11207.4523524293",
          "11809.4603450715",
          "17451.8349394142",
          "21141.7183951789",
          "25499.8811728107",
          "25265.9487590208",
          "25801.3950393094",
          "29428.4289039469",
          "31992.7902119161",
          "36345.2441262708",
          "39933.5150564874",
          "44197.6191013908",
          "39150.0396308089",
          "35638.2319556941",
          "32423.7556133801",
          "36610.1683163197",
          "39169.3595701504",
          "34406.1824638092",
          "32820.7936433254",
          "35387.0374203599",
          "38298.9801712303",
          "37812.8950199948",
          "35991.546002862",
          "35779.0245416427",
          "39876.3039685725",
          "41308.9968370512",
          "44968.1562349739",
          "48760.0789494211",
          "49145.2804308193",
          "40898.6478964744",
          "38475.3952461838",
          "34960.6393843385",
          "39375.4731620781",
          "38834.0529341227",
          "39751.1330982711",
          "40415.9567649547",
          "39986.9286287091",
          "39827.1267678179",
          "33823.5707344332"
         ]
        },
        {
         "mode": "lines",
         "name": "germany_value",
         "showlegend": false,
         "type": "scatter",
         "x": [
          "1970-01-01T00:00:00",
          "1971-01-01T00:00:00",
          "1972-01-01T00:00:00",
          "1973-01-01T00:00:00",
          "1974-01-01T00:00:00",
          "1975-01-01T00:00:00",
          "1976-01-01T00:00:00",
          "1977-01-01T00:00:00",
          "1978-01-01T00:00:00",
          "1979-01-01T00:00:00",
          "1980-01-01T00:00:00",
          "1981-01-01T00:00:00",
          "1982-01-01T00:00:00",
          "1983-01-01T00:00:00",
          "1984-01-01T00:00:00",
          "1985-01-01T00:00:00",
          "1986-01-01T00:00:00",
          "1987-01-01T00:00:00",
          "1988-01-01T00:00:00",
          "1989-01-01T00:00:00",
          "1990-01-01T00:00:00",
          "1991-01-01T00:00:00",
          "1992-01-01T00:00:00",
          "1993-01-01T00:00:00",
          "1994-01-01T00:00:00",
          "1995-01-01T00:00:00",
          "1996-01-01T00:00:00",
          "1997-01-01T00:00:00",
          "1998-01-01T00:00:00",
          "1999-01-01T00:00:00",
          "2000-01-01T00:00:00",
          "2001-01-01T00:00:00",
          "2002-01-01T00:00:00",
          "2003-01-01T00:00:00",
          "2004-01-01T00:00:00",
          "2005-01-01T00:00:00",
          "2006-01-01T00:00:00",
          "2007-01-01T00:00:00",
          "2008-01-01T00:00:00",
          "2009-01-01T00:00:00",
          "2010-01-01T00:00:00",
          "2011-01-01T00:00:00",
          "2012-01-01T00:00:00",
          "2013-01-01T00:00:00",
          "2014-01-01T00:00:00",
          "2015-01-01T00:00:00",
          "2016-01-01T00:00:00",
          "2017-01-01T00:00:00",
          "2018-01-01T00:00:00",
          "2019-01-01T00:00:00",
          "2020-01-01T00:00:00",
          "2021-01-01T00:00:00",
          "2022-01-01T00:00:00"
         ],
         "y": [
          "2761.16683289339",
          "3192.13361563743",
          "3809.98144489456",
          "5046.75510305815",
          "5639.07762129679",
          "6236.3588812986",
          "6634.85689909309",
          "7682.95377492882",
          "9482.04284964716",
          "11281.0233245081",
          "12138.3081034267",
          "10209.0731153846",
          "9913.73764159395",
          "9864.3449403866",
          "9313.16941243118",
          "9429.56921688214",
          "13461.8310034147",
          "16677.51078816",
          "17931.2823228876",
          "17764.376445833",
          "22303.9613266628",
          "23357.757725073",
          "26438.2303888417",
          "25522.6295733618",
          "27076.60675014",
          "31658.3493789135",
          "30485.8665482279",
          "26964.0494672673",
          "27289.0593603191",
          "26734.9425369252",
          "23694.7604830673",
          "23628.3272122367",
          "25197.2656001848",
          "30310.3575963774",
          "34106.6581224001",
          "34520.2396492496",
          "36353.8803343631",
          "41640.0808695147",
          "45612.7106221441",
          "41650.3678297162",
          "41572.4559481507",
          "46705.8957963353",
          "43855.8544658618",
          "46298.9229177341",
          "48023.8699845462",
          "41103.2564363768",
          "42136.1207907991",
          "44652.5891722719",
          "47939.2782884504",
          "46805.1384334439",
          "46749.4762280016",
          "51426.7503654421",
          "48717.9911402128"
         ]
        },
        {
         "mode": "lines",
         "name": "india_value",
         "showlegend": false,
         "type": "scatter",
         "x": [
          "1970-01-01T00:00:00",
          "1971-01-01T00:00:00",
          "1972-01-01T00:00:00",
          "1973-01-01T00:00:00",
          "1974-01-01T00:00:00",
          "1975-01-01T00:00:00",
          "1976-01-01T00:00:00",
          "1977-01-01T00:00:00",
          "1978-01-01T00:00:00",
          "1979-01-01T00:00:00",
          "1980-01-01T00:00:00",
          "1981-01-01T00:00:00",
          "1982-01-01T00:00:00",
          "1983-01-01T00:00:00",
          "1984-01-01T00:00:00",
          "1985-01-01T00:00:00",
          "1986-01-01T00:00:00",
          "1987-01-01T00:00:00",
          "1988-01-01T00:00:00",
          "1989-01-01T00:00:00",
          "1990-01-01T00:00:00",
          "1991-01-01T00:00:00",
          "1992-01-01T00:00:00",
          "1993-01-01T00:00:00",
          "1994-01-01T00:00:00",
          "1995-01-01T00:00:00",
          "1996-01-01T00:00:00",
          "1997-01-01T00:00:00",
          "1998-01-01T00:00:00",
          "1999-01-01T00:00:00",
          "2000-01-01T00:00:00",
          "2001-01-01T00:00:00",
          "2002-01-01T00:00:00",
          "2003-01-01T00:00:00",
          "2004-01-01T00:00:00",
          "2005-01-01T00:00:00",
          "2006-01-01T00:00:00",
          "2007-01-01T00:00:00",
          "2008-01-01T00:00:00",
          "2009-01-01T00:00:00",
          "2010-01-01T00:00:00",
          "2011-01-01T00:00:00",
          "2012-01-01T00:00:00",
          "2013-01-01T00:00:00",
          "2014-01-01T00:00:00",
          "2015-01-01T00:00:00",
          "2016-01-01T00:00:00",
          "2017-01-01T00:00:00",
          "2018-01-01T00:00:00",
          "2019-01-01T00:00:00",
          "2020-01-01T00:00:00",
          "2021-01-01T00:00:00",
          "2022-01-01T00:00:00"
         ],
         "y": [
          "111.968318177372",
          "118.160528911908",
          "122.612453445976",
          "143.456124984427",
          "163.231615579564",
          "157.929385028241",
          "161.137236080759",
          "186.419089544981",
          "206.073749258556",
          "224.575437698719",
          "267.390578652535",
          "271.426149209154",
          "275.266085855139",
          "292.644647182024",
          "278.095415220662",
          "297.999248705447",
          "312.059843942513",
          "342.071923724964",
          "355.738409768732",
          "347.462029998068",
          "368.749759408129",
          "303.850437957407",
          "317.558738700794",
          "301.50079120851",
          "346.227393115934",
          "373.628235651141",
          "399.577312178982",
          "414.898679748919",
          "412.509354123275",
          "440.961454614021",
          "442.034778911498",
          "449.911124933268",
          "468.844428308942",
          "543.843798895899",
          "624.105094381691",
          "710.509344848758",
          "802.013742049265",
          "1022.73246704551",
          "993.503405266506",
          "1096.63613605519",
          "1350.63447029491",
          "1449.60330101563",
          "1434.01798721629",
          "1438.05700508042",
          "1559.86377870535",
          "1590.17433135955",
          "1714.27953740039",
          "1957.96981329558",
          "1974.3777314935",
          "2050.1638002619",
          "1913.21973278751",
          "2238.12714218765",
          "2410.88802070689"
         ]
        }
       ],
       "layout": {
        "height": 1080,
        "legend": {
         "tracegroupgap": 0
        },
        "margin": {
         "t": 60
        },
        "paper_bgcolor": "black",
        "plot_bgcolor": "rgba(255,255,255,0.05)",
        "template": {
         "data": {
          "bar": [
           {
            "error_x": {
             "color": "#f2f5fa"
            },
            "error_y": {
             "color": "#f2f5fa"
            },
            "marker": {
             "line": {
              "color": "rgb(17,17,17)",
              "width": 0.5
             },
             "pattern": {
              "fillmode": "overlay",
              "size": 10,
              "solidity": 0.2
             }
            },
            "type": "bar"
           }
          ],
          "barpolar": [
           {
            "marker": {
             "line": {
              "color": "rgb(17,17,17)",
              "width": 0.5
             },
             "pattern": {
              "fillmode": "overlay",
              "size": 10,
              "solidity": 0.2
             }
            },
            "type": "barpolar"
           }
          ],
          "carpet": [
           {
            "aaxis": {
             "endlinecolor": "#A2B1C6",
             "gridcolor": "#506784",
             "linecolor": "#506784",
             "minorgridcolor": "#506784",
             "startlinecolor": "#A2B1C6"
            },
            "baxis": {
             "endlinecolor": "#A2B1C6",
             "gridcolor": "#506784",
             "linecolor": "#506784",
             "minorgridcolor": "#506784",
             "startlinecolor": "#A2B1C6"
            },
            "type": "carpet"
           }
          ],
          "choropleth": [
           {
            "colorbar": {
             "outlinewidth": 0,
             "ticks": ""
            },
            "type": "choropleth"
           }
          ],
          "contour": [
           {
            "colorbar": {
             "outlinewidth": 0,
             "ticks": ""
            },
            "colorscale": [
             [
              0,
              "#0d0887"
             ],
             [
              0.1111111111111111,
              "#46039f"
             ],
             [
              0.2222222222222222,
              "#7201a8"
             ],
             [
              0.3333333333333333,
              "#9c179e"
             ],
             [
              0.4444444444444444,
              "#bd3786"
             ],
             [
              0.5555555555555556,
              "#d8576b"
             ],
             [
              0.6666666666666666,
              "#ed7953"
             ],
             [
              0.7777777777777778,
              "#fb9f3a"
             ],
             [
              0.8888888888888888,
              "#fdca26"
             ],
             [
              1,
              "#f0f921"
             ]
            ],
            "type": "contour"
           }
          ],
          "contourcarpet": [
           {
            "colorbar": {
             "outlinewidth": 0,
             "ticks": ""
            },
            "type": "contourcarpet"
           }
          ],
          "heatmap": [
           {
            "colorbar": {
             "outlinewidth": 0,
             "ticks": ""
            },
            "colorscale": [
             [
              0,
              "#0d0887"
             ],
             [
              0.1111111111111111,
              "#46039f"
             ],
             [
              0.2222222222222222,
              "#7201a8"
             ],
             [
              0.3333333333333333,
              "#9c179e"
             ],
             [
              0.4444444444444444,
              "#bd3786"
             ],
             [
              0.5555555555555556,
              "#d8576b"
             ],
             [
              0.6666666666666666,
              "#ed7953"
             ],
             [
              0.7777777777777778,
              "#fb9f3a"
             ],
             [
              0.8888888888888888,
              "#fdca26"
             ],
             [
              1,
              "#f0f921"
             ]
            ],
            "type": "heatmap"
           }
          ],
          "heatmapgl": [
           {
            "colorbar": {
             "outlinewidth": 0,
             "ticks": ""
            },
            "colorscale": [
             [
              0,
              "#0d0887"
             ],
             [
              0.1111111111111111,
              "#46039f"
             ],
             [
              0.2222222222222222,
              "#7201a8"
             ],
             [
              0.3333333333333333,
              "#9c179e"
             ],
             [
              0.4444444444444444,
              "#bd3786"
             ],
             [
              0.5555555555555556,
              "#d8576b"
             ],
             [
              0.6666666666666666,
              "#ed7953"
             ],
             [
              0.7777777777777778,
              "#fb9f3a"
             ],
             [
              0.8888888888888888,
              "#fdca26"
             ],
             [
              1,
              "#f0f921"
             ]
            ],
            "type": "heatmapgl"
           }
          ],
          "histogram": [
           {
            "marker": {
             "pattern": {
              "fillmode": "overlay",
              "size": 10,
              "solidity": 0.2
             }
            },
            "type": "histogram"
           }
          ],
          "histogram2d": [
           {
            "colorbar": {
             "outlinewidth": 0,
             "ticks": ""
            },
            "colorscale": [
             [
              0,
              "#0d0887"
             ],
             [
              0.1111111111111111,
              "#46039f"
             ],
             [
              0.2222222222222222,
              "#7201a8"
             ],
             [
              0.3333333333333333,
              "#9c179e"
             ],
             [
              0.4444444444444444,
              "#bd3786"
             ],
             [
              0.5555555555555556,
              "#d8576b"
             ],
             [
              0.6666666666666666,
              "#ed7953"
             ],
             [
              0.7777777777777778,
              "#fb9f3a"
             ],
             [
              0.8888888888888888,
              "#fdca26"
             ],
             [
              1,
              "#f0f921"
             ]
            ],
            "type": "histogram2d"
           }
          ],
          "histogram2dcontour": [
           {
            "colorbar": {
             "outlinewidth": 0,
             "ticks": ""
            },
            "colorscale": [
             [
              0,
              "#0d0887"
             ],
             [
              0.1111111111111111,
              "#46039f"
             ],
             [
              0.2222222222222222,
              "#7201a8"
             ],
             [
              0.3333333333333333,
              "#9c179e"
             ],
             [
              0.4444444444444444,
              "#bd3786"
             ],
             [
              0.5555555555555556,
              "#d8576b"
             ],
             [
              0.6666666666666666,
              "#ed7953"
             ],
             [
              0.7777777777777778,
              "#fb9f3a"
             ],
             [
              0.8888888888888888,
              "#fdca26"
             ],
             [
              1,
              "#f0f921"
             ]
            ],
            "type": "histogram2dcontour"
           }
          ],
          "mesh3d": [
           {
            "colorbar": {
             "outlinewidth": 0,
             "ticks": ""
            },
            "type": "mesh3d"
           }
          ],
          "parcoords": [
           {
            "line": {
             "colorbar": {
              "outlinewidth": 0,
              "ticks": ""
             }
            },
            "type": "parcoords"
           }
          ],
          "pie": [
           {
            "automargin": true,
            "type": "pie"
           }
          ],
          "scatter": [
           {
            "marker": {
             "line": {
              "color": "#283442"
             }
            },
            "type": "scatter"
           }
          ],
          "scatter3d": [
           {
            "line": {
             "colorbar": {
              "outlinewidth": 0,
              "ticks": ""
             }
            },
            "marker": {
             "colorbar": {
              "outlinewidth": 0,
              "ticks": ""
             }
            },
            "type": "scatter3d"
           }
          ],
          "scattercarpet": [
           {
            "marker": {
             "colorbar": {
              "outlinewidth": 0,
              "ticks": ""
             }
            },
            "type": "scattercarpet"
           }
          ],
          "scattergeo": [
           {
            "marker": {
             "colorbar": {
              "outlinewidth": 0,
              "ticks": ""
             }
            },
            "type": "scattergeo"
           }
          ],
          "scattergl": [
           {
            "marker": {
             "line": {
              "color": "#283442"
             }
            },
            "type": "scattergl"
           }
          ],
          "scattermapbox": [
           {
            "marker": {
             "colorbar": {
              "outlinewidth": 0,
              "ticks": ""
             }
            },
            "type": "scattermapbox"
           }
          ],
          "scatterpolar": [
           {
            "marker": {
             "colorbar": {
              "outlinewidth": 0,
              "ticks": ""
             }
            },
            "type": "scatterpolar"
           }
          ],
          "scatterpolargl": [
           {
            "marker": {
             "colorbar": {
              "outlinewidth": 0,
              "ticks": ""
             }
            },
            "type": "scatterpolargl"
           }
          ],
          "scatterternary": [
           {
            "marker": {
             "colorbar": {
              "outlinewidth": 0,
              "ticks": ""
             }
            },
            "type": "scatterternary"
           }
          ],
          "surface": [
           {
            "colorbar": {
             "outlinewidth": 0,
             "ticks": ""
            },
            "colorscale": [
             [
              0,
              "#0d0887"
             ],
             [
              0.1111111111111111,
              "#46039f"
             ],
             [
              0.2222222222222222,
              "#7201a8"
             ],
             [
              0.3333333333333333,
              "#9c179e"
             ],
             [
              0.4444444444444444,
              "#bd3786"
             ],
             [
              0.5555555555555556,
              "#d8576b"
             ],
             [
              0.6666666666666666,
              "#ed7953"
             ],
             [
              0.7777777777777778,
              "#fb9f3a"
             ],
             [
              0.8888888888888888,
              "#fdca26"
             ],
             [
              1,
              "#f0f921"
             ]
            ],
            "type": "surface"
           }
          ],
          "table": [
           {
            "cells": {
             "fill": {
              "color": "#506784"
             },
             "line": {
              "color": "rgb(17,17,17)"
             }
            },
            "header": {
             "fill": {
              "color": "#2a3f5f"
             },
             "line": {
              "color": "rgb(17,17,17)"
             }
            },
            "type": "table"
           }
          ]
         },
         "layout": {
          "annotationdefaults": {
           "arrowcolor": "#f2f5fa",
           "arrowhead": 0,
           "arrowwidth": 1
          },
          "autotypenumbers": "strict",
          "coloraxis": {
           "colorbar": {
            "outlinewidth": 0,
            "ticks": ""
           }
          },
          "colorscale": {
           "diverging": [
            [
             0,
             "#8e0152"
            ],
            [
             0.1,
             "#c51b7d"
            ],
            [
             0.2,
             "#de77ae"
            ],
            [
             0.3,
             "#f1b6da"
            ],
            [
             0.4,
             "#fde0ef"
            ],
            [
             0.5,
             "#f7f7f7"
            ],
            [
             0.6,
             "#e6f5d0"
            ],
            [
             0.7,
             "#b8e186"
            ],
            [
             0.8,
             "#7fbc41"
            ],
            [
             0.9,
             "#4d9221"
            ],
            [
             1,
             "#276419"
            ]
           ],
           "sequential": [
            [
             0,
             "#0d0887"
            ],
            [
             0.1111111111111111,
             "#46039f"
            ],
            [
             0.2222222222222222,
             "#7201a8"
            ],
            [
             0.3333333333333333,
             "#9c179e"
            ],
            [
             0.4444444444444444,
             "#bd3786"
            ],
            [
             0.5555555555555556,
             "#d8576b"
            ],
            [
             0.6666666666666666,
             "#ed7953"
            ],
            [
             0.7777777777777778,
             "#fb9f3a"
            ],
            [
             0.8888888888888888,
             "#fdca26"
            ],
            [
             1,
             "#f0f921"
            ]
           ],
           "sequentialminus": [
            [
             0,
             "#0d0887"
            ],
            [
             0.1111111111111111,
             "#46039f"
            ],
            [
             0.2222222222222222,
             "#7201a8"
            ],
            [
             0.3333333333333333,
             "#9c179e"
            ],
            [
             0.4444444444444444,
             "#bd3786"
            ],
            [
             0.5555555555555556,
             "#d8576b"
            ],
            [
             0.6666666666666666,
             "#ed7953"
            ],
            [
             0.7777777777777778,
             "#fb9f3a"
            ],
            [
             0.8888888888888888,
             "#fdca26"
            ],
            [
             1,
             "#f0f921"
            ]
           ]
          },
          "colorway": [
           "#636efa",
           "#EF553B",
           "#00cc96",
           "#ab63fa",
           "#FFA15A",
           "#19d3f3",
           "#FF6692",
           "#B6E880",
           "#FF97FF",
           "#FECB52"
          ],
          "font": {
           "color": "#f2f5fa"
          },
          "geo": {
           "bgcolor": "rgb(17,17,17)",
           "lakecolor": "rgb(17,17,17)",
           "landcolor": "rgb(17,17,17)",
           "showlakes": true,
           "showland": true,
           "subunitcolor": "#506784"
          },
          "hoverlabel": {
           "align": "left"
          },
          "hovermode": "closest",
          "mapbox": {
           "style": "dark"
          },
          "paper_bgcolor": "rgb(17,17,17)",
          "plot_bgcolor": "rgb(17,17,17)",
          "polar": {
           "angularaxis": {
            "gridcolor": "#506784",
            "linecolor": "#506784",
            "ticks": ""
           },
           "bgcolor": "rgb(17,17,17)",
           "radialaxis": {
            "gridcolor": "#506784",
            "linecolor": "#506784",
            "ticks": ""
           }
          },
          "scene": {
           "xaxis": {
            "backgroundcolor": "rgb(17,17,17)",
            "gridcolor": "#506784",
            "gridwidth": 2,
            "linecolor": "#506784",
            "showbackground": true,
            "ticks": "",
            "zerolinecolor": "#C8D4E3"
           },
           "yaxis": {
            "backgroundcolor": "rgb(17,17,17)",
            "gridcolor": "#506784",
            "gridwidth": 2,
            "linecolor": "#506784",
            "showbackground": true,
            "ticks": "",
            "zerolinecolor": "#C8D4E3"
           },
           "zaxis": {
            "backgroundcolor": "rgb(17,17,17)",
            "gridcolor": "#506784",
            "gridwidth": 2,
            "linecolor": "#506784",
            "showbackground": true,
            "ticks": "",
            "zerolinecolor": "#C8D4E3"
           }
          },
          "shapedefaults": {
           "line": {
            "color": "#f2f5fa"
           }
          },
          "sliderdefaults": {
           "bgcolor": "#C8D4E3",
           "bordercolor": "rgb(17,17,17)",
           "borderwidth": 1,
           "tickwidth": 0
          },
          "ternary": {
           "aaxis": {
            "gridcolor": "#506784",
            "linecolor": "#506784",
            "ticks": ""
           },
           "baxis": {
            "gridcolor": "#506784",
            "linecolor": "#506784",
            "ticks": ""
           },
           "bgcolor": "rgb(17,17,17)",
           "caxis": {
            "gridcolor": "#506784",
            "linecolor": "#506784",
            "ticks": ""
           }
          },
          "title": {
           "x": 0.05
          },
          "updatemenudefaults": {
           "bgcolor": "#506784",
           "borderwidth": 0
          },
          "xaxis": {
           "automargin": true,
           "gridcolor": "#283442",
           "linecolor": "#506784",
           "ticks": "",
           "title": {
            "standoff": 15
           },
           "zerolinecolor": "#283442",
           "zerolinewidth": 2
          },
          "yaxis": {
           "automargin": true,
           "gridcolor": "#283442",
           "linecolor": "#506784",
           "ticks": "",
           "title": {
            "standoff": 15
           },
           "zerolinecolor": "#283442",
           "zerolinewidth": 2
          }
         }
        },
        "title": {
         "text": "GDP Per Capita (US Dollars)"
        },
        "width": 1080,
        "xaxis": {
         "anchor": "y",
         "domain": [
          0,
          1
         ],
         "tickfont": {
          "size": 18
         },
         "title": {
          "text": "Date"
         }
        },
        "yaxis": {
         "anchor": "x",
         "domain": [
          0,
          1
         ],
         "tickfont": {
          "size": 18
         },
         "title": {
          "text": "Value"
         },
         "type": "linear"
        }
       }
      }
     },
     "metadata": {},
     "output_type": "display_data"
    }
   ],
   "source": [
    "\n",
    "import plotly.express as px\n",
    "\n",
    "# Create a Plotly figure\n",
    "fig = px.line()\n",
    "fig.update_layout(\n",
    "    template='plotly_dark',  # Dark theme\n",
    "    height=1080,  # Larger height\n",
    "    width=1080,\n",
    "    title_font=dict(size=48),  # Larger title font size\n",
    "    xaxis=dict(tickfont=dict(size=18)),  # Larger x-axis tick font size\n",
    "    yaxis=dict(tickfont=dict(size=18))  # Larger y-axis tick font size\n",
    ")\n",
    "\n",
    "# Plotting data for each country\n",
    "for country in merged_df.columns:\n",
    "    fig.add_scatter(x=merged_df.index, y=merged_df[country], mode='lines', name=country, showlegend=False)\n",
    "\n",
    "# Sort the Y-axis in ascending order\n",
    "fig.update_layout(yaxis=dict(type='linear'))\n",
    "\n",
    "background_color = 'black'  # Light gray\n",
    "\n",
    "# Adding labels and title\n",
    "fig.update_layout(\n",
    "    title='GDP Per Capita (US Dollars)',\n",
    "    xaxis_title='Date',\n",
    "    yaxis_title='Value',\n",
    "    plot_bgcolor='rgba(255,255,255,0.05)',  # Set the plot background color\n",
    "    paper_bgcolor='black' # Set the paper background color\n",
    ")\n",
    "\n",
    "# Show the interactive plot\n",
    "fig.show()"
   ]
  }
 ],
 "metadata": {
  "kernelspec": {
   "display_name": "Python 3",
   "language": "python",
   "name": "python3"
  },
  "language_info": {
   "codemirror_mode": {
    "name": "ipython",
    "version": 3
   },
   "file_extension": ".py",
   "mimetype": "text/x-python",
   "name": "python",
   "nbconvert_exporter": "python",
   "pygments_lexer": "ipython3",
   "version": "3.11.7"
  }
 },
 "nbformat": 4,
 "nbformat_minor": 2
}
