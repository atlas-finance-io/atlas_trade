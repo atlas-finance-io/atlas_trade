{
 "cells": [
  {
   "cell_type": "markdown",
   "metadata": {},
   "source": [
    "# Add of percentage score\n",
    "\n",
    "Here we'll count up the percentages between the companies metric and the industry average"
   ]
  },
  {
   "cell_type": "code",
   "execution_count": null,
   "metadata": {},
   "outputs": [],
   "source": [
    "import pandas as pd\n",
    "import time\n",
    "import sys\n",
    "import numpy as np\n",
    "\n",
    "perc_dist_csv_path = '/Users/markwindsor/Desktop/atlas_trade/src/data/perc_distance.csv'\n",
    "perc_dist_df = pd.read_csv(perc_dist_csv_path)"
   ]
  },
  {
   "cell_type": "code",
   "execution_count": null,
   "metadata": {},
   "outputs": [],
   "source": [
    "# List of indicators we'll take into account\n",
    "indicators = {}"
   ]
  }
 ],
 "metadata": {
  "language_info": {
   "name": "python"
  },
  "orig_nbformat": 4
 },
 "nbformat": 4,
 "nbformat_minor": 2
}
