{
 "cells": [
  {
   "cell_type": "markdown",
   "metadata": {},
   "source": [
    "# Technicals\n",
    "\n",
    "Here we'll take some favourable tickers from our fundamental screening and check if they fit our fundamental criteria\n",
    "\n",
    "MACD is greater than MACD signal line\n",
    "RSI is between 30 and 70\n",
    "Last closing price is less than the middle bollinger band\n",
    "ADX is greater than 20\n"
   ]
  },
  {
   "cell_type": "code",
   "execution_count": 3,
   "metadata": {},
   "outputs": [],
   "source": [
    "from ib_insync import *\n",
    "import pandas as pd\n",
    "import time\n",
    "import nasdaqdatalink\n",
    "import sys\n",
    "from datetime import datetime, timedelta\n",
    "import numpy as np\n",
    "import sys\n",
    "sys.path.append('/Users/markwindsor/Desktop/atlas_trade')\n",
    "from src.utils.technical_indicators import *\n",
    "\n",
    "import os\n",
    "from dotenv import load_dotenv\n",
    "NASDAQ_KEY = os.getenv(\"NASDAQ_KEY\")\n",
    "\n",
    "nasdaqdatalink.ApiConfig.api_key = NASDAQ_KEY"
   ]
  },
  {
   "cell_type": "code",
   "execution_count": 4,
   "metadata": {},
   "outputs": [
    {
     "name": "stdout",
     "output_type": "stream",
     "text": [
      "['FENG', 'TOON', 'ASXC', 'VOXX']\n"
     ]
    }
   ],
   "source": [
    "tickers_list = [\n",
    "    \"RKDA\", \"LND\", \"CALM\", \"UAVS\", \"BA\", \"AIRI\", \"MFIN\", \"AVTA\", \"EEFT\", \"JSDA\",\n",
    "    \"PRMW\", \"ZVIA\", \"ALTO\", \"ADES\", \"MARK\", \"FENG\", \"IDEX\", \"AREN\", \"CCOI\", \"IMMR\",\n",
    "    \"CLSK\", \"OMQS\", \"INTZ\", \"ORN\", \"WLGS\", \"UHG\", \"SKY\", \"RUN\", \"PGTI\", \"BSET\",\n",
    "    \"CTHR\", \"PRPL\", \"SWBI\", \"RDW\", \"SPB\", \"BYRN\", \"NCNC\", \"GDEN\", \"TOON\", \"GAIA\",\n",
    "    \"BGLC\", \"LFMD\", \"LSTA\", \"ESGR\", \"KFS\", \"GLRE\", \"IVAC\", \"EKSO\", \"SMTI\", \"MDGS\",\n",
    "    \"ASXC\", \"REPX\", \"NOG\", \"YPF\", \"ENZN\", \"PRPH\", \"BLTE\", \"CTGO\", \"NEWP\", \"ORLA\",\n",
    "    \"STRS\", \"INTG\", \"MLP\", \"MICS\", \"GNSS\", \"RTC\", \"RAIL\", \"MBUU\", \"CCK\", \"OI\",\n",
    "    \"XXII\", \"VGR\", \"PSHG\", \"USDP\", \"ELLO\", \"KEN\", \"NGL\", \"VRTV\", \"VOXX\"\n",
    "]\n",
    "\n",
    "result_tickers = []\n",
    "\n",
    "for ticker in tickers_list:\n",
    "\n",
    "    prices = nasdaqdatalink.get_table('SHARADAR/SEP', date={'gte':'2020-01-01'}, ticker=ticker)\n",
    "    prices_df = pd.DataFrame(prices[::-1])\n",
    "    prices_df[\"log_returns\"] = np.log(prices_df.close / prices_df.close.shift(1))\n",
    "\n",
    "    prices_df = average_true_range(prices_df)\n",
    "    prices_df = macd(prices_df)\n",
    "    prices_df = relative_strength_index(prices_df)\n",
    "    prices_df = average_directional_index(prices_df)\n",
    "    prices_df = stochastic_oscillator(prices_df)\n",
    "    prices_df = bollinger_bands(prices_df)\n",
    "\n",
    "    last_row = prices_df.iloc[-1]  \n",
    "    \n",
    "    if (last_row['macd'] > last_row['signal'] and last_row['rsi'] > 30 and last_row['rsi'] < 70 and last_row['close'] < last_row['rolling_mean'] and last_row['adx'] < 20):\n",
    "\n",
    "        result_tickers.append(ticker)\n",
    "    \n",
    "\n",
    "\n",
    "print(result_tickers)    \n",
    "    \n",
    "\n",
    "\n"
   ]
  }
 ],
 "metadata": {
  "kernelspec": {
   "display_name": ".venv",
   "language": "python",
   "name": "python3"
  },
  "language_info": {
   "codemirror_mode": {
    "name": "ipython",
    "version": 3
   },
   "file_extension": ".py",
   "mimetype": "text/x-python",
   "name": "python",
   "nbconvert_exporter": "python",
   "pygments_lexer": "ipython3",
   "version": "3.9.6"
  },
  "orig_nbformat": 4
 },
 "nbformat": 4,
 "nbformat_minor": 2
}
