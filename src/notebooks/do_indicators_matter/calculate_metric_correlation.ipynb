{
 "cells": [
  {
   "cell_type": "code",
   "execution_count": 1,
   "metadata": {},
   "outputs": [],
   "source": [
    "from ib_insync import *\n",
    "import pandas as pd\n",
    "import time\n",
    "import nasdaqdatalink\n",
    "import sys\n",
    "from datetime import datetime, timedelta\n",
    "import numpy as np\n",
    "from sklearn.linear_model import LinearRegression\n",
    "\n",
    "sys.path.append('/Users/markwindsor/Desktop/atlas_trade')\n",
    "from src.utils.sharadar_utils.sharadar_constants import FAMA_INDUSTRY\n",
    "nasdaqdatalink.ApiConfig.api_key = ''"
   ]
  },
  {
   "cell_type": "code",
   "execution_count": 2,
   "metadata": {},
   "outputs": [
    {
     "name": "stderr",
     "output_type": "stream",
     "text": [
      "/Users/markwindsor/Desktop/atlas_trade/.venv/lib/python3.9/site-packages/nasdaqdatalink/get_table.py:38: UserWarning: To request more pages, please set paginate=True in your         nasdaqdatalink.get_table() call. For more information see our documentation:         https://github.com/Nasdaq/data-link-python/blob/main/FOR_ANALYSTS.md#things-to-note\n",
      "  warnings.warn(Message.WARN_PAGE_LIMIT_EXCEEDED, UserWarning)\n"
     ]
    }
   ],
   "source": [
    "universe = nasdaqdatalink.get_table('SHARADAR/TICKERS', table=\"SF1\")\n",
    "df = pd.DataFrame(universe)\n",
    "universe_df = df[df['isdelisted'] == 'N']\n",
    "universe_df.to_csv('universe.csv')"
   ]
  },
  {
   "cell_type": "code",
   "execution_count": 4,
   "metadata": {},
   "outputs": [],
   "source": [
    "df_daily = nasdaqdatalink.get_table('SHARADAR/SEP', qopts={\"columns\":['date' ,'close']}, ticker=\"AAPL\")\n"
   ]
  },
  {
   "cell_type": "code",
   "execution_count": 5,
   "metadata": {},
   "outputs": [],
   "source": [
    "df_quarterly = nasdaqdatalink.get_table('SHARADAR/SF1', dimension=\"MRT\", qopts={\"columns\":['calendardate' ,'pe']}, ticker=\"AAPL\")\n"
   ]
  },
  {
   "cell_type": "code",
   "execution_count": 6,
   "metadata": {},
   "outputs": [
    {
     "data": {
      "text/html": [
       "<div>\n",
       "<style scoped>\n",
       "    .dataframe tbody tr th:only-of-type {\n",
       "        vertical-align: middle;\n",
       "    }\n",
       "\n",
       "    .dataframe tbody tr th {\n",
       "        vertical-align: top;\n",
       "    }\n",
       "\n",
       "    .dataframe thead th {\n",
       "        text-align: right;\n",
       "    }\n",
       "</style>\n",
       "<table border=\"1\" class=\"dataframe\">\n",
       "  <thead>\n",
       "    <tr style=\"text-align: right;\">\n",
       "      <th></th>\n",
       "      <th>close</th>\n",
       "      <th>pe</th>\n",
       "    </tr>\n",
       "  </thead>\n",
       "  <tbody>\n",
       "    <tr>\n",
       "      <th>1997-12-31</th>\n",
       "      <td>0.117</td>\n",
       "      <td>-1.939</td>\n",
       "    </tr>\n",
       "    <tr>\n",
       "      <th>1998-03-31</th>\n",
       "      <td>0.245</td>\n",
       "      <td>-31.098</td>\n",
       "    </tr>\n",
       "    <tr>\n",
       "      <th>1998-06-30</th>\n",
       "      <td>0.256</td>\n",
       "      <td>89.315</td>\n",
       "    </tr>\n",
       "    <tr>\n",
       "      <th>1998-09-30</th>\n",
       "      <td>0.341</td>\n",
       "      <td>16.885</td>\n",
       "    </tr>\n",
       "    <tr>\n",
       "      <th>1998-12-31</th>\n",
       "      <td>0.365</td>\n",
       "      <td>12.831</td>\n",
       "    </tr>\n",
       "    <tr>\n",
       "      <th>...</th>\n",
       "      <td>...</td>\n",
       "      <td>...</td>\n",
       "    </tr>\n",
       "    <tr>\n",
       "      <th>2022-03-31</th>\n",
       "      <td>174.610</td>\n",
       "      <td>27.972</td>\n",
       "    </tr>\n",
       "    <tr>\n",
       "      <th>2022-06-30</th>\n",
       "      <td>136.720</td>\n",
       "      <td>23.012</td>\n",
       "    </tr>\n",
       "    <tr>\n",
       "      <th>2022-09-30</th>\n",
       "      <td>138.200</td>\n",
       "      <td>24.223</td>\n",
       "    </tr>\n",
       "    <tr>\n",
       "      <th>2023-03-31</th>\n",
       "      <td>164.900</td>\n",
       "      <td>27.661</td>\n",
       "    </tr>\n",
       "    <tr>\n",
       "      <th>2023-06-30</th>\n",
       "      <td>193.970</td>\n",
       "      <td>32.196</td>\n",
       "    </tr>\n",
       "  </tbody>\n",
       "</table>\n",
       "<p>75 rows × 2 columns</p>\n",
       "</div>"
      ],
      "text/plain": [
       "              close      pe\n",
       "1997-12-31    0.117  -1.939\n",
       "1998-03-31    0.245 -31.098\n",
       "1998-06-30    0.256  89.315\n",
       "1998-09-30    0.341  16.885\n",
       "1998-12-31    0.365  12.831\n",
       "...             ...     ...\n",
       "2022-03-31  174.610  27.972\n",
       "2022-06-30  136.720  23.012\n",
       "2022-09-30  138.200  24.223\n",
       "2023-03-31  164.900  27.661\n",
       "2023-06-30  193.970  32.196\n",
       "\n",
       "[75 rows x 2 columns]"
      ]
     },
     "execution_count": 6,
     "metadata": {},
     "output_type": "execute_result"
    }
   ],
   "source": [
    "# Assume df_daily and df_quarterly are your daily and quarterly DataFrames\n",
    "\n",
    "# Reverse and set index for df_daily\n",
    "df_daily = df_daily.sort_values(by='date', ascending=False).set_index('date')\n",
    "\n",
    "# Reverse and set index for df_quarterly\n",
    "df_quarterly = df_quarterly.sort_values(by='calendardate', ascending=False).set_index('calendardate')\n",
    "\n",
    "# Merge DataFrames on common dates\n",
    "merged_df = df_daily.merge(df_quarterly, left_index=True, right_index=True, how='inner')\n",
    "\n",
    "merged_df = merged_df[::-1]\n",
    "\n",
    "merged_df\n",
    "\n",
    "\n"
   ]
  },
  {
   "cell_type": "code",
   "execution_count": 7,
   "metadata": {},
   "outputs": [
    {
     "data": {
      "text/plain": [
       "0.06979000025183062"
      ]
     },
     "execution_count": 7,
     "metadata": {},
     "output_type": "execute_result"
    }
   ],
   "source": [
    "# Calculate correlation between the two value columns\n",
    "correlation = merged_df['pe'].corr(merged_df['close'])\n",
    "\n",
    "correlation\n"
   ]
  },
  {
   "cell_type": "code",
   "execution_count": 12,
   "metadata": {},
   "outputs": [
    {
     "data": {
      "text/plain": [
       "array([0.03458403])"
      ]
     },
     "execution_count": 12,
     "metadata": {},
     "output_type": "execute_result"
    }
   ],
   "source": [
    "x = merged_df['pe']\n",
    "y = merged_df['close']\n",
    "\n",
    "X = x.values.reshape(-1, 1)\n",
    "\n",
    "# Create a LinearRegression model\n",
    "model = LinearRegression()\n",
    "\n",
    "# Fit the model to the data\n",
    "model.fit(X, y)\n",
    "\n",
    "# Access the intercept and coefficients\n",
    "intercept = model.intercept_\n",
    "coefficient = model.coef_\n",
    "\n",
    "coefficient"
   ]
  }
 ],
 "metadata": {
  "kernelspec": {
   "display_name": ".venv",
   "language": "python",
   "name": "python3"
  },
  "language_info": {
   "codemirror_mode": {
    "name": "ipython",
    "version": 3
   },
   "file_extension": ".py",
   "mimetype": "text/x-python",
   "name": "python",
   "nbconvert_exporter": "python",
   "pygments_lexer": "ipython3",
   "version": "3.9.6"
  },
  "orig_nbformat": 4
 },
 "nbformat": 4,
 "nbformat_minor": 2
}
