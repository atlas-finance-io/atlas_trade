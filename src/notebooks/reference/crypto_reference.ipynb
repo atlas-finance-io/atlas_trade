{
 "cells": [
  {
   "cell_type": "code",
   "execution_count": 1,
   "metadata": {},
   "outputs": [],
   "source": [
    "import pandas as pd \n",
    "import numpy as np\n",
    "import matplotlib.pyplot as plt\n",
    "import requests\n",
    "plt.style.use('dark_background')"
   ]
  },
  {
   "cell_type": "code",
   "execution_count": 2,
   "metadata": {},
   "outputs": [
    {
     "ename": "TypeError",
     "evalue": "'Response' object is not subscriptable",
     "output_type": "error",
     "traceback": [
      "\u001b[0;31m---------------------------------------------------------------------------\u001b[0m",
      "\u001b[0;31mTypeError\u001b[0m                                 Traceback (most recent call last)",
      "Cell \u001b[0;32mIn[2], line 6\u001b[0m\n\u001b[1;32m      3\u001b[0m data \u001b[39m=\u001b[39m response\u001b[39m.\u001b[39mjson()\n\u001b[1;32m      5\u001b[0m table \u001b[39m=\u001b[39m []\n\u001b[0;32m----> 6\u001b[0m \u001b[39mfor\u001b[39;00m entry \u001b[39min\u001b[39;00m response[\u001b[39m\"\u001b[39;49m\u001b[39mpriceHistory\u001b[39;49m\u001b[39m\"\u001b[39;49m]:\n\u001b[1;32m      7\u001b[0m     table\u001b[39m.\u001b[39mappend([\n\u001b[1;32m      8\u001b[0m         entry[\u001b[39m\"\u001b[39m\u001b[39mo\u001b[39m\u001b[39m\"\u001b[39m],\n\u001b[1;32m      9\u001b[0m         entry[\u001b[39m\"\u001b[39m\u001b[39mh\u001b[39m\u001b[39m\"\u001b[39m],\n\u001b[0;32m   (...)\u001b[0m\n\u001b[1;32m     13\u001b[0m         entry[\u001b[39m\"\u001b[39m\u001b[39mmcap\u001b[39m\u001b[39m\"\u001b[39m]\n\u001b[1;32m     14\u001b[0m     ])\n\u001b[1;32m     16\u001b[0m \u001b[39m# Create a DataFrame from the extracted data\u001b[39;00m\n",
      "\u001b[0;31mTypeError\u001b[0m: 'Response' object is not subscriptable"
     ]
    }
   ],
   "source": [
    "\n",
    "\n",
    "url = \"https://91j3dag4m9.execute-api.us-east-1.amazonaws.com/master/getCMCPriceHistory/2?startDate=2017-01-01\"\n",
    "response = requests.get(url)\n",
    "data = response.json()\n",
    "\n",
    "table = []\n",
    "for entry in response[\"priceHistory\"]:\n",
    "    table.append([\n",
    "        entry[\"o\"],\n",
    "        entry[\"h\"],\n",
    "        entry[\"l\"],\n",
    "        entry[\"c\"],\n",
    "        entry[\"v\"],\n",
    "        entry[\"mcap\"]\n",
    "    ])\n",
    "\n",
    "# Create a DataFrame from the extracted data\n",
    "columns = [\"open\", \"high\", \"low\", \"close\", \"volume\", \"marketCap\"]\n",
    "df = pd.DataFrame(table, columns=columns)\n",
    "df"
   ]
  }
 ],
 "metadata": {
  "kernelspec": {
   "display_name": ".venv",
   "language": "python",
   "name": "python3"
  },
  "language_info": {
   "codemirror_mode": {
    "name": "ipython",
    "version": 3
   },
   "file_extension": ".py",
   "mimetype": "text/x-python",
   "name": "python",
   "nbconvert_exporter": "python",
   "pygments_lexer": "ipython3",
   "version": "3.9.6"
  },
  "orig_nbformat": 4
 },
 "nbformat": 4,
 "nbformat_minor": 2
}
