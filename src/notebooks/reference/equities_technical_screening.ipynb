{
 "cells": [
  {
   "cell_type": "markdown",
   "metadata": {},
   "source": [
    "# Equities Technical Screening\n",
    "\n",
    "Here, we'll do some technical screening and explore ways to combine various technical indicators in our equity universe"
   ]
  },
  {
   "cell_type": "code",
   "execution_count": 1,
   "metadata": {},
   "outputs": [],
   "source": [
    "from ib_insync import *\n",
    "import pandas as pd\n",
    "import time\n",
    "import nasdaqdatalink\n",
    "import sys\n",
    "from datetime import datetime, timedelta\n",
    "import numpy as np\n",
    "import sys\n",
    "sys.path.append('/Users/markwindsor/Desktop/atlas_trade')\n",
    "from src.utils.technical_indicators import *\n",
    "\n",
    "import os\n",
    "from dotenv import load_dotenv\n",
    "NASDAQ_KEY = os.getenv(\"NASDAQ_KEY\")\n",
    "\n",
    "nasdaqdatalink.ApiConfig.api_key = NASDAQ_KEY"
   ]
  },
  {
   "cell_type": "code",
   "execution_count": 2,
   "metadata": {},
   "outputs": [],
   "source": [
    "tickers_list = [\n",
    "    \"RKDA\", \"LND\", \"CALM\", \"UAVS\", \"BA\", \"AIRI\", \"MFIN\", \"AVTA\", \"EEFT\", \"JSDA\",\n",
    "    \"PRMW\", \"ZVIA\", \"ALTO\", \"ADES\", \"MARK\", \"FENG\", \"IDEX\", \"AREN\", \"CCOI\", \"IMMR\",\n",
    "    \"CLSK\", \"OMQS\", \"INTZ\", \"ORN\", \"WLGS\", \"UHG\", \"SKY\", \"RUN\", \"PGTI\", \"BSET\",\n",
    "    \"CTHR\", \"PRPL\", \"SWBI\", \"RDW\", \"SPB\", \"BYRN\", \"NCNC\", \"GDEN\", \"TOON\", \"GAIA\",\n",
    "    \"BGLC\", \"LFMD\", \"LSTA\", \"ESGR\", \"KFS\", \"GLRE\", \"IVAC\", \"EKSO\", \"SMTI\", \"MDGS\",\n",
    "    \"ASXC\", \"REPX\", \"NOG\", \"YPF\", \"ENZN\", \"PRPH\", \"BLTE\", \"CTGO\", \"NEWP\", \"ORLA\",\n",
    "    \"STRS\", \"INTG\", \"MLP\", \"MICS\", \"GNSS\", \"RTC\", \"RAIL\", \"MBUU\", \"CCK\", \"OI\",\n",
    "    \"XXII\", \"VGR\", \"PSHG\", \"USDP\", \"ELLO\", \"KEN\", \"NGL\", \"VRTV\", \"VOXX\"\n",
    "]\n",
    "\n",
    "\"\"\"\n",
    "For our universe of stocks to screen, these were gathered from a scoring process with fundamental\n",
    "indicators. We want to test various technical indicators individually and in combination on this\n",
    "universe to see what we find. \n",
    "\n",
    "First, we'll load a dictionary of dataframes with price data.\n",
    "\"\"\"\n",
    "\n",
    "universe_prices = {}\n",
    "\n",
    "for ticker in tickers_list:\n",
    "\n",
    "    prices = nasdaqdatalink.get_table('SHARADAR/SEP', qopts={\"columns\":['date', 'close']}, date={'gte':'2023-01-01'}, ticker=ticker)\n",
    "    prices_df = pd.DataFrame(prices[::-1])\n",
    "    prices_df[\"log_returns\"] = np.log(prices_df.close / prices_df.close.shift(1))\n",
    "    universe_prices[ticker] = prices_df\n",
    "\n"
   ]
  },
  {
   "cell_type": "markdown",
   "metadata": {},
   "source": [
    "# RSI \n",
    "\n",
    "Let's start with RSI. Here, we'll explore different ways to interpret just the RSI value alone.\n"
   ]
  },
  {
   "cell_type": "code",
   "execution_count": 3,
   "metadata": {},
   "outputs": [
    {
     "name": "stdout",
     "output_type": "stream",
     "text": [
      "RSI Below 30 (Oversold):  ['MARK', 'FENG', 'IDEX', 'CTHR', 'SWBI', 'NCNC', 'SMTI', 'YPF', 'PRPH', 'INTG', 'MICS', 'RAIL', 'MBUU', 'USDP']\n"
     ]
    }
   ],
   "source": [
    "# Lets screen for tickers that have been oversold so RSI should be in the 0-30 range\n",
    "\n",
    "rsi_below_30 = []\n",
    "\n",
    "for ticker in tickers_list:\n",
    "    # We'll use the utitlity function here to add the RSI column to our prices dataframe\n",
    "    rsi_df = relative_strength_index(universe_prices[ticker])\n",
    "    last_row_rsi = rsi_df.iloc[-1]\n",
    "    if (last_row_rsi['rsi'] < 30 and last_row_rsi['rsi'] > 0):\n",
    "        rsi_below_30.append(ticker)\n",
    "\n",
    "print('RSI Below 30 (Oversold): ', rsi_below_30)\n"
   ]
  },
  {
   "cell_type": "markdown",
   "metadata": {},
   "source": [
    "# MACD\n",
    "\n",
    "Lets look for various ways to screen for the MACD"
   ]
  },
  {
   "cell_type": "code",
   "execution_count": 4,
   "metadata": {},
   "outputs": [
    {
     "name": "stdout",
     "output_type": "stream",
     "text": [
      "MACD Line greater than signal line:  ['RKDA', 'LND', 'CALM', 'UAVS', 'AIRI', 'AVTA', 'EEFT', 'JSDA', 'ZVIA', 'MARK', 'FENG', 'AREN', 'OMQS', 'INTZ', 'ORN', 'WLGS', 'UHG', 'SKY', 'RUN', 'PRPL', 'SPB', 'BYRN', 'GDEN', 'TOON', 'GAIA', 'LFMD', 'EKSO', 'MDGS', 'ASXC', 'REPX', 'NOG', 'ENZN', 'CTGO', 'GNSS', 'RTC', 'CCK', 'OI', 'XXII', 'VGR', 'PSHG', 'VOXX']\n"
     ]
    }
   ],
   "source": [
    "# Lets screen for tickers where the MACD is above the signal line\n",
    "\n",
    "macd_above_signal = []\n",
    "\n",
    "for ticker in tickers_list:\n",
    "    macd_df = macd(universe_prices[ticker])\n",
    "    last_row_macd = macd_df.iloc[-1]\n",
    "    if (last_row_macd['macd'] > last_row_macd['signal']):\n",
    "        macd_above_signal.append(ticker)\n",
    "\n",
    "print(\"MACD Line greater than signal line: \", macd_above_signal)"
   ]
  }
 ],
 "metadata": {
  "kernelspec": {
   "display_name": ".venv",
   "language": "python",
   "name": "python3"
  },
  "language_info": {
   "codemirror_mode": {
    "name": "ipython",
    "version": 3
   },
   "file_extension": ".py",
   "mimetype": "text/x-python",
   "name": "python",
   "nbconvert_exporter": "python",
   "pygments_lexer": "ipython3",
   "version": "3.9.6"
  },
  "orig_nbformat": 4
 },
 "nbformat": 4,
 "nbformat_minor": 2
}
