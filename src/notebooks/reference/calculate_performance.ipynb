{
 "cells": [
  {
   "cell_type": "code",
   "execution_count": 5,
   "metadata": {},
   "outputs": [],
   "source": [
    "# Calculate Performance\n",
    "\n"
   ]
  },
  {
   "cell_type": "code",
   "execution_count": 6,
   "metadata": {},
   "outputs": [],
   "source": [
    "\n",
    "import pandas as pd\n",
    "import time\n",
    "import nasdaqdatalink\n",
    "import sys\n",
    "from datetime import datetime, timedelta\n",
    "import numpy as np\n",
    "import sys\n",
    "sys.path.append('/Users/markwindsor/Desktop/atlas_trade')\n",
    "from src.utils.performance_metrics import *\n",
    "\n",
    "from datetime import datetime\n",
    "\n",
    "today = datetime.today()\n",
    "five_years_ago = today - timedelta(days=1825)\n",
    "formatted_date = five_years_ago.strftime('%Y-%m-%d')\n",
    "\n",
    "import os\n",
    "from dotenv import load_dotenv\n",
    "NASDAQ_KEY = os.getenv(\"NASDAQ_KEY\")\n",
    "\n",
    "nasdaqdatalink.ApiConfig.api_key = NASDAQ_KEY"
   ]
  },
  {
   "cell_type": "code",
   "execution_count": 7,
   "metadata": {},
   "outputs": [],
   "source": [
    "# Use your absolute path to our top 500 coins csv\n",
    "universe_path = '/Users/markwindsor/Desktop/atlas_trade/src/data/universe.csv'\n",
    "\n",
    "universe_df = pd.read_csv(universe_path)\n",
    "\n",
    "result = []\n",
    "\n",
    "for index, row in universe_df.iterrows():\n",
    "\n",
    "    name = row['name']\n",
    "    ticker = row['ticker']\n",
    "\n",
    "    row_values = {\n",
    "        'ticker': ticker,\n",
    "        'company_name': name\n",
    "    }\n",
    "\n",
    "    metrics = nasdaqdatalink.get_table('SHARADAR/METRICS',  qopts={\"columns\":['ticker', 'beta5y']}, ticker=ticker)\n",
    "    \n",
    "    prices = nasdaqdatalink.get_table('SHARADAR/SEP', qopts={\"columns\":['date', 'close']}, date={'gte':formatted_date}, ticker=ticker)\n",
    "    prices_df = pd.DataFrame(prices[::-1])\n",
    "    prices_df[\"returns\"] = np.log(prices_df.close / prices_df.close.shift(1))\n",
    "\n",
    "\n",
    "    # If we only want to get comanies who has more than 5 year history\n",
    "    if len(metrics['beta5y'].values):\n",
    "        beta = metrics['beta5y'].values[0]\n",
    "        if beta:\n",
    "            row_values['beta'] = beta\n",
    "        \n",
    "            md = max_drawdown(prices_df)\n",
    "            sharpe = sharpe_ratio(prices_df)\n",
    "            sortino = sortino_ratio(prices_df)\n",
    "            treynor = treynor_ratio(prices_df, beta)\n",
    "\n",
    "            row_values['max_drawdown'] = md\n",
    "            row_values['sharpe_ratio'] = sharpe\n",
    "            row_values['sortino_ratio'] = sortino\n",
    "            row_values['treynor_ratio'] = treynor\n",
    "\n",
    "    result.append(row_values)\n",
    "\n",
    "\n",
    "result_df = pd.DataFrame(result)\n",
    "result_df.to_csv('performanceMetrics.csv', index=False)\n",
    "\n",
    "\n",
    "\n",
    "\n"
   ]
  }
 ],
 "metadata": {
  "kernelspec": {
   "display_name": ".venv",
   "language": "python",
   "name": "python3"
  },
  "language_info": {
   "codemirror_mode": {
    "name": "ipython",
    "version": 3
   },
   "file_extension": ".py",
   "mimetype": "text/x-python",
   "name": "python",
   "nbconvert_exporter": "python",
   "pygments_lexer": "ipython3",
   "version": "3.9.6"
  },
  "orig_nbformat": 4
 },
 "nbformat": 4,
 "nbformat_minor": 2
}
