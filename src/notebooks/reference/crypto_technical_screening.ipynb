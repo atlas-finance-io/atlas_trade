{
 "cells": [
  {
   "cell_type": "markdown",
   "metadata": {},
   "source": [
    "# Crypto Technical Screening\n",
    "\n",
    "Here, we'll do some technical screening and explore ways to combine various technical indicators in our crypto universe"
   ]
  },
  {
   "cell_type": "code",
   "execution_count": 3,
   "metadata": {},
   "outputs": [
    {
     "name": "stderr",
     "output_type": "stream",
     "text": [
      "/Users/markwindsor/Desktop/atlas_trade/.venv/lib/python3.9/site-packages/pandas/core/arraylike.py:396: RuntimeWarning: divide by zero encountered in log\n",
      "  result = getattr(ufunc, method)(*inputs, **kwargs)\n",
      "/Users/markwindsor/Desktop/atlas_trade/.venv/lib/python3.9/site-packages/numpy/core/fromnumeric.py:59: RuntimeWarning: invalid value encountered in accumulate\n",
      "  return bound(*args, **kwds)\n",
      "/Users/markwindsor/Desktop/atlas_trade/.venv/lib/python3.9/site-packages/pandas/core/arraylike.py:396: RuntimeWarning: divide by zero encountered in log\n",
      "  result = getattr(ufunc, method)(*inputs, **kwargs)\n",
      "/Users/markwindsor/Desktop/atlas_trade/.venv/lib/python3.9/site-packages/numpy/core/fromnumeric.py:59: RuntimeWarning: invalid value encountered in accumulate\n",
      "  return bound(*args, **kwds)\n",
      "/Users/markwindsor/Desktop/atlas_trade/.venv/lib/python3.9/site-packages/pandas/core/arraylike.py:396: RuntimeWarning: divide by zero encountered in log\n",
      "  result = getattr(ufunc, method)(*inputs, **kwargs)\n",
      "/Users/markwindsor/Desktop/atlas_trade/.venv/lib/python3.9/site-packages/numpy/core/fromnumeric.py:59: RuntimeWarning: invalid value encountered in accumulate\n",
      "  return bound(*args, **kwds)\n",
      "/Users/markwindsor/Desktop/atlas_trade/.venv/lib/python3.9/site-packages/pandas/core/arraylike.py:396: RuntimeWarning: divide by zero encountered in log\n",
      "  result = getattr(ufunc, method)(*inputs, **kwargs)\n",
      "/Users/markwindsor/Desktop/atlas_trade/.venv/lib/python3.9/site-packages/numpy/core/fromnumeric.py:59: RuntimeWarning: invalid value encountered in accumulate\n",
      "  return bound(*args, **kwds)\n"
     ]
    }
   ],
   "source": [
    "import requests\n",
    "import pandas as pd\n",
    "import numpy as np\n",
    "import sys\n",
    "sys.path.append('/Users/markwindsor/Desktop/atlas_trade')\n",
    "from src.utils.technical_indicators import *\n",
    "\n",
    "# Use your absolute path to our top 500 coins csv\n",
    "top_coins_path = '/Users/markwindsor/Desktop/atlas_trade/src/data/top_coins.csv'\n",
    "\n",
    "cryptoverse_df = pd.read_csv(top_coins_path)\n",
    "\n",
    "# We'll load some price data into our dictionary \n",
    "cryptoverse_prices = {}\n",
    "\n",
    "for index, row in cryptoverse_df.iterrows():\n",
    "    id = row['id']\n",
    "    name = row['cryptoName']\n",
    "    symbol = row['symbol']\n",
    "\n",
    "    # Retrieves OHLCV and mcap data \n",
    "    url = f\"https://91j3dag4m9.execute-api.us-east-1.amazonaws.com/master/getCMCPriceHistory/{id}?startDate=2021-01-01\"\n",
    "    response = requests.get(url)\n",
    "    data = response.json()\n",
    "    table = []\n",
    "    # Response gives us o,h,l,c,v,mcap keys which we need to change our column names like open, close etc...\n",
    "    # because thats what our utility functions accept such as our technical indicator functions\n",
    "    for entry in data[\"priceHistory\"]:\n",
    "        table.append([\n",
    "            entry[\"o\"],\n",
    "            entry[\"h\"],\n",
    "            entry[\"l\"],\n",
    "            entry[\"c\"],\n",
    "            entry[\"v\"],\n",
    "            entry[\"mcap\"]\n",
    "        ])\n",
    "\n",
    "    # Create a DataFrame from the extracted data\n",
    "    columns = [\"open\", \"high\", \"low\", \"close\", \"volume\", \"marketCap\"]\n",
    "    prices_df = pd.DataFrame(table, columns=columns)\n",
    "    prices_df[\"log_returns\"] = np.log(prices_df.close / prices_df.close.shift(1))\n",
    "    prices_df[\"cumulative_log_returns\"] = prices_df[\"log_returns\"].cumsum()\n",
    "    cryptoverse_prices[id] = prices_df\n"
   ]
  },
  {
   "cell_type": "markdown",
   "metadata": {},
   "source": [
    "## RSI\n",
    "\n",
    "Lets start with the RSI. Here, we'll explore screening the top cryptos with regards to the RSI. 0-30 = oversold, 30-70 = Neutral, 70-100 = Overbought"
   ]
  },
  {
   "cell_type": "code",
   "execution_count": 4,
   "metadata": {},
   "outputs": [
    {
     "name": "stdout",
     "output_type": "stream",
     "text": [
      "RSI Below 30 (Oversold):  ['id: 4642, symbol: HBAR, name: HEDERA', 'id: 11840, symbol: OP, name: OPTIMISM', 'id: 6952, symbol: FRAX, name: FRAX', 'id: 7080, symbol: GALA, name: GALA', 'id: 4041, symbol: MX, name: MX TOKEN', 'id: 9258, symbol: XCH, name: CHIA', 'id: 11865, symbol: BONE, name: BONE SHIBASWAP', 'id: 12220, symbol: OSMO, name: OSMOSIS', 'id: 8677, symbol: XYM, name: SYMBOL', 'id: 2499, symbol: CHSB, name: SWISSBORG', 'id: 14783, symbol: MAGIC, name: MAGIC', 'id: 23254, symbol: CORE, name: CORE DAO', 'id: 5190, symbol: FLEX, name: FLEX', 'id: 5908, symbol: DKA, name: DKARGO', 'id: 11079, symbol: BRISE, name: BITGERT', 'id: 17591, symbol: NYM, name: NYM', 'id: 1762, symbol: ERG, name: ERGO', 'id: 9674, symbol: WILD, name: WILDER WORLD', 'id: 20886, symbol: ASTRAFER, name: ASTRAFER', 'id: 9868, symbol: XCAD, name: XCAD NETWORK', 'id: 21178, symbol: MRS, name: METARS GENESIS', 'id: 2840, symbol: QKC, name: QUARKCHAIN', 'id: 12147, symbol: SYN, name: SYNAPSE', 'id: 4189, symbol: UOS, name: ULTRA', 'id: 18031, symbol: CCD, name: CONCORDIUM', 'id: 18895, symbol: MBX, name: MARBLEX', 'id: 21532, symbol: AURA, name: AURA FINANCE', 'id: 21928, symbol: VTS, name: VERITISE', 'id: 2868, symbol: DAG, name: CONSTELLATION', 'id: 1552, symbol: MLN, name: ENZYME', 'id: 2856, symbol: CEEK, name: CEEK VR', 'id: 9286, symbol: LEASH, name: DOGE KILLER', 'id: 5618, symbol: DAWN, name: DAWN PROTOCOL', 'id: 15447, symbol: LYRA, name: LYRA', 'id: 4950, symbol: LCX, name: LCX', 'id: 8296, symbol: KSP, name: KLAYSWAP PROTOCOL', 'id: 4064, symbol: USDK, name: USDK', 'id: 5947, symbol: TPT, name: TOKENPOCKET', 'id: 2915, symbol: MOC, name: MOSS COIN', 'id: 1312, symbol: SBD, name: STEEM DOLLARS', 'id: 5225, symbol: BAR, name: FC BARCELONA FAN TOKEN', 'id: 2553, symbol: RFR, name: REFEREUM', 'id: 2776, symbol: AVA, name: TRAVALA.COM']\n",
      "RSI 70 - 100 (Overbought):  ['id: 11419, symbol: TON, name: TONCOIN', 'id: 11948, symbol: XRD, name: RADIX', 'id: 1720, symbol: MIOTA, name: IOTA', 'id: 5804, symbol: DFI, name: DEFICHAIN', 'id: 8119, symbol: SFP, name: SAFEPAL', 'id: 8425, symbol: JASMY, name: JASMYCOIN', 'id: 2570, symbol: TOMO, name: TOMOCHAIN', 'id: 6651, symbol: USDX, name: USDX [KAVA]', 'id: 5455, symbol: TREX, name: TREXCOIN', 'id: 6950, symbol: PERP, name: PERPETUAL PROTOCOL', 'id: 2780, symbol: NKN, name: NKN', 'id: 2454, symbol: UIP, name: UNLIMITEDIP', 'id: 10052, symbol: GTC, name: GITCOIN', 'id: 4979, symbol: PEG, name: PEGNET', 'id: 3950, symbol: NTR, name: NETRUM', 'id: 8335, symbol: MDX, name: MDEX', 'id: 7959, symbol: vBUSD, name: VENUS BUSD', 'id: 1586, symbol: ARK, name: ARK', 'id: 5866, symbol: DEXT, name: DEXTOOLS', 'id: 19076, symbol: WVLX, name: WRAPPED VELAS', 'id: 1866, symbol: BTM, name: BYTOM', 'id: 5117, symbol: OGN, name: ORIGIN PROTOCOL', 'id: 20789, symbol: TSUKA, name: DEJITARU TSUKA', 'id: 7150, symbol: FLM, name: FLAMINGO', 'id: 4944, symbol: TRB, name: TELLOR', 'id: 7692, symbol: EXRD, name: E-RADIX', 'id: 4275, symbol: COCOS, name: COCOS-BCX', 'id: 5956, symbol: MCB, name: MUX PROTOCOL', 'id: 20873, symbol: LEVER, name: LEVERFI', 'id: 8936, symbol: TRIAS, name: TRIAS TOKEN (NEW)', 'id: 6951, symbol: REEF, name: REEF', 'id: 10188, symbol: ATA, name: AUTOMATA NETWORK', 'id: 2348, symbol: MDT, name: MEASURABLE DATA TOKEN', 'id: 22031, symbol: AGLA, name: ANGOLA', 'id: 13969, symbol: PHB, name: PHOENIX', 'id: 2398, symbol: KEY, name: SELFKEY', 'id: 3095, symbol: NBC, name: NIOBIUM COIN', 'id: 6833, symbol: LIT, name: LITENTRY', 'id: 19819, symbol: REI, name: REI NETWORK']\n"
     ]
    }
   ],
   "source": [
    "oversold = []\n",
    "overbought = []\n",
    "\n",
    "for index, row in cryptoverse_df.iterrows():\n",
    "    id = row['id']\n",
    "    name = row['cryptoName']\n",
    "    symbol = row['symbol']\n",
    "\n",
    "    rsi_df = relative_strength_index(cryptoverse_prices[id])\n",
    "    last_row_rsi = rsi_df.iloc[-1]\n",
    "    if (last_row_rsi['rsi'] < 30 and last_row_rsi['rsi'] > 0):\n",
    "        oversold.append(f\"id: {id}, symbol: {symbol}, name: {name}\")\n",
    "    if (last_row_rsi['rsi'] < 100 and last_row_rsi['rsi'] > 70):\n",
    "        overbought.append(f\"id: {id}, symbol: {symbol}, name: {name}\")\n",
    "\n",
    "print('RSI Below 30 (Oversold): ', oversold)\n",
    "print('RSI 70 - 100 (Overbought): ', overbought)\n"
   ]
  },
  {
   "cell_type": "markdown",
   "metadata": {},
   "source": [
    "## MACD\n",
    "\n",
    "Lets explore the macd"
   ]
  },
  {
   "cell_type": "code",
   "execution_count": 5,
   "metadata": {},
   "outputs": [
    {
     "name": "stdout",
     "output_type": "stream",
     "text": [
      "MACD Line greater than signal line:  ['id: 1, symbol: BTC, name: BITCOIN', 'id: 1027, symbol: ETH, name: ETHEREUM', 'id: 1839, symbol: BNB, name: BNB', 'id: 52, symbol: XRP, name: XRP', 'id: 3408, symbol: USDC, name: USD COIN', 'id: 8085, symbol: stETH, name: LIDO STAKED ETH', 'id: 2010, symbol: ADA, name: CARDANO', 'id: 74, symbol: DOGE, name: DOGECOIN', 'id: 5426, symbol: SOL, name: SOLANA', 'id: 18579, symbol: WTRX, name: WRAPPED TRON', 'id: 1958, symbol: TRX, name: TRON', 'id: 11419, symbol: TON, name: TONCOIN', 'id: 4943, symbol: DAI, name: DAI', 'id: 6636, symbol: DOT, name: POLKADOT', 'id: 3890, symbol: MATIC, name: POLYGON', 'id: 2, symbol: LTC, name: LITECOIN', 'id: 3717, symbol: WBTC, name: WRAPPED BITCOIN', 'id: 1831, symbol: BCH, name: BITCOIN CASH', 'id: 5805, symbol: AVAX, name: AVALANCHE', 'id: 1975, symbol: LINK, name: CHAINLINK', 'id: 512, symbol: XLM, name: STELLAR', 'id: 328, symbol: XMR, name: MONERO', 'id: 7083, symbol: UNI, name: UNISWAP', 'id: 3794, symbol: ATOM, name: COSMOS', 'id: 1321, symbol: ETC, name: ETHEREUM CLASSIC', 'id: 2027, symbol: CNX, name: CRYPTONEX', 'id: 8916, symbol: ICP, name: INTERNET COMPUTER', 'id: 2280, symbol: FIL, name: FILECOIN', 'id: 8000, symbol: LDO, name: LIDO DAO', 'id: 4023, symbol: BTCB, name: BITCOIN BEP2', 'id: 3635, symbol: CRO, name: CRONOS', 'id: 21794, symbol: APT, name: APTOS', 'id: 3155, symbol: QNT, name: QUANT', 'id: 3077, symbol: VET, name: VECHAIN', 'id: 1518, symbol: MKR, name: MAKER', 'id: 6535, symbol: NEAR, name: NEAR PROTOCOL', 'id: 7278, symbol: AAVE, name: AAVE', 'id: 20396, symbol: KAS, name: KASPA', 'id: 6719, symbol: GRT, name: THE GRAPH', 'id: 4030, symbol: ALGO, name: ALGORAND', 'id: 5015, symbol: HEX, name: HEX', 'id: 2011, symbol: XTZ, name: TEZOS', 'id: 4847, symbol: STX, name: STACKS', 'id: 1765, symbol: EOS, name: EOS', 'id: 6783, symbol: AXS, name: AXIE INFINITY', 'id: 6892, symbol: EGLD, name: MULTIVERSX', 'id: 6210, symbol: SAND, name: THE SANDBOX', 'id: 2416, symbol: THETA, name: THETA NETWORK', 'id: 2586, symbol: SNX, name: SYNTHETIX', 'id: 10603, symbol: IMX, name: IMMUTABLEX', 'id: 11092, symbol: BGB, name: BITGET TOKEN', 'id: 3602, symbol: BSV, name: BITCOIN SV', 'id: 7226, symbol: INJ, name: INJECTIVE', 'id: 3513, symbol: FTM, name: FANTOM', 'id: 1966, symbol: MANA, name: DECENTRALAND', 'id: 7192, symbol: WBNB, name: WRAPPED BNB', 'id: 11948, symbol: XRD, name: RADIX', 'id: 5690, symbol: RNDR, name: RENDER TOKEN', 'id: 1376, symbol: NEO, name: NEO', 'id: 1720, symbol: MIOTA, name: IOTA', 'id: 4846, symbol: KAVA, name: KAVA', 'id: 18876, symbol: APE, name: APECOIN', 'id: 3330, symbol: USDP, name: PAX DOLLAR', 'id: 4705, symbol: PAXG, name: PAX GOLD', 'id: 2943, symbol: RPL, name: ROCKET POOL', 'id: 10791, symbol: XEC, name: ECASH', 'id: 4558, symbol: FLOW, name: FLOW', 'id: 4066, symbol: CHZ, name: CHILIZ', 'id: 7334, symbol: CFX, name: CONFLUX', 'id: 4256, symbol: KLAY, name: KLAYTN', 'id: 1437, symbol: ZEC, name: ZCASH', 'id: 2502, symbol: HT, name: HUOBI TOKEN', 'id: 6538, symbol: CRV, name: CURVE DAO TOKEN', 'id: 2087, symbol: KCS, name: KUCOIN TOKEN', 'id: 16086, symbol: BTT, name: BITTORRENT-NEW', 'id: 4269, symbol: GT, name: GATETOKEN', 'id: 8646, symbol: MINA, name: MINA', 'id: 4172, symbol: LUNC, name: TERRA CLASSIC', 'id: 4195, symbol: FTT, name: FTX TOKEN', 'id: 2694, symbol: NEXO, name: NEXO', 'id: 5692, symbol: COMP, name: COMPOUND', 'id: 9816, symbol: NFT, name: APENFT', 'id: 11857, symbol: GMX, name: GMX', 'id: 5446, symbol: USDJ, name: USDJ', 'id: 131, symbol: DASH, name: DASH', 'id: 5632, symbol: AR, name: ARWEAVE', 'id: 7186, symbol: CAKE, name: PANCAKESWAP', 'id: 5804, symbol: DFI, name: DEFICHAIN', 'id: 1659, symbol: GNO, name: GNOSIS', 'id: 7653, symbol: ROSE, name: OASIS NETWORK', 'id: 2469, symbol: ZIL, name: ZILLIQA', 'id: 2130, symbol: ENJ, name: ENJIN COIN', 'id: 1697, symbol: BAT, name: BASIC ATTENTION TOKEN', 'id: 8104, symbol: 1INCH, name: 1INCH NETWORK', 'id: 1934, symbol: LRC, name: LOOPRING', 'id: 8119, symbol: SFP, name: SAFEPAL', 'id: 2424, symbol: AGIX, name: SINGULARITYNET', 'id: 6941, symbol: HBTC, name: HUOBI BTC', 'id: 1684, symbol: QTUM, name: QTUM', 'id: 13855, symbol: ENS, name: ETHEREUM NAME SERVICE', 'id: 873, symbol: XEM, name: NEM', 'id: 5567, symbol: CELO, name: CELO', 'id: 2083, symbol: BTG, name: BITCOIN GOLD', 'id: 11976, symbol: AZERO, name: ALEPH ZERO', 'id: 8536, symbol: MASK, name: MASK NETWORK', 'id: 9903, symbol: CVX, name: CONVEX FINANCE', 'id: 1168, symbol: DCR, name: DECRED', 'id: 3773, symbol: FET, name: FETCH.AI', 'id: 2299, symbol: ELF, name: AELF', 'id: 3911, symbol: OCEAN, name: OCEAN PROTOCOL', 'id: 3822, symbol: TFUEL, name: THETA FUEL', 'id: 2577, symbol: RVN, name: RAVENCOIN', 'id: 3783, symbol: ANKR, name: ANKR', 'id: 3987, symbol: BDX, name: BELDEX', 'id: 7548, symbol: WEMIX, name: WEMIX', 'id: 5488, symbol: JST, name: JUST', 'id: 8425, symbol: JASMY, name: JASMYCOIN', 'id: 2682, symbol: HOT, name: HOLO', 'id: 5864, symbol: YFI, name: YEARN.FINANCE', 'id: 5728, symbol: BAL, name: BALANCER', 'id: 18069, symbol: GMT, name: STEPN', 'id: 12220, symbol: OSMO, name: OSMOSIS', 'id: 1680, symbol: ANT, name: ARAGON', 'id: 7455, symbol: AUDIO, name: AUDIUS', 'id: 1274, symbol: WAVES, name: WAVES', 'id: 10407, symbol: BabyDoge, name: BABY DOGE COIN', 'id: 1455, symbol: GLM, name: GOLEM', 'id: 5034, symbol: KSM, name: KUSAMA', 'id: 10804, symbol: FLOKI, name: FLOKI', 'id: 2099, symbol: ICX, name: ICON', 'id: 23246, symbol: TOMI, name: TOMINET', 'id: 4512, symbol: LN, name: LINK', 'id: 17751, symbol: T, name: THRESHOLD', 'id: 1042, symbol: SC, name: SIACOIN', 'id: 12999, symbol: SSV, name: SSV.NETWORK', 'id: 20314, symbol: LUNA, name: TERRA', 'id: 4279, symbol: SXP, name: SXP', 'id: 21296, symbol: ETHW, name: ETHEREUMPOW', 'id: 1896, symbol: ZRX, name: 0X', 'id: 2566, symbol: ONT, name: ONTOLOGY', 'id: 13663, symbol: GNS, name: GAINS NETWORK', 'id: 2777, symbol: IOTX, name: IOTEX', 'id: 9481, symbol: PENDLE, name: PENDLE', 'id: 5370, symbol: HIVE, name: HIVE', 'id: 17799, symbol: AXL, name: AXELAR', 'id: 4679, symbol: BAND, name: BAND PROTOCOL', 'id: 9543, symbol: BICO, name: BICONOMY', 'id: 6758, symbol: SUSHI, name: SUSHISWAP', 'id: 9025, symbol: TRIBE, name: TRIBE', 'id: 6836, symbol: GLMR, name: MOONBEAM', 'id: 2405, symbol: IOST, name: IOST', 'id: 2300, symbol: WAXP, name: WAX', 'id: 14101, symbol: RON, name: RONIN', 'id: 3945, symbol: ONE, name: HARMONY', 'id: 2570, symbol: TOMO, name: TOMOCHAIN', 'id: 5647, symbol: KDA, name: KADENA', 'id: 14783, symbol: MAGIC, name: MAGIC', 'id: 4948, symbol: CKB, name: NERVOS NETWORK', 'id: 7129, symbol: USTC, name: TERRACLASSICUSD', 'id: 3029, symbol: FLUX, name: FLUX', 'id: 3801, symbol: BORA, name: BORA', 'id: 109, symbol: DGB, name: DIGIBYTE', 'id: 18934, symbol: STG, name: STARGATE FINANCE', 'id: 8420, symbol: DAO, name: DAO MAKER', 'id: 7958, symbol: vUSDC, name: VENUS USDC', 'id: 6651, symbol: USDX, name: USDX [KAVA]', 'id: 5691, symbol: SKL, name: SKALE', 'id: 7878, symbol: MOB, name: MOBILECOIN', 'id: 5617, symbol: UMA, name: UMA', 'id: 1698, symbol: ZEN, name: HORIZEN', 'id: 9308, symbol: PYR, name: VULCAN FORGED PYR', 'id: 2467, symbol: TRAC, name: ORIGINTRAIL', 'id: 7505, symbol: EVER, name: EVERSCALE', 'id: 5444, symbol: CTSI, name: CARTESI', 'id: 7737, symbol: API3, name: API3', 'id: 3964, symbol: RSR, name: RESERVE RIGHTS', 'id: 9444, symbol: KNC, name: KYBER NETWORK CRYSTAL V2', 'id: 1772, symbol: STORJ, name: STORJ', 'id: 3814, symbol: CELR, name: CELER NETWORK', 'id: 6958, symbol: ACH, name: ALCHEMY PAY', 'id: 1732, symbol: NMR, name: NUMERAIRE', 'id: 1214, symbol: LSK, name: LISK', 'id: 11396, symbol: JOE, name: JOE', 'id: 3626, symbol: RBTC, name: RSK SMART BITCOIN', 'id: 7288, symbol: XVS, name: VENUS', 'id: 6748, symbol: CFG, name: CENTRIFUGE', 'id: 9040, symbol: PUNDIX, name: PUNDI X (NEW)', 'id: 1567, symbol: XNO, name: NANO', 'id: 1759, symbol: SNT, name: STATUS', 'id: 7461, symbol: PLA, name: PLAYDAPP', 'id: 7326, symbol: DEXE, name: DEXE', 'id: 22359, symbol: XPLA, name: XPLA', 'id: 10903, symbol: C98, name: COIN98', 'id: 7429, symbol: LQTY, name: LIQUITY', 'id: 5266, symbol: MLK, name: MIL.K', 'id: 1788, symbol: MTL, name: METAL DAO', 'id: 14519, symbol: VVS, name: VVS FINANCE', 'id: 1637, symbol: RLC, name: IEXEC RLC', 'id: 22461, symbol: HFT, name: HASHFLOW', 'id: 5566, symbol: KEEP, name: KEEP NETWORK', 'id: 9436, symbol: ELON, name: DOGELON MARS', 'id: 6945, symbol: AMP, name: AMP', 'id: 20362, symbol: POLYX, name: POLYMESH', 'id: 21106, symbol: RDNT, name: RADIANT CAPITAL', 'id: 12400, symbol: DEL, name: DECIMAL', 'id: 5113, symbol: SURE, name: INSURE DEFI', 'id: 3217, symbol: ONG, name: ONTOLOGY GAS', 'id: 2394, symbol: TEL, name: TELCOIN', 'id: 5455, symbol: TREX, name: TREXCOIN', 'id: 5908, symbol: DKA, name: DKARGO', 'id: 11079, symbol: BRISE, name: BITGERT', 'id: 3701, symbol: RIF, name: RSK INFRASTRUCTURE FRAMEWORK', 'id: 2982, symbol: MVL, name: MVL', 'id: 6950, symbol: PERP, name: PERPETUAL PROTOCOL', 'id: 5939, symbol: WNXM, name: WRAPPED NXM', 'id: 1230, symbol: STEEM, name: STEEM', 'id: 1816, symbol: CVC, name: CIVIC', 'id: 6843, symbol: RAD, name: RADICLE', 'id: 5268, symbol: EWT, name: ENERGY WEB TOKEN', 'id: 2780, symbol: NKN, name: NKN', 'id: 2454, symbol: UIP, name: UNLIMITEDIP', 'id: 7497, symbol: POND, name: MARLIN', 'id: 2071, symbol: REQ, name: REQUEST', 'id: 2930, symbol: IQ, name: IQ', 'id: 7232, symbol: ALPHA, name: ALPHA VENTURE DAO', 'id: 3835, symbol: ORBS, name: ORBS', 'id: 10052, symbol: GTC, name: GITCOIN', 'id: 541, symbol: SYS, name: SYSCOIN', 'id: 1808, symbol: OMG, name: OMG NETWORK', 'id: 3978, symbol: CHR, name: CHROMIA', 'id: 10223, symbol: VEGA, name: VEGA PROTOCOL', 'id: 1727, symbol: BNT, name: BANCOR', 'id: 17591, symbol: NYM, name: NYM', 'id: 2303, symbol: MED, name: MEDIBLOC', 'id: 4979, symbol: PEG, name: PEGNET', 'id: 1886, symbol: DENT, name: DENT', 'id: 1343, symbol: STRAX, name: STRATIS', 'id: 3012, symbol: VTHO, name: VETHOR TOKEN', 'id: 5824, symbol: SLP, name: SMOOTH LOVE POTION', 'id: 3950, symbol: NTR, name: NETRUM', 'id: 7672, symbol: UNFI, name: UNIFI PROTOCOL DAO', 'id: 1320, symbol: ARDR, name: ARDOR', 'id: 8335, symbol: MDX, name: MDEX', 'id: 5026, symbol: OXT, name: ORCHID', 'id: 4206, symbol: WIN, name: WINKLINK', 'id: 7102, symbol: LINA, name: LINEAR FINANCE', 'id: 1586, symbol: ARK, name: ARK', 'id: 2896, symbol: MFT, name: HIFI FINANCE (OLD)', 'id: 9674, symbol: WILD, name: WILDER WORLD', 'id: 16876, symbol: ALI, name: ARTIFICIAL LIQUID INTELLIGENCE', 'id: 16946, symbol: MCT, name: METACRAFT', 'id: 6841, symbol: PHA, name: PHALA NETWORK', 'id: 11232, symbol: HIGH, name: HIGHSTREET', 'id: 4039, symbol: ARPA, name: ARPA', 'id: 20672, symbol: COL, name: CLASH OF LILLIPUT', 'id: 693, symbol: XVG, name: VERGE', 'id: 5604, symbol: SCRT, name: SECRET', 'id: 8100, symbol: ankrETH, name: ANKR STAKED ETH', 'id: 11307, symbol: BETA, name: BETA FINANCE', 'id: 3884, symbol: FX, name: FUNCTION X', 'id: 5866, symbol: DEXT, name: DEXTOOLS', 'id: 9175, symbol: MBOX, name: MOBOX', 'id: 7242, symbol: CORE, name: CVAULT.FINANCE', 'id: 9640, symbol: METIS, name: METISDAO', 'id: 3992, symbol: COTI, name: COTI', 'id: 10529, symbol: SUN, name: SUN (NEW)', 'id: 19076, symbol: WVLX, name: WRAPPED VELAS', 'id: 23037, symbol: HIFI, name: HIFI FINANCE', 'id: 4807, symbol: CTK, name: SHENTU', 'id: 14806, symbol: PEOPLE, name: CONSTITUTIONDAO', 'id: 7224, symbol: DODO, name: DODO', 'id: 1866, symbol: BTM, name: BYTOM', 'id: 2297, symbol: STMX, name: STORMX', 'id: 2840, symbol: QKC, name: QUARKCHAIN', 'id: 8985, symbol: EFI, name: EFINITY TOKEN', 'id: 13769, symbol: WMT, name: WORLD MOBILE TOKEN', 'id: 2588, symbol: LOOM, name: LOOM NETWORK', 'id: 12089, symbol: CWEB, name: COINWEB', 'id: 4092, symbol: DUSK, name: DUSK NETWORK', 'id: 3316, symbol: AOG, name: SMARTOFGIVING', 'id: 11584, symbol: BTRST, name: BRAINTRUST', 'id: 1757, symbol: FUN, name: FUNTOKEN', 'id: 2539, symbol: REN, name: REN', 'id: 9421, symbol: FORTH, name: AMPLEFORTH GOVERNANCE TOKEN', 'id: 4038, symbol: MBL, name: MOVIEBLOC', 'id: 3855, symbol: LOCUS, name: LOCUS CHAIN', 'id: 11289, symbol: SPELL, name: SPELL TOKEN', 'id: 5117, symbol: OGN, name: ORIGIN PROTOCOL', 'id: 20789, symbol: TSUKA, name: DEJITARU TSUKA', 'id: 6731, symbol: TON, name: TOKAMAK NETWORK', 'id: 22764, symbol: HOOK, name: HOOKED PROTOCOL', 'id: 6928, symbol: BEL, name: BELLA PROTOCOL', 'id: 7046, symbol: GHST, name: AAVEGOTCHI', 'id: 3816, symbol: VRA, name: VERASITY', 'id: 7236, symbol: CUSD, name: CELO DOLLAR', 'id: 268, symbol: XWC, name: WHITECOIN', 'id: 2765, symbol: XYO, name: XYO', 'id: 7150, symbol: FLM, name: FLAMINGO', 'id: 10631, symbol: GODS, name: GODS UNCHAINED', 'id: 4944, symbol: TRB, name: TELLOR', 'id: 8766, symbol: ALICE, name: MYNEIGHBORALICE', 'id: 3637, symbol: AERGO, name: AERGO', 'id: 5198, symbol: CTC, name: CREDITCOIN', 'id: 7859, symbol: BADGER, name: BADGER DAO', 'id: 4090, symbol: WXT, name: WIREX TOKEN', 'id: 8526, symbol: RAY, name: RAYDIUM', 'id: 17917, symbol: RSS3, name: RSS3', 'id: 7692, symbol: EXRD, name: E-RADIX', 'id: 5612, symbol: SSX, name: SOMESING', 'id: 5072, symbol: RKN, name: RAKON', 'id: 9119, symbol: TLM, name: ALIEN WORLDS', 'id: 5161, symbol: WRX, name: WAZIRX', 'id: 5279, symbol: SOLO, name: SOLOGENIC', 'id: 21929, symbol: KWENTA, name: KWENTA', 'id: 2606, symbol: WAN, name: WANCHAIN', 'id: 3930, symbol: TT, name: THUNDERCORE', 'id: 9020, symbol: TKO, name: TOKO TOKEN', 'id: 8911, symbol: STRK, name: STRIKE', 'id: 11568, symbol: AGLD, name: ADVENTURE GOLD', 'id: 4275, symbol: COCOS, name: COCOS-BCX', 'id: 21532, symbol: AURA, name: AURA FINANCE', 'id: 5956, symbol: MCB, name: MUX PROTOCOL', 'id: 6756, symbol: ACA, name: ACALA TOKEN', 'id: 5326, symbol: ORC, name: ORBIT CHAIN', 'id: 21928, symbol: VTS, name: VERITISE', 'id: 2665, symbol: DERO, name: DERO', 'id: 20873, symbol: LEVER, name: LEVERFI', 'id: 1817, symbol: VGX, name: VOYAGER TOKEN', 'id: 3418, symbol: META, name: METADIUM', 'id: 7055, symbol: DPI, name: DEFI PULSE INDEX', 'id: 6216, symbol: AXEL, name: AXEL', 'id: 8936, symbol: TRIAS, name: TRIAS TOKEN (NEW)', 'id: 8642, symbol: FEI, name: FEI USD', 'id: 6951, symbol: REEF, name: REEF', 'id: 9720, symbol: LAT, name: PLATON', 'id: 11374, symbol: DAR, name: MINES OF DALARNIA', 'id: 7725, symbol: TRU, name: TRUEFI', 'id: 5919, symbol: MTRG, name: METER GOVERNANCE', 'id: 8290, symbol: SUPER, name: SUPERVERSE', 'id: 9285, symbol: MOVR, name: MOONRIVER', 'id: 9638, symbol: SDAO, name: SINGULARITYDAO', 'id: 2700, symbol: CEL, name: CELSIUS', 'id: 12749, symbol: NAKA, name: NAKAMOTO GAMES', 'id: 2856, symbol: CEEK, name: CEEK VR', 'id: 10188, symbol: ATA, name: AUTOMATA NETWORK', 'id: 7957, symbol: vUSDT, name: VENUS USDT', 'id: 11346, symbol: RACA, name: RACA', 'id: 3928, symbol: IDEX, name: IDEX', 'id: 1710, symbol: VERI, name: VERITASEUM', 'id: 2348, symbol: MDT, name: MEASURABLE DATA TOKEN', 'id: 8972, symbol: SFUND, name: SEEDIFY.FUND', 'id: 23355, symbol: 0, name: 0X0.AI: AI SMART CONTRACT', 'id: 2273, symbol: UQC, name: UQUID COIN', 'id: 22031, symbol: AGLA, name: ANGOLA', 'id: 3673, symbol: ASD, name: ASD', 'id: 8602, symbol: AUCTION, name: BOUNCE GOVERNANCE TOKEN', 'id: 5380, symbol: HUNT, name: HUNT', 'id: 7064, symbol: BAKE, name: BAKERYTOKEN', 'id: 10746, symbol: BSW, name: BISWAP', 'id: 10750, symbol: QRDO, name: QREDO', 'id: 3795, symbol: ZEON, name: ZEON', 'id: 11294, symbol: RARE, name: SUPERRARE', 'id: 7281, symbol: XPRT, name: PERSISTENCE', 'id: 9071, symbol: CHNG, name: CHAINGE', 'id: 21997, symbol: WAIT, name: HOURGLASS', 'id: 3874, symbol: IRIS, name: IRISNET', 'id: 20513, symbol: SAITAMA, name: SAITAMA', 'id: 6727, symbol: RSV, name: RESERVE', 'id: 8615, symbol: ERN, name: ETHERNITY', 'id: 8296, symbol: KSP, name: KLAYSWAP PROTOCOL', 'id: 2320, symbol: UTK, name: UTRUST', 'id: 463, symbol: BTS, name: BITSHARES', 'id: 2866, symbol: UPP, name: SENTINEL PROTOCOL', 'id: 19966, symbol: QUICK, name: QUICKSWAP[NEW]', 'id: 2915, symbol: MOC, name: MOSS COIN', 'id: 213, symbol: MONA, name: MONACOIN', 'id: 2638, symbol: CTXC, name: CORTEX', 'id: 8292, symbol: ROUTE, name: ROUTER PROTOCOL', 'id: 6138, symbol: DIA, name: DIA', 'id: 1993, symbol: KIN, name: KIN', 'id: 10180, symbol: GMT, name: GMT TOKEN', 'id: 7208, symbol: POLS, name: POLKASTARTER', 'id: 13969, symbol: PHB, name: PHOENIX', 'id: 2398, symbol: KEY, name: SELFKEY', 'id: 3095, symbol: NBC, name: NIOBIUM COIN', 'id: 6833, symbol: LIT, name: LITENTRY', 'id: 19819, symbol: REI, name: REI NETWORK', 'id: 7311, symbol: BIFI, name: BEEFY FINANCE', 'id: 11206, symbol: BLOK, name: BLOKTOPIA', 'id: 6641, symbol: AHT, name: AHATOKEN', 'id: 2553, symbol: RFR, name: REFEREUM', 'id: 1856, symbol: DNT, name: DISTRICT0X', 'id: 8384, symbol: CLV, name: CLV', 'id: 9637, symbol: ALU, name: ALTURA', 'id: 8037, symbol: TVK, name: VIRTUA']\n"
     ]
    }
   ],
   "source": [
    "macd_above_signal = []\n",
    "\n",
    "for index, row in cryptoverse_df.iterrows():\n",
    "    id = row['id']\n",
    "    name = row['cryptoName']\n",
    "    symbol = row['symbol']\n",
    "\n",
    "    macd_df = macd(cryptoverse_prices[id])\n",
    "    last_row_macd = macd_df.iloc[-1]\n",
    "    if (last_row_macd['macd'] > last_row_macd['signal']):\n",
    "        macd_above_signal.append(f\"id: {id}, symbol: {symbol}, name: {name}\")\n",
    "\n",
    "print(\"MACD Line greater than signal line: \", macd_above_signal)"
   ]
  },
  {
   "cell_type": "markdown",
   "metadata": {},
   "source": [
    "## Bollinger Bands\n",
    "\n"
   ]
  },
  {
   "cell_type": "code",
   "execution_count": 6,
   "metadata": {},
   "outputs": [
    {
     "name": "stdout",
     "output_type": "stream",
     "text": [
      "Previous close below lower band:  ['id: 6952, symbol: FRAX, name: FRAX', 'id: 8677, symbol: XYM, name: SYMBOL', 'id: 21178, symbol: MRS, name: METARS GENESIS', 'id: 5919, symbol: MTRG, name: METER GOVERNANCE', 'id: 15447, symbol: LYRA, name: LYRA', 'id: 4950, symbol: LCX, name: LCX', 'id: 4064, symbol: USDK, name: USDK']\n"
     ]
    }
   ],
   "source": [
    "below_lower_band = []\n",
    "\n",
    "for index, row in cryptoverse_df.iterrows():\n",
    "    id = row['id']\n",
    "    name = row['cryptoName']\n",
    "    symbol = row['symbol']\n",
    "\n",
    "    bb_df = bollinger_bands(cryptoverse_prices[id])\n",
    "    last_row_bb = bb_df.iloc[-1]\n",
    "    if (last_row_bb['close'] < last_row_bb['lower_band']):\n",
    "        below_lower_band.append(f\"id: {id}, symbol: {symbol}, name: {name}\")\n",
    "\n",
    "print(\"Previous close below lower band: \", below_lower_band)"
   ]
  },
  {
   "cell_type": "markdown",
   "metadata": {},
   "source": [
    "## Average True Range\n",
    "\n",
    "The ATR is a moving average of the true ranges. The true range is the maximum value of:  \n",
    "1. current high minus current low\n",
    "2. absolute value of current high - previous close\n",
    "3. absolute value of currenty low - previous close\n",
    "\n",
    "Generally, people use 14 peroids\n",
    "\n",
    "\n"
   ]
  },
  {
   "cell_type": "code",
   "execution_count": 7,
   "metadata": {},
   "outputs": [
    {
     "name": "stdout",
     "output_type": "stream",
     "text": [
      "Significant drops based on ATR:  ['id: 3718, symbol: BTTOLD, name: BITTORRENT', 'id: 5190, symbol: FLEX, name: FLEX', 'id: 3089, symbol: AVINOC, name: AVINOC']\n"
     ]
    }
   ],
   "source": [
    "significant_drop = []\n",
    "\n",
    "for index, row in cryptoverse_df.iterrows():\n",
    "    id = row['id']\n",
    "    name = row['cryptoName']\n",
    "    symbol = row['symbol']\n",
    "\n",
    "    atr_df = average_true_range(cryptoverse_prices[id])\n",
    "    last_row_atr = atr_df.iloc[-1]\n",
    "\n",
    "    atr_value = last_row_atr['ATR']\n",
    "    last_close = last_row_atr['close']\n",
    "\n",
    "    if last_close < atr_value * 2:\n",
    "        significant_drop.append(f\"id: {id}, symbol: {symbol}, name: {name}\")\n",
    "\n",
    "print(\"Significant drops based on ATR: \", significant_drop)"
   ]
  },
  {
   "cell_type": "markdown",
   "metadata": {},
   "source": [
    "## Average Directional Index (ADX)\n",
    "\n",
    "Measure the strength of a trend, irrespective of its direction. It doesn't tell you whether the trend is bullish or bearish, but rather how strong or weak the trend is.\n",
    "\n",
    "0-25: Absent or weak trend\n",
    "25-50: Strong trend\n",
    "50-75: Very strong trend\n",
    "75-100: Extremely strong trend\n"
   ]
  },
  {
   "cell_type": "code",
   "execution_count": 9,
   "metadata": {},
   "outputs": [
    {
     "name": "stdout",
     "output_type": "stream",
     "text": [
      "Cryptos in a strong trend:  ['id: 2087, symbol: KCS, name: KUCOIN TOKEN', 'id: 5864, symbol: YFI, name: YEARN.FINANCE', 'id: 1567, symbol: XNO, name: NANO', 'id: 5455, symbol: TREX, name: TREXCOIN', 'id: 17591, symbol: NYM, name: NYM', 'id: 7959, symbol: vBUSD, name: VENUS BUSD', 'id: 3600, symbol: HUM, name: HUMANSCAPE', 'id: 18031, symbol: CCD, name: CONCORDIUM', 'id: 7150, symbol: FLM, name: FLAMINGO', 'id: 4944, symbol: TRB, name: TELLOR', 'id: 5072, symbol: RKN, name: RAKON', 'id: 5956, symbol: MCB, name: MUX PROTOCOL', 'id: 2492, symbol: ELA, name: ELASTOS', 'id: 22031, symbol: AGLA, name: ANGOLA', 'id: 6727, symbol: RSV, name: RESERVE', 'id: 8296, symbol: KSP, name: KLAYSWAP PROTOCOL', 'id: 3089, symbol: AVINOC, name: AVINOC']\n"
     ]
    }
   ],
   "source": [
    "strong_trend = []\n",
    "\n",
    "for index, row in cryptoverse_df.iterrows():\n",
    "    id = row['id']\n",
    "    name = row['cryptoName']\n",
    "    symbol = row['symbol']\n",
    "\n",
    "    adx_df = average_directional_index(cryptoverse_prices[id])\n",
    "    last_row_adx = adx_df.iloc[-1]\n",
    "\n",
    "    adx_value = last_row_adx['adx']\n",
    "    last_close = last_row_adx['close']\n",
    "\n",
    "    if adx_value > 75:\n",
    "        strong_trend.append(f\"id: {id}, symbol: {symbol}, name: {name}\")\n",
    "\n",
    "print(\"Cryptos in a strong trend: \", strong_trend)"
   ]
  },
  {
   "cell_type": "markdown",
   "metadata": {},
   "source": [
    "## Stochastic Oscillator\n",
    "\n",
    "Measure the position of the current closing price relative to the high and low range over a specified number of periods, typically 14."
   ]
  },
  {
   "cell_type": "code",
   "execution_count": 12,
   "metadata": {},
   "outputs": [
    {
     "name": "stdout",
     "output_type": "stream",
     "text": [
      "Oversold according to Stochastic Oscillator:  ['id: 1958, symbol: TRX, name: TRON', 'id: 512, symbol: XLM, name: STELLAR', 'id: 11948, symbol: XRD, name: RADIX', 'id: 4157, symbol: RUNE, name: THORCHAIN', 'id: 1720, symbol: MIOTA, name: IOTA', 'id: 2502, symbol: HT, name: HUOBI TOKEN', 'id: 5830, symbol: NXM, name: NXM', 'id: 5804, symbol: DFI, name: DEFICHAIN', 'id: 8119, symbol: SFP, name: SAFEPAL', 'id: 8425, symbol: JASMY, name: JASMYCOIN', 'id: 1680, symbol: ANT, name: ARAGON', 'id: 23246, symbol: TOMI, name: TOMINET', 'id: 2570, symbol: TOMO, name: TOMOCHAIN', 'id: 5647, symbol: KDA, name: KADENA', 'id: 4948, symbol: CKB, name: NERVOS NETWORK', 'id: 7958, symbol: vUSDC, name: VENUS USDC', 'id: 6651, symbol: USDX, name: USDX [KAVA]', 'id: 5691, symbol: SKL, name: SKALE', 'id: 6958, symbol: ACH, name: ALCHEMY PAY', 'id: 1788, symbol: MTL, name: METAL DAO', 'id: 5455, symbol: TREX, name: TREXCOIN', 'id: 6950, symbol: PERP, name: PERPETUAL PROTOCOL', 'id: 2780, symbol: NKN, name: NKN', 'id: 2454, symbol: UIP, name: UNLIMITEDIP', 'id: 3950, symbol: NTR, name: NETRUM', 'id: 8335, symbol: MDX, name: MDEX', 'id: 7242, symbol: CORE, name: CVAULT.FINANCE', 'id: 3992, symbol: COTI, name: COTI', 'id: 3600, symbol: HUM, name: HUMANSCAPE', 'id: 1866, symbol: BTM, name: BYTOM', 'id: 11584, symbol: BTRST, name: BRAINTRUST', 'id: 11289, symbol: SPELL, name: SPELL TOKEN', 'id: 268, symbol: XWC, name: WHITECOIN', 'id: 4090, symbol: WXT, name: WIREX TOKEN', 'id: 7692, symbol: EXRD, name: E-RADIX', 'id: 5072, symbol: RKN, name: RAKON', 'id: 4275, symbol: COCOS, name: COCOS-BCX', 'id: 5956, symbol: MCB, name: MUX PROTOCOL', 'id: 20873, symbol: LEVER, name: LEVERFI', 'id: 8642, symbol: FEI, name: FEI USD', 'id: 6951, symbol: REEF, name: REEF', 'id: 7725, symbol: TRU, name: TRUEFI', 'id: 2700, symbol: CEL, name: CELSIUS', 'id: 10188, symbol: ATA, name: AUTOMATA NETWORK', 'id: 7957, symbol: vUSDT, name: VENUS USDT', 'id: 1710, symbol: VERI, name: VERITASEUM', 'id: 2348, symbol: MDT, name: MEASURABLE DATA TOKEN', 'id: 11294, symbol: RARE, name: SUPERRARE', 'id: 6138, symbol: DIA, name: DIA', 'id: 7208, symbol: POLS, name: POLKASTARTER', 'id: 13969, symbol: PHB, name: PHOENIX', 'id: 2398, symbol: KEY, name: SELFKEY', 'id: 3095, symbol: NBC, name: NIOBIUM COIN', 'id: 19819, symbol: REI, name: REI NETWORK']\n"
     ]
    }
   ],
   "source": [
    "oversold_so = []\n",
    "\n",
    "for index, row in cryptoverse_df.iterrows():\n",
    "    id = row['id']\n",
    "    name = row['cryptoName']\n",
    "    symbol = row['symbol']\n",
    "\n",
    "    so_df = stochastic_oscillator(cryptoverse_prices[id])\n",
    "    last_row_so = so_df.iloc[-1]\n",
    "\n",
    "    percent_k = last_row_so['%K']\n",
    "    percent_d = last_row_so['%D']\n",
    "\n",
    "    if (percent_k) > 80:\n",
    "        oversold_so.append(f\"id: {id}, symbol: {symbol}, name: {name}\")\n",
    "\n",
    "print('Oversold according to Stochastic Oscillator: ', oversold_so)"
   ]
  }
 ],
 "metadata": {
  "kernelspec": {
   "display_name": ".venv",
   "language": "python",
   "name": "python3"
  },
  "language_info": {
   "codemirror_mode": {
    "name": "ipython",
    "version": 3
   },
   "file_extension": ".py",
   "mimetype": "text/x-python",
   "name": "python",
   "nbconvert_exporter": "python",
   "pygments_lexer": "ipython3",
   "version": "3.9.6"
  },
  "orig_nbformat": 4
 },
 "nbformat": 4,
 "nbformat_minor": 2
}
