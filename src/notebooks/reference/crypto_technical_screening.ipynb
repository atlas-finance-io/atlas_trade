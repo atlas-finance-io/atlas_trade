{
 "cells": [
  {
   "cell_type": "markdown",
   "metadata": {},
   "source": [
    "# Crypto Technical Screening\n",
    "\n",
    "Here, we'll do some technical screening and explore ways to combine various technical indicators in our crypto universe"
   ]
  },
  {
   "cell_type": "code",
   "execution_count": 10,
   "metadata": {},
   "outputs": [
    {
     "name": "stderr",
     "output_type": "stream",
     "text": [
      "/Users/markwindsor/Desktop/atlas_trade/.venv/lib/python3.9/site-packages/pandas/core/arraylike.py:396: RuntimeWarning: divide by zero encountered in log\n",
      "  result = getattr(ufunc, method)(*inputs, **kwargs)\n",
      "/Users/markwindsor/Desktop/atlas_trade/.venv/lib/python3.9/site-packages/numpy/core/fromnumeric.py:59: RuntimeWarning: invalid value encountered in accumulate\n",
      "  return bound(*args, **kwds)\n",
      "/Users/markwindsor/Desktop/atlas_trade/.venv/lib/python3.9/site-packages/pandas/core/arraylike.py:396: RuntimeWarning: divide by zero encountered in log\n",
      "  result = getattr(ufunc, method)(*inputs, **kwargs)\n",
      "/Users/markwindsor/Desktop/atlas_trade/.venv/lib/python3.9/site-packages/numpy/core/fromnumeric.py:59: RuntimeWarning: invalid value encountered in accumulate\n",
      "  return bound(*args, **kwds)\n",
      "/Users/markwindsor/Desktop/atlas_trade/.venv/lib/python3.9/site-packages/pandas/core/arraylike.py:396: RuntimeWarning: divide by zero encountered in log\n",
      "  result = getattr(ufunc, method)(*inputs, **kwargs)\n",
      "/Users/markwindsor/Desktop/atlas_trade/.venv/lib/python3.9/site-packages/numpy/core/fromnumeric.py:59: RuntimeWarning: invalid value encountered in accumulate\n",
      "  return bound(*args, **kwds)\n",
      "/Users/markwindsor/Desktop/atlas_trade/.venv/lib/python3.9/site-packages/pandas/core/arraylike.py:396: RuntimeWarning: divide by zero encountered in log\n",
      "  result = getattr(ufunc, method)(*inputs, **kwargs)\n",
      "/Users/markwindsor/Desktop/atlas_trade/.venv/lib/python3.9/site-packages/numpy/core/fromnumeric.py:59: RuntimeWarning: invalid value encountered in accumulate\n",
      "  return bound(*args, **kwds)\n"
     ]
    }
   ],
   "source": [
    "import requests\n",
    "import pandas as pd\n",
    "import numpy as np\n",
    "import sys\n",
    "sys.path.append('/Users/markwindsor/Desktop/atlas_trade')\n",
    "from src.utils.technical_indicators import *\n",
    "\n",
    "# Use your absolute path to our top 500 coins csv\n",
    "top_coins_path = '/Users/markwindsor/Desktop/atlas_trade/src/data/top_coins.csv'\n",
    "\n",
    "cryptoverse_df = pd.read_csv(top_coins_path)\n",
    "\n",
    "# We'll load some price data into our dictionary \n",
    "cryptoverse_prices = {}\n",
    "\n",
    "for index, row in cryptoverse_df.iterrows():\n",
    "    id = row['id']\n",
    "    name = row['cryptoName']\n",
    "    symbol = row['symbol']\n",
    "\n",
    "    # Retrieves OHLCV and mcap data \n",
    "    url = f\"https://91j3dag4m9.execute-api.us-east-1.amazonaws.com/master/getCMCPriceHistory/{id}?startDate=2021-01-01\"\n",
    "    response = requests.get(url)\n",
    "    data = response.json()\n",
    "    table = []\n",
    "    # Response gives us o,h,l,c,v,mcap keys which we need to change our column names like open, close etc...\n",
    "    # because thats what our utility functions accept such as our technical indicator functions\n",
    "    for entry in data[\"priceHistory\"]:\n",
    "        table.append([\n",
    "            entry[\"o\"],\n",
    "            entry[\"h\"],\n",
    "            entry[\"l\"],\n",
    "            entry[\"c\"],\n",
    "            entry[\"v\"],\n",
    "            entry[\"mcap\"]\n",
    "        ])\n",
    "\n",
    "    # Create a DataFrame from the extracted data\n",
    "    columns = [\"open\", \"high\", \"low\", \"close\", \"volume\", \"marketCap\"]\n",
    "    prices_df = pd.DataFrame(table, columns=columns)\n",
    "    prices_df[\"log_returns\"] = np.log(prices_df.close / prices_df.close.shift(1))\n",
    "    prices_df[\"cumulative_log_returns\"] = prices_df[\"log_returns\"].cumsum()\n",
    "    cryptoverse_prices[id] = prices_df\n"
   ]
  },
  {
   "cell_type": "markdown",
   "metadata": {},
   "source": [
    "## RSI\n",
    "\n",
    "Lets start with the RSI. Here, we'll explore screening the top cryptos with regards to the RSI. 0-30 = oversold, 30-70 = Neutral, 70-100 = Overbought"
   ]
  },
  {
   "cell_type": "code",
   "execution_count": 11,
   "metadata": {},
   "outputs": [
    {
     "name": "stdout",
     "output_type": "stream",
     "text": [
      "RSI Below 30 (Oversold):  ['id: 4642, symbol: HBAR, name: HEDERA', 'id: 11840, symbol: OP, name: OPTIMISM', 'id: 2087, symbol: KCS, name: KUCOIN TOKEN', 'id: 7080, symbol: GALA, name: GALA', 'id: 5692, symbol: COMP, name: COMPOUND', 'id: 4041, symbol: MX, name: MX TOKEN', 'id: 9258, symbol: XCH, name: CHIA', 'id: 11865, symbol: BONE, name: BONE SHIBASWAP', 'id: 12220, symbol: OSMO, name: OSMOSIS', 'id: 8677, symbol: XYM, name: SYMBOL', 'id: 14783, symbol: MAGIC, name: MAGIC', 'id: 23254, symbol: CORE, name: CORE DAO', 'id: 5190, symbol: FLEX, name: FLEX', 'id: 11079, symbol: BRISE, name: BITGERT', 'id: 2132, symbol: POWR, name: POWERLEDGER', 'id: 17591, symbol: NYM, name: NYM', 'id: 22265, symbol: OAS, name: OASYS', 'id: 1762, symbol: ERG, name: ERGO', 'id: 9674, symbol: WILD, name: WILDER WORLD', 'id: 20886, symbol: ASTRAFER, name: ASTRAFER', 'id: 21178, symbol: MRS, name: METARS GENESIS', 'id: 3600, symbol: HUM, name: HUMANSCAPE', 'id: 12147, symbol: SYN, name: SYNAPSE', 'id: 4189, symbol: UOS, name: ULTRA', 'id: 18031, symbol: CCD, name: CONCORDIUM', 'id: 18895, symbol: MBX, name: MARBLEX', 'id: 21532, symbol: AURA, name: AURA FINANCE', 'id: 21928, symbol: VTS, name: VERITISE', 'id: 2868, symbol: DAG, name: CONSTELLATION', 'id: 3951, symbol: ARRR, name: PIRATE CHAIN', 'id: 2856, symbol: CEEK, name: CEEK VR', 'id: 9286, symbol: LEASH, name: DOGE KILLER', 'id: 5618, symbol: DAWN, name: DAWN PROTOCOL', 'id: 15447, symbol: LYRA, name: LYRA', 'id: 4950, symbol: LCX, name: LCX', 'id: 1521, symbol: KMD, name: KOMODO', 'id: 8296, symbol: KSP, name: KLAYSWAP PROTOCOL', 'id: 5947, symbol: TPT, name: TOKENPOCKET', 'id: 1312, symbol: SBD, name: STEEM DOLLARS', 'id: 5225, symbol: BAR, name: FC BARCELONA FAN TOKEN', 'id: 2553, symbol: RFR, name: REFEREUM', 'id: 2776, symbol: AVA, name: TRAVALA.COM']\n",
      "RSI 70 - 100 (Overbought):  ['id: 3408, symbol: USDC, name: USD COIN', 'id: 11419, symbol: TON, name: TONCOIN', 'id: 1720, symbol: MIOTA, name: IOTA', 'id: 5804, symbol: DFI, name: DEFICHAIN', 'id: 8425, symbol: JASMY, name: JASMYCOIN', 'id: 3029, symbol: FLUX, name: FLUX', 'id: 6651, symbol: USDX, name: USDX [KAVA]', 'id: 7288, symbol: XVS, name: VENUS', 'id: 5455, symbol: TREX, name: TREXCOIN', 'id: 2982, symbol: MVL, name: MVL', 'id: 6950, symbol: PERP, name: PERPETUAL PROTOCOL', 'id: 2454, symbol: UIP, name: UNLIMITEDIP', 'id: 10052, symbol: GTC, name: GITCOIN', 'id: 10223, symbol: VEGA, name: VEGA PROTOCOL', 'id: 4979, symbol: PEG, name: PEGNET', 'id: 3950, symbol: NTR, name: NETRUM', 'id: 7672, symbol: UNFI, name: UNIFI PROTOCOL DAO', 'id: 7959, symbol: vBUSD, name: VENUS BUSD', 'id: 1586, symbol: ARK, name: ARK', 'id: 5866, symbol: DEXT, name: DEXTOOLS', 'id: 19076, symbol: WVLX, name: WRAPPED VELAS', 'id: 8985, symbol: EFI, name: EFINITY TOKEN', 'id: 4092, symbol: DUSK, name: DUSK NETWORK', 'id: 9421, symbol: FORTH, name: AMPLEFORTH GOVERNANCE TOKEN', 'id: 20789, symbol: TSUKA, name: DEJITARU TSUKA', 'id: 4944, symbol: TRB, name: TELLOR', 'id: 5956, symbol: MCB, name: MUX PROTOCOL', 'id: 8936, symbol: TRIAS, name: TRIAS TOKEN (NEW)', 'id: 6951, symbol: REEF, name: REEF', 'id: 10188, symbol: ATA, name: AUTOMATA NETWORK', 'id: 1710, symbol: VERI, name: VERITASEUM', 'id: 2348, symbol: MDT, name: MEASURABLE DATA TOKEN', 'id: 22031, symbol: AGLA, name: ANGOLA', 'id: 3673, symbol: ASD, name: ASD', 'id: 6727, symbol: RSV, name: RESERVE', 'id: 13969, symbol: PHB, name: PHOENIX', 'id: 19819, symbol: REI, name: REI NETWORK']\n"
     ]
    }
   ],
   "source": [
    "oversold = []\n",
    "overbought = []\n",
    "\n",
    "for index, row in cryptoverse_df.iterrows():\n",
    "    id = row['id']\n",
    "    name = row['cryptoName']\n",
    "    symbol = row['symbol']\n",
    "\n",
    "    rsi_df = relative_strength_index(cryptoverse_prices[id])\n",
    "    last_row_rsi = rsi_df.iloc[-1]\n",
    "    if (last_row_rsi['rsi'] < 30 and last_row_rsi['rsi'] > 0):\n",
    "        oversold.append(f\"id: {id}, symbol: {symbol}, name: {name}\")\n",
    "    if (last_row_rsi['rsi'] < 100 and last_row_rsi['rsi'] > 70):\n",
    "        overbought.append(f\"id: {id}, symbol: {symbol}, name: {name}\")\n",
    "\n",
    "print('RSI Below 30 (Oversold): ', oversold)\n",
    "print('RSI 70 - 100 (Overbought): ', overbought)\n"
   ]
  },
  {
   "cell_type": "markdown",
   "metadata": {},
   "source": [
    "## MACD\n",
    "\n",
    "Lets explore the macd"
   ]
  },
  {
   "cell_type": "code",
   "execution_count": 12,
   "metadata": {},
   "outputs": [
    {
     "ename": "KeyError",
     "evalue": "1",
     "output_type": "error",
     "traceback": [
      "\u001b[0;31m---------------------------------------------------------------------------\u001b[0m",
      "\u001b[0;31mKeyError\u001b[0m                                  Traceback (most recent call last)",
      "File \u001b[0;32m~/Desktop/atlas_trade/.venv/lib/python3.9/site-packages/pandas/core/indexes/base.py:3653\u001b[0m, in \u001b[0;36mIndex.get_loc\u001b[0;34m(self, key)\u001b[0m\n\u001b[1;32m   3652\u001b[0m \u001b[39mtry\u001b[39;00m:\n\u001b[0;32m-> 3653\u001b[0m     \u001b[39mreturn\u001b[39;00m \u001b[39mself\u001b[39;49m\u001b[39m.\u001b[39;49m_engine\u001b[39m.\u001b[39;49mget_loc(casted_key)\n\u001b[1;32m   3654\u001b[0m \u001b[39mexcept\u001b[39;00m \u001b[39mKeyError\u001b[39;00m \u001b[39mas\u001b[39;00m err:\n",
      "File \u001b[0;32m~/Desktop/atlas_trade/.venv/lib/python3.9/site-packages/pandas/_libs/index.pyx:147\u001b[0m, in \u001b[0;36mpandas._libs.index.IndexEngine.get_loc\u001b[0;34m()\u001b[0m\n",
      "File \u001b[0;32m~/Desktop/atlas_trade/.venv/lib/python3.9/site-packages/pandas/_libs/index.pyx:176\u001b[0m, in \u001b[0;36mpandas._libs.index.IndexEngine.get_loc\u001b[0;34m()\u001b[0m\n",
      "File \u001b[0;32mpandas/_libs/hashtable_class_helper.pxi:7080\u001b[0m, in \u001b[0;36mpandas._libs.hashtable.PyObjectHashTable.get_item\u001b[0;34m()\u001b[0m\n",
      "File \u001b[0;32mpandas/_libs/hashtable_class_helper.pxi:7088\u001b[0m, in \u001b[0;36mpandas._libs.hashtable.PyObjectHashTable.get_item\u001b[0;34m()\u001b[0m\n",
      "\u001b[0;31mKeyError\u001b[0m: 1",
      "\nThe above exception was the direct cause of the following exception:\n",
      "\u001b[0;31mKeyError\u001b[0m                                  Traceback (most recent call last)",
      "Cell \u001b[0;32mIn[12], line 8\u001b[0m\n\u001b[1;32m      5\u001b[0m name \u001b[39m=\u001b[39m row[\u001b[39m'\u001b[39m\u001b[39mcryptoName\u001b[39m\u001b[39m'\u001b[39m]\n\u001b[1;32m      6\u001b[0m symbol \u001b[39m=\u001b[39m row[\u001b[39m'\u001b[39m\u001b[39msymbol\u001b[39m\u001b[39m'\u001b[39m]\n\u001b[0;32m----> 8\u001b[0m macd_df \u001b[39m=\u001b[39m macd(cryptoverse_df[\u001b[39mid\u001b[39;49m])\n\u001b[1;32m      9\u001b[0m last_row_macd \u001b[39m=\u001b[39m macd_df\u001b[39m.\u001b[39miloc[\u001b[39m-\u001b[39m\u001b[39m1\u001b[39m]\n\u001b[1;32m     10\u001b[0m \u001b[39mif\u001b[39;00m (last_row_macd[\u001b[39m'\u001b[39m\u001b[39mmacd\u001b[39m\u001b[39m'\u001b[39m] \u001b[39m>\u001b[39m last_row_macd[\u001b[39m'\u001b[39m\u001b[39msignal\u001b[39m\u001b[39m'\u001b[39m]):\n",
      "File \u001b[0;32m~/Desktop/atlas_trade/.venv/lib/python3.9/site-packages/pandas/core/frame.py:3761\u001b[0m, in \u001b[0;36mDataFrame.__getitem__\u001b[0;34m(self, key)\u001b[0m\n\u001b[1;32m   3759\u001b[0m \u001b[39mif\u001b[39;00m \u001b[39mself\u001b[39m\u001b[39m.\u001b[39mcolumns\u001b[39m.\u001b[39mnlevels \u001b[39m>\u001b[39m \u001b[39m1\u001b[39m:\n\u001b[1;32m   3760\u001b[0m     \u001b[39mreturn\u001b[39;00m \u001b[39mself\u001b[39m\u001b[39m.\u001b[39m_getitem_multilevel(key)\n\u001b[0;32m-> 3761\u001b[0m indexer \u001b[39m=\u001b[39m \u001b[39mself\u001b[39;49m\u001b[39m.\u001b[39;49mcolumns\u001b[39m.\u001b[39;49mget_loc(key)\n\u001b[1;32m   3762\u001b[0m \u001b[39mif\u001b[39;00m is_integer(indexer):\n\u001b[1;32m   3763\u001b[0m     indexer \u001b[39m=\u001b[39m [indexer]\n",
      "File \u001b[0;32m~/Desktop/atlas_trade/.venv/lib/python3.9/site-packages/pandas/core/indexes/base.py:3655\u001b[0m, in \u001b[0;36mIndex.get_loc\u001b[0;34m(self, key)\u001b[0m\n\u001b[1;32m   3653\u001b[0m     \u001b[39mreturn\u001b[39;00m \u001b[39mself\u001b[39m\u001b[39m.\u001b[39m_engine\u001b[39m.\u001b[39mget_loc(casted_key)\n\u001b[1;32m   3654\u001b[0m \u001b[39mexcept\u001b[39;00m \u001b[39mKeyError\u001b[39;00m \u001b[39mas\u001b[39;00m err:\n\u001b[0;32m-> 3655\u001b[0m     \u001b[39mraise\u001b[39;00m \u001b[39mKeyError\u001b[39;00m(key) \u001b[39mfrom\u001b[39;00m \u001b[39merr\u001b[39;00m\n\u001b[1;32m   3656\u001b[0m \u001b[39mexcept\u001b[39;00m \u001b[39mTypeError\u001b[39;00m:\n\u001b[1;32m   3657\u001b[0m     \u001b[39m# If we have a listlike key, _check_indexing_error will raise\u001b[39;00m\n\u001b[1;32m   3658\u001b[0m     \u001b[39m#  InvalidIndexError. Otherwise we fall through and re-raise\u001b[39;00m\n\u001b[1;32m   3659\u001b[0m     \u001b[39m#  the TypeError.\u001b[39;00m\n\u001b[1;32m   3660\u001b[0m     \u001b[39mself\u001b[39m\u001b[39m.\u001b[39m_check_indexing_error(key)\n",
      "\u001b[0;31mKeyError\u001b[0m: 1"
     ]
    }
   ],
   "source": [
    "macd_above_signal = []\n",
    "\n",
    "for index, row in cryptoverse_df.iterrows():\n",
    "    id = row['id']\n",
    "    name = row['cryptoName']\n",
    "    symbol = row['symbol']\n",
    "\n",
    "    macd_df = macd(cryptoverse_prices[id])\n",
    "    last_row_macd = macd_df.iloc[-1]\n",
    "    if (last_row_macd['macd'] > last_row_macd['signal']):\n",
    "        macd_above_signal.append(f\"id: {id}, symbol: {symbol}, name: {name}\")\n",
    "\n",
    "print(\"MACD Line greater than signal line: \", macd_above_signal)"
   ]
  }
 ],
 "metadata": {
  "kernelspec": {
   "display_name": ".venv",
   "language": "python",
   "name": "python3"
  },
  "language_info": {
   "codemirror_mode": {
    "name": "ipython",
    "version": 3
   },
   "file_extension": ".py",
   "mimetype": "text/x-python",
   "name": "python",
   "nbconvert_exporter": "python",
   "pygments_lexer": "ipython3",
   "version": "3.9.6"
  },
  "orig_nbformat": 4
 },
 "nbformat": 4,
 "nbformat_minor": 2
}
