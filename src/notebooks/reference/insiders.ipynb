{
 "cells": [
  {
   "cell_type": "markdown",
   "metadata": {},
   "source": [
    "# Insiders Analysis\n",
    "\n",
    "Transaction Codes\n",
    "\n",
    "P: Open market or private purchase of non-derivative or derivative security\n",
    "M: Exercise or conversion of derivative security exempted puruant to Rule 16b-3. Indicates\n",
    "   that an insider has exercised options, typically converting them into shares. Can be seen as a form\n",
    "   of indirect buying, though its a bit more nuanced because the insider may immediately sell the shares \n",
    "   they've acquired\n",
    "\n",
    "S: Indicates an open market or private sale of a non derivative or derivative security."
   ]
  },
  {
   "cell_type": "code",
   "execution_count": 21,
   "metadata": {},
   "outputs": [],
   "source": [
    "\n",
    "import pandas as pd\n",
    "import time\n",
    "import nasdaqdatalink\n",
    "import sys\n",
    "\n",
    "import numpy as np\n",
    "import sys\n",
    "sys.path.append('/Users/markwindsor/Desktop/atlas_trade')\n",
    "from src.utils.technical_indicators import *\n",
    "from datetime import datetime, timedelta\n",
    "import os\n",
    "from dotenv import load_dotenv\n",
    "NASDAQ_KEY = os.getenv(\"NASDAQ_KEY\")\n",
    "\n",
    "nasdaqdatalink.ApiConfig.api_key = NASDAQ_KEY\n",
    "\n",
    "universe_path = \"/Users/markwindsor/Desktop/atlas_trade/src/data/universe.csv\"\n",
    "universe_df = pd.read_csv(universe_path)\n",
    "\n",
    "# Get three month ago date\n",
    "today = datetime.today()\n",
    "\n",
    "# Calculate the date three months ago\n",
    "# This approach considers 30 days in a month for simplicity\n",
    "three_months_ago = today - timedelta(days=90)\n",
    "\n",
    "# Format the date in 'YYYY-MM-DD'\n",
    "formatted_date = three_months_ago.strftime('%Y-%m-%d')\n",
    "\n",
    "\n"
   ]
  },
  {
   "cell_type": "markdown",
   "metadata": {},
   "source": [
    "## Screening for clustered Insider buying"
   ]
  },
  {
   "cell_type": "code",
   "execution_count": 22,
   "metadata": {},
   "outputs": [
    {
     "ename": "KeyError",
     "evalue": "'issuername'",
     "output_type": "error",
     "traceback": [
      "\u001b[0;31m---------------------------------------------------------------------------\u001b[0m",
      "\u001b[0;31mKeyError\u001b[0m                                  Traceback (most recent call last)",
      "File \u001b[0;32m~/Desktop/atlas_trade/.venv/lib/python3.9/site-packages/pandas/core/indexes/base.py:3653\u001b[0m, in \u001b[0;36mIndex.get_loc\u001b[0;34m(self, key)\u001b[0m\n\u001b[1;32m   3652\u001b[0m \u001b[39mtry\u001b[39;00m:\n\u001b[0;32m-> 3653\u001b[0m     \u001b[39mreturn\u001b[39;00m \u001b[39mself\u001b[39;49m\u001b[39m.\u001b[39;49m_engine\u001b[39m.\u001b[39;49mget_loc(casted_key)\n\u001b[1;32m   3654\u001b[0m \u001b[39mexcept\u001b[39;00m \u001b[39mKeyError\u001b[39;00m \u001b[39mas\u001b[39;00m err:\n",
      "File \u001b[0;32m~/Desktop/atlas_trade/.venv/lib/python3.9/site-packages/pandas/_libs/index.pyx:147\u001b[0m, in \u001b[0;36mpandas._libs.index.IndexEngine.get_loc\u001b[0;34m()\u001b[0m\n",
      "File \u001b[0;32m~/Desktop/atlas_trade/.venv/lib/python3.9/site-packages/pandas/_libs/index.pyx:176\u001b[0m, in \u001b[0;36mpandas._libs.index.IndexEngine.get_loc\u001b[0;34m()\u001b[0m\n",
      "File \u001b[0;32mpandas/_libs/hashtable_class_helper.pxi:7080\u001b[0m, in \u001b[0;36mpandas._libs.hashtable.PyObjectHashTable.get_item\u001b[0;34m()\u001b[0m\n",
      "File \u001b[0;32mpandas/_libs/hashtable_class_helper.pxi:7088\u001b[0m, in \u001b[0;36mpandas._libs.hashtable.PyObjectHashTable.get_item\u001b[0;34m()\u001b[0m\n",
      "\u001b[0;31mKeyError\u001b[0m: 'issuername'",
      "\nThe above exception was the direct cause of the following exception:\n",
      "\u001b[0;31mKeyError\u001b[0m                                  Traceback (most recent call last)",
      "Cell \u001b[0;32mIn[22], line 24\u001b[0m\n\u001b[1;32m     20\u001b[0m         clustered_transaction_sum \u001b[39m=\u001b[39m insider_buys_df[\u001b[39m'\u001b[39m\u001b[39mtransactionvalue\u001b[39m\u001b[39m'\u001b[39m]\u001b[39m.\u001b[39msum()\n\u001b[1;32m     21\u001b[0m         \u001b[39mif\u001b[39;00m clustered_transaction_sum \u001b[39m>\u001b[39m \u001b[39m1000000\u001b[39m:\n\u001b[1;32m     22\u001b[0m             row_values \u001b[39m=\u001b[39m {\n\u001b[1;32m     23\u001b[0m                 \u001b[39m'\u001b[39m\u001b[39mticker\u001b[39m\u001b[39m'\u001b[39m: row[\u001b[39m'\u001b[39m\u001b[39mticker\u001b[39m\u001b[39m'\u001b[39m],\n\u001b[0;32m---> 24\u001b[0m                 \u001b[39m'\u001b[39m\u001b[39mcompanyName\u001b[39m\u001b[39m'\u001b[39m: row[\u001b[39m'\u001b[39;49m\u001b[39missuername\u001b[39;49m\u001b[39m'\u001b[39;49m],\n\u001b[1;32m     25\u001b[0m                 \u001b[39m'\u001b[39m\u001b[39mnumOfInsiders\u001b[39m\u001b[39m'\u001b[39m: \u001b[39mlen\u001b[39m(insider_buys_df),\n\u001b[1;32m     26\u001b[0m                 \u001b[39m'\u001b[39m\u001b[39mtransactionTotal\u001b[39m\u001b[39m'\u001b[39m: clustered_transaction_sum\n\u001b[1;32m     27\u001b[0m             }\n\u001b[1;32m     28\u001b[0m             cluster_buying_companies\u001b[39m.\u001b[39mappend(row_values)\n\u001b[1;32m     30\u001b[0m clustered_buying_df \u001b[39m=\u001b[39m pd\u001b[39m.\u001b[39mDataFrame(cluster_buying_companies)\n",
      "File \u001b[0;32m~/Desktop/atlas_trade/.venv/lib/python3.9/site-packages/pandas/core/series.py:1007\u001b[0m, in \u001b[0;36mSeries.__getitem__\u001b[0;34m(self, key)\u001b[0m\n\u001b[1;32m   1004\u001b[0m     \u001b[39mreturn\u001b[39;00m \u001b[39mself\u001b[39m\u001b[39m.\u001b[39m_values[key]\n\u001b[1;32m   1006\u001b[0m \u001b[39melif\u001b[39;00m key_is_scalar:\n\u001b[0;32m-> 1007\u001b[0m     \u001b[39mreturn\u001b[39;00m \u001b[39mself\u001b[39;49m\u001b[39m.\u001b[39;49m_get_value(key)\n\u001b[1;32m   1009\u001b[0m \u001b[39mif\u001b[39;00m is_hashable(key):\n\u001b[1;32m   1010\u001b[0m     \u001b[39m# Otherwise index.get_value will raise InvalidIndexError\u001b[39;00m\n\u001b[1;32m   1011\u001b[0m     \u001b[39mtry\u001b[39;00m:\n\u001b[1;32m   1012\u001b[0m         \u001b[39m# For labels that don't resolve as scalars like tuples and frozensets\u001b[39;00m\n",
      "File \u001b[0;32m~/Desktop/atlas_trade/.venv/lib/python3.9/site-packages/pandas/core/series.py:1116\u001b[0m, in \u001b[0;36mSeries._get_value\u001b[0;34m(self, label, takeable)\u001b[0m\n\u001b[1;32m   1113\u001b[0m     \u001b[39mreturn\u001b[39;00m \u001b[39mself\u001b[39m\u001b[39m.\u001b[39m_values[label]\n\u001b[1;32m   1115\u001b[0m \u001b[39m# Similar to Index.get_value, but we do not fall back to positional\u001b[39;00m\n\u001b[0;32m-> 1116\u001b[0m loc \u001b[39m=\u001b[39m \u001b[39mself\u001b[39;49m\u001b[39m.\u001b[39;49mindex\u001b[39m.\u001b[39;49mget_loc(label)\n\u001b[1;32m   1118\u001b[0m \u001b[39mif\u001b[39;00m is_integer(loc):\n\u001b[1;32m   1119\u001b[0m     \u001b[39mreturn\u001b[39;00m \u001b[39mself\u001b[39m\u001b[39m.\u001b[39m_values[loc]\n",
      "File \u001b[0;32m~/Desktop/atlas_trade/.venv/lib/python3.9/site-packages/pandas/core/indexes/base.py:3655\u001b[0m, in \u001b[0;36mIndex.get_loc\u001b[0;34m(self, key)\u001b[0m\n\u001b[1;32m   3653\u001b[0m     \u001b[39mreturn\u001b[39;00m \u001b[39mself\u001b[39m\u001b[39m.\u001b[39m_engine\u001b[39m.\u001b[39mget_loc(casted_key)\n\u001b[1;32m   3654\u001b[0m \u001b[39mexcept\u001b[39;00m \u001b[39mKeyError\u001b[39;00m \u001b[39mas\u001b[39;00m err:\n\u001b[0;32m-> 3655\u001b[0m     \u001b[39mraise\u001b[39;00m \u001b[39mKeyError\u001b[39;00m(key) \u001b[39mfrom\u001b[39;00m \u001b[39merr\u001b[39;00m\n\u001b[1;32m   3656\u001b[0m \u001b[39mexcept\u001b[39;00m \u001b[39mTypeError\u001b[39;00m:\n\u001b[1;32m   3657\u001b[0m     \u001b[39m# If we have a listlike key, _check_indexing_error will raise\u001b[39;00m\n\u001b[1;32m   3658\u001b[0m     \u001b[39m#  InvalidIndexError. Otherwise we fall through and re-raise\u001b[39;00m\n\u001b[1;32m   3659\u001b[0m     \u001b[39m#  the TypeError.\u001b[39;00m\n\u001b[1;32m   3660\u001b[0m     \u001b[39mself\u001b[39m\u001b[39m.\u001b[39m_check_indexing_error(key)\n",
      "\u001b[0;31mKeyError\u001b[0m: 'issuername'"
     ]
    }
   ],
   "source": [
    "transaction_code_map = {\n",
    "    \"P\": \"Purchase\",\n",
    "    \"M\": \"Exercise of Derivative\",\n",
    "    \"S\": \"Sale\"\n",
    "}\n",
    "\n",
    "cluster_buying_companies = []\n",
    "\n",
    "for index, row in universe_df.iterrows():\n",
    "\n",
    "    insiders = nasdaqdatalink.get_table('SHARADAR/SF2', filingdate={'gte': formatted_date}, ticker=row['ticker'])\n",
    "    insiders_df = pd.DataFrame(insiders, columns=[\"ticker\", 'filingdate', 'transactiondate', 'formtype', 'issuername', 'ownername', 'officertitle', 'istenpercentowner', 'transactioncode', 'transactionpricepershare', 'transactionvalue', 'securitytitle'])\n",
    "    insiders_df = insiders_df.sort_values(by=\"filingdate\")\n",
    "\n",
    "    # Check for any insider purchases in the last 3 months\n",
    "    insider_buys_df = insiders_df[insiders_df['transactioncode'] == 'P']\n",
    "\n",
    "    # Here we'll determine cluster insider buying to be 3 or more insiders\n",
    "    if len(insider_buys_df) > 2:\n",
    "        clustered_transaction_sum = insider_buys_df['transactionvalue'].sum()\n",
    "        if clustered_transaction_sum > 1000000:\n",
    "            row_values = {\n",
    "                'ticker': row['ticker'],\n",
    "                'companyName': row['name'],\n",
    "                'numOfInsiders': len(insider_buys_df),\n",
    "                'transactionTotal': clustered_transaction_sum\n",
    "            }\n",
    "            cluster_buying_companies.append(row_values)\n",
    "\n",
    "clustered_buying_df = pd.DataFrame(cluster_buying_companies)\n",
    "clustered_buying_df.to_csv('clusterBuying.csv', index=False)\n",
    "\n"
   ]
  }
 ],
 "metadata": {
  "kernelspec": {
   "display_name": ".venv",
   "language": "python",
   "name": "python3"
  },
  "language_info": {
   "codemirror_mode": {
    "name": "ipython",
    "version": 3
   },
   "file_extension": ".py",
   "mimetype": "text/x-python",
   "name": "python",
   "nbconvert_exporter": "python",
   "pygments_lexer": "ipython3",
   "version": "3.9.6"
  },
  "orig_nbformat": 4
 },
 "nbformat": 4,
 "nbformat_minor": 2
}
