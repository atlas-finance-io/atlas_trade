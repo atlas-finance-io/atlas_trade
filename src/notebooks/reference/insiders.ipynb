{
 "cells": [
  {
   "cell_type": "markdown",
   "metadata": {},
   "source": [
    "# Insiders Analysis\n",
    "\n",
    "Transaction Codes\n",
    "\n",
    "P: Open market or private purchase of non-derivative or derivative security\n",
    "M: Exercise or conversion of derivative security exempted puruant to Rule 16b-3. Indicates\n",
    "   that an insider has exercised options, typically converting them into shares. Can be seen as a form\n",
    "   of indirect buying, though its a bit more nuanced because the insider may immediately sell the shares \n",
    "   they've acquired\n",
    "\n",
    "S: Indicates an open market or private sale of a non derivative or derivative security."
   ]
  },
  {
   "cell_type": "code",
   "execution_count": 23,
   "metadata": {},
   "outputs": [],
   "source": [
    "\n",
    "import pandas as pd\n",
    "import time\n",
    "import nasdaqdatalink\n",
    "import sys\n",
    "\n",
    "import numpy as np\n",
    "import sys\n",
    "sys.path.append('/Users/markwindsor/Desktop/atlas_trade')\n",
    "from src.utils.technical_indicators import *\n",
    "from datetime import datetime, timedelta\n",
    "import os\n",
    "from dotenv import load_dotenv\n",
    "NASDAQ_KEY = os.getenv(\"NASDAQ_KEY\")\n",
    "\n",
    "nasdaqdatalink.ApiConfig.api_key = NASDAQ_KEY\n",
    "\n",
    "universe_path = \"/Users/markwindsor/Desktop/atlas_trade/src/data/universe.csv\"\n",
    "universe_df = pd.read_csv(universe_path)\n",
    "\n",
    "# Get three month ago date\n",
    "today = datetime.today()\n",
    "\n",
    "# Calculate the date three months ago\n",
    "# This approach considers 30 days in a month for simplicity\n",
    "three_months_ago = today - timedelta(days=90)\n",
    "\n",
    "# Format the date in 'YYYY-MM-DD'\n",
    "formatted_date = three_months_ago.strftime('%Y-%m-%d')\n",
    "\n",
    "\n"
   ]
  },
  {
   "cell_type": "markdown",
   "metadata": {},
   "source": [
    "## Screening for clustered Insider buying"
   ]
  },
  {
   "cell_type": "code",
   "execution_count": 24,
   "metadata": {},
   "outputs": [],
   "source": [
    "transaction_code_map = {\n",
    "    \"P\": \"Purchase\",\n",
    "    \"M\": \"Exercise of Derivative\",\n",
    "    \"S\": \"Sale\"\n",
    "}\n",
    "\n",
    "cluster_buying_companies = []\n",
    "\n",
    "for index, row in universe_df.iterrows():\n",
    "\n",
    "    insiders = nasdaqdatalink.get_table('SHARADAR/SF2', filingdate={'gte': formatted_date}, ticker=row['ticker'])\n",
    "    insiders_df = pd.DataFrame(insiders, columns=[\"ticker\", 'filingdate', 'transactiondate', 'formtype', 'issuername', 'ownername', 'officertitle', 'istenpercentowner', 'transactioncode', 'transactionpricepershare', 'transactionvalue', 'securitytitle'])\n",
    "    insiders_df = insiders_df.sort_values(by=\"filingdate\")\n",
    "\n",
    "    # Check for any insider purchases in the last 3 months\n",
    "    insider_buys_df = insiders_df[insiders_df['transactioncode'] == 'P']\n",
    "\n",
    "    # Here we'll determine cluster insider buying to be 3 or more insiders\n",
    "    if len(insider_buys_df) > 2:\n",
    "        clustered_transaction_sum = insider_buys_df['transactionvalue'].sum()\n",
    "        if clustered_transaction_sum > 1000000:\n",
    "            row_values = {\n",
    "                'ticker': row['ticker'],\n",
    "                'companyName': row['name'],\n",
    "                'numOfInsiders': len(insider_buys_df),\n",
    "                'transactionTotal': clustered_transaction_sum\n",
    "            }\n",
    "            cluster_buying_companies.append(row_values)\n",
    "\n",
    "clustered_buying_df = pd.DataFrame(cluster_buying_companies)\n",
    "clustered_buying_df.to_csv('clusterBuying.csv', index=False)\n",
    "\n"
   ]
  }
 ],
 "metadata": {
  "kernelspec": {
   "display_name": ".venv",
   "language": "python",
   "name": "python3"
  },
  "language_info": {
   "codemirror_mode": {
    "name": "ipython",
    "version": 3
   },
   "file_extension": ".py",
   "mimetype": "text/x-python",
   "name": "python",
   "nbconvert_exporter": "python",
   "pygments_lexer": "ipython3",
   "version": "3.9.6"
  },
  "orig_nbformat": 4
 },
 "nbformat": 4,
 "nbformat_minor": 2
}
