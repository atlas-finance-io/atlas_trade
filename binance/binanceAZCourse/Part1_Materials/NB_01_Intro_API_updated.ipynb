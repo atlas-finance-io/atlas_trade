{
 "cells": [
  {
   "cell_type": "markdown",
   "id": "dab6e5ec",
   "metadata": {},
   "source": [
    "# Trading with Python and Binance - Introduction to the API"
   ]
  },
  {
   "cell_type": "markdown",
   "id": "a3d869fd",
   "metadata": {},
   "source": [
    "__Insert your Credentials here__:"
   ]
  },
  {
   "cell_type": "code",
   "execution_count": null,
   "id": "fedb28a8",
   "metadata": {},
   "outputs": [],
   "source": [
    "api_key = \"insert_here\"\n",
    "secret_key = \"insert_here\""
   ]
  },
  {
   "cell_type": "markdown",
   "id": "af9a4d53",
   "metadata": {},
   "source": [
    "## Installing required Libraries/Packages"
   ]
  },
  {
   "cell_type": "markdown",
   "id": "2901f994",
   "metadata": {},
   "source": [
    "For most Sections of this course, you should have installed: \n",
    "- Updated Anaconda Installation with Python Version 3.10 or higher\n",
    "- lastest python-binance Version (1.0.19 or higher)"
   ]
  },
  {
   "cell_type": "markdown",
   "id": "4cb790b5",
   "metadata": {},
   "source": [
    "***Action required***: "
   ]
  },
  {
   "cell_type": "markdown",
   "id": "12b45f6f",
   "metadata": {},
   "source": [
    "__1. If you haven´t updated Anaconda for a while, update with the command:__"
   ]
  },
  {
   "cell_type": "markdown",
   "id": "487f5063",
   "metadata": {},
   "source": [
    "conda update anaconda"
   ]
  },
  {
   "cell_type": "markdown",
   "id": "1c5484e2",
   "metadata": {},
   "source": [
    "__2a. Install python-binance__"
   ]
  },
  {
   "cell_type": "markdown",
   "id": "9da65fa5",
   "metadata": {},
   "source": [
    "pip install python-binance"
   ]
  },
  {
   "cell_type": "markdown",
   "id": "2ad3c9f2",
   "metadata": {},
   "source": [
    "__2b. In case you have installed python-binance a while ago, make sure you have the latest version installed:__"
   ]
  },
  {
   "cell_type": "markdown",
   "id": "45ba04e7",
   "metadata": {},
   "source": [
    "pip install python-binance --upgrade"
   ]
  },
  {
   "cell_type": "code",
   "execution_count": null,
   "id": "2d816fc1",
   "metadata": {},
   "outputs": [],
   "source": []
  },
  {
   "cell_type": "markdown",
   "id": "49a45235",
   "metadata": {},
   "source": [
    "## Creating a Connection"
   ]
  },
  {
   "cell_type": "code",
   "execution_count": null,
   "id": "4743b747",
   "metadata": {},
   "outputs": [],
   "source": [
    "from binance.client import Client"
   ]
  },
  {
   "cell_type": "markdown",
   "id": "c1201422",
   "metadata": {},
   "source": [
    "If you have an account on __Binance.com__ (non-US users)"
   ]
  },
  {
   "cell_type": "code",
   "execution_count": null,
   "id": "84908c00",
   "metadata": {},
   "outputs": [],
   "source": [
    "client = Client(api_key = api_key, api_secret = secret_key, tld = \"com\")"
   ]
  },
  {
   "cell_type": "code",
   "execution_count": null,
   "id": "0c03d176",
   "metadata": {},
   "outputs": [],
   "source": [
    "client"
   ]
  },
  {
   "cell_type": "code",
   "execution_count": null,
   "id": "b0795d04",
   "metadata": {},
   "outputs": [],
   "source": [
    "client.get_account() # account details"
   ]
  },
  {
   "cell_type": "markdown",
   "id": "ba2f2ebf",
   "metadata": {},
   "source": [
    "If you have an account on __Binance.US__ (US residents) <br>\n",
    "(If you are using an exchange from the US, Japan or other TLD then make sure pass tld=’us’ when creating the client.)\n"
   ]
  },
  {
   "cell_type": "code",
   "execution_count": null,
   "id": "7d7e5415",
   "metadata": {},
   "outputs": [],
   "source": [
    "client = Client(api_key = api_key, api_secret = secret_key, tld = \"us\")"
   ]
  },
  {
   "cell_type": "code",
   "execution_count": null,
   "id": "3d0f9925",
   "metadata": {},
   "outputs": [],
   "source": [
    "client.get_account()  # account details"
   ]
  },
  {
   "cell_type": "code",
   "execution_count": null,
   "id": "0d394d5b",
   "metadata": {},
   "outputs": [],
   "source": []
  },
  {
   "cell_type": "markdown",
   "id": "b4c67d6f",
   "metadata": {},
   "source": [
    "## General account/system Info"
   ]
  },
  {
   "cell_type": "markdown",
   "id": "40e56281",
   "metadata": {},
   "source": [
    "__Official API Documentation Site:__"
   ]
  },
  {
   "cell_type": "markdown",
   "id": "9c151512",
   "metadata": {},
   "source": [
    "https://binance-docs.github.io/apidocs/spot/en/#introduction"
   ]
  },
  {
   "cell_type": "markdown",
   "id": "e811503a",
   "metadata": {},
   "source": [
    "__API Wrapper (python-binance) Documentation Site:__"
   ]
  },
  {
   "cell_type": "markdown",
   "id": "2e34a1a5",
   "metadata": {},
   "source": [
    "https://python-binance.readthedocs.io/en/latest/index.html"
   ]
  },
  {
   "cell_type": "code",
   "execution_count": null,
   "id": "bd670d70",
   "metadata": {},
   "outputs": [],
   "source": [
    "import pandas as pd\n",
    "from binance.client import Client"
   ]
  },
  {
   "cell_type": "code",
   "execution_count": null,
   "id": "646c71c3",
   "metadata": {},
   "outputs": [],
   "source": [
    "client = Client(api_key = api_key, api_secret = secret_key, tld = \"com\")"
   ]
  },
  {
   "cell_type": "code",
   "execution_count": null,
   "id": "5e6d8b71",
   "metadata": {},
   "outputs": [],
   "source": [
    "client.ping() # Test connectivity "
   ]
  },
  {
   "cell_type": "code",
   "execution_count": null,
   "id": "93f5a1e6",
   "metadata": {},
   "outputs": [],
   "source": [
    "client.get_system_status()"
   ]
  },
  {
   "cell_type": "code",
   "execution_count": null,
   "id": "9f302a73",
   "metadata": {},
   "outputs": [],
   "source": [
    "account = client.get_account()\n",
    "account"
   ]
  },
  {
   "cell_type": "code",
   "execution_count": null,
   "id": "37d303d0",
   "metadata": {},
   "outputs": [],
   "source": [
    "account[\"accountType\"] # account Type (Spot, Futures)"
   ]
  },
  {
   "cell_type": "code",
   "execution_count": null,
   "id": "9e43283e",
   "metadata": {},
   "outputs": [],
   "source": [
    "pd.to_datetime(account[\"updateTime\"], unit = \"ms\") # Last Update -> UTC Time"
   ]
  },
  {
   "cell_type": "code",
   "execution_count": null,
   "id": "c00998ff",
   "metadata": {},
   "outputs": [],
   "source": [
    "account[\"balances\"] # asset balances"
   ]
  },
  {
   "cell_type": "code",
   "execution_count": null,
   "id": "5fe880a7",
   "metadata": {},
   "outputs": [],
   "source": [
    "df = pd.DataFrame(account[\"balances\"])\n",
    "df"
   ]
  },
  {
   "cell_type": "code",
   "execution_count": null,
   "id": "390d6f03",
   "metadata": {},
   "outputs": [],
   "source": [
    "df.info()"
   ]
  },
  {
   "cell_type": "code",
   "execution_count": null,
   "id": "81f70401",
   "metadata": {},
   "outputs": [],
   "source": [
    "df.free = pd.to_numeric(df.free, errors=\"coerce\")\n",
    "df.locked = pd.to_numeric(df.locked, errors=\"coerce\")"
   ]
  },
  {
   "cell_type": "code",
   "execution_count": null,
   "id": "94178658",
   "metadata": {},
   "outputs": [],
   "source": [
    "df.loc[df.free > 0]"
   ]
  },
  {
   "cell_type": "code",
   "execution_count": null,
   "id": "3d5a5dfc",
   "metadata": {},
   "outputs": [],
   "source": [
    "client.get_asset_balance(asset = \"BTC\")"
   ]
  },
  {
   "cell_type": "code",
   "execution_count": null,
   "id": "cf953033",
   "metadata": {},
   "outputs": [],
   "source": [
    "client.get_asset_balance(asset = \"ETH\")"
   ]
  },
  {
   "cell_type": "code",
   "execution_count": null,
   "id": "93c8b40a",
   "metadata": {},
   "outputs": [],
   "source": [
    "float(client.get_asset_balance(asset=\"EUR\")[\"free\"]) "
   ]
  },
  {
   "cell_type": "code",
   "execution_count": null,
   "id": "68a540ed",
   "metadata": {},
   "outputs": [],
   "source": [
    "snap = client.get_account_snapshot(type = \"SPOT\") # daily account snapshot\n",
    "snap"
   ]
  },
  {
   "cell_type": "code",
   "execution_count": null,
   "id": "b3324bd0",
   "metadata": {},
   "outputs": [],
   "source": [
    "snap = pd.json_normalize(snap[\"snapshotVos\"])\n",
    "snap"
   ]
  },
  {
   "cell_type": "code",
   "execution_count": null,
   "id": "a96298f2",
   "metadata": {},
   "outputs": [],
   "source": [
    "snap.updateTime = pd.to_datetime(snap[\"updateTime\"], unit = \"ms\") "
   ]
  },
  {
   "cell_type": "code",
   "execution_count": null,
   "id": "4881ca9b",
   "metadata": {},
   "outputs": [],
   "source": [
    "snap"
   ]
  },
  {
   "cell_type": "code",
   "execution_count": null,
   "id": "8788bc22",
   "metadata": {},
   "outputs": [],
   "source": [
    "snap[\"data.balances\"][0]"
   ]
  },
  {
   "cell_type": "code",
   "execution_count": null,
   "id": "da9e5075",
   "metadata": {},
   "outputs": [],
   "source": [
    "client.get_exchange_info()[\"rateLimits\"] # API Limits"
   ]
  },
  {
   "cell_type": "code",
   "execution_count": null,
   "id": "3b3bbb79",
   "metadata": {},
   "outputs": [],
   "source": [
    "client.get_all_coins_info() # asset/coin Info"
   ]
  },
  {
   "cell_type": "code",
   "execution_count": null,
   "id": "29731eb9",
   "metadata": {},
   "outputs": [],
   "source": [
    "coins = pd.DataFrame(client.get_all_coins_info()) # asset/coin Info\n",
    "coins"
   ]
  },
  {
   "cell_type": "code",
   "execution_count": null,
   "id": "f4b87eae",
   "metadata": {},
   "outputs": [],
   "source": [
    "coins.loc[coins.coin == \"BTC\"]"
   ]
  },
  {
   "cell_type": "code",
   "execution_count": null,
   "id": "e7a495e9",
   "metadata": {},
   "outputs": [],
   "source": [
    "coins.loc[coins.coin == \"EUR\"]"
   ]
  },
  {
   "cell_type": "code",
   "execution_count": null,
   "id": "2449fad2",
   "metadata": {},
   "outputs": [],
   "source": [
    "client.get_trade_fee(symbol = \"BTCUSDT\")"
   ]
  },
  {
   "cell_type": "code",
   "execution_count": null,
   "id": "49738300",
   "metadata": {},
   "outputs": [],
   "source": [
    "client.get_trade_fee(symbol = \"BTCEUR\")"
   ]
  },
  {
   "cell_type": "code",
   "execution_count": null,
   "id": "aab9081e",
   "metadata": {},
   "outputs": [],
   "source": [
    "client.get_trade_fee(symbol = \"BUSDUSDT\") # zero commissions for stable coin pairs"
   ]
  },
  {
   "cell_type": "code",
   "execution_count": null,
   "id": "98ec1057",
   "metadata": {},
   "outputs": [],
   "source": [
    "client.get_symbol_info(symbol = \"BTCEUR\") # information on symbol / pair"
   ]
  },
  {
   "cell_type": "code",
   "execution_count": null,
   "id": "d3381579",
   "metadata": {},
   "outputs": [],
   "source": []
  },
  {
   "cell_type": "markdown",
   "id": "ac8d6fcd",
   "metadata": {},
   "source": [
    "## Getting (current) Market Data"
   ]
  },
  {
   "cell_type": "code",
   "execution_count": null,
   "id": "406f5ce6",
   "metadata": {},
   "outputs": [],
   "source": [
    "from binance.client import Client\n",
    "import pandas as pd"
   ]
  },
  {
   "cell_type": "code",
   "execution_count": null,
   "id": "a8b69c66",
   "metadata": {},
   "outputs": [],
   "source": [
    "client = Client(api_key = api_key, api_secret = secret_key, tld = \"com\")"
   ]
  },
  {
   "cell_type": "markdown",
   "id": "c3db427e",
   "metadata": {},
   "source": [
    "__Current Prices__"
   ]
  },
  {
   "cell_type": "code",
   "execution_count": null,
   "id": "84360e93",
   "metadata": {},
   "outputs": [],
   "source": [
    "client.get_symbol_ticker(symbol = \"BTCUSDT\") # current price for one symbol"
   ]
  },
  {
   "cell_type": "code",
   "execution_count": null,
   "id": "d54849c5",
   "metadata": {},
   "outputs": [],
   "source": [
    "float(client.get_symbol_ticker(symbol = \"BTCEUR\")[\"price\"])"
   ]
  },
  {
   "cell_type": "code",
   "execution_count": null,
   "id": "694c5432",
   "metadata": {},
   "outputs": [],
   "source": [
    "client.get_avg_price(symbol = \"BTCUSDT\") # current average price"
   ]
  },
  {
   "cell_type": "code",
   "execution_count": null,
   "id": "652274fc",
   "metadata": {},
   "outputs": [],
   "source": [
    "# get current prices for all pairs\n",
    "prices = client.get_all_tickers()\n",
    "prices"
   ]
  },
  {
   "cell_type": "code",
   "execution_count": null,
   "id": "62a54abb",
   "metadata": {},
   "outputs": [],
   "source": [
    "df = pd.DataFrame(prices)\n",
    "df"
   ]
  },
  {
   "cell_type": "code",
   "execution_count": null,
   "id": "4385b1ed",
   "metadata": {},
   "outputs": [],
   "source": [
    "df[df.symbol.str.contains(\"ETH\")]"
   ]
  },
  {
   "cell_type": "code",
   "execution_count": null,
   "id": "9a31851b",
   "metadata": {},
   "outputs": [],
   "source": [
    "df[df.symbol.str.contains(\"BTC\") & df.symbol.str.contains(\"USD\")]"
   ]
  },
  {
   "cell_type": "code",
   "execution_count": null,
   "id": "e4f96fc8",
   "metadata": {},
   "outputs": [],
   "source": [
    "df[df.symbol.str.contains(\"BTC\") & df.symbol.str.contains(\"EUR\")]"
   ]
  },
  {
   "cell_type": "code",
   "execution_count": null,
   "id": "69749ee7",
   "metadata": {},
   "outputs": [],
   "source": [
    "last24 = client.get_ticker(symbol = \"BTCUSDT\") # 24H Price change statistic\n",
    "last24"
   ]
  },
  {
   "cell_type": "code",
   "execution_count": null,
   "id": "43d520fe",
   "metadata": {},
   "outputs": [],
   "source": [
    "last24[\"openTime\"]"
   ]
  },
  {
   "cell_type": "code",
   "execution_count": null,
   "id": "b461bbcc",
   "metadata": {},
   "outputs": [],
   "source": [
    "pd.to_datetime(last24[\"openTime\"], unit = \"ms\") "
   ]
  },
  {
   "cell_type": "code",
   "execution_count": null,
   "id": "913f90a1",
   "metadata": {},
   "outputs": [],
   "source": [
    "pd.to_datetime(last24[\"closeTime\"], unit = \"ms\") "
   ]
  },
  {
   "cell_type": "code",
   "execution_count": null,
   "id": "3d139c21",
   "metadata": {},
   "outputs": [],
   "source": [
    "open_price = float(last24[\"openPrice\"])\n",
    "open_price"
   ]
  },
  {
   "cell_type": "code",
   "execution_count": null,
   "id": "04a65759",
   "metadata": {},
   "outputs": [],
   "source": [
    "high_price = float(last24[\"highPrice\"])\n",
    "high_price"
   ]
  },
  {
   "cell_type": "code",
   "execution_count": null,
   "id": "b8c0c1e2",
   "metadata": {},
   "outputs": [],
   "source": [
    "low_price = float(last24[\"lowPrice\"])\n",
    "low_price"
   ]
  },
  {
   "cell_type": "code",
   "execution_count": null,
   "id": "8a7ec0fe",
   "metadata": {},
   "outputs": [],
   "source": [
    "close_price = float(last24[\"lastPrice\"])\n",
    "close_price"
   ]
  },
  {
   "cell_type": "code",
   "execution_count": null,
   "id": "42cb2e0e",
   "metadata": {},
   "outputs": [],
   "source": [
    "close_price - open_price"
   ]
  },
  {
   "cell_type": "code",
   "execution_count": null,
   "id": "e3ca520e",
   "metadata": {},
   "outputs": [],
   "source": [
    "(close_price/open_price - 1) * 100"
   ]
  },
  {
   "cell_type": "code",
   "execution_count": null,
   "id": "96b4a7cf",
   "metadata": {},
   "outputs": [],
   "source": []
  },
  {
   "cell_type": "markdown",
   "id": "2d180404",
   "metadata": {},
   "source": [
    "## Getting Historical Data (OHLC & Volume) - Part 1"
   ]
  },
  {
   "cell_type": "code",
   "execution_count": null,
   "id": "bb25a357",
   "metadata": {},
   "outputs": [],
   "source": [
    "from binance.client import Client\n",
    "import pandas as pd"
   ]
  },
  {
   "cell_type": "code",
   "execution_count": null,
   "id": "4715cad4",
   "metadata": {},
   "outputs": [],
   "source": [
    "client = Client(api_key = api_key, api_secret = secret_key, tld = \"com\")"
   ]
  },
  {
   "cell_type": "code",
   "execution_count": null,
   "id": "6a4d174a",
   "metadata": {},
   "outputs": [],
   "source": [
    "timestamp = client._get_earliest_valid_timestamp(symbol = \"BTCUSDT\", interval = \"1d\")\n",
    "timestamp # earliest data available on Binance"
   ]
  },
  {
   "cell_type": "code",
   "execution_count": null,
   "id": "564e7e2a",
   "metadata": {},
   "outputs": [],
   "source": [
    "pd.to_datetime(timestamp, unit = \"ms\") # earliest data available on Binance"
   ]
  },
  {
   "cell_type": "code",
   "execution_count": null,
   "id": "a1dd8119",
   "metadata": {},
   "outputs": [],
   "source": [
    "bars = client.get_historical_klines(symbol = \"BTCUSDT\",\n",
    "                                    interval = \"1d\", start_str = timestamp, limit = 1000)\n",
    "bars"
   ]
  },
  {
   "cell_type": "code",
   "execution_count": null,
   "id": "1f405a21",
   "metadata": {},
   "outputs": [],
   "source": [
    "df = pd.DataFrame(bars)\n",
    "df"
   ]
  },
  {
   "cell_type": "code",
   "execution_count": null,
   "id": "2f7975c3",
   "metadata": {},
   "outputs": [],
   "source": [
    "df[\"Date\"] = pd.to_datetime(df.iloc[:,0], unit = \"ms\")"
   ]
  },
  {
   "cell_type": "code",
   "execution_count": null,
   "id": "bdcb3334",
   "metadata": {},
   "outputs": [],
   "source": [
    "df"
   ]
  },
  {
   "cell_type": "code",
   "execution_count": null,
   "id": "81934bce",
   "metadata": {},
   "outputs": [],
   "source": [
    "df.columns = [\"Open Time\", \"Open\", \"High\", \"Low\", \"Close\",\n",
    "              \"Volume\", \"Clos Time\", \"Quote Asset Volume\", \n",
    "              \"Number of Trades\", \"Taker Buy Base Asset Volume\",\n",
    "              \"Taker Buy Quote Asset Volume\", \"Ignore\", \"Date\" ]"
   ]
  },
  {
   "cell_type": "code",
   "execution_count": null,
   "id": "925dd978",
   "metadata": {},
   "outputs": [],
   "source": [
    "df"
   ]
  },
  {
   "cell_type": "code",
   "execution_count": null,
   "id": "83d6f483",
   "metadata": {},
   "outputs": [],
   "source": [
    "df = df[[\"Date\", \"Open\", \"High\", \"Low\", \"Close\", \"Volume\"]].copy()"
   ]
  },
  {
   "cell_type": "code",
   "execution_count": null,
   "id": "7af6e439",
   "metadata": {},
   "outputs": [],
   "source": [
    "df"
   ]
  },
  {
   "cell_type": "code",
   "execution_count": null,
   "id": "0cca9bcc",
   "metadata": {},
   "outputs": [],
   "source": [
    "df.set_index(\"Date\", inplace = True)"
   ]
  },
  {
   "cell_type": "code",
   "execution_count": null,
   "id": "fd8b6755",
   "metadata": {},
   "outputs": [],
   "source": [
    "df"
   ]
  },
  {
   "cell_type": "code",
   "execution_count": null,
   "id": "d38d80c1",
   "metadata": {},
   "outputs": [],
   "source": [
    "df.info()"
   ]
  },
  {
   "cell_type": "code",
   "execution_count": null,
   "id": "8673bbaf",
   "metadata": {},
   "outputs": [],
   "source": [
    "for column in df.columns:\n",
    "    df[column] = pd.to_numeric(df[column], errors = \"coerce\")"
   ]
  },
  {
   "cell_type": "code",
   "execution_count": null,
   "id": "b6cd7dcd",
   "metadata": {},
   "outputs": [],
   "source": []
  },
  {
   "cell_type": "markdown",
   "id": "389c836d",
   "metadata": {},
   "source": [
    "## Getting Historical Data (OHLC & Volume) - Part 2"
   ]
  },
  {
   "cell_type": "code",
   "execution_count": null,
   "id": "2e361b59",
   "metadata": {},
   "outputs": [],
   "source": [
    "def get_history(symbol, interval, start, end = None):\n",
    "    bars = client.get_historical_klines(symbol = symbol, interval = interval,\n",
    "                                        start_str = start, end_str = end, limit = 1000)\n",
    "    df = pd.DataFrame(bars)\n",
    "    df[\"Date\"] = pd.to_datetime(df.iloc[:,0], unit = \"ms\")\n",
    "    df.columns = [\"Open Time\", \"Open\", \"High\", \"Low\", \"Close\", \"Volume\",\n",
    "                  \"Clos Time\", \"Quote Asset Volume\", \"Number of Trades\",\n",
    "                  \"Taker Buy Base Asset Volume\", \"Taker Buy Quote Asset Volume\", \"Ignore\", \"Date\"]\n",
    "    df = df[[\"Date\", \"Open\", \"High\", \"Low\", \"Close\", \"Volume\"]].copy()\n",
    "    df.set_index(\"Date\", inplace = True)\n",
    "    for column in df.columns:\n",
    "        df[column] = pd.to_numeric(df[column], errors = \"coerce\")\n",
    "    \n",
    "    return df"
   ]
  },
  {
   "cell_type": "code",
   "execution_count": null,
   "id": "7c5e1305",
   "metadata": {},
   "outputs": [],
   "source": [
    "timestamp"
   ]
  },
  {
   "cell_type": "markdown",
   "id": "2e54c528",
   "metadata": {},
   "source": [
    "__Daily Data until Today/Now__"
   ]
  },
  {
   "cell_type": "code",
   "execution_count": null,
   "id": "97329e22",
   "metadata": {},
   "outputs": [],
   "source": [
    "df = get_history(symbol = \"BTCUSDT\", interval = \"1d\", start = timestamp)\n",
    "df"
   ]
  },
  {
   "cell_type": "code",
   "execution_count": null,
   "id": "7dc42d9f",
   "metadata": {},
   "outputs": [],
   "source": [
    "df.info()"
   ]
  },
  {
   "cell_type": "markdown",
   "id": "5e862f7b",
   "metadata": {},
   "source": [
    "__Daily Data for specified Time Period__"
   ]
  },
  {
   "cell_type": "code",
   "execution_count": null,
   "id": "7a73d37a",
   "metadata": {},
   "outputs": [],
   "source": [
    "df = get_history(symbol = \"BTCUSDT\", interval = \"1d\", start = \"2021-01-01\", end = \"2021-06-30\")\n",
    "df"
   ]
  },
  {
   "cell_type": "markdown",
   "id": "0376c488",
   "metadata": {},
   "source": [
    "valid intervals - 1m, 3m, 5m, 15m, 30m, 1h, 2h, 4h, 6h, 8h, 12h, 1d, 3d, 1w, 1M"
   ]
  },
  {
   "cell_type": "markdown",
   "id": "f25ae946",
   "metadata": {},
   "source": [
    "__Weekly Data for specified Time Period__"
   ]
  },
  {
   "cell_type": "code",
   "execution_count": null,
   "id": "6b1f1fde",
   "metadata": {},
   "outputs": [],
   "source": [
    "df = get_history(symbol = \"BTCUSDT\", interval = \"1w\", start = \"2021-01-01\", end = \"2021-06-30\")\n",
    "df"
   ]
  },
  {
   "cell_type": "markdown",
   "id": "2aac021a",
   "metadata": {},
   "source": [
    "__Monthly Data for specified Time Period__"
   ]
  },
  {
   "cell_type": "code",
   "execution_count": null,
   "id": "68a08d46",
   "metadata": {
    "scrolled": true
   },
   "outputs": [],
   "source": [
    "df = get_history(symbol = \"BTCUSDT\", interval = \"1M\", start = \"2021-01-01\", end = \"2021-06-15\")\n",
    "df"
   ]
  },
  {
   "cell_type": "markdown",
   "id": "c9c9f985",
   "metadata": {},
   "source": [
    "__Most recent Monthly Data (until today/now)__"
   ]
  },
  {
   "cell_type": "code",
   "execution_count": null,
   "id": "4d609d3d",
   "metadata": {},
   "outputs": [],
   "source": [
    "df = get_history(symbol = \"BTCUSDT\", interval = \"1M\", start = \"2021-01-01\")\n",
    "df"
   ]
  },
  {
   "cell_type": "markdown",
   "id": "5e18fe57",
   "metadata": {},
   "source": [
    "__Intraday Data (1H) for specified Time Period__"
   ]
  },
  {
   "cell_type": "code",
   "execution_count": null,
   "id": "68618bdf",
   "metadata": {},
   "outputs": [],
   "source": [
    "df = get_history(symbol = \"BTCUSDT\", interval = \"1h\", start = \"2021-10-01\", end = \"2021-10-05\")\n",
    "df"
   ]
  },
  {
   "cell_type": "code",
   "execution_count": null,
   "id": "22bdc89b",
   "metadata": {},
   "outputs": [],
   "source": [
    "df = get_history(symbol = \"BTCUSDT\", interval = \"1h\",\n",
    "                 start = \"2021-10-01 10:00:00\", end = \"2021-10-05 16:00:00\")\n",
    "df"
   ]
  },
  {
   "cell_type": "markdown",
   "id": "0c1bbb57",
   "metadata": {},
   "source": [
    "__Intraday Data (1m) for specified Time Period__"
   ]
  },
  {
   "cell_type": "code",
   "execution_count": null,
   "id": "ae4c0280",
   "metadata": {},
   "outputs": [],
   "source": [
    "df = get_history(symbol = \"BTCUSDT\", interval = \"1m\",\n",
    "                 start = \"2021-10-01 10:29:00\", end = \"2021-10-05 16:55:00\")\n",
    "df"
   ]
  },
  {
   "cell_type": "markdown",
   "id": "b128631e",
   "metadata": {},
   "source": [
    "__Most recent (last 2 hours) Intraday Data (1m)__"
   ]
  },
  {
   "cell_type": "code",
   "execution_count": null,
   "id": "fd4f9bb9",
   "metadata": {},
   "outputs": [],
   "source": [
    "from datetime import datetime, timedelta"
   ]
  },
  {
   "cell_type": "code",
   "execution_count": null,
   "id": "4f137514",
   "metadata": {},
   "outputs": [],
   "source": [
    "now = datetime.utcnow()\n",
    "now"
   ]
  },
  {
   "cell_type": "code",
   "execution_count": null,
   "id": "3aad4a5a",
   "metadata": {},
   "outputs": [],
   "source": [
    "two_hours_before = now - timedelta(hours = 2)\n",
    "two_hours_before"
   ]
  },
  {
   "cell_type": "code",
   "execution_count": null,
   "id": "55fbbdd5",
   "metadata": {},
   "outputs": [],
   "source": [
    "str(two_hours_before)"
   ]
  },
  {
   "cell_type": "code",
   "execution_count": null,
   "id": "a860eb2e",
   "metadata": {},
   "outputs": [],
   "source": [
    "df = get_history(symbol = \"BTCUSDT\", interval = \"1m\", start = str(two_hours_before))\n",
    "df"
   ]
  },
  {
   "cell_type": "code",
   "execution_count": null,
   "id": "8cef3d77",
   "metadata": {},
   "outputs": [],
   "source": []
  },
  {
   "cell_type": "markdown",
   "id": "216b5c03",
   "metadata": {},
   "source": [
    "## Excursus: Loading Historical Data (csv) from the Website"
   ]
  },
  {
   "cell_type": "code",
   "execution_count": null,
   "id": "1f7bd9e5",
   "metadata": {},
   "outputs": [],
   "source": [
    "import pandas as pd"
   ]
  },
  {
   "cell_type": "code",
   "execution_count": null,
   "id": "a68a95ac",
   "metadata": {},
   "outputs": [],
   "source": [
    "url = r\"C:\\Users\\hagma\\OneDrive\\Desktop\\BTCUSDT-1h-2021-09\\BTCUSDT-1h-2021-09.csv\" # insert your filepath here\n",
    "url"
   ]
  },
  {
   "cell_type": "code",
   "execution_count": null,
   "id": "ca169273",
   "metadata": {},
   "outputs": [],
   "source": [
    "df = pd.read_csv(url, header = None)\n",
    "df"
   ]
  },
  {
   "cell_type": "code",
   "execution_count": null,
   "id": "91e55384",
   "metadata": {},
   "outputs": [],
   "source": [
    "df[\"Date\"] = pd.to_datetime(df.iloc[:,0], unit = \"ms\")\n",
    "df"
   ]
  },
  {
   "cell_type": "code",
   "execution_count": null,
   "id": "9a4f6dd1",
   "metadata": {},
   "outputs": [],
   "source": [
    "df.columns = [\"Open Time\", \"Open\", \"High\", \"Low\", \"Close\", \"Volume\",\n",
    "                  \"Clos Time\", \"Quote Asset Volume\", \"Number of Trades\",\n",
    "                  \"Taker Buy Base Asset Volume\", \"Taker Buy Quote Asset Volume\", \"Ignore\", \"Date\"]\n",
    "df"
   ]
  },
  {
   "cell_type": "code",
   "execution_count": null,
   "id": "dfeaf2fa",
   "metadata": {},
   "outputs": [],
   "source": [
    "df = df[[\"Date\", \"Open\", \"High\", \"Low\", \"Close\", \"Volume\"]].copy()\n",
    "df.set_index(\"Date\", inplace = True)\n",
    "\n",
    "#not required:\n",
    "#for column in df.columns:\n",
    "    #df[column] = pd.to_numeric(df[column], errors = \"coerce\")"
   ]
  },
  {
   "cell_type": "code",
   "execution_count": null,
   "id": "8e574ffb",
   "metadata": {},
   "outputs": [],
   "source": [
    "df"
   ]
  },
  {
   "cell_type": "code",
   "execution_count": null,
   "id": "90d41fe6",
   "metadata": {},
   "outputs": [],
   "source": [
    "df.info()"
   ]
  },
  {
   "cell_type": "code",
   "execution_count": null,
   "id": "ad430aeb",
   "metadata": {},
   "outputs": [],
   "source": []
  },
  {
   "cell_type": "markdown",
   "id": "76ea9381",
   "metadata": {},
   "source": [
    "## Streaming Market Data (Part 1)"
   ]
  },
  {
   "cell_type": "markdown",
   "id": "517b9fd7",
   "metadata": {},
   "source": [
    "### ++++++ Update (August 2023) ++++++++"
   ]
  },
  {
   "cell_type": "markdown",
   "id": "8541e71b",
   "metadata": {},
   "source": [
    "There are two alternatives to stream live data with python-binance:\n",
    "- using __ThreadedWebsocketManager__ -or-\n",
    "- using __BinanceSocketManager (newly added to the course)__"
   ]
  },
  {
   "cell_type": "markdown",
   "id": "414c9c2a",
   "metadata": {},
   "source": [
    "__ThreadedWebsocketManager:__ \n",
    "- Code is simpler\n",
    "- worked with Python Version 3.7/3.8/3.9 __and__ python-binance Version <= 1.0.15 in __Jupyter Notebooks and Scripts__\n",
    "- __no longer works in Juypter Notebooks__ if Python Version >= 3.10 __or__ python-binance Version > 1.0.15\n",
    "- important: still works in any case in Python scripts!!! __-> We´ll use it in Scripts (later in the course).__"
   ]
  },
  {
   "cell_type": "markdown",
   "id": "d1ded3e2",
   "metadata": {},
   "source": [
    "__BinanceSocketManager (NEW):__\n",
    "- Code is more complex\n",
    "- Works in Jupyter Notebooks and Scripts\n",
    "- __We´ll use it here in Jupyter Notebooks as an executable alternative__"
   ]
  },
  {
   "cell_type": "markdown",
   "id": "f028f208",
   "metadata": {},
   "source": [
    "__What´s the benefit of covering both options?__<br>\n",
    "-> We can now __run Trading Bots in Jupyter and as a Script__ with the __latest Versions__ for Python and Python-Binance. No need to care about Versions and Installations anymore!"
   ]
  },
  {
   "cell_type": "markdown",
   "id": "36d72abf",
   "metadata": {},
   "source": [
    "----------------------------------------------------------------------"
   ]
  },
  {
   "cell_type": "markdown",
   "id": "8441ca15",
   "metadata": {},
   "source": [
    "### Option 1: ThreadedWebsocketManager (only executable in scripts, not in Jupyter!):"
   ]
  },
  {
   "cell_type": "code",
   "execution_count": null,
   "id": "92af8b55",
   "metadata": {},
   "outputs": [],
   "source": [
    "from binance import ThreadedWebsocketManager\n",
    "import time"
   ]
  },
  {
   "cell_type": "code",
   "execution_count": null,
   "id": "f3c79706",
   "metadata": {},
   "outputs": [],
   "source": [
    "def stream_data(msg):\n",
    "    ''' define how to process incoming WebSocket messages '''\n",
    "    print(msg)"
   ]
  },
  {
   "cell_type": "code",
   "execution_count": null,
   "id": "9a653d18",
   "metadata": {},
   "outputs": [],
   "source": [
    "# initialize and start the WebSocket\n",
    "twm = ThreadedWebsocketManager()\n",
    "twm.start()"
   ]
  },
  {
   "cell_type": "markdown",
   "id": "4f28306d",
   "metadata": {},
   "source": [
    "If you have an account on __Binance.US__ (US residents) <br>\n",
    "(If you are using an exchange from the US, Japan or other TLD then make sure pass tld=’us’ when initializing the TWM.)"
   ]
  },
  {
   "cell_type": "code",
   "execution_count": null,
   "id": "4fb334b0",
   "metadata": {},
   "outputs": [],
   "source": [
    "# initialize and start the WebSocket in the us\n",
    "# twm = ThreadedWebsocketManager(tld = \"us\")\n",
    "# twm.start()"
   ]
  },
  {
   "cell_type": "code",
   "execution_count": null,
   "id": "182d7464",
   "metadata": {},
   "outputs": [],
   "source": [
    "twm"
   ]
  },
  {
   "cell_type": "markdown",
   "id": "3e64f9a2",
   "metadata": {},
   "source": [
    "__Different Market Streams available:__ https://binance-docs.github.io/apidocs/spot/en/#websocket-market-streams"
   ]
  },
  {
   "cell_type": "markdown",
   "id": "b4abb269",
   "metadata": {},
   "source": [
    "__Individual Symbol Mini Ticker:__ 24hr rolling window mini-ticker statistics. These are NOT the statistics of the UTC day, but a 24hr rolling window for the previous 24hrs."
   ]
  },
  {
   "cell_type": "code",
   "execution_count": null,
   "id": "1db6b7b8",
   "metadata": {},
   "outputs": [],
   "source": [
    "# subscribe to the stream\n",
    "twm.start_symbol_miniticker_socket(callback = stream_data, symbol = \"BTCUSDT\")"
   ]
  },
  {
   "cell_type": "code",
   "execution_count": null,
   "id": "473ab5ee",
   "metadata": {},
   "outputs": [],
   "source": [
    "# stop the Websocket/Stream after 20 seconds\n",
    "while True:\n",
    "    time.sleep(20)\n",
    "    twm.stop()\n",
    "    break"
   ]
  },
  {
   "cell_type": "markdown",
   "id": "d5bac91f",
   "metadata": {},
   "source": [
    "__Individual Symbol Mini Ticker Output/Message:__"
   ]
  },
  {
   "attachments": {
    "image.png": {
     "image/png": "[encoded data removed]"
    }
   },
   "cell_type": "markdown",
   "id": "92b33cdc",
   "metadata": {},
   "source": [
    "![image.png](attachment:image.png)"
   ]
  },
  {
   "cell_type": "markdown",
   "id": "8d6af5c3",
   "metadata": {},
   "source": [
    "----------------------------------------------------"
   ]
  },
  {
   "cell_type": "markdown",
   "id": "b6d854d8",
   "metadata": {},
   "source": [
    "### Option2: BinanceSocketManager (executable in Jupyter!): "
   ]
  },
  {
   "cell_type": "code",
   "execution_count": null,
   "id": "3e430f21",
   "metadata": {},
   "outputs": [],
   "source": [
    "import asyncio\n",
    "from binance import AsyncClient, BinanceSocketManager"
   ]
  },
  {
   "cell_type": "code",
   "execution_count": null,
   "id": "05b74273",
   "metadata": {},
   "outputs": [],
   "source": [
    "def stream_data(msg):\n",
    "    ''' define how to process incoming WebSocket messages '''\n",
    "    print(msg)"
   ]
  },
  {
   "cell_type": "code",
   "execution_count": null,
   "id": "4c152815",
   "metadata": {},
   "outputs": [],
   "source": [
    "async def main():\n",
    "    client = await AsyncClient.create()\n",
    "    bm = BinanceSocketManager(client)\n",
    "    ts = bm.symbol_miniticker_socket(symbol=\"BTCUSDT\")\n",
    "    \n",
    "    async with ts as tscm:\n",
    "        for _ in range(n):  # This is just an example to limit the number of messages. Remove or adjust as needed.\n",
    "            res = await tscm.recv()\n",
    "            stream_data(res)\n",
    "\n",
    "    await client.close_connection()"
   ]
  },
  {
   "cell_type": "code",
   "execution_count": null,
   "id": "c3f89a5f",
   "metadata": {},
   "outputs": [],
   "source": [
    "n = 10 # stop stream after 10 messages"
   ]
  },
  {
   "cell_type": "code",
   "execution_count": null,
   "id": "8cd55bd6",
   "metadata": {},
   "outputs": [],
   "source": [
    "await main() # start stream in Jupyter"
   ]
  },
  {
   "cell_type": "code",
   "execution_count": null,
   "id": "ad1b446d",
   "metadata": {},
   "outputs": [],
   "source": [
    "# asyncio.run(main()) # start stream in Script!!!"
   ]
  },
  {
   "cell_type": "markdown",
   "id": "f4b01f27",
   "metadata": {},
   "source": [
    "If you have an account on __Binance.US__ (US residents) <br>\n",
    "(If you are using an exchange from the US, Japan or other TLD then make sure pass tld=’us’ when initializing the client.)"
   ]
  },
  {
   "cell_type": "code",
   "execution_count": null,
   "id": "306676d1",
   "metadata": {},
   "outputs": [],
   "source": [
    "async def main():\n",
    "    client = await AsyncClient.create(tld = \"us\")\n",
    "    bm = BinanceSocketManager(client)\n",
    "    ts = bm.symbol_miniticker_socket(symbol = \"BTCUSD\") # USD instead of USDT\n",
    "    \n",
    "    async with ts as tscm:\n",
    "        for _ in range(n):  # This is just an example to limit the number of messages. Remove or adjust as needed.\n",
    "            res = await tscm.recv()\n",
    "            stream_data(res)\n",
    "\n",
    "    await client.close_connection()"
   ]
  },
  {
   "cell_type": "code",
   "execution_count": null,
   "id": "7d357898",
   "metadata": {},
   "outputs": [],
   "source": [
    "await main()"
   ]
  },
  {
   "cell_type": "code",
   "execution_count": null,
   "id": "2753fbdc",
   "metadata": {},
   "outputs": [],
   "source": []
  },
  {
   "cell_type": "markdown",
   "id": "28a1f965",
   "metadata": {},
   "source": [
    "## Streaming Market Data (Part 2)"
   ]
  },
  {
   "cell_type": "markdown",
   "id": "2184d2a2",
   "metadata": {},
   "source": [
    "### Option 1: ThreadedWebsocketManager (only executable in scripts, not in Jupyter!): "
   ]
  },
  {
   "cell_type": "code",
   "execution_count": null,
   "id": "852db936",
   "metadata": {},
   "outputs": [],
   "source": [
    "from binance import ThreadedWebsocketManager\n",
    "import pandas as pd\n",
    "import time"
   ]
  },
  {
   "cell_type": "code",
   "execution_count": null,
   "id": "bc1b094f",
   "metadata": {},
   "outputs": [],
   "source": [
    "# process data (not just printing)\n",
    "def stream_data(msg):\n",
    "    ''' define how to process incoming WebSocket messages '''\n",
    "    \n",
    "    time = pd.to_datetime(msg[\"E\"], unit = \"ms\")\n",
    "    price = msg[\"c\"]\n",
    "    \n",
    "    print(\"Time: {} | Price: {}\".format(time, price))"
   ]
  },
  {
   "cell_type": "code",
   "execution_count": null,
   "id": "7c19134b",
   "metadata": {},
   "outputs": [],
   "source": [
    "twm = ThreadedWebsocketManager()\n",
    "twm.start()"
   ]
  },
  {
   "cell_type": "code",
   "execution_count": null,
   "id": "e1e02359",
   "metadata": {},
   "outputs": [],
   "source": [
    "twm.start_symbol_miniticker_socket(callback = stream_data, symbol = \"BTCUSDT\")"
   ]
  },
  {
   "cell_type": "code",
   "execution_count": null,
   "id": "265f23c9",
   "metadata": {},
   "outputs": [],
   "source": [
    "while True:\n",
    "    time.sleep(20)\n",
    "    twm.stop()\n",
    "    break "
   ]
  },
  {
   "cell_type": "markdown",
   "id": "fbda2dfa",
   "metadata": {},
   "source": [
    "-----------------------------------------------"
   ]
  },
  {
   "cell_type": "markdown",
   "id": "c987c766",
   "metadata": {},
   "source": [
    "### Option 2: BinanceSocketManager (executable in Jupyter!):"
   ]
  },
  {
   "cell_type": "code",
   "execution_count": null,
   "id": "bda7ad53",
   "metadata": {},
   "outputs": [],
   "source": [
    "stream_data"
   ]
  },
  {
   "cell_type": "code",
   "execution_count": null,
   "id": "d1ea702d",
   "metadata": {},
   "outputs": [],
   "source": [
    "import asyncio\n",
    "from binance import AsyncClient, BinanceSocketManager\n",
    "import pandas as pd"
   ]
  },
  {
   "cell_type": "code",
   "execution_count": null,
   "id": "382e4f2f",
   "metadata": {},
   "outputs": [],
   "source": [
    "async def main():\n",
    "    client = await AsyncClient.create()\n",
    "    bm = BinanceSocketManager(client)\n",
    "    ts = bm.symbol_miniticker_socket(symbol = \"BTCUSDT\")\n",
    "    \n",
    "    async with ts as tscm:\n",
    "        for _ in range(10):\n",
    "            res = await tscm.recv()\n",
    "            stream_data(res)\n",
    "\n",
    "    await client.close_connection()\n",
    "await main()"
   ]
  },
  {
   "cell_type": "code",
   "execution_count": null,
   "id": "cf3a7516",
   "metadata": {},
   "outputs": [],
   "source": []
  },
  {
   "cell_type": "markdown",
   "id": "737f9d06",
   "metadata": {},
   "source": [
    "## Streaming and Collecting Real-Time Candles"
   ]
  },
  {
   "cell_type": "markdown",
   "id": "89284eb8",
   "metadata": {},
   "source": [
    "__Kline/Candlestick Stream:__ push updates to the current klines/candlestick every second."
   ]
  },
  {
   "cell_type": "markdown",
   "id": "b064e365",
   "metadata": {},
   "source": [
    "https://binance-docs.github.io/apidocs/spot/en/#kline-candlestick-streams"
   ]
  },
  {
   "cell_type": "markdown",
   "id": "f30ce1b0",
   "metadata": {},
   "source": [
    "__Output/Message:__"
   ]
  },
  {
   "attachments": {
    "image.png": {
     "image/png": "[encoded data removed]"
    }
   },
   "cell_type": "markdown",
   "id": "062c1a87",
   "metadata": {},
   "source": [
    "![image.png](attachment:image.png)"
   ]
  },
  {
   "cell_type": "markdown",
   "id": "d641abb0",
   "metadata": {},
   "source": [
    "### Option 1: ThreadedWebsocketManager (only executable in scripts, not in Jupyter!):"
   ]
  },
  {
   "cell_type": "code",
   "execution_count": null,
   "id": "3118a90e",
   "metadata": {},
   "outputs": [],
   "source": [
    "from binance import ThreadedWebsocketManager\n",
    "import pandas as pd\n",
    "import time"
   ]
  },
  {
   "cell_type": "code",
   "execution_count": null,
   "id": "a21ffdc2",
   "metadata": {},
   "outputs": [],
   "source": [
    "df = pd.DataFrame(columns = [\"Open\", \"High\", \"Low\", \"Close\", \"Volume\", \"Complete\"])\n",
    "df"
   ]
  },
  {
   "cell_type": "code",
   "execution_count": null,
   "id": "079798b4",
   "metadata": {},
   "outputs": [],
   "source": [
    "def stream_candles(msg):\n",
    "    ''' define how to process incoming WebSocket messages '''\n",
    "    \n",
    "    # extract the required items from msg\n",
    "    event_time = pd.to_datetime(msg[\"E\"], unit = \"ms\")\n",
    "    start_time = pd.to_datetime(msg[\"k\"][\"t\"], unit = \"ms\")\n",
    "    first   = float(msg[\"k\"][\"o\"])\n",
    "    high    = float(msg[\"k\"][\"h\"])\n",
    "    low     = float(msg[\"k\"][\"l\"])\n",
    "    close   = float(msg[\"k\"][\"c\"])\n",
    "    volume  = float(msg[\"k\"][\"v\"])\n",
    "    complete=       msg[\"k\"][\"x\"]\n",
    "    \n",
    "    # print out\n",
    "    print(\"Time: {} | Price: {}\".format(event_time, close))\n",
    "    \n",
    "    # feed df (add new bar / update latest bar)\n",
    "    df.loc[start_time] = [first, high, low, close, volume, complete]"
   ]
  },
  {
   "cell_type": "code",
   "execution_count": null,
   "id": "2cfc6c17",
   "metadata": {},
   "outputs": [],
   "source": [
    "twm = ThreadedWebsocketManager()\n",
    "twm.start()"
   ]
  },
  {
   "cell_type": "markdown",
   "id": "1e57c6fa",
   "metadata": {},
   "source": [
    "valid intervals - 1m, 3m, 5m, 15m, 30m, 1h, 2h, 4h, 6h, 8h, 12h, 1d, 3d, 1w, 1M"
   ]
  },
  {
   "cell_type": "code",
   "execution_count": null,
   "id": "e452d450",
   "metadata": {},
   "outputs": [],
   "source": [
    "twm.start_kline_socket(callback = stream_candles, symbol = \"BTCUSDT\", interval = \"1m\")"
   ]
  },
  {
   "cell_type": "code",
   "execution_count": null,
   "id": "bd68a683",
   "metadata": {},
   "outputs": [],
   "source": [
    "while True:\n",
    "    time.sleep(120) # stop after 2 minutes\n",
    "    twm.stop()\n",
    "    break"
   ]
  },
  {
   "cell_type": "code",
   "execution_count": null,
   "id": "13b731f7",
   "metadata": {},
   "outputs": [],
   "source": [
    "print(df)"
   ]
  },
  {
   "cell_type": "markdown",
   "id": "41d19fe5",
   "metadata": {},
   "source": [
    "----------------------------------------------"
   ]
  },
  {
   "cell_type": "markdown",
   "id": "7f2785c3",
   "metadata": {},
   "source": [
    "### Option 2: BinanceSocketManager (executable in Jupyter!): "
   ]
  },
  {
   "cell_type": "code",
   "execution_count": null,
   "id": "4ea1a74f",
   "metadata": {},
   "outputs": [],
   "source": [
    "import asyncio\n",
    "from binance import AsyncClient, BinanceSocketManager\n",
    "import pandas as pd"
   ]
  },
  {
   "cell_type": "code",
   "execution_count": null,
   "id": "26080902",
   "metadata": {},
   "outputs": [],
   "source": [
    "df = pd.DataFrame(columns = [\"Open\", \"High\", \"Low\", \"Close\", \"Volume\", \"Complete\"])\n",
    "df"
   ]
  },
  {
   "cell_type": "code",
   "execution_count": null,
   "id": "f145f16d",
   "metadata": {},
   "outputs": [],
   "source": [
    "stream_candles"
   ]
  },
  {
   "cell_type": "code",
   "execution_count": null,
   "id": "92aa5a31",
   "metadata": {
    "scrolled": false
   },
   "outputs": [],
   "source": [
    "async def main():\n",
    "    client = await AsyncClient.create()\n",
    "    bm = BinanceSocketManager(client)\n",
    "    ts = bm.kline_socket(symbol = \"BTCUSDT\", interval = \"1m\")\n",
    "    \n",
    "    async with ts as tscm:\n",
    "        for _ in range(120):  # This is just an example to limit the number of messages. Remove or adjust as needed.\n",
    "            res = await tscm.recv()\n",
    "            stream_candles(res)\n",
    "\n",
    "    await client.close_connection()\n",
    "await main()"
   ]
  },
  {
   "cell_type": "code",
   "execution_count": null,
   "id": "c55c3ac0",
   "metadata": {},
   "outputs": [],
   "source": [
    "df"
   ]
  },
  {
   "cell_type": "code",
   "execution_count": null,
   "id": "362bcde0",
   "metadata": {},
   "outputs": [],
   "source": [
    "df.info()"
   ]
  },
  {
   "cell_type": "code",
   "execution_count": null,
   "id": "4c5b74a8",
   "metadata": {},
   "outputs": [],
   "source": []
  },
  {
   "cell_type": "markdown",
   "id": "f9c909d8",
   "metadata": {},
   "source": [
    "## Creating a Test Order"
   ]
  },
  {
   "cell_type": "code",
   "execution_count": null,
   "id": "d8360de8",
   "metadata": {},
   "outputs": [],
   "source": [
    "from binance.client import Client"
   ]
  },
  {
   "cell_type": "code",
   "execution_count": null,
   "id": "3a3089bd",
   "metadata": {},
   "outputs": [],
   "source": [
    "client = Client(api_key = api_key, api_secret = secret_key, tld = \"com\")"
   ]
  },
  {
   "cell_type": "code",
   "execution_count": null,
   "id": "0561c813",
   "metadata": {},
   "outputs": [],
   "source": [
    "# place a test market buy order, to place an actual order use the create_order function\n",
    "order = client.create_test_order(symbol = \"BTCEUR\", side = \"BUY\", type = \"MARKET\", quantity = 0.1)"
   ]
  },
  {
   "cell_type": "code",
   "execution_count": null,
   "id": "e031c52e",
   "metadata": {},
   "outputs": [],
   "source": [
    "order"
   ]
  },
  {
   "cell_type": "markdown",
   "id": "2a31ff06",
   "metadata": {},
   "source": [
    "-> Paper Trading in the __Spot Testnet__ (see next Lectures)!!!"
   ]
  },
  {
   "cell_type": "code",
   "execution_count": null,
   "id": "db630d96",
   "metadata": {},
   "outputs": [],
   "source": []
  }
 ],
 "metadata": {
  "kernelspec": {
   "display_name": "Python 3 (ipykernel)",
   "language": "python",
   "name": "python3"
  },
  "language_info": {
   "codemirror_mode": {
    "name": "ipython",
    "version": 3
   },
   "file_extension": ".py",
   "mimetype": "text/x-python",
   "name": "python",
   "nbconvert_exporter": "python",
   "pygments_lexer": "ipython3",
   "version": "3.11.4"
  }
 },
 "nbformat": 4,
 "nbformat_minor": 5
}
