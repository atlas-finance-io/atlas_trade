{
 "cells": [
  {
   "cell_type": "markdown",
   "id": "dab6e5ec",
   "metadata": {},
   "source": [
    "# Paper Trading with Python and Binance - the Spot Testnet API"
   ]
  },
  {
   "cell_type": "markdown",
   "id": "03859346",
   "metadata": {},
   "source": [
    "More Information and getting the Credentials: https://testnet.binance.vision/"
   ]
  },
  {
   "cell_type": "markdown",
   "id": "4f19bb62",
   "metadata": {},
   "source": [
    "__Insert your Spot Testnet Credentials here__:"
   ]
  },
  {
   "cell_type": "code",
   "execution_count": null,
   "id": "2b9a8ea5",
   "metadata": {},
   "outputs": [],
   "source": [
    "api_key = \"insert_here\"\n",
    "secret_key = \"insert_here\""
   ]
  },
  {
   "cell_type": "markdown",
   "id": "49a45235",
   "metadata": {},
   "source": [
    "## Creating a Connection to the Spot Testnet"
   ]
  },
  {
   "cell_type": "code",
   "execution_count": null,
   "id": "4743b747",
   "metadata": {},
   "outputs": [],
   "source": [
    "from binance.client import Client"
   ]
  },
  {
   "cell_type": "code",
   "execution_count": null,
   "id": "84908c00",
   "metadata": {},
   "outputs": [],
   "source": [
    "client = Client(api_key = api_key, api_secret = secret_key, tld = \"com\", testnet = True) # Testnet!!!"
   ]
  },
  {
   "cell_type": "markdown",
   "id": "608d86bf",
   "metadata": {},
   "source": [
    "__Simple Rule:__ <br>\n",
    "Use your __Testnet Credentials with testnet = True__ and your __\"Real Account\" Credentials with testnet = False__ (default)"
   ]
  },
  {
   "cell_type": "code",
   "execution_count": null,
   "id": "0c03d176",
   "metadata": {},
   "outputs": [],
   "source": [
    "client"
   ]
  },
  {
   "cell_type": "code",
   "execution_count": null,
   "id": "b0795d04",
   "metadata": {},
   "outputs": [],
   "source": [
    "client.get_account() # Test account details"
   ]
  },
  {
   "cell_type": "code",
   "execution_count": null,
   "id": "ee572efe",
   "metadata": {},
   "outputs": [],
   "source": []
  },
  {
   "cell_type": "markdown",
   "id": "aeb728c5",
   "metadata": {},
   "source": [
    "## Spot Testnet API - Overview"
   ]
  },
  {
   "cell_type": "markdown",
   "id": "40e56281",
   "metadata": {},
   "source": [
    "__Same Documentation applies for Spot Testnet:__"
   ]
  },
  {
   "cell_type": "markdown",
   "id": "9c151512",
   "metadata": {},
   "source": [
    "https://binance-docs.github.io/apidocs/spot/en/#introduction"
   ]
  },
  {
   "cell_type": "code",
   "execution_count": null,
   "id": "bd670d70",
   "metadata": {},
   "outputs": [],
   "source": [
    "import pandas as pd\n",
    "from binance.client import Client"
   ]
  },
  {
   "cell_type": "code",
   "execution_count": null,
   "id": "90d3ff60",
   "metadata": {},
   "outputs": [],
   "source": [
    "client = Client(api_key = api_key, api_secret = secret_key, tld = \"com\", testnet = True) # Testnet!!!"
   ]
  },
  {
   "cell_type": "code",
   "execution_count": null,
   "id": "93f5a1e6",
   "metadata": {},
   "outputs": [],
   "source": [
    "client.get_system_status()"
   ]
  },
  {
   "cell_type": "code",
   "execution_count": null,
   "id": "9f302a73",
   "metadata": {},
   "outputs": [],
   "source": [
    "account = client.get_account()\n",
    "account"
   ]
  },
  {
   "cell_type": "code",
   "execution_count": null,
   "id": "5fe880a7",
   "metadata": {},
   "outputs": [],
   "source": [
    "df = pd.DataFrame(account[\"balances\"])\n",
    "df"
   ]
  },
  {
   "cell_type": "code",
   "execution_count": null,
   "id": "81f70401",
   "metadata": {},
   "outputs": [],
   "source": [
    "df.free = pd.to_numeric(df.free, errors = \"coerce\")\n",
    "df.locked = pd.to_numeric(df.locked, errors = \"coerce\")"
   ]
  },
  {
   "cell_type": "code",
   "execution_count": null,
   "id": "390d6f03",
   "metadata": {},
   "outputs": [],
   "source": [
    "df.info()"
   ]
  },
  {
   "cell_type": "code",
   "execution_count": null,
   "id": "3d5a5dfc",
   "metadata": {},
   "outputs": [],
   "source": [
    "client.get_asset_balance(asset = \"BTC\")"
   ]
  },
  {
   "cell_type": "code",
   "execution_count": null,
   "id": "cf953033",
   "metadata": {},
   "outputs": [],
   "source": [
    "client.get_asset_balance(asset = \"ETH\")"
   ]
  },
  {
   "cell_type": "code",
   "execution_count": null,
   "id": "93c8b40a",
   "metadata": {},
   "outputs": [],
   "source": [
    "client.get_asset_balance(asset = \"EUR\")"
   ]
  },
  {
   "cell_type": "code",
   "execution_count": null,
   "id": "84360e93",
   "metadata": {},
   "outputs": [],
   "source": [
    "client.get_symbol_ticker(symbol = \"BTCUSDT\") # current price for one symbol"
   ]
  },
  {
   "cell_type": "code",
   "execution_count": null,
   "id": "652274fc",
   "metadata": {},
   "outputs": [],
   "source": [
    "# get current prices for all pairs\n",
    "client.get_all_tickers()"
   ]
  },
  {
   "cell_type": "code",
   "execution_count": null,
   "id": "69749ee7",
   "metadata": {},
   "outputs": [],
   "source": [
    "last24 = client.get_ticker(symbol = \"BTCUSDT\") # 24H Price change statistic\n",
    "last24"
   ]
  },
  {
   "cell_type": "code",
   "execution_count": null,
   "id": "6a4d174a",
   "metadata": {},
   "outputs": [],
   "source": [
    "timestamp = client._get_earliest_valid_timestamp(symbol = \"BTCUSDT\", interval = \"1d\")\n",
    "timestamp"
   ]
  },
  {
   "cell_type": "code",
   "execution_count": null,
   "id": "564e7e2a",
   "metadata": {},
   "outputs": [],
   "source": [
    "pd.to_datetime(timestamp, unit = \"ms\") # reset every month!!!"
   ]
  },
  {
   "cell_type": "code",
   "execution_count": null,
   "id": "2e361b59",
   "metadata": {},
   "outputs": [],
   "source": [
    "def get_history(symbol, interval, start, end = None):\n",
    "    bars = client.get_historical_klines(symbol = symbol, interval = interval,\n",
    "                                        start_str = start, end_str = end, limit = 1000)\n",
    "    df = pd.DataFrame(bars)\n",
    "    df[\"Date\"] = pd.to_datetime(df.iloc[:,0], unit = \"ms\")\n",
    "    df.columns = [\"Open Time\", \"Open\", \"High\", \"Low\", \"Close\", \"Volume\",\n",
    "                  \"Clos Time\", \"Quote Asset Volume\", \"Number of Trades\",\n",
    "                  \"Taker Buy Base Asset Volume\", \"Taker Buy Quote Asset Volume\", \"Ignore\", \"Date\"]\n",
    "    df = df[[\"Date\", \"Open\", \"High\", \"Low\", \"Close\", \"Volume\"]].copy()\n",
    "    df.set_index(\"Date\", inplace = True)\n",
    "    for column in df.columns:\n",
    "        df[column] = pd.to_numeric(df[column], errors = \"coerce\")\n",
    "    \n",
    "    return df"
   ]
  },
  {
   "cell_type": "code",
   "execution_count": null,
   "id": "97329e22",
   "metadata": {},
   "outputs": [],
   "source": [
    "df = get_history(symbol = \"BTCUSDT\", interval = \"1d\", start = timestamp)\n",
    "df"
   ]
  },
  {
   "cell_type": "code",
   "execution_count": null,
   "id": "a860eb2e",
   "metadata": {},
   "outputs": [],
   "source": [
    "df = get_history(symbol = \"BTCUSDT\", interval = \"1h\", start = \"2021-09-15\")\n",
    "df"
   ]
  },
  {
   "cell_type": "markdown",
   "id": "0648f385",
   "metadata": {},
   "source": [
    "### ++++++ Update (August 2023) ++++++++"
   ]
  },
  {
   "cell_type": "markdown",
   "id": "81128331",
   "metadata": {},
   "source": [
    "There are two alterantives to stream live data with python-binance:\n",
    "- using __ThreadedWebsocketManager__ -or-\n",
    "- using __BinanceSocketManager (newly added to the course)__"
   ]
  },
  {
   "cell_type": "markdown",
   "id": "a0701e19",
   "metadata": {},
   "source": [
    "__What´s the benefit of covering both options?__<br>\n",
    "-> We can now __run Trading Bots in Jupyter and as a Script__ with the __latest Versions__ for Python and Python-Binance. No need to care about Versions and Installations anymore!"
   ]
  },
  {
   "cell_type": "markdown",
   "id": "972e3fa7",
   "metadata": {},
   "source": [
    "For more information, please go back to the previous Lectures (API Intro)!"
   ]
  },
  {
   "cell_type": "markdown",
   "id": "4db8e3e9",
   "metadata": {},
   "source": [
    "### Option 1: ThreadedWebsocketManager (only executable in scripts, not in Jupyter!):"
   ]
  },
  {
   "cell_type": "code",
   "execution_count": null,
   "id": "6215bd3a",
   "metadata": {},
   "outputs": [],
   "source": [
    "from binance import ThreadedWebsocketManager"
   ]
  },
  {
   "cell_type": "code",
   "execution_count": null,
   "id": "f3c79706",
   "metadata": {},
   "outputs": [],
   "source": [
    "def stream_data(msg):\n",
    "    ''' define how to process incoming WebSocket messages '''\n",
    "    \n",
    "    time = pd.to_datetime(msg[\"E\"], unit = \"ms\")\n",
    "    price = msg[\"c\"]\n",
    "    \n",
    "    print(\"Time: {} | Price: {}\".format(time, price))"
   ]
  },
  {
   "cell_type": "code",
   "execution_count": null,
   "id": "9a653d18",
   "metadata": {},
   "outputs": [],
   "source": [
    "# initialize and start the WebSocket\n",
    "twm = ThreadedWebsocketManager()\n",
    "twm.start()"
   ]
  },
  {
   "cell_type": "code",
   "execution_count": null,
   "id": "1db6b7b8",
   "metadata": {},
   "outputs": [],
   "source": [
    "# subscribe to the stream\n",
    "twm.start_symbol_miniticker_socket(callback = stream_data, symbol = \"BTCUSDT\")"
   ]
  },
  {
   "cell_type": "code",
   "execution_count": null,
   "id": "473ab5ee",
   "metadata": {},
   "outputs": [],
   "source": [
    "# stop the Websocket/Stream after 20 seconds\n",
    "while True:\n",
    "    time.sleep(20)\n",
    "    twm.stop()\n",
    "    break"
   ]
  },
  {
   "cell_type": "markdown",
   "id": "9999f1c6",
   "metadata": {},
   "source": [
    "---------------------------"
   ]
  },
  {
   "cell_type": "markdown",
   "id": "34365b7e",
   "metadata": {},
   "source": [
    "### Option 2: BinanceSocketManager (executable in Jupyter!):"
   ]
  },
  {
   "cell_type": "code",
   "execution_count": null,
   "id": "bda7ad53",
   "metadata": {},
   "outputs": [],
   "source": [
    "stream_data"
   ]
  },
  {
   "cell_type": "code",
   "execution_count": null,
   "id": "d1ea702d",
   "metadata": {},
   "outputs": [],
   "source": [
    "import asyncio\n",
    "from binance import AsyncClient, BinanceSocketManager"
   ]
  },
  {
   "cell_type": "code",
   "execution_count": null,
   "id": "382e4f2f",
   "metadata": {},
   "outputs": [],
   "source": [
    "async def main():\n",
    "    client = await AsyncClient.create()\n",
    "    bm = BinanceSocketManager(client)\n",
    "    ts = bm.symbol_miniticker_socket(symbol = \"BTCUSDT\")\n",
    "    \n",
    "    async with ts as tscm:\n",
    "        for _ in range(10):\n",
    "            res = await tscm.recv()\n",
    "            stream_data(res)\n",
    "\n",
    "    await client.close_connection()\n",
    "await main()"
   ]
  },
  {
   "cell_type": "code",
   "execution_count": null,
   "id": "7d8ff037",
   "metadata": {},
   "outputs": [],
   "source": []
  },
  {
   "cell_type": "markdown",
   "id": "f9c909d8",
   "metadata": {},
   "source": [
    "## Placing a Market Buy Order"
   ]
  },
  {
   "cell_type": "code",
   "execution_count": null,
   "id": "385a2351",
   "metadata": {},
   "outputs": [],
   "source": [
    "from binance.client import Client\n",
    "import pandas as pd"
   ]
  },
  {
   "cell_type": "code",
   "execution_count": null,
   "id": "d9de7cad",
   "metadata": {},
   "outputs": [],
   "source": [
    "client = Client(api_key = api_key, api_secret = secret_key, tld = \"com\", testnet = True) "
   ]
  },
  {
   "cell_type": "code",
   "execution_count": null,
   "id": "66e49c94",
   "metadata": {},
   "outputs": [],
   "source": [
    "client.get_account() "
   ]
  },
  {
   "cell_type": "code",
   "execution_count": null,
   "id": "0561c813",
   "metadata": {},
   "outputs": [],
   "source": [
    "# buy 0.1 BTC\n",
    "order = client.create_order(symbol = \"BTCUSDT\", side = \"BUY\", type = \"MARKET\", quantity = 0.1)"
   ]
  },
  {
   "cell_type": "code",
   "execution_count": null,
   "id": "6e99aed2",
   "metadata": {},
   "outputs": [],
   "source": [
    "order"
   ]
  },
  {
   "cell_type": "code",
   "execution_count": null,
   "id": "e031c52e",
   "metadata": {
    "scrolled": true
   },
   "outputs": [],
   "source": [
    "df = pd.DataFrame(order[\"fills\"])\n",
    "df"
   ]
  },
  {
   "cell_type": "code",
   "execution_count": null,
   "id": "df26364c",
   "metadata": {},
   "outputs": [],
   "source": [
    "df.info()"
   ]
  },
  {
   "cell_type": "code",
   "execution_count": null,
   "id": "b4746852",
   "metadata": {},
   "outputs": [],
   "source": [
    "num_columns = [\"price\", \"qty\", \"commission\"]"
   ]
  },
  {
   "cell_type": "code",
   "execution_count": null,
   "id": "08a3b407",
   "metadata": {},
   "outputs": [],
   "source": [
    "for column in num_columns:\n",
    "    df[column] = pd.to_numeric(df[column], errors = \"coerce\")"
   ]
  },
  {
   "cell_type": "code",
   "execution_count": null,
   "id": "212d4767",
   "metadata": {},
   "outputs": [],
   "source": [
    "df.info()"
   ]
  },
  {
   "cell_type": "code",
   "execution_count": null,
   "id": "3a3089bd",
   "metadata": {},
   "outputs": [],
   "source": [
    "df.qty.sum()"
   ]
  },
  {
   "cell_type": "code",
   "execution_count": null,
   "id": "a354199d",
   "metadata": {},
   "outputs": [],
   "source": [
    "df.price.mul(df.qty).sum()"
   ]
  },
  {
   "cell_type": "code",
   "execution_count": null,
   "id": "f4685df9",
   "metadata": {},
   "outputs": [],
   "source": [
    "client.get_account()"
   ]
  },
  {
   "cell_type": "code",
   "execution_count": null,
   "id": "203c0298",
   "metadata": {},
   "outputs": [],
   "source": [
    "# buy BTC for 1,000 USDT \n",
    "order = client.create_order(symbol = \"BTCUSDT\", side = \"BUY\", type = \"MARKET\", quoteOrderQty = 1000)"
   ]
  },
  {
   "cell_type": "code",
   "execution_count": null,
   "id": "d6064063",
   "metadata": {},
   "outputs": [],
   "source": [
    "order"
   ]
  },
  {
   "cell_type": "code",
   "execution_count": null,
   "id": "e03c9827",
   "metadata": {},
   "outputs": [],
   "source": [
    "avr_price = float(order[\"cummulativeQuoteQty\"]) / float(order[\"origQty\"]) \n",
    "avr_price"
   ]
  },
  {
   "cell_type": "code",
   "execution_count": null,
   "id": "518a611b",
   "metadata": {},
   "outputs": [],
   "source": [
    "client.get_account()"
   ]
  },
  {
   "cell_type": "code",
   "execution_count": null,
   "id": "2e1f0aba",
   "metadata": {},
   "outputs": [],
   "source": []
  },
  {
   "cell_type": "markdown",
   "id": "2753fec7",
   "metadata": {},
   "source": [
    "## Placing a Market Sell Order"
   ]
  },
  {
   "cell_type": "code",
   "execution_count": null,
   "id": "7c5e4d9a",
   "metadata": {},
   "outputs": [],
   "source": [
    "# selling 0.118011 BTC \n",
    "order = client.create_order(symbol = \"BTCUSDT\", side = \"SELL\", type = \"MARKET\", quantity = 0.1)"
   ]
  },
  {
   "cell_type": "code",
   "execution_count": null,
   "id": "63bfde67",
   "metadata": {},
   "outputs": [],
   "source": [
    "order"
   ]
  },
  {
   "cell_type": "code",
   "execution_count": null,
   "id": "46e9161c",
   "metadata": {},
   "outputs": [],
   "source": [
    "client.get_account() # Test account details"
   ]
  },
  {
   "cell_type": "code",
   "execution_count": null,
   "id": "01f5b3eb",
   "metadata": {},
   "outputs": [],
   "source": []
  },
  {
   "cell_type": "markdown",
   "id": "40d2302c",
   "metadata": {},
   "source": [
    "## Placing Limit Orders"
   ]
  },
  {
   "cell_type": "code",
   "execution_count": null,
   "id": "8c921629",
   "metadata": {},
   "outputs": [],
   "source": [
    "from binance.client import Client\n",
    "import pandas as pd"
   ]
  },
  {
   "cell_type": "code",
   "execution_count": null,
   "id": "dc1d14a2",
   "metadata": {},
   "outputs": [],
   "source": [
    "client = Client(api_key = api_key, api_secret = secret_key, tld = \"com\", testnet = True) "
   ]
  },
  {
   "cell_type": "code",
   "execution_count": null,
   "id": "94749439",
   "metadata": {},
   "outputs": [],
   "source": [
    "client.get_account()"
   ]
  },
  {
   "cell_type": "code",
   "execution_count": null,
   "id": "cd090e59",
   "metadata": {},
   "outputs": [],
   "source": [
    "client.get_symbol_ticker(symbol = \"BTCUSDT\") # current price"
   ]
  },
  {
   "cell_type": "markdown",
   "id": "850300c8",
   "metadata": {},
   "source": [
    "__Limit Buy Order__"
   ]
  },
  {
   "cell_type": "code",
   "execution_count": null,
   "id": "5d28a577",
   "metadata": {},
   "outputs": [],
   "source": [
    "order1 = client.create_order(symbol=\"BTCUSDT\", side = \"BUY\", type = \"LIMIT\",\n",
    "                            quantity = 0.1, timeInForce = \"GTC\", price = 50000)"
   ]
  },
  {
   "cell_type": "code",
   "execution_count": null,
   "id": "b504bcf1",
   "metadata": {},
   "outputs": [],
   "source": [
    "order1"
   ]
  },
  {
   "cell_type": "code",
   "execution_count": null,
   "id": "45e8d645",
   "metadata": {},
   "outputs": [],
   "source": [
    "order_id_buy = order1[\"orderId\"]\n",
    "order_id_buy"
   ]
  },
  {
   "cell_type": "code",
   "execution_count": null,
   "id": "db9f17e8",
   "metadata": {},
   "outputs": [],
   "source": [
    "client.get_order(symbol = \"BTCUSDT\", orderId = order_id_buy)"
   ]
  },
  {
   "cell_type": "markdown",
   "id": "2a963e5c",
   "metadata": {},
   "source": [
    "__Limit Sell Order__"
   ]
  },
  {
   "cell_type": "code",
   "execution_count": null,
   "id": "678fd273",
   "metadata": {},
   "outputs": [],
   "source": [
    "order2 = client.create_order(symbol=\"BTCUSDT\", side = \"SELL\", type = \"LIMIT\",\n",
    "                            quantity = 0.1, timeInForce = \"GTC\", price = 60000)"
   ]
  },
  {
   "cell_type": "code",
   "execution_count": null,
   "id": "00b842a4",
   "metadata": {},
   "outputs": [],
   "source": [
    "order2"
   ]
  },
  {
   "cell_type": "code",
   "execution_count": null,
   "id": "b04f76b3",
   "metadata": {},
   "outputs": [],
   "source": [
    "order_id_sell = order2[\"orderId\"]\n",
    "order_id_sell"
   ]
  },
  {
   "cell_type": "code",
   "execution_count": null,
   "id": "a013347c",
   "metadata": {},
   "outputs": [],
   "source": [
    "open_orders = client.get_open_orders(symbol = \"BTCUSDT\")\n",
    "open_orders"
   ]
  },
  {
   "cell_type": "code",
   "execution_count": null,
   "id": "e6f87f5d",
   "metadata": {},
   "outputs": [],
   "source": [
    "pd.DataFrame(open_orders)"
   ]
  },
  {
   "cell_type": "code",
   "execution_count": null,
   "id": "b5b186f8",
   "metadata": {},
   "outputs": [],
   "source": [
    "result = client.cancel_order(symbol = \"BTCUSDT\", orderId = order_id_buy)\n",
    "result"
   ]
  },
  {
   "cell_type": "code",
   "execution_count": null,
   "id": "23bbca55",
   "metadata": {},
   "outputs": [],
   "source": [
    "result = client.cancel_order(symbol = \"BTCUSDT\", orderId = order_id_sell)\n",
    "result"
   ]
  },
  {
   "cell_type": "code",
   "execution_count": null,
   "id": "31e13603",
   "metadata": {},
   "outputs": [],
   "source": []
  },
  {
   "cell_type": "markdown",
   "id": "5f08c14e",
   "metadata": {},
   "source": [
    "## Reporting: Getting all (historical) Orders and Trades"
   ]
  },
  {
   "cell_type": "code",
   "execution_count": null,
   "id": "6adf8bff",
   "metadata": {},
   "outputs": [],
   "source": [
    "from binance.client import Client\n",
    "import pandas as pd"
   ]
  },
  {
   "cell_type": "code",
   "execution_count": null,
   "id": "86fdeb4f",
   "metadata": {},
   "outputs": [],
   "source": [
    "client = Client(api_key = api_key, api_secret = secret_key, tld = \"com\", testnet = True) "
   ]
  },
  {
   "cell_type": "code",
   "execution_count": null,
   "id": "53564005",
   "metadata": {},
   "outputs": [],
   "source": [
    "all_orders = client.get_all_orders(symbol = \"BTCUSDT\")\n",
    "all_orders"
   ]
  },
  {
   "cell_type": "code",
   "execution_count": null,
   "id": "345caac2",
   "metadata": {},
   "outputs": [],
   "source": [
    "pd.DataFrame(all_orders)"
   ]
  },
  {
   "cell_type": "code",
   "execution_count": null,
   "id": "227575f4",
   "metadata": {},
   "outputs": [],
   "source": [
    "trades = client.get_my_trades(symbol = \"BTCUSDT\")\n",
    "trades"
   ]
  },
  {
   "cell_type": "code",
   "execution_count": null,
   "id": "9c79c4dd",
   "metadata": {},
   "outputs": [],
   "source": [
    "df = pd.DataFrame(trades)\n",
    "df"
   ]
  },
  {
   "cell_type": "code",
   "execution_count": null,
   "id": "3f2e0c59",
   "metadata": {},
   "outputs": [],
   "source": [
    "df.time = pd.to_datetime(df.time, unit = \"ms\", errors = \"coerce\")"
   ]
  },
  {
   "cell_type": "code",
   "execution_count": null,
   "id": "164cd013",
   "metadata": {},
   "outputs": [],
   "source": [
    "df"
   ]
  },
  {
   "cell_type": "code",
   "execution_count": null,
   "id": "295c22e1",
   "metadata": {},
   "outputs": [],
   "source": []
  },
  {
   "cell_type": "markdown",
   "id": "2c96576c",
   "metadata": {},
   "source": [
    "## Creating & Running a first (simple) Trading Bot"
   ]
  },
  {
   "cell_type": "code",
   "execution_count": null,
   "id": "147be47b",
   "metadata": {},
   "outputs": [],
   "source": [
    "from binance.client import Client\n",
    "import pandas as pd"
   ]
  },
  {
   "cell_type": "code",
   "execution_count": null,
   "id": "5aae4ec9",
   "metadata": {},
   "outputs": [],
   "source": [
    "client = Client(api_key = api_key, api_secret = secret_key, tld = \"com\", testnet = True)"
   ]
  },
  {
   "cell_type": "code",
   "execution_count": null,
   "id": "0ffefb77",
   "metadata": {},
   "outputs": [],
   "source": [
    "client.get_account()"
   ]
  },
  {
   "cell_type": "markdown",
   "id": "b5597221",
   "metadata": {},
   "source": [
    "### Random Trading Bot"
   ]
  },
  {
   "cell_type": "markdown",
   "id": "6c8914fa",
   "metadata": {},
   "source": [
    "__A simple random Trading Bot__: Stream Market Data and buy 0.1 BTC (with USDT) once condition x (Price and/or Volume) has been met. Then stop the Stream."
   ]
  },
  {
   "cell_type": "markdown",
   "id": "6a2a2062",
   "metadata": {},
   "source": [
    "Condition x: Price (rounded down) is divisible by 10 without remainder."
   ]
  },
  {
   "cell_type": "code",
   "execution_count": null,
   "id": "bb570a2e",
   "metadata": {},
   "outputs": [],
   "source": [
    "40215 % 10 # modulo"
   ]
  },
  {
   "cell_type": "markdown",
   "id": "887728e8",
   "metadata": {},
   "source": [
    "__Using the Miniticker Stream:__"
   ]
  },
  {
   "attachments": {
    "image.png": {
     "image/png": "[encoded data removed]"
    }
   },
   "cell_type": "markdown",
   "id": "1c1b2b0b",
   "metadata": {},
   "source": [
    "![image.png](attachment:image.png)"
   ]
  },
  {
   "cell_type": "markdown",
   "id": "2bb136f2",
   "metadata": {},
   "source": [
    "### Option 1: ThreadedWebsocketManager (only executable in scripts, not in Jupyter!):"
   ]
  },
  {
   "cell_type": "code",
   "execution_count": null,
   "id": "a5a0eab7",
   "metadata": {},
   "outputs": [],
   "source": [
    "from binance import ThreadedWebsocketManager"
   ]
  },
  {
   "cell_type": "code",
   "execution_count": null,
   "id": "bcda5431",
   "metadata": {},
   "outputs": [],
   "source": [
    "twm = ThreadedWebsocketManager()\n",
    "twm.start()"
   ]
  },
  {
   "cell_type": "code",
   "execution_count": null,
   "id": "c8f056fc",
   "metadata": {},
   "outputs": [],
   "source": [
    "def simple_bot(msg):\n",
    "    ''' define how to process incoming WebSocket messages '''\n",
    "    \n",
    "    time = pd.to_datetime(msg[\"E\"], unit = \"ms\")\n",
    "    price = float(msg[\"c\"])\n",
    "    \n",
    "    print(\"Time: {} | Price: {}\".format(time, price))\n",
    "    \n",
    "    if int(price) % 10 == 0:\n",
    "        order = client.create_order(symbol = \"BTCUSDT\", side = \"BUY\", type = \"MARKET\", quantity = 0.1)\n",
    "        print(\"\\n\" + 50 * \"-\")\n",
    "        print(\"Buy {} BTC for {} USDT\".format(order[\"executedQty\"], order[\"cummulativeQuoteQty\"]))\n",
    "        print(50 * \"-\" + \"\\n\")\n",
    "        \n",
    "        twm.stop() # stop defined inside callback"
   ]
  },
  {
   "cell_type": "code",
   "execution_count": null,
   "id": "d7c3a21f",
   "metadata": {},
   "outputs": [],
   "source": [
    "twm.start_symbol_miniticker_socket(callback = simple_bot, symbol = \"BTCUSDT\")\n",
    "twm.join() # required if stop is defined in callback function"
   ]
  },
  {
   "cell_type": "markdown",
   "id": "07e5a36e",
   "metadata": {},
   "source": [
    "-----------------------------"
   ]
  },
  {
   "cell_type": "markdown",
   "id": "2084a395",
   "metadata": {},
   "source": [
    "### Option 2: BinanceSocketManager (executable in Jupyter!): "
   ]
  },
  {
   "cell_type": "code",
   "execution_count": null,
   "id": "2bc14222",
   "metadata": {},
   "outputs": [],
   "source": [
    "import asyncio\n",
    "from binance import AsyncClient, BinanceSocketManager"
   ]
  },
  {
   "cell_type": "code",
   "execution_count": null,
   "id": "6069375b",
   "metadata": {},
   "outputs": [],
   "source": [
    "stop_streaming = False # setting a stop_streaming variable (initially: False)"
   ]
  },
  {
   "cell_type": "code",
   "execution_count": null,
   "id": "27374767",
   "metadata": {},
   "outputs": [],
   "source": [
    "def simple_bot(msg):\n",
    "    ''' define how to process incoming WebSocket messages '''\n",
    "    \n",
    "    time = pd.to_datetime(msg[\"E\"], unit = \"ms\")\n",
    "    price = float(msg[\"c\"])\n",
    "    \n",
    "    print(\"Time: {} | Price: {}\".format(time, price))\n",
    "    \n",
    "    if int(price) % 10 == 0:\n",
    "        order = client.create_order(symbol = \"BTCUSDT\", side = \"BUY\", type = \"MARKET\", quantity = 0.1)\n",
    "        print(\"\\n\" + 50 * \"-\")\n",
    "        print(\"Buy {} BTC for {} USDT\".format(order[\"executedQty\"], order[\"cummulativeQuoteQty\"]))\n",
    "        print(50 * \"-\" + \"\\n\")\n",
    "        \n",
    "        global stop_streaming\n",
    "        stop_streaming = True  # stop defined inside callback"
   ]
  },
  {
   "cell_type": "code",
   "execution_count": null,
   "id": "de844f6a",
   "metadata": {},
   "outputs": [],
   "source": [
    "async def main():\n",
    "    client = await AsyncClient.create()\n",
    "    bm = BinanceSocketManager(client)\n",
    "    ts = bm.symbol_miniticker_socket(symbol=\"BTCUSDT\")\n",
    "    \n",
    "    async with ts as tscm:\n",
    "        while True:\n",
    "            res = await tscm.recv()\n",
    "            simple_bot(res)\n",
    "            \n",
    "            if stop_streaming:\n",
    "                break\n",
    "\n",
    "    await client.close_connection()"
   ]
  },
  {
   "cell_type": "code",
   "execution_count": null,
   "id": "e4300c4a",
   "metadata": {},
   "outputs": [],
   "source": [
    "await main()"
   ]
  },
  {
   "cell_type": "code",
   "execution_count": null,
   "id": "5d345371",
   "metadata": {},
   "outputs": [],
   "source": [
    "client.get_account() "
   ]
  }
 ],
 "metadata": {
  "kernelspec": {
   "display_name": "Python 3 (ipykernel)",
   "language": "python",
   "name": "python3"
  },
  "language_info": {
   "codemirror_mode": {
    "name": "ipython",
    "version": 3
   },
   "file_extension": ".py",
   "mimetype": "text/x-python",
   "name": "python",
   "nbconvert_exporter": "python",
   "pygments_lexer": "ipython3",
   "version": "3.11.4"
  }
 },
 "nbformat": 4,
 "nbformat_minor": 5
}
