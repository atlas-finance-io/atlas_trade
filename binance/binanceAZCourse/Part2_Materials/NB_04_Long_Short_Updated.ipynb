{
 "cells": [
  {
   "cell_type": "markdown",
   "id": "56a7db59",
   "metadata": {},
   "source": [
    "# A Long-Short Price & Volume Strategy"
   ]
  },
  {
   "cell_type": "markdown",
   "id": "774f8c6d",
   "metadata": {},
   "source": [
    "## Getting the data"
   ]
  },
  {
   "cell_type": "code",
   "execution_count": null,
   "id": "e4434faf",
   "metadata": {},
   "outputs": [],
   "source": [
    "import pandas as pd\n",
    "import numpy as np\n",
    "import matplotlib.pyplot as plt\n",
    "import warnings\n",
    "plt.style.use(\"seaborn-v0_8\")\n",
    "warnings.filterwarnings(\"ignore\")"
   ]
  },
  {
   "cell_type": "code",
   "execution_count": null,
   "id": "d6f10acc",
   "metadata": {},
   "outputs": [],
   "source": [
    "data = pd.read_csv(\"bitcoin.csv\", parse_dates = [\"Date\"], index_col = \"Date\")\n",
    "data"
   ]
  },
  {
   "cell_type": "code",
   "execution_count": null,
   "id": "7b241f1a",
   "metadata": {},
   "outputs": [],
   "source": [
    "data.info()"
   ]
  },
  {
   "cell_type": "code",
   "execution_count": null,
   "id": "23d89c1a",
   "metadata": {},
   "outputs": [],
   "source": [
    "data = data[[\"Close\", \"Volume\"]].copy()"
   ]
  },
  {
   "cell_type": "code",
   "execution_count": null,
   "id": "1000b40e",
   "metadata": {},
   "outputs": [],
   "source": [
    "data"
   ]
  },
  {
   "cell_type": "code",
   "execution_count": null,
   "id": "7839c839",
   "metadata": {},
   "outputs": [],
   "source": [
    "data[\"returns\"] = np.log(data.Close.div(data.Close.shift(1)))\n",
    "data[\"vol_ch\"] = np.log(data.Volume.div(data.Volume.shift(1)))"
   ]
  },
  {
   "cell_type": "code",
   "execution_count": null,
   "id": "e9abdc47",
   "metadata": {},
   "outputs": [],
   "source": [
    "data.loc[data.vol_ch > 3, \"vol_ch\"] = np.nan\n",
    "data.loc[data.vol_ch < -3, \"vol_ch\"] = np.nan"
   ]
  },
  {
   "cell_type": "code",
   "execution_count": null,
   "id": "2871e084",
   "metadata": {},
   "outputs": [],
   "source": [
    "data"
   ]
  },
  {
   "cell_type": "code",
   "execution_count": null,
   "id": "72ba2233",
   "metadata": {},
   "outputs": [],
   "source": [
    "data.info()"
   ]
  },
  {
   "cell_type": "code",
   "execution_count": null,
   "id": "c779be26",
   "metadata": {},
   "outputs": [],
   "source": []
  },
  {
   "cell_type": "markdown",
   "id": "e9770942",
   "metadata": {},
   "source": [
    "## Formulating a Long-Short Price/Volume Trading Strategy"
   ]
  },
  {
   "cell_type": "code",
   "execution_count": null,
   "id": "a49ec2e7",
   "metadata": {},
   "outputs": [],
   "source": [
    "data"
   ]
  },
  {
   "cell_type": "code",
   "execution_count": null,
   "id": "365ad118",
   "metadata": {},
   "outputs": [],
   "source": [
    "data[\"position\"] = 0 # Trading position -> Neutral for all bars\n",
    "data"
   ]
  },
  {
   "cell_type": "markdown",
   "id": "78f2f26e",
   "metadata": {},
   "source": [
    "__Buy and go Long (position = 1) if most recent returns are highly negative (cond1) and trading volume decreased (cond2)__"
   ]
  },
  {
   "cell_type": "code",
   "execution_count": null,
   "id": "774080e6",
   "metadata": {},
   "outputs": [],
   "source": [
    "# getting returns threshold for highly negative returns (<= 10th percentile)\n",
    "return_thresh = np.percentile(data.returns.dropna(), 10)\n",
    "return_thresh"
   ]
  },
  {
   "cell_type": "code",
   "execution_count": null,
   "id": "41ef710e",
   "metadata": {},
   "outputs": [],
   "source": [
    "cond1 = data.returns <= return_thresh\n",
    "cond1"
   ]
  },
  {
   "cell_type": "code",
   "execution_count": null,
   "id": "0489c7b2",
   "metadata": {},
   "outputs": [],
   "source": [
    "# getting vol_ch thresholds for (moderate) Volume Decreases (between 5th and 20th percentile)\n",
    "volume_thresh = np.percentile(data.vol_ch.dropna(), [5, 20])\n",
    "volume_thresh"
   ]
  },
  {
   "cell_type": "code",
   "execution_count": null,
   "id": "8a7dc27a",
   "metadata": {},
   "outputs": [],
   "source": [
    "cond2 = data.vol_ch.between(volume_thresh[0], volume_thresh[1])\n",
    "cond2"
   ]
  },
  {
   "cell_type": "code",
   "execution_count": null,
   "id": "053216ff",
   "metadata": {},
   "outputs": [],
   "source": [
    "data.loc[cond1 & cond2, \"position\"] = 1"
   ]
  },
  {
   "cell_type": "markdown",
   "id": "b1387eea",
   "metadata": {},
   "source": [
    "__Sell and go Short (position = -1) if most recent returns are highly positive (cond3) and trading volume decreased (cond2)__"
   ]
  },
  {
   "cell_type": "code",
   "execution_count": null,
   "id": "ec3bed16",
   "metadata": {},
   "outputs": [],
   "source": [
    "# getting returns threshold for highly positve returns (>= 90th percentile)\n",
    "return_thresh = np.percentile(data.returns.dropna(), 90)\n",
    "return_thresh"
   ]
  },
  {
   "cell_type": "code",
   "execution_count": null,
   "id": "9b9e159c",
   "metadata": {},
   "outputs": [],
   "source": [
    "cond3 = data.returns >= return_thresh\n",
    "cond3"
   ]
  },
  {
   "cell_type": "code",
   "execution_count": null,
   "id": "af529a92",
   "metadata": {},
   "outputs": [],
   "source": [
    "data.loc[cond3 & cond2, \"position\"] = -1"
   ]
  },
  {
   "cell_type": "code",
   "execution_count": null,
   "id": "a721eb1e",
   "metadata": {},
   "outputs": [],
   "source": [
    "data.position.value_counts()"
   ]
  },
  {
   "cell_type": "code",
   "execution_count": null,
   "id": "82503331",
   "metadata": {},
   "outputs": [],
   "source": [
    "data.loc[\"06-2019\", \"position\"].plot(figsize = (12, 8))\n",
    "plt.show()"
   ]
  },
  {
   "cell_type": "code",
   "execution_count": null,
   "id": "04d3ea07",
   "metadata": {},
   "outputs": [],
   "source": []
  },
  {
   "cell_type": "markdown",
   "id": "985ceb79",
   "metadata": {},
   "source": [
    "## A Long-Short Backtester Class"
   ]
  },
  {
   "cell_type": "code",
   "execution_count": null,
   "id": "c96beabf",
   "metadata": {},
   "outputs": [],
   "source": [
    "import pandas as pd\n",
    "import numpy as np\n",
    "import matplotlib.pyplot as plt\n",
    "from itertools import product\n",
    "import warnings\n",
    "warnings.filterwarnings(\"ignore\")\n",
    "plt.style.use(\"seaborn-v0_8\")"
   ]
  },
  {
   "cell_type": "markdown",
   "id": "58241ead",
   "metadata": {},
   "source": [
    "Major adjustments: \n",
    "- Different Strategy Definition with Short Positions (see method prepare_data)\n",
    "- Four Strategy Parameters (instead of three)"
   ]
  },
  {
   "cell_type": "code",
   "execution_count": null,
   "id": "c63ebc74",
   "metadata": {},
   "outputs": [],
   "source": [
    "class Long_Short_Backtester():\n",
    "    ''' Class for the vectorized backtesting of simple Long-Short trading strategies.\n",
    "    \n",
    "    Attributes\n",
    "    ============\n",
    "    filepath: str\n",
    "        local filepath of the dataset (csv-file)\n",
    "    symbol: str\n",
    "        ticker symbol (instrument) to be backtested\n",
    "    start: str\n",
    "        start date for data import\n",
    "    end: str\n",
    "        end date for data import\n",
    "    tc: float\n",
    "        proportional trading costs per trade\n",
    "    \n",
    "    \n",
    "    Methods\n",
    "    =======\n",
    "    get_data:\n",
    "        imports the data.\n",
    "        \n",
    "    test_strategy:\n",
    "        prepares the data and backtests the trading strategy incl. reporting (wrapper).\n",
    "        \n",
    "    prepare_data:\n",
    "        prepares the data for backtesting.\n",
    "    \n",
    "    run_backtest:\n",
    "        runs the strategy backtest.\n",
    "        \n",
    "    plot_results:\n",
    "        plots the cumulative performance of the trading strategy compared to buy-and-hold.\n",
    "        \n",
    "    optimize_strategy:\n",
    "        backtests strategy for different parameter values incl. optimization and reporting (wrapper).\n",
    "    \n",
    "    find_best_strategy:\n",
    "        finds the optimal strategy (global maximum).\n",
    "         \n",
    "        \n",
    "    print_performance:\n",
    "        calculates and prints various performance metrics.\n",
    "        \n",
    "    '''    \n",
    "    \n",
    "    def __init__(self, filepath, symbol, start, end, tc):\n",
    "        \n",
    "        self.filepath = filepath\n",
    "        self.symbol = symbol\n",
    "        self.start = start\n",
    "        self.end = end\n",
    "        self.tc = tc\n",
    "        self.results = None\n",
    "        self.get_data()\n",
    "        self.tp_year = (self.data.Close.count() / ((self.data.index[-1] - self.data.index[0]).days / 365.25))\n",
    "        \n",
    "    def __repr__(self):\n",
    "        return \"Long_Short_Backtester(symbol = {}, start = {}, end = {})\".format(self.symbol, self.start, self.end)\n",
    "        \n",
    "    def get_data(self):\n",
    "        ''' Imports the data.\n",
    "        '''\n",
    "        raw = pd.read_csv(self.filepath, parse_dates = [\"Date\"], index_col = \"Date\")\n",
    "        raw = raw.loc[self.start:self.end].copy()\n",
    "        raw[\"returns\"] = np.log(raw.Close / raw.Close.shift(1))\n",
    "        self.data = raw\n",
    "        \n",
    "    def test_strategy(self, percentiles = None, thresh = None):\n",
    "        '''\n",
    "        Prepares the data and backtests the trading strategy incl. reporting (Wrapper).\n",
    "         \n",
    "        Parameters\n",
    "        ============\n",
    "        percentiles: tuple (return_low_perc, return_high_perc, vol_low_perc, vol_high_perc)\n",
    "            return and volume percentiles to be considered for the strategy.\n",
    "            \n",
    "        thresh: tuple (return_low_thresh, return_high_thresh, vol_low_thresh, vol_high_thesh)\n",
    "            return and volume thresholds to be considered for the strategy.\n",
    "        '''\n",
    "        \n",
    "        self.prepare_data(percentiles = percentiles, thresh = thresh)\n",
    "        self.run_backtest()\n",
    "        \n",
    "        data = self.results.copy()\n",
    "        data[\"creturns\"] = data[\"returns\"].cumsum().apply(np.exp)\n",
    "        data[\"cstrategy\"] = data[\"strategy\"].cumsum().apply(np.exp)\n",
    "        self.results = data\n",
    "        \n",
    "        self.print_performance()\n",
    "    \n",
    "    def prepare_data(self, percentiles, thresh):\n",
    "        ''' Prepares the Data for Backtesting.\n",
    "        '''\n",
    "        ########################## Strategy-Specific #############################\n",
    "        \n",
    "        data = self.data[[\"Close\", \"Volume\", \"returns\"]].copy()\n",
    "        data[\"vol_ch\"] = np.log(data.Volume.div(data.Volume.shift(1)))\n",
    "        data.loc[data.vol_ch > 3, \"vol_ch\"] = np.nan\n",
    "        data.loc[data.vol_ch < -3, \"vol_ch\"] = np.nan        \n",
    "        \n",
    "        if percentiles:\n",
    "            self.return_thresh = np.percentile(data.returns.dropna(), [percentiles[0], percentiles[1]])\n",
    "            self.volume_thresh = np.percentile(data.vol_ch.dropna(), [percentiles[2], percentiles[3]])\n",
    "        elif thresh:\n",
    "            self.return_thresh = [thresh[0], thresh[1]]\n",
    "            self.volume_thresh = [thresh[2], thresh[3]]\n",
    "                \n",
    "        cond1 = data.returns <= self.return_thresh[0]\n",
    "        cond2 = data.vol_ch.between(self.volume_thresh[0], self.volume_thresh[1])\n",
    "        cond3 = data.returns >= self.return_thresh[1]\n",
    "        \n",
    "        data[\"position\"] = 0\n",
    "        data.loc[cond1 & cond2, \"position\"] = 1\n",
    "        data.loc[cond3 & cond2, \"position\"] = -1\n",
    "\n",
    "        ##########################################################################\n",
    "        \n",
    "        self.results = data\n",
    "    \n",
    "    def run_backtest(self):\n",
    "        ''' Runs the strategy backtest.\n",
    "        '''\n",
    "        \n",
    "        data = self.results.copy()\n",
    "        data[\"strategy\"] = data[\"position\"].shift(1) * data[\"returns\"]\n",
    "        data[\"trades\"] = data.position.diff().fillna(0).abs()\n",
    "        data.strategy = data.strategy + data.trades * self.tc\n",
    "        \n",
    "        self.results = data\n",
    "    \n",
    "    def plot_results(self):\n",
    "        '''  Plots the cumulative performance of the trading strategy compared to buy-and-hold.\n",
    "        '''\n",
    "        if self.results is None:\n",
    "            print(\"Run test_strategy() first.\")\n",
    "        else:\n",
    "            title = \"{} | TC = {}\".format(self.symbol, self.tc)\n",
    "            self.results[[\"creturns\", \"cstrategy\"]].plot(title=title, figsize=(12, 8))\n",
    "            \n",
    "    def optimize_strategy(self, return_low_range, return_high_range, vol_low_range, vol_high_range, metric = \"Multiple\"):\n",
    "        '''\n",
    "        Backtests strategy for different parameter values incl. Optimization and Reporting (Wrapper).\n",
    "         \n",
    "        Parameters\n",
    "        ============\n",
    "        return_low_range: tuple\n",
    "            tuples of the form (start, end, step size).\n",
    "        \n",
    "        return_high_range: tuple\n",
    "            tuples of the form (start, end, step size).\n",
    "            \n",
    "        vol_low_range: tuple\n",
    "            tuples of the form (start, end, step size).\n",
    "        \n",
    "        vol_high_range: tuple\n",
    "            tuples of the form (start, end, step size).\n",
    "        \n",
    "        metric: str\n",
    "            performance metric to be optimized (can be \"Multiple\" or \"Sharpe\")\n",
    "        '''\n",
    "        \n",
    "        self.metric = metric\n",
    "        \n",
    "        if metric == \"Multiple\":\n",
    "            performance_function = self.calculate_multiple\n",
    "        elif metric == \"Sharpe\":\n",
    "            performance_function = self.calculate_sharpe\n",
    "        \n",
    "        return_low_range = range(*return_low_range)\n",
    "        return_high_range = range(*return_high_range)\n",
    "        vol_low_range = range(*vol_low_range)\n",
    "        vol_high_range = range(*vol_high_range)\n",
    "        \n",
    "        combinations = list(product(return_low_range, return_high_range, vol_low_range, vol_high_range))\n",
    "         \n",
    "        performance = []\n",
    "        for comb in combinations:\n",
    "            self.prepare_data(percentiles = comb, thresh = None)\n",
    "            self.run_backtest()\n",
    "            performance.append(performance_function(self.results.strategy))\n",
    "    \n",
    "        self.results_overview =  pd.DataFrame(data = np.array(combinations), columns = [\"return_low\", \"return_high\", \"vol_low\", \"vol_high\"])\n",
    "        self.results_overview[\"performance\"] = performance\n",
    "        self.find_best_strategy()\n",
    "        \n",
    "        \n",
    "    def find_best_strategy(self):\n",
    "        ''' Finds the optimal strategy (global maximum).\n",
    "        '''\n",
    "        \n",
    "        best = self.results_overview.nlargest(1, \"performance\")\n",
    "        return_perc = [best.return_low.iloc[0], best.return_high.iloc[0]]\n",
    "        vol_perc = [best.vol_low.iloc[0], best.vol_high.iloc[0]]\n",
    "        perf = best.performance.iloc[0]\n",
    "        print(\"Return_Perc: {} | Volume_Perc: {} | {}: {}\".format(return_perc, vol_perc, self.metric, round(perf, 5)))  \n",
    "        self.test_strategy(percentiles = (return_perc[0], return_perc[1], vol_perc[0], vol_perc[1]))\n",
    "            \n",
    "    ############################## Performance ######################################\n",
    "    \n",
    "    def print_performance(self):\n",
    "        ''' Calculates and prints various Performance Metrics.\n",
    "        '''\n",
    "        \n",
    "        data = self.results.copy()\n",
    "        strategy_multiple = round(self.calculate_multiple(data.strategy), 6)\n",
    "        bh_multiple =       round(self.calculate_multiple(data.returns), 6)\n",
    "        outperf =           round(strategy_multiple - bh_multiple, 6)\n",
    "        cagr =              round(self.calculate_cagr(data.strategy), 6)\n",
    "        ann_mean =          round(self.calculate_annualized_mean(data.strategy), 6)\n",
    "        ann_std =           round(self.calculate_annualized_std(data.strategy), 6)\n",
    "        sharpe =            round(self.calculate_sharpe(data.strategy), 6)\n",
    "       \n",
    "        print(100 * \"=\")\n",
    "        print(\"SIMPLE PRICE & VOLUME STRATEGY | INSTRUMENT = {} | THRESHOLDS = {}, {}\".format(self.symbol, np.round(self.return_thresh, 5), np.round(self.volume_thresh, 5)))\n",
    "        print(100 * \"-\")\n",
    "        print(\"PERFORMANCE MEASURES:\")\n",
    "        print(\"\\n\")\n",
    "        print(\"Multiple (Strategy):         {}\".format(strategy_multiple))\n",
    "        print(\"Multiple (Buy-and-Hold):     {}\".format(bh_multiple))\n",
    "        print(38 * \"-\")\n",
    "        print(\"Out-/Underperformance:       {}\".format(outperf))\n",
    "        print(\"\\n\")\n",
    "        print(\"CAGR:                        {}\".format(cagr))\n",
    "        print(\"Annualized Mean:             {}\".format(ann_mean))\n",
    "        print(\"Annualized Std:              {}\".format(ann_std))\n",
    "        print(\"Sharpe Ratio:                {}\".format(sharpe))\n",
    "        \n",
    "        print(100 * \"=\")\n",
    "        \n",
    "    def calculate_multiple(self, series):\n",
    "        return np.exp(series.sum())\n",
    "    \n",
    "    def calculate_cagr(self, series):\n",
    "        return np.exp(series.sum())**(1/((series.index[-1] - series.index[0]).days / 365.25)) - 1\n",
    "    \n",
    "    def calculate_annualized_mean(self, series):\n",
    "        return series.mean() * self.tp_year\n",
    "    \n",
    "    def calculate_annualized_std(self, series):\n",
    "        return series.std() * np.sqrt(self.tp_year)\n",
    "    \n",
    "    def calculate_sharpe(self, series):\n",
    "        if series.std() == 0:\n",
    "            return np.nan\n",
    "        else:\n",
    "            return self.calculate_cagr(series) / self.calculate_annualized_std(series)\n"
   ]
  },
  {
   "cell_type": "code",
   "execution_count": null,
   "id": "16f4f69a",
   "metadata": {},
   "outputs": [],
   "source": [
    "filepath = \"bitcoin.csv\"\n",
    "symbol = \"BTCUSDT\"\n",
    "start = \"2017-08-17\"\n",
    "end = \"2021-10-07\"\n",
    "tc = -0.00085"
   ]
  },
  {
   "cell_type": "code",
   "execution_count": null,
   "id": "084a7a98",
   "metadata": {},
   "outputs": [],
   "source": [
    "tester = Long_Short_Backtester(filepath = filepath, symbol = symbol,\n",
    "                              start = start, end = end, tc = tc)"
   ]
  },
  {
   "cell_type": "code",
   "execution_count": null,
   "id": "67c0dea3",
   "metadata": {},
   "outputs": [],
   "source": [
    "tester"
   ]
  },
  {
   "cell_type": "code",
   "execution_count": null,
   "id": "cd0b4776",
   "metadata": {},
   "outputs": [],
   "source": [
    "tester.data"
   ]
  },
  {
   "cell_type": "code",
   "execution_count": null,
   "id": "29431835",
   "metadata": {},
   "outputs": [],
   "source": [
    "tester.test_strategy(percentiles = (10, 90, 5, 20))"
   ]
  },
  {
   "cell_type": "code",
   "execution_count": null,
   "id": "cd10b6c5",
   "metadata": {},
   "outputs": [],
   "source": [
    "tester.plot_results()"
   ]
  },
  {
   "cell_type": "code",
   "execution_count": null,
   "id": "4f3fde89",
   "metadata": {},
   "outputs": [],
   "source": [
    "tester.results.trades.value_counts()"
   ]
  },
  {
   "cell_type": "code",
   "execution_count": null,
   "id": "6d18d886",
   "metadata": {},
   "outputs": [],
   "source": [
    "tester.optimize_strategy(return_low_range = (2, 20, 2),\n",
    "                         return_high_range = (80, 98, 2), \n",
    "                         vol_low_range = (0, 18, 2), \n",
    "                         vol_high_range = (18, 40, 2),\n",
    "                         metric = \"Sharpe\")"
   ]
  },
  {
   "cell_type": "code",
   "execution_count": null,
   "id": "b0b3d38c",
   "metadata": {},
   "outputs": [],
   "source": [
    "tester.plot_results()"
   ]
  },
  {
   "cell_type": "code",
   "execution_count": null,
   "id": "facdab40",
   "metadata": {},
   "outputs": [],
   "source": [
    "tester.results.cstrategy.plot(figsize = (12,8))\n",
    "plt.show()"
   ]
  },
  {
   "cell_type": "code",
   "execution_count": null,
   "id": "3ae0a614",
   "metadata": {},
   "outputs": [],
   "source": [
    "tester.results.position.value_counts()"
   ]
  },
  {
   "cell_type": "code",
   "execution_count": null,
   "id": "3a344312",
   "metadata": {},
   "outputs": [],
   "source": [
    "tester.results.trades.value_counts()"
   ]
  },
  {
   "cell_type": "code",
   "execution_count": null,
   "id": "ca7d8b60",
   "metadata": {},
   "outputs": [],
   "source": [
    "tester.optimize_strategy(return_low_range = (2, 7, 1),\n",
    "                         return_high_range = (89, 99, 1), \n",
    "                         vol_low_range = (8, 14, 1), \n",
    "                         vol_high_range = (14, 22, 1),\n",
    "                         metric = \"Sharpe\")"
   ]
  },
  {
   "cell_type": "code",
   "execution_count": null,
   "id": "1fe43dab",
   "metadata": {},
   "outputs": [],
   "source": []
  },
  {
   "cell_type": "markdown",
   "id": "e5a83b8b",
   "metadata": {},
   "source": [
    "## A Long-Short Trader Class"
   ]
  },
  {
   "cell_type": "markdown",
   "id": "7ffe956d",
   "metadata": {},
   "source": [
    "_Disclaimer: <br>\n",
    "The following illustrative examples are for general information and educational purposes only. <br>\n",
    "It is neither investment advice nor a recommendation to trade, invest or take whatsoever actions.<br>\n",
    "The below code should only be used in combination with the Binance Spot Testnet and NOT with a Live Trading Account._"
   ]
  },
  {
   "cell_type": "markdown",
   "id": "0648f385",
   "metadata": {},
   "source": [
    "### ++++++ Update (August 2023) ++++++++"
   ]
  },
  {
   "cell_type": "markdown",
   "id": "81128331",
   "metadata": {},
   "source": [
    "There are two alterantives to stream live data with python-binance:\n",
    "- using __ThreadedWebsocketManager__ -or-\n",
    "- using __BinanceSocketManager (newly added to the course)__"
   ]
  },
  {
   "cell_type": "markdown",
   "id": "a0701e19",
   "metadata": {},
   "source": [
    "__What´s the benefit of covering both options?__<br>\n",
    "-> We can now __run Trading Bots in Jupyter and as a Script__ with the __latest Versions__ of Python and Python-Binance. No need to care about Versions and Installations any more!"
   ]
  },
  {
   "cell_type": "markdown",
   "id": "972e3fa7",
   "metadata": {},
   "source": [
    "For more information, please go back to __Section 7__ (API Intro)!"
   ]
  },
  {
   "cell_type": "markdown",
   "id": "e0433ea8",
   "metadata": {},
   "source": [
    "### Option 1: ThreadedWebsocketManager (only executable in scripts, not in Jupyter!):"
   ]
  },
  {
   "cell_type": "code",
   "execution_count": null,
   "id": "62a19bc5",
   "metadata": {},
   "outputs": [],
   "source": [
    "from binance.client import Client\n",
    "from binance import ThreadedWebsocketManager\n",
    "import pandas as pd\n",
    "import numpy as np\n",
    "from datetime import datetime, timedelta\n",
    "import time"
   ]
  },
  {
   "cell_type": "code",
   "execution_count": null,
   "id": "10bcb6ee",
   "metadata": {},
   "outputs": [],
   "source": [
    "class LongShortTrader():\n",
    "    \n",
    "    def __init__(self, symbol, bar_length, return_thresh, volume_thresh, units, position = 0):\n",
    "        \n",
    "        self.symbol = symbol\n",
    "        self.bar_length = bar_length\n",
    "        self.available_intervals = [\"1m\", \"3m\", \"5m\", \"15m\", \"30m\", \"1h\", \"2h\", \"4h\", \"6h\", \"8h\", \"12h\", \"1d\", \"3d\", \"1w\", \"1M\"]\n",
    "        self.units = units\n",
    "        self.position = position\n",
    "        self.trades = 0 \n",
    "        self.trade_values = []\n",
    "        \n",
    "        #*****************add strategy-specific attributes here******************\n",
    "        self.return_thresh = return_thresh\n",
    "        self.volume_thresh = volume_thresh\n",
    "        #************************************************************************\n",
    "    \n",
    "    def start_trading(self, historical_days):\n",
    "        \n",
    "        self.twm = ThreadedWebsocketManager()\n",
    "        self.twm.start()\n",
    "        \n",
    "        if self.bar_length in self.available_intervals:\n",
    "            self.get_most_recent(symbol = self.symbol, interval = self.bar_length,\n",
    "                                 days = historical_days)\n",
    "            self.twm.start_kline_socket(callback = self.stream_candles,\n",
    "                                        symbol = self.symbol, interval = self.bar_length)\n",
    "            self.twm.join()\n",
    "            \n",
    "        # \"else\" to be added later in the course \n",
    "    \n",
    "    def get_most_recent(self, symbol, interval, days):\n",
    "    \n",
    "        now = datetime.utcnow()\n",
    "        past = str(now - timedelta(days = days))\n",
    "    \n",
    "        bars = client.get_historical_klines(symbol = symbol, interval = interval,\n",
    "                                            start_str = past, end_str = None, limit = 1000)\n",
    "        df = pd.DataFrame(bars)\n",
    "        df[\"Date\"] = pd.to_datetime(df.iloc[:,0], unit = \"ms\")\n",
    "        df.columns = [\"Open Time\", \"Open\", \"High\", \"Low\", \"Close\", \"Volume\",\n",
    "                      \"Clos Time\", \"Quote Asset Volume\", \"Number of Trades\",\n",
    "                      \"Taker Buy Base Asset Volume\", \"Taker Buy Quote Asset Volume\", \"Ignore\", \"Date\"]\n",
    "        df = df[[\"Date\", \"Open\", \"High\", \"Low\", \"Close\", \"Volume\"]].copy()\n",
    "        df.set_index(\"Date\", inplace = True)\n",
    "        for column in df.columns:\n",
    "            df[column] = pd.to_numeric(df[column], errors = \"coerce\")\n",
    "        df[\"Complete\"] = [True for row in range(len(df)-1)] + [False]\n",
    "        \n",
    "        self.data = df\n",
    "    \n",
    "    def stream_candles(self, msg):\n",
    "        \n",
    "        # extract the required items from msg\n",
    "        event_time = pd.to_datetime(msg[\"E\"], unit = \"ms\")\n",
    "        start_time = pd.to_datetime(msg[\"k\"][\"t\"], unit = \"ms\")\n",
    "        first   = float(msg[\"k\"][\"o\"])\n",
    "        high    = float(msg[\"k\"][\"h\"])\n",
    "        low     = float(msg[\"k\"][\"l\"])\n",
    "        close   = float(msg[\"k\"][\"c\"])\n",
    "        volume  = float(msg[\"k\"][\"v\"])\n",
    "        complete=       msg[\"k\"][\"x\"]\n",
    "        \n",
    "        # stop trading session\n",
    "        if self.trades >= 5: # stop stream after 5 trades\n",
    "            self.twm.stop()\n",
    "            if self.position == 1:\n",
    "                order = client.create_order(symbol = self.symbol, side = \"SELL\", type = \"MARKET\", quantity = self.units)\n",
    "                self.report_trade(order, \"GOING NEUTRAL AND STOP\")\n",
    "                self.position = 0\n",
    "            elif self.position == -1:\n",
    "                order = client.create_order(symbol = self.symbol, side = \"BUY\", type = \"MARKET\", quantity = self.units)\n",
    "                self.report_trade(order, \"GOING NEUTRAL AND STOP\")\n",
    "                self.position = 0\n",
    "            else: \n",
    "                print(\"STOP\")\n",
    "    \n",
    "        else:\n",
    "            # print out\n",
    "            print(\".\", end = \"\", flush = True) # just print something to get a feedback (everything OK) \n",
    "    \n",
    "            # feed df (add new bar / update latest bar)\n",
    "            self.data.loc[start_time] = [first, high, low, close, volume, complete]\n",
    "        \n",
    "            # prepare features and define strategy/trading positions whenever the latest bar is complete\n",
    "            if complete == True:\n",
    "                self.define_strategy()\n",
    "                self.execute_trades()\n",
    "        \n",
    "    def define_strategy(self):\n",
    "        \n",
    "        df = self.data.copy()\n",
    "        \n",
    "        #******************** define your strategy here ************************\n",
    "        df = df[[\"Close\", \"Volume\"]].copy()\n",
    "        df[\"returns\"] = np.log(df.Close / df.Close.shift())\n",
    "        df[\"vol_ch\"] = np.log(df.Volume.div(df.Volume.shift(1)))\n",
    "        df.loc[df.vol_ch > 3, \"vol_ch\"] = np.nan\n",
    "        df.loc[df.vol_ch < -3, \"vol_ch\"] = np.nan  \n",
    "        \n",
    "        cond1 = df.returns <= self.return_thresh[0]\n",
    "        cond2 = df.vol_ch.between(self.volume_thresh[0], self.volume_thresh[1])\n",
    "        cond3 = df.returns >= self.return_thresh[1]\n",
    "        \n",
    "        df[\"position\"] = 0\n",
    "        df.loc[cond1 & cond2, \"position\"] = 1\n",
    "        df.loc[cond3 & cond2, \"position\"] = -1\n",
    "        #***********************************************************************\n",
    "        \n",
    "        self.prepared_data = df.copy()\n",
    "    \n",
    "    def execute_trades(self): \n",
    "        if self.prepared_data[\"position\"].iloc[-1] == 1: # if position is long -> go/stay long\n",
    "            if self.position == 0:\n",
    "                order = client.create_order(symbol = self.symbol, side = \"BUY\", type = \"MARKET\", quantity = self.units)\n",
    "                self.report_trade(order, \"GOING LONG\")  \n",
    "            elif self.position == -1:\n",
    "                order = client.create_order(symbol = self.symbol, side = \"BUY\", type = \"MARKET\", quantity = self.units)\n",
    "                self.report_trade(order, \"GOING NEUTRAL\")\n",
    "                time.sleep(0.1)\n",
    "                order = client.create_order(symbol = self.symbol, side = \"BUY\", type = \"MARKET\", quantity = self.units)\n",
    "                self.report_trade(order, \"GOING LONG\")\n",
    "            self.position = 1\n",
    "        elif self.prepared_data[\"position\"].iloc[-1] == 0: # if position is neutral -> go/stay neutral\n",
    "            if self.position == 1:\n",
    "                order = client.create_order(symbol = self.symbol, side = \"SELL\", type = \"MARKET\", quantity = self.units)\n",
    "                self.report_trade(order, \"GOING NEUTRAL\") \n",
    "            elif self.position == -1:\n",
    "                order = client.create_order(symbol = self.symbol, side = \"BUY\", type = \"MARKET\", quantity = self.units)\n",
    "                self.report_trade(order, \"GOING NEUTRAL\") \n",
    "            self.position = 0\n",
    "        if self.prepared_data[\"position\"].iloc[-1] == -1: # if position is short -> go/stay short\n",
    "            if self.position == 0:\n",
    "                order = client.create_order(symbol = self.symbol, side = \"SELL\", type = \"MARKET\", quantity = self.units)\n",
    "                self.report_trade(order, \"GOING SHORT\") \n",
    "            elif self.position == 1:\n",
    "                order = client.create_order(symbol = self.symbol, side = \"SELL\", type = \"MARKET\", quantity = self.units)\n",
    "                self.report_trade(order, \"GOING NEUTRAL\")\n",
    "                time.sleep(0.1)\n",
    "                order = client.create_order(symbol = self.symbol, side = \"SELL\", type = \"MARKET\", quantity = self.units)\n",
    "                self.report_trade(order, \"GOING SHORT\")\n",
    "            self.position = -1\n",
    "    \n",
    "    def report_trade(self, order, going): \n",
    "        \n",
    "        # extract data from order object\n",
    "        side = order[\"side\"]\n",
    "        time = pd.to_datetime(order[\"transactTime\"], unit = \"ms\")\n",
    "        base_units = float(order[\"executedQty\"])\n",
    "        quote_units = float(order[\"cummulativeQuoteQty\"])\n",
    "        price = round(quote_units / base_units, 5)\n",
    "        \n",
    "        # calculate trading profits\n",
    "        self.trades += 1\n",
    "        if side == \"BUY\":\n",
    "            self.trade_values.append(-quote_units)\n",
    "        elif side == \"SELL\":\n",
    "            self.trade_values.append(quote_units) \n",
    "        \n",
    "        if self.trades % 2 == 0:\n",
    "            real_profit = round(np.sum(self.trade_values[-2:]), 3) \n",
    "            self.cum_profits = round(np.sum(self.trade_values), 3)\n",
    "        else: \n",
    "            real_profit = 0\n",
    "            self.cum_profits = round(np.sum(self.trade_values[:-1]), 3)\n",
    "        \n",
    "        # print trade report\n",
    "        print(2 * \"\\n\" + 100* \"-\")\n",
    "        print(\"{} | {}\".format(time, going)) \n",
    "        print(\"{} | Base_Units = {} | Quote_Units = {} | Price = {} \".format(time, base_units, quote_units, price))\n",
    "        print(\"{} | Profit = {} | CumProfits = {} \".format(time, real_profit, self.cum_profits))\n",
    "        print(100 * \"-\" + \"\\n\")"
   ]
  },
  {
   "cell_type": "code",
   "execution_count": null,
   "id": "0be7e6f3",
   "metadata": {},
   "outputs": [],
   "source": [
    "api_key = \"insert here\"\n",
    "secret_key = \"insert here\""
   ]
  },
  {
   "cell_type": "code",
   "execution_count": null,
   "id": "d1745c24",
   "metadata": {},
   "outputs": [],
   "source": [
    "client = Client(api_key = api_key, api_secret = secret_key, tld = \"com\", testnet = True)"
   ]
  },
  {
   "cell_type": "markdown",
   "id": "97b4cf58",
   "metadata": {},
   "source": [
    "For illustration purposes: a very dynamic Strategy (parameters) with many trades:"
   ]
  },
  {
   "cell_type": "code",
   "execution_count": null,
   "id": "a37cb809",
   "metadata": {},
   "outputs": [],
   "source": [
    "symbol = \"BTCUSDT\"\n",
    "bar_length = \"1m\"\n",
    "return_thresh = [-0.0001, 0.0001]\n",
    "volume_thresh = [-3, 3]\n",
    "units = 0.01\n",
    "position = 0"
   ]
  },
  {
   "cell_type": "code",
   "execution_count": null,
   "id": "cb769f89",
   "metadata": {},
   "outputs": [],
   "source": [
    "client.get_account()"
   ]
  },
  {
   "cell_type": "code",
   "execution_count": null,
   "id": "c31b59a0",
   "metadata": {},
   "outputs": [],
   "source": [
    "trader = LongShortTrader(symbol = symbol, bar_length = bar_length, return_thresh = return_thresh,\n",
    "                        volume_thresh = volume_thresh, units = units, position = position)"
   ]
  },
  {
   "cell_type": "code",
   "execution_count": null,
   "id": "56081644",
   "metadata": {},
   "outputs": [],
   "source": [
    "trader.start_trading(historical_days = 1/24)"
   ]
  },
  {
   "cell_type": "code",
   "execution_count": null,
   "id": "dbef71f4",
   "metadata": {},
   "outputs": [],
   "source": [
    "trader.prepared_data"
   ]
  },
  {
   "cell_type": "code",
   "execution_count": null,
   "id": "74913a14",
   "metadata": {},
   "outputs": [],
   "source": [
    "trader.cum_profits"
   ]
  },
  {
   "cell_type": "code",
   "execution_count": null,
   "id": "faaf4734",
   "metadata": {},
   "outputs": [],
   "source": [
    "client.get_account()"
   ]
  },
  {
   "cell_type": "code",
   "execution_count": null,
   "id": "5df69646",
   "metadata": {},
   "outputs": [],
   "source": []
  },
  {
   "cell_type": "markdown",
   "id": "4f8c9234",
   "metadata": {},
   "source": [
    "### Option 2: BinanceSocketManager (executable in Jupyter!): "
   ]
  },
  {
   "cell_type": "code",
   "execution_count": null,
   "id": "a746a729",
   "metadata": {},
   "outputs": [],
   "source": [
    "import asyncio\n",
    "from binance import AsyncClient, BinanceSocketManager\n",
    "from binance.client import Client\n",
    "import pandas as pd\n",
    "import numpy as np\n",
    "from datetime import datetime, timedelta\n",
    "import time"
   ]
  },
  {
   "cell_type": "code",
   "execution_count": null,
   "id": "fe0f3567",
   "metadata": {},
   "outputs": [],
   "source": [
    "class LongShortTrader():\n",
    "    \n",
    "    def __init__(self, symbol, bar_length, return_thresh, volume_thresh, units, position = 0):\n",
    "        \n",
    "        self.symbol = symbol\n",
    "        self.bar_length = bar_length\n",
    "        self.available_intervals = [\"1m\", \"3m\", \"5m\", \"15m\", \"30m\", \"1h\", \"2h\", \"4h\", \"6h\", \"8h\", \"12h\", \"1d\", \"3d\", \"1w\", \"1M\"]\n",
    "        self.units = units\n",
    "        self.position = position\n",
    "        self.trades = 0 \n",
    "        self.trade_values = []\n",
    "        \n",
    "        #*****************add strategy-specific attributes here******************\n",
    "        self.return_thresh = return_thresh\n",
    "        self.volume_thresh = volume_thresh\n",
    "        #************************************************************************\n",
    "    \n",
    "    def start_trading(self, historical_days):\n",
    "        \n",
    "        self.twm = ThreadedWebsocketManager()\n",
    "        self.twm.start()\n",
    "        \n",
    "        if self.bar_length in self.available_intervals:\n",
    "            self.get_most_recent(symbol = self.symbol, interval = self.bar_length,\n",
    "                                 days = historical_days)\n",
    "            self.twm.start_kline_socket(callback = self.stream_candles,\n",
    "                                        symbol = self.symbol, interval = self.bar_length)\n",
    "            self.twm.join()\n",
    "            \n",
    "        # \"else\" to be added later in the course \n",
    "    \n",
    "    def get_most_recent(self, symbol, interval, days):\n",
    "    \n",
    "        now = datetime.utcnow()\n",
    "        past = str(now - timedelta(days = days))\n",
    "    \n",
    "        bars = client.get_historical_klines(symbol = symbol, interval = interval,\n",
    "                                            start_str = past, end_str = None, limit = 1000)\n",
    "        df = pd.DataFrame(bars)\n",
    "        df[\"Date\"] = pd.to_datetime(df.iloc[:,0], unit = \"ms\")\n",
    "        df.columns = [\"Open Time\", \"Open\", \"High\", \"Low\", \"Close\", \"Volume\",\n",
    "                      \"Clos Time\", \"Quote Asset Volume\", \"Number of Trades\",\n",
    "                      \"Taker Buy Base Asset Volume\", \"Taker Buy Quote Asset Volume\", \"Ignore\", \"Date\"]\n",
    "        df = df[[\"Date\", \"Open\", \"High\", \"Low\", \"Close\", \"Volume\"]].copy()\n",
    "        df.set_index(\"Date\", inplace = True)\n",
    "        for column in df.columns:\n",
    "            df[column] = pd.to_numeric(df[column], errors = \"coerce\")\n",
    "        df[\"Complete\"] = [True for row in range(len(df)-1)] + [False]\n",
    "        \n",
    "        self.data = df\n",
    "    \n",
    "    def stream_candles(self, msg):\n",
    "        \n",
    "        # extract the required items from msg\n",
    "        event_time = pd.to_datetime(msg[\"E\"], unit = \"ms\")\n",
    "        start_time = pd.to_datetime(msg[\"k\"][\"t\"], unit = \"ms\")\n",
    "        first   = float(msg[\"k\"][\"o\"])\n",
    "        high    = float(msg[\"k\"][\"h\"])\n",
    "        low     = float(msg[\"k\"][\"l\"])\n",
    "        close   = float(msg[\"k\"][\"c\"])\n",
    "        volume  = float(msg[\"k\"][\"v\"])\n",
    "        complete=       msg[\"k\"][\"x\"]\n",
    "        \n",
    "        # stop trading session\n",
    "        if self.trades >= 5: # stop stream after 5 trades\n",
    "            global stop_streaming\n",
    "            stop_streaming = True\n",
    "            if self.position == 1:\n",
    "                order = client.create_order(symbol = self.symbol, side = \"SELL\", type = \"MARKET\", quantity = self.units)\n",
    "                self.report_trade(order, \"GOING NEUTRAL AND STOP\")\n",
    "                self.position = 0\n",
    "            elif self.position == -1:\n",
    "                order = client.create_order(symbol = self.symbol, side = \"BUY\", type = \"MARKET\", quantity = self.units)\n",
    "                self.report_trade(order, \"GOING NEUTRAL AND STOP\")\n",
    "                self.position = 0\n",
    "            else: \n",
    "                print(\"STOP\")\n",
    "    \n",
    "        else:\n",
    "            # print out\n",
    "            print(\".\", end = \"\", flush = True) # just print something to get a feedback (everything OK) \n",
    "    \n",
    "            # feed df (add new bar / update latest bar)\n",
    "            self.data.loc[start_time] = [first, high, low, close, volume, complete]\n",
    "        \n",
    "            # prepare features and define strategy/trading positions whenever the latest bar is complete\n",
    "            if complete == True:\n",
    "                self.define_strategy()\n",
    "                self.execute_trades()\n",
    "        \n",
    "    def define_strategy(self):\n",
    "        \n",
    "        df = self.data.copy()\n",
    "        \n",
    "        #******************** define your strategy here ************************\n",
    "        df = df[[\"Close\", \"Volume\"]].copy()\n",
    "        df[\"returns\"] = np.log(df.Close / df.Close.shift())\n",
    "        df[\"vol_ch\"] = np.log(df.Volume.div(df.Volume.shift(1)))\n",
    "        df.loc[df.vol_ch > 3, \"vol_ch\"] = np.nan\n",
    "        df.loc[df.vol_ch < -3, \"vol_ch\"] = np.nan  \n",
    "        \n",
    "        cond1 = df.returns <= self.return_thresh[0]\n",
    "        cond2 = df.vol_ch.between(self.volume_thresh[0], self.volume_thresh[1])\n",
    "        cond3 = df.returns >= self.return_thresh[1]\n",
    "        \n",
    "        df[\"position\"] = 0\n",
    "        df.loc[cond1 & cond2, \"position\"] = 1\n",
    "        df.loc[cond3 & cond2, \"position\"] = -1\n",
    "        #***********************************************************************\n",
    "        \n",
    "        self.prepared_data = df.copy()\n",
    "    \n",
    "    def execute_trades(self): \n",
    "        if self.prepared_data[\"position\"].iloc[-1] == 1: # if position is long -> go/stay long\n",
    "            if self.position == 0:\n",
    "                order = client.create_order(symbol = self.symbol, side = \"BUY\", type = \"MARKET\", quantity = self.units)\n",
    "                self.report_trade(order, \"GOING LONG\")  \n",
    "            elif self.position == -1:\n",
    "                order = client.create_order(symbol = self.symbol, side = \"BUY\", type = \"MARKET\", quantity = self.units)\n",
    "                self.report_trade(order, \"GOING NEUTRAL\")\n",
    "                time.sleep(0.1)\n",
    "                order = client.create_order(symbol = self.symbol, side = \"BUY\", type = \"MARKET\", quantity = self.units)\n",
    "                self.report_trade(order, \"GOING LONG\")\n",
    "            self.position = 1\n",
    "        elif self.prepared_data[\"position\"].iloc[-1] == 0: # if position is neutral -> go/stay neutral\n",
    "            if self.position == 1:\n",
    "                order = client.create_order(symbol = self.symbol, side = \"SELL\", type = \"MARKET\", quantity = self.units)\n",
    "                self.report_trade(order, \"GOING NEUTRAL\") \n",
    "            elif self.position == -1:\n",
    "                order = client.create_order(symbol = self.symbol, side = \"BUY\", type = \"MARKET\", quantity = self.units)\n",
    "                self.report_trade(order, \"GOING NEUTRAL\") \n",
    "            self.position = 0\n",
    "        if self.prepared_data[\"position\"].iloc[-1] == -1: # if position is short -> go/stay short\n",
    "            if self.position == 0:\n",
    "                order = client.create_order(symbol = self.symbol, side = \"SELL\", type = \"MARKET\", quantity = self.units)\n",
    "                self.report_trade(order, \"GOING SHORT\") \n",
    "            elif self.position == 1:\n",
    "                order = client.create_order(symbol = self.symbol, side = \"SELL\", type = \"MARKET\", quantity = self.units)\n",
    "                self.report_trade(order, \"GOING NEUTRAL\")\n",
    "                time.sleep(0.1)\n",
    "                order = client.create_order(symbol = self.symbol, side = \"SELL\", type = \"MARKET\", quantity = self.units)\n",
    "                self.report_trade(order, \"GOING SHORT\")\n",
    "            self.position = -1\n",
    "    \n",
    "    def report_trade(self, order, going): \n",
    "        \n",
    "        # extract data from order object\n",
    "        side = order[\"side\"]\n",
    "        time = pd.to_datetime(order[\"transactTime\"], unit = \"ms\")\n",
    "        base_units = float(order[\"executedQty\"])\n",
    "        quote_units = float(order[\"cummulativeQuoteQty\"])\n",
    "        price = round(quote_units / base_units, 5)\n",
    "        \n",
    "        # calculate trading profits\n",
    "        self.trades += 1\n",
    "        if side == \"BUY\":\n",
    "            self.trade_values.append(-quote_units)\n",
    "        elif side == \"SELL\":\n",
    "            self.trade_values.append(quote_units) \n",
    "        \n",
    "        if self.trades % 2 == 0:\n",
    "            real_profit = round(np.sum(self.trade_values[-2:]), 3) \n",
    "            self.cum_profits = round(np.sum(self.trade_values), 3)\n",
    "        else: \n",
    "            real_profit = 0\n",
    "            self.cum_profits = round(np.sum(self.trade_values[:-1]), 3)\n",
    "        \n",
    "        # print trade report\n",
    "        print(2 * \"\\n\" + 100* \"-\")\n",
    "        print(\"{} | {}\".format(time, going)) \n",
    "        print(\"{} | Base_Units = {} | Quote_Units = {} | Price = {} \".format(time, base_units, quote_units, price))\n",
    "        print(\"{} | Profit = {} | CumProfits = {} \".format(time, real_profit, self.cum_profits))\n",
    "        print(100 * \"-\" + \"\\n\")"
   ]
  },
  {
   "cell_type": "code",
   "execution_count": null,
   "id": "50e14bdf",
   "metadata": {},
   "outputs": [],
   "source": [
    "api_key = \"insert here\"\n",
    "secret_key = \"insert here\""
   ]
  },
  {
   "cell_type": "code",
   "execution_count": null,
   "id": "dfa01de0",
   "metadata": {},
   "outputs": [],
   "source": [
    "client = Client(api_key = api_key, api_secret = secret_key, tld = \"com\", testnet = True)"
   ]
  },
  {
   "cell_type": "markdown",
   "id": "f263d4b7",
   "metadata": {},
   "source": [
    "For illustration purposes: a very dynamic Strategy (parameters) with many trades:"
   ]
  },
  {
   "cell_type": "code",
   "execution_count": null,
   "id": "63c84499",
   "metadata": {},
   "outputs": [],
   "source": [
    "symbol = \"BTCUSDT\"\n",
    "bar_length = \"1m\"\n",
    "return_thresh = [-0.00001, 0.00001]\n",
    "volume_thresh = [-3, 3]\n",
    "units = 0.01\n",
    "position = 0"
   ]
  },
  {
   "cell_type": "code",
   "execution_count": null,
   "id": "6102681a",
   "metadata": {},
   "outputs": [],
   "source": [
    "client.get_account()"
   ]
  },
  {
   "cell_type": "code",
   "execution_count": null,
   "id": "36364244",
   "metadata": {},
   "outputs": [],
   "source": [
    "trader = LongShortTrader(symbol = symbol, bar_length = bar_length, return_thresh = return_thresh,\n",
    "                        volume_thresh = volume_thresh, units = units, position = position)"
   ]
  },
  {
   "cell_type": "code",
   "execution_count": null,
   "id": "b9498303",
   "metadata": {},
   "outputs": [],
   "source": [
    "stop_streaming = False # setting a stop_streaming variable (initially: False)"
   ]
  },
  {
   "cell_type": "code",
   "execution_count": null,
   "id": "42141ca0",
   "metadata": {
    "scrolled": false
   },
   "outputs": [],
   "source": [
    "async def start_trading(historical_days):\n",
    "    client = await AsyncClient.create()\n",
    "    bm = BinanceSocketManager(client)\n",
    "    \n",
    "    if trader.bar_length in trader.available_intervals:\n",
    "        trader.get_most_recent(symbol = trader.symbol, interval = trader.bar_length,\n",
    "                             days = historical_days)\n",
    "        ts = bm.kline_socket(symbol = trader.symbol, interval = trader.bar_length)        \n",
    "    # \"else\" to be added later in the course\n",
    "    \n",
    "    async with ts as tscm:\n",
    "        while True:\n",
    "            res = await tscm.recv()\n",
    "            trader.stream_candles(res)\n",
    "            \n",
    "            if stop_streaming:\n",
    "                break\n",
    "\n",
    "    await client.close_connection()\n",
    "await start_trading(historical_days = 1/24)"
   ]
  },
  {
   "cell_type": "code",
   "execution_count": null,
   "id": "b9ed5f43",
   "metadata": {},
   "outputs": [],
   "source": [
    "trader.prepared_data.tail(20)"
   ]
  },
  {
   "cell_type": "code",
   "execution_count": null,
   "id": "eca89432",
   "metadata": {},
   "outputs": [],
   "source": [
    "trader.cum_profits"
   ]
  },
  {
   "cell_type": "code",
   "execution_count": null,
   "id": "bda3bf7d",
   "metadata": {},
   "outputs": [],
   "source": [
    "client.get_account()"
   ]
  },
  {
   "cell_type": "code",
   "execution_count": null,
   "id": "cbd1be0f",
   "metadata": {},
   "outputs": [],
   "source": []
  }
 ],
 "metadata": {
  "kernelspec": {
   "display_name": "Python 3 (ipykernel)",
   "language": "python",
   "name": "python3"
  },
  "language_info": {
   "codemirror_mode": {
    "name": "ipython",
    "version": 3
   },
   "file_extension": ".py",
   "mimetype": "text/x-python",
   "name": "python",
   "nbconvert_exporter": "python",
   "pygments_lexer": "ipython3",
   "version": "3.11.4"
  }
 },
 "nbformat": 4,
 "nbformat_minor": 5
}
