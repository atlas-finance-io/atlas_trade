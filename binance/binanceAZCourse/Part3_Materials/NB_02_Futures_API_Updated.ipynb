{
 "cells": [
  {
   "cell_type": "markdown",
   "id": "dab6e5ec",
   "metadata": {},
   "source": [
    "# Implementation - Futures Testnet API"
   ]
  },
  {
   "cell_type": "markdown",
   "id": "4f19bb62",
   "metadata": {},
   "source": [
    "__Insert your Futures Testnet Credentials here__:"
   ]
  },
  {
   "cell_type": "code",
   "execution_count": null,
   "id": "2b9a8ea5",
   "metadata": {},
   "outputs": [],
   "source": [
    "api_key = \"insert here\"\n",
    "secret_key = \"insert here\""
   ]
  },
  {
   "cell_type": "markdown",
   "id": "49a45235",
   "metadata": {},
   "source": [
    "## Introduction to the Futures Testnet API"
   ]
  },
  {
   "cell_type": "markdown",
   "id": "4efac1ab",
   "metadata": {},
   "source": [
    "Find more information on the Futures API here:"
   ]
  },
  {
   "cell_type": "markdown",
   "id": "2f3ab381",
   "metadata": {},
   "source": [
    "https://binance-docs.github.io/apidocs/futures/en/#change-log"
   ]
  },
  {
   "cell_type": "code",
   "execution_count": null,
   "id": "4743b747",
   "metadata": {},
   "outputs": [],
   "source": [
    "from binance.client import Client\n",
    "import pandas as pd"
   ]
  },
  {
   "cell_type": "code",
   "execution_count": null,
   "id": "84908c00",
   "metadata": {},
   "outputs": [],
   "source": [
    "client = Client(api_key = api_key, api_secret = secret_key, tld = \"com\", testnet = True) # Testnet!!!"
   ]
  },
  {
   "cell_type": "markdown",
   "id": "608d86bf",
   "metadata": {},
   "source": [
    "__Simple Rule:__ <br>\n",
    "- Use your __Testnet Credentials with testnet = True__ and your __\"Real Account\" Credentials with testnet = False__ (default)"
   ]
  },
  {
   "cell_type": "code",
   "execution_count": null,
   "id": "0c03d176",
   "metadata": {},
   "outputs": [],
   "source": [
    "client"
   ]
  },
  {
   "cell_type": "markdown",
   "id": "b062a944",
   "metadata": {},
   "source": [
    "__USD-margined Account__"
   ]
  },
  {
   "cell_type": "code",
   "execution_count": null,
   "id": "b0795d04",
   "metadata": {
    "scrolled": true
   },
   "outputs": [],
   "source": [
    "client.futures_account() # Account details"
   ]
  },
  {
   "cell_type": "code",
   "execution_count": null,
   "id": "7ffb7ee7",
   "metadata": {},
   "outputs": [],
   "source": [
    "pd.DataFrame(client.futures_account()[\"assets\"])"
   ]
  },
  {
   "cell_type": "code",
   "execution_count": null,
   "id": "9fc513dc",
   "metadata": {},
   "outputs": [],
   "source": [
    "client.futures_account_balance() # Asset Balance details"
   ]
  },
  {
   "cell_type": "code",
   "execution_count": null,
   "id": "6fab7c15",
   "metadata": {},
   "outputs": [],
   "source": [
    "client.futures_position_information() # current Open Positions"
   ]
  },
  {
   "cell_type": "code",
   "execution_count": null,
   "id": "c340bcd3",
   "metadata": {},
   "outputs": [],
   "source": [
    "client.futures_position_information(symbol = \"BTCUSDT\") # current Open Positions for one symbol"
   ]
  },
  {
   "cell_type": "markdown",
   "id": "b948d18b",
   "metadata": {},
   "source": [
    "__Coin-margined Account__"
   ]
  },
  {
   "cell_type": "code",
   "execution_count": null,
   "id": "762f548e",
   "metadata": {},
   "outputs": [],
   "source": [
    "client.futures_coin_account() # Account details"
   ]
  },
  {
   "cell_type": "code",
   "execution_count": null,
   "id": "7db537c3",
   "metadata": {},
   "outputs": [],
   "source": [
    "client.futures_coin_account_balance()  # Asset Balance details"
   ]
  },
  {
   "cell_type": "code",
   "execution_count": null,
   "id": "ab9be492",
   "metadata": {},
   "outputs": [],
   "source": [
    "client.futures_coin_position_information() # current Open Positions"
   ]
  },
  {
   "cell_type": "code",
   "execution_count": null,
   "id": "4d619236",
   "metadata": {},
   "outputs": [],
   "source": []
  },
  {
   "cell_type": "markdown",
   "id": "18dcc356",
   "metadata": {},
   "source": [
    "## Changing Settings and Modes"
   ]
  },
  {
   "cell_type": "code",
   "execution_count": null,
   "id": "50b107e0",
   "metadata": {},
   "outputs": [],
   "source": [
    "client"
   ]
  },
  {
   "cell_type": "markdown",
   "id": "1a8d0c9a",
   "metadata": {},
   "source": [
    "__Target Leverage__"
   ]
  },
  {
   "cell_type": "code",
   "execution_count": null,
   "id": "331c2cd0",
   "metadata": {},
   "outputs": [],
   "source": [
    "client.futures_position_information(symbol = \"BTCUSDT\")"
   ]
  },
  {
   "cell_type": "code",
   "execution_count": null,
   "id": "66ef9b21",
   "metadata": {},
   "outputs": [],
   "source": [
    "client.futures_change_leverage(symbol = \"BTCUSDT\", leverage = 5)"
   ]
  },
  {
   "cell_type": "markdown",
   "id": "a8319952",
   "metadata": {},
   "source": [
    "__Margin Mode (ISOLATED vs. CROSSED)__"
   ]
  },
  {
   "cell_type": "code",
   "execution_count": null,
   "id": "3050d988",
   "metadata": {},
   "outputs": [],
   "source": [
    "client.futures_change_margin_type(symbol = \"BTCUSDT\", marginType = \"ISOLATED\")"
   ]
  },
  {
   "cell_type": "code",
   "execution_count": null,
   "id": "d8112fea",
   "metadata": {},
   "outputs": [],
   "source": [
    "client.futures_change_margin_type(symbol = \"BTCUSDT\", marginType = \"CROSSED\")"
   ]
  },
  {
   "cell_type": "markdown",
   "id": "fe2e001d",
   "metadata": {},
   "source": [
    "__Position Mode (Hedging vs. Netting)__"
   ]
  },
  {
   "cell_type": "code",
   "execution_count": null,
   "id": "fd281678",
   "metadata": {},
   "outputs": [],
   "source": [
    "client.futures_get_position_mode() # position mode ()"
   ]
  },
  {
   "cell_type": "code",
   "execution_count": null,
   "id": "9d6e88d5",
   "metadata": {},
   "outputs": [],
   "source": [
    "client.futures_change_position_mode(dualSidePosition = True)"
   ]
  },
  {
   "cell_type": "code",
   "execution_count": null,
   "id": "7b4fa8c0",
   "metadata": {},
   "outputs": [],
   "source": []
  },
  {
   "cell_type": "markdown",
   "id": "ff45db4d",
   "metadata": {},
   "source": [
    "## Placing Market Orders (Part 1)"
   ]
  },
  {
   "cell_type": "code",
   "execution_count": null,
   "id": "54c5fe86",
   "metadata": {},
   "outputs": [],
   "source": [
    "client"
   ]
  },
  {
   "cell_type": "code",
   "execution_count": null,
   "id": "9c02c269",
   "metadata": {},
   "outputs": [],
   "source": [
    "client.futures_position_information(symbol = \"BTCUSDT\") # no open position"
   ]
  },
  {
   "cell_type": "code",
   "execution_count": null,
   "id": "ea182d22",
   "metadata": {},
   "outputs": [],
   "source": [
    "client.futures_get_open_orders(symbol = \"BTCUSDT\") # no open orders"
   ]
  },
  {
   "cell_type": "markdown",
   "id": "c181a006",
   "metadata": {},
   "source": [
    "__More information on placing Orders via the Futures API:__"
   ]
  },
  {
   "cell_type": "markdown",
   "id": "984be12d",
   "metadata": {},
   "source": [
    "https://binance-docs.github.io/apidocs/futures/en/#new-order-trade"
   ]
  },
  {
   "cell_type": "code",
   "execution_count": null,
   "id": "3f410ef7",
   "metadata": {},
   "outputs": [],
   "source": [
    "# client.futures_create_order()"
   ]
  },
  {
   "cell_type": "markdown",
   "id": "21181664",
   "metadata": {},
   "source": [
    "__Go Long 0.01 BTCUSDT, Leverage = 10__"
   ]
  },
  {
   "cell_type": "code",
   "execution_count": null,
   "id": "617c1788",
   "metadata": {},
   "outputs": [],
   "source": [
    "leverage = 10\n",
    "size = 0.01"
   ]
  },
  {
   "cell_type": "code",
   "execution_count": null,
   "id": "9402e585",
   "metadata": {},
   "outputs": [],
   "source": [
    "client.futures_change_leverage(symbol = \"BTCUSDT\", leverage = leverage)"
   ]
  },
  {
   "cell_type": "code",
   "execution_count": null,
   "id": "1b1bf256",
   "metadata": {},
   "outputs": [],
   "source": [
    "order_open = client.futures_create_order(symbol = \"BTCUSDT\", side = \"BUY\",\n",
    "                                         type = \"MARKET\", quantity = size)\n",
    "order_open"
   ]
  },
  {
   "cell_type": "code",
   "execution_count": null,
   "id": "97f4e0b2",
   "metadata": {},
   "outputs": [],
   "source": [
    "client.futures_get_order(symbol = \"BTCUSDT\", orderId = order_open[\"orderId\"]) # check order status"
   ]
  },
  {
   "cell_type": "code",
   "execution_count": null,
   "id": "da74f2de",
   "metadata": {},
   "outputs": [],
   "source": [
    "client.futures_position_information(symbol = \"BTCUSDT\") "
   ]
  },
  {
   "cell_type": "code",
   "execution_count": null,
   "id": "b4717cf6",
   "metadata": {},
   "outputs": [],
   "source": [
    "order_close = client.futures_create_order(symbol = \"BTCUSDT\", side = \"SELL\",\n",
    "                                          type = \"MARKET\", quantity = size, reduce_Only = True)\n",
    "order_close"
   ]
  },
  {
   "cell_type": "code",
   "execution_count": null,
   "id": "2851d1a4",
   "metadata": {},
   "outputs": [],
   "source": [
    "client.futures_get_order(symbol = \"BTCUSDT\", orderId = order_close[\"orderId\"]) # check order status"
   ]
  },
  {
   "cell_type": "code",
   "execution_count": null,
   "id": "a1a12b4a",
   "metadata": {},
   "outputs": [],
   "source": [
    "client.futures_position_information(symbol = \"BTCUSDT\") "
   ]
  },
  {
   "cell_type": "code",
   "execution_count": null,
   "id": "2ad924ce",
   "metadata": {},
   "outputs": [],
   "source": []
  },
  {
   "cell_type": "markdown",
   "id": "d749b58c",
   "metadata": {},
   "source": [
    "## Trade and Income History"
   ]
  },
  {
   "cell_type": "code",
   "execution_count": null,
   "id": "e620d7d4",
   "metadata": {},
   "outputs": [],
   "source": [
    "client"
   ]
  },
  {
   "cell_type": "markdown",
   "id": "9d1d3ca8",
   "metadata": {},
   "source": [
    "https://binance-docs.github.io/apidocs/futures/en/#account-trade-list-user_data"
   ]
  },
  {
   "cell_type": "code",
   "execution_count": null,
   "id": "323396f8",
   "metadata": {},
   "outputs": [],
   "source": [
    "client.futures_account_trades(symbol = \"BTCUSDT\") # get all trades in the last 7 days"
   ]
  },
  {
   "cell_type": "code",
   "execution_count": null,
   "id": "03853c9a",
   "metadata": {},
   "outputs": [],
   "source": [
    "df = pd.DataFrame(client.futures_account_trades(symbol = \"BTCUSDT\"))\n",
    "df"
   ]
  },
  {
   "cell_type": "code",
   "execution_count": null,
   "id": "d5bcc385",
   "metadata": {},
   "outputs": [],
   "source": [
    "df.tail(2) # two most recent trades"
   ]
  },
  {
   "cell_type": "code",
   "execution_count": null,
   "id": "1acf762a",
   "metadata": {},
   "outputs": [],
   "source": [
    "client.futures_income_history(symbol = \"BTCUSDT\") # recent income history (7 days)"
   ]
  },
  {
   "cell_type": "code",
   "execution_count": null,
   "id": "6ebe72e7",
   "metadata": {},
   "outputs": [],
   "source": [
    "pd.DataFrame(client.futures_income_history(symbol = \"BTCUSDT\")).tail(3)"
   ]
  },
  {
   "cell_type": "code",
   "execution_count": null,
   "id": "08d34876",
   "metadata": {},
   "outputs": [],
   "source": []
  },
  {
   "cell_type": "markdown",
   "id": "2d0fb5c1",
   "metadata": {},
   "source": [
    "## Placing Market Orders (Part 2)"
   ]
  },
  {
   "cell_type": "code",
   "execution_count": null,
   "id": "2b11a737",
   "metadata": {},
   "outputs": [],
   "source": [
    "client"
   ]
  },
  {
   "cell_type": "markdown",
   "id": "40c045ee",
   "metadata": {},
   "source": [
    "__Go Short 0.01 BTCUSDT, Leverage = 15__"
   ]
  },
  {
   "cell_type": "code",
   "execution_count": null,
   "id": "2a60e670",
   "metadata": {},
   "outputs": [],
   "source": [
    "leverage = 15\n",
    "size = 0.01"
   ]
  },
  {
   "cell_type": "code",
   "execution_count": null,
   "id": "7bf91b38",
   "metadata": {},
   "outputs": [],
   "source": [
    "client.futures_change_leverage(symbol = \"BTCUSDT\", leverage = leverage)"
   ]
  },
  {
   "cell_type": "code",
   "execution_count": null,
   "id": "b14812bb",
   "metadata": {},
   "outputs": [],
   "source": [
    "order_open = client.futures_create_order(symbol = \"BTCUSDT\", side = \"SELL\",\n",
    "                                         type = \"MARKET\", quantity = size)\n",
    "order_open"
   ]
  },
  {
   "cell_type": "code",
   "execution_count": null,
   "id": "3cd8bb34",
   "metadata": {},
   "outputs": [],
   "source": [
    "client.futures_position_information(symbol = \"BTCUSDT\") "
   ]
  },
  {
   "cell_type": "code",
   "execution_count": null,
   "id": "8e59f098",
   "metadata": {},
   "outputs": [],
   "source": [
    "order_close = client.futures_create_order(symbol = \"BTCUSDT\", side = \"BUY\",\n",
    "                                          type = \"MARKET\", quantity = size, reduceOnly = True)\n",
    "order_close"
   ]
  },
  {
   "cell_type": "code",
   "execution_count": null,
   "id": "32ecaa40",
   "metadata": {},
   "outputs": [],
   "source": [
    "df = pd.DataFrame(client.futures_account_trades(symbol = \"BTCUSDT\"))"
   ]
  },
  {
   "cell_type": "code",
   "execution_count": null,
   "id": "2631510d",
   "metadata": {},
   "outputs": [],
   "source": [
    "df.tail(2)"
   ]
  },
  {
   "cell_type": "code",
   "execution_count": null,
   "id": "e02f3e62",
   "metadata": {},
   "outputs": [],
   "source": []
  },
  {
   "cell_type": "markdown",
   "id": "dd0b1164",
   "metadata": {},
   "source": [
    "## Getting Historical Futures Market Data"
   ]
  },
  {
   "cell_type": "code",
   "execution_count": null,
   "id": "0c360eb9",
   "metadata": {},
   "outputs": [],
   "source": [
    "from binance.client import Client\n",
    "import pandas as pd"
   ]
  },
  {
   "cell_type": "code",
   "execution_count": null,
   "id": "b1c754c6",
   "metadata": {},
   "outputs": [],
   "source": [
    "client = Client(api_key = api_key, api_secret = secret_key, tld = \"com\", testnet = True) # Testnet!!!"
   ]
  },
  {
   "cell_type": "markdown",
   "id": "4665722b",
   "metadata": {},
   "source": [
    "valid intervals - 1m, 3m, 5m, 15m, 30m, 1h, 2h, 4h, 6h, 8h, 12h, 1d, 3d, 1w, 1M"
   ]
  },
  {
   "cell_type": "markdown",
   "id": "6392f704",
   "metadata": {},
   "source": [
    "__Spot__"
   ]
  },
  {
   "cell_type": "code",
   "execution_count": null,
   "id": "6be9ab3a",
   "metadata": {},
   "outputs": [],
   "source": [
    "client.get_historical_klines(symbol = \"BTCUSDT\", interval = \"1d\", \n",
    "                             start_str = \"2020-01-01\", end_str = None, limit = 1000)"
   ]
  },
  {
   "cell_type": "markdown",
   "id": "6e19e760",
   "metadata": {},
   "source": [
    "__Futures__"
   ]
  },
  {
   "cell_type": "code",
   "execution_count": null,
   "id": "41d679f9",
   "metadata": {},
   "outputs": [],
   "source": [
    "client.futures_historical_klines(symbol = \"BTCUSDT\", interval = \"1d\",\n",
    "                                 start_str = \"2020-01-01\", end_str = None, limit = 1000)"
   ]
  },
  {
   "cell_type": "code",
   "execution_count": null,
   "id": "5e6e92fc",
   "metadata": {},
   "outputs": [],
   "source": [
    "def get_history(symbol, interval, start, end = None):\n",
    "    bars = client.futures_historical_klines(symbol = symbol, interval = interval,\n",
    "                                        start_str = start, end_str = end, limit = 1000)\n",
    "    df = pd.DataFrame(bars)\n",
    "    df[\"Date\"] = pd.to_datetime(df.iloc[:,0], unit = \"ms\")\n",
    "    df.columns = [\"Open Time\", \"Open\", \"High\", \"Low\", \"Close\", \"Volume\",\n",
    "                  \"Clos Time\", \"Quote Asset Volume\", \"Number of Trades\",\n",
    "                  \"Taker Buy Base Asset Volume\", \"Taker Buy Quote Asset Volume\", \"Ignore\", \"Date\"]\n",
    "    df = df[[\"Date\", \"Open\", \"High\", \"Low\", \"Close\", \"Volume\"]].copy()\n",
    "    df.set_index(\"Date\", inplace = True)\n",
    "    for column in df.columns:\n",
    "        df[column] = pd.to_numeric(df[column], errors = \"coerce\")\n",
    "    \n",
    "    return df"
   ]
  },
  {
   "cell_type": "code",
   "execution_count": null,
   "id": "9f904e7f",
   "metadata": {},
   "outputs": [],
   "source": [
    "data = get_history(symbol = \"BTCUSDT\", interval = \"1d\", start = \"2020-01-01\")\n",
    "data"
   ]
  },
  {
   "cell_type": "code",
   "execution_count": null,
   "id": "f179c65b",
   "metadata": {},
   "outputs": [],
   "source": [
    "data.info()"
   ]
  },
  {
   "cell_type": "code",
   "execution_count": null,
   "id": "e948c39e",
   "metadata": {},
   "outputs": [],
   "source": []
  },
  {
   "cell_type": "markdown",
   "id": "88d31c67",
   "metadata": {},
   "source": [
    "## Streaming Future Prices in real-time"
   ]
  },
  {
   "cell_type": "markdown",
   "id": "0648f385",
   "metadata": {},
   "source": [
    "### ++++++ Update (August 2023) ++++++++"
   ]
  },
  {
   "cell_type": "markdown",
   "id": "81128331",
   "metadata": {},
   "source": [
    "There are two alterantives to stream live data with python-binance:\n",
    "- using __ThreadedWebsocketManager__ -or-\n",
    "- using __BinanceSocketManager (newly added to the course)__"
   ]
  },
  {
   "cell_type": "markdown",
   "id": "a0701e19",
   "metadata": {},
   "source": [
    "__What´s the benefit of covering both options?__<br>\n",
    "-> We can now __run Trading Bots in Jupyter and as a Script__ with the __latest Versions__ of Python (3.11+) and Python-Binance (1.0.19+). No need to care about Versions and Installations any more!"
   ]
  },
  {
   "cell_type": "markdown",
   "id": "972e3fa7",
   "metadata": {},
   "source": [
    "For more information, please go back to __Section 7__ (API Intro)!"
   ]
  },
  {
   "cell_type": "markdown",
   "id": "5a936c1c",
   "metadata": {},
   "source": [
    "--------------------------------------------"
   ]
  },
  {
   "cell_type": "markdown",
   "id": "61cab932",
   "metadata": {},
   "source": [
    "### Option 1: ThreadedWebsocketManager (only executable in scripts, not in Jupyter!):"
   ]
  },
  {
   "cell_type": "code",
   "execution_count": null,
   "id": "bad606c2",
   "metadata": {},
   "outputs": [],
   "source": [
    "from binance import ThreadedWebsocketManager\n",
    "import pandas as pd"
   ]
  },
  {
   "cell_type": "code",
   "execution_count": null,
   "id": "247477cd",
   "metadata": {},
   "outputs": [],
   "source": [
    "df = pd.DataFrame(columns = [\"Open\", \"High\", \"Low\", \"Close\", \"Volume\", \"Complete\"])\n",
    "df"
   ]
  },
  {
   "cell_type": "code",
   "execution_count": null,
   "id": "0714c46d",
   "metadata": {},
   "outputs": [],
   "source": [
    "def stream_candles(msg):\n",
    "    ''' define how to process incoming WebSocket messages '''\n",
    "    \n",
    "    # extract the required items from msg\n",
    "    event_time = pd.to_datetime(msg[\"E\"], unit = \"ms\")\n",
    "    start_time = pd.to_datetime(msg[\"k\"][\"t\"], unit = \"ms\")\n",
    "    first   = float(msg[\"k\"][\"o\"])\n",
    "    high    = float(msg[\"k\"][\"h\"])\n",
    "    low     = float(msg[\"k\"][\"l\"])\n",
    "    close   = float(msg[\"k\"][\"c\"])\n",
    "    volume  = float(msg[\"k\"][\"v\"])\n",
    "    complete=       msg[\"k\"][\"x\"]\n",
    "    \n",
    "    # print out\n",
    "    print(\"Time: {} | Price: {}\".format(event_time, close))\n",
    "    \n",
    "    # feed df (add new bar / update latest bar)\n",
    "    df.loc[start_time] = [first, high, low, close, volume, complete]"
   ]
  },
  {
   "cell_type": "code",
   "execution_count": null,
   "id": "3b985288",
   "metadata": {},
   "outputs": [],
   "source": [
    "twm = ThreadedWebsocketManager(testnet = True)\n",
    "twm.start()"
   ]
  },
  {
   "cell_type": "markdown",
   "id": "1367f458",
   "metadata": {},
   "source": [
    "valid intervals - 1m, 3m, 5m, 15m, 30m, 1h, 2h, 4h, 6h, 8h, 12h, 1d, 3d, 1w, 1M"
   ]
  },
  {
   "cell_type": "markdown",
   "id": "7252b8da",
   "metadata": {},
   "source": [
    "__Spot__"
   ]
  },
  {
   "cell_type": "code",
   "execution_count": null,
   "id": "be70a544",
   "metadata": {},
   "outputs": [],
   "source": [
    "# twm.start_kline_socket(callback = stream_candles, symbol = \"BTCUSDT\", interval = \"1m\")"
   ]
  },
  {
   "cell_type": "markdown",
   "id": "dba07b83",
   "metadata": {},
   "source": [
    "__Futures__"
   ]
  },
  {
   "cell_type": "code",
   "execution_count": null,
   "id": "ef413f3a",
   "metadata": {},
   "outputs": [],
   "source": [
    "twm.start_kline_futures_socket(callback = stream_candles, symbol = \"BTCUSDT\", interval = \"1m\")"
   ]
  },
  {
   "cell_type": "code",
   "execution_count": null,
   "id": "27d6011f",
   "metadata": {},
   "outputs": [],
   "source": [
    "# stop the Websocket/Stream after 20 seconds\n",
    "while True:\n",
    "    time.sleep(20)\n",
    "    twm.stop()\n",
    "    break"
   ]
  },
  {
   "cell_type": "code",
   "execution_count": null,
   "id": "93cb3e9a",
   "metadata": {},
   "outputs": [],
   "source": [
    "df"
   ]
  },
  {
   "cell_type": "code",
   "execution_count": null,
   "id": "38311707",
   "metadata": {},
   "outputs": [],
   "source": [
    "df.info()"
   ]
  },
  {
   "cell_type": "markdown",
   "id": "dadacf60",
   "metadata": {},
   "source": [
    "-------------------------------------------------------"
   ]
  },
  {
   "cell_type": "markdown",
   "id": "62c695e2",
   "metadata": {},
   "source": [
    "### Option 2: BinanceSocketManager (executable in Jupyter!): "
   ]
  },
  {
   "cell_type": "code",
   "execution_count": null,
   "id": "e50652cd",
   "metadata": {},
   "outputs": [],
   "source": [
    "import asyncio\n",
    "from binance import AsyncClient, BinanceSocketManager\n",
    "import pandas as pd"
   ]
  },
  {
   "cell_type": "code",
   "execution_count": null,
   "id": "8fc25bea",
   "metadata": {},
   "outputs": [],
   "source": [
    "df = pd.DataFrame(columns = [\"Open\", \"High\", \"Low\", \"Close\", \"Volume\", \"Complete\"])\n",
    "df"
   ]
  },
  {
   "cell_type": "code",
   "execution_count": null,
   "id": "cc7a4931",
   "metadata": {},
   "outputs": [],
   "source": [
    "stream_candles"
   ]
  },
  {
   "cell_type": "code",
   "execution_count": null,
   "id": "4c29625b",
   "metadata": {
    "scrolled": false
   },
   "outputs": [],
   "source": [
    "async def main():\n",
    "    client = await AsyncClient.create()\n",
    "    bm = BinanceSocketManager(client)\n",
    "    ts = bm.kline_futures_socket(symbol = \"BTCUSDT\", interval = \"1m\")\n",
    "    \n",
    "    async with ts as tscm:\n",
    "        for _ in range(120):  # This is just an example to limit the number of messages. Remove or adjust as needed.\n",
    "            res = await tscm.recv()\n",
    "            stream_candles(res)\n",
    "\n",
    "    await client.close_connection()\n",
    "await main()"
   ]
  },
  {
   "cell_type": "code",
   "execution_count": null,
   "id": "5a7ee012",
   "metadata": {},
   "outputs": [],
   "source": [
    "df"
   ]
  },
  {
   "cell_type": "code",
   "execution_count": null,
   "id": "4b2d90fc",
   "metadata": {},
   "outputs": [],
   "source": [
    "df.info()"
   ]
  },
  {
   "cell_type": "code",
   "execution_count": null,
   "id": "07e31574",
   "metadata": {},
   "outputs": [],
   "source": []
  },
  {
   "cell_type": "markdown",
   "id": "9c3c889f",
   "metadata": {},
   "source": [
    "## The Futures Trader"
   ]
  },
  {
   "cell_type": "markdown",
   "id": "5585a867",
   "metadata": {},
   "source": [
    "_Disclaimer: <br>\n",
    "The following illustrative examples are for general information and educational purposes only. <br>\n",
    "It is neither investment advice nor a recommendation to trade, invest or take whatsoever actions.<br>\n",
    "The below code should only be used in combination with the Binance Futures Testnet and NOT with a Live Trading Account._"
   ]
  },
  {
   "cell_type": "code",
   "execution_count": null,
   "id": "a8a48b85",
   "metadata": {},
   "outputs": [],
   "source": [
    "from binance.client import Client\n",
    "from binance import ThreadedWebsocketManager\n",
    "import pandas as pd\n",
    "import numpy as np\n",
    "from datetime import datetime, timedelta\n",
    "import time"
   ]
  },
  {
   "cell_type": "code",
   "execution_count": null,
   "id": "a2f360ec",
   "metadata": {},
   "outputs": [],
   "source": [
    "class FuturesTrader():  # Triple SMA Crossover\n",
    "    \n",
    "    def __init__(self, symbol, bar_length, sma_s, sma_m, sma_l, units, position = 0, leverage = 5):\n",
    "        \n",
    "        self.symbol = symbol\n",
    "        self.bar_length = bar_length\n",
    "        self.available_intervals = [\"1m\", \"3m\", \"5m\", \"15m\", \"30m\", \"1h\", \"2h\", \"4h\", \"6h\", \"8h\", \"12h\", \"1d\", \"3d\", \"1w\", \"1M\"]\n",
    "        self.units = units\n",
    "        self.position = position\n",
    "        self.leverage = leverage # NEW\n",
    "        self.cum_profits = 0 # NEW\n",
    "        #self.trades = 0 \n",
    "        #self.trade_values = []\n",
    "        \n",
    "        #*****************add strategy-specific attributes here******************\n",
    "        self.SMA_S = sma_s\n",
    "        self.SMA_M = sma_m\n",
    "        self.SMA_L = sma_l\n",
    "        #************************************************************************\n",
    "    \n",
    "    def start_trading(self, historical_days):\n",
    "        \n",
    "        client.futures_change_leverage(symbol = self.symbol, leverage = self.leverage) # NEW\n",
    "        \n",
    "        self.twm = ThreadedWebsocketManager(testnet = True) # testnet\n",
    "        self.twm.start()\n",
    "        \n",
    "        if self.bar_length in self.available_intervals:\n",
    "            self.get_most_recent(symbol = self.symbol, interval = self.bar_length,\n",
    "                                 days = historical_days)\n",
    "            self.twm.start_kline_futures_socket(callback = self.stream_candles,\n",
    "                                        symbol = self.symbol, interval = self.bar_length) # Adj: start_kline_futures_socket\n",
    "            \n",
    "        # \"else\" to be added later in the course \n",
    "    \n",
    "    def get_most_recent(self, symbol, interval, days):\n",
    "    \n",
    "        now = datetime.utcnow()\n",
    "        past = str(now - timedelta(days = days))\n",
    "    \n",
    "        bars = client.futures_historical_klines(symbol = symbol, interval = interval,\n",
    "                                            start_str = past, end_str = None, limit = 1000) # Adj: futures_historical_klines\n",
    "        df = pd.DataFrame(bars)\n",
    "        df[\"Date\"] = pd.to_datetime(df.iloc[:,0], unit = \"ms\")\n",
    "        df.columns = [\"Open Time\", \"Open\", \"High\", \"Low\", \"Close\", \"Volume\",\n",
    "                      \"Clos Time\", \"Quote Asset Volume\", \"Number of Trades\",\n",
    "                      \"Taker Buy Base Asset Volume\", \"Taker Buy Quote Asset Volume\", \"Ignore\", \"Date\"]\n",
    "        df = df[[\"Date\", \"Open\", \"High\", \"Low\", \"Close\", \"Volume\"]].copy()\n",
    "        df.set_index(\"Date\", inplace = True)\n",
    "        for column in df.columns:\n",
    "            df[column] = pd.to_numeric(df[column], errors = \"coerce\")\n",
    "        df[\"Complete\"] = [True for row in range(len(df)-1)] + [False]\n",
    "        \n",
    "        self.data = df\n",
    "    \n",
    "    def stream_candles(self, msg):\n",
    "        \n",
    "        # extract the required items from msg\n",
    "        event_time = pd.to_datetime(msg[\"E\"], unit = \"ms\")\n",
    "        start_time = pd.to_datetime(msg[\"k\"][\"t\"], unit = \"ms\")\n",
    "        first   = float(msg[\"k\"][\"o\"])\n",
    "        high    = float(msg[\"k\"][\"h\"])\n",
    "        low     = float(msg[\"k\"][\"l\"])\n",
    "        close   = float(msg[\"k\"][\"c\"])\n",
    "        volume  = float(msg[\"k\"][\"v\"])\n",
    "        complete=       msg[\"k\"][\"x\"]\n",
    "        \n",
    "        # print out\n",
    "        print(\".\", end = \"\", flush = True) \n",
    "    \n",
    "        # feed df (add new bar / update latest bar)\n",
    "        self.data.loc[start_time] = [first, high, low, close, volume, complete]\n",
    "        \n",
    "        # prepare features and define strategy/trading positions whenever the latest bar is complete\n",
    "        if complete == True:\n",
    "            self.define_strategy()\n",
    "            self.execute_trades()\n",
    "        \n",
    "    def define_strategy(self):\n",
    "        \n",
    "        data = self.data.copy()\n",
    "        \n",
    "        #******************** define your strategy here ************************\n",
    "        data = data[[\"Close\"]].copy()\n",
    "        \n",
    "        data[\"SMA_S\"] = data.Close.rolling(window = self.SMA_S).mean()\n",
    "        data[\"SMA_M\"] = data.Close.rolling(window = self.SMA_M).mean()\n",
    "        data[\"SMA_L\"] = data.Close.rolling(window = self.SMA_L).mean()\n",
    "        \n",
    "        data.dropna(inplace = True)\n",
    "                \n",
    "        cond1 = (data.SMA_S > data.SMA_M) & (data.SMA_M > data.SMA_L)\n",
    "        cond2 = (data.SMA_S < data.SMA_M) & (data.SMA_M < data.SMA_L)\n",
    "        \n",
    "        data[\"position\"] = 0\n",
    "        data.loc[cond1, \"position\"] = 1\n",
    "        data.loc[cond2, \"position\"] = -1\n",
    "        #***********************************************************************\n",
    "        \n",
    "        self.prepared_data = data.copy()\n",
    "    \n",
    "    def execute_trades(self): # Adj! \n",
    "        if self.prepared_data[\"position\"].iloc[-1] == 1: # if position is long -> go/stay long\n",
    "            if self.position == 0:\n",
    "                order = client.futures_create_order(symbol = self.symbol, side = \"BUY\", type = \"MARKET\", quantity = self.units)\n",
    "                self.report_trade(order, \"GOING LONG\")  \n",
    "            elif self.position == -1:\n",
    "                order = client.futures_create_order(symbol = self.symbol, side = \"BUY\", type = \"MARKET\", quantity = 2 * self.units)\n",
    "                self.report_trade(order, \"GOING LONG\")\n",
    "            self.position = 1\n",
    "        elif self.prepared_data[\"position\"].iloc[-1] == 0: # if position is neutral -> go/stay neutral\n",
    "            if self.position == 1:\n",
    "                order = client.futures_create_order(symbol = self.symbol, side = \"SELL\", type = \"MARKET\", quantity = self.units)\n",
    "                self.report_trade(order, \"GOING NEUTRAL\") \n",
    "            elif self.position == -1:\n",
    "                order = client.futures_create_order(symbol = self.symbol, side = \"BUY\", type = \"MARKET\", quantity = self.units)\n",
    "                self.report_trade(order, \"GOING NEUTRAL\")\n",
    "            self.position = 0\n",
    "        if self.prepared_data[\"position\"].iloc[-1] == -1: # if position is short -> go/stay short\n",
    "            if self.position == 0:\n",
    "                order = client.futures_create_order(symbol = self.symbol, side = \"SELL\", type = \"MARKET\", quantity = self.units)\n",
    "                self.report_trade(order, \"GOING SHORT\") \n",
    "            elif self.position == 1:\n",
    "                order = client.futures_create_order(symbol = self.symbol, side = \"SELL\", type = \"MARKET\", quantity = 2 * self.units)\n",
    "                self.report_trade(order, \"GOING SHORT\")\n",
    "            self.position = -1\n",
    "    \n",
    "    def report_trade(self, order, going): # Adj!\n",
    "        \n",
    "        time.sleep(0.1)\n",
    "        order_time = order[\"updateTime\"]\n",
    "        trades = client.futures_account_trades(symbol = self.symbol, startTime = order_time)\n",
    "        order_time = pd.to_datetime(order_time, unit = \"ms\")\n",
    "        \n",
    "        # extract data from trades object\n",
    "        df = pd.DataFrame(trades)\n",
    "        columns = [\"qty\", \"quoteQty\", \"commission\",\"realizedPnl\"]\n",
    "        for column in columns:\n",
    "            df[column] = pd.to_numeric(df[column], errors = \"coerce\")\n",
    "        base_units = round(df.qty.sum(), 5)\n",
    "        quote_units = round(df.quoteQty.sum(), 5)\n",
    "        commission = -round(df.commission.sum(), 5)\n",
    "        real_profit = round(df.realizedPnl.sum(), 5)\n",
    "        price = round(quote_units / base_units, 5)\n",
    "        \n",
    "        # calculate cumulative trading profits\n",
    "        self.cum_profits += round((commission + real_profit), 5)\n",
    "        \n",
    "        # print trade report\n",
    "        print(2 * \"\\n\" + 100* \"-\")\n",
    "        print(\"{} | {}\".format(order_time, going)) \n",
    "        print(\"{} | Base_Units = {} | Quote_Units = {} | Price = {} \".format(order_time, base_units, quote_units, price))\n",
    "        print(\"{} | Profit = {} | CumProfits = {} \".format(order_time, real_profit, self.cum_profits))\n",
    "        print(100 * \"-\" + \"\\n\")"
   ]
  },
  {
   "cell_type": "code",
   "execution_count": null,
   "id": "3dad544b",
   "metadata": {},
   "outputs": [],
   "source": [
    "client = Client(api_key = api_key, api_secret = secret_key, tld = \"com\", testnet = True)"
   ]
  },
  {
   "cell_type": "code",
   "execution_count": null,
   "id": "4262f23f",
   "metadata": {},
   "outputs": [],
   "source": [
    "symbol = \"BTCUSDT\"\n",
    "bar_length = \"1m\"\n",
    "sma_s = 10\n",
    "sma_m = 20\n",
    "sma_l = 50\n",
    "units = 0.001\n",
    "position = 0\n",
    "leverage = 10"
   ]
  },
  {
   "cell_type": "code",
   "execution_count": null,
   "id": "47c065f5",
   "metadata": {},
   "outputs": [],
   "source": [
    "trader = FuturesTrader(symbol = symbol, bar_length = bar_length,\n",
    "                       sma_s = sma_s, sma_m = sma_m, sma_l = sma_l, \n",
    "                       units = units, position = position, leverage = leverage)"
   ]
  },
  {
   "cell_type": "code",
   "execution_count": null,
   "id": "40312d8e",
   "metadata": {},
   "outputs": [],
   "source": [
    "trader.start_trading(historical_days = 1/24)"
   ]
  },
  {
   "cell_type": "code",
   "execution_count": null,
   "id": "fc261f71",
   "metadata": {},
   "outputs": [],
   "source": [
    "# stop the Websocket/Stream after 120 seconds\n",
    "while True:\n",
    "    time.sleep(120)\n",
    "    twm.stop()\n",
    "    break"
   ]
  },
  {
   "cell_type": "code",
   "execution_count": null,
   "id": "7e6a0fcb",
   "metadata": {},
   "outputs": [],
   "source": [
    "trader.prepared_data"
   ]
  },
  {
   "cell_type": "code",
   "execution_count": null,
   "id": "385d88c4",
   "metadata": {},
   "outputs": [],
   "source": []
  },
  {
   "cell_type": "markdown",
   "id": "2a464858",
   "metadata": {},
   "source": [
    "### Option 2: BinanceSocketManager (executable in Jupyter!): "
   ]
  },
  {
   "cell_type": "code",
   "execution_count": null,
   "id": "b2557770",
   "metadata": {},
   "outputs": [],
   "source": [
    "import asyncio\n",
    "from binance import AsyncClient, BinanceSocketManager\n",
    "from binance.client import Client\n",
    "import pandas as pd\n",
    "import numpy as np\n",
    "from datetime import datetime, timedelta\n",
    "import time"
   ]
  },
  {
   "cell_type": "code",
   "execution_count": null,
   "id": "0749bc66",
   "metadata": {},
   "outputs": [],
   "source": [
    "client = Client(api_key = api_key, api_secret = secret_key, tld = \"com\", testnet = True)"
   ]
  },
  {
   "cell_type": "code",
   "execution_count": null,
   "id": "a5823131",
   "metadata": {},
   "outputs": [],
   "source": [
    "symbol = \"BTCUSDT\"\n",
    "bar_length = \"1m\"\n",
    "sma_s = 10\n",
    "sma_m = 20\n",
    "sma_l = 50\n",
    "units = 0.001\n",
    "position = 0\n",
    "leverage = 10"
   ]
  },
  {
   "cell_type": "code",
   "execution_count": null,
   "id": "44588083",
   "metadata": {},
   "outputs": [],
   "source": [
    "trader = FuturesTrader(symbol = symbol, bar_length = bar_length,\n",
    "                       sma_s = sma_s, sma_m = sma_m, sma_l = sma_l, \n",
    "                       units = units, position = position, leverage = leverage)"
   ]
  },
  {
   "cell_type": "code",
   "execution_count": null,
   "id": "ea5b973a",
   "metadata": {},
   "outputs": [],
   "source": [
    "async def start_trading(historical_days):\n",
    "    client2 = await AsyncClient.create()\n",
    "    client.futures_change_leverage(symbol = trader.symbol, leverage = trader.leverage) # NEW\n",
    "    bm = BinanceSocketManager(client)\n",
    "    \n",
    "    if trader.bar_length in trader.available_intervals:\n",
    "        trader.get_most_recent(symbol = trader.symbol, interval = trader.bar_length,\n",
    "                             days = historical_days)\n",
    "        ts = bm.kline_futures_socket(symbol = trader.symbol, interval = trader.bar_length)        \n",
    "    # \"else\" to be added later in the course\n",
    "    \n",
    "    async with ts as tscm:\n",
    "        for _ in range(120):  # This is just an example to limit the number of messages. Remove or adjust as needed.\n",
    "            res = await tscm.recv()\n",
    "            trader.stream_candles(res)\n",
    "\n",
    "    await client2.close_connection()\n",
    "await start_trading(historical_days = 1/24)"
   ]
  },
  {
   "cell_type": "code",
   "execution_count": null,
   "id": "92e6d302",
   "metadata": {},
   "outputs": [],
   "source": []
  },
  {
   "cell_type": "markdown",
   "id": "459e5733",
   "metadata": {},
   "source": [
    "## Bonus: The FuturesTrader Framework with integrated stop"
   ]
  },
  {
   "cell_type": "markdown",
   "id": "15166683",
   "metadata": {},
   "source": [
    "- __WebsocketManager__: see FuturesTrader script in Part3 Downloads (added in August 2023)"
   ]
  },
  {
   "cell_type": "markdown",
   "id": "2e594f6b",
   "metadata": {},
   "source": [
    "- __BinanceSocketManager:__"
   ]
  },
  {
   "cell_type": "code",
   "execution_count": null,
   "id": "ef311802",
   "metadata": {},
   "outputs": [],
   "source": [
    "import asyncio\n",
    "from binance import AsyncClient, BinanceSocketManager\n",
    "from binance.client import Client\n",
    "import pandas as pd\n",
    "import numpy as np\n",
    "from datetime import datetime, timedelta\n",
    "import time"
   ]
  },
  {
   "cell_type": "code",
   "execution_count": null,
   "id": "d7ced133",
   "metadata": {},
   "outputs": [],
   "source": [
    "client = Client(api_key = api_key, api_secret = secret_key, tld = \"com\", testnet = True)"
   ]
  },
  {
   "cell_type": "code",
   "execution_count": null,
   "id": "6aee4373",
   "metadata": {},
   "outputs": [],
   "source": [
    "class FuturesTrader():  # Stop at specific time - BinanceSocketManager\n",
    "    \n",
    "    def __init__(self, symbol, bar_length, sma_s, sma_m, sma_l, units, position = 0, leverage = 5):\n",
    "        \n",
    "        self.symbol = symbol\n",
    "        self.bar_length = bar_length\n",
    "        self.available_intervals = [\"1m\", \"3m\", \"5m\", \"15m\", \"30m\", \"1h\", \"2h\", \"4h\", \"6h\", \"8h\", \"12h\", \"1d\", \"3d\", \"1w\", \"1M\"]\n",
    "        self.units = units\n",
    "        self.position = position\n",
    "        self.leverage = leverage \n",
    "        self.cum_profits = 0 \n",
    "        \n",
    "        #*****************add strategy-specific attributes here******************\n",
    "        self.SMA_S = sma_s\n",
    "        self.SMA_M = sma_m\n",
    "        self.SMA_L = sma_l\n",
    "        #************************************************************************\n",
    "    \n",
    "    def start_trading(self, historical_days):\n",
    "        \n",
    "        client.futures_change_leverage(symbol = self.symbol, leverage = self.leverage) \n",
    "        \n",
    "        self.twm = ThreadedWebsocketManager(testnet = True) # testnet\n",
    "        self.twm.start()\n",
    "        \n",
    "        if self.bar_length in self.available_intervals:\n",
    "            self.get_most_recent(symbol = self.symbol, interval = self.bar_length,\n",
    "                                 days = historical_days)\n",
    "            self.twm.start_kline_futures_socket(callback = self.stream_candles,\n",
    "                                        symbol = self.symbol, interval = self.bar_length) \n",
    "            \n",
    "        # \"else\" to be added later in the course \n",
    "    \n",
    "    def get_most_recent(self, symbol, interval, days):\n",
    "    \n",
    "        now = datetime.utcnow()\n",
    "        past = str(now - timedelta(days = days))\n",
    "    \n",
    "        bars = client.futures_historical_klines(symbol = symbol, interval = interval,\n",
    "                                            start_str = past, end_str = None, limit = 1000) \n",
    "        df = pd.DataFrame(bars)\n",
    "        df[\"Date\"] = pd.to_datetime(df.iloc[:,0], unit = \"ms\")\n",
    "        df.columns = [\"Open Time\", \"Open\", \"High\", \"Low\", \"Close\", \"Volume\",\n",
    "                      \"Clos Time\", \"Quote Asset Volume\", \"Number of Trades\",\n",
    "                      \"Taker Buy Base Asset Volume\", \"Taker Buy Quote Asset Volume\", \"Ignore\", \"Date\"]\n",
    "        df = df[[\"Date\", \"Open\", \"High\", \"Low\", \"Close\", \"Volume\"]].copy()\n",
    "        df.set_index(\"Date\", inplace = True)\n",
    "        for column in df.columns:\n",
    "            df[column] = pd.to_numeric(df[column], errors = \"coerce\")\n",
    "        df[\"Complete\"] = [True for row in range(len(df)-1)] + [False]\n",
    "        \n",
    "        self.data = df\n",
    "    \n",
    "    def stream_candles(self, msg):\n",
    "        \n",
    "        # extract the required items from msg\n",
    "        event_time = pd.to_datetime(msg[\"E\"], unit = \"ms\")\n",
    "        start_time = pd.to_datetime(msg[\"k\"][\"t\"], unit = \"ms\")\n",
    "        first   = float(msg[\"k\"][\"o\"])\n",
    "        high    = float(msg[\"k\"][\"h\"])\n",
    "        low     = float(msg[\"k\"][\"l\"])\n",
    "        close   = float(msg[\"k\"][\"c\"])\n",
    "        volume  = float(msg[\"k\"][\"v\"])\n",
    "        complete=       msg[\"k\"][\"x\"]\n",
    "        \n",
    "        # stop trading session\n",
    "        if event_time >= datetime(2023, 8, 22, 11, 39):\n",
    "            global stop_streaming\n",
    "            stop_streaming = True\n",
    "            if self.position == 1:\n",
    "                order = client.futures_create_order(symbol = self.symbol, side = \"SELL\", type = \"MARKET\", quantity = self.units)\n",
    "                self.report_trade(order, \"GOING NEUTRAL AND STOP\")\n",
    "                self.position = 0\n",
    "            elif self.position == -1:\n",
    "                order = client.futures_create_order(symbol = self.symbol, side = \"BUY\", type = \"MARKET\", quantity = self.units)\n",
    "                self.report_trade(order, \"GOING NEUTRAL AND STOP\")\n",
    "                self.position = 0\n",
    "            else: \n",
    "                print(\"STOP\")\n",
    "    \n",
    "        else:\n",
    "            # print out\n",
    "            print(\".\", end = \"\", flush = True) # just print something to get a feedback (everything OK) \n",
    "    \n",
    "            # feed df (add new bar / update latest bar)\n",
    "            self.data.loc[start_time] = [first, high, low, close, volume, complete]\n",
    "        \n",
    "            # prepare features and define strategy/trading positions whenever the latest bar is complete\n",
    "            if complete == True:\n",
    "                self.define_strategy()\n",
    "                self.execute_trades()\n",
    "        \n",
    "    def define_strategy(self):\n",
    "        \n",
    "        data = self.data.copy()\n",
    "        \n",
    "        #******************** define your strategy here ************************\n",
    "        data = data[[\"Close\"]].copy()\n",
    "        \n",
    "        data[\"SMA_S\"] = data.Close.rolling(window = self.SMA_S).mean()\n",
    "        data[\"SMA_M\"] = data.Close.rolling(window = self.SMA_M).mean()\n",
    "        data[\"SMA_L\"] = data.Close.rolling(window = self.SMA_L).mean()\n",
    "        \n",
    "        data.dropna(inplace = True)\n",
    "                \n",
    "        cond1 = (data.SMA_S > data.SMA_M) & (data.SMA_M > data.SMA_L)\n",
    "        cond2 = (data.SMA_S < data.SMA_M) & (data.SMA_M < data.SMA_L)\n",
    "        \n",
    "        data[\"position\"] = 0\n",
    "        data.loc[cond1, \"position\"] = 1\n",
    "        data.loc[cond2, \"position\"] = -1\n",
    "        #***********************************************************************\n",
    "        \n",
    "        self.prepared_data = data.copy()\n",
    "    \n",
    "    def execute_trades(self):  \n",
    "        if self.prepared_data[\"position\"].iloc[-1] == 1: # if position is long -> go/stay long\n",
    "            if self.position == 0:\n",
    "                order = client.futures_create_order(symbol = self.symbol, side = \"BUY\", type = \"MARKET\", quantity = self.units)\n",
    "                self.report_trade(order, \"GOING LONG\")  \n",
    "            elif self.position == -1:\n",
    "                order = client.futures_create_order(symbol = self.symbol, side = \"BUY\", type = \"MARKET\", quantity = 2 * self.units)\n",
    "                self.report_trade(order, \"GOING LONG\")\n",
    "            self.position = 1\n",
    "        elif self.prepared_data[\"position\"].iloc[-1] == 0: # if position is neutral -> go/stay neutral\n",
    "            if self.position == 1:\n",
    "                order = client.futures_create_order(symbol = self.symbol, side = \"SELL\", type = \"MARKET\", quantity = self.units)\n",
    "                self.report_trade(order, \"GOING NEUTRAL\") \n",
    "            elif self.position == -1:\n",
    "                order = client.futures_create_order(symbol = self.symbol, side = \"BUY\", type = \"MARKET\", quantity = self.units)\n",
    "                self.report_trade(order, \"GOING NEUTRAL\")\n",
    "            self.position = 0\n",
    "        if self.prepared_data[\"position\"].iloc[-1] == -1: # if position is short -> go/stay short\n",
    "            if self.position == 0:\n",
    "                order = client.futures_create_order(symbol = self.symbol, side = \"SELL\", type = \"MARKET\", quantity = self.units)\n",
    "                self.report_trade(order, \"GOING SHORT\") \n",
    "            elif self.position == 1:\n",
    "                order = client.futures_create_order(symbol = self.symbol, side = \"SELL\", type = \"MARKET\", quantity = 2 * self.units)\n",
    "                self.report_trade(order, \"GOING SHORT\")\n",
    "            self.position = -1\n",
    "    \n",
    "    def report_trade(self, order, going): \n",
    "        \n",
    "        time.sleep(0.1)\n",
    "        order_time = order[\"updateTime\"]\n",
    "        trades = client.futures_account_trades(symbol = self.symbol, startTime = order_time)\n",
    "        order_time = pd.to_datetime(order_time, unit = \"ms\")\n",
    "        \n",
    "        # extract data from trades object\n",
    "        df = pd.DataFrame(trades)\n",
    "        columns = [\"qty\", \"quoteQty\", \"commission\",\"realizedPnl\"]\n",
    "        for column in columns:\n",
    "            df[column] = pd.to_numeric(df[column], errors = \"coerce\")\n",
    "        base_units = round(df.qty.sum(), 5)\n",
    "        quote_units = round(df.quoteQty.sum(), 5)\n",
    "        commission = -round(df.commission.sum(), 5)\n",
    "        real_profit = round(df.realizedPnl.sum(), 5)\n",
    "        price = round(quote_units / base_units, 5)\n",
    "        \n",
    "        # calculate cumulative trading profits\n",
    "        self.cum_profits += round((commission + real_profit), 5)\n",
    "        \n",
    "        # print trade report\n",
    "        print(2 * \"\\n\" + 100* \"-\")\n",
    "        print(\"{} | {}\".format(order_time, going)) \n",
    "        print(\"{} | Base_Units = {} | Quote_Units = {} | Price = {} \".format(order_time, base_units, quote_units, price))\n",
    "        print(\"{} | Profit = {} | CumProfits = {} \".format(order_time, real_profit, self.cum_profits))\n",
    "        print(100 * \"-\" + \"\\n\")"
   ]
  },
  {
   "cell_type": "code",
   "execution_count": null,
   "id": "03508719",
   "metadata": {},
   "outputs": [],
   "source": [
    "symbol = \"BTCUSDT\"\n",
    "bar_length = \"1m\"\n",
    "sma_s = 10\n",
    "sma_m = 20\n",
    "sma_l = 50\n",
    "units = 0.001\n",
    "position = 0\n",
    "leverage = 10"
   ]
  },
  {
   "cell_type": "code",
   "execution_count": null,
   "id": "779d9b3c",
   "metadata": {},
   "outputs": [],
   "source": [
    "trader = FuturesTrader(symbol = symbol, bar_length = bar_length,\n",
    "                       sma_s = sma_s, sma_m = sma_m, sma_l = sma_l, \n",
    "                       units = units, position = position, leverage = leverage)"
   ]
  },
  {
   "cell_type": "code",
   "execution_count": null,
   "id": "e0700f9e",
   "metadata": {},
   "outputs": [],
   "source": [
    "stop_streaming = False"
   ]
  },
  {
   "cell_type": "code",
   "execution_count": null,
   "id": "926dab33",
   "metadata": {},
   "outputs": [],
   "source": [
    "async def start_trading(historical_days):\n",
    "    client2 = await AsyncClient.create()\n",
    "    client.futures_change_leverage(symbol = trader.symbol, leverage = trader.leverage) # NEW\n",
    "    bm = BinanceSocketManager(client)\n",
    "    \n",
    "    if trader.bar_length in trader.available_intervals:\n",
    "        trader.get_most_recent(symbol = trader.symbol, interval = trader.bar_length,\n",
    "                             days = historical_days)\n",
    "        ts = bm.kline_futures_socket(symbol = trader.symbol, interval = trader.bar_length)        \n",
    "    # \"else\" to be added later in the course\n",
    "    \n",
    "    async with ts as tscm:\n",
    "        while True:\n",
    "            res = await tscm.recv()\n",
    "            trader.stream_candles(res)\n",
    "            \n",
    "            if stop_streaming:\n",
    "                break\n",
    "\n",
    "    await client2.close_connection()\n",
    "await start_trading(historical_days = 1/24)"
   ]
  },
  {
   "cell_type": "code",
   "execution_count": null,
   "id": "a0a572cf",
   "metadata": {},
   "outputs": [],
   "source": []
  }
 ],
 "metadata": {
  "kernelspec": {
   "display_name": "Python 3 (ipykernel)",
   "language": "python",
   "name": "python3"
  },
  "language_info": {
   "codemirror_mode": {
    "name": "ipython",
    "version": 3
   },
   "file_extension": ".py",
   "mimetype": "text/x-python",
   "name": "python",
   "nbconvert_exporter": "python",
   "pygments_lexer": "ipython3",
   "version": "3.11.4"
  }
 },
 "nbformat": 4,
 "nbformat_minor": 5
}
