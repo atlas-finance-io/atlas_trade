{
 "cells": [
  {
   "cell_type": "markdown",
   "id": "56a7db59",
   "metadata": {},
   "source": [
    "# Backtesting a Futures Trading Strategy (Long-Short) with Leverage"
   ]
  },
  {
   "cell_type": "markdown",
   "id": "ee43ec51",
   "metadata": {},
   "source": [
    "Trading Strategy: __Triple SMA Crossover__ (see Section 15: Ultimate Homework Challenge)"
   ]
  },
  {
   "cell_type": "markdown",
   "id": "774f8c6d",
   "metadata": {},
   "source": [
    "## The underlying historical data"
   ]
  },
  {
   "cell_type": "code",
   "execution_count": null,
   "id": "e4434faf",
   "metadata": {},
   "outputs": [],
   "source": [
    "import pandas as pd"
   ]
  },
  {
   "cell_type": "code",
   "execution_count": null,
   "id": "d6f10acc",
   "metadata": {},
   "outputs": [],
   "source": [
    "data = pd.read_csv(\"bitcoin.csv\", parse_dates = [\"Date\"], index_col = \"Date\")\n",
    "data"
   ]
  },
  {
   "cell_type": "code",
   "execution_count": null,
   "id": "7b241f1a",
   "metadata": {},
   "outputs": [],
   "source": [
    "data.info()"
   ]
  },
  {
   "cell_type": "markdown",
   "id": "2b475109",
   "metadata": {},
   "source": [
    "-> Spot Prices (without Funding Rate data)"
   ]
  },
  {
   "cell_type": "code",
   "execution_count": null,
   "id": "284eac29",
   "metadata": {},
   "outputs": [],
   "source": []
  },
  {
   "cell_type": "markdown",
   "id": "e104a68a",
   "metadata": {},
   "source": [
    "## Recap: Backtesting without Leverage"
   ]
  },
  {
   "cell_type": "code",
   "execution_count": null,
   "id": "7456287c",
   "metadata": {},
   "outputs": [],
   "source": [
    "import pandas as pd\n",
    "import numpy as np\n",
    "import matplotlib.pyplot as plt\n",
    "from itertools import product\n",
    "import warnings\n",
    "warnings.filterwarnings(\"ignore\")\n",
    "plt.style.use(\"seaborn-v0_8\")"
   ]
  },
  {
   "cell_type": "code",
   "execution_count": null,
   "id": "ff0cccc2",
   "metadata": {},
   "outputs": [],
   "source": [
    "class Long_Short_Backtester():\n",
    "    ''' Class for the vectorized backtesting of simple Long-Short trading strategies.\n",
    "    \n",
    "    Attributes\n",
    "    ============\n",
    "    filepath: str\n",
    "        local filepath of the dataset (csv-file)\n",
    "    symbol: str\n",
    "        ticker symbol (instrument) to be backtested\n",
    "    start: str\n",
    "        start date for data import\n",
    "    end: str\n",
    "        end date for data import\n",
    "    tc: float\n",
    "        proportional trading costs per trade\n",
    "    \n",
    "    \n",
    "    Methods\n",
    "    =======\n",
    "    get_data:\n",
    "        imports the data.\n",
    "        \n",
    "    test_strategy:\n",
    "        prepares the data and backtests the trading strategy incl. reporting (wrapper).\n",
    "        \n",
    "    prepare_data:\n",
    "        prepares the data for backtesting.\n",
    "    \n",
    "    run_backtest:\n",
    "        runs the strategy backtest.\n",
    "        \n",
    "    plot_results:\n",
    "        plots the cumulative performance of the trading strategy compared to buy-and-hold.\n",
    "        \n",
    "    optimize_strategy:\n",
    "        backtests strategy for different parameter values incl. optimization and reporting (wrapper).\n",
    "    \n",
    "    find_best_strategy:\n",
    "        finds the optimal strategy (global maximum).\n",
    "         \n",
    "        \n",
    "    print_performance:\n",
    "        calculates and prints various performance metrics.\n",
    "        \n",
    "    '''    \n",
    "    \n",
    "    def __init__(self, filepath, symbol, start, end, tc):\n",
    "        \n",
    "        self.filepath = filepath\n",
    "        self.symbol = symbol\n",
    "        self.start = start\n",
    "        self.end = end\n",
    "        self.tc = tc\n",
    "        self.results = None\n",
    "        self.get_data()\n",
    "        self.tp_year = (self.data.Close.count() / ((self.data.index[-1] - self.data.index[0]).days / 365.25))\n",
    "        \n",
    "    def __repr__(self):\n",
    "        return \"Long_Short_Backtester(symbol = {}, start = {}, end = {})\".format(self.symbol, self.start, self.end)\n",
    "        \n",
    "    def get_data(self):\n",
    "        ''' Imports the data.\n",
    "        '''\n",
    "        raw = pd.read_csv(self.filepath, parse_dates = [\"Date\"], index_col = \"Date\")\n",
    "        raw = raw.loc[self.start:self.end].copy()\n",
    "        raw[\"returns\"] = np.log(raw.Close / raw.Close.shift(1))\n",
    "        self.data = raw\n",
    "        \n",
    "    def test_strategy(self, smas):\n",
    "        '''\n",
    "        Prepares the data and backtests the trading strategy incl. reporting (Wrapper).\n",
    "         \n",
    "        Parameters\n",
    "        ============\n",
    "        smas: tuple (SMA_S, SMA_M, SMA_L)\n",
    "            Simple Moving Averages to be considered for the strategy.\n",
    "            \n",
    "        '''\n",
    "        \n",
    "        self.SMA_S = smas[0]\n",
    "        self.SMA_M = smas[1]\n",
    "        self.SMA_L = smas[2]\n",
    "        \n",
    "        \n",
    "        self.prepare_data(smas = smas)\n",
    "        self.run_backtest()\n",
    "        \n",
    "        data = self.results.copy()\n",
    "        data[\"creturns\"] = data[\"returns\"].cumsum().apply(np.exp)\n",
    "        data[\"cstrategy\"] = data[\"strategy\"].cumsum().apply(np.exp)\n",
    "        self.results = data\n",
    "        \n",
    "        self.print_performance()\n",
    "    \n",
    "    def prepare_data(self, smas):\n",
    "        ''' Prepares the Data for Backtesting.\n",
    "        '''\n",
    "        ########################## Strategy-Specific #############################\n",
    "        \n",
    "        data = self.data[[\"Close\", \"returns\"]].copy()\n",
    "        data[\"SMA_S\"] = data.Close.rolling(window = smas[0]).mean()\n",
    "        data[\"SMA_M\"] = data.Close.rolling(window = smas[1]).mean()\n",
    "        data[\"SMA_L\"] = data.Close.rolling(window = smas[2]).mean()\n",
    "        \n",
    "        data.dropna(inplace = True)\n",
    "                \n",
    "        cond1 = (data.SMA_S > data.SMA_M) & (data.SMA_M > data.SMA_L)\n",
    "        cond2 = (data.SMA_S < data.SMA_M) & (data.SMA_M < data.SMA_L)\n",
    "        \n",
    "        data[\"position\"] = 0\n",
    "        data.loc[cond1, \"position\"] = 1\n",
    "        data.loc[cond2, \"position\"] = -1\n",
    "\n",
    "        ##########################################################################\n",
    "        \n",
    "        self.results = data\n",
    "    \n",
    "    def run_backtest(self):\n",
    "        ''' Runs the strategy backtest.\n",
    "        '''\n",
    "        \n",
    "        data = self.results.copy()\n",
    "        data[\"strategy\"] = data[\"position\"].shift(1) * data[\"returns\"]\n",
    "        data[\"trades\"] = data.position.diff().fillna(0).abs()\n",
    "        data.strategy = data.strategy + data.trades * self.tc\n",
    "        \n",
    "        self.results = data\n",
    "    \n",
    "    def plot_results(self):\n",
    "        '''  Plots the cumulative performance of the trading strategy compared to buy-and-hold.\n",
    "        '''\n",
    "        if self.results is None:\n",
    "            print(\"Run test_strategy() first.\")\n",
    "        else:\n",
    "            title = \"{} | TC = {}\".format(self.symbol, self.tc)\n",
    "            self.results[[\"creturns\", \"cstrategy\"]].plot(title=title, figsize=(12, 8))\n",
    "            \n",
    "    def optimize_strategy(self, SMA_S_range, SMA_M_range, SMA_L_range, metric = \"Multiple\"):\n",
    "        '''\n",
    "        Backtests strategy for different parameter values incl. Optimization and Reporting (Wrapper).\n",
    "         \n",
    "        Parameters\n",
    "        ============\n",
    "        SMA_S_range: tuple\n",
    "            tuples of the form (start, end, step size).\n",
    "        \n",
    "        SMA_M_range: tuple\n",
    "            tuples of the form (start, end, step size).\n",
    "            \n",
    "        SMA_L_range: tuple\n",
    "            tuples of the form (start, end, step size).\n",
    "        \n",
    "        metric: str\n",
    "            performance metric to be optimized (can be \"Multiple\" or \"Sharpe\")\n",
    "        '''\n",
    "        \n",
    "        self.metric = metric\n",
    "        \n",
    "        if metric == \"Multiple\":\n",
    "            performance_function = self.calculate_multiple\n",
    "        elif metric == \"Sharpe\":\n",
    "            performance_function = self.calculate_sharpe\n",
    "        \n",
    "        SMA_S_range = range(*SMA_S_range)\n",
    "        SMA_M_range = range(*SMA_M_range)\n",
    "        SMA_L_range = range(*SMA_L_range)\n",
    "        \n",
    "        combinations = list(product(SMA_S_range, SMA_M_range, SMA_L_range))\n",
    "         \n",
    "        performance = []\n",
    "        for comb in combinations:\n",
    "            self.prepare_data(smas = comb)\n",
    "            self.run_backtest()\n",
    "            performance.append(performance_function(self.results.strategy))\n",
    "    \n",
    "        self.results_overview =  pd.DataFrame(data = np.array(combinations), columns = [\"SMA_S\", \"SMA_M\", \"SMA_L\"])\n",
    "        self.results_overview[\"performance\"] = performance\n",
    "        self.find_best_strategy()\n",
    "        \n",
    "        \n",
    "    def find_best_strategy(self):\n",
    "        ''' Finds the optimal strategy (global maximum).\n",
    "        '''\n",
    "        \n",
    "        best = self.results_overview.nlargest(1, \"performance\")\n",
    "        SMA_S = best.SMA_S.iloc[0]\n",
    "        SMA_M = best.SMA_M.iloc[0]\n",
    "        SMA_L = best.SMA_L.iloc[0]\n",
    "        perf = best.performance.iloc[0]\n",
    "        print(\"SMA_S: {} | SMA_M: {} | SMA_L : {} | {}: {}\".format(SMA_S, SMA_M, SMA_L, self.metric, round(perf, 5)))  \n",
    "        self.test_strategy(smas = (SMA_S, SMA_M, SMA_L))\n",
    "            \n",
    "    ############################## Performance ######################################\n",
    "    \n",
    "    def print_performance(self):\n",
    "        ''' Calculates and prints various Performance Metrics.\n",
    "        '''\n",
    "        \n",
    "        data = self.results.copy()\n",
    "        strategy_multiple = round(self.calculate_multiple(data.strategy), 6)\n",
    "        bh_multiple =       round(self.calculate_multiple(data.returns), 6)\n",
    "        outperf =           round(strategy_multiple - bh_multiple, 6)\n",
    "        cagr =              round(self.calculate_cagr(data.strategy), 6)\n",
    "        ann_mean =          round(self.calculate_annualized_mean(data.strategy), 6)\n",
    "        ann_std =           round(self.calculate_annualized_std(data.strategy), 6)\n",
    "        sharpe =            round(self.calculate_sharpe(data.strategy), 6)\n",
    "       \n",
    "        print(100 * \"=\")\n",
    "        print(\"TRIPLE SMA STRATEGY | INSTRUMENT = {} | SMAs = {}\".format(self.symbol, [self.SMA_S, self.SMA_M, self.SMA_L]))\n",
    "        print(100 * \"-\")\n",
    "        print(\"PERFORMANCE MEASURES:\")\n",
    "        print(\"\\n\")\n",
    "        print(\"Multiple (Strategy):         {}\".format(strategy_multiple))\n",
    "        print(\"Multiple (Buy-and-Hold):     {}\".format(bh_multiple))\n",
    "        print(38 * \"-\")\n",
    "        print(\"Out-/Underperformance:       {}\".format(outperf))\n",
    "        print(\"\\n\")\n",
    "        print(\"CAGR:                        {}\".format(cagr))\n",
    "        print(\"Annualized Mean:             {}\".format(ann_mean))\n",
    "        print(\"Annualized Std:              {}\".format(ann_std))\n",
    "        print(\"Sharpe Ratio:                {}\".format(sharpe))\n",
    "        \n",
    "        print(100 * \"=\")\n",
    "        \n",
    "    def calculate_multiple(self, series):\n",
    "        return np.exp(series.sum())\n",
    "    \n",
    "    def calculate_cagr(self, series):\n",
    "        return np.exp(series.sum())**(1/((series.index[-1] - series.index[0]).days / 365.25)) - 1\n",
    "    \n",
    "    def calculate_annualized_mean(self, series):\n",
    "        return series.mean() * self.tp_year\n",
    "    \n",
    "    def calculate_annualized_std(self, series):\n",
    "        return series.std() * np.sqrt(self.tp_year)\n",
    "    \n",
    "    def calculate_sharpe(self, series):\n",
    "        if series.std() == 0:\n",
    "            return np.nan\n",
    "        else:\n",
    "            return self.calculate_cagr(series) / self.calculate_annualized_std(series)"
   ]
  },
  {
   "cell_type": "code",
   "execution_count": null,
   "id": "c5abd24e",
   "metadata": {},
   "outputs": [],
   "source": [
    "filepath = \"bitcoin.csv\"\n",
    "symbol = \"BTCUSDT\"\n",
    "start = \"2017-08-17\"\n",
    "end = \"2021-10-07\"\n",
    "#tc = -0.00085 # average/approx Trading Costs in Spot Market\n",
    "tc = -0.00050 # average/approx Trading Costs in Futures Market\n",
    "sma_s = 15 \n",
    "sma_m = 50 \n",
    "sma_l = 200 "
   ]
  },
  {
   "cell_type": "code",
   "execution_count": null,
   "id": "6cb4ea94",
   "metadata": {},
   "outputs": [],
   "source": [
    "tester = Long_Short_Backtester(filepath = filepath, symbol = symbol,\n",
    "                              start = start, end = end, tc = tc)"
   ]
  },
  {
   "cell_type": "code",
   "execution_count": null,
   "id": "b06b53b8",
   "metadata": {},
   "outputs": [],
   "source": [
    "tester.data"
   ]
  },
  {
   "cell_type": "code",
   "execution_count": null,
   "id": "d53bdb12",
   "metadata": {},
   "outputs": [],
   "source": [
    "tester.test_strategy(smas = (sma_s, sma_m, sma_l))"
   ]
  },
  {
   "cell_type": "code",
   "execution_count": null,
   "id": "78fc7d78",
   "metadata": {},
   "outputs": [],
   "source": [
    "tester.plot_results()"
   ]
  },
  {
   "cell_type": "code",
   "execution_count": null,
   "id": "d3e691a8",
   "metadata": {},
   "outputs": [],
   "source": [
    "tester.results"
   ]
  },
  {
   "cell_type": "code",
   "execution_count": null,
   "id": "927ab729",
   "metadata": {},
   "outputs": [],
   "source": [
    "tester.results.trades.value_counts()"
   ]
  },
  {
   "cell_type": "code",
   "execution_count": null,
   "id": "c754e510",
   "metadata": {},
   "outputs": [],
   "source": []
  },
  {
   "cell_type": "markdown",
   "id": "e539a74f",
   "metadata": {},
   "source": [
    "## Leverage - a more realistic Approach (non-constant Leverage)"
   ]
  },
  {
   "cell_type": "code",
   "execution_count": null,
   "id": "405c33fa",
   "metadata": {},
   "outputs": [],
   "source": [
    "import numpy as np\n",
    "import pandas as pd"
   ]
  },
  {
   "cell_type": "markdown",
   "id": "66d4077c",
   "metadata": {},
   "source": [
    "__Initial Assumption (no leverage): We buy (long) 100 units of an Instrument @ initial price of 1 -> Initial Trade Value: 100__. <br>\n",
    "__We keep the long position until the end of day 3 (without further trades)__."
   ]
  },
  {
   "cell_type": "code",
   "execution_count": null,
   "id": "9b399301",
   "metadata": {},
   "outputs": [],
   "source": [
    "df = pd.DataFrame(data = {\"Price\": [1, 1.1, 1.25, 1.3], \"Units\": [100, 100, 100, 100]}, index = [0, 1, 2, 3])\n",
    "df"
   ]
  },
  {
   "cell_type": "code",
   "execution_count": null,
   "id": "68c6efd6",
   "metadata": {},
   "outputs": [],
   "source": [
    "df[\"Trade_Value\"] = df.Price * df.Units # Trade Value over time\n",
    "df"
   ]
  },
  {
   "cell_type": "code",
   "execution_count": null,
   "id": "ebdd2dd4",
   "metadata": {
    "scrolled": true
   },
   "outputs": [],
   "source": [
    "df[\"Returns\"] = df.Trade_Value.pct_change() # simple Returns\n",
    "df"
   ]
  },
  {
   "cell_type": "code",
   "execution_count": null,
   "id": "17413679",
   "metadata": {},
   "outputs": [],
   "source": [
    "df[\"Compound\"] = df.Returns.add(1).cumprod() - 1 # compound simple Returns\n",
    "df"
   ]
  },
  {
   "cell_type": "code",
   "execution_count": null,
   "id": "2b7aef70",
   "metadata": {},
   "outputs": [],
   "source": []
  },
  {
   "cell_type": "markdown",
   "id": "d50bd59c",
   "metadata": {},
   "source": [
    "__New Assumption: Same as before but now we trade with leverage of 2 -> We post a Margin of 50 (50% of initial Trade Value)__."
   ]
  },
  {
   "cell_type": "code",
   "execution_count": null,
   "id": "249ce4a8",
   "metadata": {},
   "outputs": [],
   "source": [
    "leverage = 2\n",
    "leverage"
   ]
  },
  {
   "cell_type": "code",
   "execution_count": null,
   "id": "f5c161be",
   "metadata": {},
   "outputs": [],
   "source": [
    "df[\"Margin\"] = df.Trade_Value[0] / leverage # Margin Account with 50\n",
    "df"
   ]
  },
  {
   "cell_type": "code",
   "execution_count": null,
   "id": "1aa1bb56",
   "metadata": {},
   "outputs": [],
   "source": [
    "df[\"PL_unreal\"] = df.Trade_Value - df.Trade_Value[0] # unrealized Profit / Loss of our long position over time\n",
    "df"
   ]
  },
  {
   "cell_type": "code",
   "execution_count": null,
   "id": "8cf3c458",
   "metadata": {},
   "outputs": [],
   "source": [
    "df[\"Equity\"] = df.Margin + df.PL_unreal # our net wealth (Equity) over time == Margin + unreal P&L\n",
    "df"
   ]
  },
  {
   "cell_type": "code",
   "execution_count": null,
   "id": "b6d3d87a",
   "metadata": {},
   "outputs": [],
   "source": [
    "df[\"Equity_Returns\"] = df.Equity.pct_change() # simple returns of our Equity position\n",
    "df"
   ]
  },
  {
   "cell_type": "markdown",
   "id": "5c199876",
   "metadata": {},
   "source": [
    "Problem: Typically, we don´t have Margin, PL_unreal & Equity in our DataFrame. -> __Calculate Equity (levered) return with leverage__."
   ]
  },
  {
   "cell_type": "code",
   "execution_count": null,
   "id": "c76cc333",
   "metadata": {},
   "outputs": [],
   "source": [
    "df.Returns * leverage # try to calculate equity returns with constant leverage -> incorrect as this assumes constant leverage of 2 "
   ]
  },
  {
   "cell_type": "code",
   "execution_count": null,
   "id": "0032d6fb",
   "metadata": {},
   "outputs": [],
   "source": [
    "df[\"EL\"] = df.Trade_Value / df.Equity # calculate the effective leverage\n",
    "df"
   ]
  },
  {
   "cell_type": "code",
   "execution_count": null,
   "id": "78f3d06d",
   "metadata": {},
   "outputs": [],
   "source": [
    "df.Returns * df.EL.shift() # try to calculate equity returns with effective leverage -> correct "
   ]
  },
  {
   "cell_type": "markdown",
   "id": "6921de36",
   "metadata": {},
   "source": [
    "__Problem__: Typically we don´t have Trade_Value or Equity in our DataFrame. __How to calculate Effective Leverage__? "
   ]
  },
  {
   "cell_type": "code",
   "execution_count": null,
   "id": "607ee40f",
   "metadata": {},
   "outputs": [],
   "source": [
    "df[\"EL2\"] = leverage * (1 + df.Compound) / (1 + df.Compound * leverage) # calc. effective leverage with returns \n",
    "df[\"EL2\"].fillna(leverage, inplace = True)\n",
    "df"
   ]
  },
  {
   "cell_type": "code",
   "execution_count": null,
   "id": "7ce6d8fe",
   "metadata": {},
   "outputs": [],
   "source": [
    "levered_returns = df.Returns * df.EL2.shift()\n",
    "levered_returns"
   ]
  },
  {
   "cell_type": "code",
   "execution_count": null,
   "id": "80e073a5",
   "metadata": {},
   "outputs": [],
   "source": [
    "levered_returns = pd.Series(np.where(levered_returns < -1, -1, levered_returns))\n",
    "levered_returns"
   ]
  },
  {
   "cell_type": "code",
   "execution_count": null,
   "id": "7714913e",
   "metadata": {},
   "outputs": [],
   "source": [
    "levered_returns.add(1).cumprod()"
   ]
  },
  {
   "cell_type": "code",
   "execution_count": null,
   "id": "b67f2c30",
   "metadata": {},
   "outputs": [],
   "source": []
  },
  {
   "cell_type": "markdown",
   "id": "16b7ff32",
   "metadata": {},
   "source": [
    "__So far:__"
   ]
  },
  {
   "cell_type": "markdown",
   "id": "a44fd90a",
   "metadata": {},
   "source": [
    "__Only one Trading Session__ (hold Long Position for 3 days) <br>\n",
    "(Trading Session: time period between two trades where traders just hold a position)"
   ]
  },
  {
   "cell_type": "markdown",
   "id": "88299e16",
   "metadata": {},
   "source": [
    "Leverage changes in a trading session:\n",
    "- __Leverage goes down__ when the Price moves into the __right direction__ (long: increase)\n",
    "- __Leverage goes up__ when the Price moves into the __wrong direction__ (long: decrease) "
   ]
  },
  {
   "cell_type": "markdown",
   "id": "37f39c38",
   "metadata": {},
   "source": [
    "Realistic Assumption for Long-Short Strategies: __Restore Target Leverage at the beginning of each trading session.__"
   ]
  },
  {
   "cell_type": "markdown",
   "id": "12c11334",
   "metadata": {},
   "source": [
    "How to restore Leverage (if we don´t adjust margin/equity)?\n",
    "- __reduce Trade Value if leverage > target leverage__\n",
    "- __increase Trade Value if leverage < target leverage__"
   ]
  },
  {
   "cell_type": "code",
   "execution_count": null,
   "id": "8a263e1f",
   "metadata": {},
   "outputs": [],
   "source": []
  },
  {
   "cell_type": "markdown",
   "id": "7f3421e9",
   "metadata": {},
   "source": [
    "## Backtesting with Leverage"
   ]
  },
  {
   "cell_type": "code",
   "execution_count": null,
   "id": "0481a723",
   "metadata": {},
   "outputs": [],
   "source": [
    "import pandas as pd\n",
    "import numpy as np\n",
    "import matplotlib.pyplot as plt\n",
    "from itertools import product\n",
    "import warnings\n",
    "warnings.filterwarnings(\"ignore\")\n",
    "plt.style.use(\"seaborn-v0_8\")"
   ]
  },
  {
   "cell_type": "code",
   "execution_count": null,
   "id": "b5d4d2f7",
   "metadata": {},
   "outputs": [],
   "source": [
    "class Futures_Backtester():\n",
    "    ''' Class for the vectorized backtesting of (levered) Futures trading strategies.\n",
    "    \n",
    "    Attributes\n",
    "    ============\n",
    "    filepath: str\n",
    "        local filepath of the dataset (csv-file)\n",
    "    symbol: str\n",
    "        ticker symbol (instrument) to be backtested\n",
    "    start: str\n",
    "        start date for data import\n",
    "    end: str\n",
    "        end date for data import\n",
    "    tc: float\n",
    "        proportional trading costs per trade\n",
    "    \n",
    "    \n",
    "    Methods\n",
    "    =======\n",
    "    get_data:\n",
    "        imports the data.\n",
    "        \n",
    "    test_strategy:\n",
    "        prepares the data and backtests the trading strategy incl. reporting (wrapper).\n",
    "        \n",
    "    prepare_data:\n",
    "        prepares the data for backtesting.\n",
    "    \n",
    "    run_backtest:\n",
    "        runs the strategy backtest.\n",
    "        \n",
    "    plot_results:\n",
    "        plots the cumulative performance of the trading strategy compared to buy-and-hold.\n",
    "        \n",
    "    optimize_strategy:\n",
    "        backtests strategy for different parameter values incl. optimization and reporting (wrapper).\n",
    "    \n",
    "    find_best_strategy:\n",
    "        finds the optimal strategy (global maximum).\n",
    "        \n",
    "    add_sessions:\n",
    "        adds/labels trading sessions and their compound returns.\n",
    "        \n",
    "    add_leverage:\n",
    "        adds leverage to the strategy.\n",
    "        \n",
    "    print_performance:\n",
    "        calculates and prints various performance metrics.\n",
    "        \n",
    "    '''    \n",
    "    \n",
    "    def __init__(self, filepath, symbol, start, end, tc):\n",
    "        \n",
    "        self.filepath = filepath\n",
    "        self.symbol = symbol\n",
    "        self.start = start\n",
    "        self.end = end\n",
    "        self.tc = tc\n",
    "        self.results = None\n",
    "        self.get_data()\n",
    "        self.tp_year = (self.data.Close.count() / ((self.data.index[-1] - self.data.index[0]).days / 365.25))\n",
    "        \n",
    "    def __repr__(self):\n",
    "        return \"Futures_Backtester(symbol = {}, start = {}, end = {})\".format(self.symbol, self.start, self.end)\n",
    "        \n",
    "    def get_data(self):\n",
    "        ''' Imports the data.\n",
    "        '''\n",
    "        raw = pd.read_csv(self.filepath, parse_dates = [\"Date\"], index_col = \"Date\")\n",
    "        raw = raw.loc[self.start:self.end].copy()\n",
    "        raw[\"returns\"] = np.log(raw.Close / raw.Close.shift(1))\n",
    "        self.data = raw\n",
    "        \n",
    "    def test_strategy(self, smas):\n",
    "        '''\n",
    "        Prepares the data and backtests the trading strategy incl. reporting (Wrapper).\n",
    "         \n",
    "        Parameters\n",
    "        ============\n",
    "        smas: tuple (SMA_S, SMA_M, SMA_L)\n",
    "            Simple Moving Averages to be considered for the strategy.\n",
    "            \n",
    "        '''\n",
    "        \n",
    "        self.SMA_S = smas[0]\n",
    "        self.SMA_M = smas[1]\n",
    "        self.SMA_L = smas[2]\n",
    "        \n",
    "        \n",
    "        self.prepare_data(smas = smas)\n",
    "        self.run_backtest()\n",
    "        \n",
    "        data = self.results.copy()\n",
    "        data[\"creturns\"] = data[\"returns\"].cumsum().apply(np.exp)\n",
    "        data[\"cstrategy\"] = data[\"strategy\"].cumsum().apply(np.exp)\n",
    "        self.results = data\n",
    "        \n",
    "        self.print_performance()\n",
    "    \n",
    "    def prepare_data(self, smas):\n",
    "        ''' Prepares the Data for Backtesting.\n",
    "        '''\n",
    "        ########################## Strategy-Specific #############################\n",
    "        \n",
    "        data = self.data[[\"Close\", \"returns\"]].copy()\n",
    "        data[\"SMA_S\"] = data.Close.rolling(window = smas[0]).mean()\n",
    "        data[\"SMA_M\"] = data.Close.rolling(window = smas[1]).mean()\n",
    "        data[\"SMA_L\"] = data.Close.rolling(window = smas[2]).mean()\n",
    "        \n",
    "        data.dropna(inplace = True)\n",
    "                \n",
    "        cond1 = (data.SMA_S > data.SMA_M) & (data.SMA_M > data.SMA_L)\n",
    "        cond2 = (data.SMA_S < data.SMA_M) & (data.SMA_M < data.SMA_L)\n",
    "        \n",
    "        data[\"position\"] = 0\n",
    "        data.loc[cond1, \"position\"] = 1\n",
    "        data.loc[cond2, \"position\"] = -1\n",
    "\n",
    "        ##########################################################################\n",
    "        \n",
    "        self.results = data\n",
    "    \n",
    "    def run_backtest(self):\n",
    "        ''' Runs the strategy backtest.\n",
    "        '''\n",
    "        \n",
    "        data = self.results.copy()\n",
    "        data[\"strategy\"] = data[\"position\"].shift(1) * data[\"returns\"]\n",
    "        data[\"trades\"] = data.position.diff().fillna(0).abs()\n",
    "        data.strategy = data.strategy + data.trades * self.tc\n",
    "        \n",
    "        self.results = data\n",
    "    \n",
    "    def plot_results(self, leverage = False): #Adj!\n",
    "        '''  Plots the cumulative performance of the trading strategy compared to buy-and-hold.\n",
    "        '''\n",
    "        if self.results is None:\n",
    "            print(\"Run test_strategy() first.\")\n",
    "        elif leverage: # NEW!\n",
    "            title = \"{} | TC = {} | Leverage = {}\".format(self.symbol, self.tc, self.leverage)\n",
    "            self.results[[\"creturns\", \"cstrategy\", \"cstrategy_levered\"]].plot(title=title, figsize=(12, 8))\n",
    "        else:\n",
    "            title = \"{} | TC = {}\".format(self.symbol, self.tc)\n",
    "            self.results[[\"creturns\", \"cstrategy\"]].plot(title=title, figsize=(12, 8))\n",
    "            \n",
    "            \n",
    "    def optimize_strategy(self, SMA_S_range, SMA_M_range, SMA_L_range, metric = \"Multiple\"):\n",
    "        '''\n",
    "        Backtests strategy for different parameter values incl. Optimization and Reporting (Wrapper).\n",
    "         \n",
    "        Parameters\n",
    "        ============\n",
    "        SMA_S_range: tuple\n",
    "            tuples of the form (start, end, step size).\n",
    "        \n",
    "        SMA_M_range: tuple\n",
    "            tuples of the form (start, end, step size).\n",
    "            \n",
    "        SMA_L_range: tuple\n",
    "            tuples of the form (start, end, step size).\n",
    "        \n",
    "        metric: str\n",
    "            performance metric to be optimized (can be \"Multiple\" or \"Sharpe\")\n",
    "        '''\n",
    "        \n",
    "        self.metric = metric\n",
    "        \n",
    "        if metric == \"Multiple\":\n",
    "            performance_function = self.calculate_multiple\n",
    "        elif metric == \"Sharpe\":\n",
    "            performance_function = self.calculate_sharpe\n",
    "        \n",
    "        SMA_S_range = range(*SMA_S_range)\n",
    "        SMA_M_range = range(*SMA_M_range)\n",
    "        SMA_L_range = range(*SMA_L_range)\n",
    "        \n",
    "        combinations = list(product(SMA_S_range, SMA_M_range, SMA_L_range))\n",
    "         \n",
    "        performance = []\n",
    "        for comb in combinations:\n",
    "            self.prepare_data(smas = comb)\n",
    "            self.run_backtest()\n",
    "            performance.append(performance_function(self.results.strategy))\n",
    "    \n",
    "        self.results_overview =  pd.DataFrame(data = np.array(combinations), columns = [\"SMA_S\", \"SMA_M\", \"SMA_L\"])\n",
    "        self.results_overview[\"performance\"] = performance\n",
    "        self.find_best_strategy()\n",
    "        \n",
    "        \n",
    "    def find_best_strategy(self):\n",
    "        ''' Finds the optimal strategy (global maximum).\n",
    "        '''\n",
    "        \n",
    "        best = self.results_overview.nlargest(1, \"performance\")\n",
    "        SMA_S = best.SMA_S.iloc[0]\n",
    "        SMA_M = best.SMA_M.iloc[0]\n",
    "        SMA_L = best.SMA_L.iloc[0]\n",
    "        perf = best.performance.iloc[0]\n",
    "        print(\"SMA_S: {} | SMA_M: {} | SMA_L : {} | {}: {}\".format(SMA_S, SMA_M, SMA_L, self.metric, round(perf, 5)))  \n",
    "        self.test_strategy(smas = (SMA_S, SMA_M, SMA_L))\n",
    "        \n",
    "    \n",
    "    def add_sessions(self, visualize = False): # NEW!!!\n",
    "        ''' \n",
    "        Adds/Labels Trading Sessions and their compound returns.\n",
    "        \n",
    "        Parameter\n",
    "        ============\n",
    "        visualize: bool, default False\n",
    "            if True, visualize compound session returns over time\n",
    "        '''\n",
    "        \n",
    "        if self.results is None:\n",
    "            print(\"Run test_strategy() first.\")\n",
    "            \n",
    "        data = self.results.copy()\n",
    "        data[\"session\"] = np.sign(data.trades).cumsum().shift().fillna(0)\n",
    "        data[\"session_compound\"] = data.groupby(\"session\").strategy.cumsum().apply(np.exp) - 1\n",
    "        self.results = data\n",
    "        if visualize:\n",
    "            data[\"session_compound\"].plot(figsize = (12, 8))\n",
    "            plt.show()  \n",
    "        \n",
    "    def add_leverage(self, leverage, report = True): # NEW!!!\n",
    "        ''' \n",
    "        Adds Leverage to the Strategy.\n",
    "        \n",
    "        Parameter\n",
    "        ============\n",
    "        leverage: float (positive)\n",
    "            degree of leverage.\n",
    "        \n",
    "        report: bool, default True\n",
    "            if True, print Performance Report incl. Leverage.\n",
    "        '''\n",
    "        self.add_sessions()\n",
    "        self.leverage = leverage\n",
    "        \n",
    "        data = self.results.copy()\n",
    "        data[\"simple_ret\"] = np.exp(data.strategy) - 1\n",
    "        data[\"eff_lev\"] = leverage * (1 + data.session_compound) / (1 + data.session_compound * leverage)\n",
    "        data.eff_lev.fillna(leverage, inplace = True)\n",
    "        data.loc[data.trades !=0, \"eff_lev\"] = leverage\n",
    "        levered_returns = data.eff_lev.shift() * data.simple_ret\n",
    "        levered_returns = np.where(levered_returns < -1, -1, levered_returns)\n",
    "        data[\"strategy_levered\"] = levered_returns\n",
    "        data[\"cstrategy_levered\"] = data.strategy_levered.add(1).cumprod()\n",
    "        \n",
    "        self.results = data\n",
    "            \n",
    "        if report:\n",
    "            self.print_performance(leverage = True)\n",
    "            \n",
    "    ############################## Performance ######################################\n",
    "    \n",
    "    def print_performance(self, leverage = False): # Adj\n",
    "        ''' Calculates and prints various Performance Metrics.\n",
    "        '''\n",
    "        \n",
    "        data = self.results.copy()\n",
    "        \n",
    "        if leverage: # NEW!\n",
    "            to_analyze = np.log(data.strategy_levered.add(1))\n",
    "        else: \n",
    "            to_analyze = data.strategy\n",
    "            \n",
    "            \n",
    "        strategy_multiple = round(self.calculate_multiple(to_analyze), 6)\n",
    "        bh_multiple =       round(self.calculate_multiple(data.returns), 6)\n",
    "        outperf =           round(strategy_multiple - bh_multiple, 6)\n",
    "        cagr =              round(self.calculate_cagr(to_analyze), 6)\n",
    "        ann_mean =          round(self.calculate_annualized_mean(to_analyze), 6)\n",
    "        ann_std =           round(self.calculate_annualized_std(to_analyze), 6)\n",
    "        sharpe =            round(self.calculate_sharpe(to_analyze), 6)\n",
    "       \n",
    "        print(100 * \"=\")\n",
    "        print(\"TRIPLE SMA STRATEGY | INSTRUMENT = {} | SMAs = {}\".format(self.symbol, [self.SMA_S, self.SMA_M, self.SMA_L]))\n",
    "        print(100 * \"-\")\n",
    "        print(\"PERFORMANCE MEASURES:\")\n",
    "        print(\"\\n\")\n",
    "        print(\"Multiple (Strategy):         {}\".format(strategy_multiple))\n",
    "        print(\"Multiple (Buy-and-Hold):     {}\".format(bh_multiple))\n",
    "        print(38 * \"-\")\n",
    "        print(\"Out-/Underperformance:       {}\".format(outperf))\n",
    "        print(\"\\n\")\n",
    "        print(\"CAGR:                        {}\".format(cagr))\n",
    "        print(\"Annualized Mean:             {}\".format(ann_mean))\n",
    "        print(\"Annualized Std:              {}\".format(ann_std))\n",
    "        print(\"Sharpe Ratio:                {}\".format(sharpe))\n",
    "        \n",
    "        print(100 * \"=\")\n",
    "        \n",
    "    def calculate_multiple(self, series):\n",
    "        return np.exp(series.sum())\n",
    "    \n",
    "    def calculate_cagr(self, series):\n",
    "        return np.exp(series.sum())**(1/((series.index[-1] - series.index[0]).days / 365.25)) - 1\n",
    "    \n",
    "    def calculate_annualized_mean(self, series):\n",
    "        return series.mean() * self.tp_year\n",
    "    \n",
    "    def calculate_annualized_std(self, series):\n",
    "        return series.std() * np.sqrt(self.tp_year)\n",
    "    \n",
    "    def calculate_sharpe(self, series):\n",
    "        if series.std() == 0:\n",
    "            return np.nan\n",
    "        else:\n",
    "            return self.calculate_cagr(series) / self.calculate_annualized_std(series)"
   ]
  },
  {
   "cell_type": "code",
   "execution_count": null,
   "id": "24c1f35b",
   "metadata": {},
   "outputs": [],
   "source": [
    "filepath = \"bitcoin.csv\"\n",
    "symbol = \"BTCUSDT\"\n",
    "start = \"2017-08-17\"\n",
    "end = \"2021-10-07\"\n",
    "tc = -0.0005\n",
    "sma_s = 15 \n",
    "sma_m = 50 \n",
    "sma_l = 200 "
   ]
  },
  {
   "cell_type": "code",
   "execution_count": null,
   "id": "401dcc38",
   "metadata": {},
   "outputs": [],
   "source": [
    "tester = Futures_Backtester(filepath = filepath, symbol = symbol,\n",
    "                              start = start, end = end, tc = tc)"
   ]
  },
  {
   "cell_type": "code",
   "execution_count": null,
   "id": "1028880d",
   "metadata": {},
   "outputs": [],
   "source": [
    "tester"
   ]
  },
  {
   "cell_type": "code",
   "execution_count": null,
   "id": "7aa2029e",
   "metadata": {},
   "outputs": [],
   "source": [
    "tester.data"
   ]
  },
  {
   "cell_type": "code",
   "execution_count": null,
   "id": "0ec258ed",
   "metadata": {},
   "outputs": [],
   "source": [
    "tester.test_strategy(smas = (sma_s, sma_m, sma_l))"
   ]
  },
  {
   "cell_type": "code",
   "execution_count": null,
   "id": "b61ef2df",
   "metadata": {},
   "outputs": [],
   "source": [
    "tester.add_leverage(leverage = 2)"
   ]
  },
  {
   "cell_type": "code",
   "execution_count": null,
   "id": "26b1928e",
   "metadata": {},
   "outputs": [],
   "source": [
    "tester.plot_results(leverage = True)"
   ]
  },
  {
   "cell_type": "code",
   "execution_count": null,
   "id": "b3624e7d",
   "metadata": {},
   "outputs": [],
   "source": [
    "tester.results"
   ]
  },
  {
   "cell_type": "code",
   "execution_count": null,
   "id": "8c119625",
   "metadata": {},
   "outputs": [],
   "source": [
    "tester.results.trades.value_counts()"
   ]
  },
  {
   "cell_type": "code",
   "execution_count": null,
   "id": "7274c3dd",
   "metadata": {},
   "outputs": [],
   "source": [
    "tester.results.eff_lev.describe()"
   ]
  },
  {
   "cell_type": "code",
   "execution_count": null,
   "id": "105025be",
   "metadata": {},
   "outputs": [],
   "source": [
    "tester.results.eff_lev.plot(figsize = (12, 8))\n",
    "plt.show()"
   ]
  },
  {
   "cell_type": "code",
   "execution_count": null,
   "id": "de2b3a19",
   "metadata": {},
   "outputs": [],
   "source": []
  },
  {
   "cell_type": "markdown",
   "id": "01e2820e",
   "metadata": {},
   "source": [
    "## The Impact of Leverage"
   ]
  },
  {
   "cell_type": "code",
   "execution_count": null,
   "id": "9c37d5c9",
   "metadata": {},
   "outputs": [],
   "source": [
    "tester"
   ]
  },
  {
   "cell_type": "markdown",
   "id": "3b15e9b2",
   "metadata": {},
   "source": [
    "__no Leverage__"
   ]
  },
  {
   "cell_type": "code",
   "execution_count": null,
   "id": "eefcf7b7",
   "metadata": {},
   "outputs": [],
   "source": [
    "tester.test_strategy(smas = (sma_s, sma_m, sma_l))"
   ]
  },
  {
   "cell_type": "markdown",
   "id": "959f15bd",
   "metadata": {},
   "source": [
    "__Leverage = 2__"
   ]
  },
  {
   "cell_type": "code",
   "execution_count": null,
   "id": "eeff9b5d",
   "metadata": {},
   "outputs": [],
   "source": [
    "tester.add_leverage(leverage = 2)"
   ]
  },
  {
   "cell_type": "code",
   "execution_count": null,
   "id": "70ffdfee",
   "metadata": {},
   "outputs": [],
   "source": [
    "tester.plot_results(leverage = True)"
   ]
  },
  {
   "cell_type": "markdown",
   "id": "2c28aefc",
   "metadata": {},
   "source": [
    "-> Increase Multiple (and Risk)"
   ]
  },
  {
   "cell_type": "markdown",
   "id": "d39c8edc",
   "metadata": {},
   "source": [
    "__further increase Leverage__"
   ]
  },
  {
   "cell_type": "code",
   "execution_count": null,
   "id": "dbf2af9b",
   "metadata": {},
   "outputs": [],
   "source": [
    "tester.add_leverage(leverage = 3)"
   ]
  },
  {
   "cell_type": "code",
   "execution_count": null,
   "id": "5a6bc413",
   "metadata": {},
   "outputs": [],
   "source": [
    "tester.plot_results(leverage = True)"
   ]
  },
  {
   "cell_type": "markdown",
   "id": "d762fdb2",
   "metadata": {},
   "source": [
    "-> at a certain leverage, it´s getting worse!"
   ]
  },
  {
   "cell_type": "markdown",
   "id": "71563a73",
   "metadata": {},
   "source": [
    "__extremely high leverage__"
   ]
  },
  {
   "cell_type": "code",
   "execution_count": null,
   "id": "c65dd43f",
   "metadata": {},
   "outputs": [],
   "source": [
    "tester.add_leverage(leverage = 50)"
   ]
  },
  {
   "cell_type": "code",
   "execution_count": null,
   "id": "79e56f42",
   "metadata": {},
   "outputs": [],
   "source": [
    "tester.plot_results(leverage = True)"
   ]
  },
  {
   "cell_type": "markdown",
   "id": "33c2f751",
   "metadata": {},
   "source": [
    "-> total loss (Liquidation) very likely (rather sooner than later)"
   ]
  },
  {
   "cell_type": "code",
   "execution_count": null,
   "id": "95d33314",
   "metadata": {},
   "outputs": [],
   "source": []
  },
  {
   "cell_type": "markdown",
   "id": "c0eb6d79",
   "metadata": {},
   "source": [
    "__Conclusions:__"
   ]
  },
  {
   "cell_type": "markdown",
   "id": "bcaf83a5",
   "metadata": {},
   "source": [
    "- Even for (highly) profitable strategies: __\"The more leverage the better\" does not hold__.\n",
    "- It´s a two-edged (__non-symmetrical__) sword: __Leverage amplifies losses more than it amplifies gains__.\n",
    "- Trading Strategies have an __optimal/maximum degree of leverage__ (...and it´s lower than traders think)"
   ]
  },
  {
   "cell_type": "markdown",
   "id": "f5c945de",
   "metadata": {},
   "source": [
    "Trading Crypto Futures with high leverage (>5) requires:\n",
    "- Trading Strategies with __very high risk-adjusted returns__ / tail-risk-adjusted returns\n",
    "- __Advanced Performance and Risk Measurement__\n",
    "- Advanced __Monitoring__, __Performance Optimization__ and __Risk Management Techniques__\n",
    "- Experience\n",
    "- Ability and Willingness to accept __temporary high losses__"
   ]
  },
  {
   "cell_type": "code",
   "execution_count": null,
   "id": "54da0c72",
   "metadata": {},
   "outputs": [],
   "source": []
  }
 ],
 "metadata": {
  "kernelspec": {
   "display_name": "Python 3 (ipykernel)",
   "language": "python",
   "name": "python3"
  },
  "language_info": {
   "codemirror_mode": {
    "name": "ipython",
    "version": 3
   },
   "file_extension": ".py",
   "mimetype": "text/x-python",
   "name": "python",
   "nbconvert_exporter": "python",
   "pygments_lexer": "ipython3",
   "version": "3.11.4"
  }
 },
 "nbformat": 4,
 "nbformat_minor": 5
}
