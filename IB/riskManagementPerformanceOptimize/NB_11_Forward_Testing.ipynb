{
 "cells": [
  {
   "cell_type": "markdown",
   "id": "85c138ea",
   "metadata": {},
   "source": [
    "# Forward Testing"
   ]
  },
  {
   "cell_type": "markdown",
   "id": "a3be7893",
   "metadata": {},
   "source": [
    "## Getting started"
   ]
  },
  {
   "cell_type": "code",
   "execution_count": null,
   "id": "2daf0c7e",
   "metadata": {},
   "outputs": [],
   "source": [
    "import pandas as pd\n",
    "import numpy as np\n",
    "import matplotlib.pyplot as plt\n",
    "from itertools import product\n",
    "import seaborn as sns\n",
    "plt.style.use(\"seaborn-v0_8\")"
   ]
  },
  {
   "cell_type": "code",
   "execution_count": null,
   "id": "ec074e94",
   "metadata": {},
   "outputs": [],
   "source": [
    "# Version 6.0 (Leverage)\n",
    "\n",
    "class ConBacktester():\n",
    "    ''' Class for the vectorized backtesting of simple contrarian trading strategies.\n",
    "    \n",
    "    Attributes\n",
    "    ============\n",
    "    filepath: str\n",
    "        local filepath of the dataset (csv-file)\n",
    "    symbol: str\n",
    "        ticker symbol (instrument) to be backtested\n",
    "    start: str\n",
    "        start date for data import\n",
    "    end: str\n",
    "        end date for data import\n",
    "    tc: float\n",
    "        proportional trading costs per trade\n",
    "    \n",
    "    \n",
    "    Methods\n",
    "    =======\n",
    "    get_data:\n",
    "        imports the data.\n",
    "        \n",
    "    test_strategy:\n",
    "        prepares the data and backtests the trading strategy incl. reporting (wrapper).\n",
    "        \n",
    "    prepare_data:\n",
    "        prepares the data for backtesting.\n",
    "    \n",
    "    run_backtest:\n",
    "        runs the strategy backtest.\n",
    "        \n",
    "    upsample:\n",
    "        upsamples/copies trading positions back to higher frequency.\n",
    "        \n",
    "    plot_results:\n",
    "        plots the cumulative performance of the trading strategy compared to buy-and-hold.\n",
    "        \n",
    "    optimize_strategy:\n",
    "        backtests strategy for different parameter values incl. optimization and reporting (wrapper).\n",
    "    \n",
    "    find_best_strategy:\n",
    "        finds the optimal strategy (global maximum) given the parameter ranges.\n",
    "        \n",
    "    visualize_many:\n",
    "        plots parameter values vs. performance. \n",
    "        \n",
    "    add_sessions:\n",
    "        adds/labels trading sessions and their compound returns.\n",
    "    \n",
    "    add_stop_loss:\n",
    "        adds stop loss to the strategy.\n",
    "    \n",
    "    add_take_profit: \n",
    "        adds take profit to the strategy.\n",
    "        \n",
    "    add_leverage:\n",
    "        adds leverage to the strategy.\n",
    "        \n",
    "    print_performance:\n",
    "        calculates and prints various performance metrics.\n",
    "        \n",
    "    '''    \n",
    "    \n",
    "    def __init__(self, filepath, symbol, start, end, tc):\n",
    "        \n",
    "        self.filepath = filepath\n",
    "        self.symbol = symbol\n",
    "        self.start = start\n",
    "        self.end = end\n",
    "        self.tc = tc\n",
    "        self.results = None\n",
    "        self.get_data()\n",
    "        self.tp_year = (self.data.price.count() / ((self.data.index[-1] - self.data.index[0]).days / 365.25))\n",
    "        \n",
    "    def __repr__(self):\n",
    "        return \"ConBacktester(symbol = {}, start = {}, end = {})\".format(self.symbol, self.start, self.end)\n",
    "        \n",
    "    def get_data(self):\n",
    "        ''' Imports the data.\n",
    "        '''\n",
    "        raw = pd.read_csv(self.filepath, parse_dates = [\"time\"], index_col = \"time\")\n",
    "        raw = raw[self.symbol].to_frame().fillna(method = \"ffill\")\n",
    "        raw = raw.loc[self.start:self.end].copy()\n",
    "        raw.rename(columns={self.symbol: \"price\"}, inplace=True)\n",
    "        raw[\"returns\"] = np.log(raw.price / raw.price.shift(1))\n",
    "        self.data = raw\n",
    "        \n",
    "    def test_strategy(self, freq = 60, window = 1): \n",
    "        '''\n",
    "        Prepares the data and backtests the trading strategy incl. reporting (Wrapper).\n",
    "         \n",
    "        Parameters\n",
    "        ============\n",
    "        freq: int\n",
    "            data frequency/granularity to work with (in minutes)\n",
    "        \n",
    "        window: int\n",
    "            time window (number of bars) to be considered for the strategy.\n",
    "        '''\n",
    "        self.freq = \"{}min\".format(freq) \n",
    "        self.window = window\n",
    "                                \n",
    "        self.prepare_data(freq, window) \n",
    "        self.upsample() \n",
    "        self.run_backtest()\n",
    "        \n",
    "        data = self.results.copy()\n",
    "        data[\"creturns\"] = data[\"returns\"].cumsum().apply(np.exp)\n",
    "        data[\"cstrategy\"] = data[\"strategy\"].cumsum().apply(np.exp)\n",
    "        self.results = data\n",
    "        \n",
    "        self.print_performance()\n",
    "    \n",
    "    def prepare_data(self, freq, window): \n",
    "        ''' Prepares the Data for Backtesting.\n",
    "        '''\n",
    "        data = self.data.price.to_frame().copy()\n",
    "        freq = \"{}min\".format(freq)\n",
    "        resamp = data.resample(freq).last().dropna().iloc[:-1]\n",
    "        resamp[\"returns\"] = np.log(resamp / resamp.shift(1))\n",
    "        resamp[\"roll_return\"] = resamp[\"returns\"].rolling(window).mean()\n",
    "        resamp[\"position\"] = -np.sign(resamp[\"roll_return\"])\n",
    "        resamp.dropna(inplace = True)\n",
    "        self.results = resamp\n",
    "        return resamp \n",
    "    \n",
    "    def run_backtest(self):\n",
    "        ''' Runs the strategy backtest.\n",
    "        '''\n",
    "        \n",
    "        data = self.results.copy()\n",
    "        data[\"strategy\"] = data[\"position\"].shift(1) * data[\"returns\"]\n",
    "        \n",
    "        # determine the number of trades in each bar\n",
    "        data[\"trades\"] = data.position.diff().fillna(0).abs()\n",
    "        \n",
    "        # subtract transaction/trading costs from pre-cost return\n",
    "        data.strategy = data.strategy - data.trades * self.tc\n",
    "        \n",
    "        self.results = data\n",
    "        \n",
    "    def upsample(self):\n",
    "        '''  Upsamples/copies trading positions back to higher frequency.\n",
    "        '''\n",
    "        \n",
    "        data = self.data.copy()\n",
    "        resamp = self.results.copy()\n",
    "               \n",
    "        data[\"position\"] = resamp.position.shift()\n",
    "        data = data.loc[resamp.index[0]:].copy()\n",
    "        data.position = data.position.shift(-1).ffill()\n",
    "        data.dropna(inplace=True)\n",
    "        self.results = data\n",
    "            \n",
    "    def plot_results(self, leverage = False):\n",
    "        ''' Plots the performance of the trading strategy and compares to \"buy and hold\".\n",
    "        '''\n",
    "        if self.results is None:\n",
    "            print(\"Run test_strategy() first.\")\n",
    "        elif leverage:\n",
    "            title = \"{} | Window = {} | Frequency = {} | TC = {} | Leverage = {}\".format(self.symbol, self.window, self.freq, self.tc, self.leverage)\n",
    "            self.results[[\"creturns\", \"cstrategy\", \"cstrategy_levered\"]].plot(title=title, figsize=(12, 8))\n",
    "        else:\n",
    "            title = \"{} | Window = {} | Frequency = {} | TC = {}\".format(self.symbol, self.window, self.freq, self.tc)\n",
    "            self.results[[\"creturns\", \"cstrategy\"]].plot(title=title, figsize=(12, 8))\n",
    "            \n",
    "    def optimize_strategy(self, freq_range, window_range, metric = \"Multiple\"): \n",
    "        '''\n",
    "        Backtests strategy for different parameter values incl. Optimization and Reporting (Wrapper).\n",
    "         \n",
    "        Parameters\n",
    "        ============\n",
    "        freq_range: tuple\n",
    "            tuples of the form (start, end, step size).\n",
    "        \n",
    "        window_range: tuple\n",
    "            tuples of the form (start, end, step size).\n",
    "        \n",
    "        metric: str\n",
    "            performance metric to be optimized (can be: \"Multiple\", \"Sharpe\", \"Sortino\", \"Calmar\", \"Kelly\")\n",
    "        '''\n",
    "        \n",
    "        self.metric = metric\n",
    "        \n",
    "        if metric == \"Multiple\":\n",
    "            performance_function = self.calculate_multiple\n",
    "        elif metric == \"Sharpe\":\n",
    "            performance_function = self.calculate_sharpe\n",
    "        elif metric == \"Sortino\":\n",
    "            performance_function = self.calculate_sortino\n",
    "        elif metric == \"Calmar\": \n",
    "            performance_function = self.calculate_calmar\n",
    "        elif metric == \"Kelly\": \n",
    "            performance_function = self.calculate_kelly_criterion\n",
    "        \n",
    "        freqs = range(*freq_range)  \n",
    "        windows = range(*window_range)\n",
    "        \n",
    "        combinations = list(product(freqs, windows)) \n",
    "        \n",
    "        performance = []\n",
    "        for comb in combinations: \n",
    "            self.prepare_data(comb[0], comb[1])\n",
    "            self.upsample()\n",
    "            self.run_backtest()\n",
    "            performance.append(performance_function(self.results.strategy))\n",
    "    \n",
    "        self.results_overview =  pd.DataFrame(data = np.array(combinations), columns = [\"Freq\", \"Windows\"])\n",
    "        self.results_overview[\"Performance\"] = performance\n",
    "        self.find_best_strategy()\n",
    "        \n",
    "    def find_best_strategy(self):\n",
    "        ''' Finds the optimal strategy (global maximum) given the parameter ranges.\n",
    "        '''\n",
    "        best = self.results_overview.nlargest(1, \"Performance\")\n",
    "        freq = best.Freq.iloc[0] \n",
    "        window = best.Windows.iloc[0]\n",
    "        perf = best.Performance.iloc[0]\n",
    "        print(\"Frequency: {} | Windows: {} | {}: {}\".format(freq, window, self.metric, round(perf, 6))) \n",
    "        self.test_strategy(freq, window) \n",
    "        \n",
    "    def visualize_many(self):\n",
    "        ''' Plots parameter values vs. Performance.\n",
    "        '''\n",
    "\n",
    "        if self.results_overview is None:\n",
    "            print(\"Run optimize_strategy() first.\")\n",
    "        else: \n",
    "            matrix = self.results_overview.pivot(index = \"Freq\", columns = \"Windows\", values = \"Performance\")\n",
    "            \n",
    "            plt.figure(figsize=(12,8))\n",
    "            sns.set_theme(font_scale=1.5)\n",
    "            sns.heatmap(matrix, cmap = \"RdYlGn\", robust = True, cbar_kws = {\"label\": \"{}\".format(self.metric)})\n",
    "            plt.show()\n",
    "            \n",
    "    def add_sessions(self, visualize = False):\n",
    "        ''' \n",
    "        Adds/Labels Trading Sessions and their compound returns.\n",
    "        \n",
    "        Parameter\n",
    "        ============\n",
    "        visualize: bool, default False\n",
    "            if True, visualize compound session returns over time\n",
    "        '''\n",
    "        \n",
    "        if self.results is None:\n",
    "            print(\"Run test_strategy() first.\")\n",
    "            \n",
    "        data = self.results.copy()\n",
    "        data[\"session\"] = np.sign(data.trades).cumsum().shift().fillna(0)\n",
    "        data[\"session_compound\"] = data.groupby(\"session\").strategy.cumsum().apply(np.exp) - 1\n",
    "        self.results = data\n",
    "        if visualize:\n",
    "            data[\"session_compound\"].plot(figsize = (12, 8))\n",
    "            plt.show()\n",
    "    \n",
    "    def add_stop_loss(self, sl_thresh, report = True): \n",
    "        ''' \n",
    "        Adds Stop Loss to the Strategy.\n",
    "        \n",
    "        Parameter\n",
    "        ============\n",
    "        sl_thresh: float (negative)\n",
    "            maximum loss level in % (e.g. -0.02 for -2%)\n",
    "        \n",
    "        report: bool, default True\n",
    "            if True, print Performance Report incl. Stop Loss. \n",
    "        '''\n",
    "        \n",
    "        self.sl_thresh = sl_thresh\n",
    "        \n",
    "        if self.results is None:\n",
    "            print(\"Run test_strategy() first.\")\n",
    "        \n",
    "        self.add_sessions()\n",
    "        self.results = self.results.groupby(\"session\", group_keys = False).apply(self.define_sl_pos)\n",
    "        self.run_backtest()\n",
    "        data = self.results.copy()\n",
    "        data[\"creturns\"] = data[\"returns\"].cumsum().apply(np.exp)\n",
    "        data[\"cstrategy\"] = data[\"strategy\"].cumsum().apply(np.exp)\n",
    "        self.results = data\n",
    "        self.add_sessions()\n",
    "        \n",
    "        if report:\n",
    "            self.print_performance()\n",
    "            \n",
    "            \n",
    "    def add_take_profit(self, tp_thresh, report = True):\n",
    "        ''' \n",
    "        Adds Take Profit to the Strategy.\n",
    "        \n",
    "        Parameter\n",
    "        ============\n",
    "        tp_thresh: float (positive)\n",
    "            maximum profit level in % (e.g. 0.02 for 2%)\n",
    "        \n",
    "        report: bool, default True\n",
    "            if True, print Performance Report incl. Take Profit. \n",
    "        '''\n",
    "        self.tp_thresh = tp_thresh\n",
    "        \n",
    "        if self.results is None:\n",
    "            print(\"Run test_strategy() first.\")\n",
    "        \n",
    "        self.add_sessions()\n",
    "        self.results = self.results.groupby(\"session\", group_keys = False).apply(self.define_tp_pos)\n",
    "        self.run_backtest()\n",
    "        data = self.results.copy()\n",
    "        data[\"creturns\"] = data[\"returns\"].cumsum().apply(np.exp)\n",
    "        data[\"cstrategy\"] = data[\"strategy\"].cumsum().apply(np.exp)\n",
    "        self.results = data\n",
    "        self.add_sessions()\n",
    "        \n",
    "        if report:\n",
    "            self.print_performance()\n",
    "        \n",
    "    def define_sl_pos(self, group):\n",
    "        if (group.session_compound <= self.sl_thresh).any():\n",
    "            start = group[group.session_compound <= self.sl_thresh].index[0]\n",
    "            stop = group.index[-2]\n",
    "            group.loc[start:stop, \"position\"] = 0\n",
    "            return group\n",
    "        else:\n",
    "            return group \n",
    "        \n",
    "    def define_tp_pos(self, group):\n",
    "        if (group.session_compound >= self.tp_thresh).any():\n",
    "            start = group[group.session_compound >= self.tp_thresh].index[0]\n",
    "            stop = group.index[-2]\n",
    "            group.loc[start:stop, \"position\"] = 0\n",
    "            return group\n",
    "        else:\n",
    "            return group\n",
    "        \n",
    "    def add_leverage(self, leverage, sl = -0.5, report = True):\n",
    "        ''' \n",
    "        Adds Leverage to the Strategy.\n",
    "        \n",
    "        Parameter\n",
    "        ============\n",
    "        leverage: float (positive)\n",
    "            degree of leverage.\n",
    "        \n",
    "        sl: float (negative), default -50% (regulatory)\n",
    "            maximum margin loss level in % (e.g. -0.2 for -20%).\n",
    "        \n",
    "        report: bool, default True\n",
    "            if True, print Performance Report incl. Leverage.\n",
    "        '''\n",
    "        \n",
    "        self.leverage = leverage\n",
    "        sl_thresh = sl / leverage\n",
    "        self.add_stop_loss(sl_thresh, report = False)\n",
    "        \n",
    "        data = self.results.copy()\n",
    "        data[\"simple_ret\"] = np.exp(data.strategy) - 1\n",
    "        data[\"eff_lev\"] = leverage * (1 + data.session_compound) / (1 + data.session_compound * leverage)\n",
    "        data.eff_lev.fillna(leverage, inplace = True)\n",
    "        data.loc[data.trades !=0, \"eff_lev\"] = leverage\n",
    "        levered_returns = data.eff_lev.shift() * data.simple_ret\n",
    "        levered_returns = np.where(levered_returns < -1, -1, levered_returns)\n",
    "        data[\"strategy_levered\"] = levered_returns\n",
    "        data[\"cstrategy_levered\"] = data.strategy_levered.add(1).cumprod()\n",
    "        \n",
    "        self.results = data\n",
    "            \n",
    "        if report:\n",
    "            self.print_performance(leverage = True)\n",
    "    ############################## Performance ######################################\n",
    "    \n",
    "    def print_performance(self, leverage = False):\n",
    "        ''' Calculates and prints various Performance Metrics.\n",
    "        '''\n",
    "        \n",
    "        data = self.results.copy()\n",
    "        \n",
    "        if leverage:\n",
    "            to_analyze = np.log(data.strategy_levered.add(1))\n",
    "        else: \n",
    "            to_analyze = data.strategy\n",
    "        \n",
    "        strategy_multiple = round(self.calculate_multiple(to_analyze), 6)\n",
    "        bh_multiple =       round(self.calculate_multiple(data.returns), 6)\n",
    "        outperf =           round(strategy_multiple - bh_multiple, 6)\n",
    "        cagr =              round(self.calculate_cagr(to_analyze), 6)\n",
    "        ann_mean =          round(self.calculate_annualized_mean(to_analyze), 6)\n",
    "        ann_std =           round(self.calculate_annualized_std(to_analyze), 6)\n",
    "        sharpe =            round(self.calculate_sharpe(to_analyze), 6)\n",
    "        sortino =           round(self.calculate_sortino(to_analyze), 6)\n",
    "        max_drawdown =      round(self.calculate_max_drawdown(to_analyze), 6)\n",
    "        calmar =            round(self.calculate_calmar(to_analyze), 6)\n",
    "        max_dd_duration =   round(self.calculate_max_dd_duration(to_analyze), 6)\n",
    "        kelly_criterion =   round(self.calculate_kelly_criterion(to_analyze), 6)\n",
    "        \n",
    "        print(100 * \"=\")\n",
    "        print(\"SIMPLE CONTRARIAN STRATEGY | INSTRUMENT = {} | Freq: {} | WINDOW = {}\".format(self.symbol, self.freq, self.window))\n",
    "        print(100 * \"-\")\n",
    "        #print(\"\\n\")\n",
    "        print(\"PERFORMANCE MEASURES:\")\n",
    "        print(\"\\n\")\n",
    "        print(\"Multiple (Strategy):         {}\".format(strategy_multiple))\n",
    "        print(\"Multiple (Buy-and-Hold):     {}\".format(bh_multiple))\n",
    "        print(38 * \"-\")\n",
    "        print(\"Out-/Underperformance:       {}\".format(outperf))\n",
    "        print(\"\\n\")\n",
    "        print(\"CAGR:                        {}\".format(cagr))\n",
    "        print(\"Annualized Mean:             {}\".format(ann_mean))\n",
    "        print(\"Annualized Std:              {}\".format(ann_std))\n",
    "        print(\"Sharpe Ratio:                {}\".format(sharpe))\n",
    "        print(\"Sortino Ratio:               {}\".format(sortino))\n",
    "        print(\"Maximum Drawdown:            {}\".format(max_drawdown))\n",
    "        print(\"Calmar Ratio:                {}\".format(calmar))\n",
    "        print(\"Max Drawdown Duration:       {} Days\".format(max_dd_duration))\n",
    "        print(\"Kelly Criterion:             {}\".format(kelly_criterion))\n",
    "        \n",
    "        print(100 * \"=\")\n",
    "        \n",
    "    def calculate_multiple(self, series):\n",
    "        return np.exp(series.sum())\n",
    "    \n",
    "    def calculate_cagr(self, series):\n",
    "        return np.exp(series.sum())**(1/((series.index[-1] - series.index[0]).days / 365.25)) - 1\n",
    "    \n",
    "    def calculate_annualized_mean(self, series):\n",
    "        return series.mean() * self.tp_year\n",
    "    \n",
    "    def calculate_annualized_std(self, series):\n",
    "        return series.std() * np.sqrt(self.tp_year)\n",
    "    \n",
    "    def calculate_sharpe(self, series):\n",
    "        if series.std() == 0:\n",
    "            return np.nan\n",
    "        else:\n",
    "            return series.mean() / series.std() * np.sqrt(self.tp_year)\n",
    "    \n",
    "    def calculate_sortino(self, series):\n",
    "        excess_returns = (series - 0)\n",
    "        downside_deviation = np.sqrt(np.mean(np.where(excess_returns < 0, excess_returns, 0)**2))\n",
    "        if downside_deviation == 0:\n",
    "            return np.nan\n",
    "        else:\n",
    "            sortino = (series.mean() - 0) / downside_deviation * np.sqrt(self.tp_year)\n",
    "            return sortino \n",
    "    \n",
    "    def calculate_max_drawdown(self, series):\n",
    "        creturns = series.cumsum().apply(np.exp)\n",
    "        cummax = creturns.cummax()\n",
    "        drawdown = (cummax - creturns)/cummax\n",
    "        max_dd = drawdown.max()\n",
    "        return max_dd\n",
    "    \n",
    "    def calculate_calmar(self, series):\n",
    "        max_dd = self.calculate_max_drawdown(series)\n",
    "        if max_dd == 0:\n",
    "            return np.nan\n",
    "        else:\n",
    "            cagr = self.calculate_cagr(series)\n",
    "            calmar = cagr / max_dd\n",
    "            return calmar\n",
    "    \n",
    "    def calculate_max_dd_duration(self, series):\n",
    "        creturns = series.cumsum().apply(np.exp)\n",
    "        cummax = creturns.cummax()\n",
    "        drawdown = (cummax - creturns)/cummax\n",
    "    \n",
    "        begin = drawdown[drawdown == 0].index\n",
    "        end = begin[1:]\n",
    "        end = end.append(pd.DatetimeIndex([drawdown.index[-1]]))\n",
    "        periods = end - begin\n",
    "        max_ddd = periods.max()\n",
    "        return max_ddd.days\n",
    "    \n",
    "    def calculate_kelly_criterion(self, series):\n",
    "        series = np.exp(series) - 1\n",
    "        if series.var() == 0:\n",
    "            return np.nan\n",
    "        else:\n",
    "            return series.mean() / series.var()\n",
    "    \n",
    "    ############################## Performance ######################################"
   ]
  },
  {
   "cell_type": "markdown",
   "id": "ce712df6",
   "metadata": {},
   "source": [
    "__Scenario__: <br>\n",
    "It´s the __end of 2018__. __Define and optimize__ a simple Contrarian Strategy for EUR/USD __based on 2018__ data. <br>\n",
    "__Forward Test the Strategy on 2019 data__."
   ]
  },
  {
   "cell_type": "code",
   "execution_count": null,
   "id": "ee7cecd3",
   "metadata": {},
   "outputs": [],
   "source": []
  },
  {
   "cell_type": "markdown",
   "id": "74bc5009",
   "metadata": {},
   "source": [
    "## Backtesting / Forward Testing  - a simple (too simple?) approach"
   ]
  },
  {
   "cell_type": "markdown",
   "id": "b3b89be8",
   "metadata": {},
   "source": [
    "__Backtesting 2018__"
   ]
  },
  {
   "cell_type": "code",
   "execution_count": null,
   "id": "cc18e524",
   "metadata": {},
   "outputs": [],
   "source": [
    "filepath = \"one_minute.csv\"\n",
    "symbol = \"EURUSD\"\n",
    "start = \"2018-01-01\"\n",
    "end = \"2018-12-31\"\n",
    "ptc = 0.00007"
   ]
  },
  {
   "cell_type": "code",
   "execution_count": null,
   "id": "879ce225",
   "metadata": {},
   "outputs": [],
   "source": [
    "tester = ConBacktester(filepath = filepath, symbol = symbol, start = start, end = end, tc = ptc)\n",
    "tester"
   ]
  },
  {
   "cell_type": "code",
   "execution_count": null,
   "id": "05254d7a",
   "metadata": {},
   "outputs": [],
   "source": [
    "tester.optimize_strategy((51, 301, 5), (51, 301, 5), metric = \"Multiple\") # finding the best combination freq/windows "
   ]
  },
  {
   "cell_type": "code",
   "execution_count": null,
   "id": "c1f35a4f",
   "metadata": {},
   "outputs": [],
   "source": [
    "tester.visualize_many()"
   ]
  },
  {
   "cell_type": "code",
   "execution_count": null,
   "id": "bcaaf9e6",
   "metadata": {},
   "outputs": [],
   "source": [
    "leverage = np.arange(1, 30, 1)\n",
    "leverage"
   ]
  },
  {
   "cell_type": "code",
   "execution_count": null,
   "id": "53d831fe",
   "metadata": {},
   "outputs": [],
   "source": [
    "multiple = []\n",
    "for lever in leverage:\n",
    "    tester.add_leverage(leverage = lever, sl = -0.4, report = False)\n",
    "    multiple.append(tester.results.cstrategy_levered[-1])\n",
    "results = pd.DataFrame(data = {\"Leverage\": leverage, \"Multiple\":multiple}) "
   ]
  },
  {
   "cell_type": "code",
   "execution_count": null,
   "id": "ca9afe4c",
   "metadata": {},
   "outputs": [],
   "source": [
    "results.set_index(\"Leverage\", inplace = True)"
   ]
  },
  {
   "cell_type": "code",
   "execution_count": null,
   "id": "8646e143",
   "metadata": {},
   "outputs": [],
   "source": [
    "results"
   ]
  },
  {
   "cell_type": "code",
   "execution_count": null,
   "id": "72d26a49",
   "metadata": {},
   "outputs": [],
   "source": [
    "results.plot(figsize = (12, 8));\n",
    "plt.show()"
   ]
  },
  {
   "cell_type": "code",
   "execution_count": null,
   "id": "35d51b28",
   "metadata": {},
   "outputs": [],
   "source": [
    "tester.test_strategy(201, 101)"
   ]
  },
  {
   "cell_type": "code",
   "execution_count": null,
   "id": "9feead49",
   "metadata": {},
   "outputs": [],
   "source": [
    "tester.plot_results()"
   ]
  },
  {
   "cell_type": "code",
   "execution_count": null,
   "id": "8b4f17b7",
   "metadata": {},
   "outputs": [],
   "source": [
    "tester.add_leverage(leverage = 27, sl = -0.4)"
   ]
  },
  {
   "cell_type": "code",
   "execution_count": null,
   "id": "cc85ecb1",
   "metadata": {},
   "outputs": [],
   "source": [
    "tester.plot_results(leverage = True)"
   ]
  },
  {
   "cell_type": "markdown",
   "id": "71145e1f",
   "metadata": {},
   "source": [
    "__Forward Testing 2019__"
   ]
  },
  {
   "cell_type": "code",
   "execution_count": null,
   "id": "9855f624",
   "metadata": {},
   "outputs": [],
   "source": [
    "filepath = \"one_minute.csv\"\n",
    "symbol = \"EURUSD\"\n",
    "start = \"2019-01-01\"\n",
    "end = \"2019-12-31\"\n",
    "ptc = 0.00007"
   ]
  },
  {
   "cell_type": "code",
   "execution_count": null,
   "id": "905cad05",
   "metadata": {},
   "outputs": [],
   "source": [
    "tester = ConBacktester(filepath = filepath, symbol = symbol, start = start, end = end, tc = ptc)\n",
    "tester"
   ]
  },
  {
   "cell_type": "code",
   "execution_count": null,
   "id": "c2174821",
   "metadata": {},
   "outputs": [],
   "source": [
    "tester.test_strategy(201, 101)"
   ]
  },
  {
   "cell_type": "code",
   "execution_count": null,
   "id": "34277dce",
   "metadata": {},
   "outputs": [],
   "source": [
    "tester.plot_results()"
   ]
  },
  {
   "cell_type": "code",
   "execution_count": null,
   "id": "c2116b25",
   "metadata": {},
   "outputs": [],
   "source": [
    "tester.add_leverage(leverage = 13, sl = -0.4)"
   ]
  },
  {
   "cell_type": "code",
   "execution_count": null,
   "id": "45b415b6",
   "metadata": {},
   "outputs": [],
   "source": [
    "tester.plot_results(leverage = True)"
   ]
  },
  {
   "cell_type": "markdown",
   "id": "3918a4e7",
   "metadata": {},
   "source": [
    "__remember: Leverage should not exceed \"Half Kelly\" of Backtesting.__"
   ]
  },
  {
   "cell_type": "code",
   "execution_count": null,
   "id": "82cfe17e",
   "metadata": {},
   "outputs": [],
   "source": []
  },
  {
   "cell_type": "markdown",
   "id": "d51d31d7",
   "metadata": {},
   "source": [
    "## The Performance of Strategies over multiple Time Periods"
   ]
  },
  {
   "cell_type": "markdown",
   "id": "1b111c2c",
   "metadata": {},
   "source": [
    "Problem: Single Period Backtest has lots of random noise. "
   ]
  },
  {
   "cell_type": "markdown",
   "id": "40e3eecf",
   "metadata": {},
   "source": [
    "Desired Property of a good strategy: it __performs stable and well over multiple periods__. "
   ]
  },
  {
   "cell_type": "markdown",
   "id": "dd02d695",
   "metadata": {},
   "source": [
    "-> Split 2018 into subperiods (quarters) and run __separate backtests__ for subperiods.\n",
    "(remove/lower impact of random noise)"
   ]
  },
  {
   "cell_type": "markdown",
   "id": "637714ea",
   "metadata": {},
   "source": [
    "__Backtesting Period 2018__"
   ]
  },
  {
   "cell_type": "code",
   "execution_count": null,
   "id": "4f9ebb89",
   "metadata": {},
   "outputs": [],
   "source": [
    "filepath = \"one_minute.csv\"\n",
    "symbol = \"EURUSD\"\n",
    "\n",
    "start1 = \"2018-01-01\"\n",
    "end1 = \"2018-03-31\"\n",
    "start2 = \"2018-04-01\"\n",
    "end2 = \"2018-06-30\"\n",
    "start3 = \"2018-07-01\"\n",
    "end3 = \"2018-09-30\"\n",
    "start4 = \"2018-10-01\"\n",
    "end4 = \"2018-12-31\"\n",
    "\n",
    "ptc = 0.00007"
   ]
  },
  {
   "cell_type": "markdown",
   "id": "5ff9bfdf",
   "metadata": {},
   "source": [
    "__1. Quarter 2018__"
   ]
  },
  {
   "cell_type": "code",
   "execution_count": null,
   "id": "7351bcf5",
   "metadata": {},
   "outputs": [],
   "source": [
    "tester = ConBacktester(filepath = filepath, symbol = symbol, start = start1, end = end1, tc = ptc)\n",
    "tester"
   ]
  },
  {
   "cell_type": "code",
   "execution_count": null,
   "id": "bb235fa8",
   "metadata": {},
   "outputs": [],
   "source": [
    "tester.optimize_strategy(freq_range = (51, 301, 5), window_range = (51, 301, 5), metric = \"Multiple\") # finding the best combination freq/windows "
   ]
  },
  {
   "cell_type": "code",
   "execution_count": null,
   "id": "c82a5c14",
   "metadata": {},
   "outputs": [],
   "source": [
    "tester.visualize_many()"
   ]
  },
  {
   "cell_type": "code",
   "execution_count": null,
   "id": "762d229c",
   "metadata": {},
   "outputs": [],
   "source": [
    "q1 = tester.results_overview\n",
    "q1"
   ]
  },
  {
   "cell_type": "code",
   "execution_count": null,
   "id": "4785bbdc",
   "metadata": {},
   "outputs": [],
   "source": []
  },
  {
   "cell_type": "markdown",
   "id": "896a1e22",
   "metadata": {},
   "source": [
    "__2. Quarter 2018__"
   ]
  },
  {
   "cell_type": "code",
   "execution_count": null,
   "id": "7f6aba0b",
   "metadata": {},
   "outputs": [],
   "source": [
    "tester = ConBacktester(filepath = filepath, symbol = symbol, start = start2, end = end2, tc = ptc)\n",
    "tester"
   ]
  },
  {
   "cell_type": "code",
   "execution_count": null,
   "id": "3d82e519",
   "metadata": {},
   "outputs": [],
   "source": [
    "tester.optimize_strategy(freq_range = (51, 301, 5), window_range = (51, 301, 5), metric = \"Multiple\") # finding the best combination freq/windows "
   ]
  },
  {
   "cell_type": "code",
   "execution_count": null,
   "id": "7ad22286",
   "metadata": {},
   "outputs": [],
   "source": [
    "tester.visualize_many()"
   ]
  },
  {
   "cell_type": "code",
   "execution_count": null,
   "id": "824b5d3e",
   "metadata": {},
   "outputs": [],
   "source": [
    "q2 = tester.results_overview\n",
    "q2"
   ]
  },
  {
   "cell_type": "code",
   "execution_count": null,
   "id": "fcd42154",
   "metadata": {},
   "outputs": [],
   "source": []
  },
  {
   "cell_type": "markdown",
   "id": "f178fa3a",
   "metadata": {},
   "source": [
    "__3. Quarter 2018__"
   ]
  },
  {
   "cell_type": "code",
   "execution_count": null,
   "id": "16ba93d0",
   "metadata": {},
   "outputs": [],
   "source": [
    "tester = ConBacktester(filepath = filepath, symbol = symbol, start = start3, end = end3, tc = ptc)\n",
    "tester"
   ]
  },
  {
   "cell_type": "code",
   "execution_count": null,
   "id": "f68e755e",
   "metadata": {},
   "outputs": [],
   "source": [
    "tester.optimize_strategy(freq_range = (51, 301, 5), window_range = (51, 301, 5), metric = \"Multiple\") # finding the best combination freq/windows "
   ]
  },
  {
   "cell_type": "code",
   "execution_count": null,
   "id": "2ed39d40",
   "metadata": {},
   "outputs": [],
   "source": [
    "tester.visualize_many()"
   ]
  },
  {
   "cell_type": "code",
   "execution_count": null,
   "id": "2d76f585",
   "metadata": {},
   "outputs": [],
   "source": [
    "q3 = tester.results_overview\n",
    "q3"
   ]
  },
  {
   "cell_type": "code",
   "execution_count": null,
   "id": "326e3a6a",
   "metadata": {},
   "outputs": [],
   "source": []
  },
  {
   "cell_type": "markdown",
   "id": "eca41776",
   "metadata": {},
   "source": [
    "__4. Quarter 2018__"
   ]
  },
  {
   "cell_type": "code",
   "execution_count": null,
   "id": "36bc4004",
   "metadata": {},
   "outputs": [],
   "source": [
    "tester = ConBacktester(filepath = filepath, symbol = symbol, start = start4, end = end4, tc = ptc)\n",
    "tester"
   ]
  },
  {
   "cell_type": "code",
   "execution_count": null,
   "id": "c37c9525",
   "metadata": {},
   "outputs": [],
   "source": [
    "tester.optimize_strategy(freq_range = (51, 301, 5), window_range = (51, 301, 5), metric = \"Multiple\") # finding the best combination freq/windows "
   ]
  },
  {
   "cell_type": "code",
   "execution_count": null,
   "id": "9b519cd5",
   "metadata": {},
   "outputs": [],
   "source": [
    "tester.visualize_many()"
   ]
  },
  {
   "cell_type": "code",
   "execution_count": null,
   "id": "f4a5d10a",
   "metadata": {},
   "outputs": [],
   "source": [
    "q4 = tester.results_overview\n",
    "q4"
   ]
  },
  {
   "cell_type": "code",
   "execution_count": null,
   "id": "0ec91821",
   "metadata": {},
   "outputs": [],
   "source": []
  },
  {
   "cell_type": "markdown",
   "id": "ad7dad4a",
   "metadata": {},
   "source": [
    "__Comparing all four quarters__"
   ]
  },
  {
   "cell_type": "code",
   "execution_count": null,
   "id": "01c37cbe",
   "metadata": {},
   "outputs": [],
   "source": [
    "comp = pd.concat([q1, q2, q3, q4], axis = 1).iloc[:, [0, 1, 2, 5, 8, 11 ]]\n",
    "comp"
   ]
  },
  {
   "cell_type": "code",
   "execution_count": null,
   "id": "01f20003",
   "metadata": {},
   "outputs": [],
   "source": [
    "comp[\"Score1\"] = comp.iloc[:,2:].mean(axis = 1) # mean of multiples"
   ]
  },
  {
   "cell_type": "code",
   "execution_count": null,
   "id": "80efc6cb",
   "metadata": {},
   "outputs": [],
   "source": [
    "comp"
   ]
  },
  {
   "cell_type": "code",
   "execution_count": null,
   "id": "96f544ae",
   "metadata": {
    "scrolled": true
   },
   "outputs": [],
   "source": [
    "comp.iloc[:, 2:6].rank(ascending = False)"
   ]
  },
  {
   "cell_type": "code",
   "execution_count": null,
   "id": "3f7005f9",
   "metadata": {},
   "outputs": [],
   "source": [
    "comp[\"Score2\"] = (comp.iloc[:, 2:6].rank(ascending = False)**2).mean(axis = 1) # mean rank\n",
    "comp"
   ]
  },
  {
   "cell_type": "code",
   "execution_count": null,
   "id": "f6850727",
   "metadata": {},
   "outputs": [],
   "source": [
    "comp.sort_values(by = \"Score1\", ascending = False).head(20)"
   ]
  },
  {
   "cell_type": "code",
   "execution_count": null,
   "id": "3b95a4fb",
   "metadata": {},
   "outputs": [],
   "source": [
    "comp.sort_values(by = \"Score2\", ascending = True).head(20)"
   ]
  },
  {
   "cell_type": "code",
   "execution_count": null,
   "id": "00ceeb31",
   "metadata": {},
   "outputs": [],
   "source": []
  },
  {
   "cell_type": "markdown",
   "id": "cfcbeac7",
   "metadata": {},
   "source": [
    "## Backtesting / Forward Testing a stable Strategy"
   ]
  },
  {
   "cell_type": "markdown",
   "id": "283deb35",
   "metadata": {},
   "source": [
    "__Backtesting__"
   ]
  },
  {
   "cell_type": "code",
   "execution_count": null,
   "id": "55253ab1",
   "metadata": {},
   "outputs": [],
   "source": [
    "tester = ConBacktester(filepath = filepath, symbol = symbol, start = \"2018-01-01\", end = \"2018-12-31\", tc = ptc)\n",
    "tester"
   ]
  },
  {
   "cell_type": "code",
   "execution_count": null,
   "id": "2ea59a9b",
   "metadata": {},
   "outputs": [],
   "source": [
    "tester.test_strategy(181, 106)"
   ]
  },
  {
   "cell_type": "code",
   "execution_count": null,
   "id": "3ff283e0",
   "metadata": {},
   "outputs": [],
   "source": [
    "leverage = np.arange(1, 50, 1)\n",
    "leverage"
   ]
  },
  {
   "cell_type": "code",
   "execution_count": null,
   "id": "85f6be89",
   "metadata": {},
   "outputs": [],
   "source": [
    "multiple = []\n",
    "for lever in leverage:\n",
    "    tester.add_leverage(leverage = lever, sl = -0.4, report = False)\n",
    "    multiple.append(tester.results.cstrategy_levered[-1])\n",
    "results = pd.DataFrame(data = {\"Leverage\": leverage, \"Multiple\":multiple})   "
   ]
  },
  {
   "cell_type": "code",
   "execution_count": null,
   "id": "63e41181",
   "metadata": {},
   "outputs": [],
   "source": [
    "results.set_index(\"Leverage\", inplace = True)"
   ]
  },
  {
   "cell_type": "code",
   "execution_count": null,
   "id": "8a4fcb5e",
   "metadata": {},
   "outputs": [],
   "source": [
    "results"
   ]
  },
  {
   "cell_type": "code",
   "execution_count": null,
   "id": "8cd7a6d5",
   "metadata": {},
   "outputs": [],
   "source": [
    "results.plot(figsize = (12, 8));\n",
    "plt.show()"
   ]
  },
  {
   "cell_type": "code",
   "execution_count": null,
   "id": "6faaf0df",
   "metadata": {},
   "outputs": [],
   "source": [
    "tester.test_strategy(181, 106)"
   ]
  },
  {
   "cell_type": "code",
   "execution_count": null,
   "id": "41e7b7f1",
   "metadata": {},
   "outputs": [],
   "source": [
    "tester.add_leverage(12, sl = -0.4)"
   ]
  },
  {
   "cell_type": "code",
   "execution_count": null,
   "id": "ec00149a",
   "metadata": {},
   "outputs": [],
   "source": [
    "tester.plot_results(leverage=True)"
   ]
  },
  {
   "cell_type": "code",
   "execution_count": null,
   "id": "2b2996a8",
   "metadata": {},
   "outputs": [],
   "source": []
  },
  {
   "cell_type": "markdown",
   "id": "13cf0bac",
   "metadata": {},
   "source": [
    "__Forward Testing__"
   ]
  },
  {
   "cell_type": "code",
   "execution_count": null,
   "id": "f733c50c",
   "metadata": {},
   "outputs": [],
   "source": [
    "tester = ConBacktester(filepath = filepath, symbol = symbol, start = \"2019-01-01\", end = \"2019-12-31\", tc = ptc)\n",
    "tester"
   ]
  },
  {
   "cell_type": "code",
   "execution_count": null,
   "id": "5a82f8e8",
   "metadata": {},
   "outputs": [],
   "source": [
    "tester.test_strategy(181, 106)"
   ]
  },
  {
   "cell_type": "code",
   "execution_count": null,
   "id": "3e9236d8",
   "metadata": {},
   "outputs": [],
   "source": [
    "tester.add_leverage(12, sl = -0.4)"
   ]
  },
  {
   "cell_type": "code",
   "execution_count": null,
   "id": "f400c140",
   "metadata": {},
   "outputs": [],
   "source": [
    "tester.plot_results(leverage=True)"
   ]
  },
  {
   "cell_type": "code",
   "execution_count": null,
   "id": "281d5ab4",
   "metadata": {},
   "outputs": [],
   "source": []
  }
 ],
 "metadata": {
  "kernelspec": {
   "display_name": "Python 3 (ipykernel)",
   "language": "python",
   "name": "python3"
  },
  "language_info": {
   "codemirror_mode": {
    "name": "ipython",
    "version": 3
   },
   "file_extension": ".py",
   "mimetype": "text/x-python",
   "name": "python",
   "nbconvert_exporter": "python",
   "pygments_lexer": "ipython3",
   "version": "3.9.16"
  }
 },
 "nbformat": 4,
 "nbformat_minor": 5
}
