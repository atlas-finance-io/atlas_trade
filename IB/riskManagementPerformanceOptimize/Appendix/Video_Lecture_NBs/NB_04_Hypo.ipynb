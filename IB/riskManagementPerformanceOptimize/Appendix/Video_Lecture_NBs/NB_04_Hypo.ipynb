{
 "cells": [
  {
   "cell_type": "markdown",
   "metadata": {},
   "source": [
    "# Statistics for Finance and Business with Python"
   ]
  },
  {
   "cell_type": "markdown",
   "metadata": {},
   "source": [
    "## Hypothesis Testing / Inferential Statistics"
   ]
  },
  {
   "cell_type": "markdown",
   "metadata": {},
   "source": [
    "### Two-tailed Z-Test with known Population Variance"
   ]
  },
  {
   "cell_type": "code",
   "execution_count": null,
   "metadata": {},
   "outputs": [],
   "source": [
    "import numpy as np\n",
    "import scipy.stats as stats\n",
    "import matplotlib.pyplot as plt"
   ]
  },
  {
   "cell_type": "markdown",
   "metadata": {},
   "source": [
    "The ABC Company produces screws with a __target length of 100__ millimeters (mm).\n",
    "The length of the screws follows a __Normal Distribution__ with a (population) __standard deviation of 2 mm__.<br><br>\n",
    "The machines need to be cleaned and recalibrated once a week. After the cleaning/recalibration process, ABC produces a sample of 20 screws to check whether the machines are correctly calibrated (__mean length = 100 mm__).<br> <br>\n",
    "After the most recent calibration you suspect that the machines are incorrectly calibrated. Based on the drawn sample (__sample size = 20__) with __sample mean 100.929__ mm, test on a __2% level of significance__, whether the machine is correctly calibrated or corrupted (two-tailed).\n",
    "<br><br>Calculate the __z-statistic__ and the __p-value__ of your test."
   ]
  },
  {
   "cell_type": "markdown",
   "metadata": {},
   "source": [
    "__Corrupted Machine__"
   ]
  },
  {
   "cell_type": "code",
   "execution_count": null,
   "metadata": {},
   "outputs": [],
   "source": [
    "mu = 100.7 # unknown\n",
    "pop_std = 2 # known"
   ]
  },
  {
   "cell_type": "code",
   "execution_count": null,
   "metadata": {},
   "outputs": [],
   "source": [
    "sample_size = 20"
   ]
  },
  {
   "cell_type": "code",
   "execution_count": null,
   "metadata": {},
   "outputs": [],
   "source": [
    "np.random.seed(123)\n",
    "sample = np.random.normal(loc = mu, scale = pop_std, size = sample_size)"
   ]
  },
  {
   "cell_type": "code",
   "execution_count": null,
   "metadata": {},
   "outputs": [],
   "source": [
    "sample"
   ]
  },
  {
   "cell_type": "code",
   "execution_count": null,
   "metadata": {},
   "outputs": [],
   "source": [
    "point_est_mean = sample.mean()\n",
    "point_est_mean"
   ]
  },
  {
   "cell_type": "code",
   "execution_count": null,
   "metadata": {},
   "outputs": [],
   "source": [
    "standard_error = pop_std / np.sqrt(sample_size)\n",
    "standard_error"
   ]
  },
  {
   "cell_type": "markdown",
   "metadata": {},
   "source": [
    "__H0:__ mean == 100 <br> \n",
    "__Ha:__ mean != 100"
   ]
  },
  {
   "cell_type": "code",
   "execution_count": null,
   "metadata": {},
   "outputs": [],
   "source": [
    "H0 = 100"
   ]
  },
  {
   "cell_type": "markdown",
   "metadata": {},
   "source": [
    "__10% Significance Level__"
   ]
  },
  {
   "cell_type": "code",
   "execution_count": null,
   "metadata": {},
   "outputs": [],
   "source": [
    "conf = 0.90"
   ]
  },
  {
   "cell_type": "code",
   "execution_count": null,
   "metadata": {},
   "outputs": [],
   "source": [
    "stats.norm.interval(conf, loc = H0, scale = standard_error)"
   ]
  },
  {
   "cell_type": "code",
   "execution_count": null,
   "metadata": {},
   "outputs": [],
   "source": [
    "left, right = stats.norm.interval(conf, loc = H0, scale = standard_error)"
   ]
  },
  {
   "cell_type": "code",
   "execution_count": null,
   "metadata": {},
   "outputs": [],
   "source": [
    "left"
   ]
  },
  {
   "cell_type": "code",
   "execution_count": null,
   "metadata": {},
   "outputs": [],
   "source": [
    "right"
   ]
  },
  {
   "cell_type": "code",
   "execution_count": null,
   "metadata": {},
   "outputs": [],
   "source": [
    "point_est_mean"
   ]
  },
  {
   "cell_type": "code",
   "execution_count": null,
   "metadata": {},
   "outputs": [],
   "source": [
    "x = np.linspace(97, 103 , 1000)"
   ]
  },
  {
   "cell_type": "code",
   "execution_count": null,
   "metadata": {},
   "outputs": [],
   "source": [
    "y = stats.norm.pdf(x, loc = H0, scale = standard_error) "
   ]
  },
  {
   "cell_type": "code",
   "execution_count": null,
   "metadata": {},
   "outputs": [],
   "source": [
    "plt.figure(figsize = (20, 8))\n",
    "plt.plot(x, y, linewidth = 3, label = \"Normal Distribution\")\n",
    "plt.vlines(x = H0, ymin = 0, ymax = 0.90)\n",
    "plt.vlines(x = point_est_mean, ymin = 0, ymax = 0.1, color = \"red\")\n",
    "plt.fill_between(x, y, where = ((x > right) | (x < left)), color = \"blue\", alpha = 0.2)\n",
    "plt.annotate(\"5%\", xy = (99.05, 0.02), fontsize = 15)\n",
    "plt.annotate(\"5%\", xy = (101, 0.02), fontsize = 15)\n",
    "plt.annotate(\"Reject H0!\\nMachine is corrupted!\", xy = (96, 0.5), fontsize = 30)\n",
    "plt.annotate(\"H0: Mean = 100\", xy = (100.05, 0.3), fontsize = 15)\n",
    "plt.annotate(\"Point Estimate\", xy = (101, 0.14), color = \"red\",fontsize = 15)\n",
    "plt.grid()\n",
    "plt.title(\"Z-Test (two-sided)\", fontsize = 20)\n",
    "plt.ylabel(\"pdf\", fontsize = 15)\n",
    "plt.legend(fontsize = 15)\n",
    "plt.show()"
   ]
  },
  {
   "cell_type": "code",
   "execution_count": null,
   "metadata": {},
   "outputs": [],
   "source": [
    "plt.figure(figsize = (20, 8))\n",
    "plt.plot(x, y, linewidth = 3, label = \"Normal Distribution\")\n",
    "plt.vlines(x = H0, ymin = 0, ymax = 0.90)\n",
    "plt.vlines(x = point_est_mean, ymin = 0, ymax = 0.1, color = \"red\")\n",
    "plt.vlines(x = H0-(point_est_mean-H0), ymin = 0, ymax = 0.1, color = \"red\")\n",
    "plt.fill_between(x, y, where = ((x > point_est_mean) | (x < (H0-(point_est_mean-H0)))), color = \"blue\", alpha = 0.2)\n",
    "#plt.annotate(\"0.5 p-value\", xy = (98.5, 0.04), fontsize = 15)\n",
    "#plt.annotate(\"0.5 p-value\", xy = (101, 0.02), fontsize = 15)\n",
    "#plt.annotate(\"Reject H0!\\nMachine is corrupted!\", xy = (96, 0.5), fontsize = 30)\n",
    "plt.annotate(\"H0: Mean = 100\", xy = (100.05, 0.1), fontsize = 15)\n",
    "plt.annotate(\"Point Estimate\", xy = (101, 0.14), color = \"red\",fontsize = 15)\n",
    "plt.grid()\n",
    "plt.title(\"Z-Test (two-sided)\", fontsize = 20)\n",
    "plt.ylabel(\"pdf\", fontsize = 15)\n",
    "plt.legend(fontsize = 15)\n",
    "plt.show()"
   ]
  },
  {
   "cell_type": "markdown",
   "metadata": {},
   "source": [
    "__Lower Level of Significance (2%)__"
   ]
  },
  {
   "cell_type": "code",
   "execution_count": null,
   "metadata": {},
   "outputs": [],
   "source": [
    "conf = 0.98"
   ]
  },
  {
   "cell_type": "code",
   "execution_count": null,
   "metadata": {},
   "outputs": [],
   "source": [
    "stats.norm.interval(conf, loc = H0, scale = standard_error)"
   ]
  },
  {
   "cell_type": "code",
   "execution_count": null,
   "metadata": {},
   "outputs": [],
   "source": [
    "left, right = stats.norm.interval(conf, loc = H0, scale = standard_error)"
   ]
  },
  {
   "cell_type": "code",
   "execution_count": null,
   "metadata": {},
   "outputs": [],
   "source": [
    "x = np.linspace(96, 104 , 1000)"
   ]
  },
  {
   "cell_type": "code",
   "execution_count": null,
   "metadata": {},
   "outputs": [],
   "source": [
    "y = stats.norm.pdf(x, loc = H0, scale = standard_error) "
   ]
  },
  {
   "cell_type": "code",
   "execution_count": null,
   "metadata": {},
   "outputs": [],
   "source": [
    "plt.figure(figsize = (20, 8))\n",
    "plt.plot(x, y, linewidth = 3, label = \"Normal Distribution\")\n",
    "plt.vlines(x = H0, ymin = 0, ymax = 0.90)\n",
    "plt.vlines(x = point_est_mean, ymin = 0, ymax = 0.1, color = \"red\")\n",
    "plt.fill_between(x, y, where = ((x > right) | (x < left)), color = \"blue\", alpha = 0.2)\n",
    "plt.annotate(\"1%\", xy = (99.05, 0.02), fontsize = 15)\n",
    "plt.annotate(\"1%\", xy = (101.4, 0.02), fontsize = 15)\n",
    "plt.annotate(\"Do not reject H0!\", xy = (96, 0.5), fontsize = 30)\n",
    "plt.annotate(\"H0: Mean = 100\", xy = (100.05, 0.3), fontsize = 15)\n",
    "plt.annotate(\"Point Estimate\", xy = (101, 0.14), color = \"red\",fontsize = 15)\n",
    "plt.grid()\n",
    "plt.title(\"Z-Test (two-sided)\", fontsize = 20)\n",
    "plt.ylabel(\"pdf\", fontsize = 15)\n",
    "plt.legend(fontsize = 15)\n",
    "plt.show()"
   ]
  },
  {
   "cell_type": "code",
   "execution_count": null,
   "metadata": {},
   "outputs": [],
   "source": []
  },
  {
   "cell_type": "markdown",
   "metadata": {},
   "source": [
    "### Calculating and interpreting z-statistic and p-value"
   ]
  },
  {
   "cell_type": "code",
   "execution_count": null,
   "metadata": {},
   "outputs": [],
   "source": [
    "z_stat = (point_est_mean - H0) / standard_error\n",
    "z_stat"
   ]
  },
  {
   "cell_type": "code",
   "execution_count": null,
   "metadata": {},
   "outputs": [],
   "source": [
    "stats.norm.cdf(-abs(z_stat))"
   ]
  },
  {
   "cell_type": "code",
   "execution_count": null,
   "metadata": {},
   "outputs": [],
   "source": [
    "p_value = 2 * stats.norm.cdf(-abs(z_stat))"
   ]
  },
  {
   "cell_type": "code",
   "execution_count": null,
   "metadata": {
    "scrolled": true
   },
   "outputs": [],
   "source": [
    "p_value"
   ]
  },
  {
   "cell_type": "code",
   "execution_count": null,
   "metadata": {},
   "outputs": [],
   "source": [
    "x = np.linspace(-4, 4, 1000)"
   ]
  },
  {
   "cell_type": "code",
   "execution_count": null,
   "metadata": {},
   "outputs": [],
   "source": [
    "y = stats.norm.pdf(x)"
   ]
  },
  {
   "cell_type": "code",
   "execution_count": null,
   "metadata": {},
   "outputs": [],
   "source": [
    "plt.figure(figsize = (20, 8))\n",
    "plt.plot(x, y, linewidth = 3, label = \"Standard Normal Distribution\")\n",
    "plt.vlines(x = 0, ymin = 0, ymax = 0.40)\n",
    "plt.vlines(x = z_stat, ymin = 0, ymax = 0.05, color = \"red\")\n",
    "plt.vlines(x = -z_stat, ymin = 0, ymax = 0.05, color = \"red\")\n",
    "plt.fill_between(x, y, where = ((x > abs(z_stat)) | (x < -abs(z_stat))), color = \"blue\", alpha = 0.2)\n",
    "plt.annotate(\"0.5 p-value\", xy = (-2.9, 0.05), fontsize = 15)\n",
    "plt.annotate(\"0.5 p-value\", xy = (2.3, 0.05), fontsize = 15)\n",
    "plt.annotate(\"-z-Statistic\", xy = (-2, 0.02), color = \"red\", fontsize = 15)\n",
    "plt.annotate(\"z-statistic\", xy = (1.4, 0.02), color = \"red\",fontsize = 15)\n",
    "plt.grid()\n",
    "plt.title(\"Z-Test (two-sided)\", fontsize = 20)\n",
    "plt.ylabel(\"pdf\", fontsize = 15)\n",
    "plt.legend(fontsize = 15)\n",
    "plt.show()"
   ]
  },
  {
   "cell_type": "code",
   "execution_count": null,
   "metadata": {},
   "outputs": [],
   "source": []
  },
  {
   "cell_type": "markdown",
   "metadata": {},
   "source": [
    "### One-tailed Z-Test with known Population Variance"
   ]
  },
  {
   "cell_type": "code",
   "execution_count": null,
   "metadata": {},
   "outputs": [],
   "source": [
    "import numpy as np\n",
    "import scipy.stats as stats\n",
    "import matplotlib.pyplot as plt"
   ]
  },
  {
   "cell_type": "markdown",
   "metadata": {},
   "source": [
    "After the most recent calibration you suspect that the machines are incorrectly calibrated and produce screws with a __mean length greater than 100 mm__.  Based on the drawn sample (__sample size = 20__) with __sample mean 100.929__ mm, perform a one-tailed test with __5% level of significance__. <br><br>Calculate the z-statistic and the p-value of your test."
   ]
  },
  {
   "cell_type": "markdown",
   "metadata": {},
   "source": [
    "__H0:__ mean <= 100 <br> \n",
    "__Ha:__ mean > 100"
   ]
  },
  {
   "cell_type": "markdown",
   "metadata": {},
   "source": [
    "__Corrupted Machine__"
   ]
  },
  {
   "cell_type": "code",
   "execution_count": null,
   "metadata": {},
   "outputs": [],
   "source": [
    "mu = 100.7 # unknown\n",
    "pop_std = 2 # known"
   ]
  },
  {
   "cell_type": "code",
   "execution_count": null,
   "metadata": {},
   "outputs": [],
   "source": [
    "sample_size = 20"
   ]
  },
  {
   "cell_type": "code",
   "execution_count": null,
   "metadata": {},
   "outputs": [],
   "source": [
    "np.random.seed(123)\n",
    "sample = np.random.normal(loc = mu, scale = pop_std, size = sample_size)"
   ]
  },
  {
   "cell_type": "code",
   "execution_count": null,
   "metadata": {},
   "outputs": [],
   "source": [
    "sample"
   ]
  },
  {
   "cell_type": "code",
   "execution_count": null,
   "metadata": {},
   "outputs": [],
   "source": [
    "point_est_mean = sample.mean()\n",
    "point_est_mean"
   ]
  },
  {
   "cell_type": "code",
   "execution_count": null,
   "metadata": {},
   "outputs": [],
   "source": [
    "standard_error = pop_std / np.sqrt(sample_size)\n",
    "standard_error"
   ]
  },
  {
   "cell_type": "code",
   "execution_count": null,
   "metadata": {},
   "outputs": [],
   "source": [
    "H0 = 100"
   ]
  },
  {
   "cell_type": "code",
   "execution_count": null,
   "metadata": {},
   "outputs": [],
   "source": [
    "conf = 0.95"
   ]
  },
  {
   "cell_type": "code",
   "execution_count": null,
   "metadata": {},
   "outputs": [],
   "source": [
    "stats.norm.ppf(0.95, loc = H0, scale = standard_error)"
   ]
  },
  {
   "cell_type": "code",
   "execution_count": null,
   "metadata": {},
   "outputs": [],
   "source": [
    "right = stats.norm.ppf(conf, loc = H0, scale = standard_error)\n",
    "right"
   ]
  },
  {
   "cell_type": "code",
   "execution_count": null,
   "metadata": {},
   "outputs": [],
   "source": [
    "x = np.linspace(96, 104 , 1000)"
   ]
  },
  {
   "cell_type": "code",
   "execution_count": null,
   "metadata": {},
   "outputs": [],
   "source": [
    "y = stats.norm.pdf(x, loc = H0, scale = standard_error) "
   ]
  },
  {
   "cell_type": "code",
   "execution_count": null,
   "metadata": {},
   "outputs": [],
   "source": [
    "plt.figure(figsize = (20, 8))\n",
    "plt.plot(x, y, linewidth = 3, label = \"Normal Distribution\")\n",
    "plt.vlines(x = H0, ymin = 0, ymax = 0.90)\n",
    "plt.vlines(x = point_est_mean, ymin = 0, ymax = 0.1, color = \"red\")\n",
    "plt.fill_between(x, y, where = ((x > right)), color = \"blue\", alpha = 0.2)\n",
    "plt.annotate(\"5%\", xy = (101, 0.02), fontsize = 15)\n",
    "plt.annotate(\"Reject H0!\\nMean is greater than 100!\", xy = (96, 0.5), fontsize = 30)\n",
    "plt.annotate(\"H0: Mean <= 100\", xy = (100.05, 0.3), fontsize = 15)\n",
    "plt.annotate(\"Point Estimate\", xy = (101, 0.14), color = \"red\",fontsize = 15)\n",
    "plt.grid()\n",
    "plt.title(\"Z-Test (one-sided)\", fontsize = 20)\n",
    "plt.ylabel(\"pdf\", fontsize = 15)\n",
    "plt.legend(fontsize = 15)\n",
    "plt.show()"
   ]
  },
  {
   "cell_type": "code",
   "execution_count": null,
   "metadata": {},
   "outputs": [],
   "source": [
    "z_stat = (point_est_mean - H0) / standard_error\n",
    "z_stat"
   ]
  },
  {
   "cell_type": "code",
   "execution_count": null,
   "metadata": {},
   "outputs": [],
   "source": [
    "p_value = stats.norm.cdf(-abs(z_stat))"
   ]
  },
  {
   "cell_type": "code",
   "execution_count": null,
   "metadata": {
    "scrolled": true
   },
   "outputs": [],
   "source": [
    "p_value"
   ]
  },
  {
   "cell_type": "code",
   "execution_count": null,
   "metadata": {},
   "outputs": [],
   "source": []
  },
  {
   "cell_type": "markdown",
   "metadata": {},
   "source": [
    "### Two-sided t-Test (unknown Population Variance)"
   ]
  },
  {
   "cell_type": "code",
   "execution_count": null,
   "metadata": {},
   "outputs": [],
   "source": [
    "import numpy as np\n",
    "import scipy.stats as stats\n",
    "import matplotlib.pyplot as plt"
   ]
  },
  {
   "cell_type": "markdown",
   "metadata": {},
   "source": [
    "The S&P 500, or just the S&P, is a stock market index that measures the stock performance of 500 large companies listed on stock exchanges in the United States. The S&P 500 is a capitalization-weighted index and the performance of the 10 largest companies in the index account for 21.8% of the performance of the index. <br> <br>\n",
    "You have a random sample with 50 stocks/companies and their annual returns for the year 2017 (__sample size = 50__). <br>Test on a __5% level of significance__, whether the (equally-weighted) mean return for the whole S&P 500 population for the year 2017 is __equal to 0%__ or not. Calculate the t-statistic and the p-value of your test.<br> <br>  Assume a __sample mean of 25.32%__ and a __sample standard deviation of 30.50%__.  "
   ]
  },
  {
   "cell_type": "markdown",
   "metadata": {},
   "source": [
    "__H0:__ The mean return is equal to 0%. <br> \n",
    "__Ha:__ The mean return is unequal to 0%."
   ]
  },
  {
   "cell_type": "code",
   "execution_count": null,
   "metadata": {},
   "outputs": [],
   "source": [
    "sample = np.loadtxt(\"sample.csv\", delimiter = \",\", usecols = 1)"
   ]
  },
  {
   "cell_type": "code",
   "execution_count": null,
   "metadata": {},
   "outputs": [],
   "source": [
    "sample"
   ]
  },
  {
   "cell_type": "code",
   "execution_count": null,
   "metadata": {},
   "outputs": [],
   "source": [
    "sample_size = sample.size\n",
    "sample.size"
   ]
  },
  {
   "cell_type": "code",
   "execution_count": null,
   "metadata": {},
   "outputs": [],
   "source": [
    "point_est_mean = sample.mean()\n",
    "point_est_mean"
   ]
  },
  {
   "cell_type": "code",
   "execution_count": null,
   "metadata": {},
   "outputs": [],
   "source": [
    "standard_error = sample.std(ddof = 1) / np.sqrt(sample_size)\n",
    "standard_error"
   ]
  },
  {
   "cell_type": "markdown",
   "metadata": {},
   "source": [
    "__5% Significance Level__"
   ]
  },
  {
   "cell_type": "code",
   "execution_count": null,
   "metadata": {},
   "outputs": [],
   "source": [
    "H0 = 0"
   ]
  },
  {
   "cell_type": "code",
   "execution_count": null,
   "metadata": {},
   "outputs": [],
   "source": [
    "conf = 0.95"
   ]
  },
  {
   "cell_type": "code",
   "execution_count": null,
   "metadata": {},
   "outputs": [],
   "source": [
    "stats.t.interval(conf, loc = H0, scale = standard_error, df = sample_size - 1)"
   ]
  },
  {
   "cell_type": "code",
   "execution_count": null,
   "metadata": {},
   "outputs": [],
   "source": [
    "left, right = stats.t.interval(conf, loc = H0, scale = standard_error, df = sample_size - 1)"
   ]
  },
  {
   "cell_type": "code",
   "execution_count": null,
   "metadata": {},
   "outputs": [],
   "source": [
    "left"
   ]
  },
  {
   "cell_type": "code",
   "execution_count": null,
   "metadata": {},
   "outputs": [],
   "source": [
    "right"
   ]
  },
  {
   "cell_type": "code",
   "execution_count": null,
   "metadata": {},
   "outputs": [],
   "source": [
    "point_est_mean"
   ]
  },
  {
   "cell_type": "code",
   "execution_count": null,
   "metadata": {},
   "outputs": [],
   "source": [
    "x = np.linspace(-0.2, 0.2 , 1000)"
   ]
  },
  {
   "cell_type": "code",
   "execution_count": null,
   "metadata": {},
   "outputs": [],
   "source": [
    "y = stats.t.pdf(x, loc = H0, scale = standard_error, df = sample_size - 1) "
   ]
  },
  {
   "cell_type": "code",
   "execution_count": null,
   "metadata": {},
   "outputs": [],
   "source": [
    "plt.figure(figsize = (20, 8))\n",
    "plt.plot(x, y, linewidth = 3, label = \"t-Distribution\")\n",
    "plt.vlines(x = H0, ymin = 0, ymax = 9)\n",
    "plt.vlines(x = point_est_mean, ymin = 0, ymax = 10, color = \"red\")\n",
    "plt.fill_between(x, y, where = ((x > right) | (x < left)), color = \"blue\", alpha = 0.2)\n",
    "plt.annotate(\"2.5%\", xy = (-0.1, 0.2), fontsize = 15)\n",
    "plt.annotate(\"2.5%\", xy = (0.09, 0.2), fontsize = 15)\n",
    "plt.annotate(\"Reject H0!\\n2017 Returns are not equal to 0%!\", xy = (-0.2, 6.5), fontsize = 20)\n",
    "plt.annotate(\"H0: Mean = 0%\", xy = (0.005, 3), fontsize = 15)\n",
    "plt.annotate(\"Point Estimate\", xy = (0.2, 5), color = \"red\",fontsize = 15)\n",
    "plt.grid()\n",
    "plt.title(\"t-Test (two-sided)\", fontsize = 20)\n",
    "plt.ylabel(\"pdf\", fontsize = 15)\n",
    "plt.legend(fontsize = 15)\n",
    "plt.show()"
   ]
  },
  {
   "cell_type": "code",
   "execution_count": null,
   "metadata": {},
   "outputs": [],
   "source": [
    "t_stat = (point_est_mean - H0) / standard_error"
   ]
  },
  {
   "cell_type": "code",
   "execution_count": null,
   "metadata": {},
   "outputs": [],
   "source": [
    "t_stat"
   ]
  },
  {
   "cell_type": "code",
   "execution_count": null,
   "metadata": {},
   "outputs": [],
   "source": [
    "p_value = 2 * stats.t.cdf(-abs(t_stat), df = sample_size - 1)"
   ]
  },
  {
   "cell_type": "code",
   "execution_count": null,
   "metadata": {},
   "outputs": [],
   "source": [
    "p_value"
   ]
  },
  {
   "cell_type": "code",
   "execution_count": null,
   "metadata": {},
   "outputs": [],
   "source": [
    "format(p_value, \".10f\")"
   ]
  },
  {
   "cell_type": "code",
   "execution_count": null,
   "metadata": {},
   "outputs": [],
   "source": [
    "stats.ttest_1samp(sample, H0)"
   ]
  },
  {
   "cell_type": "code",
   "execution_count": null,
   "metadata": {},
   "outputs": [],
   "source": [
    "t_stat, p_value = stats.ttest_1samp(sample, H0)"
   ]
  },
  {
   "cell_type": "code",
   "execution_count": null,
   "metadata": {},
   "outputs": [],
   "source": [
    "t_stat"
   ]
  },
  {
   "cell_type": "code",
   "execution_count": null,
   "metadata": {},
   "outputs": [],
   "source": [
    "p_value"
   ]
  },
  {
   "cell_type": "code",
   "execution_count": null,
   "metadata": {},
   "outputs": [],
   "source": []
  },
  {
   "cell_type": "markdown",
   "metadata": {},
   "source": [
    "### One-sided t-test"
   ]
  },
  {
   "cell_type": "code",
   "execution_count": null,
   "metadata": {},
   "outputs": [],
   "source": [
    "import numpy as np\n",
    "import scipy.stats as stats\n",
    "import matplotlib.pyplot as plt"
   ]
  },
  {
   "cell_type": "markdown",
   "metadata": {},
   "source": [
    "You have a random sample with 50 stocks/companies and their annual returns for the year 2017 (__sample size = 50__). Test on a __5% level of significance__, whether the (equally-weighted) mean return for the whole S&P 500 population for the year 2017 is __equal to or less than 15%__ (H0). Assume a sample mean of 25.32% and a sample standard deviation of 30.50%. Calculate the t-statistic and the p-value of your test."
   ]
  },
  {
   "cell_type": "markdown",
   "metadata": {},
   "source": [
    "__H0:__ The mean return is equal to or less than 15%. <br> \n",
    "__Ha:__ The mean return is greater than 15%."
   ]
  },
  {
   "cell_type": "code",
   "execution_count": null,
   "metadata": {},
   "outputs": [],
   "source": [
    "sample = np.loadtxt(\"sample.csv\", delimiter = \",\", usecols = 1)"
   ]
  },
  {
   "cell_type": "code",
   "execution_count": null,
   "metadata": {},
   "outputs": [],
   "source": [
    "sample"
   ]
  },
  {
   "cell_type": "code",
   "execution_count": null,
   "metadata": {},
   "outputs": [],
   "source": [
    "sample_size = sample.size\n",
    "sample.size"
   ]
  },
  {
   "cell_type": "code",
   "execution_count": null,
   "metadata": {},
   "outputs": [],
   "source": [
    "point_est_mean = sample.mean()\n",
    "point_est_mean"
   ]
  },
  {
   "cell_type": "code",
   "execution_count": null,
   "metadata": {},
   "outputs": [],
   "source": [
    "standard_error = sample.std(ddof = 1) / np.sqrt(sample_size)\n",
    "standard_error"
   ]
  },
  {
   "cell_type": "code",
   "execution_count": null,
   "metadata": {},
   "outputs": [],
   "source": [
    "H0 = 0.15"
   ]
  },
  {
   "cell_type": "code",
   "execution_count": null,
   "metadata": {},
   "outputs": [],
   "source": [
    "t_stat = (point_est_mean - H0) / standard_error"
   ]
  },
  {
   "cell_type": "code",
   "execution_count": null,
   "metadata": {},
   "outputs": [],
   "source": [
    "t_stat"
   ]
  },
  {
   "cell_type": "code",
   "execution_count": null,
   "metadata": {},
   "outputs": [],
   "source": [
    "p_value = stats.t.cdf(-abs(t_stat), df = sample_size - 1)"
   ]
  },
  {
   "cell_type": "code",
   "execution_count": null,
   "metadata": {},
   "outputs": [],
   "source": [
    "p_value"
   ]
  },
  {
   "cell_type": "code",
   "execution_count": null,
   "metadata": {},
   "outputs": [],
   "source": [
    "stats.ttest_1samp(sample, H0)"
   ]
  },
  {
   "cell_type": "code",
   "execution_count": null,
   "metadata": {},
   "outputs": [],
   "source": []
  },
  {
   "cell_type": "markdown",
   "metadata": {},
   "source": [
    "### Hypothesis Testing with Bootstrapping"
   ]
  },
  {
   "cell_type": "code",
   "execution_count": null,
   "metadata": {},
   "outputs": [],
   "source": [
    "import numpy as np\n",
    "import scipy.stats as stats\n",
    "import matplotlib.pyplot as plt"
   ]
  },
  {
   "cell_type": "markdown",
   "metadata": {},
   "source": [
    "The S&P 500, or just the S&P, is a stock market index that measures the stock performance of 500 large companies listed on stock exchanges in the United States. The S&P 500 is a capitalization-weighted index and the performance of the 10 largest companies in the index account for 21.8% of the performance of the index. <br> <br>\n",
    "You have a random sample with 50 stocks/companies and their annual returns for the year 2017 (__sample size = 50__). <br>Test on a __5% level of significance__, whether the (equally-weighted) mean return for the whole S&P 500 population for the year 2017 is __equal to 15%__ or not. Calculate the t-statistic and the p-value of your test.<br> <br>  Assume a __sample mean of 25.32%__ and a __sample standard deviation of 30.50%__.  "
   ]
  },
  {
   "cell_type": "markdown",
   "metadata": {},
   "source": [
    "__H0:__ The mean return is equal to 15%. <br> \n",
    "__Ha:__ The mean return is unequal to 15%."
   ]
  },
  {
   "cell_type": "code",
   "execution_count": null,
   "metadata": {},
   "outputs": [],
   "source": [
    "H0 = 0.15"
   ]
  },
  {
   "cell_type": "code",
   "execution_count": null,
   "metadata": {},
   "outputs": [],
   "source": [
    "sample = np.loadtxt(\"sample.csv\", delimiter = \",\", usecols = 1)"
   ]
  },
  {
   "cell_type": "code",
   "execution_count": null,
   "metadata": {},
   "outputs": [],
   "source": [
    "sample"
   ]
  },
  {
   "cell_type": "code",
   "execution_count": null,
   "metadata": {},
   "outputs": [],
   "source": [
    "sample_size = sample.size\n",
    "sample.size"
   ]
  },
  {
   "cell_type": "code",
   "execution_count": null,
   "metadata": {},
   "outputs": [],
   "source": [
    "point_est_mean = sample.mean()\n",
    "point_est_mean"
   ]
  },
  {
   "cell_type": "code",
   "execution_count": null,
   "metadata": {},
   "outputs": [],
   "source": [
    "sims = 1000000"
   ]
  },
  {
   "cell_type": "code",
   "execution_count": null,
   "metadata": {},
   "outputs": [],
   "source": [
    "np.random.seed(111)\n",
    "bootstrap = []\n",
    "for i in range(sims):\n",
    "    bootstrap.append(np.random.choice(sample, size = sample_size, replace = True).mean())"
   ]
  },
  {
   "cell_type": "code",
   "execution_count": null,
   "metadata": {},
   "outputs": [],
   "source": [
    "bootstrap"
   ]
  },
  {
   "cell_type": "code",
   "execution_count": null,
   "metadata": {},
   "outputs": [],
   "source": [
    "len(bootstrap)"
   ]
  },
  {
   "cell_type": "code",
   "execution_count": null,
   "metadata": {},
   "outputs": [],
   "source": [
    "plt.figure(figsize = (12, 8))\n",
    "plt.hist(bootstrap, bins = 1000)\n",
    "plt.grid()\n",
    "plt.ylabel(\"Absolute Frequency\", fontsize = 13)\n",
    "plt.xlabel(\"Mean Return\", fontsize = 13)\n",
    "plt.show()"
   ]
  },
  {
   "cell_type": "code",
   "execution_count": null,
   "metadata": {},
   "outputs": [],
   "source": [
    "bootstrap_a = np.array(bootstrap)"
   ]
  },
  {
   "cell_type": "code",
   "execution_count": null,
   "metadata": {},
   "outputs": [],
   "source": [
    "bootstrap_mean = bootstrap_a.mean()\n",
    "bootstrap_mean"
   ]
  },
  {
   "cell_type": "code",
   "execution_count": null,
   "metadata": {},
   "outputs": [],
   "source": [
    "bootstrap_shifted = bootstrap_a - bootstrap_mean + H0"
   ]
  },
  {
   "cell_type": "code",
   "execution_count": null,
   "metadata": {},
   "outputs": [],
   "source": [
    "bootstrap_shifted"
   ]
  },
  {
   "cell_type": "code",
   "execution_count": null,
   "metadata": {},
   "outputs": [],
   "source": [
    "bootstrap_shifted.mean()"
   ]
  },
  {
   "cell_type": "code",
   "execution_count": null,
   "metadata": {},
   "outputs": [],
   "source": [
    "plt.figure(figsize = (12, 8))\n",
    "plt.hist(bootstrap_shifted, bins = 1000)\n",
    "plt.grid()\n",
    "plt.ylabel(\"Absolute Frequency\", fontsize = 13)\n",
    "plt.xlabel(\"Mean Return\", fontsize = 13)\n",
    "plt.show()"
   ]
  },
  {
   "cell_type": "code",
   "execution_count": null,
   "metadata": {},
   "outputs": [],
   "source": [
    "(bootstrap_shifted >= point_est_mean).mean()"
   ]
  },
  {
   "cell_type": "code",
   "execution_count": null,
   "metadata": {},
   "outputs": [],
   "source": [
    "p_value = 2 * (bootstrap_shifted >= point_est_mean).mean()\n",
    "p_value"
   ]
  },
  {
   "cell_type": "code",
   "execution_count": null,
   "metadata": {},
   "outputs": [],
   "source": [
    "import scipy.stats as stats"
   ]
  },
  {
   "cell_type": "code",
   "execution_count": null,
   "metadata": {},
   "outputs": [],
   "source": [
    "stats.ttest_1samp(sample, H0)"
   ]
  },
  {
   "cell_type": "code",
   "execution_count": null,
   "metadata": {},
   "outputs": [],
   "source": []
  },
  {
   "cell_type": "markdown",
   "metadata": {},
   "source": [
    "### Tests for Normality of Returns"
   ]
  },
  {
   "cell_type": "code",
   "execution_count": null,
   "metadata": {},
   "outputs": [],
   "source": [
    "import numpy as np\n",
    "import scipy.stats as stats\n",
    "import matplotlib.pyplot as plt \n",
    "np.set_printoptions(precision=2, suppress= True)"
   ]
  },
  {
   "cell_type": "code",
   "execution_count": null,
   "metadata": {},
   "outputs": [],
   "source": [
    "pop = np.loadtxt(\"SP500_pop.csv\", delimiter = \",\", usecols = 1)"
   ]
  },
  {
   "cell_type": "code",
   "execution_count": null,
   "metadata": {
    "scrolled": true
   },
   "outputs": [],
   "source": [
    "pop"
   ]
  },
  {
   "cell_type": "code",
   "execution_count": null,
   "metadata": {},
   "outputs": [],
   "source": [
    "plt.figure(figsize = (12, 8))\n",
    "plt.hist(pop, bins = 75)\n",
    "plt.title(\"Absolute Frequencies - Population\", fontsize = 20)\n",
    "plt.xlabel(\"Stock Returns 2017 (in %)\", fontsize = 15)\n",
    "plt.ylabel(\"Absolute Frequency\", fontsize = 15)\n",
    "plt.show()"
   ]
  },
  {
   "cell_type": "code",
   "execution_count": null,
   "metadata": {},
   "outputs": [],
   "source": [
    "pop.mean()"
   ]
  },
  {
   "cell_type": "code",
   "execution_count": null,
   "metadata": {},
   "outputs": [],
   "source": [
    "pop.std()"
   ]
  },
  {
   "cell_type": "code",
   "execution_count": null,
   "metadata": {},
   "outputs": [],
   "source": [
    "stats.skew(pop)"
   ]
  },
  {
   "cell_type": "code",
   "execution_count": null,
   "metadata": {},
   "outputs": [],
   "source": [
    "stats.kurtosis(pop)"
   ]
  },
  {
   "cell_type": "code",
   "execution_count": null,
   "metadata": {},
   "outputs": [],
   "source": [
    "sims = 1000000"
   ]
  },
  {
   "cell_type": "code",
   "execution_count": null,
   "metadata": {},
   "outputs": [],
   "source": [
    "kurtosis = []\n",
    "np.random.seed(123)\n",
    "for i in range(sims):\n",
    "    kurtosis.append(stats.kurtosis(np.random.normal(size = 500)))"
   ]
  },
  {
   "cell_type": "code",
   "execution_count": null,
   "metadata": {},
   "outputs": [],
   "source": [
    "kurtosis"
   ]
  },
  {
   "cell_type": "code",
   "execution_count": null,
   "metadata": {},
   "outputs": [],
   "source": [
    "plt.figure(figsize = (12, 8))\n",
    "plt.hist(kurtosis, bins = 1000)\n",
    "plt.show()"
   ]
  },
  {
   "cell_type": "code",
   "execution_count": null,
   "metadata": {},
   "outputs": [],
   "source": [
    "stats.kurtosistest(pop)"
   ]
  },
  {
   "cell_type": "code",
   "execution_count": null,
   "metadata": {},
   "outputs": [],
   "source": [
    "z_stat, p_value = stats.kurtosistest(pop)"
   ]
  },
  {
   "cell_type": "code",
   "execution_count": null,
   "metadata": {},
   "outputs": [],
   "source": [
    "format(p_value, \".41f\")"
   ]
  },
  {
   "cell_type": "code",
   "execution_count": null,
   "metadata": {},
   "outputs": [],
   "source": [
    "stats.skewtest(pop)"
   ]
  },
  {
   "cell_type": "code",
   "execution_count": null,
   "metadata": {},
   "outputs": [],
   "source": [
    "stats.normaltest(pop)"
   ]
  },
  {
   "cell_type": "code",
   "execution_count": null,
   "metadata": {},
   "outputs": [],
   "source": []
  }
 ],
 "metadata": {
  "kernelspec": {
   "display_name": "Python 3 (ipykernel)",
   "language": "python",
   "name": "python3"
  },
  "language_info": {
   "codemirror_mode": {
    "name": "ipython",
    "version": 3
   },
   "file_extension": ".py",
   "mimetype": "text/x-python",
   "name": "python",
   "nbconvert_exporter": "python",
   "pygments_lexer": "ipython3",
   "version": "3.9.13"
  }
 },
 "nbformat": 4,
 "nbformat_minor": 2
}
