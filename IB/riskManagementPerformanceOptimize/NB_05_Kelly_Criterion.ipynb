{
 "cells": [
  {
   "cell_type": "markdown",
   "id": "pregnant-transcript",
   "metadata": {},
   "source": [
    "# Trading with Leverage and the Kelly Criterion"
   ]
  },
  {
   "cell_type": "markdown",
   "id": "statutory-journey",
   "metadata": {},
   "source": [
    "## Getting started"
   ]
  },
  {
   "cell_type": "code",
   "execution_count": null,
   "id": "loving-harvey",
   "metadata": {},
   "outputs": [],
   "source": [
    "import pandas as pd\n",
    "import numpy as np\n",
    "import matplotlib.pyplot as plt\n",
    "plt.style.use(\"seaborn-v0_8\")"
   ]
  },
  {
   "cell_type": "code",
   "execution_count": null,
   "id": "psychological-weekend",
   "metadata": {},
   "outputs": [],
   "source": [
    "returns = pd.read_csv(\"returns.csv\", index_col = \"Date\", parse_dates = [\"Date\"])"
   ]
  },
  {
   "cell_type": "code",
   "execution_count": null,
   "id": "actual-transmission",
   "metadata": {},
   "outputs": [],
   "source": [
    "returns.info()"
   ]
  },
  {
   "cell_type": "code",
   "execution_count": null,
   "id": "spanish-flush",
   "metadata": {
    "scrolled": false
   },
   "outputs": [],
   "source": [
    "returns.cumsum().apply(np.exp).plot(figsize = (12, 8))\n",
    "plt.show()"
   ]
  },
  {
   "cell_type": "code",
   "execution_count": null,
   "id": "f6ef64d8",
   "metadata": {},
   "outputs": [],
   "source": [
    "simple = np.exp(returns) - 1 # simple returns\n",
    "simple"
   ]
  },
  {
   "cell_type": "code",
   "execution_count": null,
   "id": "77e9d488",
   "metadata": {},
   "outputs": [],
   "source": []
  },
  {
   "cell_type": "markdown",
   "id": "faced-fighter",
   "metadata": {},
   "source": [
    "## Recap:  Leverage and Margin Trading"
   ]
  },
  {
   "cell_type": "code",
   "execution_count": null,
   "id": "0ded69c9",
   "metadata": {},
   "outputs": [],
   "source": [
    "simple"
   ]
  },
  {
   "cell_type": "code",
   "execution_count": null,
   "id": "3226b532",
   "metadata": {},
   "outputs": [],
   "source": [
    "symbol = \"USD_GBP\""
   ]
  },
  {
   "cell_type": "code",
   "execution_count": null,
   "id": "5341e90b",
   "metadata": {},
   "outputs": [],
   "source": [
    "leverage = 2 # equivalent to a margin of 50%"
   ]
  },
  {
   "cell_type": "code",
   "execution_count": null,
   "id": "0766d53b",
   "metadata": {},
   "outputs": [],
   "source": [
    "instr = simple[symbol].to_frame().copy()\n",
    "instr"
   ]
  },
  {
   "cell_type": "code",
   "execution_count": null,
   "id": "a86123d1",
   "metadata": {},
   "outputs": [],
   "source": [
    "instr[\"Lev_Returns\"] = instr[symbol].mul(leverage) # multiply simple returns with leverage\n",
    "instr"
   ]
  },
  {
   "cell_type": "code",
   "execution_count": null,
   "id": "cc013b13",
   "metadata": {},
   "outputs": [],
   "source": [
    "instr[\"Lev_Returns\"] = np.where(instr[\"Lev_Returns\"] < -1, -1, instr[\"Lev_Returns\"]) # loss limited to 100%\n",
    "instr"
   ]
  },
  {
   "cell_type": "code",
   "execution_count": null,
   "id": "691079f0",
   "metadata": {},
   "outputs": [],
   "source": [
    "instr.add(1).cumprod().plot(figsize = (15, 8), fontsize = 13)\n",
    "plt.legend(fontsize = 13)\n",
    "plt.show()"
   ]
  },
  {
   "cell_type": "code",
   "execution_count": null,
   "id": "7240c3a8",
   "metadata": {},
   "outputs": [],
   "source": []
  },
  {
   "cell_type": "markdown",
   "id": "3a847ca9",
   "metadata": {},
   "source": [
    "## Finding the optimal degree of Leverage"
   ]
  },
  {
   "cell_type": "code",
   "execution_count": null,
   "id": "aec6394d",
   "metadata": {},
   "outputs": [],
   "source": [
    "simple"
   ]
  },
  {
   "cell_type": "markdown",
   "id": "7bff2cad",
   "metadata": {},
   "source": [
    "We can either use __kelly criterion__ or we just __run the backtest for many different leverage settings__."
   ]
  },
  {
   "cell_type": "code",
   "execution_count": null,
   "id": "violent-imperial",
   "metadata": {},
   "outputs": [],
   "source": [
    "leverage = np.arange(1, 5, 0.01)\n",
    "leverage"
   ]
  },
  {
   "cell_type": "code",
   "execution_count": null,
   "id": "hired-syndication",
   "metadata": {},
   "outputs": [],
   "source": [
    "multiple = []\n",
    "for lever in leverage:\n",
    "    levered_returns = simple[symbol].mul(lever)\n",
    "    levered_returns = pd.Series(np.where(levered_returns < -1, -1, levered_returns))\n",
    "    multiple.append(levered_returns.add(1).prod())\n",
    "results = pd.DataFrame(data = {\"Leverage\":list(leverage), \"Multiple\":multiple})"
   ]
  },
  {
   "cell_type": "code",
   "execution_count": null,
   "id": "detected-department",
   "metadata": {},
   "outputs": [],
   "source": [
    "results.set_index(\"Leverage\", inplace = True)"
   ]
  },
  {
   "cell_type": "code",
   "execution_count": null,
   "id": "571e85e3",
   "metadata": {},
   "outputs": [],
   "source": [
    "results"
   ]
  },
  {
   "cell_type": "code",
   "execution_count": null,
   "id": "rental-auckland",
   "metadata": {},
   "outputs": [],
   "source": [
    "results.min()"
   ]
  },
  {
   "cell_type": "code",
   "execution_count": null,
   "id": "amber-rough",
   "metadata": {},
   "outputs": [],
   "source": [
    "max_multiple = results.max()\n",
    "max_multiple"
   ]
  },
  {
   "cell_type": "code",
   "execution_count": null,
   "id": "91402fb3",
   "metadata": {},
   "outputs": [],
   "source": [
    "optimal_lev = results.idxmax()\n",
    "optimal_lev"
   ]
  },
  {
   "cell_type": "code",
   "execution_count": null,
   "id": "spoken-craps",
   "metadata": {},
   "outputs": [],
   "source": [
    "results.plot(figsize = (12, 8));\n",
    "plt.scatter(x = optimal_lev, y = max_multiple, color = \"r\", s = 50)\n",
    "plt.xlabel(\"Leverage\", fontsize = 13)\n",
    "plt.ylabel(\"Multiple\", fontsize = 13)\n",
    "plt.title(\"The optimal degree of Leverage\", fontsize = 15)\n",
    "plt.show()"
   ]
  },
  {
   "cell_type": "code",
   "execution_count": null,
   "id": "096f51cc",
   "metadata": {},
   "outputs": [],
   "source": []
  },
  {
   "cell_type": "markdown",
   "id": "ahead-premiere",
   "metadata": {},
   "source": [
    "## The Kelly Criterion"
   ]
  },
  {
   "cell_type": "code",
   "execution_count": null,
   "id": "ea7e3a6a",
   "metadata": {},
   "outputs": [],
   "source": [
    "optimal_lev # true/correct value for the optimal leverage"
   ]
  },
  {
   "cell_type": "markdown",
   "id": "9af529eb",
   "metadata": {},
   "source": [
    "The Kelly Criterion closely approaches the true/correct value, if\n",
    "- simple returns are used (Yes)\n",
    "- dataset is sufficiently large (OK)"
   ]
  },
  {
   "cell_type": "code",
   "execution_count": null,
   "id": "19e41f9e",
   "metadata": {},
   "outputs": [],
   "source": [
    "instr = simple[symbol].to_frame().copy()\n",
    "instr"
   ]
  },
  {
   "cell_type": "code",
   "execution_count": null,
   "id": "65a12989",
   "metadata": {},
   "outputs": [],
   "source": [
    "mu = instr.mean() # mean return (simple)\n",
    "mu"
   ]
  },
  {
   "cell_type": "code",
   "execution_count": null,
   "id": "63788a20",
   "metadata": {},
   "outputs": [],
   "source": [
    "var = instr.var() # variance of returns (simple)\n",
    "var"
   ]
  },
  {
   "cell_type": "code",
   "execution_count": null,
   "id": "c2438014",
   "metadata": {},
   "outputs": [],
   "source": [
    "kelly = mu / var\n",
    "kelly"
   ]
  },
  {
   "cell_type": "markdown",
   "id": "bd3ffcb8",
   "metadata": {},
   "source": [
    "-> Good approximation by __Kelly criterion__"
   ]
  },
  {
   "cell_type": "code",
   "execution_count": null,
   "id": "8377b022",
   "metadata": {},
   "outputs": [],
   "source": []
  },
  {
   "cell_type": "markdown",
   "id": "03037d7d",
   "metadata": {},
   "source": [
    "## The impact of Leverage on Reward & Risk"
   ]
  },
  {
   "cell_type": "code",
   "execution_count": null,
   "id": "05c7875b",
   "metadata": {},
   "outputs": [],
   "source": [
    "simple # simple returns"
   ]
  },
  {
   "cell_type": "markdown",
   "id": "f9bdfbb2",
   "metadata": {},
   "source": [
    "__Reward: 1) Mean of Simple Returns__"
   ]
  },
  {
   "cell_type": "code",
   "execution_count": null,
   "id": "aa9908d6",
   "metadata": {},
   "outputs": [],
   "source": [
    "leverage = np.arange(1, 5, 0.01)"
   ]
  },
  {
   "cell_type": "code",
   "execution_count": null,
   "id": "d3dba6cc",
   "metadata": {},
   "outputs": [],
   "source": [
    "mu = []\n",
    "sigma = []\n",
    "sharpe = []\n",
    "for lever in leverage:\n",
    "    levered_returns = simple[symbol].mul(lever)\n",
    "    levered_returns = pd.Series(np.where(levered_returns < -1, -1, levered_returns))\n",
    "    mu.append(levered_returns.mean()) # mean of simple returns\n",
    "    sigma.append(levered_returns.std())\n",
    "    sharpe.append(levered_returns.mean() / levered_returns.std())\n",
    "results = pd.DataFrame(data = {\"Leverage\":list(leverage), \"Mean\": mu, \"Std\": sigma, \"Sharpe\": sharpe})"
   ]
  },
  {
   "cell_type": "code",
   "execution_count": null,
   "id": "6140689f",
   "metadata": {},
   "outputs": [],
   "source": [
    "results.set_index(\"Leverage\", inplace = True)"
   ]
  },
  {
   "cell_type": "code",
   "execution_count": null,
   "id": "2ba46460",
   "metadata": {},
   "outputs": [],
   "source": [
    "results"
   ]
  },
  {
   "cell_type": "code",
   "execution_count": null,
   "id": "df4d702c",
   "metadata": {},
   "outputs": [],
   "source": [
    "results.plot(subplots = True, figsize = (12, 8), fontsize = 12);\n",
    "plt.show()"
   ]
  },
  {
   "cell_type": "markdown",
   "id": "2a744b22",
   "metadata": {},
   "source": [
    "__Mean of simple Returns is steadily increasing with higher leverage -> misleading__"
   ]
  },
  {
   "cell_type": "markdown",
   "id": "2509b9a9",
   "metadata": {},
   "source": [
    "__Sharpe Ratio remains constant -> misleading__"
   ]
  },
  {
   "cell_type": "code",
   "execution_count": null,
   "id": "cb9643e4",
   "metadata": {},
   "outputs": [],
   "source": []
  },
  {
   "cell_type": "markdown",
   "id": "bfc23c68",
   "metadata": {},
   "source": [
    "__Reward: 2) Mean of Log Returns__"
   ]
  },
  {
   "cell_type": "code",
   "execution_count": null,
   "id": "2900f873",
   "metadata": {},
   "outputs": [],
   "source": [
    "leverage = np.arange(1, 5, 0.01)"
   ]
  },
  {
   "cell_type": "code",
   "execution_count": null,
   "id": "d2897f88",
   "metadata": {},
   "outputs": [],
   "source": [
    "mu = []\n",
    "sigma = []\n",
    "sharpe = []\n",
    "for lever in leverage:\n",
    "    levered_returns = simple[symbol].mul(lever)\n",
    "    levered_returns = pd.Series(np.where(levered_returns < -1, -1, levered_returns))\n",
    "    levered_returns = np.log(levered_returns + 1) # convert to log returns\n",
    "    mu.append(levered_returns.mean()) # mean of log returns\n",
    "    sigma.append(levered_returns.std())\n",
    "    sharpe.append(levered_returns.mean() / levered_returns.std())\n",
    "results = pd.DataFrame(data = {\"Leverage\":list(leverage), \"Mean\": mu, \"Std\": sigma, \"Sharpe\": sharpe})"
   ]
  },
  {
   "cell_type": "code",
   "execution_count": null,
   "id": "78776090",
   "metadata": {},
   "outputs": [],
   "source": [
    "results.set_index(\"Leverage\", inplace = True)"
   ]
  },
  {
   "cell_type": "code",
   "execution_count": null,
   "id": "d2d2a4e8",
   "metadata": {},
   "outputs": [],
   "source": [
    "results"
   ]
  },
  {
   "cell_type": "code",
   "execution_count": null,
   "id": "ec30b325",
   "metadata": {},
   "outputs": [],
   "source": [
    "results.plot(subplots = True, figsize = (12, 8), fontsize = 12);\n",
    "plt.show()"
   ]
  },
  {
   "cell_type": "markdown",
   "id": "8ee17a68",
   "metadata": {},
   "source": [
    "- __Maximum Return @ Kelly__\n",
    "- __Sharpe Ratio steadily decreasing with higher leverage__.\n",
    "- __Leverage amplifies losses more than it amplifies gains__.\n",
    "- __Don´t use leverage if your goal is to maximize risk-adjusted return__\n",
    "- __If you want to increase return/income with leverage -> Trade-off__\n",
    "- __Rule of Thumb: Leverage shouldn´t be higher than \"Half Kelly\".__ "
   ]
  },
  {
   "cell_type": "code",
   "execution_count": null,
   "id": "c5cba819",
   "metadata": {},
   "outputs": [],
   "source": []
  },
  {
   "cell_type": "markdown",
   "id": "organizational-indie",
   "metadata": {},
   "source": [
    "## Putting everything together"
   ]
  },
  {
   "cell_type": "code",
   "execution_count": null,
   "id": "6fae042d",
   "metadata": {},
   "outputs": [],
   "source": [
    "import pandas as pd\n",
    "import numpy as np\n",
    "import matplotlib.pyplot as plt\n",
    "plt.style.use(\"seaborn-v0_8\")"
   ]
  },
  {
   "cell_type": "code",
   "execution_count": null,
   "id": "c8de91ac",
   "metadata": {},
   "outputs": [],
   "source": [
    "returns = pd.read_csv(\"returns.csv\", index_col = \"Date\", parse_dates = [\"Date\"])\n",
    "returns"
   ]
  },
  {
   "cell_type": "code",
   "execution_count": null,
   "id": "looking-festival",
   "metadata": {},
   "outputs": [],
   "source": [
    "def kelly_criterion(series): # assuming series with log returns\n",
    "    \n",
    "    series = np.exp(series) - 1\n",
    "    if series.var() == 0:\n",
    "        return np.nan\n",
    "    else:\n",
    "        return series.mean() / series.var()"
   ]
  },
  {
   "cell_type": "code",
   "execution_count": null,
   "id": "increasing-packaging",
   "metadata": {},
   "outputs": [],
   "source": [
    "returns.apply(kelly_criterion).sort_values(ascending = False)"
   ]
  },
  {
   "cell_type": "code",
   "execution_count": null,
   "id": "ddaaa503",
   "metadata": {},
   "outputs": [],
   "source": [
    "kelly_criterion(returns.Low_Vol)"
   ]
  },
  {
   "cell_type": "markdown",
   "id": "928483ac",
   "metadata": {},
   "source": [
    "Side Note: For \"Low_Vol\", Kelly is not a good approximation because:\n",
    "- majority of daily returns is zero (neutral)\n",
    "- only very few \"real\" observations (non-normal)"
   ]
  },
  {
   "cell_type": "code",
   "execution_count": null,
   "id": "fbf1c576",
   "metadata": {},
   "outputs": [],
   "source": [
    "returns.Low_Vol.value_counts()"
   ]
  },
  {
   "cell_type": "markdown",
   "id": "4e96bfd2",
   "metadata": {},
   "source": [
    "Bonus Question: What´s the correct/true optimal degree of leverage for \"Low_Vol\"?"
   ]
  },
  {
   "cell_type": "code",
   "execution_count": null,
   "id": "ebf7877d",
   "metadata": {},
   "outputs": [],
   "source": []
  },
  {
   "cell_type": "markdown",
   "id": "19bf4e50",
   "metadata": {},
   "source": [
    "------------------------"
   ]
  },
  {
   "cell_type": "markdown",
   "id": "99c5eb1f",
   "metadata": {},
   "source": [
    "## Coding Challenge"
   ]
  },
  {
   "cell_type": "markdown",
   "id": "44bf0c35",
   "metadata": {},
   "source": [
    "__Calculate and compare__ the __Kelly Criterion__ for __30 large US stocks__ that currently form the Dow Jones Industrial Average Index (\"Dow Jones\") for the time period between April 2019 and June 2021."
   ]
  },
  {
   "cell_type": "markdown",
   "id": "9a615465",
   "metadata": {},
   "source": [
    "__Hint:__ You can __import__ the price data from __\"Dow_Jones.csv\"__."
   ]
  },
  {
   "cell_type": "markdown",
   "id": "83e1231e",
   "metadata": {},
   "source": [
    "Determine the Stock with the __highest and lowest Kelly Criterion__."
   ]
  },
  {
   "cell_type": "markdown",
   "id": "ef4b8a09",
   "metadata": {},
   "source": [
    "(Remark: Dividends are ignored here. Hence, for simplicity reasons, the Kelly Criterion is based on Price Returns only. As a consequence, dividend-paying stocks are getting penalized.) "
   ]
  },
  {
   "cell_type": "markdown",
   "id": "21e6fa29",
   "metadata": {},
   "source": [
    "## +++ Please stop here in case you don´t want to see the solution!!! +++++"
   ]
  },
  {
   "cell_type": "code",
   "execution_count": null,
   "id": "739ead09",
   "metadata": {},
   "outputs": [],
   "source": []
  },
  {
   "cell_type": "code",
   "execution_count": null,
   "id": "f5e38f72",
   "metadata": {},
   "outputs": [],
   "source": []
  },
  {
   "cell_type": "code",
   "execution_count": null,
   "id": "9962bbec",
   "metadata": {},
   "outputs": [],
   "source": []
  },
  {
   "cell_type": "code",
   "execution_count": null,
   "id": "b9ffa54d",
   "metadata": {},
   "outputs": [],
   "source": [
    "import pandas as pd\n",
    "import numpy as np"
   ]
  },
  {
   "cell_type": "code",
   "execution_count": null,
   "id": "1f8391b9",
   "metadata": {},
   "outputs": [],
   "source": [
    "df = pd.read_csv(\"Dow_Jones.csv\", index_col = \"Date\", parse_dates = [\"Date\"])\n",
    "df"
   ]
  },
  {
   "cell_type": "code",
   "execution_count": null,
   "id": "b12741d1",
   "metadata": {},
   "outputs": [],
   "source": [
    "returns = np.log(df / df.shift()) # log returns\n",
    "returns"
   ]
  },
  {
   "cell_type": "code",
   "execution_count": null,
   "id": "ac752b18",
   "metadata": {},
   "outputs": [],
   "source": [
    "def kelly_criterion(series):\n",
    "    \n",
    "    series = np.exp(series) - 1\n",
    "    if series.var() == 0:\n",
    "        return np.nan\n",
    "    else:\n",
    "        return series.mean() / series.var()"
   ]
  },
  {
   "cell_type": "code",
   "execution_count": null,
   "id": "9db8d47a",
   "metadata": {
    "scrolled": false
   },
   "outputs": [],
   "source": [
    "returns.apply(kelly_criterion).sort_values(ascending = False)"
   ]
  },
  {
   "cell_type": "markdown",
   "id": "29175242",
   "metadata": {},
   "source": [
    "-> highest Kelly: AAPL, Lowest Kelly: BA"
   ]
  },
  {
   "cell_type": "code",
   "execution_count": null,
   "id": "4c98074c",
   "metadata": {},
   "outputs": [],
   "source": []
  }
 ],
 "metadata": {
  "kernelspec": {
   "display_name": "Python 3 (ipykernel)",
   "language": "python",
   "name": "python3"
  },
  "language_info": {
   "codemirror_mode": {
    "name": "ipython",
    "version": 3
   },
   "file_extension": ".py",
   "mimetype": "text/x-python",
   "name": "python",
   "nbconvert_exporter": "python",
   "pygments_lexer": "ipython3",
   "version": "3.9.13"
  }
 },
 "nbformat": 4,
 "nbformat_minor": 5
}
