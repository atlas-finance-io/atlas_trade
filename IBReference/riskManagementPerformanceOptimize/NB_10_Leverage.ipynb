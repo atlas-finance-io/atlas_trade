{
 "cells": [
  {
   "cell_type": "markdown",
   "id": "3f8aa5be",
   "metadata": {},
   "source": [
    "# Leverage & Margin Trading"
   ]
  },
  {
   "cell_type": "markdown",
   "id": "7e5a93c4",
   "metadata": {},
   "source": [
    "## Getting started"
   ]
  },
  {
   "cell_type": "code",
   "execution_count": null,
   "id": "ae36a9a0",
   "metadata": {},
   "outputs": [],
   "source": [
    "import pandas as pd\n",
    "import numpy as np\n",
    "import matplotlib.pyplot as plt\n",
    "from itertools import product\n",
    "import seaborn as sns\n",
    "plt.style.use(\"seaborn-v0_8\")"
   ]
  },
  {
   "cell_type": "code",
   "execution_count": null,
   "id": "0a1d2d65",
   "metadata": {},
   "outputs": [],
   "source": [
    "# Version 5.1 (Stop Loss & Take Profit)\n",
    "\n",
    "class ConBacktester():\n",
    "    ''' Class for the vectorized backtesting of simple contrarian trading strategies.\n",
    "    \n",
    "    Attributes\n",
    "    ============\n",
    "    filepath: str\n",
    "        local filepath of the dataset (csv-file)\n",
    "    symbol: str\n",
    "        ticker symbol (instrument) to be backtested\n",
    "    start: str\n",
    "        start date for data import\n",
    "    end: str\n",
    "        end date for data import\n",
    "    tc: float\n",
    "        proportional trading costs per trade\n",
    "    \n",
    "    \n",
    "    Methods\n",
    "    =======\n",
    "    get_data:\n",
    "        imports the data.\n",
    "        \n",
    "    test_strategy:\n",
    "        prepares the data and backtests the trading strategy incl. reporting (wrapper).\n",
    "        \n",
    "    prepare_data:\n",
    "        prepares the data for backtesting.\n",
    "    \n",
    "    run_backtest:\n",
    "        runs the strategy backtest.\n",
    "        \n",
    "    upsample:\n",
    "        upsamples/copies trading positions back to higher frequency.\n",
    "        \n",
    "    plot_results:\n",
    "        plots the cumulative performance of the trading strategy compared to buy-and-hold.\n",
    "        \n",
    "    optimize_strategy:\n",
    "        backtests strategy for different parameter values incl. optimization and reporting (wrapper).\n",
    "    \n",
    "    find_best_strategy:\n",
    "        finds the optimal strategy (global maximum) given the parameter ranges.\n",
    "        \n",
    "    visualize_many:\n",
    "        plots parameter values vs. performance. \n",
    "        \n",
    "    add_sessions:\n",
    "        adds/labels trading sessions and their compound returns.\n",
    "    \n",
    "    add_stop_loss:\n",
    "        adds stop loss to the strategy.\n",
    "    \n",
    "    add_take_profit: \n",
    "        adds take profit to the strategy.\n",
    "        \n",
    "    print_performance:\n",
    "        calculates and prints various performance metrics.\n",
    "        \n",
    "    '''    \n",
    "    \n",
    "    def __init__(self, filepath, symbol, start, end, tc):\n",
    "        \n",
    "        self.filepath = filepath\n",
    "        self.symbol = symbol\n",
    "        self.start = start\n",
    "        self.end = end\n",
    "        self.tc = tc\n",
    "        self.results = None\n",
    "        self.get_data()\n",
    "        self.tp_year = (self.data.price.count() / ((self.data.index[-1] - self.data.index[0]).days / 365.25))\n",
    "        \n",
    "    def __repr__(self):\n",
    "        return \"ConBacktester(symbol = {}, start = {}, end = {})\".format(self.symbol, self.start, self.end)\n",
    "        \n",
    "    def get_data(self):\n",
    "        ''' Imports the data.\n",
    "        '''\n",
    "        raw = pd.read_csv(self.filepath, parse_dates = [\"time\"], index_col = \"time\")\n",
    "        raw = raw[self.symbol].to_frame().fillna(method = \"ffill\")\n",
    "        raw = raw.loc[self.start:self.end].copy()\n",
    "        raw.rename(columns={self.symbol: \"price\"}, inplace=True)\n",
    "        raw[\"returns\"] = np.log(raw.price / raw.price.shift(1))\n",
    "        self.data = raw\n",
    "        \n",
    "    def test_strategy(self, freq = 60, window = 1): \n",
    "        '''\n",
    "        Prepares the data and backtests the trading strategy incl. reporting (Wrapper).\n",
    "         \n",
    "        Parameters\n",
    "        ============\n",
    "        freq: int\n",
    "            data frequency/granularity to work with (in minutes)\n",
    "        \n",
    "        window: int\n",
    "            time window (number of bars) to be considered for the strategy.\n",
    "        '''\n",
    "        self.freq = \"{}min\".format(freq) \n",
    "        self.window = window\n",
    "                                \n",
    "        self.prepare_data(freq, window) \n",
    "        self.upsample() \n",
    "        self.run_backtest()\n",
    "        \n",
    "        data = self.results.copy()\n",
    "        data[\"creturns\"] = data[\"returns\"].cumsum().apply(np.exp)\n",
    "        data[\"cstrategy\"] = data[\"strategy\"].cumsum().apply(np.exp)\n",
    "        self.results = data\n",
    "        \n",
    "        self.print_performance()\n",
    "    \n",
    "    def prepare_data(self, freq, window): \n",
    "        ''' Prepares the Data for Backtesting.\n",
    "        '''\n",
    "        data = self.data.price.to_frame().copy()\n",
    "        freq = \"{}min\".format(freq)\n",
    "        resamp = data.resample(freq).last().dropna().iloc[:-1]\n",
    "        resamp[\"returns\"] = np.log(resamp / resamp.shift(1))\n",
    "        resamp[\"roll_return\"] = resamp[\"returns\"].rolling(window).mean()\n",
    "        resamp[\"position\"] = -np.sign(resamp[\"roll_return\"])\n",
    "        resamp.dropna(inplace = True)\n",
    "        self.results = resamp\n",
    "        return resamp \n",
    "    \n",
    "    def run_backtest(self):\n",
    "        ''' Runs the strategy backtest.\n",
    "        '''\n",
    "        \n",
    "        data = self.results.copy()\n",
    "        data[\"strategy\"] = data[\"position\"].shift(1) * data[\"returns\"]\n",
    "        \n",
    "        # determine the number of trades in each bar\n",
    "        data[\"trades\"] = data.position.diff().fillna(0).abs()\n",
    "        \n",
    "        # subtract transaction/trading costs from pre-cost return\n",
    "        data.strategy = data.strategy - data.trades * self.tc\n",
    "        \n",
    "        self.results = data\n",
    "        \n",
    "    def upsample(self):\n",
    "        '''  Upsamples/copies trading positions back to higher frequency.\n",
    "        '''\n",
    "        \n",
    "        data = self.data.copy()\n",
    "        resamp = self.results.copy()\n",
    "               \n",
    "        data[\"position\"] = resamp.position.shift()\n",
    "        data = data.loc[resamp.index[0]:].copy()\n",
    "        data.position = data.position.shift(-1).ffill()\n",
    "        data.dropna(inplace=True)\n",
    "        self.results = data\n",
    "    \n",
    "    def plot_results(self):\n",
    "        '''  Plots the cumulative performance of the trading strategy compared to buy-and-hold.\n",
    "        '''\n",
    "        if self.results is None:\n",
    "            print(\"Run test_strategy() first.\")\n",
    "        else:\n",
    "            title = \"{} | Freq = {} | Window = {} | TC = {}\".format(self.symbol, self.freq, self.window, self.tc)\n",
    "            self.results[[\"creturns\", \"cstrategy\"]].plot(title=title, figsize=(12, 8))\n",
    "            \n",
    "    def optimize_strategy(self, freq_range, window_range, metric = \"Multiple\"): \n",
    "        '''\n",
    "        Backtests strategy for different parameter values incl. Optimization and Reporting (Wrapper).\n",
    "         \n",
    "        Parameters\n",
    "        ============\n",
    "        freq_range: tuple\n",
    "            tuples of the form (start, end, step size).\n",
    "        \n",
    "        window_range: tuple\n",
    "            tuples of the form (start, end, step size).\n",
    "        \n",
    "        metric: str\n",
    "            performance metric to be optimized (can be: \"Multiple\", \"Sharpe\", \"Sortino\", \"Calmar\", \"Kelly\")\n",
    "        '''\n",
    "        \n",
    "        self.metric = metric\n",
    "        \n",
    "        if metric == \"Multiple\":\n",
    "            performance_function = self.calculate_multiple\n",
    "        elif metric == \"Sharpe\":\n",
    "            performance_function = self.calculate_sharpe\n",
    "        elif metric == \"Sortino\":\n",
    "            performance_function = self.calculate_sortino\n",
    "        elif metric == \"Calmar\": \n",
    "            performance_function = self.calculate_calmar\n",
    "        elif metric == \"Kelly\": \n",
    "            performance_function = self.calculate_kelly_criterion\n",
    "        \n",
    "        freqs = range(*freq_range)  \n",
    "        windows = range(*window_range)\n",
    "        \n",
    "        combinations = list(product(freqs, windows)) \n",
    "        \n",
    "        performance = []\n",
    "        for comb in combinations: \n",
    "            self.prepare_data(comb[0], comb[1])\n",
    "            self.upsample()\n",
    "            self.run_backtest()\n",
    "            performance.append(performance_function(self.results.strategy))\n",
    "    \n",
    "        self.results_overview =  pd.DataFrame(data = np.array(combinations), columns = [\"Freq\", \"Windows\"])\n",
    "        self.results_overview[\"Performance\"] = performance\n",
    "        self.find_best_strategy()\n",
    "        \n",
    "    def find_best_strategy(self):\n",
    "        ''' Finds the optimal strategy (global maximum) given the parameter ranges.\n",
    "        '''\n",
    "        best = self.results_overview.nlargest(1, \"Performance\")\n",
    "        freq = best.Freq.iloc[0] \n",
    "        window = best.Windows.iloc[0]\n",
    "        perf = best.Performance.iloc[0]\n",
    "        print(\"Frequency: {} | Windows: {} | {}: {}\".format(freq, window, self.metric, round(perf, 6))) \n",
    "        self.test_strategy(freq, window) \n",
    "        \n",
    "    def visualize_many(self):\n",
    "        ''' Plots parameter values vs. Performance.\n",
    "        '''\n",
    "\n",
    "        if self.results_overview is None:\n",
    "            print(\"Run optimize_strategy() first.\")\n",
    "        else: \n",
    "            matrix = self.results_overview.pivot(index = \"Freq\", columns = \"Windows\", values = \"Performance\")\n",
    "            \n",
    "            plt.figure(figsize=(12,8))\n",
    "            sns.set_theme(font_scale=1.5)\n",
    "            sns.heatmap(matrix, cmap = \"RdYlGn\", robust = True, cbar_kws = {\"label\": \"{}\".format(self.metric)})\n",
    "            plt.show()\n",
    "            \n",
    "    def add_sessions(self, visualize = False):\n",
    "        ''' \n",
    "        Adds/Labels Trading Sessions and their compound returns.\n",
    "        \n",
    "        Parameter\n",
    "        ============\n",
    "        visualize: bool, default False\n",
    "            if True, visualize compound session returns over time\n",
    "        '''\n",
    "        \n",
    "        if self.results is None:\n",
    "            print(\"Run test_strategy() first.\")\n",
    "            \n",
    "        data = self.results.copy()\n",
    "        data[\"session\"] = np.sign(data.trades).cumsum().shift().fillna(0)\n",
    "        data[\"session_compound\"] = data.groupby(\"session\").strategy.cumsum().apply(np.exp) - 1\n",
    "        self.results = data\n",
    "        if visualize:\n",
    "            data[\"session_compound\"].plot(figsize = (12, 8))\n",
    "            plt.show()\n",
    "    \n",
    "    def add_stop_loss(self, sl_thresh, report = True): \n",
    "        ''' \n",
    "        Adds Stop Loss to the Strategy.\n",
    "        \n",
    "        Parameter\n",
    "        ============\n",
    "        sl_thresh: float (negative)\n",
    "            maximum loss level in % (e.g. -0.02 for -2%)\n",
    "        \n",
    "        report: bool, default True\n",
    "            if True, print Performance Report incl. Stop Loss. \n",
    "        '''\n",
    "        \n",
    "        self.sl_thresh = sl_thresh\n",
    "        \n",
    "        if self.results is None:\n",
    "            print(\"Run test_strategy() first.\")\n",
    "        \n",
    "        self.add_sessions()\n",
    "        self.results = self.results.groupby(\"session\", group_keys = False).apply(self.define_sl_pos)\n",
    "        self.run_backtest()\n",
    "        data = self.results.copy()\n",
    "        data[\"creturns\"] = data[\"returns\"].cumsum().apply(np.exp)\n",
    "        data[\"cstrategy\"] = data[\"strategy\"].cumsum().apply(np.exp)\n",
    "        self.results = data\n",
    "        self.add_sessions()\n",
    "        \n",
    "        if report:\n",
    "            self.print_performance()\n",
    "            \n",
    "            \n",
    "    def add_take_profit(self, tp_thresh, report = True):\n",
    "        ''' \n",
    "        Adds Take Profit to the Strategy.\n",
    "        \n",
    "        Parameter\n",
    "        ============\n",
    "        tp_thresh: float (positive)\n",
    "            maximum profit level in % (e.g. 0.02 for 2%)\n",
    "        \n",
    "        report: bool, default True\n",
    "            if True, print Performance Report incl. Take Profit. \n",
    "        '''\n",
    "        self.tp_thresh = tp_thresh\n",
    "        \n",
    "        if self.results is None:\n",
    "            print(\"Run test_strategy() first.\")\n",
    "        \n",
    "        self.add_sessions()\n",
    "        self.results = self.results.groupby(\"session\", group_keys = False).apply(self.define_tp_pos)\n",
    "        self.run_backtest()\n",
    "        data = self.results.copy()\n",
    "        data[\"creturns\"] = data[\"returns\"].cumsum().apply(np.exp)\n",
    "        data[\"cstrategy\"] = data[\"strategy\"].cumsum().apply(np.exp)\n",
    "        self.results = data\n",
    "        self.add_sessions()\n",
    "        \n",
    "        if report:\n",
    "            self.print_performance()\n",
    "        \n",
    "    def define_sl_pos(self, group):\n",
    "        if (group.session_compound <= self.sl_thresh).any():\n",
    "            start = group[group.session_compound <= self.sl_thresh].index[0]\n",
    "            stop = group.index[-2]\n",
    "            group.loc[start:stop, \"position\"] = 0\n",
    "            return group\n",
    "        else:\n",
    "            return group \n",
    "        \n",
    "    def define_tp_pos(self, group):\n",
    "        if (group.session_compound >= self.tp_thresh).any():\n",
    "            start = group[group.session_compound >= self.tp_thresh].index[0]\n",
    "            stop = group.index[-2]\n",
    "            group.loc[start:stop, \"position\"] = 0\n",
    "            return group\n",
    "        else:\n",
    "            return group\n",
    "            \n",
    "    ############################## Performance ######################################\n",
    "    \n",
    "    def print_performance(self):\n",
    "        ''' Calculates and prints various Performance Metrics.\n",
    "        '''\n",
    "        \n",
    "        data = self.results.copy()\n",
    "        strategy_multiple = round(self.calculate_multiple(data.strategy), 6)\n",
    "        bh_multiple =       round(self.calculate_multiple(data.returns), 6)\n",
    "        outperf =           round(strategy_multiple - bh_multiple, 6)\n",
    "        cagr =              round(self.calculate_cagr(data.strategy), 6)\n",
    "        ann_mean =          round(self.calculate_annualized_mean(data.strategy), 6)\n",
    "        ann_std =           round(self.calculate_annualized_std(data.strategy), 6)\n",
    "        sharpe =            round(self.calculate_sharpe(data.strategy), 6)\n",
    "        sortino =           round(self.calculate_sortino(data.strategy), 6)\n",
    "        max_drawdown =      round(self.calculate_max_drawdown(data.strategy), 6)\n",
    "        calmar =            round(self.calculate_calmar(data.strategy), 6)\n",
    "        max_dd_duration =   round(self.calculate_max_dd_duration(data.strategy), 6)\n",
    "        kelly_criterion =   round(self.calculate_kelly_criterion(data.strategy), 6)\n",
    "        \n",
    "        print(100 * \"=\")\n",
    "        print(\"SIMPLE CONTRARIAN STRATEGY | INSTRUMENT = {} | Freq: {} | WINDOW = {}\".format(self.symbol, self.freq, self.window))\n",
    "        print(100 * \"-\")\n",
    "        #print(\"\\n\")\n",
    "        print(\"PERFORMANCE MEASURES:\")\n",
    "        print(\"\\n\")\n",
    "        print(\"Multiple (Strategy):         {}\".format(strategy_multiple))\n",
    "        print(\"Multiple (Buy-and-Hold):     {}\".format(bh_multiple))\n",
    "        print(38 * \"-\")\n",
    "        print(\"Out-/Underperformance:       {}\".format(outperf))\n",
    "        print(\"\\n\")\n",
    "        print(\"CAGR:                        {}\".format(cagr))\n",
    "        print(\"Annualized Mean:             {}\".format(ann_mean))\n",
    "        print(\"Annualized Std:              {}\".format(ann_std))\n",
    "        print(\"Sharpe Ratio:                {}\".format(sharpe))\n",
    "        print(\"Sortino Ratio:               {}\".format(sortino))\n",
    "        print(\"Maximum Drawdown:            {}\".format(max_drawdown))\n",
    "        print(\"Calmar Ratio:                {}\".format(calmar))\n",
    "        print(\"Max Drawdown Duration:       {} Days\".format(max_dd_duration))\n",
    "        print(\"Kelly Criterion:             {}\".format(kelly_criterion))\n",
    "        \n",
    "        print(100 * \"=\")\n",
    "        \n",
    "    def calculate_multiple(self, series):\n",
    "        return np.exp(series.sum())\n",
    "    \n",
    "    def calculate_cagr(self, series):\n",
    "        return np.exp(series.sum())**(1/((series.index[-1] - series.index[0]).days / 365.25)) - 1\n",
    "    \n",
    "    def calculate_annualized_mean(self, series):\n",
    "        return series.mean() * self.tp_year\n",
    "    \n",
    "    def calculate_annualized_std(self, series):\n",
    "        return series.std() * np.sqrt(self.tp_year)\n",
    "    \n",
    "    def calculate_sharpe(self, series):\n",
    "        if series.std() == 0:\n",
    "            return np.nan\n",
    "        else:\n",
    "            return series.mean() / series.std() * np.sqrt(self.tp_year)\n",
    "    \n",
    "    def calculate_sortino(self, series):\n",
    "        excess_returns = (series - 0)\n",
    "        downside_deviation = np.sqrt(np.mean(np.where(excess_returns < 0, excess_returns, 0)**2))\n",
    "        if downside_deviation == 0:\n",
    "            return np.nan\n",
    "        else:\n",
    "            sortino = (series.mean() - 0) / downside_deviation * np.sqrt(self.tp_year)\n",
    "            return sortino \n",
    "    \n",
    "    def calculate_max_drawdown(self, series):\n",
    "        creturns = series.cumsum().apply(np.exp)\n",
    "        cummax = creturns.cummax()\n",
    "        drawdown = (cummax - creturns)/cummax\n",
    "        max_dd = drawdown.max()\n",
    "        return max_dd\n",
    "    \n",
    "    def calculate_calmar(self, series):\n",
    "        max_dd = self.calculate_max_drawdown(series)\n",
    "        if max_dd == 0:\n",
    "            return np.nan\n",
    "        else:\n",
    "            cagr = self.calculate_cagr(series)\n",
    "            calmar = cagr / max_dd\n",
    "            return calmar\n",
    "    \n",
    "    def calculate_max_dd_duration(self, series):\n",
    "        creturns = series.cumsum().apply(np.exp)\n",
    "        cummax = creturns.cummax()\n",
    "        drawdown = (cummax - creturns)/cummax\n",
    "    \n",
    "        begin = drawdown[drawdown == 0].index\n",
    "        end = begin[1:]\n",
    "        end = end.append(pd.DatetimeIndex([drawdown.index[-1]]))\n",
    "        periods = end - begin\n",
    "        max_ddd = periods.max()\n",
    "        return max_ddd.days\n",
    "    \n",
    "    def calculate_kelly_criterion(self, series):\n",
    "        series = np.exp(series) - 1\n",
    "        if series.var() == 0:\n",
    "            return np.nan\n",
    "        else:\n",
    "            return series.mean() / series.var()\n",
    "    \n",
    "    ############################## Performance ######################################"
   ]
  },
  {
   "cell_type": "code",
   "execution_count": null,
   "id": "35e8abba",
   "metadata": {},
   "outputs": [],
   "source": [
    "filepath = \"one_minute.csv\"\n",
    "symbol = \"EURUSD\"\n",
    "start = \"2018-01-01\"\n",
    "end = \"2019-12-31\"\n",
    "ptc = 0.00007"
   ]
  },
  {
   "cell_type": "code",
   "execution_count": null,
   "id": "382a366e",
   "metadata": {},
   "outputs": [],
   "source": [
    "tester = ConBacktester(filepath = filepath, symbol = symbol, start = start, end = end, tc = ptc)\n",
    "tester"
   ]
  },
  {
   "cell_type": "code",
   "execution_count": null,
   "id": "5bd2aea7",
   "metadata": {},
   "outputs": [],
   "source": [
    "tester.test_strategy(201, 101)"
   ]
  },
  {
   "cell_type": "code",
   "execution_count": null,
   "id": "1098f1d0",
   "metadata": {},
   "outputs": [],
   "source": [
    "tester.plot_results()"
   ]
  },
  {
   "cell_type": "code",
   "execution_count": null,
   "id": "2d2ec302",
   "metadata": {},
   "outputs": [],
   "source": [
    "data = tester.results.copy()\n",
    "data"
   ]
  },
  {
   "cell_type": "code",
   "execution_count": null,
   "id": "d38bb157",
   "metadata": {},
   "outputs": [],
   "source": [
    "data[\"simple_ret\"] = np.exp(data.strategy) - 1"
   ]
  },
  {
   "cell_type": "code",
   "execution_count": null,
   "id": "fb710060",
   "metadata": {},
   "outputs": [],
   "source": [
    "data"
   ]
  },
  {
   "cell_type": "code",
   "execution_count": null,
   "id": "98b11d76",
   "metadata": {},
   "outputs": [],
   "source": [
    "data.simple_ret.add(1).prod() # sanity check"
   ]
  },
  {
   "cell_type": "code",
   "execution_count": null,
   "id": "45afdf57",
   "metadata": {},
   "outputs": [],
   "source": []
  },
  {
   "cell_type": "markdown",
   "id": "3584d071",
   "metadata": {},
   "source": [
    "## The optimal degree of leverage and the Kelly Criterion"
   ]
  },
  {
   "cell_type": "code",
   "execution_count": null,
   "id": "f70b2d58",
   "metadata": {},
   "outputs": [],
   "source": [
    "data"
   ]
  },
  {
   "cell_type": "code",
   "execution_count": null,
   "id": "66107f42",
   "metadata": {},
   "outputs": [],
   "source": [
    "leverage = np.arange(1, 50, 0.1)\n",
    "leverage"
   ]
  },
  {
   "cell_type": "code",
   "execution_count": null,
   "id": "38229e90",
   "metadata": {},
   "outputs": [],
   "source": [
    "multiple = []\n",
    "for lever in leverage:\n",
    "    levered_returns = data.simple_ret.mul(lever)\n",
    "    levered_returns = pd.Series(np.where(levered_returns < -1, -1, levered_returns))\n",
    "    multiple.append(levered_returns.add(1).prod())\n",
    "results = pd.DataFrame(data = {\"Leverage\":list(leverage), \"Multiple\":multiple})"
   ]
  },
  {
   "cell_type": "code",
   "execution_count": null,
   "id": "cb3d3a7f",
   "metadata": {},
   "outputs": [],
   "source": [
    "results.set_index(\"Leverage\", inplace = True)"
   ]
  },
  {
   "cell_type": "code",
   "execution_count": null,
   "id": "f53db668",
   "metadata": {},
   "outputs": [],
   "source": [
    "results"
   ]
  },
  {
   "cell_type": "code",
   "execution_count": null,
   "id": "e82c23d0",
   "metadata": {},
   "outputs": [],
   "source": [
    "results.min()"
   ]
  },
  {
   "cell_type": "code",
   "execution_count": null,
   "id": "b72c0199",
   "metadata": {},
   "outputs": [],
   "source": [
    "results.max()"
   ]
  },
  {
   "cell_type": "code",
   "execution_count": null,
   "id": "4a070766",
   "metadata": {},
   "outputs": [],
   "source": [
    "results.idxmax()"
   ]
  },
  {
   "cell_type": "code",
   "execution_count": null,
   "id": "e7b8d6b9",
   "metadata": {},
   "outputs": [],
   "source": [
    "results.plot(figsize = (12, 8));\n",
    "plt.show()"
   ]
  },
  {
   "cell_type": "code",
   "execution_count": null,
   "id": "7014d013",
   "metadata": {},
   "outputs": [],
   "source": [
    "kelly = data.simple_ret.mean() /  data.simple_ret.var()\n",
    "kelly"
   ]
  },
  {
   "cell_type": "markdown",
   "id": "e276ea4b",
   "metadata": {},
   "source": [
    "__-> Kelly Criterion (almost) perfectly approximates the true/correct optimal degree of Leverage (very large dataset)__"
   ]
  },
  {
   "cell_type": "markdown",
   "id": "e61ac031",
   "metadata": {},
   "source": [
    "A Multiple of ~ 1000 seems to be too godd to be true!?"
   ]
  },
  {
   "cell_type": "markdown",
   "id": "9716ada6",
   "metadata": {},
   "source": [
    "__Yes, underlying assumption__: We __keep the leverage constant__ and restore every minute -> __Excessive Trading__"
   ]
  },
  {
   "cell_type": "code",
   "execution_count": null,
   "id": "aaae8e89",
   "metadata": {},
   "outputs": [],
   "source": []
  },
  {
   "cell_type": "markdown",
   "id": "e539a74f",
   "metadata": {},
   "source": [
    "## A more realistic Approach (non-constant Leverage) (Part 1)"
   ]
  },
  {
   "cell_type": "code",
   "execution_count": null,
   "id": "405c33fa",
   "metadata": {},
   "outputs": [],
   "source": [
    "import pandas as pd\n",
    "import numpy as np"
   ]
  },
  {
   "cell_type": "markdown",
   "id": "66d4077c",
   "metadata": {},
   "source": [
    "__Initial Assumption (no leverage): We buy (long) 100 units of an Instrument @ initial price of 1 -> Initial Trade Value: 100__. <br>\n",
    "__We keep the long position until the end of day 3 (without further trades)__."
   ]
  },
  {
   "cell_type": "code",
   "execution_count": null,
   "id": "9b399301",
   "metadata": {},
   "outputs": [],
   "source": [
    "df = pd.DataFrame(data = {\"Price\": [1, 1.1, 1.25, 1.3], \"Units\": [100, 100, 100, 100]}, index = [0, 1, 2, 3])\n",
    "df"
   ]
  },
  {
   "cell_type": "code",
   "execution_count": null,
   "id": "68c6efd6",
   "metadata": {},
   "outputs": [],
   "source": [
    "df[\"Trade_Value\"] = df.Price * df.Units # Trade Value over time\n",
    "df"
   ]
  },
  {
   "cell_type": "code",
   "execution_count": null,
   "id": "ebdd2dd4",
   "metadata": {},
   "outputs": [],
   "source": [
    "df[\"Returns\"] = df.Trade_Value.pct_change() # simple Returns\n",
    "df"
   ]
  },
  {
   "cell_type": "code",
   "execution_count": null,
   "id": "17413679",
   "metadata": {},
   "outputs": [],
   "source": [
    "df[\"Compound\"] = df.Returns.add(1).cumprod() - 1 # compound simple Returns\n",
    "df"
   ]
  },
  {
   "cell_type": "code",
   "execution_count": null,
   "id": "2b7aef70",
   "metadata": {},
   "outputs": [],
   "source": []
  },
  {
   "cell_type": "markdown",
   "id": "d50bd59c",
   "metadata": {},
   "source": [
    "__New Assumption: Same as before but now we trade with leverage of 2 -> We post a Margin of 50 (50% of initial Trade Value)__."
   ]
  },
  {
   "cell_type": "code",
   "execution_count": null,
   "id": "249ce4a8",
   "metadata": {},
   "outputs": [],
   "source": [
    "leverage = 2\n",
    "leverage"
   ]
  },
  {
   "cell_type": "code",
   "execution_count": null,
   "id": "f5c161be",
   "metadata": {},
   "outputs": [],
   "source": [
    "df[\"Margin\"] = df.Trade_Value[0] / leverage # Margin Account with 50\n",
    "df"
   ]
  },
  {
   "cell_type": "code",
   "execution_count": null,
   "id": "1aa1bb56",
   "metadata": {},
   "outputs": [],
   "source": [
    "df[\"PL_unreal\"] = df.Trade_Value - df.Trade_Value[0] # unrealized Profit / Loss of our long position over time\n",
    "df"
   ]
  },
  {
   "cell_type": "code",
   "execution_count": null,
   "id": "8cf3c458",
   "metadata": {},
   "outputs": [],
   "source": [
    "df[\"Equity\"] = df.Margin + df.PL_unreal # our net wealth (Equity) over time == Margin + unreal P&L\n",
    "df"
   ]
  },
  {
   "cell_type": "code",
   "execution_count": null,
   "id": "b6d3d87a",
   "metadata": {},
   "outputs": [],
   "source": [
    "df[\"Equity_Returns\"] = df.Equity.pct_change() # simple returns of our Equity position\n",
    "df"
   ]
  },
  {
   "cell_type": "markdown",
   "id": "5c199876",
   "metadata": {},
   "source": [
    "Problem: Typically, we don´t have Margin, PL_unreal & Equity in our DataFrame. -> __Calculate Equity (levered) return with leverage__."
   ]
  },
  {
   "cell_type": "code",
   "execution_count": null,
   "id": "c76cc333",
   "metadata": {},
   "outputs": [],
   "source": [
    "df.Returns * leverage # try to calculate equity returns with constant leverage -> incorrect as this assumes constant leverage of 2 "
   ]
  },
  {
   "cell_type": "code",
   "execution_count": null,
   "id": "0032d6fb",
   "metadata": {},
   "outputs": [],
   "source": [
    "df[\"EL\"] = df.Trade_Value / df.Equity # calculate the effective leverage\n",
    "df"
   ]
  },
  {
   "cell_type": "code",
   "execution_count": null,
   "id": "78f3d06d",
   "metadata": {},
   "outputs": [],
   "source": [
    "df.Returns * df.EL.shift() # try to calculate equity returns with effective leverage -> correct "
   ]
  },
  {
   "cell_type": "markdown",
   "id": "6921de36",
   "metadata": {},
   "source": [
    "__Problem__: Typically we don´t have Trade_Value or Equity in our DataFrame. __How to calculate Effective Leverage__? "
   ]
  },
  {
   "cell_type": "code",
   "execution_count": null,
   "id": "607ee40f",
   "metadata": {},
   "outputs": [],
   "source": [
    "df[\"EL2\"] = leverage * (1 + df.Compound) / (1 + df.Compound * leverage) # calc. effective leverage with returns \n",
    "df[\"EL2\"].fillna(leverage, inplace = True)\n",
    "df"
   ]
  },
  {
   "cell_type": "code",
   "execution_count": null,
   "id": "7ce6d8fe",
   "metadata": {},
   "outputs": [],
   "source": [
    "levered_returns = df.Returns * df.EL2.shift()\n",
    "levered_returns"
   ]
  },
  {
   "cell_type": "code",
   "execution_count": null,
   "id": "80e073a5",
   "metadata": {},
   "outputs": [],
   "source": [
    "levered_returns = pd.Series(np.where(levered_returns < -1, -1, levered_returns))\n",
    "levered_returns"
   ]
  },
  {
   "cell_type": "code",
   "execution_count": null,
   "id": "7714913e",
   "metadata": {},
   "outputs": [],
   "source": [
    "levered_returns.add(1).cumprod()"
   ]
  },
  {
   "cell_type": "code",
   "execution_count": null,
   "id": "000b488a",
   "metadata": {},
   "outputs": [],
   "source": []
  },
  {
   "cell_type": "markdown",
   "id": "fd3e26ea",
   "metadata": {},
   "source": [
    "## A more realistic Approach (non-constant Leverage) (Part 2)"
   ]
  },
  {
   "cell_type": "code",
   "execution_count": null,
   "id": "3ac482fd",
   "metadata": {},
   "outputs": [],
   "source": [
    "tester"
   ]
  },
  {
   "cell_type": "code",
   "execution_count": null,
   "id": "3912ba89",
   "metadata": {},
   "outputs": [],
   "source": [
    "tester.add_sessions()"
   ]
  },
  {
   "cell_type": "code",
   "execution_count": null,
   "id": "9d4120b6",
   "metadata": {},
   "outputs": [],
   "source": [
    "data = tester.results.copy()\n",
    "data"
   ]
  },
  {
   "cell_type": "code",
   "execution_count": null,
   "id": "82a8bf03",
   "metadata": {},
   "outputs": [],
   "source": [
    "data[\"simple_ret\"] = np.exp(data.strategy) - 1\n",
    "data"
   ]
  },
  {
   "cell_type": "code",
   "execution_count": null,
   "id": "bbd15162",
   "metadata": {},
   "outputs": [],
   "source": [
    "leverage = 2\n",
    "leverage"
   ]
  },
  {
   "cell_type": "code",
   "execution_count": null,
   "id": "57fe08bf",
   "metadata": {},
   "outputs": [],
   "source": [
    "data[\"eff_lev\"] = leverage * (1 + data.session_compound) / (1 + data.session_compound * leverage)\n",
    "data"
   ]
  },
  {
   "cell_type": "code",
   "execution_count": null,
   "id": "be704532",
   "metadata": {},
   "outputs": [],
   "source": [
    "data.eff_lev.fillna(leverage, inplace = True)\n",
    "data"
   ]
  },
  {
   "cell_type": "code",
   "execution_count": null,
   "id": "a9eb75a8",
   "metadata": {},
   "outputs": [],
   "source": [
    "data.loc[\"2018-02-07 23:05:00\":\"2018-02-07 23:15:00\"] # first trade"
   ]
  },
  {
   "cell_type": "code",
   "execution_count": null,
   "id": "0a714668",
   "metadata": {},
   "outputs": [],
   "source": [
    "data.loc[data.trades !=0, \"eff_lev\"] = leverage # restore leverage (adjust Trade Value) whenever we trade "
   ]
  },
  {
   "cell_type": "code",
   "execution_count": null,
   "id": "73390462",
   "metadata": {},
   "outputs": [],
   "source": [
    "data.eff_lev.plot(figsize = (12, 8))\n",
    "plt.show()"
   ]
  },
  {
   "cell_type": "code",
   "execution_count": null,
   "id": "58e9552c",
   "metadata": {},
   "outputs": [],
   "source": [
    "tester.add_sessions(True)"
   ]
  },
  {
   "cell_type": "code",
   "execution_count": null,
   "id": "4cc195ad",
   "metadata": {},
   "outputs": [],
   "source": [
    "data"
   ]
  },
  {
   "cell_type": "code",
   "execution_count": null,
   "id": "79055630",
   "metadata": {},
   "outputs": [],
   "source": [
    "levered_returns = data.eff_lev.shift() * data.simple_ret \n",
    "levered_returns"
   ]
  },
  {
   "cell_type": "code",
   "execution_count": null,
   "id": "fef6d74e",
   "metadata": {},
   "outputs": [],
   "source": [
    "levered_returns = pd.Series(np.where(levered_returns < -1, -1, levered_returns))\n",
    "levered_returns"
   ]
  },
  {
   "cell_type": "code",
   "execution_count": null,
   "id": "6b847081",
   "metadata": {},
   "outputs": [],
   "source": [
    "levered_returns.add(1).cumprod()"
   ]
  },
  {
   "cell_type": "code",
   "execution_count": null,
   "id": "07fc0480",
   "metadata": {},
   "outputs": [],
   "source": []
  },
  {
   "cell_type": "markdown",
   "id": "9539ef92",
   "metadata": {},
   "source": [
    "## The updated Conbacktester Class (Leverage)"
   ]
  },
  {
   "cell_type": "code",
   "execution_count": null,
   "id": "84f0ddbf",
   "metadata": {},
   "outputs": [],
   "source": [
    "import pandas as pd\n",
    "import numpy as np\n",
    "import matplotlib.pyplot as plt\n",
    "from itertools import product\n",
    "import seaborn as sns\n",
    "plt.style.use(\"seaborn-v0_8\")"
   ]
  },
  {
   "cell_type": "code",
   "execution_count": null,
   "id": "1c020c55",
   "metadata": {},
   "outputs": [],
   "source": [
    "# Version 6.0 (Leverage)\n",
    "\n",
    "class ConBacktester():\n",
    "    ''' Class for the vectorized backtesting of simple contrarian trading strategies.\n",
    "    \n",
    "    Attributes\n",
    "    ============\n",
    "    filepath: str\n",
    "        local filepath of the dataset (csv-file)\n",
    "    symbol: str\n",
    "        ticker symbol (instrument) to be backtested\n",
    "    start: str\n",
    "        start date for data import\n",
    "    end: str\n",
    "        end date for data import\n",
    "    tc: float\n",
    "        proportional trading costs per trade\n",
    "    \n",
    "    \n",
    "    Methods\n",
    "    =======\n",
    "    get_data:\n",
    "        imports the data.\n",
    "        \n",
    "    test_strategy:\n",
    "        prepares the data and backtests the trading strategy incl. reporting (wrapper).\n",
    "        \n",
    "    prepare_data:\n",
    "        prepares the data for backtesting.\n",
    "    \n",
    "    run_backtest:\n",
    "        runs the strategy backtest.\n",
    "        \n",
    "    upsample:\n",
    "        upsamples/copies trading positions back to higher frequency.\n",
    "        \n",
    "    plot_results:\n",
    "        plots the cumulative performance of the trading strategy compared to buy-and-hold.\n",
    "        \n",
    "    optimize_strategy:\n",
    "        backtests strategy for different parameter values incl. optimization and reporting (wrapper).\n",
    "    \n",
    "    find_best_strategy:\n",
    "        finds the optimal strategy (global maximum) given the parameter ranges.\n",
    "        \n",
    "    visualize_many:\n",
    "        plots parameter values vs. performance. \n",
    "        \n",
    "    add_sessions:\n",
    "        adds/labels trading sessions and their compound returns.\n",
    "    \n",
    "    add_stop_loss:\n",
    "        adds stop loss to the strategy.\n",
    "    \n",
    "    add_take_profit: \n",
    "        adds take profit to the strategy.\n",
    "        \n",
    "    add_leverage:\n",
    "        adds leverage to the strategy.\n",
    "        \n",
    "    print_performance:\n",
    "        calculates and prints various performance metrics.\n",
    "        \n",
    "    '''    \n",
    "    \n",
    "    def __init__(self, filepath, symbol, start, end, tc):\n",
    "        \n",
    "        self.filepath = filepath\n",
    "        self.symbol = symbol\n",
    "        self.start = start\n",
    "        self.end = end\n",
    "        self.tc = tc\n",
    "        self.results = None\n",
    "        self.get_data()\n",
    "        self.tp_year = (self.data.price.count() / ((self.data.index[-1] - self.data.index[0]).days / 365.25))\n",
    "        \n",
    "    def __repr__(self):\n",
    "        return \"ConBacktester(symbol = {}, start = {}, end = {})\".format(self.symbol, self.start, self.end)\n",
    "        \n",
    "    def get_data(self):\n",
    "        ''' Imports the data.\n",
    "        '''\n",
    "        raw = pd.read_csv(self.filepath, parse_dates = [\"time\"], index_col = \"time\")\n",
    "        raw = raw[self.symbol].to_frame().fillna(method = \"ffill\")\n",
    "        raw = raw.loc[self.start:self.end].copy()\n",
    "        raw.rename(columns={self.symbol: \"price\"}, inplace=True)\n",
    "        raw[\"returns\"] = np.log(raw.price / raw.price.shift(1))\n",
    "        self.data = raw\n",
    "        \n",
    "    def test_strategy(self, freq = 60, window = 1): \n",
    "        '''\n",
    "        Prepares the data and backtests the trading strategy incl. reporting (Wrapper).\n",
    "         \n",
    "        Parameters\n",
    "        ============\n",
    "        freq: int\n",
    "            data frequency/granularity to work with (in minutes)\n",
    "        \n",
    "        window: int\n",
    "            time window (number of bars) to be considered for the strategy.\n",
    "        '''\n",
    "        self.freq = \"{}min\".format(freq) \n",
    "        self.window = window\n",
    "                                \n",
    "        self.prepare_data(freq, window) \n",
    "        self.upsample() \n",
    "        self.run_backtest()\n",
    "        \n",
    "        data = self.results.copy()\n",
    "        data[\"creturns\"] = data[\"returns\"].cumsum().apply(np.exp)\n",
    "        data[\"cstrategy\"] = data[\"strategy\"].cumsum().apply(np.exp)\n",
    "        self.results = data\n",
    "        \n",
    "        self.print_performance()\n",
    "    \n",
    "    def prepare_data(self, freq, window): \n",
    "        ''' Prepares the Data for Backtesting.\n",
    "        '''\n",
    "        data = self.data.price.to_frame().copy()\n",
    "        freq = \"{}min\".format(freq)\n",
    "        resamp = data.resample(freq).last().dropna().iloc[:-1]\n",
    "        resamp[\"returns\"] = np.log(resamp / resamp.shift(1))\n",
    "        resamp[\"roll_return\"] = resamp[\"returns\"].rolling(window).mean()\n",
    "        resamp[\"position\"] = -np.sign(resamp[\"roll_return\"])\n",
    "        resamp.dropna(inplace = True)\n",
    "        self.results = resamp\n",
    "        return resamp \n",
    "    \n",
    "    def run_backtest(self):\n",
    "        ''' Runs the strategy backtest.\n",
    "        '''\n",
    "        \n",
    "        data = self.results.copy()\n",
    "        data[\"strategy\"] = data[\"position\"].shift(1) * data[\"returns\"]\n",
    "        \n",
    "        # determine the number of trades in each bar\n",
    "        data[\"trades\"] = data.position.diff().fillna(0).abs()\n",
    "        \n",
    "        # subtract transaction/trading costs from pre-cost return\n",
    "        data.strategy = data.strategy - data.trades * self.tc\n",
    "        \n",
    "        self.results = data\n",
    "        \n",
    "    def upsample(self):\n",
    "        '''  Upsamples/copies trading positions back to higher frequency.\n",
    "        '''\n",
    "        \n",
    "        data = self.data.copy()\n",
    "        resamp = self.results.copy()\n",
    "               \n",
    "        data[\"position\"] = resamp.position.shift()\n",
    "        data = data.loc[resamp.index[0]:].copy()\n",
    "        data.position = data.position.shift(-1).ffill()\n",
    "        data.dropna(inplace=True)\n",
    "        self.results = data\n",
    "            \n",
    "    def plot_results(self, leverage = False): # adj!!!\n",
    "        ''' Plots the performance of the trading strategy and compares to \"buy and hold\".\n",
    "        '''\n",
    "        if self.results is None:\n",
    "            print(\"Run test_strategy() first.\")\n",
    "        elif leverage: # NEW!!!\n",
    "            title = \"{} | Window = {} | Frequency = {} | TC = {} | Leverage = {}\".format(self.symbol, self.window, self.freq, self.tc, self.leverage)\n",
    "            self.results[[\"creturns\", \"cstrategy\", \"cstrategy_levered\"]].plot(title=title, figsize=(12, 8))\n",
    "        else:\n",
    "            title = \"{} | Window = {} | Frequency = {} | TC = {}\".format(self.symbol, self.window, self.freq, self.tc)\n",
    "            self.results[[\"creturns\", \"cstrategy\"]].plot(title=title, figsize=(12, 8))\n",
    "            \n",
    "    def optimize_strategy(self, freq_range, window_range, metric = \"Multiple\"): \n",
    "        '''\n",
    "        Backtests strategy for different parameter values incl. Optimization and Reporting (Wrapper).\n",
    "         \n",
    "        Parameters\n",
    "        ============\n",
    "        freq_range: tuple\n",
    "            tuples of the form (start, end, step size).\n",
    "        \n",
    "        window_range: tuple\n",
    "            tuples of the form (start, end, step size).\n",
    "        \n",
    "        metric: str\n",
    "            performance metric to be optimized (can be: \"Multiple\", \"Sharpe\", \"Sortino\", \"Calmar\", \"Kelly\")\n",
    "        '''\n",
    "        \n",
    "        self.metric = metric\n",
    "        \n",
    "        if metric == \"Multiple\":\n",
    "            performance_function = self.calculate_multiple\n",
    "        elif metric == \"Sharpe\":\n",
    "            performance_function = self.calculate_sharpe\n",
    "        elif metric == \"Sortino\":\n",
    "            performance_function = self.calculate_sortino\n",
    "        elif metric == \"Calmar\": \n",
    "            performance_function = self.calculate_calmar\n",
    "        elif metric == \"Kelly\": \n",
    "            performance_function = self.calculate_kelly_criterion\n",
    "        \n",
    "        freqs = range(*freq_range)  \n",
    "        windows = range(*window_range)\n",
    "        \n",
    "        combinations = list(product(freqs, windows)) \n",
    "        \n",
    "        performance = []\n",
    "        for comb in combinations: \n",
    "            self.prepare_data(comb[0], comb[1])\n",
    "            self.upsample()\n",
    "            self.run_backtest()\n",
    "            performance.append(performance_function(self.results.strategy))\n",
    "    \n",
    "        self.results_overview =  pd.DataFrame(data = np.array(combinations), columns = [\"Freq\", \"Windows\"])\n",
    "        self.results_overview[\"Performance\"] = performance\n",
    "        self.find_best_strategy()\n",
    "        \n",
    "    def find_best_strategy(self):\n",
    "        ''' Finds the optimal strategy (global maximum) given the parameter ranges.\n",
    "        '''\n",
    "        best = self.results_overview.nlargest(1, \"Performance\")\n",
    "        freq = best.Freq.iloc[0] \n",
    "        window = best.Windows.iloc[0]\n",
    "        perf = best.Performance.iloc[0]\n",
    "        print(\"Frequency: {} | Windows: {} | {}: {}\".format(freq, window, self.metric, round(perf, 6))) \n",
    "        self.test_strategy(freq, window) \n",
    "        \n",
    "    def visualize_many(self):\n",
    "        ''' Plots parameter values vs. Performance.\n",
    "        '''\n",
    "\n",
    "        if self.results_overview is None:\n",
    "            print(\"Run optimize_strategy() first.\")\n",
    "        else: \n",
    "            matrix = self.results_overview.pivot(index = \"Freq\", columns = \"Windows\", values = \"Performance\")\n",
    "            \n",
    "            plt.figure(figsize=(12,8))\n",
    "            sns.set_theme(font_scale=1.5)\n",
    "            sns.heatmap(matrix, cmap = \"RdYlGn\", robust = True, cbar_kws = {\"label\": \"{}\".format(self.metric)})\n",
    "            plt.show()\n",
    "            \n",
    "    def add_sessions(self, visualize = False):\n",
    "        ''' \n",
    "        Adds/Labels Trading Sessions and their compound returns.\n",
    "        \n",
    "        Parameter\n",
    "        ============\n",
    "        visualize: bool, default False\n",
    "            if True, visualize compound session returns over time\n",
    "        '''\n",
    "        \n",
    "        if self.results is None:\n",
    "            print(\"Run test_strategy() first.\")\n",
    "            \n",
    "        data = self.results.copy()\n",
    "        data[\"session\"] = np.sign(data.trades).cumsum().shift().fillna(0)\n",
    "        data[\"session_compound\"] = data.groupby(\"session\").strategy.cumsum().apply(np.exp) - 1\n",
    "        self.results = data\n",
    "        if visualize:\n",
    "            data[\"session_compound\"].plot(figsize = (12, 8))\n",
    "            plt.show()\n",
    "    \n",
    "    def add_stop_loss(self, sl_thresh, report = True): \n",
    "        ''' \n",
    "        Adds Stop Loss to the Strategy.\n",
    "        \n",
    "        Parameter\n",
    "        ============\n",
    "        sl_thresh: float (negative)\n",
    "            maximum loss level in % (e.g. -0.02 for -2%)\n",
    "        \n",
    "        report: bool, default True\n",
    "            if True, print Performance Report incl. Stop Loss. \n",
    "        '''\n",
    "        \n",
    "        self.sl_thresh = sl_thresh\n",
    "        \n",
    "        if self.results is None:\n",
    "            print(\"Run test_strategy() first.\")\n",
    "        \n",
    "        self.add_sessions()\n",
    "        self.results = self.results.groupby(\"session\", group_keys = False).apply(self.define_sl_pos)\n",
    "        self.run_backtest()\n",
    "        data = self.results.copy()\n",
    "        data[\"creturns\"] = data[\"returns\"].cumsum().apply(np.exp)\n",
    "        data[\"cstrategy\"] = data[\"strategy\"].cumsum().apply(np.exp)\n",
    "        self.results = data\n",
    "        self.add_sessions()\n",
    "        \n",
    "        if report:\n",
    "            self.print_performance()\n",
    "            \n",
    "            \n",
    "    def add_take_profit(self, tp_thresh, report = True):\n",
    "        ''' \n",
    "        Adds Take Profit to the Strategy.\n",
    "        \n",
    "        Parameter\n",
    "        ============\n",
    "        tp_thresh: float (positive)\n",
    "            maximum profit level in % (e.g. 0.02 for 2%)\n",
    "        \n",
    "        report: bool, default True\n",
    "            if True, print Performance Report incl. Take Profit. \n",
    "        '''\n",
    "        self.tp_thresh = tp_thresh\n",
    "        \n",
    "        if self.results is None:\n",
    "            print(\"Run test_strategy() first.\")\n",
    "        \n",
    "        self.add_sessions()\n",
    "        self.results = self.results.groupby(\"session\", group_keys = False).apply(self.define_tp_pos)\n",
    "        self.run_backtest()\n",
    "        data = self.results.copy()\n",
    "        data[\"creturns\"] = data[\"returns\"].cumsum().apply(np.exp)\n",
    "        data[\"cstrategy\"] = data[\"strategy\"].cumsum().apply(np.exp)\n",
    "        self.results = data\n",
    "        self.add_sessions()\n",
    "        \n",
    "        if report:\n",
    "            self.print_performance()\n",
    "        \n",
    "    def define_sl_pos(self, group):\n",
    "        if (group.session_compound <= self.sl_thresh).any():\n",
    "            start = group[group.session_compound <= self.sl_thresh].index[0]\n",
    "            stop = group.index[-2]\n",
    "            group.loc[start:stop, \"position\"] = 0\n",
    "            return group\n",
    "        else:\n",
    "            return group \n",
    "        \n",
    "    def define_tp_pos(self, group):\n",
    "        if (group.session_compound >= self.tp_thresh).any():\n",
    "            start = group[group.session_compound >= self.tp_thresh].index[0]\n",
    "            stop = group.index[-2]\n",
    "            group.loc[start:stop, \"position\"] = 0\n",
    "            return group\n",
    "        else:\n",
    "            return group\n",
    "        \n",
    "    def add_leverage(self, leverage, sl = -0.5, report = True): # NEW!!!\n",
    "        ''' \n",
    "        Adds Leverage to the Strategy.\n",
    "        \n",
    "        Parameter\n",
    "        ============\n",
    "        leverage: float (positive)\n",
    "            degree of leverage.\n",
    "        \n",
    "        sl: float (negative), default -50% (regulatory)\n",
    "            maximum margin loss level in % (e.g. -0.2 for -20%).\n",
    "        \n",
    "        report: bool, default True\n",
    "            if True, print Performance Report incl. Leverage.\n",
    "        '''\n",
    "        \n",
    "        self.leverage = leverage\n",
    "        sl_thresh = sl / leverage\n",
    "        self.add_stop_loss(sl_thresh, report = False)\n",
    "        \n",
    "        data = self.results.copy()\n",
    "        data[\"simple_ret\"] = np.exp(data.strategy) - 1\n",
    "        data[\"eff_lev\"] = leverage * (1 + data.session_compound) / (1 + data.session_compound * leverage)\n",
    "        data.eff_lev.fillna(leverage, inplace = True)\n",
    "        data.loc[data.trades !=0, \"eff_lev\"] = leverage\n",
    "        levered_returns = data.eff_lev.shift() * data.simple_ret\n",
    "        levered_returns = np.where(levered_returns < -1, -1, levered_returns)\n",
    "        data[\"strategy_levered\"] = levered_returns\n",
    "        data[\"cstrategy_levered\"] = data.strategy_levered.add(1).cumprod()\n",
    "        \n",
    "        self.results = data\n",
    "            \n",
    "        if report:\n",
    "            self.print_performance(leverage = True)\n",
    "    ############################## Performance ######################################\n",
    "    \n",
    "    def print_performance(self, leverage = False): # adj!!!\n",
    "        ''' Calculates and prints various Performance Metrics.\n",
    "        '''\n",
    "        \n",
    "        data = self.results.copy()\n",
    "        \n",
    "        if leverage:\n",
    "            to_analyze = np.log(data.strategy_levered.add(1))\n",
    "        else: \n",
    "            to_analyze = data.strategy\n",
    "        \n",
    "        strategy_multiple = round(self.calculate_multiple(to_analyze), 6)\n",
    "        bh_multiple =       round(self.calculate_multiple(data.returns), 6)\n",
    "        outperf =           round(strategy_multiple - bh_multiple, 6)\n",
    "        cagr =              round(self.calculate_cagr(to_analyze), 6)\n",
    "        ann_mean =          round(self.calculate_annualized_mean(to_analyze), 6)\n",
    "        ann_std =           round(self.calculate_annualized_std(to_analyze), 6)\n",
    "        sharpe =            round(self.calculate_sharpe(to_analyze), 6)\n",
    "        sortino =           round(self.calculate_sortino(to_analyze), 6)\n",
    "        max_drawdown =      round(self.calculate_max_drawdown(to_analyze), 6)\n",
    "        calmar =            round(self.calculate_calmar(to_analyze), 6)\n",
    "        max_dd_duration =   round(self.calculate_max_dd_duration(to_analyze), 6)\n",
    "        kelly_criterion =   round(self.calculate_kelly_criterion(to_analyze), 6)\n",
    "        \n",
    "        print(100 * \"=\")\n",
    "        print(\"SIMPLE CONTRARIAN STRATEGY | INSTRUMENT = {} | Freq: {} | WINDOW = {}\".format(self.symbol, self.freq, self.window))\n",
    "        print(100 * \"-\")\n",
    "        #print(\"\\n\")\n",
    "        print(\"PERFORMANCE MEASURES:\")\n",
    "        print(\"\\n\")\n",
    "        print(\"Multiple (Strategy):         {}\".format(strategy_multiple))\n",
    "        print(\"Multiple (Buy-and-Hold):     {}\".format(bh_multiple))\n",
    "        print(38 * \"-\")\n",
    "        print(\"Out-/Underperformance:       {}\".format(outperf))\n",
    "        print(\"\\n\")\n",
    "        print(\"CAGR:                        {}\".format(cagr))\n",
    "        print(\"Annualized Mean:             {}\".format(ann_mean))\n",
    "        print(\"Annualized Std:              {}\".format(ann_std))\n",
    "        print(\"Sharpe Ratio:                {}\".format(sharpe))\n",
    "        print(\"Sortino Ratio:               {}\".format(sortino))\n",
    "        print(\"Maximum Drawdown:            {}\".format(max_drawdown))\n",
    "        print(\"Calmar Ratio:                {}\".format(calmar))\n",
    "        print(\"Max Drawdown Duration:       {} Days\".format(max_dd_duration))\n",
    "        print(\"Kelly Criterion:             {}\".format(kelly_criterion))\n",
    "        \n",
    "        print(100 * \"=\")\n",
    "        \n",
    "    def calculate_multiple(self, series):\n",
    "        return np.exp(series.sum())\n",
    "    \n",
    "    def calculate_cagr(self, series):\n",
    "        return np.exp(series.sum())**(1/((series.index[-1] - series.index[0]).days / 365.25)) - 1\n",
    "    \n",
    "    def calculate_annualized_mean(self, series):\n",
    "        return series.mean() * self.tp_year\n",
    "    \n",
    "    def calculate_annualized_std(self, series):\n",
    "        return series.std() * np.sqrt(self.tp_year)\n",
    "    \n",
    "    def calculate_sharpe(self, series):\n",
    "        if series.std() == 0:\n",
    "            return np.nan\n",
    "        else:\n",
    "            return series.mean() / series.std() * np.sqrt(self.tp_year)\n",
    "    \n",
    "    def calculate_sortino(self, series):\n",
    "        excess_returns = (series - 0)\n",
    "        downside_deviation = np.sqrt(np.mean(np.where(excess_returns < 0, excess_returns, 0)**2))\n",
    "        if downside_deviation == 0:\n",
    "            return np.nan\n",
    "        else:\n",
    "            sortino = (series.mean() - 0) / downside_deviation * np.sqrt(self.tp_year)\n",
    "            return sortino \n",
    "    \n",
    "    def calculate_max_drawdown(self, series):\n",
    "        creturns = series.cumsum().apply(np.exp)\n",
    "        cummax = creturns.cummax()\n",
    "        drawdown = (cummax - creturns)/cummax\n",
    "        max_dd = drawdown.max()\n",
    "        return max_dd\n",
    "    \n",
    "    def calculate_calmar(self, series):\n",
    "        max_dd = self.calculate_max_drawdown(series)\n",
    "        if max_dd == 0:\n",
    "            return np.nan\n",
    "        else:\n",
    "            cagr = self.calculate_cagr(series)\n",
    "            calmar = cagr / max_dd\n",
    "            return calmar\n",
    "    \n",
    "    def calculate_max_dd_duration(self, series):\n",
    "        creturns = series.cumsum().apply(np.exp)\n",
    "        cummax = creturns.cummax()\n",
    "        drawdown = (cummax - creturns)/cummax\n",
    "    \n",
    "        begin = drawdown[drawdown == 0].index\n",
    "        end = begin[1:]\n",
    "        end = end.append(pd.DatetimeIndex([drawdown.index[-1]]))\n",
    "        periods = end - begin\n",
    "        max_ddd = periods.max()\n",
    "        return max_ddd.days\n",
    "    \n",
    "    def calculate_kelly_criterion(self, series):\n",
    "        series = np.exp(series) - 1\n",
    "        if series.var() == 0:\n",
    "            return np.nan\n",
    "        else:\n",
    "            return series.mean() / series.var()\n",
    "    \n",
    "    ############################## Performance ######################################"
   ]
  },
  {
   "cell_type": "code",
   "execution_count": null,
   "id": "cc18e524",
   "metadata": {},
   "outputs": [],
   "source": [
    "filepath = \"one_minute.csv\"\n",
    "symbol = \"EURUSD\"\n",
    "start = \"2018-01-01\"\n",
    "end = \"2019-12-31\"\n",
    "ptc = 0.00007"
   ]
  },
  {
   "cell_type": "code",
   "execution_count": null,
   "id": "879ce225",
   "metadata": {},
   "outputs": [],
   "source": [
    "tester = ConBacktester(filepath = filepath, symbol = symbol, start = start, end = end, tc = ptc)\n",
    "tester"
   ]
  },
  {
   "cell_type": "code",
   "execution_count": null,
   "id": "d597f26b",
   "metadata": {},
   "outputs": [],
   "source": [
    "tester.test_strategy(201, 101)"
   ]
  },
  {
   "cell_type": "code",
   "execution_count": null,
   "id": "d9d3d99d",
   "metadata": {},
   "outputs": [],
   "source": [
    "tester.add_leverage(leverage = 2, sl = -0.5, report = True)"
   ]
  },
  {
   "cell_type": "code",
   "execution_count": null,
   "id": "4ae4e853",
   "metadata": {},
   "outputs": [],
   "source": [
    "tester.results"
   ]
  },
  {
   "cell_type": "code",
   "execution_count": null,
   "id": "ff19de57",
   "metadata": {},
   "outputs": [],
   "source": [
    "tester.plot_results(leverage = True)"
   ]
  },
  {
   "cell_type": "code",
   "execution_count": null,
   "id": "b2ce232e",
   "metadata": {},
   "outputs": [],
   "source": []
  },
  {
   "cell_type": "markdown",
   "id": "ec64e085",
   "metadata": {},
   "source": [
    "## Revised: The optimal degree of leverage"
   ]
  },
  {
   "cell_type": "code",
   "execution_count": null,
   "id": "4371d70b",
   "metadata": {},
   "outputs": [],
   "source": [
    "tester.test_strategy(201, 101)"
   ]
  },
  {
   "cell_type": "code",
   "execution_count": null,
   "id": "3ff283e0",
   "metadata": {},
   "outputs": [],
   "source": [
    "leverage = np.arange(1, 50, 1)\n",
    "leverage"
   ]
  },
  {
   "cell_type": "markdown",
   "id": "54cf1f2a",
   "metadata": {},
   "source": [
    "__No constant leverage, No Stop Loss (@ -100%)__"
   ]
  },
  {
   "cell_type": "code",
   "execution_count": null,
   "id": "85f6be89",
   "metadata": {},
   "outputs": [],
   "source": [
    "multiple = []\n",
    "for lever in leverage:\n",
    "    tester.add_leverage(leverage = lever, sl = -1, report = False)\n",
    "    multiple.append(tester.results.cstrategy_levered[-1])\n",
    "results = pd.DataFrame(data = {\"Leverage\": leverage, \"Multiple_100\":multiple})   "
   ]
  },
  {
   "cell_type": "code",
   "execution_count": null,
   "id": "b986eb51",
   "metadata": {},
   "outputs": [],
   "source": [
    "results.set_index(\"Leverage\", inplace = True)"
   ]
  },
  {
   "cell_type": "code",
   "execution_count": null,
   "id": "3687b0e1",
   "metadata": {},
   "outputs": [],
   "source": [
    "results"
   ]
  },
  {
   "cell_type": "code",
   "execution_count": null,
   "id": "b9f4c898",
   "metadata": {},
   "outputs": [],
   "source": [
    "results.min()"
   ]
  },
  {
   "cell_type": "code",
   "execution_count": null,
   "id": "170da432",
   "metadata": {},
   "outputs": [],
   "source": [
    "results.max()"
   ]
  },
  {
   "cell_type": "code",
   "execution_count": null,
   "id": "8a578929",
   "metadata": {},
   "outputs": [],
   "source": [
    "results.idxmax()"
   ]
  },
  {
   "cell_type": "code",
   "execution_count": null,
   "id": "11b32c06",
   "metadata": {},
   "outputs": [],
   "source": [
    "results.plot(figsize = (12, 8));\n",
    "plt.show()"
   ]
  },
  {
   "cell_type": "code",
   "execution_count": null,
   "id": "73d7022f",
   "metadata": {},
   "outputs": [],
   "source": [
    "sls = [-0.5, -0.4, -0.25]\n",
    "label = [\"Multiple_50\", \"Multiple_40\", \"Multiple_25\"]"
   ]
  },
  {
   "cell_type": "markdown",
   "id": "6ec891ac",
   "metadata": {},
   "source": [
    "__No constant leverage, Stop Loss @ [-50%, -40%, -25%]__"
   ]
  },
  {
   "cell_type": "code",
   "execution_count": null,
   "id": "28cec0b3",
   "metadata": {},
   "outputs": [],
   "source": [
    "for i in range(len(sls)):\n",
    "    tester.test_strategy(201, 101)\n",
    "    multiple = []\n",
    "    for lever in leverage:\n",
    "        tester.add_leverage(leverage = lever, sl = sls[i], report = False)\n",
    "        multiple.append(tester.results.cstrategy_levered[-1])\n",
    "    results[label[i]] = multiple "
   ]
  },
  {
   "cell_type": "code",
   "execution_count": null,
   "id": "ad24fb49",
   "metadata": {},
   "outputs": [],
   "source": [
    "results"
   ]
  },
  {
   "cell_type": "code",
   "execution_count": null,
   "id": "f349daea",
   "metadata": {},
   "outputs": [],
   "source": [
    "results.plot(figsize = (12, 8));\n",
    "plt.show()"
   ]
  },
  {
   "cell_type": "code",
   "execution_count": null,
   "id": "8721f2de",
   "metadata": {},
   "outputs": [],
   "source": [
    "results.Multiple_40.plot(figsize = (12, 8))\n",
    "plt.show()"
   ]
  },
  {
   "cell_type": "code",
   "execution_count": null,
   "id": "6de5f1e6",
   "metadata": {},
   "outputs": [],
   "source": []
  }
 ],
 "metadata": {
  "kernelspec": {
   "display_name": "Python 3 (ipykernel)",
   "language": "python",
   "name": "python3"
  },
  "language_info": {
   "codemirror_mode": {
    "name": "ipython",
    "version": 3
   },
   "file_extension": ".py",
   "mimetype": "text/x-python",
   "name": "python",
   "nbconvert_exporter": "python",
   "pygments_lexer": "ipython3",
   "version": "3.9.16"
  }
 },
 "nbformat": 4,
 "nbformat_minor": 5
}
