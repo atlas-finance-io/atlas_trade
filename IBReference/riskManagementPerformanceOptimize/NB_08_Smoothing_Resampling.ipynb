{
 "cells": [
  {
   "cell_type": "markdown",
   "metadata": {},
   "source": [
    "# Strategy Optimization with Smoothing (the optimal frequency)"
   ]
  },
  {
   "cell_type": "markdown",
   "metadata": {},
   "source": [
    "## Getting started"
   ]
  },
  {
   "cell_type": "code",
   "execution_count": null,
   "metadata": {},
   "outputs": [],
   "source": [
    "import pandas as pd\n",
    "import numpy as np\n",
    "import matplotlib.pyplot as plt\n",
    "plt.style.use(\"seaborn-v0_8\")"
   ]
  },
  {
   "cell_type": "code",
   "execution_count": null,
   "metadata": {},
   "outputs": [],
   "source": [
    "# Version 3.0 (advanced Performance Optimization)\n",
    "\n",
    "class ConBacktester():\n",
    "    ''' Class for the vectorized backtesting of simple contrarian trading strategies.\n",
    "    \n",
    "    Attributes\n",
    "    ============\n",
    "    filepath: str\n",
    "        local filepath of the dataset (csv-file)\n",
    "    symbol: str\n",
    "        ticker symbol (instrument) to be backtested\n",
    "    start: str\n",
    "        start date for data import\n",
    "    end: str\n",
    "        end date for data import\n",
    "    tc: float\n",
    "        proportional trading costs per trade\n",
    "    \n",
    "    \n",
    "    Methods\n",
    "    =======\n",
    "    get_data:\n",
    "        imports the data.\n",
    "        \n",
    "    test_strategy:\n",
    "        prepares the data and backtests the trading strategy incl. reporting (wrapper).\n",
    "        \n",
    "    prepare_data:\n",
    "        prepares the data for backtesting.\n",
    "    \n",
    "    run_backtest:\n",
    "        runs the strategy backtest.\n",
    "        \n",
    "    plot_results:\n",
    "        plots the cumulative performance of the trading strategy compared to buy-and-hold.\n",
    "        \n",
    "    optimize_strategy:\n",
    "        backtests strategy for different parameter values incl. optimization and reporting (wrapper).\n",
    "    \n",
    "    find_best_strategy:\n",
    "        finds the optimal strategy (global maximum) given the window parameter range.\n",
    "        \n",
    "    visualize_many:\n",
    "        plots parameter values vs. performance. \n",
    "        \n",
    "    print_performance:\n",
    "        calculates and prints various performance metrics.\n",
    "        \n",
    "    '''    \n",
    "    \n",
    "    def __init__(self, filepath, symbol, start, end, tc):\n",
    "        \n",
    "        self.filepath = filepath\n",
    "        self.symbol = symbol\n",
    "        self.start = start\n",
    "        self.end = end\n",
    "        self.tc = tc\n",
    "        self.results = None\n",
    "        self.get_data()\n",
    "        self.tp_year = (self.data.price.count() / ((self.data.index[-1] - self.data.index[0]).days / 365.25))\n",
    "        \n",
    "    def __repr__(self):\n",
    "        return \"ConBacktester(symbol = {}, start = {}, end = {})\".format(self.symbol, self.start, self.end)\n",
    "        \n",
    "    def get_data(self):\n",
    "        ''' Imports the data.\n",
    "        '''\n",
    "        raw = pd.read_csv(self.filepath, parse_dates = [\"time\"], index_col = \"time\")\n",
    "        raw = raw[self.symbol].to_frame().fillna(method = \"ffill\") \n",
    "        raw = raw.loc[self.start:self.end].copy()\n",
    "        raw.rename(columns={self.symbol: \"price\"}, inplace=True)\n",
    "        raw[\"returns\"] = np.log(raw.price / raw.price.shift(1))\n",
    "        self.data = raw\n",
    "        \n",
    "    def test_strategy(self, window = 1):\n",
    "        '''\n",
    "        Prepares the data and backtests the trading strategy incl. reporting (Wrapper).\n",
    "         \n",
    "        Parameters\n",
    "        ============\n",
    "        window: int\n",
    "            time window (number of bars) to be considered for the strategy.\n",
    "        '''\n",
    "        self.window = window\n",
    "                                \n",
    "        self.prepare_data(window)\n",
    "        self.run_backtest()\n",
    "        \n",
    "        data = self.results.copy()\n",
    "        data[\"creturns\"] = data[\"returns\"].cumsum().apply(np.exp)\n",
    "        data[\"cstrategy\"] = data[\"strategy\"].cumsum().apply(np.exp)\n",
    "        self.results = data\n",
    "        \n",
    "        self.print_performance()\n",
    "    \n",
    "    def prepare_data(self, window):\n",
    "        ''' Prepares the Data for Backtesting.\n",
    "        '''\n",
    "        data = self.data.copy()\n",
    "        data[\"roll_return\"] = data[\"returns\"].rolling(window).mean()\n",
    "        data[\"position\"] = -np.sign(data[\"roll_return\"])\n",
    "        self.results = data\n",
    "    \n",
    "    def run_backtest(self):\n",
    "        ''' Runs the strategy backtest.\n",
    "        '''\n",
    "        \n",
    "        data = self.results.copy()\n",
    "        data[\"strategy\"] = data[\"position\"].shift(1) * data[\"returns\"]\n",
    "        data.dropna(inplace=True)\n",
    "        \n",
    "        # determine the number of trades in each bar\n",
    "        data[\"trades\"] = data.position.diff().fillna(0).abs()\n",
    "        \n",
    "        # subtract transaction/trading costs from pre-cost return\n",
    "        data.strategy = data.strategy - data.trades * self.tc\n",
    "        \n",
    "        self.results = data\n",
    "    \n",
    "    def plot_results(self):\n",
    "        '''  Plots the cumulative performance of the trading strategy compared to buy-and-hold.\n",
    "        '''\n",
    "        if self.results is None:\n",
    "            print(\"Run test_strategy() first.\")\n",
    "        else:\n",
    "            title = \"{} | Window = {} | TC = {}\".format(self.symbol, self.window, self.tc)\n",
    "            self.results[[\"creturns\", \"cstrategy\"]].plot(title=title, figsize=(12, 8))\n",
    "            \n",
    "    def optimize_strategy(self, window_range, metric = \"Multiple\"):\n",
    "        '''\n",
    "        Backtests strategy for different parameter values incl. Optimization and Reporting (Wrapper).\n",
    "         \n",
    "        Parameters\n",
    "        ============\n",
    "        window_range: tuple\n",
    "            tuples of the form (start, end, step size).\n",
    "        \n",
    "        metric: str\n",
    "            performance metric to be optimized (can be: \"Multiple\", \"Sharpe\", \"Sortino\", \"Calmar\", \"Kelly\")\n",
    "        '''\n",
    "        \n",
    "        self.metric = metric\n",
    "        \n",
    "        if metric == \"Multiple\":\n",
    "            performance_function = self.calculate_multiple\n",
    "        elif metric == \"Sharpe\":\n",
    "            performance_function = self.calculate_sharpe\n",
    "        elif metric == \"Sortino\":\n",
    "            performance_function = self.calculate_sortino\n",
    "        elif metric == \"Calmar\": \n",
    "            performance_function = self.calculate_calmar\n",
    "        elif metric == \"Kelly\": \n",
    "            performance_function = self.calculate_kelly_criterion\n",
    "        \n",
    "        windows = range(*window_range)\n",
    "        \n",
    "        performance = []\n",
    "        for window in windows:\n",
    "            self.prepare_data(window)\n",
    "            self.run_backtest()\n",
    "            performance.append(performance_function(self.results.strategy))\n",
    "    \n",
    "        self.results_overview =  pd.DataFrame(data = np.array(windows), columns = [\"Windows\"])\n",
    "        self.results_overview[\"Performance\"] = performance\n",
    "        self.find_best_strategy()\n",
    "        \n",
    "    def find_best_strategy(self):\n",
    "        ''' Finds the optimal strategy (global maximum) given the window parameter range.\n",
    "        '''\n",
    "        best = self.results_overview.nlargest(1, \"Performance\")\n",
    "        window = best.Windows.iloc[0]\n",
    "        perf = best.Performance.iloc[0]\n",
    "        print(\"Windows: {} | {}: {}\".format(window, self.metric, round(perf, 6))) \n",
    "        self.test_strategy(window)\n",
    "        \n",
    "    def visualize_many(self):\n",
    "        ''' Plots parameter values vs. Performance.\n",
    "        '''\n",
    "\n",
    "        if self.results_overview is None:\n",
    "            print(\"Run optimize_strategy() first.\")\n",
    "        else:\n",
    "            self.results_overview.set_index(\"Windows\", inplace = True)\n",
    "            self.results_overview.plot(figsize = (12, 8))\n",
    "            plt.title(\"Simple Contrarian Strategy | {} vs Windows\".format(self.metric), fontsize = 15)\n",
    "            plt.xlabel(\"Windows\", fontsize = 15)\n",
    "            plt.ylabel(\"{}\".format(self.metric), fontsize = 15) \n",
    "            plt.show()   \n",
    "            \n",
    "    ############################## Performance ######################################\n",
    "    \n",
    "    def print_performance(self):\n",
    "        ''' Calculates and prints various Performance Metrics.\n",
    "        '''\n",
    "        \n",
    "        data = self.results.copy()\n",
    "        strategy_multiple = round(self.calculate_multiple(data.strategy), 6)\n",
    "        bh_multiple =       round(self.calculate_multiple(data.returns), 6)\n",
    "        outperf =           round(strategy_multiple - bh_multiple, 6)\n",
    "        cagr =              round(self.calculate_cagr(data.strategy), 6)\n",
    "        ann_mean =          round(self.calculate_annualized_mean(data.strategy), 6)\n",
    "        ann_std =           round(self.calculate_annualized_std(data.strategy), 6)\n",
    "        sharpe =            round(self.calculate_sharpe(data.strategy), 6)\n",
    "        sortino =           round(self.calculate_sortino(data.strategy), 6)\n",
    "        max_drawdown =      round(self.calculate_max_drawdown(data.strategy), 6)\n",
    "        calmar =            round(self.calculate_calmar(data.strategy), 6)\n",
    "        max_dd_duration =   round(self.calculate_max_dd_duration(data.strategy), 6)\n",
    "        kelly_criterion =   round(self.calculate_kelly_criterion(data.strategy), 6)\n",
    "        \n",
    "        print(100 * \"=\")\n",
    "        print(\"SIMPLE CONTRARIAN STRATEGY | INSTRUMENT = {} | WINDOW = {}\".format(self.symbol, self.window))\n",
    "        print(100 * \"-\")\n",
    "        #print(\"\\n\")\n",
    "        print(\"PERFORMANCE MEASURES:\")\n",
    "        print(\"\\n\")\n",
    "        print(\"Multiple (Strategy):         {}\".format(strategy_multiple))\n",
    "        print(\"Multiple (Buy-and-Hold):     {}\".format(bh_multiple))\n",
    "        print(38 * \"-\")\n",
    "        print(\"Out-/Underperformance:       {}\".format(outperf))\n",
    "        print(\"\\n\")\n",
    "        print(\"CAGR:                        {}\".format(cagr))\n",
    "        print(\"Annualized Mean:             {}\".format(ann_mean))\n",
    "        print(\"Annualized Std:              {}\".format(ann_std))\n",
    "        print(\"Sharpe Ratio:                {}\".format(sharpe))\n",
    "        print(\"Sortino Ratio:               {}\".format(sortino))\n",
    "        print(\"Maximum Drawdown:            {}\".format(max_drawdown))\n",
    "        print(\"Calmar Ratio:                {}\".format(calmar))\n",
    "        print(\"Max Drawdown Duration:       {} Days\".format(max_dd_duration))\n",
    "        print(\"Kelly Criterion:             {}\".format(kelly_criterion))\n",
    "        \n",
    "        print(100 * \"=\")\n",
    "        \n",
    "    def calculate_multiple(self, series):\n",
    "        return np.exp(series.sum())\n",
    "    \n",
    "    def calculate_cagr(self, series):\n",
    "        return np.exp(series.sum())**(1/((series.index[-1] - series.index[0]).days / 365.25)) - 1\n",
    "    \n",
    "    def calculate_annualized_mean(self, series):\n",
    "        return series.mean() * self.tp_year\n",
    "    \n",
    "    def calculate_annualized_std(self, series):\n",
    "        return series.std() * np.sqrt(self.tp_year)\n",
    "    \n",
    "    def calculate_sharpe(self, series):\n",
    "        if series.std() == 0:\n",
    "            return np.nan\n",
    "        else:\n",
    "            return series.mean() / series.std() * np.sqrt(self.tp_year)\n",
    "    \n",
    "    def calculate_sortino(self, series):\n",
    "        excess_returns = (series - 0)\n",
    "        downside_deviation = np.sqrt(np.mean(np.where(excess_returns < 0, excess_returns, 0)**2))\n",
    "        if downside_deviation == 0:\n",
    "            return np.nan\n",
    "        else:\n",
    "            sortino = (series.mean() - 0) / downside_deviation * np.sqrt(self.tp_year)\n",
    "            return sortino \n",
    "    \n",
    "    def calculate_max_drawdown(self, series):\n",
    "        creturns = series.cumsum().apply(np.exp)\n",
    "        cummax = creturns.cummax()\n",
    "        drawdown = (cummax - creturns)/cummax\n",
    "        max_dd = drawdown.max()\n",
    "        return max_dd\n",
    "    \n",
    "    def calculate_calmar(self, series):\n",
    "        max_dd = self.calculate_max_drawdown(series)\n",
    "        if max_dd == 0:\n",
    "            return np.nan\n",
    "        else:\n",
    "            cagr = self.calculate_cagr(series)\n",
    "            calmar = cagr / max_dd\n",
    "            return calmar\n",
    "    \n",
    "    def calculate_max_dd_duration(self, series):\n",
    "        creturns = series.cumsum().apply(np.exp)\n",
    "        cummax = creturns.cummax()\n",
    "        drawdown = (cummax - creturns)/cummax\n",
    "    \n",
    "        begin = drawdown[drawdown == 0].index\n",
    "        end = begin[1:]\n",
    "        end = end.append(pd.DatetimeIndex([drawdown.index[-1]]))\n",
    "        periods = end - begin\n",
    "        max_ddd = periods.max()\n",
    "        return max_ddd.days\n",
    "    \n",
    "    def calculate_kelly_criterion(self, series):\n",
    "        series = np.exp(series) - 1\n",
    "        if series.var() == 0:\n",
    "            return np.nan\n",
    "        else:\n",
    "            return series.mean() / series.var()\n",
    "    \n",
    "    ############################## Performance ######################################"
   ]
  },
  {
   "cell_type": "code",
   "execution_count": null,
   "metadata": {},
   "outputs": [],
   "source": [
    "low_f = pd.read_csv(\"intraday.csv\", parse_dates = [\"time\"], index_col = \"time\")\n",
    "low_f"
   ]
  },
  {
   "cell_type": "code",
   "execution_count": null,
   "metadata": {},
   "outputs": [],
   "source": [
    "high_f = pd.read_csv(\"one_minute.csv\", parse_dates = [\"time\"], index_col = \"time\")\n",
    "high_f"
   ]
  },
  {
   "cell_type": "code",
   "execution_count": null,
   "metadata": {},
   "outputs": [],
   "source": [
    "high_f.info()"
   ]
  },
  {
   "cell_type": "code",
   "execution_count": null,
   "metadata": {},
   "outputs": [],
   "source": [
    "high_f.fillna(method = \"ffill\", inplace = True)"
   ]
  },
  {
   "cell_type": "code",
   "execution_count": null,
   "metadata": {},
   "outputs": [],
   "source": [
    "high_f.info()"
   ]
  },
  {
   "cell_type": "code",
   "execution_count": null,
   "metadata": {},
   "outputs": [],
   "source": [
    "low_f.plot(figsize = (12, 8))\n",
    "plt.show()"
   ]
  },
  {
   "cell_type": "code",
   "execution_count": null,
   "metadata": {},
   "outputs": [],
   "source": [
    "high_f.EURUSD.plot(figsize = (12, 8))\n",
    "plt.show()"
   ]
  },
  {
   "cell_type": "code",
   "execution_count": null,
   "metadata": {},
   "outputs": [],
   "source": [
    "low_f.loc[\"2018-05-01\":\"2018-05-05\"].plot(figsize = (12, 8))\n",
    "plt.show()"
   ]
  },
  {
   "cell_type": "code",
   "execution_count": null,
   "metadata": {},
   "outputs": [],
   "source": [
    "high_f.loc[\"2018-05-01\":\"2018-05-05\", \"EURUSD\"].plot(figsize = (12, 8))\n",
    "plt.show()"
   ]
  },
  {
   "cell_type": "markdown",
   "metadata": {},
   "source": [
    "__Conclusion and open Questions:__\n",
    "- 1 minute data contains __additional short-term price moves__ and __volatility__.\n",
    "- __Price Volatility__ is a __desirable attribute__ for trading. We can´t make profits if prices don´t move.  \n",
    "- __More information is better__ than less information.\n",
    "- Can we __take advantage__ of the short-term volatility or is it just (patternless) __random noise__? \n",
    "- At least it __doesn´t hurt__ us, right? \n",
    "- Best Contrarian Strategy based on __1 minute data__ should be __at least as good__ as the best one based on __6h data__?"
   ]
  },
  {
   "cell_type": "code",
   "execution_count": null,
   "metadata": {},
   "outputs": [],
   "source": []
  },
  {
   "cell_type": "markdown",
   "metadata": {},
   "source": [
    "## How Trading Strategies are impacted by Random Noise (Part 1)"
   ]
  },
  {
   "cell_type": "markdown",
   "metadata": {},
   "source": [
    "__Initial Assumption: Zero Trading Costs__"
   ]
  },
  {
   "cell_type": "code",
   "execution_count": null,
   "metadata": {},
   "outputs": [],
   "source": [
    "symbol = \"EURUSD\"\n",
    "start = \"2018-01-01\"\n",
    "end = \"2019-12-31\"\n",
    "ptc = 0"
   ]
  },
  {
   "cell_type": "markdown",
   "metadata": {},
   "source": [
    "__6h Data__"
   ]
  },
  {
   "cell_type": "code",
   "execution_count": null,
   "metadata": {},
   "outputs": [],
   "source": [
    "tester1 = ConBacktester(filepath = \"intraday.csv\", symbol = symbol, start = start, end = end, tc = ptc)\n",
    "tester1"
   ]
  },
  {
   "cell_type": "code",
   "execution_count": null,
   "metadata": {
    "scrolled": false
   },
   "outputs": [],
   "source": [
    "tester1.optimize_strategy((1, 1001, 1), metric = \"Multiple\")"
   ]
  },
  {
   "cell_type": "code",
   "execution_count": null,
   "metadata": {},
   "outputs": [],
   "source": [
    "tester1.plot_results()"
   ]
  },
  {
   "cell_type": "markdown",
   "metadata": {},
   "source": [
    "__Summary__:"
   ]
  },
  {
   "cell_type": "markdown",
   "metadata": {},
   "source": [
    "- Bar length (Frequency/Granularity): __6 hours__\n",
    "- Decision/Trading Frequency: __6 hours__\n",
    "- Decisions based on the performance of the most recent __264 hours__ (44 * 6h)"
   ]
  },
  {
   "cell_type": "code",
   "execution_count": null,
   "metadata": {},
   "outputs": [],
   "source": []
  },
  {
   "cell_type": "markdown",
   "metadata": {},
   "source": [
    "__1 minute Data__"
   ]
  },
  {
   "cell_type": "code",
   "execution_count": null,
   "metadata": {},
   "outputs": [],
   "source": [
    "tester2 = ConBacktester(filepath = \"one_minute.csv\", symbol = symbol, start = start, end = end, tc = ptc)\n",
    "tester2"
   ]
  },
  {
   "cell_type": "markdown",
   "metadata": {},
   "source": [
    "__Plan: Re-Engineering the windows = 44 Strategy (6h) with 1 minute Data.__"
   ]
  },
  {
   "cell_type": "code",
   "execution_count": null,
   "metadata": {},
   "outputs": [],
   "source": [
    "window = 44\n",
    "hours = 6\n",
    "minutes = 60"
   ]
  },
  {
   "cell_type": "code",
   "execution_count": null,
   "metadata": {},
   "outputs": [],
   "source": [
    "tester2.test_strategy(window = window * hours * minutes)"
   ]
  },
  {
   "cell_type": "code",
   "execution_count": null,
   "metadata": {},
   "outputs": [],
   "source": [
    "tester2.plot_results()"
   ]
  },
  {
   "cell_type": "markdown",
   "metadata": {},
   "source": [
    "__Summary__:\n",
    "\n",
    "- Bar length (Frequency/Granularity): __1 minute__\n",
    "- Decision/Trading Frequency: __1 minute__\n",
    "- Decisions based on the performance of the most recent __264 hours__ (15,840 minutes)"
   ]
  },
  {
   "cell_type": "code",
   "execution_count": null,
   "metadata": {},
   "outputs": [],
   "source": [
    "tester1.plot_results()"
   ]
  },
  {
   "cell_type": "markdown",
   "metadata": {},
   "source": [
    "__Conclusion:__\n",
    "- Can we take advantage of the short-term volatility or is it just (patternless) random noise? __A: (Small) benefit__\n",
    "- At least it doesn´t hurt us, right? __A: Correct__\n",
    "- Best Contrarian Strategy based on 1 minute data should be at least as good as the best one based on 6h data? __A: Correct__"
   ]
  },
  {
   "cell_type": "markdown",
   "metadata": {},
   "source": [
    "__Be careful, so far we ignored trading costs__!"
   ]
  },
  {
   "cell_type": "code",
   "execution_count": null,
   "metadata": {},
   "outputs": [],
   "source": []
  },
  {
   "cell_type": "markdown",
   "metadata": {},
   "source": [
    "## How Trading Strategies are impacted by Random Noise (Part 2)"
   ]
  },
  {
   "cell_type": "markdown",
   "metadata": {},
   "source": [
    "__Now with Trading Costs:__"
   ]
  },
  {
   "cell_type": "code",
   "execution_count": null,
   "metadata": {},
   "outputs": [],
   "source": [
    "symbol = \"EURUSD\"\n",
    "start = \"2018-01-01\"\n",
    "end = \"2019-12-31\"\n",
    "ptc = 0.00007"
   ]
  },
  {
   "cell_type": "markdown",
   "metadata": {},
   "source": [
    "__6h Data__"
   ]
  },
  {
   "cell_type": "code",
   "execution_count": null,
   "metadata": {},
   "outputs": [],
   "source": [
    "tester1 = ConBacktester(filepath = \"intraday.csv\", symbol = symbol, start = start, end = end, tc = ptc)\n",
    "tester1"
   ]
  },
  {
   "cell_type": "code",
   "execution_count": null,
   "metadata": {},
   "outputs": [],
   "source": [
    "tester1.optimize_strategy((1, 1001, 1), metric = \"Multiple\")"
   ]
  },
  {
   "cell_type": "code",
   "execution_count": null,
   "metadata": {},
   "outputs": [],
   "source": [
    "tester1.plot_results()"
   ]
  },
  {
   "cell_type": "markdown",
   "metadata": {},
   "source": [
    "__1 minute Data__"
   ]
  },
  {
   "cell_type": "code",
   "execution_count": null,
   "metadata": {},
   "outputs": [],
   "source": [
    "tester2 = ConBacktester(filepath = \"one_minute.csv\", symbol = symbol, start = start, end = end, tc = ptc)\n",
    "tester2"
   ]
  },
  {
   "cell_type": "markdown",
   "metadata": {},
   "source": [
    "__Plan: Re-Engineering the windows = 51 Strategy (6h) with 1 minute Data.__"
   ]
  },
  {
   "cell_type": "code",
   "execution_count": null,
   "metadata": {},
   "outputs": [],
   "source": [
    "window = 51\n",
    "hours = 6\n",
    "minutes = 60"
   ]
  },
  {
   "cell_type": "code",
   "execution_count": null,
   "metadata": {},
   "outputs": [],
   "source": [
    "tester2.test_strategy(window * hours * minutes)"
   ]
  },
  {
   "cell_type": "code",
   "execution_count": null,
   "metadata": {},
   "outputs": [],
   "source": [
    "tester2.plot_results()"
   ]
  },
  {
   "cell_type": "markdown",
   "metadata": {},
   "source": [
    "__Why is that?__\n",
    "\n",
    "- 1 minute Data (unsmoothed) has lots of __random noise__ (false/unprofitable trading signals) \n",
    "- leading to __excessive (and useless) trading__\n",
    "- __additional trading costs are way higher__ than the additional (small) benefits."
   ]
  },
  {
   "cell_type": "code",
   "execution_count": null,
   "metadata": {},
   "outputs": [],
   "source": [
    "tester1.results.trades.value_counts()"
   ]
  },
  {
   "cell_type": "code",
   "execution_count": null,
   "metadata": {},
   "outputs": [],
   "source": [
    "tester2.results.trades.value_counts() # trading increases by a factor of 20!!!"
   ]
  },
  {
   "cell_type": "code",
   "execution_count": null,
   "metadata": {},
   "outputs": [],
   "source": [
    "tester2.optimize_strategy((1*60*6, 1001*60*6, 1*60*6)) # try to find optimal strategy based on 1 minute data"
   ]
  },
  {
   "cell_type": "code",
   "execution_count": null,
   "metadata": {},
   "outputs": [],
   "source": [
    "tester2.plot_results()"
   ]
  },
  {
   "cell_type": "markdown",
   "metadata": {},
   "source": [
    "__Conclusion:__\n",
    "- there is __no chance to find (highly) profitable simple contrarian strategies with 1 minute data__.\n",
    "- __Short term volatility__ is just (patternless) __random noise__ -> at least for the simple contrarian strategy\n",
    "- __wrong__: the higher the data frequency the better for trading (more information is better than less) \n",
    "- there must be an __optimal frequency/granularity__ for the simple contrarian strategy and the given trading cost level"
   ]
  },
  {
   "cell_type": "code",
   "execution_count": null,
   "metadata": {},
   "outputs": [],
   "source": []
  },
  {
   "cell_type": "markdown",
   "metadata": {},
   "source": [
    "## Data Resampling/Smoothing and Backtesting"
   ]
  },
  {
   "cell_type": "markdown",
   "metadata": {},
   "source": [
    "__Plan: Backtesting the (random) strategy with frequency = 180 minutes | window = 100__"
   ]
  },
  {
   "cell_type": "code",
   "execution_count": null,
   "metadata": {},
   "outputs": [],
   "source": [
    "import pandas as pd\n",
    "import numpy as np\n",
    "import matplotlib.pyplot as plt\n",
    "plt.style.use(\"seaborn-v0_8\")"
   ]
  },
  {
   "cell_type": "code",
   "execution_count": null,
   "metadata": {},
   "outputs": [],
   "source": [
    "symbol = \"EURUSD\""
   ]
  },
  {
   "cell_type": "markdown",
   "metadata": {},
   "source": [
    "__Get Data__"
   ]
  },
  {
   "cell_type": "code",
   "execution_count": null,
   "metadata": {},
   "outputs": [],
   "source": [
    "data = pd.read_csv(\"one_minute.csv\", parse_dates = [\"time\"], index_col = \"time\")\n",
    "data"
   ]
  },
  {
   "cell_type": "code",
   "execution_count": null,
   "metadata": {},
   "outputs": [],
   "source": [
    "data = data[symbol].to_frame().fillna(method = \"ffill\")\n",
    "data"
   ]
  },
  {
   "cell_type": "code",
   "execution_count": null,
   "metadata": {},
   "outputs": [],
   "source": [
    "data.rename(columns = {symbol:\"price\"}, inplace = True)"
   ]
  },
  {
   "cell_type": "code",
   "execution_count": null,
   "metadata": {},
   "outputs": [],
   "source": [
    "data"
   ]
  },
  {
   "cell_type": "code",
   "execution_count": null,
   "metadata": {
    "scrolled": false
   },
   "outputs": [],
   "source": [
    "data[\"returns\"] = np.log(data.price / data.price.shift(1))\n",
    "data"
   ]
  },
  {
   "cell_type": "markdown",
   "metadata": {},
   "source": [
    "__Prepare Data__"
   ]
  },
  {
   "cell_type": "code",
   "execution_count": null,
   "metadata": {},
   "outputs": [],
   "source": [
    "freq = 180\n",
    "freq = \"{}min\".format(freq)\n",
    "window = 100"
   ]
  },
  {
   "cell_type": "code",
   "execution_count": null,
   "metadata": {},
   "outputs": [],
   "source": [
    "freq"
   ]
  },
  {
   "cell_type": "code",
   "execution_count": null,
   "metadata": {},
   "outputs": [],
   "source": [
    "resamp = data.price.to_frame().resample(freq).last().dropna().iloc[:-1]\n",
    "resamp"
   ]
  },
  {
   "cell_type": "markdown",
   "metadata": {},
   "source": [
    "- use last() to get a bar´s close price\n",
    "- dropna() removes NaNs on weekends and bank holidays (resample() creates ALL 180m bars)\n",
    "- the last bar is typically incomplete -> iloc[:-1]\n",
    "- Index: It´s the starting time (open) of the bars"
   ]
  },
  {
   "cell_type": "code",
   "execution_count": null,
   "metadata": {},
   "outputs": [],
   "source": [
    "resamp[\"returns\"] = np.log(resamp / resamp.shift(1))\n",
    "resamp[\"roll_return\"] = resamp[\"returns\"].rolling(window).mean()\n",
    "resamp"
   ]
  },
  {
   "cell_type": "code",
   "execution_count": null,
   "metadata": {},
   "outputs": [],
   "source": [
    "resamp[\"position\"] = -np.sign(resamp[\"roll_return\"])\n",
    "resamp"
   ]
  },
  {
   "cell_type": "code",
   "execution_count": null,
   "metadata": {},
   "outputs": [],
   "source": [
    "resamp = resamp.dropna()\n",
    "resamp"
   ]
  },
  {
   "cell_type": "markdown",
   "metadata": {},
   "source": [
    "-> First Trade at __2018-01-18 06:00:00__ (short / -1) for the bar from 2018-01-18 06:00:00 until 2018-01-18 09:00:00"
   ]
  },
  {
   "cell_type": "code",
   "execution_count": null,
   "metadata": {},
   "outputs": [],
   "source": []
  },
  {
   "cell_type": "markdown",
   "metadata": {},
   "source": [
    "__Upsample__"
   ]
  },
  {
   "cell_type": "markdown",
   "metadata": {},
   "source": [
    "__Goal: Copy the trading positions back into the 1 minute Dataset. (\"upsampling\")__"
   ]
  },
  {
   "cell_type": "markdown",
   "metadata": {},
   "source": [
    "-> In the 1 minute Dataset, first Trade at __2018-01-18 06:00:00__ needs to be __indicated by the bar starting at 2018-01-18 05:59:00__"
   ]
  },
  {
   "cell_type": "code",
   "execution_count": null,
   "metadata": {},
   "outputs": [],
   "source": [
    "begin = \"2018-01-18 05:59:00\"\n",
    "begin"
   ]
  },
  {
   "cell_type": "code",
   "execution_count": null,
   "metadata": {},
   "outputs": [],
   "source": [
    "data = data.loc[begin:].copy()\n",
    "data"
   ]
  },
  {
   "cell_type": "code",
   "execution_count": null,
   "metadata": {},
   "outputs": [],
   "source": [
    "resamp"
   ]
  },
  {
   "cell_type": "code",
   "execution_count": null,
   "metadata": {},
   "outputs": [],
   "source": [
    "resamp.position.shift()"
   ]
  },
  {
   "cell_type": "code",
   "execution_count": null,
   "metadata": {},
   "outputs": [],
   "source": [
    "data[\"position\"] = resamp.position.shift()\n",
    "data"
   ]
  },
  {
   "cell_type": "code",
   "execution_count": null,
   "metadata": {},
   "outputs": [],
   "source": [
    "data.position = data.position.shift(-1).ffill() # shift back one bar and then forward fill for the next 180 minutes"
   ]
  },
  {
   "cell_type": "code",
   "execution_count": null,
   "metadata": {},
   "outputs": [],
   "source": [
    "data"
   ]
  },
  {
   "cell_type": "markdown",
   "metadata": {},
   "source": [
    "__Backtest__"
   ]
  },
  {
   "cell_type": "code",
   "execution_count": null,
   "metadata": {},
   "outputs": [],
   "source": [
    "data[\"strategy\"] = data[\"position\"].shift(1) * data[\"returns\"]\n",
    "data"
   ]
  },
  {
   "cell_type": "code",
   "execution_count": null,
   "metadata": {},
   "outputs": [],
   "source": [
    "ptc = 0.00007"
   ]
  },
  {
   "cell_type": "code",
   "execution_count": null,
   "metadata": {},
   "outputs": [],
   "source": [
    "data[\"trades\"] = data.position.diff().fillna(0).abs()\n",
    "data.strategy = data.strategy - data.trades * ptc"
   ]
  },
  {
   "cell_type": "code",
   "execution_count": null,
   "metadata": {},
   "outputs": [],
   "source": [
    "data"
   ]
  },
  {
   "cell_type": "code",
   "execution_count": null,
   "metadata": {},
   "outputs": [],
   "source": [
    "data[\"creturns\"] = data[\"returns\"].cumsum().apply(np.exp)\n",
    "data[\"cstrategy\"] = data[\"strategy\"].cumsum().apply(np.exp)"
   ]
  },
  {
   "cell_type": "code",
   "execution_count": null,
   "metadata": {},
   "outputs": [],
   "source": [
    "data.dropna()"
   ]
  },
  {
   "cell_type": "code",
   "execution_count": null,
   "metadata": {},
   "outputs": [],
   "source": [
    "data[[\"creturns\", \"cstrategy\"]].plot(figsize = (12, 8), fontsize = 13)\n",
    "plt.title(\"Freq = {} | Window = {}\".format(freq, window), fontsize = 15)\n",
    "plt.show()"
   ]
  },
  {
   "cell_type": "code",
   "execution_count": null,
   "metadata": {},
   "outputs": [],
   "source": [
    "data.trades.value_counts()"
   ]
  },
  {
   "cell_type": "code",
   "execution_count": null,
   "metadata": {},
   "outputs": [],
   "source": []
  },
  {
   "cell_type": "markdown",
   "metadata": {},
   "source": [
    "## Updating the ConBacktester Class (Smoothing)"
   ]
  },
  {
   "cell_type": "code",
   "execution_count": null,
   "metadata": {},
   "outputs": [],
   "source": [
    "import pandas as pd\n",
    "import numpy as np\n",
    "import matplotlib.pyplot as plt\n",
    "plt.style.use(\"seaborn-v0_8\")"
   ]
  },
  {
   "cell_type": "code",
   "execution_count": null,
   "metadata": {},
   "outputs": [],
   "source": [
    "# Version 4.0 (Smoothing)\n",
    "\n",
    "class ConBacktester():\n",
    "    ''' Class for the vectorized backtesting of simple contrarian trading strategies.\n",
    "    \n",
    "    Attributes\n",
    "    ============\n",
    "    filepath: str\n",
    "        local filepath of the dataset (csv-file)\n",
    "    symbol: str\n",
    "        ticker symbol (instrument) to be backtested\n",
    "    start: str\n",
    "        start date for data import\n",
    "    end: str\n",
    "        end date for data import\n",
    "    tc: float\n",
    "        proportional trading costs per trade\n",
    "    \n",
    "    \n",
    "    Methods\n",
    "    =======\n",
    "    get_data:\n",
    "        imports the data.\n",
    "        \n",
    "    test_strategy:\n",
    "        prepares the data and backtests the trading strategy incl. reporting (wrapper).\n",
    "        \n",
    "    prepare_data:\n",
    "        prepares the data for backtesting.\n",
    "    \n",
    "    run_backtest:\n",
    "        runs the strategy backtest.\n",
    "    \n",
    "    upsample:\n",
    "        upsamples/copies trading positions back to higher frequency.\n",
    "        \n",
    "    plot_results:\n",
    "        plots the cumulative performance of the trading strategy compared to buy-and-hold.\n",
    "        \n",
    "    optimize_strategy:\n",
    "        backtests strategy for different parameter values incl. optimization and reporting (wrapper).\n",
    "    \n",
    "    find_best_strategy:\n",
    "        finds the optimal strategy (global maximum) given the window parameter range.\n",
    "        \n",
    "    visualize_many:\n",
    "        plots parameter values vs. performance. \n",
    "        \n",
    "    print_performance:\n",
    "        calculates and prints various performance metrics.\n",
    "        \n",
    "    '''    \n",
    "    \n",
    "    def __init__(self, filepath, symbol, start, end, tc):\n",
    "        \n",
    "        self.filepath = filepath\n",
    "        self.symbol = symbol\n",
    "        self.start = start\n",
    "        self.end = end\n",
    "        self.tc = tc\n",
    "        self.results = None\n",
    "        self.get_data()\n",
    "        self.tp_year = (self.data.price.count() / ((self.data.index[-1] - self.data.index[0]).days / 365.25))\n",
    "        \n",
    "    def __repr__(self):\n",
    "        return \"ConBacktester(symbol = {}, start = {}, end = {})\".format(self.symbol, self.start, self.end)\n",
    "        \n",
    "    def get_data(self):\n",
    "        ''' Imports the data.\n",
    "        '''\n",
    "        raw = pd.read_csv(self.filepath, parse_dates = [\"time\"], index_col = \"time\")\n",
    "        raw = raw[self.symbol].to_frame().fillna(method = \"ffill\")\n",
    "        raw = raw.loc[self.start:self.end].copy()\n",
    "        raw.rename(columns={self.symbol: \"price\"}, inplace=True)\n",
    "        raw[\"returns\"] = np.log(raw.price / raw.price.shift(1))\n",
    "        self.data = raw\n",
    "        \n",
    "    def test_strategy(self, freq = 60, window = 1): # added : freq\n",
    "        '''\n",
    "        Prepares the data and backtests the trading strategy incl. reporting (Wrapper).\n",
    "         \n",
    "        Parameters\n",
    "        ============\n",
    "        freq: int\n",
    "            data frequency/granularity to work with (in minutes)\n",
    "        \n",
    "        window: int\n",
    "            time window (number of bars) to be considered for the strategy.\n",
    "        '''\n",
    "        self.freq = \"{}min\".format(freq) # new\n",
    "        self.window = window\n",
    "                                \n",
    "        self.prepare_data(freq, window) # added: freq\n",
    "        self.upsample() # new\n",
    "        self.run_backtest()\n",
    "        \n",
    "        data = self.results.copy()\n",
    "        data[\"creturns\"] = data[\"returns\"].cumsum().apply(np.exp)\n",
    "        data[\"cstrategy\"] = data[\"strategy\"].cumsum().apply(np.exp)\n",
    "        self.results = data\n",
    "        \n",
    "        self.print_performance()\n",
    "    \n",
    "    def prepare_data(self, freq, window): # added: freq\n",
    "        ''' Prepares the Data for Backtesting.\n",
    "        '''\n",
    "        # NEW/UPDATED\n",
    "        data = self.data.price.to_frame().copy()\n",
    "        freq = \"{}min\".format(freq)\n",
    "        resamp = data.resample(freq).last().dropna().iloc[:-1]\n",
    "        resamp[\"returns\"] = np.log(resamp / resamp.shift(1))\n",
    "        resamp[\"roll_return\"] = resamp[\"returns\"].rolling(window).mean()\n",
    "        resamp[\"position\"] = -np.sign(resamp[\"roll_return\"])\n",
    "        resamp.dropna(inplace = True)\n",
    "        self.results = resamp\n",
    "        return resamp \n",
    "    \n",
    "    def run_backtest(self):\n",
    "        ''' Runs the strategy backtest.\n",
    "        '''\n",
    "        \n",
    "        data = self.results.copy()\n",
    "        data[\"strategy\"] = data[\"position\"].shift(1) * data[\"returns\"]\n",
    "        \n",
    "        # determine the number of trades in each bar\n",
    "        data[\"trades\"] = data.position.diff().fillna(0).abs()\n",
    "        \n",
    "        # subtract transaction/trading costs from pre-cost return\n",
    "        data.strategy = data.strategy - data.trades * self.tc\n",
    "        \n",
    "        self.results = data\n",
    "        \n",
    "    def upsample(self): # NEW!!!\n",
    "        '''  Upsamples/copies trading positions back to higher frequency.\n",
    "        '''\n",
    "        \n",
    "        data = self.data.copy()\n",
    "        resamp = self.results.copy()\n",
    "               \n",
    "        data[\"position\"] = resamp.position.shift()\n",
    "        data = data.loc[resamp.index[0]:].copy()\n",
    "        data.position = data.position.shift(-1).ffill()\n",
    "        data.dropna(inplace=True)\n",
    "        self.results = data\n",
    "    \n",
    "    def plot_results(self):\n",
    "        '''  Plots the cumulative performance of the trading strategy compared to buy-and-hold.\n",
    "        '''\n",
    "        if self.results is None:\n",
    "            print(\"Run test_strategy() first.\")\n",
    "        else:\n",
    "            title = \"{} | Freq = {} | Window = {} | TC = {}\".format(self.symbol, self.freq, self.window, self.tc)\n",
    "            self.results[[\"creturns\", \"cstrategy\"]].plot(title=title, figsize=(12, 8))\n",
    "            \n",
    "    def optimize_strategy(self, window_range, metric = \"Multiple\"):\n",
    "        '''\n",
    "        Backtests strategy for different parameter values incl. Optimization and Reporting (Wrapper).\n",
    "         \n",
    "        Parameters\n",
    "        ============\n",
    "        window_range: tuple\n",
    "            tuples of the form (start, end, step size).\n",
    "        \n",
    "        metric: str\n",
    "            performance metric to be optimized (can be: \"Multiple\", \"Sharpe\", \"Sortino\", \"Calmar\", \"Kelly\")\n",
    "        '''\n",
    "        \n",
    "        self.metric = metric\n",
    "        \n",
    "        if metric == \"Multiple\":\n",
    "            performance_function = self.calculate_multiple\n",
    "        elif metric == \"Sharpe\":\n",
    "            performance_function = self.calculate_sharpe\n",
    "        elif metric == \"Sortino\":\n",
    "            performance_function = self.calculate_sortino\n",
    "        elif metric == \"Calmar\": \n",
    "            performance_function = self.calculate_calmar\n",
    "        elif metric == \"Kelly\": \n",
    "            performance_function = self.calculate_kelly_criterion\n",
    "        \n",
    "        windows = range(*window_range)\n",
    "        \n",
    "        performance = []\n",
    "        for window in windows:\n",
    "            self.prepare_data(window)\n",
    "            self.run_backtest()\n",
    "            performance.append(performance_function(self.results.strategy))\n",
    "    \n",
    "        self.results_overview =  pd.DataFrame(data = np.array(windows), columns = [\"Windows\"])\n",
    "        self.results_overview[\"Performance\"] = performance\n",
    "        self.find_best_strategy()\n",
    "        \n",
    "    def find_best_strategy(self):\n",
    "        ''' Finds the optimal strategy (global maximum) given the window parameter range.\n",
    "        '''\n",
    "        best = self.results_overview.nlargest(1, \"Performance\")\n",
    "        window = best.Windows.iloc[0]\n",
    "        perf = best.Performance.iloc[0]\n",
    "        print(\"Windows: {} | {}: {}\".format(window, self.metric, round(perf, 6))) \n",
    "        self.test_strategy(window)\n",
    "        \n",
    "    def visualize_many(self):\n",
    "        ''' Plots parameter values vs. Performance.\n",
    "        '''\n",
    "\n",
    "        if self.results_overview is None:\n",
    "            print(\"Run optimize_strategy() first.\")\n",
    "        else:\n",
    "            self.results_overview.set_index(\"Windows\", inplace = True)\n",
    "            self.results_overview.plot(figsize = (12, 8))\n",
    "            plt.title(\"Simple Contrarian Strategy | {} vs Windows\".format(self.metric), fontsize = 15)\n",
    "            plt.xlabel(\"Windows\", fontsize = 15)\n",
    "            plt.ylabel(\"{}\".format(self.metric), fontsize = 15) \n",
    "            plt.show()   \n",
    "            \n",
    "    ############################## Performance ######################################\n",
    "    \n",
    "    def print_performance(self):\n",
    "        ''' Calculates and prints various Performance Metrics.\n",
    "        '''\n",
    "        \n",
    "        data = self.results.copy()\n",
    "        strategy_multiple = round(self.calculate_multiple(data.strategy), 6)\n",
    "        bh_multiple =       round(self.calculate_multiple(data.returns), 6)\n",
    "        outperf =           round(strategy_multiple - bh_multiple, 6)\n",
    "        cagr =              round(self.calculate_cagr(data.strategy), 6)\n",
    "        ann_mean =          round(self.calculate_annualized_mean(data.strategy), 6)\n",
    "        ann_std =           round(self.calculate_annualized_std(data.strategy), 6)\n",
    "        sharpe =            round(self.calculate_sharpe(data.strategy), 6)\n",
    "        sortino =           round(self.calculate_sortino(data.strategy), 6)\n",
    "        max_drawdown =      round(self.calculate_max_drawdown(data.strategy), 6)\n",
    "        calmar =            round(self.calculate_calmar(data.strategy), 6)\n",
    "        max_dd_duration =   round(self.calculate_max_dd_duration(data.strategy), 6)\n",
    "        kelly_criterion =   round(self.calculate_kelly_criterion(data.strategy), 6)\n",
    "        \n",
    "        print(100 * \"=\")\n",
    "        print(\"SIMPLE CONTRARIAN STRATEGY | INSTRUMENT = {} | Freq: {} | WINDOW = {}\".format(self.symbol, self.freq, self.window))\n",
    "        print(100 * \"-\")\n",
    "        #print(\"\\n\")\n",
    "        print(\"PERFORMANCE MEASURES:\")\n",
    "        print(\"\\n\")\n",
    "        print(\"Multiple (Strategy):         {}\".format(strategy_multiple))\n",
    "        print(\"Multiple (Buy-and-Hold):     {}\".format(bh_multiple))\n",
    "        print(38 * \"-\")\n",
    "        print(\"Out-/Underperformance:       {}\".format(outperf))\n",
    "        print(\"\\n\")\n",
    "        print(\"CAGR:                        {}\".format(cagr))\n",
    "        print(\"Annualized Mean:             {}\".format(ann_mean))\n",
    "        print(\"Annualized Std:              {}\".format(ann_std))\n",
    "        print(\"Sharpe Ratio:                {}\".format(sharpe))\n",
    "        print(\"Sortino Ratio:               {}\".format(sortino))\n",
    "        print(\"Maximum Drawdown:            {}\".format(max_drawdown))\n",
    "        print(\"Calmar Ratio:                {}\".format(calmar))\n",
    "        print(\"Max Drawdown Duration:       {} Days\".format(max_dd_duration))\n",
    "        print(\"Kelly Criterion:             {}\".format(kelly_criterion))\n",
    "        \n",
    "        print(100 * \"=\")\n",
    "        \n",
    "    def calculate_multiple(self, series):\n",
    "        return np.exp(series.sum())\n",
    "    \n",
    "    def calculate_cagr(self, series):\n",
    "        return np.exp(series.sum())**(1/((series.index[-1] - series.index[0]).days / 365.25)) - 1\n",
    "    \n",
    "    def calculate_annualized_mean(self, series):\n",
    "        return series.mean() * self.tp_year\n",
    "    \n",
    "    def calculate_annualized_std(self, series):\n",
    "        return series.std() * np.sqrt(self.tp_year)\n",
    "    \n",
    "    def calculate_sharpe(self, series):\n",
    "        if series.std() == 0:\n",
    "            return np.nan\n",
    "        else:\n",
    "            return series.mean() / series.std() * np.sqrt(self.tp_year)\n",
    "    \n",
    "    def calculate_sortino(self, series):\n",
    "        excess_returns = (series - 0)\n",
    "        downside_deviation = np.sqrt(np.mean(np.where(excess_returns < 0, excess_returns, 0)**2))\n",
    "        if downside_deviation == 0:\n",
    "            return np.nan\n",
    "        else:\n",
    "            sortino = (series.mean() - 0) / downside_deviation * np.sqrt(self.tp_year)\n",
    "            return sortino \n",
    "    \n",
    "    def calculate_max_drawdown(self, series):\n",
    "        creturns = series.cumsum().apply(np.exp)\n",
    "        cummax = creturns.cummax()\n",
    "        drawdown = (cummax - creturns)/cummax\n",
    "        max_dd = drawdown.max()\n",
    "        return max_dd\n",
    "    \n",
    "    def calculate_calmar(self, series):\n",
    "        max_dd = self.calculate_max_drawdown(series)\n",
    "        if max_dd == 0:\n",
    "            return np.nan\n",
    "        else:\n",
    "            cagr = self.calculate_cagr(series)\n",
    "            calmar = cagr / max_dd\n",
    "            return calmar\n",
    "    \n",
    "    def calculate_max_dd_duration(self, series):\n",
    "        creturns = series.cumsum().apply(np.exp)\n",
    "        cummax = creturns.cummax()\n",
    "        drawdown = (cummax - creturns)/cummax\n",
    "    \n",
    "        begin = drawdown[drawdown == 0].index\n",
    "        end = begin[1:]\n",
    "        end = end.append(pd.DatetimeIndex([drawdown.index[-1]]))\n",
    "        periods = end - begin\n",
    "        max_ddd = periods.max()\n",
    "        return max_ddd.days\n",
    "    \n",
    "    def calculate_kelly_criterion(self, series):\n",
    "        series = np.exp(series) - 1\n",
    "        if series.var() == 0:\n",
    "            return np.nan\n",
    "        else:\n",
    "            return series.mean() / series.var()\n",
    "    \n",
    "    ############################## Performance ######################################"
   ]
  },
  {
   "cell_type": "code",
   "execution_count": null,
   "metadata": {},
   "outputs": [],
   "source": [
    "filepath = \"one_minute.csv\"\n",
    "symbol = \"EURUSD\"\n",
    "start = \"2018-01-01\"\n",
    "end = \"2019-12-31\"\n",
    "ptc = 0.00007"
   ]
  },
  {
   "cell_type": "code",
   "execution_count": null,
   "metadata": {},
   "outputs": [],
   "source": [
    "tester = ConBacktester(filepath = filepath, symbol = symbol, start = start, end = end, tc = ptc)"
   ]
  },
  {
   "cell_type": "code",
   "execution_count": null,
   "metadata": {},
   "outputs": [],
   "source": [
    "tester.data"
   ]
  },
  {
   "cell_type": "code",
   "execution_count": null,
   "metadata": {},
   "outputs": [],
   "source": [
    "tester.test_strategy(freq = 180, window = 100)"
   ]
  },
  {
   "cell_type": "code",
   "execution_count": null,
   "metadata": {},
   "outputs": [],
   "source": [
    "tester.results"
   ]
  },
  {
   "cell_type": "code",
   "execution_count": null,
   "metadata": {},
   "outputs": [],
   "source": [
    "tester.plot_results()"
   ]
  },
  {
   "cell_type": "code",
   "execution_count": null,
   "metadata": {},
   "outputs": [],
   "source": []
  },
  {
   "cell_type": "markdown",
   "metadata": {},
   "source": [
    "## Two Parameter Optimization: Frequency and Window"
   ]
  },
  {
   "cell_type": "code",
   "execution_count": null,
   "metadata": {},
   "outputs": [],
   "source": [
    "from itertools import product\n",
    "import seaborn as sns"
   ]
  },
  {
   "cell_type": "code",
   "execution_count": null,
   "metadata": {},
   "outputs": [],
   "source": [
    "filepath = \"one_minute.csv\"\n",
    "symbol = \"EURUSD\"\n",
    "start = \"2018-01-01\"\n",
    "end = \"2019-12-31\"\n",
    "ptc = 0.00007"
   ]
  },
  {
   "cell_type": "code",
   "execution_count": null,
   "metadata": {},
   "outputs": [],
   "source": [
    "tester = ConBacktester(filepath = filepath, symbol = symbol, start = start, end = end, tc = ptc)"
   ]
  },
  {
   "cell_type": "code",
   "execution_count": null,
   "metadata": {},
   "outputs": [],
   "source": [
    "tester.test_strategy(freq = 180, window = 100)"
   ]
  },
  {
   "cell_type": "code",
   "execution_count": null,
   "metadata": {},
   "outputs": [],
   "source": [
    "freq_range = (51, 300, 10)\n",
    "freqs = range(*freq_range)\n",
    "freqs"
   ]
  },
  {
   "cell_type": "code",
   "execution_count": null,
   "metadata": {},
   "outputs": [],
   "source": [
    "window_range = (51, 300, 10)\n",
    "windows = range(*window_range)\n",
    "windows"
   ]
  },
  {
   "cell_type": "code",
   "execution_count": null,
   "metadata": {},
   "outputs": [],
   "source": [
    "len(list(windows))"
   ]
  },
  {
   "cell_type": "code",
   "execution_count": null,
   "metadata": {},
   "outputs": [],
   "source": [
    "combinations = list(product(freqs, windows))\n",
    "combinations"
   ]
  },
  {
   "cell_type": "code",
   "execution_count": null,
   "metadata": {},
   "outputs": [],
   "source": [
    "len(combinations)"
   ]
  },
  {
   "cell_type": "code",
   "execution_count": null,
   "metadata": {},
   "outputs": [],
   "source": [
    "performance = []\n",
    "for comb in combinations:\n",
    "    tester.prepare_data(comb[0], comb[1])\n",
    "    tester.upsample()\n",
    "    tester.run_backtest()\n",
    "    performance.append(tester.calculate_multiple(tester.results.strategy))"
   ]
  },
  {
   "cell_type": "code",
   "execution_count": null,
   "metadata": {},
   "outputs": [],
   "source": [
    "performance"
   ]
  },
  {
   "cell_type": "code",
   "execution_count": null,
   "metadata": {},
   "outputs": [],
   "source": [
    "results_overview =  pd.DataFrame(data = np.array(combinations), columns = [\"Freq\", \"Windows\"])\n",
    "results_overview"
   ]
  },
  {
   "cell_type": "code",
   "execution_count": null,
   "metadata": {},
   "outputs": [],
   "source": [
    "results_overview[\"Performance\"] = performance\n",
    "results_overview"
   ]
  },
  {
   "cell_type": "code",
   "execution_count": null,
   "metadata": {},
   "outputs": [],
   "source": [
    "results_overview.nlargest(10, \"Performance\")"
   ]
  },
  {
   "cell_type": "code",
   "execution_count": null,
   "metadata": {},
   "outputs": [],
   "source": [
    "matrix = results_overview.pivot(index = \"Freq\", columns = \"Windows\", values = \"Performance\")\n",
    "matrix"
   ]
  },
  {
   "cell_type": "code",
   "execution_count": null,
   "metadata": {},
   "outputs": [],
   "source": [
    "plt.figure(figsize=(12,8))\n",
    "sns.set_theme(font_scale=1.5)\n",
    "sns.heatmap(matrix, cmap = \"RdYlGn\", robust = True, cbar_kws = {\"label\": \"Multiple\"})\n",
    "plt.show()"
   ]
  },
  {
   "cell_type": "code",
   "execution_count": null,
   "metadata": {},
   "outputs": [],
   "source": []
  },
  {
   "cell_type": "markdown",
   "metadata": {},
   "source": [
    "## Updating the ConBacktester Class (Two Parameter Optimization)"
   ]
  },
  {
   "cell_type": "code",
   "execution_count": null,
   "metadata": {},
   "outputs": [],
   "source": [
    "import pandas as pd\n",
    "import numpy as np\n",
    "import matplotlib.pyplot as plt\n",
    "plt.style.use(\"seaborn-v0_8\")\n",
    "from itertools import product\n",
    "import seaborn as sns"
   ]
  },
  {
   "cell_type": "code",
   "execution_count": null,
   "metadata": {},
   "outputs": [],
   "source": [
    "# Version 4.1 (Smoothing and Optimization)\n",
    "\n",
    "class ConBacktester():\n",
    "    ''' Class for the vectorized backtesting of simple contrarian trading strategies.\n",
    "    \n",
    "    Attributes\n",
    "    ============\n",
    "    filepath: str\n",
    "        local filepath of the dataset (csv-file)\n",
    "    symbol: str\n",
    "        ticker symbol (instrument) to be backtested\n",
    "    start: str\n",
    "        start date for data import\n",
    "    end: str\n",
    "        end date for data import\n",
    "    tc: float\n",
    "        proportional trading costs per trade\n",
    "    \n",
    "    \n",
    "    Methods\n",
    "    =======\n",
    "    get_data:\n",
    "        imports the data.\n",
    "        \n",
    "    test_strategy:\n",
    "        prepares the data and backtests the trading strategy incl. reporting (wrapper).\n",
    "        \n",
    "    prepare_data:\n",
    "        prepares the data for backtesting.\n",
    "    \n",
    "    run_backtest:\n",
    "        runs the strategy backtest.\n",
    "        \n",
    "    upsample:\n",
    "        upsamples/copies trading positions back to higher frequency.\n",
    "        \n",
    "    plot_results:\n",
    "        plots the cumulative performance of the trading strategy compared to buy-and-hold.\n",
    "        \n",
    "    optimize_strategy:\n",
    "        backtests strategy for different parameter values incl. optimization and reporting (wrapper).\n",
    "    \n",
    "    find_best_strategy:\n",
    "        finds the optimal strategy (global maximum) given the parameter ranges.\n",
    "        \n",
    "    visualize_many:\n",
    "        plots parameter values vs. performance. \n",
    "        \n",
    "    print_performance:\n",
    "        calculates and prints various performance metrics.\n",
    "        \n",
    "    '''    \n",
    "    \n",
    "    def __init__(self, filepath, symbol, start, end, tc):\n",
    "        \n",
    "        self.filepath = filepath\n",
    "        self.symbol = symbol\n",
    "        self.start = start\n",
    "        self.end = end\n",
    "        self.tc = tc\n",
    "        self.results = None\n",
    "        self.get_data()\n",
    "        self.tp_year = (self.data.price.count() / ((self.data.index[-1] - self.data.index[0]).days / 365.25))\n",
    "        \n",
    "    def __repr__(self):\n",
    "        return \"ConBacktester(symbol = {}, start = {}, end = {})\".format(self.symbol, self.start, self.end)\n",
    "        \n",
    "    def get_data(self):\n",
    "        ''' Imports the data.\n",
    "        '''\n",
    "        raw = pd.read_csv(self.filepath, parse_dates = [\"time\"], index_col = \"time\")\n",
    "        raw = raw[self.symbol].to_frame().fillna(method = \"ffill\")\n",
    "        raw = raw.loc[self.start:self.end].copy()\n",
    "        raw.rename(columns={self.symbol: \"price\"}, inplace=True)\n",
    "        raw[\"returns\"] = np.log(raw.price / raw.price.shift(1))\n",
    "        self.data = raw\n",
    "        \n",
    "    def test_strategy(self, freq = 60, window = 1): \n",
    "        '''\n",
    "        Prepares the data and backtests the trading strategy incl. reporting (Wrapper).\n",
    "         \n",
    "        Parameters\n",
    "        ============\n",
    "        freq: int\n",
    "            data frequency/granularity to work with (in minutes)\n",
    "        \n",
    "        window: int\n",
    "            time window (number of bars) to be considered for the strategy.\n",
    "        '''\n",
    "        self.freq = \"{}min\".format(freq) \n",
    "        self.window = window\n",
    "                                \n",
    "        self.prepare_data(freq, window) \n",
    "        self.upsample() \n",
    "        self.run_backtest()\n",
    "        \n",
    "        data = self.results.copy()\n",
    "        data[\"creturns\"] = data[\"returns\"].cumsum().apply(np.exp)\n",
    "        data[\"cstrategy\"] = data[\"strategy\"].cumsum().apply(np.exp)\n",
    "        self.results = data\n",
    "        \n",
    "        self.print_performance()\n",
    "    \n",
    "    def prepare_data(self, freq, window): \n",
    "        ''' Prepares the Data for Backtesting.\n",
    "        '''\n",
    "        data = self.data.price.to_frame().copy()\n",
    "        freq = \"{}min\".format(freq)\n",
    "        resamp = data.resample(freq).last().dropna().iloc[:-1]\n",
    "        resamp[\"returns\"] = np.log(resamp / resamp.shift(1))\n",
    "        resamp[\"roll_return\"] = resamp[\"returns\"].rolling(window).mean()\n",
    "        resamp[\"position\"] = -np.sign(resamp[\"roll_return\"])\n",
    "        resamp.dropna(inplace = True)\n",
    "        self.results = resamp\n",
    "        return resamp \n",
    "    \n",
    "    def run_backtest(self):\n",
    "        ''' Runs the strategy backtest.\n",
    "        '''\n",
    "        \n",
    "        data = self.results.copy()\n",
    "        data[\"strategy\"] = data[\"position\"].shift(1) * data[\"returns\"]\n",
    "        \n",
    "        # determine the number of trades in each bar\n",
    "        data[\"trades\"] = data.position.diff().fillna(0).abs()\n",
    "        \n",
    "        # subtract transaction/trading costs from pre-cost return\n",
    "        data.strategy = data.strategy - data.trades * self.tc\n",
    "        \n",
    "        self.results = data\n",
    "        \n",
    "    def upsample(self):\n",
    "        '''  Upsamples/copies trading positions back to higher frequency.\n",
    "        '''\n",
    "        \n",
    "        data = self.data.copy()\n",
    "        resamp = self.results.copy()\n",
    "               \n",
    "        data[\"position\"] = resamp.position.shift()\n",
    "        data = data.loc[resamp.index[0]:].copy()\n",
    "        data.position = data.position.shift(-1).ffill()\n",
    "        data.dropna(inplace=True)\n",
    "        self.results = data\n",
    "    \n",
    "    def plot_results(self):\n",
    "        '''  Plots the cumulative performance of the trading strategy compared to buy-and-hold.\n",
    "        '''\n",
    "        if self.results is None:\n",
    "            print(\"Run test_strategy() first.\")\n",
    "        else:\n",
    "            title = \"{} | Freq = {} | Window = {} | TC = {}\".format(self.symbol, self.freq, self.window, self.tc)\n",
    "            self.results[[\"creturns\", \"cstrategy\"]].plot(title=title, figsize=(12, 8))\n",
    "            \n",
    "    def optimize_strategy(self, freq_range, window_range, metric = \"Multiple\"): # added: freq_range\n",
    "        '''\n",
    "        Backtests strategy for different parameter values incl. Optimization and Reporting (Wrapper).\n",
    "         \n",
    "        Parameters\n",
    "        ============\n",
    "        freq_range: tuple\n",
    "            tuples of the form (start, end, step size).\n",
    "        \n",
    "        window_range: tuple\n",
    "            tuples of the form (start, end, step size).\n",
    "        \n",
    "        metric: str\n",
    "            performance metric to be optimized (can be: \"Multiple\", \"Sharpe\", \"Sortino\", \"Calmar\", \"Kelly\")\n",
    "        '''\n",
    "        \n",
    "        self.metric = metric\n",
    "        \n",
    "        if metric == \"Multiple\":\n",
    "            performance_function = self.calculate_multiple\n",
    "        elif metric == \"Sharpe\":\n",
    "            performance_function = self.calculate_sharpe\n",
    "        elif metric == \"Sortino\":\n",
    "            performance_function = self.calculate_sortino\n",
    "        elif metric == \"Calmar\": \n",
    "            performance_function = self.calculate_calmar\n",
    "        elif metric == \"Kelly\": \n",
    "            performance_function = self.calculate_kelly_criterion\n",
    "        \n",
    "        freqs = range(*freq_range)  # NEW!!!\n",
    "        windows = range(*window_range)\n",
    "        \n",
    "        combinations = list(product(freqs, windows)) # NEW!!!\n",
    "        \n",
    "        performance = []\n",
    "        for comb in combinations: # ADJ!!!\n",
    "            self.prepare_data(comb[0], comb[1])\n",
    "            self.upsample()\n",
    "            self.run_backtest()\n",
    "            performance.append(performance_function(self.results.strategy))\n",
    "    \n",
    "        self.results_overview =  pd.DataFrame(data = np.array(combinations), columns = [\"Freq\", \"Windows\"])\n",
    "        self.results_overview[\"Performance\"] = performance\n",
    "        self.find_best_strategy()\n",
    "        \n",
    "    def find_best_strategy(self):\n",
    "        ''' Finds the optimal strategy (global maximum) given the parameter ranges.\n",
    "        '''\n",
    "        best = self.results_overview.nlargest(1, \"Performance\")\n",
    "        freq = best.Freq.iloc[0] # NEW!!!\n",
    "        window = best.Windows.iloc[0]\n",
    "        perf = best.Performance.iloc[0]\n",
    "        print(\"Frequency: {} | Windows: {} | {}: {}\".format(freq, window, self.metric, round(perf, 6))) # added: freq \n",
    "        self.test_strategy(freq, window) # added: freq\n",
    "        \n",
    "    def visualize_many(self):\n",
    "        ''' Plots parameter values vs. Performance.\n",
    "        '''\n",
    "\n",
    "        if self.results_overview is None:\n",
    "            print(\"Run optimize_strategy() first.\")\n",
    "        else: # NEW!!!\n",
    "            matrix = self.results_overview.pivot(index = \"Freq\", columns = \"Windows\", values = \"Performance\")\n",
    "            \n",
    "            plt.figure(figsize=(12,8))\n",
    "            sns.set_theme(font_scale=1.5)\n",
    "            sns.heatmap(matrix, cmap = \"RdYlGn\", robust = True, cbar_kws = {\"label\": \"{}\".format(self.metric)})\n",
    "            plt.show()\n",
    "            \n",
    "    ############################## Performance ######################################\n",
    "    \n",
    "    def print_performance(self):\n",
    "        ''' Calculates and prints various Performance Metrics.\n",
    "        '''\n",
    "        \n",
    "        data = self.results.copy()\n",
    "        strategy_multiple = round(self.calculate_multiple(data.strategy), 6)\n",
    "        bh_multiple =       round(self.calculate_multiple(data.returns), 6)\n",
    "        outperf =           round(strategy_multiple - bh_multiple, 6)\n",
    "        cagr =              round(self.calculate_cagr(data.strategy), 6)\n",
    "        ann_mean =          round(self.calculate_annualized_mean(data.strategy), 6)\n",
    "        ann_std =           round(self.calculate_annualized_std(data.strategy), 6)\n",
    "        sharpe =            round(self.calculate_sharpe(data.strategy), 6)\n",
    "        sortino =           round(self.calculate_sortino(data.strategy), 6)\n",
    "        max_drawdown =      round(self.calculate_max_drawdown(data.strategy), 6)\n",
    "        calmar =            round(self.calculate_calmar(data.strategy), 6)\n",
    "        max_dd_duration =   round(self.calculate_max_dd_duration(data.strategy), 6)\n",
    "        kelly_criterion =   round(self.calculate_kelly_criterion(data.strategy), 6)\n",
    "        \n",
    "        print(100 * \"=\")\n",
    "        print(\"SIMPLE CONTRARIAN STRATEGY | INSTRUMENT = {} | Freq: {} | WINDOW = {}\".format(self.symbol, self.freq, self.window))\n",
    "        print(100 * \"-\")\n",
    "        #print(\"\\n\")\n",
    "        print(\"PERFORMANCE MEASURES:\")\n",
    "        print(\"\\n\")\n",
    "        print(\"Multiple (Strategy):         {}\".format(strategy_multiple))\n",
    "        print(\"Multiple (Buy-and-Hold):     {}\".format(bh_multiple))\n",
    "        print(38 * \"-\")\n",
    "        print(\"Out-/Underperformance:       {}\".format(outperf))\n",
    "        print(\"\\n\")\n",
    "        print(\"CAGR:                        {}\".format(cagr))\n",
    "        print(\"Annualized Mean:             {}\".format(ann_mean))\n",
    "        print(\"Annualized Std:              {}\".format(ann_std))\n",
    "        print(\"Sharpe Ratio:                {}\".format(sharpe))\n",
    "        print(\"Sortino Ratio:               {}\".format(sortino))\n",
    "        print(\"Maximum Drawdown:            {}\".format(max_drawdown))\n",
    "        print(\"Calmar Ratio:                {}\".format(calmar))\n",
    "        print(\"Max Drawdown Duration:       {} Days\".format(max_dd_duration))\n",
    "        print(\"Kelly Criterion:             {}\".format(kelly_criterion))\n",
    "        \n",
    "        print(100 * \"=\")\n",
    "        \n",
    "    def calculate_multiple(self, series):\n",
    "        return np.exp(series.sum())\n",
    "    \n",
    "    def calculate_cagr(self, series):\n",
    "        return np.exp(series.sum())**(1/((series.index[-1] - series.index[0]).days / 365.25)) - 1\n",
    "    \n",
    "    def calculate_annualized_mean(self, series):\n",
    "        return series.mean() * self.tp_year\n",
    "    \n",
    "    def calculate_annualized_std(self, series):\n",
    "        return series.std() * np.sqrt(self.tp_year)\n",
    "    \n",
    "    def calculate_sharpe(self, series):\n",
    "        if series.std() == 0:\n",
    "            return np.nan\n",
    "        else:\n",
    "            return series.mean() / series.std() * np.sqrt(self.tp_year)\n",
    "    \n",
    "    def calculate_sortino(self, series):\n",
    "        excess_returns = (series - 0)\n",
    "        downside_deviation = np.sqrt(np.mean(np.where(excess_returns < 0, excess_returns, 0)**2))\n",
    "        if downside_deviation == 0:\n",
    "            return np.nan\n",
    "        else:\n",
    "            sortino = (series.mean() - 0) / downside_deviation * np.sqrt(self.tp_year)\n",
    "            return sortino \n",
    "    \n",
    "    def calculate_max_drawdown(self, series):\n",
    "        creturns = series.cumsum().apply(np.exp)\n",
    "        cummax = creturns.cummax()\n",
    "        drawdown = (cummax - creturns)/cummax\n",
    "        max_dd = drawdown.max()\n",
    "        return max_dd\n",
    "    \n",
    "    def calculate_calmar(self, series):\n",
    "        max_dd = self.calculate_max_drawdown(series)\n",
    "        if max_dd == 0:\n",
    "            return np.nan\n",
    "        else:\n",
    "            cagr = self.calculate_cagr(series)\n",
    "            calmar = cagr / max_dd\n",
    "            return calmar\n",
    "    \n",
    "    def calculate_max_dd_duration(self, series):\n",
    "        creturns = series.cumsum().apply(np.exp)\n",
    "        cummax = creturns.cummax()\n",
    "        drawdown = (cummax - creturns)/cummax\n",
    "    \n",
    "        begin = drawdown[drawdown == 0].index\n",
    "        end = begin[1:]\n",
    "        end = end.append(pd.DatetimeIndex([drawdown.index[-1]]))\n",
    "        periods = end - begin\n",
    "        max_ddd = periods.max()\n",
    "        return max_ddd.days\n",
    "    \n",
    "    def calculate_kelly_criterion(self, series):\n",
    "        series = np.exp(series) - 1\n",
    "        if series.var() == 0:\n",
    "            return np.nan\n",
    "        else:\n",
    "            return series.mean() / series.var()\n",
    "    \n",
    "    ############################## Performance ######################################"
   ]
  },
  {
   "cell_type": "code",
   "execution_count": null,
   "metadata": {},
   "outputs": [],
   "source": [
    "filepath = \"one_minute.csv\"\n",
    "symbol = \"EURUSD\"\n",
    "start = \"2018-01-01\"\n",
    "end = \"2019-12-31\"\n",
    "ptc = 0.00007"
   ]
  },
  {
   "cell_type": "code",
   "execution_count": null,
   "metadata": {},
   "outputs": [],
   "source": [
    "tester = ConBacktester(filepath = filepath, symbol = symbol, start = start, end = end, tc = ptc)\n",
    "tester"
   ]
  },
  {
   "cell_type": "code",
   "execution_count": null,
   "metadata": {},
   "outputs": [],
   "source": [
    "tester.optimize_strategy(freq_range = (51, 300, 5), window_range = (51, 300, 5), metric = \"Multiple\")"
   ]
  },
  {
   "cell_type": "code",
   "execution_count": null,
   "metadata": {},
   "outputs": [],
   "source": [
    "tester.plot_results()"
   ]
  },
  {
   "cell_type": "code",
   "execution_count": null,
   "metadata": {},
   "outputs": [],
   "source": [
    "tester.visualize_many()"
   ]
  },
  {
   "cell_type": "code",
   "execution_count": null,
   "metadata": {},
   "outputs": [],
   "source": [
    "tester.results_overview.nlargest(10, \"Performance\")"
   ]
  },
  {
   "cell_type": "code",
   "execution_count": null,
   "metadata": {},
   "outputs": [],
   "source": [
    "tester.optimize_strategy((180, 181, 1), (80, 140, 1), metric = \"Multiple\") # best strategy with freq = 180"
   ]
  },
  {
   "cell_type": "code",
   "execution_count": null,
   "metadata": {},
   "outputs": [],
   "source": [
    "tester.visualize_many()"
   ]
  },
  {
   "cell_type": "markdown",
   "metadata": {},
   "source": [
    "__Conclusion__: there doesn´t exist THE \"best frequency\". It´s all about the __right combination frequency/window__."
   ]
  },
  {
   "cell_type": "code",
   "execution_count": null,
   "metadata": {},
   "outputs": [],
   "source": [
    "ptc = 0"
   ]
  },
  {
   "cell_type": "code",
   "execution_count": null,
   "metadata": {},
   "outputs": [],
   "source": [
    "tester = ConBacktester(filepath = filepath, symbol = symbol, start = start, end = end, tc = ptc)\n",
    "tester"
   ]
  },
  {
   "cell_type": "code",
   "execution_count": null,
   "metadata": {},
   "outputs": [],
   "source": [
    "tester.optimize_strategy((1, 400, 20), (1, 400, 20), metric = \"Multiple\")"
   ]
  },
  {
   "cell_type": "code",
   "execution_count": null,
   "metadata": {},
   "outputs": [],
   "source": [
    "tester.plot_results()"
   ]
  },
  {
   "cell_type": "code",
   "execution_count": null,
   "metadata": {},
   "outputs": [],
   "source": [
    "tester.visualize_many()"
   ]
  },
  {
   "cell_type": "markdown",
   "metadata": {},
   "source": [
    "__Conclusion__: \n",
    "- __Trading Costs won´t allow us to work with higher frequencies__ and to exploit short term volatility. \n",
    "- Additional __costs are way higher__ than additional benefits."
   ]
  },
  {
   "cell_type": "code",
   "execution_count": null,
   "metadata": {},
   "outputs": [],
   "source": []
  }
 ],
 "metadata": {
  "kernelspec": {
   "display_name": "Python 3 (ipykernel)",
   "language": "python",
   "name": "python3"
  },
  "language_info": {
   "codemirror_mode": {
    "name": "ipython",
    "version": 3
   },
   "file_extension": ".py",
   "mimetype": "text/x-python",
   "name": "python",
   "nbconvert_exporter": "python",
   "pygments_lexer": "ipython3",
   "version": "3.9.16"
  }
 },
 "nbformat": 4,
 "nbformat_minor": 4
}
