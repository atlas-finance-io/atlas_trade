{
 "cells": [
  {
   "cell_type": "markdown",
   "metadata": {},
   "source": [
    "# Strategy Optimization and advanced Performance Measurement"
   ]
  },
  {
   "cell_type": "markdown",
   "metadata": {},
   "source": [
    "## Getting started"
   ]
  },
  {
   "cell_type": "code",
   "execution_count": null,
   "metadata": {},
   "outputs": [],
   "source": [
    "import pandas as pd\n",
    "import numpy as np\n",
    "import matplotlib.pyplot as plt\n",
    "plt.style.use(\"seaborn-v0_8\")"
   ]
  },
  {
   "cell_type": "code",
   "execution_count": null,
   "metadata": {},
   "outputs": [],
   "source": [
    "df = pd.read_csv(\"intraday.csv\", parse_dates = [\"time\"], index_col = \"time\")\n",
    "df"
   ]
  },
  {
   "cell_type": "code",
   "execution_count": null,
   "metadata": {},
   "outputs": [],
   "source": [
    "# Version 1.0\n",
    "class ConBacktester():\n",
    "    ''' Class for the vectorized backtesting of simple contrarian trading strategies.\n",
    "    \n",
    "    Attributes\n",
    "    ============\n",
    "    filepath: str\n",
    "        local filepath of the dataset (csv-file)\n",
    "    symbol: str\n",
    "        ticker symbol (instrument) to be backtested\n",
    "    start: str\n",
    "        start date for data import\n",
    "    end: str\n",
    "        end date for data import\n",
    "    tc: float\n",
    "        proportional trading costs per trade\n",
    "    \n",
    "    \n",
    "    Methods\n",
    "    =======\n",
    "    get_data:\n",
    "        imports the data.\n",
    "        \n",
    "    test_strategy:\n",
    "        prepares the data and backtests the trading strategy incl. reporting (wrapper).\n",
    "        \n",
    "    prepare_data:\n",
    "        prepares the data for backtesting.\n",
    "    \n",
    "    run_backtest:\n",
    "        runs the strategy backtest.\n",
    "        \n",
    "    plot_results:\n",
    "        plots the cumulative performance of the trading strategy compared to buy-and-hold.\n",
    "    '''    \n",
    "    \n",
    "    def __init__(self, filepath, symbol, start, end, tc):\n",
    "        \n",
    "        self.filepath = filepath\n",
    "        self.symbol = symbol\n",
    "        self.start = start\n",
    "        self.end = end\n",
    "        self.tc = tc\n",
    "        self.results = None\n",
    "        self.get_data()\n",
    "        \n",
    "    def __repr__(self):\n",
    "        return \"ConBacktester(symbol = {}, start = {}, end = {})\".format(self.symbol, self.start, self.end)\n",
    "        \n",
    "    def get_data(self):\n",
    "        ''' Imports the data.\n",
    "        '''\n",
    "        raw = pd.read_csv(self.filepath, parse_dates = [\"time\"], index_col = \"time\")\n",
    "        raw = raw[self.symbol].to_frame().fillna(method = \"ffill\")\n",
    "        raw = raw.loc[self.start:self.end].copy()\n",
    "        raw.rename(columns={self.symbol: \"price\"}, inplace=True)\n",
    "        raw[\"returns\"] = np.log(raw.price / raw.price.shift(1))\n",
    "        self.data = raw\n",
    "        \n",
    "    def test_strategy(self, window = 1):\n",
    "        '''\n",
    "        Prepares the data and backtests the trading strategy incl. reporting (Wrapper).\n",
    "         \n",
    "        Parameters\n",
    "        ============\n",
    "        window: int\n",
    "            time window (number of bars) to be considered for the strategy.\n",
    "        '''\n",
    "        self.window = window\n",
    "                                \n",
    "        self.prepare_data(window)\n",
    "        self.run_backtest()\n",
    "        \n",
    "        data = self.results.copy()\n",
    "        data[\"creturns\"] = data[\"returns\"].cumsum().apply(np.exp)\n",
    "        data[\"cstrategy\"] = data[\"strategy\"].cumsum().apply(np.exp)\n",
    "        self.results = data\n",
    "        \n",
    "        multiple = round(self.results.cstrategy[-1], 6)\n",
    "        print(\"Strategy-Multiple: {}\".format(multiple))\n",
    "    \n",
    "    def prepare_data(self, window):\n",
    "        \n",
    "        ''' Prepares the Data for Backtesting.\n",
    "        '''\n",
    "        data = self.data.copy()\n",
    "        data[\"roll_return\"] = data[\"returns\"].rolling(window).mean()\n",
    "        data[\"position\"] = -np.sign(data[\"roll_return\"])\n",
    "        self.results = data\n",
    "    \n",
    "    def run_backtest(self):\n",
    "        ''' Runs the strategy backtest.\n",
    "        '''\n",
    "        \n",
    "        data = self.results.copy()\n",
    "        data[\"strategy\"] = data[\"position\"].shift(1) * data[\"returns\"]\n",
    "        data.dropna(inplace=True)\n",
    "        \n",
    "        # determine the number of trades in each bar\n",
    "        data[\"trades\"] = data.position.diff().fillna(0).abs()\n",
    "        \n",
    "        # subtract transaction/trading costs from pre-cost return\n",
    "        data.strategy = data.strategy - data.trades * self.tc\n",
    "        \n",
    "        self.results = data\n",
    "    \n",
    "    def plot_results(self):\n",
    "        '''  Plots the cumulative performance of the trading strategy compared to buy-and-hold.\n",
    "        '''\n",
    "        if self.results is None:\n",
    "            print(\"Run test_strategy() first.\")\n",
    "        else:\n",
    "            title = \"{} | Window = {} | TC = {}\".format(self.symbol, self.window, self.tc)\n",
    "            self.results[[\"creturns\", \"cstrategy\"]].plot(title=title, figsize=(12, 8))"
   ]
  },
  {
   "cell_type": "code",
   "execution_count": null,
   "metadata": {},
   "outputs": [],
   "source": [
    "symbol = \"EURUSD\"\n",
    "start = \"2018-01-01\"\n",
    "end = \"2019-12-31\"\n",
    "tc = 0.00007"
   ]
  },
  {
   "cell_type": "code",
   "execution_count": null,
   "metadata": {},
   "outputs": [],
   "source": [
    "tester = ConBacktester(filepath= \"intraday.csv\", symbol = symbol, start = start, end = end, tc = tc)\n",
    "tester"
   ]
  },
  {
   "cell_type": "code",
   "execution_count": null,
   "metadata": {},
   "outputs": [],
   "source": [
    "tester.test_strategy(window = 3)"
   ]
  },
  {
   "cell_type": "code",
   "execution_count": null,
   "metadata": {},
   "outputs": [],
   "source": [
    "tester.results.cstrategy[-1]"
   ]
  },
  {
   "cell_type": "code",
   "execution_count": null,
   "metadata": {},
   "outputs": [],
   "source": []
  },
  {
   "cell_type": "markdown",
   "metadata": {},
   "source": [
    "## Finding the optimal  value for the \"window\" Parameter "
   ]
  },
  {
   "cell_type": "markdown",
   "metadata": {},
   "source": [
    "__Plan: Backtest all Strategies from window == 1 to window == 1000__"
   ]
  },
  {
   "cell_type": "code",
   "execution_count": null,
   "metadata": {},
   "outputs": [],
   "source": [
    "window_range = (1, 1001, 1) # tuple of the form (start, stop, step size)\n",
    "window_range "
   ]
  },
  {
   "cell_type": "code",
   "execution_count": null,
   "metadata": {
    "scrolled": true
   },
   "outputs": [],
   "source": [
    "windows = range(*window_range) # unpack the tuple and create a range object\n",
    "windows"
   ]
  },
  {
   "cell_type": "code",
   "execution_count": null,
   "metadata": {},
   "outputs": [],
   "source": [
    "tester"
   ]
  },
  {
   "cell_type": "code",
   "execution_count": null,
   "metadata": {},
   "outputs": [],
   "source": [
    "performance = []\n",
    "for window in windows:\n",
    "    tester.prepare_data(window) # prepate data -> window\n",
    "    tester.run_backtest() # backtest strategy\n",
    "    performance.append(np.exp(tester.results.strategy.sum())) # calculate and store the mulitple"
   ]
  },
  {
   "cell_type": "code",
   "execution_count": null,
   "metadata": {},
   "outputs": [],
   "source": [
    "performance"
   ]
  },
  {
   "cell_type": "code",
   "execution_count": null,
   "metadata": {},
   "outputs": [],
   "source": [
    "results_overview =  pd.DataFrame(data = np.array(windows), columns = [\"Windows\"])\n",
    "results_overview"
   ]
  },
  {
   "cell_type": "code",
   "execution_count": null,
   "metadata": {},
   "outputs": [],
   "source": [
    "results_overview[\"Performance\"] = performance\n",
    "results_overview"
   ]
  },
  {
   "cell_type": "code",
   "execution_count": null,
   "metadata": {},
   "outputs": [],
   "source": [
    "results_overview.sort_values(by = \"Performance\", ascending = False)"
   ]
  },
  {
   "cell_type": "code",
   "execution_count": null,
   "metadata": {},
   "outputs": [],
   "source": [
    "best = results_overview.nlargest(1, \"Performance\")\n",
    "best"
   ]
  },
  {
   "cell_type": "code",
   "execution_count": null,
   "metadata": {},
   "outputs": [],
   "source": [
    "window = best.Windows.iloc[0]\n",
    "perf = best.Performance.iloc[0]\n",
    "print(\"Windows: {} | Multiple: {}\".format(window, round(perf, 6)))"
   ]
  },
  {
   "cell_type": "code",
   "execution_count": null,
   "metadata": {},
   "outputs": [],
   "source": []
  },
  {
   "cell_type": "markdown",
   "metadata": {},
   "source": [
    "## Relationship between the \"window\" Parameter and Performance"
   ]
  },
  {
   "cell_type": "code",
   "execution_count": null,
   "metadata": {},
   "outputs": [],
   "source": [
    "results_overview.sort_values(by = \"Performance\", ascending = False)"
   ]
  },
  {
   "cell_type": "markdown",
   "metadata": {},
   "source": [
    "Window == 51 is the best performing strategy (in the past). __How reliable is that (for the future)__?"
   ]
  },
  {
   "cell_type": "markdown",
   "metadata": {},
   "source": [
    "Is this __just by chance (random noise)__...<br>\n",
    "...or is there a systematic (functional) __relationship between the window parameter and the performance__ (desirable)?"
   ]
  },
  {
   "cell_type": "code",
   "execution_count": null,
   "metadata": {},
   "outputs": [],
   "source": [
    "results_overview.set_index(\"Windows\", inplace = True)\n",
    "results_overview"
   ]
  },
  {
   "cell_type": "code",
   "execution_count": null,
   "metadata": {},
   "outputs": [],
   "source": [
    "results_overview.plot(figsize = (12, 8))\n",
    "plt.title(\"Simple Contrarian Strategy | Performance vs Windows\", fontsize = 15)\n",
    "plt.xlabel(\"Windows\", fontsize = 15)\n",
    "plt.ylabel(\"Multiple\", fontsize = 15)\n",
    "plt.show()"
   ]
  },
  {
   "cell_type": "code",
   "execution_count": null,
   "metadata": {},
   "outputs": [],
   "source": []
  },
  {
   "cell_type": "markdown",
   "metadata": {},
   "source": [
    "## Updating the ConBacktester Class (Optimization)"
   ]
  },
  {
   "cell_type": "code",
   "execution_count": null,
   "metadata": {},
   "outputs": [],
   "source": [
    "import pandas as pd\n",
    "import numpy as np\n",
    "import matplotlib.pyplot as plt\n",
    "plt.style.use(\"seaborn-v0_8\")"
   ]
  },
  {
   "cell_type": "code",
   "execution_count": null,
   "metadata": {},
   "outputs": [],
   "source": [
    "# Version 2.0 (Window Optimization)\n",
    "\n",
    "class ConBacktester():\n",
    "    ''' Class for the vectorized backtesting of simple contrarian trading strategies.\n",
    "    \n",
    "    Attributes\n",
    "    ============\n",
    "    filepath: str\n",
    "        local filepath of the dataset (csv-file)\n",
    "    symbol: str\n",
    "        ticker symbol (instrument) to be backtested\n",
    "    start: str\n",
    "        start date for data import\n",
    "    end: str\n",
    "        end date for data import\n",
    "    tc: float\n",
    "        proportional trading costs per trade\n",
    "    \n",
    "    \n",
    "    Methods\n",
    "    =======\n",
    "    get_data:\n",
    "        imports the data.\n",
    "        \n",
    "    test_strategy:\n",
    "        prepares the data and backtests the trading strategy incl. reporting (wrapper).\n",
    "        \n",
    "    prepare_data:\n",
    "        prepares the data for backtesting.\n",
    "    \n",
    "    run_backtest:\n",
    "        runs the strategy backtest.\n",
    "        \n",
    "    plot_results:\n",
    "        plots the cumulative performance of the trading strategy compared to buy-and-hold.\n",
    "        \n",
    "    optimize_strategy:\n",
    "        backtests strategy for different parameter values incl. optimization and reporting (wrapper).\n",
    "    \n",
    "    find_best_strategy:\n",
    "        finds the optimal strategy (global maximum) given the window parameter range.\n",
    "        \n",
    "    visualize_many:\n",
    "        plots parameter values vs. performance. \n",
    "    '''    \n",
    "    \n",
    "    def __init__(self, filepath, symbol, start, end, tc):\n",
    "        \n",
    "        self.filepath = filepath\n",
    "        self.symbol = symbol\n",
    "        self.start = start\n",
    "        self.end = end\n",
    "        self.tc = tc\n",
    "        self.results = None\n",
    "        self.get_data()\n",
    "        \n",
    "    def __repr__(self):\n",
    "        return \"ConBacktester(symbol = {}, start = {}, end = {})\".format(self.symbol, self.start, self.end)\n",
    "        \n",
    "    def get_data(self):\n",
    "        ''' Imports the data.\n",
    "        '''\n",
    "        raw = pd.read_csv(self.filepath, parse_dates = [\"time\"], index_col = \"time\")\n",
    "        raw = raw[self.symbol].to_frame().fillna(method = \"ffill\")\n",
    "        raw = raw.loc[self.start:self.end].copy()\n",
    "        raw.rename(columns={self.symbol: \"price\"}, inplace=True)\n",
    "        raw[\"returns\"] = np.log(raw.price / raw.price.shift(1))\n",
    "        self.data = raw\n",
    "        \n",
    "    def test_strategy(self, window = 1):\n",
    "        '''\n",
    "        Prepares the data and backtests the trading strategy incl. reporting (Wrapper).\n",
    "         \n",
    "        Parameters\n",
    "        ============\n",
    "        window: int\n",
    "            time window (number of bars) to be considered for the strategy.\n",
    "        '''\n",
    "        self.window = window\n",
    "                                \n",
    "        self.prepare_data(window)\n",
    "        self.run_backtest()\n",
    "        \n",
    "        data = self.results.copy()\n",
    "        data[\"creturns\"] = data[\"returns\"].cumsum().apply(np.exp)\n",
    "        data[\"cstrategy\"] = data[\"strategy\"].cumsum().apply(np.exp)\n",
    "        self.results = data\n",
    "        \n",
    "        multiple = round(self.results.cstrategy[-1], 6)\n",
    "        print(\"Strategy-Multiple: {}\".format(multiple))\n",
    "    \n",
    "    def prepare_data(self, window):\n",
    "        ''' Prepares the Data for Backtesting.\n",
    "        '''\n",
    "        data = self.data.copy()\n",
    "        data[\"roll_return\"] = data[\"returns\"].rolling(window).mean()\n",
    "        data[\"position\"] = -np.sign(data[\"roll_return\"])\n",
    "        self.results = data\n",
    "    \n",
    "    def run_backtest(self):\n",
    "        ''' Runs the strategy backtest.\n",
    "        '''\n",
    "        \n",
    "        data = self.results.copy()\n",
    "        data[\"strategy\"] = data[\"position\"].shift(1) * data[\"returns\"]\n",
    "        data.dropna(inplace=True)\n",
    "        \n",
    "        # determine the number of trades in each bar\n",
    "        data[\"trades\"] = data.position.diff().fillna(0).abs()\n",
    "        \n",
    "        # subtract transaction/trading costs from pre-cost return\n",
    "        data.strategy = data.strategy - data.trades * self.tc\n",
    "        \n",
    "        self.results = data\n",
    "    \n",
    "    def plot_results(self):\n",
    "        '''  Plots the cumulative performance of the trading strategy compared to buy-and-hold.\n",
    "        '''\n",
    "        if self.results is None:\n",
    "            print(\"Run test_strategy() first.\")\n",
    "        else:\n",
    "            title = \"{} | Window = {} | TC = {}\".format(self.symbol, self.window, self.tc)\n",
    "            self.results[[\"creturns\", \"cstrategy\"]].plot(title=title, figsize=(12, 8))\n",
    "            \n",
    "    def optimize_strategy(self, window_range):\n",
    "        '''\n",
    "        Backtests strategy for different parameter values incl. Optimization and Reporting (Wrapper).\n",
    "         \n",
    "        Parameters\n",
    "        ============\n",
    "        window_range: tuple\n",
    "            tuples of the form (start, end, step size).\n",
    "        '''\n",
    "        \n",
    "        windows = range(*window_range)\n",
    "        \n",
    "        performance = []\n",
    "        for window in windows:\n",
    "            self.prepare_data(window)\n",
    "            self.run_backtest()\n",
    "            performance.append(np.exp(self.results.strategy.sum()))\n",
    "    \n",
    "        self.results_overview =  pd.DataFrame(data = np.array(windows), columns = [\"Windows\"])\n",
    "        self.results_overview[\"Performance\"] = performance\n",
    "        self.find_best_strategy()\n",
    "        \n",
    "    def find_best_strategy(self):\n",
    "        ''' Finds the optimal strategy (global maximum) given the window parameter range.\n",
    "        '''\n",
    "        best = self.results_overview.nlargest(1, \"Performance\")\n",
    "        window = best.Windows.iloc[0]\n",
    "        perf = best.Performance.iloc[0]\n",
    "        print(\"Windows: {} | Multiple: {}\".format(window, round(perf, 6)))\n",
    "        self.test_strategy(window)\n",
    "        \n",
    "    def visualize_many(self):\n",
    "        ''' Plots parameter values vs. Performance.\n",
    "        '''\n",
    "\n",
    "        if self.results_overview is None:\n",
    "            print(\"Run optimize_strategy() first.\")\n",
    "        else:\n",
    "            self.results_overview.set_index(\"Windows\", inplace = True)\n",
    "            self.results_overview.plot(figsize = (12, 8))\n",
    "            plt.title(\"Simple Contrarian Strategy | Performance vs Windows\", fontsize = 15)\n",
    "            plt.xlabel(\"Windows\", fontsize = 15)\n",
    "            plt.ylabel(\"Multiple\", fontsize = 15)\n",
    "            plt.show()     "
   ]
  },
  {
   "cell_type": "code",
   "execution_count": null,
   "metadata": {},
   "outputs": [],
   "source": [
    "symbol = \"EURUSD\"\n",
    "start = \"2018-01-01\"\n",
    "end = \"2019-12-31\"\n",
    "tc = 0.00007*0"
   ]
  },
  {
   "cell_type": "code",
   "execution_count": null,
   "metadata": {
    "scrolled": true
   },
   "outputs": [],
   "source": [
    "tester = ConBacktester(filepath= \"intraday.csv\", symbol = symbol, start = start, end = end, tc = tc)\n",
    "tester"
   ]
  },
  {
   "cell_type": "code",
   "execution_count": null,
   "metadata": {},
   "outputs": [],
   "source": [
    "tester.test_strategy(window = 3)"
   ]
  },
  {
   "cell_type": "code",
   "execution_count": null,
   "metadata": {},
   "outputs": [],
   "source": [
    "tester.optimize_strategy((1, 1001, 1))"
   ]
  },
  {
   "cell_type": "code",
   "execution_count": null,
   "metadata": {},
   "outputs": [],
   "source": [
    "tester.window"
   ]
  },
  {
   "cell_type": "code",
   "execution_count": null,
   "metadata": {},
   "outputs": [],
   "source": [
    "tester.plot_results()"
   ]
  },
  {
   "cell_type": "code",
   "execution_count": null,
   "metadata": {},
   "outputs": [],
   "source": [
    "tester.results"
   ]
  },
  {
   "cell_type": "code",
   "execution_count": null,
   "metadata": {},
   "outputs": [],
   "source": [
    "tester.results_overview"
   ]
  },
  {
   "cell_type": "code",
   "execution_count": null,
   "metadata": {},
   "outputs": [],
   "source": [
    "tester.visualize_many()"
   ]
  },
  {
   "cell_type": "code",
   "execution_count": null,
   "metadata": {},
   "outputs": [],
   "source": [
    "tester.results.trades.value_counts()"
   ]
  },
  {
   "cell_type": "code",
   "execution_count": null,
   "metadata": {},
   "outputs": [],
   "source": []
  },
  {
   "cell_type": "markdown",
   "metadata": {},
   "source": [
    "## Advanced Performance Reporting"
   ]
  },
  {
   "cell_type": "code",
   "execution_count": null,
   "metadata": {},
   "outputs": [],
   "source": [
    "import pandas as pd\n",
    "import numpy as np\n",
    "import matplotlib.pyplot as plt\n",
    "plt.style.use(\"seaborn-v0_8\")"
   ]
  },
  {
   "cell_type": "code",
   "execution_count": null,
   "metadata": {},
   "outputs": [],
   "source": [
    "# Version 2.0 (Window Optimization)\n",
    "\n",
    "class ConBacktester():\n",
    "    ''' Class for the vectorized backtesting of simple contrarian trading strategies.\n",
    "    \n",
    "    Attributes\n",
    "    ============\n",
    "    filepath: str\n",
    "        local filepath of the dataset (csv-file)\n",
    "    symbol: str\n",
    "        ticker symbol (instrument) to be backtested\n",
    "    start: str\n",
    "        start date for data import\n",
    "    end: str\n",
    "        end date for data import\n",
    "    tc: float\n",
    "        proportional trading costs per trade\n",
    "    \n",
    "    \n",
    "    Methods\n",
    "    =======\n",
    "    get_data:\n",
    "        imports the data.\n",
    "        \n",
    "    test_strategy:\n",
    "        prepares the data and backtests the trading strategy incl. reporting (wrapper).\n",
    "        \n",
    "    prepare_data:\n",
    "        prepares the data for backtesting.\n",
    "    \n",
    "    run_backtest:\n",
    "        runs the strategy backtest.\n",
    "        \n",
    "    plot_results:\n",
    "        plots the cumulative performance of the trading strategy compared to buy-and-hold.\n",
    "        \n",
    "    optimize_strategy:\n",
    "        backtests strategy for different parameter values incl. optimization and reporting (wrapper).\n",
    "    \n",
    "    find_best_strategy:\n",
    "        finds the optimal strategy (global maximum) given the window parameter range.\n",
    "        \n",
    "    visualize_many:\n",
    "        plots parameter values vs. performance. \n",
    "    '''    \n",
    "    \n",
    "    def __init__(self, filepath, symbol, start, end, tc):\n",
    "        \n",
    "        self.filepath = filepath\n",
    "        self.symbol = symbol\n",
    "        self.start = start\n",
    "        self.end = end\n",
    "        self.tc = tc\n",
    "        self.results = None\n",
    "        self.get_data()\n",
    "        \n",
    "    def __repr__(self):\n",
    "        return \"ConBacktester(symbol = {}, start = {}, end = {})\".format(self.symbol, self.start, self.end)\n",
    "        \n",
    "    def get_data(self):\n",
    "        ''' Imports the data.\n",
    "        '''\n",
    "        raw = pd.read_csv(self.filepath, parse_dates = [\"time\"], index_col = \"time\")\n",
    "        raw = raw[self.symbol].to_frame().fillna(method = \"ffill\")\n",
    "        raw = raw.loc[self.start:self.end].copy()\n",
    "        raw.rename(columns={self.symbol: \"price\"}, inplace=True)\n",
    "        raw[\"returns\"] = np.log(raw.price / raw.price.shift(1))\n",
    "        self.data = raw\n",
    "        \n",
    "    def test_strategy(self, window = 1):\n",
    "        '''\n",
    "        Prepares the data and backtests the trading strategy incl. reporting (Wrapper).\n",
    "         \n",
    "        Parameters\n",
    "        ============\n",
    "        window: int\n",
    "            time window (number of bars) to be considered for the strategy.\n",
    "        '''\n",
    "        self.window = window\n",
    "                                \n",
    "        self.prepare_data(window)\n",
    "        self.run_backtest()\n",
    "        \n",
    "        data = self.results.copy()\n",
    "        data[\"creturns\"] = data[\"returns\"].cumsum().apply(np.exp)\n",
    "        data[\"cstrategy\"] = data[\"strategy\"].cumsum().apply(np.exp)\n",
    "        self.results = data\n",
    "        \n",
    "        multiple = round(self.results.cstrategy[-1], 6)\n",
    "        print(\"Strategy-Multiple: {}\".format(multiple))\n",
    "    \n",
    "    def prepare_data(self, window):\n",
    "        ''' Prepares the Data for Backtesting.\n",
    "        '''\n",
    "        data = self.data.copy()\n",
    "        data[\"roll_return\"] = data[\"returns\"].rolling(window).mean()\n",
    "        data[\"position\"] = -np.sign(data[\"roll_return\"])\n",
    "        self.results = data\n",
    "    \n",
    "    def run_backtest(self):\n",
    "        ''' Runs the strategy backtest.\n",
    "        '''\n",
    "        \n",
    "        data = self.results.copy()\n",
    "        data[\"strategy\"] = data[\"position\"].shift(1) * data[\"returns\"]\n",
    "        data.dropna(inplace=True)\n",
    "        \n",
    "        # determine the number of trades in each bar\n",
    "        data[\"trades\"] = data.position.diff().fillna(0).abs()\n",
    "        \n",
    "        # subtract transaction/trading costs from pre-cost return\n",
    "        data.strategy = data.strategy - data.trades * self.tc\n",
    "        \n",
    "        self.results = data\n",
    "    \n",
    "    def plot_results(self):\n",
    "        '''  Plots the cumulative performance of the trading strategy compared to buy-and-hold.\n",
    "        '''\n",
    "        if self.results is None:\n",
    "            print(\"Run test_strategy() first.\")\n",
    "        else:\n",
    "            title = \"{} | Window = {} | TC = {}\".format(self.symbol, self.window, self.tc)\n",
    "            self.results[[\"creturns\", \"cstrategy\"]].plot(title=title, figsize=(12, 8))\n",
    "            \n",
    "    def optimize_strategy(self, window_range):\n",
    "        '''\n",
    "        Backtests strategy for different parameter values incl. Optimization and Reporting (Wrapper).\n",
    "         \n",
    "        Parameters\n",
    "        ============\n",
    "        window_range: tuple\n",
    "            tuples of the form (start, end, step size).\n",
    "        '''\n",
    "        \n",
    "        windows = range(*window_range)\n",
    "        \n",
    "        performance = []\n",
    "        for window in windows:\n",
    "            self.prepare_data(window)\n",
    "            self.run_backtest()\n",
    "            performance.append(np.exp(self.results.strategy.sum()))\n",
    "    \n",
    "        self.results_overview =  pd.DataFrame(data = np.array(windows), columns = [\"Windows\"])\n",
    "        self.results_overview[\"Performance\"] = performance\n",
    "        self.find_best_strategy()\n",
    "        \n",
    "    def find_best_strategy(self):\n",
    "        ''' Finds the optimal strategy (global maximum) given the window parameter range.\n",
    "        '''\n",
    "        best = self.results_overview.nlargest(1, \"Performance\")\n",
    "        window = best.Windows.iloc[0]\n",
    "        perf = best.Performance.iloc[0]\n",
    "        print(\"Windows: {} | Multiple: {}\".format(window, round(perf, 6)))\n",
    "        self.test_strategy(window)\n",
    "        \n",
    "    def visualize_many(self):\n",
    "        ''' Plots parameter values vs. Performance.\n",
    "        '''\n",
    "\n",
    "        if self.results_overview is None:\n",
    "            print(\"Run optimize_strategy() first.\")\n",
    "        else:\n",
    "            self.results_overview.set_index(\"Windows\", inplace = True)\n",
    "            self.results_overview.plot(figsize = (12, 8))\n",
    "            plt.title(\"Simple Contrarian Strategy | Performance vs Windows\", fontsize = 15)\n",
    "            plt.xlabel(\"Windows\", fontsize = 15)\n",
    "            plt.ylabel(\"Multiple\", fontsize = 15)\n",
    "            plt.show()     "
   ]
  },
  {
   "cell_type": "code",
   "execution_count": null,
   "metadata": {},
   "outputs": [],
   "source": [
    "symbol = \"EURUSD\"\n",
    "start = \"2018-01-01\"\n",
    "end = \"2019-12-31\"\n",
    "tc = 0.00007"
   ]
  },
  {
   "cell_type": "code",
   "execution_count": null,
   "metadata": {
    "scrolled": true
   },
   "outputs": [],
   "source": [
    "tester = ConBacktester(filepath= \"intraday.csv\", symbol = symbol, start = start, end = end, tc = tc)\n",
    "tester"
   ]
  },
  {
   "cell_type": "code",
   "execution_count": null,
   "metadata": {},
   "outputs": [],
   "source": [
    "tester.test_strategy(window = 51)"
   ]
  },
  {
   "cell_type": "code",
   "execution_count": null,
   "metadata": {},
   "outputs": [],
   "source": [
    "tester.plot_results()"
   ]
  },
  {
   "cell_type": "markdown",
   "metadata": {},
   "source": [
    "__Required for many performance metrics: trading periods (6h) per year__ "
   ]
  },
  {
   "cell_type": "code",
   "execution_count": null,
   "metadata": {},
   "outputs": [],
   "source": [
    "tester.data"
   ]
  },
  {
   "cell_type": "code",
   "execution_count": null,
   "metadata": {},
   "outputs": [],
   "source": [
    "tp_year = (tester.data.price.count() / ((tester.data.index[-1] - tester.data.index[0]).days / 365.25))\n",
    "tp_year"
   ]
  },
  {
   "cell_type": "code",
   "execution_count": null,
   "metadata": {},
   "outputs": [],
   "source": [
    "tester.results"
   ]
  },
  {
   "cell_type": "markdown",
   "metadata": {},
   "source": [
    "__Multiple__"
   ]
  },
  {
   "cell_type": "code",
   "execution_count": null,
   "metadata": {},
   "outputs": [],
   "source": [
    "def calculate_multiple(series):\n",
    "    return np.exp(series.sum())"
   ]
  },
  {
   "cell_type": "code",
   "execution_count": null,
   "metadata": {},
   "outputs": [],
   "source": [
    "calculate_multiple(tester.results.strategy)"
   ]
  },
  {
   "cell_type": "markdown",
   "metadata": {},
   "source": [
    "__CAGR__"
   ]
  },
  {
   "cell_type": "code",
   "execution_count": null,
   "metadata": {},
   "outputs": [],
   "source": [
    "def calculate_cagr(series):\n",
    "        return np.exp(series.sum())**(1/((series.index[-1] - series.index[0]).days / 365.25)) - 1"
   ]
  },
  {
   "cell_type": "code",
   "execution_count": null,
   "metadata": {},
   "outputs": [],
   "source": [
    "calculate_cagr(tester.results.strategy)"
   ]
  },
  {
   "cell_type": "markdown",
   "metadata": {},
   "source": [
    "__annualized mean return__"
   ]
  },
  {
   "cell_type": "code",
   "execution_count": null,
   "metadata": {},
   "outputs": [],
   "source": [
    "def calculate_annualized_mean(series):\n",
    "    return series.mean() * tp_year"
   ]
  },
  {
   "cell_type": "code",
   "execution_count": null,
   "metadata": {},
   "outputs": [],
   "source": [
    "calculate_annualized_mean(tester.results.strategy)"
   ]
  },
  {
   "cell_type": "markdown",
   "metadata": {},
   "source": [
    "__annualized std__"
   ]
  },
  {
   "cell_type": "code",
   "execution_count": null,
   "metadata": {},
   "outputs": [],
   "source": [
    "def calculate_annualized_std(series):\n",
    "    return series.std() * np.sqrt(tp_year)"
   ]
  },
  {
   "cell_type": "code",
   "execution_count": null,
   "metadata": {},
   "outputs": [],
   "source": [
    "calculate_annualized_std(tester.results.strategy)"
   ]
  },
  {
   "cell_type": "markdown",
   "metadata": {},
   "source": [
    "__Sharpe Ratio__"
   ]
  },
  {
   "cell_type": "code",
   "execution_count": null,
   "metadata": {},
   "outputs": [],
   "source": [
    "def calculate_sharpe(series):\n",
    "    if series.std() == 0:\n",
    "        return np.nan\n",
    "    else:\n",
    "        return series.mean() / series.std() * np.sqrt(tp_year)"
   ]
  },
  {
   "cell_type": "code",
   "execution_count": null,
   "metadata": {},
   "outputs": [],
   "source": [
    "calculate_sharpe(tester.results.strategy)"
   ]
  },
  {
   "cell_type": "markdown",
   "metadata": {},
   "source": [
    "__+ Sortino Ratio, Max Drawdown, Max Drawdown Duration, Calmar Ratio, Kelly Criterion, and many more...__"
   ]
  },
  {
   "cell_type": "code",
   "execution_count": null,
   "metadata": {},
   "outputs": [],
   "source": []
  },
  {
   "cell_type": "markdown",
   "metadata": {},
   "source": [
    "## Updating the ConBacktester Class (advanced Performance Reporting)"
   ]
  },
  {
   "cell_type": "code",
   "execution_count": null,
   "metadata": {},
   "outputs": [],
   "source": [
    "import pandas as pd\n",
    "import numpy as np\n",
    "import matplotlib.pyplot as plt\n",
    "plt.style.use(\"seaborn-v0_8\")"
   ]
  },
  {
   "cell_type": "code",
   "execution_count": null,
   "metadata": {},
   "outputs": [],
   "source": [
    "# Version 2.1 (advanced Performance Reporting)\n",
    "\n",
    "class ConBacktester():\n",
    "    ''' Class for the vectorized backtesting of simple contrarian trading strategies.\n",
    "    \n",
    "    Attributes\n",
    "    ============\n",
    "    filepath: str\n",
    "        local filepath of the dataset (csv-file)\n",
    "    symbol: str\n",
    "        ticker symbol (instrument) to be backtested\n",
    "    start: str\n",
    "        start date for data import\n",
    "    end: str\n",
    "        end date for data import\n",
    "    tc: float\n",
    "        proportional trading costs per trade\n",
    "    \n",
    "    \n",
    "    Methods\n",
    "    =======\n",
    "    get_data:\n",
    "        imports the data.\n",
    "        \n",
    "    test_strategy:\n",
    "        prepares the data and backtests the trading strategy incl. reporting (wrapper).\n",
    "        \n",
    "    prepare_data:\n",
    "        prepares the data for backtesting.\n",
    "    \n",
    "    run_backtest:\n",
    "        runs the strategy backtest.\n",
    "        \n",
    "    plot_results:\n",
    "        plots the cumulative performance of the trading strategy compared to buy-and-hold.\n",
    "        \n",
    "    optimize_strategy:\n",
    "        backtests strategy for different parameter values incl. optimization and reporting (wrapper).\n",
    "    \n",
    "    find_best_strategy:\n",
    "        finds the optimal strategy (global maximum) given the window parameter range.\n",
    "        \n",
    "    visualize_many:\n",
    "        plots parameter values vs. performance. \n",
    "        \n",
    "    print_performance:\n",
    "        calculates and prints various performance metrics.\n",
    "        \n",
    "    '''    \n",
    "    \n",
    "    def __init__(self, filepath, symbol, start, end, tc):\n",
    "        \n",
    "        self.filepath = filepath\n",
    "        self.symbol = symbol\n",
    "        self.start = start\n",
    "        self.end = end\n",
    "        self.tc = tc\n",
    "        self.results = None\n",
    "        self.get_data()\n",
    "        self.tp_year = (self.data.price.count() / ((self.data.index[-1] - self.data.index[0]).days / 365.25)) # NEW\n",
    "        \n",
    "    def __repr__(self):\n",
    "        return \"ConBacktester(symbol = {}, start = {}, end = {})\".format(self.symbol, self.start, self.end)\n",
    "        \n",
    "    def get_data(self):\n",
    "        ''' Imports the data.\n",
    "        '''\n",
    "        raw = pd.read_csv(self.filepath, parse_dates = [\"time\"], index_col = \"time\")\n",
    "        raw = raw[self.symbol].to_frame().fillna(method = \"ffill\")\n",
    "        raw = raw.loc[self.start:self.end].copy()\n",
    "        raw.rename(columns={self.symbol: \"price\"}, inplace=True)\n",
    "        raw[\"returns\"] = np.log(raw.price / raw.price.shift(1))\n",
    "        self.data = raw\n",
    "        \n",
    "    def test_strategy(self, window = 1):\n",
    "        '''\n",
    "        Prepares the data and backtests the trading strategy incl. reporting (Wrapper).\n",
    "         \n",
    "        Parameters\n",
    "        ============\n",
    "        window: int\n",
    "            time window (number of bars) to be considered for the strategy.\n",
    "        '''\n",
    "        self.window = window\n",
    "                                \n",
    "        self.prepare_data(window)\n",
    "        self.run_backtest()\n",
    "        \n",
    "        data = self.results.copy()\n",
    "        data[\"creturns\"] = data[\"returns\"].cumsum().apply(np.exp)\n",
    "        data[\"cstrategy\"] = data[\"strategy\"].cumsum().apply(np.exp)\n",
    "        self.results = data\n",
    "        \n",
    "        #multiple = round(self.results.cstrategy[-1], 6)\n",
    "        #print(\"Strategy-Multiple: {}\".format(multiple))\n",
    "        \n",
    "        self.print_performance() # NEW\n",
    "    \n",
    "    def prepare_data(self, window):\n",
    "        ''' Prepares the Data for Backtesting.\n",
    "        '''\n",
    "        data = self.data.copy()\n",
    "        data[\"roll_return\"] = data[\"returns\"].rolling(window).mean()\n",
    "        data[\"position\"] = -np.sign(data[\"roll_return\"])\n",
    "        self.results = data\n",
    "    \n",
    "    def run_backtest(self):\n",
    "        ''' Runs the strategy backtest.\n",
    "        '''\n",
    "        \n",
    "        data = self.results.copy()\n",
    "        data[\"strategy\"] = data[\"position\"].shift(1) * data[\"returns\"]\n",
    "        data.dropna(inplace=True)\n",
    "        \n",
    "        # determine the number of trades in each bar\n",
    "        data[\"trades\"] = data.position.diff().fillna(0).abs()\n",
    "        \n",
    "        # subtract transaction/trading costs from pre-cost return\n",
    "        data.strategy = data.strategy - data.trades * self.tc\n",
    "        \n",
    "        self.results = data\n",
    "    \n",
    "    def plot_results(self):\n",
    "        '''  Plots the cumulative performance of the trading strategy compared to buy-and-hold.\n",
    "        '''\n",
    "        if self.results is None:\n",
    "            print(\"Run test_strategy() first.\")\n",
    "        else:\n",
    "            title = \"{} | Window = {} | TC = {}\".format(self.symbol, self.window, self.tc)\n",
    "            self.results[[\"creturns\", \"cstrategy\"]].plot(title=title, figsize=(12, 8))\n",
    "            \n",
    "    def optimize_strategy(self, window_range):\n",
    "        '''\n",
    "        Backtests strategy for different parameter values incl. Optimization and Reporting (Wrapper).\n",
    "         \n",
    "        Parameters\n",
    "        ============\n",
    "        window_range: tuple\n",
    "            tuples of the form (start, end, step size).\n",
    "        '''\n",
    "        \n",
    "        windows = range(*window_range)\n",
    "        \n",
    "        performance = []\n",
    "        for window in windows:\n",
    "            self.prepare_data(window)\n",
    "            self.run_backtest()\n",
    "            performance.append(np.exp(self.results.strategy.sum()))\n",
    "    \n",
    "        self.results_overview =  pd.DataFrame(data = np.array(windows), columns = [\"Windows\"])\n",
    "        self.results_overview[\"Performance\"] = performance\n",
    "        self.find_best_strategy()\n",
    "        \n",
    "    def find_best_strategy(self):\n",
    "        ''' Finds the optimal strategy (global maximum) given the window parameter range.\n",
    "        '''\n",
    "        best = self.results_overview.nlargest(1, \"Performance\")\n",
    "        window = best.Windows.iloc[0]\n",
    "        perf = best.Performance.iloc[0]\n",
    "        print(\"Windows: {} | Multiple: {}\".format(window, round(perf, 6)))\n",
    "        self.test_strategy(window)\n",
    "        \n",
    "    def visualize_many(self):\n",
    "        ''' Plots parameter values vs. Performance.\n",
    "        '''\n",
    "\n",
    "        if self.results_overview is None:\n",
    "            print(\"Run optimize_strategy() first.\")\n",
    "        else:\n",
    "            self.results_overview.set_index(\"Windows\", inplace = True)\n",
    "            self.results_overview.plot(figsize = (12, 8))\n",
    "            plt.title(\"Simple Contrarian Strategy | Performance vs Windows\", fontsize = 15)\n",
    "            plt.xlabel(\"Windows\", fontsize = 15)\n",
    "            plt.ylabel(\"Multiple\", fontsize = 15)\n",
    "            plt.show()   \n",
    "            \n",
    "    ############################## Performance ######################################\n",
    "    \n",
    "    def print_performance(self):\n",
    "        ''' Calculates and prints various Performance Metrics.\n",
    "        '''\n",
    "        \n",
    "        data = self.results.copy()\n",
    "        strategy_multiple = round(self.calculate_multiple(data.strategy), 6)\n",
    "        bh_multiple =       round(self.calculate_multiple(data.returns), 6)\n",
    "        outperf =           round(strategy_multiple - bh_multiple, 6)\n",
    "        cagr =              round(self.calculate_cagr(data.strategy), 6)\n",
    "        ann_mean =          round(self.calculate_annualized_mean(data.strategy), 6)\n",
    "        ann_std =           round(self.calculate_annualized_std(data.strategy), 6)\n",
    "        sharpe =            round(self.calculate_sharpe(data.strategy), 6)\n",
    "        sortino =           round(self.calculate_sortino(data.strategy), 6)\n",
    "        max_drawdown =      round(self.calculate_max_drawdown(data.strategy), 6)\n",
    "        calmar =            round(self.calculate_calmar(data.strategy), 6)\n",
    "        max_dd_duration =   round(self.calculate_max_dd_duration(data.strategy), 6)\n",
    "        kelly_criterion =   round(self.calculate_kelly_criterion(data.strategy), 6)\n",
    "        \n",
    "        print(100 * \"=\")\n",
    "        print(\"SIMPLE CONTRARIAN STRATEGY | INSTRUMENT = {} | WINDOW = {}\".format(self.symbol, self.window))\n",
    "        print(100 * \"-\")\n",
    "        #print(\"\\n\")\n",
    "        print(\"PERFORMANCE MEASURES:\")\n",
    "        print(\"\\n\")\n",
    "        print(\"Multiple (Strategy):         {}\".format(strategy_multiple))\n",
    "        print(\"Multiple (Buy-and-Hold):     {}\".format(bh_multiple))\n",
    "        print(38 * \"-\")\n",
    "        print(\"Out-/Underperformance:       {}\".format(outperf))\n",
    "        print(\"\\n\")\n",
    "        print(\"CAGR:                        {}\".format(cagr))\n",
    "        print(\"Annualized Mean:             {}\".format(ann_mean))\n",
    "        print(\"Annualized Std:              {}\".format(ann_std))\n",
    "        print(\"Sharpe Ratio:                {}\".format(sharpe))\n",
    "        print(\"Sortino Ratio:               {}\".format(sortino))\n",
    "        print(\"Maximum Drawdown:            {}\".format(max_drawdown))\n",
    "        print(\"Calmar Ratio:                {}\".format(calmar))\n",
    "        print(\"Max Drawdown Duration:       {} Days\".format(max_dd_duration))\n",
    "        print(\"Kelly Criterion:             {}\".format(kelly_criterion))\n",
    "        \n",
    "        print(100 * \"=\")\n",
    "        \n",
    "    def calculate_multiple(self, series):\n",
    "        return np.exp(series.sum())\n",
    "    \n",
    "    def calculate_cagr(self, series):\n",
    "        return np.exp(series.sum())**(1/((series.index[-1] - series.index[0]).days / 365.25)) - 1\n",
    "    \n",
    "    def calculate_annualized_mean(self, series):\n",
    "        return series.mean() * self.tp_year\n",
    "    \n",
    "    def calculate_annualized_std(self, series):\n",
    "        return series.std() * np.sqrt(self.tp_year)\n",
    "    \n",
    "    def calculate_sharpe(self, series):\n",
    "        if series.std() == 0:\n",
    "            return np.nan\n",
    "        else:\n",
    "            return series.mean() / series.std() * np.sqrt(self.tp_year)\n",
    "    \n",
    "    def calculate_sortino(self, series):\n",
    "        excess_returns = (series - 0)\n",
    "        downside_deviation = np.sqrt(np.mean(np.where(excess_returns < 0, excess_returns, 0)**2))\n",
    "        if downside_deviation == 0:\n",
    "            return np.nan\n",
    "        else:\n",
    "            sortino = (series.mean() - 0) / downside_deviation * np.sqrt(self.tp_year)\n",
    "            return sortino \n",
    "    \n",
    "    def calculate_max_drawdown(self, series):\n",
    "        creturns = series.cumsum().apply(np.exp)\n",
    "        cummax = creturns.cummax()\n",
    "        drawdown = (cummax - creturns)/cummax\n",
    "        max_dd = drawdown.max()\n",
    "        return max_dd\n",
    "    \n",
    "    def calculate_calmar(self, series):\n",
    "        max_dd = self.calculate_max_drawdown(series)\n",
    "        if max_dd == 0:\n",
    "            return np.nan\n",
    "        else:\n",
    "            cagr = self.calculate_cagr(series)\n",
    "            calmar = cagr / max_dd\n",
    "            return calmar\n",
    "    \n",
    "    def calculate_max_dd_duration(self, series):\n",
    "        creturns = series.cumsum().apply(np.exp)\n",
    "        cummax = creturns.cummax()\n",
    "        drawdown = (cummax - creturns)/cummax\n",
    "    \n",
    "        begin = drawdown[drawdown == 0].index\n",
    "        end = begin[1:]\n",
    "        end = end.append(pd.DatetimeIndex([drawdown.index[-1]]))\n",
    "        periods = end - begin\n",
    "        max_ddd = periods.max()\n",
    "        return max_ddd.days\n",
    "    \n",
    "    def calculate_kelly_criterion(self, series):\n",
    "        series = np.exp(series) - 1\n",
    "        if series.var() == 0:\n",
    "            return np.nan\n",
    "        else:\n",
    "            return series.mean() / series.var()\n",
    "    \n",
    "    ############################## Performance ######################################"
   ]
  },
  {
   "cell_type": "code",
   "execution_count": null,
   "metadata": {},
   "outputs": [],
   "source": [
    "symbol = \"EURUSD\"\n",
    "start = \"2018-01-01\"\n",
    "end = \"2019-12-31\"\n",
    "tc = 0.00007"
   ]
  },
  {
   "cell_type": "code",
   "execution_count": null,
   "metadata": {
    "scrolled": true
   },
   "outputs": [],
   "source": [
    "tester = ConBacktester(filepath= \"intraday.csv\", symbol = symbol, start = start, end = end, tc = tc)\n",
    "tester"
   ]
  },
  {
   "cell_type": "code",
   "execution_count": null,
   "metadata": {},
   "outputs": [],
   "source": [
    "tester.tp_year"
   ]
  },
  {
   "cell_type": "code",
   "execution_count": null,
   "metadata": {},
   "outputs": [],
   "source": [
    "tester.test_strategy(51)"
   ]
  },
  {
   "cell_type": "code",
   "execution_count": null,
   "metadata": {},
   "outputs": [],
   "source": [
    "tester.test_strategy(1)"
   ]
  },
  {
   "cell_type": "code",
   "execution_count": null,
   "metadata": {},
   "outputs": [],
   "source": [
    "tester.calculate_sharpe(tester.results.strategy)"
   ]
  },
  {
   "cell_type": "code",
   "execution_count": null,
   "metadata": {},
   "outputs": [],
   "source": [
    "tester.calculate_max_dd_duration(tester.results.strategy)"
   ]
  },
  {
   "cell_type": "code",
   "execution_count": null,
   "metadata": {},
   "outputs": [],
   "source": []
  },
  {
   "cell_type": "markdown",
   "metadata": {},
   "source": [
    "## Putting everything together: Advanced Performance Optimization"
   ]
  },
  {
   "cell_type": "code",
   "execution_count": null,
   "metadata": {},
   "outputs": [],
   "source": [
    "import pandas as pd\n",
    "import numpy as np\n",
    "import matplotlib.pyplot as plt\n",
    "plt.style.use(\"seaborn-v0_8\")"
   ]
  },
  {
   "cell_type": "code",
   "execution_count": null,
   "metadata": {},
   "outputs": [],
   "source": [
    "# Version 3.0 (advanced Performance Optimization)\n",
    "\n",
    "class ConBacktester():\n",
    "    ''' Class for the vectorized backtesting of simple contrarian trading strategies.\n",
    "    \n",
    "    Attributes\n",
    "    ============\n",
    "    filepath: str\n",
    "        local filepath of the dataset (csv-file)\n",
    "    symbol: str\n",
    "        ticker symbol (instrument) to be backtested\n",
    "    start: str\n",
    "        start date for data import\n",
    "    end: str\n",
    "        end date for data import\n",
    "    tc: float\n",
    "        proportional trading costs per trade\n",
    "    \n",
    "    \n",
    "    Methods\n",
    "    =======\n",
    "    get_data:\n",
    "        imports the data.\n",
    "        \n",
    "    test_strategy:\n",
    "        prepares the data and backtests the trading strategy incl. reporting (wrapper).\n",
    "        \n",
    "    prepare_data:\n",
    "        prepares the data for backtesting.\n",
    "    \n",
    "    run_backtest:\n",
    "        runs the strategy backtest.\n",
    "        \n",
    "    plot_results:\n",
    "        plots the cumulative performance of the trading strategy compared to buy-and-hold.\n",
    "        \n",
    "    optimize_strategy:\n",
    "        backtests strategy for different parameter values incl. optimization and reporting (wrapper).\n",
    "    \n",
    "    find_best_strategy:\n",
    "        finds the optimal strategy (global maximum) given the window parameter range.\n",
    "        \n",
    "    visualize_many:\n",
    "        plots parameter values vs. performance. \n",
    "        \n",
    "    print_performance:\n",
    "        calculates and prints various performance metrics.\n",
    "        \n",
    "    '''    \n",
    "    \n",
    "    def __init__(self, filepath, symbol, start, end, tc):\n",
    "        \n",
    "        self.filepath = filepath\n",
    "        self.symbol = symbol\n",
    "        self.start = start\n",
    "        self.end = end\n",
    "        self.tc = tc\n",
    "        self.results = None\n",
    "        self.get_data()\n",
    "        self.tp_year = (self.data.price.count() / ((self.data.index[-1] - self.data.index[0]).days / 365.25))\n",
    "        \n",
    "    def __repr__(self):\n",
    "        return \"ConBacktester(symbol = {}, start = {}, end = {})\".format(self.symbol, self.start, self.end)\n",
    "        \n",
    "    def get_data(self):\n",
    "        ''' Imports the data.\n",
    "        '''\n",
    "        raw = pd.read_csv(self.filepath, parse_dates = [\"time\"], index_col = \"time\")\n",
    "        raw = raw[self.symbol].to_frame().fillna(method = \"ffill\")\n",
    "        raw = raw.loc[self.start:self.end].copy()\n",
    "        raw.rename(columns={self.symbol: \"price\"}, inplace=True)\n",
    "        raw[\"returns\"] = np.log(raw.price / raw.price.shift(1))\n",
    "        self.data = raw\n",
    "        \n",
    "    def test_strategy(self, window = 1):\n",
    "        '''\n",
    "        Prepares the data and backtests the trading strategy incl. reporting (Wrapper).\n",
    "         \n",
    "        Parameters\n",
    "        ============\n",
    "        window: int\n",
    "            time window (number of bars) to be considered for the strategy.\n",
    "        '''\n",
    "        self.window = window\n",
    "                                \n",
    "        self.prepare_data(window)\n",
    "        self.run_backtest()\n",
    "        \n",
    "        data = self.results.copy()\n",
    "        data[\"creturns\"] = data[\"returns\"].cumsum().apply(np.exp)\n",
    "        data[\"cstrategy\"] = data[\"strategy\"].cumsum().apply(np.exp)\n",
    "        self.results = data\n",
    "        \n",
    "        self.print_performance()\n",
    "    \n",
    "    def prepare_data(self, window):\n",
    "        ''' Prepares the Data for Backtesting.\n",
    "        '''\n",
    "        data = self.data.copy()\n",
    "        data[\"roll_return\"] = data[\"returns\"].rolling(window).mean()\n",
    "        data[\"position\"] = -np.sign(data[\"roll_return\"])\n",
    "        self.results = data\n",
    "    \n",
    "    def run_backtest(self):\n",
    "        ''' Runs the strategy backtest.\n",
    "        '''\n",
    "        \n",
    "        data = self.results.copy()\n",
    "        data[\"strategy\"] = data[\"position\"].shift(1) * data[\"returns\"]\n",
    "        data.dropna(inplace=True)\n",
    "        \n",
    "        # determine the number of trades in each bar\n",
    "        data[\"trades\"] = data.position.diff().fillna(0).abs()\n",
    "        \n",
    "        # subtract transaction/trading costs from pre-cost return\n",
    "        data.strategy = data.strategy - data.trades * self.tc\n",
    "        \n",
    "        self.results = data\n",
    "    \n",
    "    def plot_results(self):\n",
    "        '''  Plots the cumulative performance of the trading strategy compared to buy-and-hold.\n",
    "        '''\n",
    "        if self.results is None:\n",
    "            print(\"Run test_strategy() first.\")\n",
    "        else:\n",
    "            title = \"{} | Window = {} | TC = {}\".format(self.symbol, self.window, self.tc)\n",
    "            self.results[[\"creturns\", \"cstrategy\"]].plot(title=title, figsize=(12, 8))\n",
    "            \n",
    "    def optimize_strategy(self, window_range, metric = \"Multiple\"):\n",
    "        '''\n",
    "        Backtests strategy for different parameter values incl. Optimization and Reporting (Wrapper).\n",
    "         \n",
    "        Parameters\n",
    "        ============\n",
    "        window_range: tuple\n",
    "            tuples of the form (start, end, step size).\n",
    "        \n",
    "        metric: str\n",
    "            performance metric to be optimized (can be: \"Multiple\", \"Sharpe\", \"Sortino\", \"Calmar\", \"Kelly\")\n",
    "        '''\n",
    "        \n",
    "        self.metric = metric\n",
    "        \n",
    "        # NEW!!!\n",
    "        if metric == \"Multiple\":\n",
    "            performance_function = self.calculate_multiple\n",
    "        elif metric == \"Sharpe\":\n",
    "            performance_function = self.calculate_sharpe\n",
    "        elif metric == \"Sortino\":\n",
    "            performance_function = self.calculate_sortino\n",
    "        elif metric == \"Calmar\": \n",
    "            performance_function = self.calculate_calmar\n",
    "        elif metric == \"Kelly\": \n",
    "            performance_function = self.calculate_kelly_criterion\n",
    "        \n",
    "        windows = range(*window_range)\n",
    "        \n",
    "        performance = []\n",
    "        for window in windows:\n",
    "            self.prepare_data(window)\n",
    "            self.run_backtest()\n",
    "            performance.append(performance_function(self.results.strategy))\n",
    "    \n",
    "        self.results_overview =  pd.DataFrame(data = np.array(windows), columns = [\"Windows\"])\n",
    "        self.results_overview[\"Performance\"] = performance\n",
    "        self.find_best_strategy()\n",
    "        \n",
    "    def find_best_strategy(self):\n",
    "        ''' Finds the optimal strategy (global maximum) given the window parameter range.\n",
    "        '''\n",
    "        best = self.results_overview.nlargest(1, \"Performance\")\n",
    "        window = best.Windows.iloc[0]\n",
    "        perf = best.Performance.iloc[0]\n",
    "        print(\"Windows: {} | {}: {}\".format(window, self.metric, round(perf, 6))) # updated\n",
    "        self.test_strategy(window)\n",
    "        \n",
    "    def visualize_many(self):\n",
    "        ''' Plots parameter values vs. Performance.\n",
    "        '''\n",
    "\n",
    "        if self.results_overview is None:\n",
    "            print(\"Run optimize_strategy() first.\")\n",
    "        else:\n",
    "            self.results_overview.set_index(\"Windows\", inplace = True)\n",
    "            self.results_overview.plot(figsize = (12, 8))\n",
    "            plt.title(\"Simple Contrarian Strategy | {} vs Windows\".format(self.metric), fontsize = 15) # updated\n",
    "            plt.xlabel(\"Windows\", fontsize = 15)\n",
    "            plt.ylabel(\"{}\".format(self.metric), fontsize = 15) # updated\n",
    "            plt.show()   \n",
    "            \n",
    "    ############################## Performance ######################################\n",
    "    \n",
    "    def print_performance(self):\n",
    "        ''' Calculates and prints various Performance Metrics.\n",
    "        '''\n",
    "        \n",
    "        data = self.results.copy()\n",
    "        strategy_multiple = round(self.calculate_multiple(data.strategy), 6)\n",
    "        bh_multiple =       round(self.calculate_multiple(data.returns), 6)\n",
    "        outperf =           round(strategy_multiple - bh_multiple, 6)\n",
    "        cagr =              round(self.calculate_cagr(data.strategy), 6)\n",
    "        ann_mean =          round(self.calculate_annualized_mean(data.strategy), 6)\n",
    "        ann_std =           round(self.calculate_annualized_std(data.strategy), 6)\n",
    "        sharpe =            round(self.calculate_sharpe(data.strategy), 6)\n",
    "        sortino =           round(self.calculate_sortino(data.strategy), 6)\n",
    "        max_drawdown =      round(self.calculate_max_drawdown(data.strategy), 6)\n",
    "        calmar =            round(self.calculate_calmar(data.strategy), 6)\n",
    "        max_dd_duration =   round(self.calculate_max_dd_duration(data.strategy), 6)\n",
    "        kelly_criterion =   round(self.calculate_kelly_criterion(data.strategy), 6)\n",
    "        \n",
    "        print(100 * \"=\")\n",
    "        print(\"SIMPLE CONTRARIAN STRATEGY | INSTRUMENT = {} | WINDOW = {}\".format(self.symbol, self.window))\n",
    "        print(100 * \"-\")\n",
    "        #print(\"\\n\")\n",
    "        print(\"PERFORMANCE MEASURES:\")\n",
    "        print(\"\\n\")\n",
    "        print(\"Multiple (Strategy):         {}\".format(strategy_multiple))\n",
    "        print(\"Multiple (Buy-and-Hold):     {}\".format(bh_multiple))\n",
    "        print(38 * \"-\")\n",
    "        print(\"Out-/Underperformance:       {}\".format(outperf))\n",
    "        print(\"\\n\")\n",
    "        print(\"CAGR:                        {}\".format(cagr))\n",
    "        print(\"Annualized Mean:             {}\".format(ann_mean))\n",
    "        print(\"Annualized Std:              {}\".format(ann_std))\n",
    "        print(\"Sharpe Ratio:                {}\".format(sharpe))\n",
    "        print(\"Sortino Ratio:               {}\".format(sortino))\n",
    "        print(\"Maximum Drawdown:            {}\".format(max_drawdown))\n",
    "        print(\"Calmar Ratio:                {}\".format(calmar))\n",
    "        print(\"Max Drawdown Duration:       {} Days\".format(max_dd_duration))\n",
    "        print(\"Kelly Criterion:             {}\".format(kelly_criterion))\n",
    "        \n",
    "        print(100 * \"=\")\n",
    "        \n",
    "    def calculate_multiple(self, series):\n",
    "        return np.exp(series.sum())\n",
    "    \n",
    "    def calculate_cagr(self, series):\n",
    "        return np.exp(series.sum())**(1/((series.index[-1] - series.index[0]).days / 365.25)) - 1\n",
    "    \n",
    "    def calculate_annualized_mean(self, series):\n",
    "        return series.mean() * self.tp_year\n",
    "    \n",
    "    def calculate_annualized_std(self, series):\n",
    "        return series.std() * np.sqrt(self.tp_year)\n",
    "    \n",
    "    def calculate_sharpe(self, series):\n",
    "        if series.std() == 0:\n",
    "            return np.nan\n",
    "        else:\n",
    "            return series.mean() / series.std() * np.sqrt(self.tp_year)\n",
    "    \n",
    "    def calculate_sortino(self, series):\n",
    "        excess_returns = (series - 0)\n",
    "        downside_deviation = np.sqrt(np.mean(np.where(excess_returns < 0, excess_returns, 0)**2))\n",
    "        if downside_deviation == 0:\n",
    "            return np.nan\n",
    "        else:\n",
    "            sortino = (series.mean() - 0) / downside_deviation * np.sqrt(self.tp_year)\n",
    "            return sortino \n",
    "    \n",
    "    def calculate_max_drawdown(self, series):\n",
    "        creturns = series.cumsum().apply(np.exp)\n",
    "        cummax = creturns.cummax()\n",
    "        drawdown = (cummax - creturns)/cummax\n",
    "        max_dd = drawdown.max()\n",
    "        return max_dd\n",
    "    \n",
    "    def calculate_calmar(self, series):\n",
    "        max_dd = self.calculate_max_drawdown(series)\n",
    "        if max_dd == 0:\n",
    "            return np.nan\n",
    "        else:\n",
    "            cagr = self.calculate_cagr(series)\n",
    "            calmar = cagr / max_dd\n",
    "            return calmar\n",
    "    \n",
    "    def calculate_max_dd_duration(self, series):\n",
    "        creturns = series.cumsum().apply(np.exp)\n",
    "        cummax = creturns.cummax()\n",
    "        drawdown = (cummax - creturns)/cummax\n",
    "    \n",
    "        begin = drawdown[drawdown == 0].index\n",
    "        end = begin[1:]\n",
    "        end = end.append(pd.DatetimeIndex([drawdown.index[-1]]))\n",
    "        periods = end - begin\n",
    "        max_ddd = periods.max()\n",
    "        return max_ddd.days\n",
    "    \n",
    "    def calculate_kelly_criterion(self, series):\n",
    "        series = np.exp(series) - 1\n",
    "        if series.var() == 0:\n",
    "            return np.nan\n",
    "        else:\n",
    "            return series.mean() / series.var()\n",
    "    \n",
    "    ############################## Performance ######################################"
   ]
  },
  {
   "cell_type": "code",
   "execution_count": null,
   "metadata": {},
   "outputs": [],
   "source": [
    "symbol = \"EURUSD\"\n",
    "start = \"2018-01-01\"\n",
    "end = \"2019-12-31\"\n",
    "tc = 0.00007"
   ]
  },
  {
   "cell_type": "code",
   "execution_count": null,
   "metadata": {
    "scrolled": true
   },
   "outputs": [],
   "source": [
    "tester = ConBacktester(filepath= \"intraday.csv\", symbol = symbol, start = start, end = end, tc = tc)\n",
    "tester"
   ]
  },
  {
   "cell_type": "code",
   "execution_count": null,
   "metadata": {},
   "outputs": [],
   "source": [
    "tester.optimize_strategy((1, 1001, 1), metric= \"Calmar\")"
   ]
  },
  {
   "cell_type": "code",
   "execution_count": null,
   "metadata": {},
   "outputs": [],
   "source": [
    "tester.plot_results()"
   ]
  },
  {
   "cell_type": "code",
   "execution_count": null,
   "metadata": {},
   "outputs": [],
   "source": [
    "tester.visualize_many()"
   ]
  },
  {
   "cell_type": "code",
   "execution_count": null,
   "metadata": {},
   "outputs": [],
   "source": [
    "tester.results_overview.sort_values(by = \"Performance\", ascending = False)"
   ]
  },
  {
   "cell_type": "code",
   "execution_count": null,
   "metadata": {},
   "outputs": [],
   "source": []
  }
 ],
 "metadata": {
  "kernelspec": {
   "display_name": "Python 3 (ipykernel)",
   "language": "python",
   "name": "python3"
  },
  "language_info": {
   "codemirror_mode": {
    "name": "ipython",
    "version": 3
   },
   "file_extension": ".py",
   "mimetype": "text/x-python",
   "name": "python",
   "nbconvert_exporter": "python",
   "pygments_lexer": "ipython3",
   "version": "3.9.16"
  }
 },
 "nbformat": 4,
 "nbformat_minor": 4
}
