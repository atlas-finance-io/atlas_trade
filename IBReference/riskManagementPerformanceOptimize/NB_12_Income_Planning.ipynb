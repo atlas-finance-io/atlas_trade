{
 "cells": [
  {
   "cell_type": "markdown",
   "id": "85c138ea",
   "metadata": {},
   "source": [
    "# Sustainable Income Planning"
   ]
  },
  {
   "cell_type": "markdown",
   "id": "5d64426a",
   "metadata": {},
   "source": [
    "## Simple Income Calculation (too simple)"
   ]
  },
  {
   "cell_type": "markdown",
   "id": "b4bf5726",
   "metadata": {},
   "source": [
    "A Trader has created a levered trading strategy that (on average) generates an __annualized mean return of 105%__ (log) with a __standard deviation of 67%__. <br>\n",
    "The applicable (flat) __tax rate is 25%__ and the __inflation__ protection shall be __3% p.a.__<br>\n",
    "Calculate the Trader´s __sustainable income__ if the trader starts with __USD 10,000__ (available funds for trading)."
   ]
  },
  {
   "cell_type": "code",
   "execution_count": null,
   "id": "a2539bf8",
   "metadata": {},
   "outputs": [],
   "source": [
    "import numpy as np"
   ]
  },
  {
   "cell_type": "code",
   "execution_count": null,
   "id": "0e197238",
   "metadata": {},
   "outputs": [],
   "source": [
    "ann_mean = 1.05\n",
    "ann_std = 0.67"
   ]
  },
  {
   "cell_type": "code",
   "execution_count": null,
   "id": "68426a0d",
   "metadata": {},
   "outputs": [],
   "source": [
    "cagr = np.exp(ann_mean) - 1\n",
    "cagr"
   ]
  },
  {
   "cell_type": "code",
   "execution_count": null,
   "id": "fbe70775",
   "metadata": {},
   "outputs": [],
   "source": [
    "I0 = 10000\n",
    "tax_rate = 0.25\n",
    "infl = 0.03"
   ]
  },
  {
   "cell_type": "code",
   "execution_count": null,
   "id": "571cdc2a",
   "metadata": {},
   "outputs": [],
   "source": [
    "ann_income = I0 * (cagr * (1-tax_rate) - infl)\n",
    "ann_income"
   ]
  },
  {
   "cell_type": "code",
   "execution_count": null,
   "id": "85ec33a6",
   "metadata": {},
   "outputs": [],
   "source": [
    "monthly_income = ann_income / 12\n",
    "monthly_income"
   ]
  },
  {
   "cell_type": "markdown",
   "id": "07e31788",
   "metadata": {},
   "source": [
    "Is that realistic? __No!__ It assumes __zero risk__ and __annual year-end distributions__."
   ]
  },
  {
   "cell_type": "code",
   "execution_count": null,
   "id": "7d5ee79e",
   "metadata": {},
   "outputs": [],
   "source": []
  },
  {
   "cell_type": "markdown",
   "id": "7c3c7248",
   "metadata": {},
   "source": [
    "## Introduction to Simulations (Part 1)"
   ]
  },
  {
   "cell_type": "code",
   "execution_count": null,
   "id": "56f0c423",
   "metadata": {},
   "outputs": [],
   "source": [
    "import pandas as pd\n",
    "import numpy as np\n",
    "import matplotlib.pyplot as plt\n",
    "plt.style.use(\"seaborn-v0_8\")"
   ]
  },
  {
   "cell_type": "code",
   "execution_count": null,
   "id": "e7288fc9",
   "metadata": {},
   "outputs": [],
   "source": [
    "ann_mean = 1.05\n",
    "ann_std = 0.67"
   ]
  },
  {
   "cell_type": "code",
   "execution_count": null,
   "id": "7850d99d",
   "metadata": {},
   "outputs": [],
   "source": [
    "td_per_year = 259\n",
    "td_per_year"
   ]
  },
  {
   "cell_type": "code",
   "execution_count": null,
   "id": "2fca59b9",
   "metadata": {},
   "outputs": [],
   "source": [
    "daily_mean = ann_mean / td_per_year\n",
    "daily_mean"
   ]
  },
  {
   "cell_type": "code",
   "execution_count": null,
   "id": "a32df5d7",
   "metadata": {},
   "outputs": [],
   "source": [
    "daily_std = ann_std / np.sqrt(td_per_year)\n",
    "daily_std"
   ]
  },
  {
   "cell_type": "markdown",
   "id": "de9b2038",
   "metadata": {},
   "source": [
    "__Returns follow a random process__. It can get better/worse than the average/expected performance (random noise). "
   ]
  },
  {
   "cell_type": "markdown",
   "id": "d4b5beec",
   "metadata": {},
   "source": [
    "__One Simulation (over a 1-year period)__"
   ]
  },
  {
   "cell_type": "code",
   "execution_count": null,
   "id": "5406b8ce",
   "metadata": {},
   "outputs": [],
   "source": [
    "days = 259"
   ]
  },
  {
   "cell_type": "code",
   "execution_count": null,
   "id": "494a9d27",
   "metadata": {},
   "outputs": [],
   "source": [
    "np.random.seed(123)\n",
    "returns = np.random.normal(loc = daily_mean, scale = daily_std,\n",
    "                           size = days) # normal distribution (simplified)"
   ]
  },
  {
   "cell_type": "code",
   "execution_count": null,
   "id": "84684d9f",
   "metadata": {},
   "outputs": [],
   "source": [
    "returns = np.insert(returns, 0, 0)"
   ]
  },
  {
   "cell_type": "code",
   "execution_count": null,
   "id": "3adc53f7",
   "metadata": {},
   "outputs": [],
   "source": [
    "returns"
   ]
  },
  {
   "cell_type": "code",
   "execution_count": null,
   "id": "11f32e06",
   "metadata": {},
   "outputs": [],
   "source": [
    "len(returns)"
   ]
  },
  {
   "cell_type": "code",
   "execution_count": null,
   "id": "53270e53",
   "metadata": {},
   "outputs": [],
   "source": [
    "creturns = np.exp(returns.cumsum())\n",
    "creturns"
   ]
  },
  {
   "cell_type": "code",
   "execution_count": null,
   "id": "15771f24",
   "metadata": {},
   "outputs": [],
   "source": [
    "plt.figure(figsize = (12, 8))\n",
    "plt.plot(creturns)\n",
    "plt.xlabel(\"Time (Days)\", fontsize = 12)\n",
    "plt.ylabel(\"Multiple\",  fontsize = 12)\n",
    "plt.show()"
   ]
  },
  {
   "cell_type": "code",
   "execution_count": null,
   "id": "d26710d1",
   "metadata": {},
   "outputs": [],
   "source": [
    "np.mean(returns) * td_per_year"
   ]
  },
  {
   "cell_type": "code",
   "execution_count": null,
   "id": "5383cc89",
   "metadata": {},
   "outputs": [],
   "source": [
    "np.std(returns) * np.sqrt(td_per_year)"
   ]
  },
  {
   "cell_type": "markdown",
   "id": "17247c2d",
   "metadata": {},
   "source": [
    "__How good/bad can it get? -> Many Simulations__"
   ]
  },
  {
   "cell_type": "code",
   "execution_count": null,
   "id": "896620a9",
   "metadata": {},
   "outputs": [],
   "source": []
  },
  {
   "cell_type": "markdown",
   "id": "7975a552",
   "metadata": {},
   "source": [
    "## Introduction to Simulations (Part 2)"
   ]
  },
  {
   "cell_type": "markdown",
   "id": "6e19df8d",
   "metadata": {},
   "source": [
    "__Many Simulations (each over 1-year period)__"
   ]
  },
  {
   "cell_type": "code",
   "execution_count": null,
   "id": "843fffd9",
   "metadata": {},
   "outputs": [],
   "source": [
    "sims = 1000\n",
    "sims"
   ]
  },
  {
   "cell_type": "code",
   "execution_count": null,
   "id": "66a4effb",
   "metadata": {},
   "outputs": [],
   "source": [
    "days"
   ]
  },
  {
   "cell_type": "code",
   "execution_count": null,
   "id": "838771d2",
   "metadata": {},
   "outputs": [],
   "source": [
    "np.random.seed(123)\n",
    "returns = np.random.normal(loc = daily_mean, scale = daily_std, size = days * sims).reshape(days, sims)\n",
    "returns.shape"
   ]
  },
  {
   "cell_type": "code",
   "execution_count": null,
   "id": "8d1679b8",
   "metadata": {},
   "outputs": [],
   "source": [
    "returns"
   ]
  },
  {
   "cell_type": "code",
   "execution_count": null,
   "id": "c0abe9fd",
   "metadata": {},
   "outputs": [],
   "source": [
    "returns = np.insert(returns, 0, 0, axis = 0)\n",
    "returns"
   ]
  },
  {
   "cell_type": "code",
   "execution_count": null,
   "id": "32421fd8",
   "metadata": {},
   "outputs": [],
   "source": [
    "df = pd.DataFrame(data = returns)\n",
    "df"
   ]
  },
  {
   "cell_type": "code",
   "execution_count": null,
   "id": "592cf1a3",
   "metadata": {},
   "outputs": [],
   "source": [
    "df = df.cumsum().apply(np.exp)\n",
    "df"
   ]
  },
  {
   "cell_type": "code",
   "execution_count": null,
   "id": "b6c55848",
   "metadata": {
    "scrolled": false
   },
   "outputs": [],
   "source": [
    "plt.figure(figsize = (12 ,8))\n",
    "plt.plot(df.values)\n",
    "plt.xlabel(\"Days\", fontsize = 12)\n",
    "plt.ylabel(\"Normalized Price\", fontsize = 12)\n",
    "plt.show()"
   ]
  },
  {
   "cell_type": "code",
   "execution_count": null,
   "id": "7e54d072",
   "metadata": {},
   "outputs": [],
   "source": [
    "df.iloc[-1].plot(kind = \"hist\", bins = 100, figsize = (12, 8)) # final multiple after 1 year\n",
    "plt.show()"
   ]
  },
  {
   "cell_type": "code",
   "execution_count": null,
   "id": "08914bec",
   "metadata": {},
   "outputs": [],
   "source": [
    "df.iloc[-1].describe()"
   ]
  },
  {
   "cell_type": "code",
   "execution_count": null,
   "id": "5f1f09fc",
   "metadata": {},
   "outputs": [],
   "source": [
    "np.percentile(df.iloc[-1], [10, 90])"
   ]
  },
  {
   "cell_type": "markdown",
   "id": "718fd655",
   "metadata": {},
   "source": [
    "Keep in mind: This assumes normally distributed returns -> In reality, there is (a bit) more weight in the tails."
   ]
  },
  {
   "cell_type": "markdown",
   "id": "45f859df",
   "metadata": {},
   "source": [
    "So far, we ignored annual __Taxes__ and monthly __Income Distributions__ -> Next Step: __path-dependent Simulation__"
   ]
  },
  {
   "cell_type": "code",
   "execution_count": null,
   "id": "a73eb163",
   "metadata": {},
   "outputs": [],
   "source": []
  },
  {
   "cell_type": "markdown",
   "id": "cc4c27f4",
   "metadata": {},
   "source": [
    "## A path-dependent Simulation with Taxes and Income - Introduction"
   ]
  },
  {
   "cell_type": "markdown",
   "id": "9d06c319",
   "metadata": {},
   "source": [
    "__Tax Payments__"
   ]
  },
  {
   "cell_type": "markdown",
   "id": "bdff9bfb",
   "metadata": {},
   "source": [
    "Assumptions: \n",
    "- annual, year-end payments.\n",
    "- Full Trading Profit in a calender year is taxable @ x% flat tax rate (no loss carryforward) <br>\n",
    "__++++ This is not Tax Advice. Please consult your local tax advisor!!! ++++__"
   ]
  },
  {
   "cell_type": "markdown",
   "id": "db1873a9",
   "metadata": {},
   "source": [
    "__Income Distributions__"
   ]
  },
  {
   "cell_type": "markdown",
   "id": "ba0e23c0",
   "metadata": {},
   "source": [
    "Assumptions: \n",
    "- monthly, in arrears\n",
    "- increase on a monthly basis @ inflation rate"
   ]
  },
  {
   "cell_type": "markdown",
   "id": "f0f575e5",
   "metadata": {},
   "source": [
    "Tax Payments and Income Distributions are limited to Trading Profits and the Trading Capital (can´t get negative). <br> (no additional/subsequent funding)"
   ]
  },
  {
   "cell_type": "code",
   "execution_count": null,
   "id": "29e836a3",
   "metadata": {},
   "outputs": [],
   "source": [
    "import pandas as pd\n",
    "import numpy as np\n",
    "import matplotlib.pyplot as plt\n",
    "pd.set_option('display.float_format', lambda x: f'{x:,.3f}')\n",
    "plt.style.use(\"seaborn-v0_8\")"
   ]
  },
  {
   "cell_type": "code",
   "execution_count": null,
   "id": "b6e6bd75",
   "metadata": {},
   "outputs": [],
   "source": [
    "class Trade_Income():\n",
    "    \n",
    "    def __init__(self, start, end, I0, dist, infl, tax):\n",
    "        \n",
    "        self.start = start\n",
    "        self.end = end\n",
    "        self.I0 = I0\n",
    "        self.dist = dist\n",
    "        self.infl = infl\n",
    "        self.tax_rate = tax\n",
    "        self.prepare_data()\n",
    "    \n",
    "    def prepare_data(self):\n",
    "        \n",
    "        self.index = pd.date_range(start = self.start, end = self.end, freq= \"D\")\n",
    "        self.td_index = pd.date_range(start = self.start, end = self.end, freq= \"B\")\n",
    "        self.days = len(self.td_index) \n",
    "        self.td_per_year = (self.days / ((self.td_index[-1] - self.td_index[0]).days / 365.25))\n",
    "        self.tax_index = pd.date_range(start = self.start, end = self.end, freq= \"BA-DEC\")\n",
    "        self.dist_index = pd.date_range(start = self.start, end = self.end, freq= \"BM\")\n",
    "        \n",
    "        dist = [self.dist * (1 + self.infl)**(i/12) for i in range(len(self.dist_index))]\n",
    "        dist = pd.Series(dist, index = self.dist_index)\n",
    "        tax = pd.Series(True, index = self.tax_index)\n",
    "        df = pd.DataFrame(data = {\"Dist\":dist, \"Tax\":tax}, index = self.index)\n",
    "        df.Dist.fillna(0, inplace = True)\n",
    "        df.Tax.fillna(False, inplace = True)\n",
    "        self.raw_data = df\n",
    "        \n",
    "    def simulate_one(self, ann_mean, ann_std, seed = 123):\n",
    "        \n",
    "        daily_mean = ann_mean / self.td_per_year\n",
    "        daily_std = ann_std / np.sqrt(self.td_per_year)\n",
    "        \n",
    "        np.random.seed(seed)\n",
    "        returns = np.random.normal(loc = daily_mean, scale = daily_std, size = self.days)\n",
    "        returns = pd.Series(np.exp(returns) - 1, index = self.td_index)\n",
    "        data = self.raw_data.copy()\n",
    "        data[\"returns\"] = returns\n",
    "        data.returns.fillna(0, inplace = True)\n",
    "        self.data = data\n",
    "        \n",
    "        self.path_dependent()\n",
    "        \n",
    "    def simulate_many(self, ann_mean, ann_std, seed = 123, sims = 1000):\n",
    "        \n",
    "        daily_mean = ann_mean / self.td_per_year\n",
    "        daily_std = ann_std / np.sqrt(self.td_per_year)\n",
    "        \n",
    "        np.random.seed(seed)\n",
    "        matrix = np.random.normal(loc = daily_mean, scale = daily_std, size = sims * self.days).reshape(sims, self.days)\n",
    "        \n",
    "        results = []\n",
    "        for sim in range(sims):\n",
    "            returns = matrix[sim, :]\n",
    "            returns = pd.Series(np.exp(returns) - 1, index = self.td_index)\n",
    "            data = self.raw_data.copy()\n",
    "            data[\"returns\"] = returns\n",
    "            data.returns.fillna(0, inplace = True)\n",
    "            self.data = data\n",
    "            self.path_dependent()\n",
    "            \n",
    "            results.append(round(self.data.Equity[-1], 0))\n",
    "        return results\n",
    "                                                                            \n",
    "    def path_dependent(self):\n",
    "        \n",
    "        Equity = [I0]\n",
    "        Year_Begin = I0\n",
    "        Year_Distr = 0\n",
    "        dist_list = []\n",
    "        tax_list = []\n",
    "        \n",
    "        df = self.data.copy()\n",
    "\n",
    "        for i in range(len(self.index)):\n",
    "            equity_bd = Equity[i] * (1 + df.returns[i])\n",
    "            distribution = min(df.Dist[i], equity_bd)\n",
    "            dist_list.append(distribution)\n",
    "    \n",
    "            equity_bt = equity_bd - distribution\n",
    "            Year_Distr += distribution\n",
    "    \n",
    "            if df.Tax[i]:\n",
    "                taxable_income = max(0, Year_Distr + equity_bt - Year_Begin)\n",
    "                tax_pay = self.tax_rate * taxable_income\n",
    "                tax_list.append(tax_pay)\n",
    "                equity_at = max(0, equity_bt - tax_pay)\n",
    "                Year_Begin = equity_at\n",
    "                Year_Distr = 0\n",
    "    \n",
    "            else:\n",
    "                equity_at = equity_bt\n",
    "    \n",
    "            Equity.append(equity_at)\n",
    "        \n",
    "        df[\"Equity\"] = Equity[1:]\n",
    "        df[\"Dist\"] = dist_list\n",
    "        df[\"Tax\"] = pd.Series(tax_list, index = self.tax_index)\n",
    "        df.Tax.fillna(0, inplace = True)\n",
    "        \n",
    "        self.data = df   "
   ]
  },
  {
   "cell_type": "code",
   "execution_count": null,
   "id": "12139c2c",
   "metadata": {},
   "outputs": [],
   "source": [
    "start = \"2020-01-01\"\n",
    "end = \"2029-12-31\" # 10 years\n",
    "I0 = 10000 # initial trading capital\n",
    "dist = 545.7 # (initial) monthly distribution\n",
    "infl = 0.03 # inflation rate\n",
    "tax = 0.25 # flat tax rate"
   ]
  },
  {
   "cell_type": "code",
   "execution_count": null,
   "id": "7ea619ff",
   "metadata": {},
   "outputs": [],
   "source": [
    "TI = Trade_Income(start, end, I0, dist, infl, tax)\n",
    "TI"
   ]
  },
  {
   "cell_type": "markdown",
   "id": "72110932",
   "metadata": {},
   "source": [
    "__One Simulation__"
   ]
  },
  {
   "cell_type": "code",
   "execution_count": null,
   "id": "8cd9e500",
   "metadata": {},
   "outputs": [],
   "source": [
    "ann_mean = 1.05\n",
    "ann_std = 0.67 "
   ]
  },
  {
   "cell_type": "code",
   "execution_count": null,
   "id": "3f00e09f",
   "metadata": {},
   "outputs": [],
   "source": [
    "TI.simulate_one(ann_mean, ann_std, seed = 123)"
   ]
  },
  {
   "cell_type": "code",
   "execution_count": null,
   "id": "8fd6c379",
   "metadata": {},
   "outputs": [],
   "source": [
    "TI.data"
   ]
  },
  {
   "cell_type": "code",
   "execution_count": null,
   "id": "931fffe5",
   "metadata": {},
   "outputs": [],
   "source": [
    "TI.data.Dist.plot(figsize = (12, 8)) # income distributions\n",
    "plt.show()"
   ]
  },
  {
   "cell_type": "code",
   "execution_count": null,
   "id": "5955d865",
   "metadata": {},
   "outputs": [],
   "source": [
    "TI.data.Tax.plot(figsize = (12, 8)) # tax payments\n",
    "plt.show()"
   ]
  },
  {
   "cell_type": "code",
   "execution_count": null,
   "id": "5d983458",
   "metadata": {},
   "outputs": [],
   "source": [
    "TI.data.Equity.plot(figsize = (12, 8)) # Equity (Trading Capital)\n",
    "plt.show()"
   ]
  },
  {
   "cell_type": "code",
   "execution_count": null,
   "id": "01504ea8",
   "metadata": {},
   "outputs": [],
   "source": [
    "required_end_value = I0 * (1+infl)**10 # capital shall increase @ 3% p.a.\n",
    "required_end_value"
   ]
  },
  {
   "cell_type": "code",
   "execution_count": null,
   "id": "0f7f22c9",
   "metadata": {},
   "outputs": [],
   "source": [
    "TI.data.Equity[-1] > required_end_value"
   ]
  },
  {
   "cell_type": "code",
   "execution_count": null,
   "id": "ab84e3c8",
   "metadata": {},
   "outputs": [],
   "source": []
  },
  {
   "cell_type": "markdown",
   "id": "de2c456a",
   "metadata": {},
   "source": [
    "## A path-dependent Simulation with Taxes and Income - many Simulations"
   ]
  },
  {
   "cell_type": "code",
   "execution_count": null,
   "id": "0f37fc27",
   "metadata": {},
   "outputs": [],
   "source": [
    "start = \"2020-01-01\"\n",
    "end = \"2029-12-31\"\n",
    "I0 = 10000\n",
    "distr = 545.7 # monthly distribution\n",
    "infl = 0.03\n",
    "tax = 0.25"
   ]
  },
  {
   "cell_type": "code",
   "execution_count": null,
   "id": "78e2be2d",
   "metadata": {},
   "outputs": [],
   "source": [
    "ann_mean = 1.05\n",
    "ann_std = 0.67 "
   ]
  },
  {
   "cell_type": "code",
   "execution_count": null,
   "id": "841b1bac",
   "metadata": {},
   "outputs": [],
   "source": [
    "TI = Trade_Income(start, end, I0, distr, infl, tax)\n",
    "TI"
   ]
  },
  {
   "cell_type": "code",
   "execution_count": null,
   "id": "7429df9f",
   "metadata": {},
   "outputs": [],
   "source": [
    "results = TI.simulate_many(ann_mean, ann_std, seed = 123, sims = 1000)"
   ]
  },
  {
   "cell_type": "code",
   "execution_count": null,
   "id": "5d8ea180",
   "metadata": {},
   "outputs": [],
   "source": [
    "results"
   ]
  },
  {
   "cell_type": "code",
   "execution_count": null,
   "id": "c0ac5d30",
   "metadata": {},
   "outputs": [],
   "source": [
    "required_end_value"
   ]
  },
  {
   "cell_type": "code",
   "execution_count": null,
   "id": "580f3ab3",
   "metadata": {},
   "outputs": [],
   "source": [
    "(np.array(results) < required_end_value).mean() # shortfall probabilty over the next 10 years"
   ]
  },
  {
   "cell_type": "markdown",
   "id": "5917e7bb",
   "metadata": {},
   "source": [
    "-> With an initial Income Distribution of USD 545.7, the shortfall probability over the next 10 years is 31.7% <br>\n",
    "-> Level of Income is not sustainable."
   ]
  },
  {
   "cell_type": "code",
   "execution_count": null,
   "id": "87a35602",
   "metadata": {},
   "outputs": [],
   "source": []
  },
  {
   "cell_type": "markdown",
   "id": "aaa4020e",
   "metadata": {},
   "source": [
    "## Shortfall Risk and a Sustainable Income Level"
   ]
  },
  {
   "cell_type": "markdown",
   "id": "3e0e0921",
   "metadata": {},
   "source": [
    "__Determine a sustainable income distribution level with a shortfall probability of approx. 5%.__"
   ]
  },
  {
   "cell_type": "markdown",
   "id": "50a387d8",
   "metadata": {},
   "source": [
    "(Acceptable Shortfall Probability depends on the Individual´s Risk Tolerance)"
   ]
  },
  {
   "cell_type": "markdown",
   "id": "c56d0b30",
   "metadata": {},
   "source": [
    "A Trader has created a levered trading strategy that (on average) generates an __annualized mean return of 105%__ (log) with a __standard deviation of 67%__. <br>\n",
    "The applicable (flat) __tax rate is 25%__ and the __inflation__ protection shall be __3% p.a.__<br>\n",
    "Calculate the Trader´s __sustainable income__ if the trader starts with __USD 10,000__ (available funds for trading)."
   ]
  },
  {
   "cell_type": "code",
   "execution_count": null,
   "id": "c0600817",
   "metadata": {},
   "outputs": [],
   "source": [
    "simple_sol = 1136\n",
    "simple_sol"
   ]
  },
  {
   "cell_type": "markdown",
   "id": "36ef8fd5",
   "metadata": {},
   "source": [
    "__Rule of Thumb: Adjustment Factor between 20% and 50%__"
   ]
  },
  {
   "cell_type": "code",
   "execution_count": null,
   "id": "d4023e9e",
   "metadata": {},
   "outputs": [],
   "source": [
    "adj_factor = 0.25 # 25%"
   ]
  },
  {
   "cell_type": "code",
   "execution_count": null,
   "id": "95514423",
   "metadata": {},
   "outputs": [],
   "source": [
    "distr = simple_sol * adj_factor\n",
    "distr"
   ]
  },
  {
   "cell_type": "code",
   "execution_count": null,
   "id": "8ffa615e",
   "metadata": {},
   "outputs": [],
   "source": [
    "TI = Trade_Income(start, end, I0, distr, infl, tax)\n",
    "TI"
   ]
  },
  {
   "cell_type": "code",
   "execution_count": null,
   "id": "922ffae1",
   "metadata": {},
   "outputs": [],
   "source": [
    "results = TI.simulate_many(ann_mean, ann_std, seed = 123, sims = 1000)"
   ]
  },
  {
   "cell_type": "code",
   "execution_count": null,
   "id": "30947af2",
   "metadata": {},
   "outputs": [],
   "source": [
    "results"
   ]
  },
  {
   "cell_type": "code",
   "execution_count": null,
   "id": "d2979c7b",
   "metadata": {},
   "outputs": [],
   "source": [
    "required_end_value"
   ]
  },
  {
   "cell_type": "code",
   "execution_count": null,
   "id": "fe4fdc5b",
   "metadata": {},
   "outputs": [],
   "source": [
    "(np.array(results) < required_end_value).mean() # shortfall probabilty after 10 years"
   ]
  },
  {
   "cell_type": "markdown",
   "id": "162e0276",
   "metadata": {},
   "source": [
    "__-> 25% of simple Solution Income!__"
   ]
  },
  {
   "cell_type": "code",
   "execution_count": null,
   "id": "0a654b26",
   "metadata": {},
   "outputs": [],
   "source": []
  },
  {
   "cell_type": "markdown",
   "id": "9e9209c8",
   "metadata": {},
   "source": [
    "## Final Remarks"
   ]
  },
  {
   "cell_type": "markdown",
   "id": "5a93655a",
   "metadata": {},
   "source": [
    "__Final Remarks__"
   ]
  },
  {
   "cell_type": "markdown",
   "id": "9fb8eb1b",
   "metadata": {},
   "source": [
    "- (Trying to) simulate the Future is not an exact science\n",
    "- It is based on various assumptions and uncertainties\n",
    "- there are more complex/accurate models\n",
    "- very effective additional feature: making dynamic (path-dependent) adjustments to income distributions"
   ]
  },
  {
   "cell_type": "markdown",
   "id": "91f0ed8c",
   "metadata": {},
   "source": [
    "Key message: If Income Distributions are too high, Risk of running out of trading capital is high as well.\n",
    "Approx. __20% to 50%__ of simple solution Income!"
   ]
  },
  {
   "cell_type": "code",
   "execution_count": null,
   "id": "46da3e49",
   "metadata": {},
   "outputs": [],
   "source": []
  },
  {
   "cell_type": "markdown",
   "id": "5c58022f",
   "metadata": {},
   "source": [
    "__Excursus: Advanced Performance Attribution__"
   ]
  },
  {
   "cell_type": "markdown",
   "id": "d27c4922",
   "metadata": {},
   "source": [
    "Simple Solution Income: __USD 1136__ <br>\n",
    "Actual (sustainable) Income: __USD 284__"
   ]
  },
  {
   "cell_type": "markdown",
   "id": "afe9efdf",
   "metadata": {},
   "source": [
    "-> The Difference is attributable to __Timing__ and __Risk__. What´s the sustainable Income if we assume __zero Risk__?"
   ]
  },
  {
   "cell_type": "code",
   "execution_count": null,
   "id": "6ac1cdb3",
   "metadata": {},
   "outputs": [],
   "source": [
    "start = \"2020-01-01\"\n",
    "end = \"2029-12-31\"\n",
    "I0 = 10000\n",
    "distr = 739.08 # sustainable monthly income assuming zero risk\n",
    "infl = 0.03\n",
    "tax = 0.25"
   ]
  },
  {
   "cell_type": "code",
   "execution_count": null,
   "id": "3dcf0b83",
   "metadata": {},
   "outputs": [],
   "source": [
    "ann_mean = 1.05\n",
    "ann_std = 0 # zero risk"
   ]
  },
  {
   "cell_type": "code",
   "execution_count": null,
   "id": "0067cb95",
   "metadata": {},
   "outputs": [],
   "source": [
    "TI = Trade_Income(start, end, I0, distr, infl, tax)\n",
    "TI"
   ]
  },
  {
   "cell_type": "code",
   "execution_count": null,
   "id": "5f8ecd19",
   "metadata": {},
   "outputs": [],
   "source": [
    "TI.simulate_one(ann_mean, ann_std, seed = 123)"
   ]
  },
  {
   "cell_type": "code",
   "execution_count": null,
   "id": "65ab5904",
   "metadata": {},
   "outputs": [],
   "source": [
    "TI.data"
   ]
  },
  {
   "cell_type": "code",
   "execution_count": null,
   "id": "c5bc238e",
   "metadata": {},
   "outputs": [],
   "source": [
    "TI.data.Dist.plot(figsize = (12, 8))\n",
    "plt.show()"
   ]
  },
  {
   "cell_type": "code",
   "execution_count": null,
   "id": "5d2e6074",
   "metadata": {},
   "outputs": [],
   "source": [
    "TI.data.Tax.plot(figsize = (12, 8))\n",
    "plt.show()"
   ]
  },
  {
   "cell_type": "code",
   "execution_count": null,
   "id": "7acc7575",
   "metadata": {},
   "outputs": [],
   "source": [
    "TI.data.Equity.plot(figsize = (12, 8))\n",
    "plt.show()"
   ]
  },
  {
   "cell_type": "markdown",
   "id": "9358410e",
   "metadata": {},
   "source": [
    "- 284 -> 739 attributable to Risk\n",
    "- 739 -> 1136 attributable to Timing"
   ]
  },
  {
   "cell_type": "code",
   "execution_count": null,
   "id": "1525a9d1",
   "metadata": {},
   "outputs": [],
   "source": []
  }
 ],
 "metadata": {
  "kernelspec": {
   "display_name": "Python 3 (ipykernel)",
   "language": "python",
   "name": "python3"
  },
  "language_info": {
   "codemirror_mode": {
    "name": "ipython",
    "version": 3
   },
   "file_extension": ".py",
   "mimetype": "text/x-python",
   "name": "python",
   "nbconvert_exporter": "python",
   "pygments_lexer": "ipython3",
   "version": "3.9.16"
  }
 },
 "nbformat": 4,
 "nbformat_minor": 5
}
