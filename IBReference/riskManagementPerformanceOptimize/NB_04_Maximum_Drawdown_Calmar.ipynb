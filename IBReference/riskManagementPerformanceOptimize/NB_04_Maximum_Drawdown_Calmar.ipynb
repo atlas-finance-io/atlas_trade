{
 "cells": [
  {
   "cell_type": "markdown",
   "id": "pregnant-transcript",
   "metadata": {},
   "source": [
    "# Maximum Drawdown and Calmar Ratio"
   ]
  },
  {
   "cell_type": "markdown",
   "id": "statutory-journey",
   "metadata": {},
   "source": [
    "## Getting ready"
   ]
  },
  {
   "cell_type": "code",
   "execution_count": null,
   "id": "loving-harvey",
   "metadata": {},
   "outputs": [],
   "source": [
    "import pandas as pd\n",
    "import numpy as np\n",
    "import matplotlib.pyplot as plt\n",
    "plt.style.use(\"seaborn-v0_8\")"
   ]
  },
  {
   "cell_type": "code",
   "execution_count": null,
   "id": "psychological-weekend",
   "metadata": {},
   "outputs": [],
   "source": [
    "returns = pd.read_csv(\"returns.csv\", index_col = \"Date\", parse_dates = [\"Date\"])\n",
    "returns"
   ]
  },
  {
   "cell_type": "code",
   "execution_count": null,
   "id": "actual-transmission",
   "metadata": {},
   "outputs": [],
   "source": [
    "returns.info()"
   ]
  },
  {
   "cell_type": "code",
   "execution_count": null,
   "id": "spanish-flush",
   "metadata": {
    "scrolled": false
   },
   "outputs": [],
   "source": [
    "returns.cumsum().apply(np.exp).plot(figsize = (12, 8))\n",
    "plt.show()"
   ]
  },
  {
   "cell_type": "code",
   "execution_count": null,
   "id": "33f13550",
   "metadata": {},
   "outputs": [],
   "source": []
  },
  {
   "cell_type": "markdown",
   "id": "faced-fighter",
   "metadata": {},
   "source": [
    "## Maximum Drawdown"
   ]
  },
  {
   "cell_type": "code",
   "execution_count": null,
   "id": "environmental-region",
   "metadata": {},
   "outputs": [],
   "source": [
    "symbol = \"USD_GBP\""
   ]
  },
  {
   "cell_type": "code",
   "execution_count": null,
   "id": "gross-defendant",
   "metadata": {},
   "outputs": [],
   "source": [
    "returns[symbol].cumsum().apply(np.exp).plot(figsize = (12, 8))\n",
    "plt.show()"
   ]
  },
  {
   "cell_type": "code",
   "execution_count": null,
   "id": "endangered-seafood",
   "metadata": {},
   "outputs": [],
   "source": [
    "instr = returns[symbol].to_frame().copy()\n",
    "instr"
   ]
  },
  {
   "cell_type": "code",
   "execution_count": null,
   "id": "spiritual-preservation",
   "metadata": {},
   "outputs": [],
   "source": [
    "instr[\"creturns\"] = instr.cumsum().apply(np.exp) # cumulative returns (normalized prices with Base == 1)"
   ]
  },
  {
   "cell_type": "code",
   "execution_count": null,
   "id": "european-alias",
   "metadata": {},
   "outputs": [],
   "source": [
    "instr[\"cummax\"] = instr.creturns.cummax() # cumulative maximum of creturns"
   ]
  },
  {
   "cell_type": "code",
   "execution_count": null,
   "id": "white-buyer",
   "metadata": {},
   "outputs": [],
   "source": [
    "instr"
   ]
  },
  {
   "cell_type": "code",
   "execution_count": null,
   "id": "active-barrel",
   "metadata": {},
   "outputs": [],
   "source": [
    "instr[[\"creturns\", \"cummax\"]].plot(figsize = (15, 8), fontsize = 13)\n",
    "plt.legend(fontsize = 13)\n",
    "plt.show()"
   ]
  },
  {
   "cell_type": "code",
   "execution_count": null,
   "id": "suitable-oxygen",
   "metadata": {},
   "outputs": [],
   "source": [
    "instr[\"drawdown\"] = -(instr[\"creturns\"] - instr[\"cummax\"]) / instr[\"cummax\"] # (pos.) drawdown (in %)\n",
    "instr"
   ]
  },
  {
   "cell_type": "code",
   "execution_count": null,
   "id": "4ad925f9",
   "metadata": {},
   "outputs": [],
   "source": [
    "instr[[\"creturns\", \"cummax\", \"drawdown\"]].plot(figsize = (15, 8), fontsize = 13, secondary_y = \"drawdown\")\n",
    "plt.legend(fontsize = 13)\n",
    "plt.show()"
   ]
  },
  {
   "cell_type": "code",
   "execution_count": null,
   "id": "faced-claim",
   "metadata": {},
   "outputs": [],
   "source": [
    "max_drawdown = instr.drawdown.max() # maximum drawdown\n",
    "max_drawdown"
   ]
  },
  {
   "cell_type": "code",
   "execution_count": null,
   "id": "solved-nothing",
   "metadata": {},
   "outputs": [],
   "source": [
    "instr.drawdown.idxmax() # maximum drawdown date "
   ]
  },
  {
   "cell_type": "code",
   "execution_count": null,
   "id": "ab2c0eca",
   "metadata": {},
   "outputs": [],
   "source": [
    "instr.loc[instr.drawdown.idxmax()]"
   ]
  },
  {
   "cell_type": "code",
   "execution_count": null,
   "id": "df1c6a24",
   "metadata": {},
   "outputs": [],
   "source": [
    "(0.941169 - 1.127116) / 1.127116"
   ]
  },
  {
   "cell_type": "code",
   "execution_count": null,
   "id": "c3b4a29f",
   "metadata": {},
   "outputs": [],
   "source": []
  },
  {
   "cell_type": "markdown",
   "id": "governmental-mentor",
   "metadata": {},
   "source": [
    "## Calmar Ratio"
   ]
  },
  {
   "cell_type": "code",
   "execution_count": null,
   "id": "first-stewart",
   "metadata": {},
   "outputs": [],
   "source": [
    "max_drawdown"
   ]
  },
  {
   "cell_type": "code",
   "execution_count": null,
   "id": "stylish-conservation",
   "metadata": {},
   "outputs": [],
   "source": [
    "cagr = np.exp(instr[symbol].sum())**(1/((instr.index[-1] - instr.index[0]).days / 365.25)) - 1 \n",
    "cagr"
   ]
  },
  {
   "cell_type": "code",
   "execution_count": null,
   "id": "complete-financing",
   "metadata": {},
   "outputs": [],
   "source": [
    "calmar = cagr / max_drawdown\n",
    "calmar"
   ]
  },
  {
   "cell_type": "code",
   "execution_count": null,
   "id": "f92fa23d",
   "metadata": {},
   "outputs": [],
   "source": []
  },
  {
   "cell_type": "markdown",
   "id": "543cc21e",
   "metadata": {},
   "source": [
    "## Max Drawdown Duration"
   ]
  },
  {
   "cell_type": "code",
   "execution_count": null,
   "id": "bbe3d98d",
   "metadata": {},
   "outputs": [],
   "source": [
    "instr"
   ]
  },
  {
   "cell_type": "code",
   "execution_count": null,
   "id": "c120546b",
   "metadata": {},
   "outputs": [],
   "source": [
    "instr[[\"creturns\", \"cummax\", \"drawdown\"]].plot(figsize = (15, 8), fontsize = 13, secondary_y = \"drawdown\")\n",
    "plt.legend(fontsize = 13)\n",
    "plt.show()"
   ]
  },
  {
   "cell_type": "code",
   "execution_count": null,
   "id": "98fdaaf3",
   "metadata": {},
   "outputs": [],
   "source": [
    "drawdown = instr.drawdown.copy()\n",
    "drawdown"
   ]
  },
  {
   "cell_type": "markdown",
   "id": "ada91a21",
   "metadata": {},
   "source": [
    "- Drawdown Period: Time Period between peaks \n",
    "- recall: whenever drawdown == 0, a new peak has been reached"
   ]
  },
  {
   "cell_type": "code",
   "execution_count": null,
   "id": "f684444c",
   "metadata": {},
   "outputs": [],
   "source": [
    "begin = drawdown[drawdown == 0].index # get all peak dates (beginning of Drawdown periods)\n",
    "begin"
   ]
  },
  {
   "cell_type": "code",
   "execution_count": null,
   "id": "557b1454",
   "metadata": {},
   "outputs": [],
   "source": [
    "end = begin[1:] # get the corresponding end dates for all Drawdown periods\n",
    "end = end.append(pd.DatetimeIndex([drawdown.index[-1]])) # add last available date\n",
    "end"
   ]
  },
  {
   "cell_type": "code",
   "execution_count": null,
   "id": "4d074a59",
   "metadata": {},
   "outputs": [],
   "source": [
    "periods = end - begin # time difference between peaks\n",
    "periods"
   ]
  },
  {
   "cell_type": "code",
   "execution_count": null,
   "id": "ffdc0f2c",
   "metadata": {},
   "outputs": [],
   "source": [
    "max_ddd = periods.max() # max drawdown duration\n",
    "max_ddd"
   ]
  },
  {
   "cell_type": "code",
   "execution_count": null,
   "id": "fb75220e",
   "metadata": {},
   "outputs": [],
   "source": [
    "max_ddd.days"
   ]
  },
  {
   "cell_type": "code",
   "execution_count": null,
   "id": "c39373e3",
   "metadata": {},
   "outputs": [],
   "source": []
  },
  {
   "cell_type": "markdown",
   "id": "organizational-indie",
   "metadata": {},
   "source": [
    "## Putting everything together"
   ]
  },
  {
   "cell_type": "code",
   "execution_count": null,
   "id": "4f93e30e",
   "metadata": {},
   "outputs": [],
   "source": [
    "import pandas as pd\n",
    "import numpy as np"
   ]
  },
  {
   "cell_type": "code",
   "execution_count": null,
   "id": "d3fe9835",
   "metadata": {},
   "outputs": [],
   "source": [
    "returns = pd.read_csv(\"returns.csv\", index_col = \"Date\", parse_dates = [\"Date\"])\n",
    "returns"
   ]
  },
  {
   "cell_type": "code",
   "execution_count": null,
   "id": "5272e192",
   "metadata": {},
   "outputs": [],
   "source": [
    "def max_drawdown(series):\n",
    "    creturns = series.cumsum().apply(np.exp)\n",
    "    cummax = creturns.cummax()\n",
    "    drawdown = (cummax - creturns)/cummax\n",
    "    max_dd = drawdown.max()\n",
    "    return max_dd"
   ]
  },
  {
   "cell_type": "code",
   "execution_count": null,
   "id": "71626768",
   "metadata": {},
   "outputs": [],
   "source": [
    "returns.apply(max_drawdown).sort_values()"
   ]
  },
  {
   "cell_type": "code",
   "execution_count": null,
   "id": "4b8443b1",
   "metadata": {},
   "outputs": [],
   "source": [
    "def calculate_cagr(series):\n",
    "    return np.exp(series.sum())**(1/((series.index[-1] - series.index[0]).days / 365.25)) - 1"
   ]
  },
  {
   "cell_type": "code",
   "execution_count": null,
   "id": "looking-festival",
   "metadata": {},
   "outputs": [],
   "source": [
    "def calmar(series):\n",
    "    \n",
    "    max_dd = max_drawdown(series)\n",
    "    if max_dd == 0:\n",
    "        return np.nan\n",
    "    else:\n",
    "        cagr = calculate_cagr(series)\n",
    "        calmar = cagr / max_dd\n",
    "        return calmar"
   ]
  },
  {
   "cell_type": "code",
   "execution_count": null,
   "id": "increasing-packaging",
   "metadata": {},
   "outputs": [],
   "source": [
    "returns.apply(calmar).sort_values(ascending = False)"
   ]
  },
  {
   "cell_type": "code",
   "execution_count": null,
   "id": "joint-treasury",
   "metadata": {},
   "outputs": [],
   "source": [
    "def max_dd_duration(series):\n",
    "    creturns = series.cumsum().apply(np.exp)\n",
    "    cummax = creturns.cummax()\n",
    "    drawdown = (cummax - creturns)/cummax\n",
    "    \n",
    "    begin = drawdown[drawdown == 0].index\n",
    "    end = begin[1:]\n",
    "    end = end.append(pd.DatetimeIndex([drawdown.index[-1]]))\n",
    "    periods = end - begin\n",
    "    max_ddd = periods.max()\n",
    "    return max_ddd.days   "
   ]
  },
  {
   "cell_type": "code",
   "execution_count": null,
   "id": "0c688704",
   "metadata": {},
   "outputs": [],
   "source": [
    "returns.apply(max_dd_duration).sort_values()"
   ]
  },
  {
   "cell_type": "code",
   "execution_count": null,
   "id": "fd0f9720",
   "metadata": {},
   "outputs": [],
   "source": []
  },
  {
   "cell_type": "markdown",
   "id": "d4321050",
   "metadata": {},
   "source": [
    "-----------------------"
   ]
  },
  {
   "cell_type": "markdown",
   "id": "c290fb1b",
   "metadata": {},
   "source": [
    "## Coding Challenge"
   ]
  },
  {
   "cell_type": "markdown",
   "id": "24c8661b",
   "metadata": {},
   "source": [
    "__Calculate and compare__ <br>\n",
    "- __Maximum Drawdown__\n",
    "- __Calmar Ratio__\n",
    "- __Maximum Drawdown Duration__ <br>"
   ]
  },
  {
   "cell_type": "markdown",
   "id": "eb593057",
   "metadata": {},
   "source": [
    "for __30 large US stocks__ that currently form the Dow Jones Industrial Average Index (\"Dow Jones\") for the time period between April 2019 and June 2021."
   ]
  },
  {
   "cell_type": "markdown",
   "id": "4d6ecb59",
   "metadata": {},
   "source": [
    "__Hint:__ You can __import__ the price data from __\"Dow_Jones.csv\"__.\n",
    " "
   ]
  },
  {
   "cell_type": "markdown",
   "id": "3f6b34ed",
   "metadata": {},
   "source": [
    "Determine the __best performing stock__ and the __worst performing stock__ according to the Calmar Ratio."
   ]
  },
  {
   "cell_type": "markdown",
   "id": "e24e318b",
   "metadata": {},
   "source": [
    "__Compare__ Calmar Ratio and Sharpe Ratio. Does the __ranking change__?"
   ]
  },
  {
   "cell_type": "markdown",
   "id": "d9e7df09",
   "metadata": {},
   "source": [
    "(Remark: Dividends are ignored here. Hence, for simplicity reasons, the Calmar Ratio is based on Price Returns only. As a consequence, dividend-paying stocks are getting penalized.) "
   ]
  },
  {
   "cell_type": "markdown",
   "id": "43e955ac",
   "metadata": {},
   "source": [
    "## +++ Please stop here in case you don´t want to see the solution!!! +++++"
   ]
  },
  {
   "cell_type": "code",
   "execution_count": null,
   "id": "08954dec",
   "metadata": {},
   "outputs": [],
   "source": []
  },
  {
   "cell_type": "code",
   "execution_count": null,
   "id": "c9b57f2d",
   "metadata": {},
   "outputs": [],
   "source": []
  },
  {
   "cell_type": "code",
   "execution_count": null,
   "id": "4ccb5e0c",
   "metadata": {},
   "outputs": [],
   "source": []
  },
  {
   "cell_type": "markdown",
   "id": "51570df1",
   "metadata": {},
   "source": [
    "## Coding Challenge Solution"
   ]
  },
  {
   "cell_type": "code",
   "execution_count": null,
   "id": "e1de0a1b",
   "metadata": {},
   "outputs": [],
   "source": [
    "import pandas as pd\n",
    "import numpy as np"
   ]
  },
  {
   "cell_type": "code",
   "execution_count": null,
   "id": "ee23bc34",
   "metadata": {},
   "outputs": [],
   "source": [
    "df = pd.read_csv(\"Dow_Jones.csv\", index_col = \"Date\", parse_dates = [\"Date\"])\n",
    "df"
   ]
  },
  {
   "cell_type": "code",
   "execution_count": null,
   "id": "a956f8dc",
   "metadata": {},
   "outputs": [],
   "source": [
    "returns = np.log(df / df.shift()) # log returns\n",
    "returns"
   ]
  },
  {
   "cell_type": "markdown",
   "id": "ba3dbcd9",
   "metadata": {},
   "source": [
    "__Maximum Drawdown__"
   ]
  },
  {
   "cell_type": "code",
   "execution_count": null,
   "id": "40c82747",
   "metadata": {},
   "outputs": [],
   "source": [
    "def max_drawdown(series):\n",
    "    creturns = series.cumsum().apply(np.exp)\n",
    "    cummax = creturns.cummax()\n",
    "    drawdown = (cummax - creturns)/cummax\n",
    "    max_dd = drawdown.max()\n",
    "    return max_dd"
   ]
  },
  {
   "cell_type": "code",
   "execution_count": null,
   "id": "eca78e80",
   "metadata": {
    "scrolled": false
   },
   "outputs": [],
   "source": [
    "returns.apply(max_drawdown).sort_values()"
   ]
  },
  {
   "cell_type": "markdown",
   "id": "0b25ab68",
   "metadata": {},
   "source": [
    "__Calmar Ratio__"
   ]
  },
  {
   "cell_type": "code",
   "execution_count": null,
   "id": "cee5d9c6",
   "metadata": {},
   "outputs": [],
   "source": [
    "def calculate_cagr(series):\n",
    "    return np.exp(series.sum())**(1/((series.index[-1] - series.index[0]).days / 365.25)) - 1"
   ]
  },
  {
   "cell_type": "code",
   "execution_count": null,
   "id": "0610498e",
   "metadata": {},
   "outputs": [],
   "source": [
    "def calmar(series):\n",
    "    \n",
    "    max_dd = max_drawdown(series)\n",
    "    if max_dd == 0:\n",
    "        return np.nan\n",
    "    else:\n",
    "        cagr = calculate_cagr(series)\n",
    "        calmar = cagr / max_dd\n",
    "        return calmar"
   ]
  },
  {
   "cell_type": "code",
   "execution_count": null,
   "id": "649e0aea",
   "metadata": {},
   "outputs": [],
   "source": [
    "calm = returns.apply(calmar).sort_values(ascending = False)\n",
    "calm"
   ]
  },
  {
   "cell_type": "markdown",
   "id": "8c14f6f1",
   "metadata": {},
   "source": [
    "Best Performing Stock: __Apple__ (AAPL) <br>\n",
    "Worst Performing Stock: __Non-determinable__ (note: you can´t compare negative Calmar Ratios)"
   ]
  },
  {
   "cell_type": "markdown",
   "id": "fbac89d7",
   "metadata": {},
   "source": [
    "__Maximum Drawdown Duration__"
   ]
  },
  {
   "cell_type": "code",
   "execution_count": null,
   "id": "80bb37ba",
   "metadata": {},
   "outputs": [],
   "source": [
    "def max_dd_duration(series):\n",
    "    creturns = series.cumsum().apply(np.exp)\n",
    "    cummax = creturns.cummax()\n",
    "    drawdown = (cummax - creturns)/cummax\n",
    "    \n",
    "    begin = drawdown[drawdown == 0].index\n",
    "    end = begin[1:]\n",
    "    end = end.append(pd.DatetimeIndex([drawdown.index[-1]]))\n",
    "    periods = end - begin\n",
    "    max_ddd = periods.max()\n",
    "    return max_ddd.days "
   ]
  },
  {
   "cell_type": "code",
   "execution_count": null,
   "id": "38c9e857",
   "metadata": {},
   "outputs": [],
   "source": [
    "returns.apply(max_dd_duration).sort_values()"
   ]
  },
  {
   "cell_type": "code",
   "execution_count": null,
   "id": "b7174a25",
   "metadata": {},
   "outputs": [],
   "source": [
    "def sharpe(series, rf = 0):\n",
    "    \n",
    "    if series.std() == 0:\n",
    "        return np.nan\n",
    "    else:\n",
    "        return (series.mean() - rf) / series.std() * np.sqrt(series.count() / ((series.index[-1] - series.index[0]).days / 365.25))"
   ]
  },
  {
   "cell_type": "code",
   "execution_count": null,
   "id": "7532a637",
   "metadata": {},
   "outputs": [],
   "source": [
    "sha = returns.apply(sharpe).sort_values(ascending = False)\n",
    "sha"
   ]
  },
  {
   "cell_type": "code",
   "execution_count": null,
   "id": "06ba5545",
   "metadata": {},
   "outputs": [],
   "source": [
    "merged = pd.concat([calm, sha], axis = 1)\n",
    "merged"
   ]
  },
  {
   "cell_type": "code",
   "execution_count": null,
   "id": "860e88ab",
   "metadata": {},
   "outputs": [],
   "source": [
    "merged.columns = [\"Calmar\", \"Sharpe\"]"
   ]
  },
  {
   "cell_type": "code",
   "execution_count": null,
   "id": "307ddf05",
   "metadata": {},
   "outputs": [],
   "source": [
    "merged.rank(ascending = False)"
   ]
  },
  {
   "cell_type": "markdown",
   "id": "77705f2c",
   "metadata": {},
   "source": [
    "-> Some Differences. __Salesforce (CRM) gets better ranked__ with Calmar (-4) while __The Nike gets penalized__ by Calmar (+5)."
   ]
  },
  {
   "cell_type": "code",
   "execution_count": null,
   "id": "fbc00ad5",
   "metadata": {},
   "outputs": [],
   "source": []
  }
 ],
 "metadata": {
  "kernelspec": {
   "display_name": "Python 3 (ipykernel)",
   "language": "python",
   "name": "python3"
  },
  "language_info": {
   "codemirror_mode": {
    "name": "ipython",
    "version": 3
   },
   "file_extension": ".py",
   "mimetype": "text/x-python",
   "name": "python",
   "nbconvert_exporter": "python",
   "pygments_lexer": "ipython3",
   "version": "3.9.13"
  }
 },
 "nbformat": 4,
 "nbformat_minor": 5
}
