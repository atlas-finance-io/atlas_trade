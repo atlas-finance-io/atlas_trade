{
 "cells": [
  {
   "cell_type": "markdown",
   "id": "pregnant-transcript",
   "metadata": {},
   "source": [
    "# Downside Risk and Sortino Ratio"
   ]
  },
  {
   "cell_type": "markdown",
   "id": "statutory-journey",
   "metadata": {},
   "source": [
    "## Getting Ready"
   ]
  },
  {
   "cell_type": "code",
   "execution_count": null,
   "id": "loving-harvey",
   "metadata": {},
   "outputs": [],
   "source": [
    "import pandas as pd\n",
    "import numpy as np\n",
    "import matplotlib.pyplot as plt\n",
    "plt.style.use(\"seaborn-v0_8\")"
   ]
  },
  {
   "cell_type": "code",
   "execution_count": null,
   "id": "psychological-weekend",
   "metadata": {},
   "outputs": [],
   "source": [
    "returns = pd.read_csv(\"returns.csv\", index_col = \"Date\", parse_dates = [\"Date\"])\n",
    "returns.head(50)"
   ]
  },
  {
   "cell_type": "code",
   "execution_count": null,
   "id": "spanish-flush",
   "metadata": {
    "scrolled": false
   },
   "outputs": [],
   "source": [
    "returns.cumsum().apply(np.exp).plot(figsize = (12, 8))\n",
    "plt.show()"
   ]
  },
  {
   "cell_type": "code",
   "execution_count": null,
   "id": "regulated-newton",
   "metadata": {
    "scrolled": true
   },
   "outputs": [],
   "source": [
    "td_year = (returns.count() / ((returns.index[-1] - returns.index[0]).days / 365.25)).iloc[0]\n",
    "td_year"
   ]
  },
  {
   "cell_type": "code",
   "execution_count": null,
   "id": "b49d49d2",
   "metadata": {},
   "outputs": [],
   "source": []
  },
  {
   "cell_type": "markdown",
   "id": "faced-fighter",
   "metadata": {},
   "source": [
    "## Downside Deviation (Semi-Deviation)"
   ]
  },
  {
   "cell_type": "code",
   "execution_count": null,
   "id": "18b6e5e6",
   "metadata": {},
   "outputs": [],
   "source": [
    "returns"
   ]
  },
  {
   "cell_type": "code",
   "execution_count": null,
   "id": "3226b532",
   "metadata": {},
   "outputs": [],
   "source": [
    "symbol = \"USD_GBP\""
   ]
  },
  {
   "cell_type": "code",
   "execution_count": null,
   "id": "stunning-flashing",
   "metadata": {},
   "outputs": [],
   "source": [
    "TMR = 0 # target minimum return"
   ]
  },
  {
   "cell_type": "code",
   "execution_count": null,
   "id": "altered-booth",
   "metadata": {},
   "outputs": [],
   "source": [
    "excess_returns = returns[symbol] - TMR # excess returns over TMR\n",
    "excess_returns"
   ]
  },
  {
   "cell_type": "code",
   "execution_count": null,
   "id": "07d82da4",
   "metadata": {},
   "outputs": [],
   "source": [
    "excess_returns = np.where(excess_returns < 0, excess_returns, 0) # setting postive excess returns to zero. \n",
    "excess_returns"
   ]
  },
  {
   "cell_type": "code",
   "execution_count": null,
   "id": "sonic-screw",
   "metadata": {},
   "outputs": [],
   "source": [
    "downside_deviation = np.sqrt(np.mean(excess_returns**2)) \n",
    "downside_deviation"
   ]
  },
  {
   "cell_type": "code",
   "execution_count": null,
   "id": "7b9819a2",
   "metadata": {},
   "outputs": [],
   "source": []
  },
  {
   "cell_type": "markdown",
   "id": "ahead-premiere",
   "metadata": {},
   "source": [
    "## Sortino Ratio"
   ]
  },
  {
   "cell_type": "code",
   "execution_count": null,
   "id": "6bf49bf2",
   "metadata": {},
   "outputs": [],
   "source": [
    "downside_deviation"
   ]
  },
  {
   "cell_type": "code",
   "execution_count": null,
   "id": "labeled-terry",
   "metadata": {},
   "outputs": [],
   "source": [
    "mean = returns[symbol].mean() \n",
    "mean"
   ]
  },
  {
   "cell_type": "code",
   "execution_count": null,
   "id": "familiar-recommendation",
   "metadata": {},
   "outputs": [],
   "source": [
    "sortino = (mean - TMR) / downside_deviation * np.sqrt(td_year)\n",
    "sortino"
   ]
  },
  {
   "cell_type": "code",
   "execution_count": null,
   "id": "03b16918",
   "metadata": {},
   "outputs": [],
   "source": []
  },
  {
   "cell_type": "markdown",
   "id": "organizational-indie",
   "metadata": {},
   "source": [
    "## Putting everything toghether"
   ]
  },
  {
   "cell_type": "code",
   "execution_count": null,
   "id": "6fae042d",
   "metadata": {},
   "outputs": [],
   "source": [
    "import pandas as pd\n",
    "import numpy as np"
   ]
  },
  {
   "cell_type": "code",
   "execution_count": null,
   "id": "c8de91ac",
   "metadata": {},
   "outputs": [],
   "source": [
    "returns = pd.read_csv(\"returns.csv\", index_col = \"Date\", parse_dates = [\"Date\"])\n",
    "returns"
   ]
  },
  {
   "cell_type": "code",
   "execution_count": null,
   "id": "looking-festival",
   "metadata": {},
   "outputs": [],
   "source": [
    "def sortino(series, TMR = 0):\n",
    "    excess_returns = (series - TMR)\n",
    "    downside_deviation = np.sqrt(np.mean(np.where(excess_returns < 0, excess_returns, 0)**2))\n",
    "    if downside_deviation == 0:\n",
    "        return np.nan\n",
    "    else:\n",
    "        sortino = (series.mean() - TMR) / downside_deviation * np.sqrt(series.count() / ((series.index[-1] - series.index[0]).days / 365.25))\n",
    "        return sortino"
   ]
  },
  {
   "cell_type": "code",
   "execution_count": null,
   "id": "increasing-packaging",
   "metadata": {},
   "outputs": [],
   "source": [
    "returns.apply(sortino).sort_values(ascending = False)"
   ]
  },
  {
   "cell_type": "code",
   "execution_count": null,
   "id": "b4af5259",
   "metadata": {},
   "outputs": [],
   "source": [
    "sortino(series = returns.USD_GBP, TMR = 0)"
   ]
  },
  {
   "cell_type": "code",
   "execution_count": null,
   "id": "82e43295",
   "metadata": {},
   "outputs": [],
   "source": []
  },
  {
   "cell_type": "markdown",
   "id": "0bd0c776",
   "metadata": {},
   "source": [
    "-------------------------------------"
   ]
  },
  {
   "cell_type": "markdown",
   "id": "c290fb1b",
   "metadata": {},
   "source": [
    "## Coding Challenge"
   ]
  },
  {
   "cell_type": "markdown",
   "id": "3746827c",
   "metadata": {},
   "source": [
    "__Calculate and compare__ the __Sortino Ratio__ (assumption: TMR == 0) for __30 large US stocks__ that currently form the Dow Jones Industrial Average Index (\"Dow Jones\") for the time period between April 2019 and June 2021. "
   ]
  },
  {
   "cell_type": "markdown",
   "id": "941f8441",
   "metadata": {},
   "source": [
    "__Hint:__ You can __import__ the price data from __\"Dow_Jones.csv\"__.\n",
    " "
   ]
  },
  {
   "cell_type": "markdown",
   "id": "f012bb3d",
   "metadata": {},
   "source": [
    "Determine the __best performing stock__ and the __worst performing stock__ according to the Sortino Ratio."
   ]
  },
  {
   "cell_type": "markdown",
   "id": "9fc2a8c5",
   "metadata": {},
   "source": [
    "__Compare__ Sortino Ratio and Sharpe Ratio. Does the __ranking change__?"
   ]
  },
  {
   "cell_type": "markdown",
   "id": "21540e2a",
   "metadata": {},
   "source": [
    "(Remark: Dividends are ignored here. Hence, for simplicity reasons, the Sortino Ratio is based on Price Returns only. As a consequence, dividend-paying stocks are getting penalized.) "
   ]
  },
  {
   "cell_type": "markdown",
   "id": "cfcfd2ab",
   "metadata": {},
   "source": [
    "## +++ Please stop here in case you don´t want to see the solution!!! +++++"
   ]
  },
  {
   "cell_type": "code",
   "execution_count": null,
   "id": "58f086a9",
   "metadata": {},
   "outputs": [],
   "source": []
  },
  {
   "cell_type": "code",
   "execution_count": null,
   "id": "5418ee2a",
   "metadata": {},
   "outputs": [],
   "source": []
  },
  {
   "cell_type": "code",
   "execution_count": null,
   "id": "ad37abd3",
   "metadata": {},
   "outputs": [],
   "source": []
  },
  {
   "cell_type": "code",
   "execution_count": null,
   "id": "a267fefc",
   "metadata": {},
   "outputs": [],
   "source": []
  },
  {
   "cell_type": "markdown",
   "id": "2e66e268",
   "metadata": {},
   "source": [
    "## Coding Challenge Solution"
   ]
  },
  {
   "cell_type": "code",
   "execution_count": null,
   "id": "b9ffa54d",
   "metadata": {},
   "outputs": [],
   "source": [
    "import pandas as pd\n",
    "import numpy as np"
   ]
  },
  {
   "cell_type": "code",
   "execution_count": null,
   "id": "1f8391b9",
   "metadata": {},
   "outputs": [],
   "source": [
    "df = pd.read_csv(\"Dow_Jones.csv\", index_col = \"Date\", parse_dates = [\"Date\"])\n",
    "df"
   ]
  },
  {
   "cell_type": "code",
   "execution_count": null,
   "id": "b12741d1",
   "metadata": {},
   "outputs": [],
   "source": [
    "returns = np.log(df / df.shift()) # daily log returns\n",
    "returns"
   ]
  },
  {
   "cell_type": "code",
   "execution_count": null,
   "id": "ac752b18",
   "metadata": {},
   "outputs": [],
   "source": [
    "def sortino(series, TMR = 0):\n",
    "    excess_returns = (series - TMR)\n",
    "    downside_deviation = np.sqrt(np.mean(np.where(excess_returns < 0, excess_returns, 0)**2))\n",
    "    if downside_deviation == 0:\n",
    "        return np.nan\n",
    "    else:\n",
    "        sortino = (series.mean() - TMR) / downside_deviation * np.sqrt(series.count() / ((series.index[-1] - series.index[0]).days / 365.25))\n",
    "        return sortino"
   ]
  },
  {
   "cell_type": "code",
   "execution_count": null,
   "id": "9db8d47a",
   "metadata": {
    "scrolled": true
   },
   "outputs": [],
   "source": [
    "sort = returns.apply(sortino).sort_values(ascending = False)\n",
    "sort"
   ]
  },
  {
   "cell_type": "markdown",
   "id": "697a3fe6",
   "metadata": {},
   "source": [
    "Best Performing Stock: __Apple__ (AAPL) <br>\n",
    "Worst Performing Stock: __Non-determinable__ (note: you can´t compare negative Sortino Ratios)"
   ]
  },
  {
   "cell_type": "code",
   "execution_count": null,
   "id": "3aca1e50",
   "metadata": {},
   "outputs": [],
   "source": [
    "def sharpe(series, rf = 0):\n",
    "    \n",
    "    if series.std() == 0:\n",
    "        return np.nan\n",
    "    else:\n",
    "        return (series.mean() - rf) / series.std() * np.sqrt(series.count() / ((series.index[-1] - series.index[0]).days / 365.25))"
   ]
  },
  {
   "cell_type": "code",
   "execution_count": null,
   "id": "c710be98",
   "metadata": {},
   "outputs": [],
   "source": [
    "sha = returns.apply(sharpe).sort_values(ascending = False)\n",
    "sha"
   ]
  },
  {
   "cell_type": "code",
   "execution_count": null,
   "id": "5a622030",
   "metadata": {},
   "outputs": [],
   "source": [
    "merged = pd.concat([sort, sha], axis = 1)\n",
    "merged"
   ]
  },
  {
   "cell_type": "code",
   "execution_count": null,
   "id": "c5530b6e",
   "metadata": {},
   "outputs": [],
   "source": [
    "merged.columns = [\"Sortino\", \"Sharpe\"]"
   ]
  },
  {
   "cell_type": "code",
   "execution_count": null,
   "id": "1eabe2e5",
   "metadata": {},
   "outputs": [],
   "source": [
    "merged.rank(ascending = False)"
   ]
  },
  {
   "cell_type": "markdown",
   "id": "66befb82",
   "metadata": {},
   "source": [
    "-> Few Differences. __Disney gets better ranked__ with Sortino (-3) while __The Home Depot gets penalized__ by Sortino (+3)."
   ]
  },
  {
   "cell_type": "code",
   "execution_count": null,
   "id": "adf75674",
   "metadata": {},
   "outputs": [],
   "source": []
  }
 ],
 "metadata": {
  "kernelspec": {
   "display_name": "Python 3 (ipykernel)",
   "language": "python",
   "name": "python3"
  },
  "language_info": {
   "codemirror_mode": {
    "name": "ipython",
    "version": 3
   },
   "file_extension": ".py",
   "mimetype": "text/x-python",
   "name": "python",
   "nbconvert_exporter": "python",
   "pygments_lexer": "ipython3",
   "version": "3.9.13"
  }
 },
 "nbformat": 4,
 "nbformat_minor": 5
}
