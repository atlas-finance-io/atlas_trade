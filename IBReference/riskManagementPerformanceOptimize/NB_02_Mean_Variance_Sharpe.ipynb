{
 "cells": [
  {
   "cell_type": "markdown",
   "id": "pregnant-transcript",
   "metadata": {},
   "source": [
    "# Mean-Variance Analysis and the Sharpe Ratio"
   ]
  },
  {
   "cell_type": "markdown",
   "id": "expensive-happiness",
   "metadata": {},
   "source": [
    "## Getting started"
   ]
  },
  {
   "cell_type": "code",
   "execution_count": null,
   "id": "loving-harvey",
   "metadata": {},
   "outputs": [],
   "source": [
    "import pandas as pd\n",
    "import numpy as np\n",
    "import matplotlib.pyplot as plt\n",
    "plt.style.use(\"seaborn-v0_8\")"
   ]
  },
  {
   "cell_type": "code",
   "execution_count": null,
   "id": "psychological-weekend",
   "metadata": {},
   "outputs": [],
   "source": [
    "returns = pd.read_csv(\"returns.csv\", index_col = \"Date\", parse_dates = [\"Date\"])\n",
    "returns"
   ]
  },
  {
   "cell_type": "markdown",
   "id": "5527b7d5",
   "metadata": {},
   "source": [
    "GBP_USD: Long Position in GBP (denominated in USD) <br>\n",
    "USD_GBP: Short Position in GBP (== Long Position in USD; denominated in GBP) <br>\n",
    "Levered: USD_GBP with Leverage (\"Trading USD_GBP on Margin\") <br>\n",
    "Neutral: Neutral Positions only (no Investments / Trades)  <br>\n",
    "Low_Vol: Active Strategy for USD_GBP with Long, Short and Neutral Positions <br>\n",
    "Random: Random \"Strategy\" for USD_GBP with random Long, Short and Neutral Positions"
   ]
  },
  {
   "cell_type": "code",
   "execution_count": null,
   "id": "actual-transmission",
   "metadata": {
    "scrolled": true
   },
   "outputs": [],
   "source": [
    "returns.info()"
   ]
  },
  {
   "cell_type": "code",
   "execution_count": null,
   "id": "spanish-flush",
   "metadata": {},
   "outputs": [],
   "source": [
    "returns.cumsum().apply(np.exp).plot(figsize = (12, 8))\n",
    "plt.show()"
   ]
  },
  {
   "cell_type": "code",
   "execution_count": null,
   "id": "future-delta",
   "metadata": {},
   "outputs": [],
   "source": [
    "returns.Low_Vol.cumsum().apply(np.exp).plot(figsize = (12, 8))\n",
    "plt.show()"
   ]
  },
  {
   "cell_type": "code",
   "execution_count": null,
   "id": "e7260688",
   "metadata": {},
   "outputs": [],
   "source": [
    "returns.Low_Vol.value_counts()"
   ]
  },
  {
   "cell_type": "code",
   "execution_count": null,
   "id": "b5ca5a7b",
   "metadata": {},
   "outputs": [],
   "source": [
    "returns[[\"Low_Vol\", \"Levered\"]].cumsum().apply(np.exp).plot(figsize = (12, 8))\n",
    "plt.show()"
   ]
  },
  {
   "cell_type": "markdown",
   "id": "e436a719",
   "metadata": {},
   "source": [
    "__Which one would you (intuitively) prefer?__"
   ]
  },
  {
   "cell_type": "markdown",
   "id": "f286aae2",
   "metadata": {},
   "source": [
    "__Low_Vol__, right? Let´s create a __risk-adjusted return metric__ that reflects/confirms this intuition!"
   ]
  },
  {
   "cell_type": "code",
   "execution_count": null,
   "id": "c7837ee6",
   "metadata": {},
   "outputs": [],
   "source": []
  },
  {
   "cell_type": "markdown",
   "id": "molecular-decimal",
   "metadata": {},
   "source": [
    "## Mean Return (Reward)"
   ]
  },
  {
   "cell_type": "code",
   "execution_count": null,
   "id": "global-citation",
   "metadata": {},
   "outputs": [],
   "source": [
    "returns"
   ]
  },
  {
   "cell_type": "markdown",
   "id": "promising-romance",
   "metadata": {},
   "source": [
    "__mean return__"
   ]
  },
  {
   "cell_type": "code",
   "execution_count": null,
   "id": "sitting-contributor",
   "metadata": {},
   "outputs": [],
   "source": [
    "returns.mean()"
   ]
  },
  {
   "cell_type": "markdown",
   "id": "dutch-inspection",
   "metadata": {},
   "source": [
    "__annualized mean return__"
   ]
  },
  {
   "cell_type": "code",
   "execution_count": null,
   "id": "4e650a7f",
   "metadata": {},
   "outputs": [],
   "source": [
    "td_year = returns.count() / ((returns.index[-1] - returns.index[0]).days / 365.25)\n",
    "td_year"
   ]
  },
  {
   "cell_type": "code",
   "execution_count": null,
   "id": "minor-dinner",
   "metadata": {},
   "outputs": [],
   "source": [
    "ann_mean = returns.mean() * td_year\n",
    "ann_mean"
   ]
  },
  {
   "cell_type": "code",
   "execution_count": null,
   "id": "800ebb77",
   "metadata": {},
   "outputs": [],
   "source": [
    "np.exp(ann_mean) - 1 # CAGR"
   ]
  },
  {
   "cell_type": "code",
   "execution_count": null,
   "id": "invalid-longitude",
   "metadata": {},
   "outputs": [],
   "source": [
    "summary = pd.DataFrame(data = {\"ann_mean\":ann_mean})\n",
    "summary"
   ]
  },
  {
   "cell_type": "code",
   "execution_count": null,
   "id": "intimate-outside",
   "metadata": {},
   "outputs": [],
   "source": [
    "summary.rank(ascending = False)"
   ]
  },
  {
   "cell_type": "code",
   "execution_count": null,
   "id": "4b62ed46",
   "metadata": {},
   "outputs": [],
   "source": []
  },
  {
   "cell_type": "markdown",
   "id": "anticipated-bracket",
   "metadata": {},
   "source": [
    "## Standard Deviation (Risk)"
   ]
  },
  {
   "cell_type": "code",
   "execution_count": null,
   "id": "blessed-brain",
   "metadata": {},
   "outputs": [],
   "source": [
    "returns"
   ]
  },
  {
   "cell_type": "markdown",
   "id": "transsexual-escape",
   "metadata": {},
   "source": [
    "__Standard Deviation of Returns__"
   ]
  },
  {
   "cell_type": "code",
   "execution_count": null,
   "id": "forward-lodging",
   "metadata": {},
   "outputs": [],
   "source": [
    "returns.std()"
   ]
  },
  {
   "cell_type": "markdown",
   "id": "45cf311a",
   "metadata": {},
   "source": [
    "__Annualized Standard Deviation__"
   ]
  },
  {
   "cell_type": "code",
   "execution_count": null,
   "id": "1e4e915f",
   "metadata": {},
   "outputs": [],
   "source": [
    "td_year"
   ]
  },
  {
   "cell_type": "code",
   "execution_count": null,
   "id": "ea6961e0",
   "metadata": {},
   "outputs": [],
   "source": [
    "ann_std = returns.std() * np.sqrt(td_year)\n",
    "ann_std"
   ]
  },
  {
   "cell_type": "code",
   "execution_count": null,
   "id": "26d449a2",
   "metadata": {},
   "outputs": [],
   "source": [
    "summary[\"ann_std\"] = returns.std() * np.sqrt(td_year)"
   ]
  },
  {
   "cell_type": "code",
   "execution_count": null,
   "id": "84fbdf8d",
   "metadata": {},
   "outputs": [],
   "source": [
    "summary.sort_values(by = \"ann_std\")"
   ]
  },
  {
   "cell_type": "code",
   "execution_count": null,
   "id": "904fae56",
   "metadata": {},
   "outputs": [],
   "source": []
  },
  {
   "cell_type": "markdown",
   "id": "c026424e",
   "metadata": {},
   "source": [
    "## Risk-adjusted Return (\"Sharpe Ratio\")"
   ]
  },
  {
   "cell_type": "code",
   "execution_count": null,
   "id": "38fe6693",
   "metadata": {},
   "outputs": [],
   "source": [
    "summary"
   ]
  },
  {
   "cell_type": "markdown",
   "id": "12d642c8",
   "metadata": {},
   "source": [
    "__Graphical Solution__"
   ]
  },
  {
   "cell_type": "code",
   "execution_count": null,
   "id": "helpful-whale",
   "metadata": {},
   "outputs": [],
   "source": [
    "summary.plot(kind = \"scatter\", x = \"ann_std\", y = \"ann_mean\", figsize = (15,12), s = 50, fontsize = 15)\n",
    "for i in summary.index:\n",
    "    plt.annotate(i, xy=(summary.loc[i, \"ann_std\"]+0.001, summary.loc[i, \"ann_mean\"]+0.001), size = 15)\n",
    "plt.xlim(-0.01, 0.23)\n",
    "plt.ylim(-0.02, 0.03)\n",
    "plt.xlabel(\"Risk(std)\", fontsize = 15)\n",
    "plt.ylabel(\"Return\", fontsize = 15)\n",
    "plt.title(\"Risk/Return\", fontsize = 20)\n",
    "plt.show()"
   ]
  },
  {
   "cell_type": "markdown",
   "id": "00515c8f",
   "metadata": {},
   "source": [
    "__Risk-adjusted Return Metric__ (\"Sharpe Ratio light\")"
   ]
  },
  {
   "cell_type": "code",
   "execution_count": null,
   "id": "unsigned-quarter",
   "metadata": {},
   "outputs": [],
   "source": [
    "rf = 0 # simplification, don´t use this assumption for Portfolio Management!"
   ]
  },
  {
   "cell_type": "code",
   "execution_count": null,
   "id": "moving-newfoundland",
   "metadata": {},
   "outputs": [],
   "source": [
    "summary[\"Sharpe\"] = (summary.ann_mean - rf) / summary.ann_std"
   ]
  },
  {
   "cell_type": "code",
   "execution_count": null,
   "id": "broad-tucson",
   "metadata": {},
   "outputs": [],
   "source": [
    "summary.sort_values(by = \"Sharpe\", ascending = False)"
   ]
  },
  {
   "cell_type": "code",
   "execution_count": null,
   "id": "ebba3a51",
   "metadata": {},
   "outputs": [],
   "source": [
    "td_year"
   ]
  },
  {
   "cell_type": "code",
   "execution_count": null,
   "id": "configured-torture",
   "metadata": {},
   "outputs": [],
   "source": [
    "returns.mean() / returns.std() * np.sqrt(td_year) # alternative: annualizing daily sharpe"
   ]
  },
  {
   "cell_type": "code",
   "execution_count": null,
   "id": "00e01981",
   "metadata": {},
   "outputs": [],
   "source": []
  },
  {
   "cell_type": "markdown",
   "id": "b2846138",
   "metadata": {},
   "source": [
    "## Putting everything together"
   ]
  },
  {
   "cell_type": "code",
   "execution_count": null,
   "id": "c2edb22e",
   "metadata": {},
   "outputs": [],
   "source": [
    "import pandas as pd\n",
    "import numpy as np\n",
    "import matplotlib.pyplot as plt\n",
    "plt.style.use(\"seaborn-v0_8\")"
   ]
  },
  {
   "cell_type": "code",
   "execution_count": null,
   "id": "24a34835",
   "metadata": {},
   "outputs": [],
   "source": [
    "returns = pd.read_csv(\"returns.csv\", index_col = \"Date\", parse_dates = [\"Date\"])\n",
    "returns"
   ]
  },
  {
   "cell_type": "code",
   "execution_count": null,
   "id": "443c7fcf",
   "metadata": {},
   "outputs": [],
   "source": [
    "def sharpe(series, rf = 0):\n",
    "    \n",
    "    if series.std() == 0:\n",
    "        return np.nan\n",
    "    else:\n",
    "        return (series.mean() - rf) / series.std() * np.sqrt(series.count() / ((series.index[-1] - series.index[0]).days / 365.25))"
   ]
  },
  {
   "cell_type": "code",
   "execution_count": null,
   "id": "sized-shelf",
   "metadata": {},
   "outputs": [],
   "source": [
    "returns.apply(sharpe, rf = 0)"
   ]
  },
  {
   "cell_type": "code",
   "execution_count": null,
   "id": "51330b64",
   "metadata": {},
   "outputs": [],
   "source": [
    "sharpe(series = returns.Levered, rf = 0)"
   ]
  },
  {
   "cell_type": "code",
   "execution_count": null,
   "id": "3c6d316b",
   "metadata": {},
   "outputs": [],
   "source": []
  },
  {
   "cell_type": "markdown",
   "id": "4e863688",
   "metadata": {},
   "source": [
    "------------------------------"
   ]
  },
  {
   "cell_type": "markdown",
   "id": "c290fb1b",
   "metadata": {},
   "source": [
    "## Coding Challenge"
   ]
  },
  {
   "cell_type": "markdown",
   "id": "c3ac6bab",
   "metadata": {},
   "source": [
    "__Calculate and compare__ the __Sharpe Ratio__ (assumption: rf == 0) for __30 large US stocks__ that currently form the Dow Jones Industrial Average Index (\"Dow Jones\") for the time period between April 2019 and June 2021. "
   ]
  },
  {
   "cell_type": "markdown",
   "id": "29ffbd88",
   "metadata": {},
   "source": [
    "__Hint:__ You can __import__ the price data from __\"Dow_Jones.csv\"__.\n",
    " "
   ]
  },
  {
   "cell_type": "markdown",
   "id": "6f9e0047",
   "metadata": {},
   "source": [
    "Determine the __best performing stock__ and the __worst performing stock__ according to the Sharpe Ratio."
   ]
  },
  {
   "cell_type": "markdown",
   "id": "b5408ecf",
   "metadata": {},
   "source": [
    "(Remark: Dividends are ignored here. Hence, for simplicity reasons, the Sharpe Ratio is based on Price Returns only. As a consequence, dividend-paying stocks are getting penalized.) "
   ]
  },
  {
   "cell_type": "markdown",
   "id": "a4a5b610",
   "metadata": {},
   "source": [
    "## +++ Please stop here in case you don´t want to see the solution!!! +++++"
   ]
  },
  {
   "cell_type": "code",
   "execution_count": null,
   "id": "ccb3733f",
   "metadata": {},
   "outputs": [],
   "source": []
  },
  {
   "cell_type": "code",
   "execution_count": null,
   "id": "97435c8d",
   "metadata": {},
   "outputs": [],
   "source": []
  },
  {
   "cell_type": "code",
   "execution_count": null,
   "id": "2a9a611b",
   "metadata": {},
   "outputs": [],
   "source": []
  },
  {
   "cell_type": "code",
   "execution_count": null,
   "id": "82c842ab",
   "metadata": {},
   "outputs": [],
   "source": []
  },
  {
   "cell_type": "markdown",
   "id": "f1366c7c",
   "metadata": {},
   "source": [
    "## Coding Challenge Solution"
   ]
  },
  {
   "cell_type": "code",
   "execution_count": null,
   "id": "a794fb42",
   "metadata": {},
   "outputs": [],
   "source": [
    "import pandas as pd\n",
    "import numpy as np"
   ]
  },
  {
   "cell_type": "code",
   "execution_count": null,
   "id": "efbdcd10",
   "metadata": {},
   "outputs": [],
   "source": [
    "df = pd.read_csv(\"Dow_Jones.csv\", index_col = \"Date\", parse_dates = [\"Date\"])\n",
    "df"
   ]
  },
  {
   "cell_type": "code",
   "execution_count": null,
   "id": "eaa15a9e",
   "metadata": {},
   "outputs": [],
   "source": [
    "df.info()"
   ]
  },
  {
   "cell_type": "code",
   "execution_count": null,
   "id": "76e6f318",
   "metadata": {},
   "outputs": [],
   "source": [
    "returns = np.log(df / df.shift()) # daily log returns\n",
    "returns"
   ]
  },
  {
   "cell_type": "code",
   "execution_count": null,
   "id": "09ed3b10",
   "metadata": {},
   "outputs": [],
   "source": [
    "def sharpe(series, rf = 0):\n",
    "    \n",
    "    if series.std() == 0:\n",
    "        return np.nan\n",
    "    else:\n",
    "        return (series.mean() - rf) / series.std() * np.sqrt(series.count() / ((series.index[-1] - series.index[0]).days / 365.25))"
   ]
  },
  {
   "cell_type": "code",
   "execution_count": null,
   "id": "ead8499d",
   "metadata": {},
   "outputs": [],
   "source": [
    "returns.apply(sharpe).sort_values(ascending = False)"
   ]
  },
  {
   "cell_type": "markdown",
   "id": "f062e795",
   "metadata": {},
   "source": [
    "Best Performing Stock: __Apple__ (AAPL) <br>\n",
    "Worst Performing Stock: __Non-determinable__ (note: you can´t compare negative Sharpe Ratios)"
   ]
  },
  {
   "cell_type": "code",
   "execution_count": null,
   "id": "777fdd58",
   "metadata": {},
   "outputs": [],
   "source": []
  }
 ],
 "metadata": {
  "kernelspec": {
   "display_name": "Python 3 (ipykernel)",
   "language": "python",
   "name": "python3"
  },
  "language_info": {
   "codemirror_mode": {
    "name": "ipython",
    "version": 3
   },
   "file_extension": ".py",
   "mimetype": "text/x-python",
   "name": "python",
   "nbconvert_exporter": "python",
   "pygments_lexer": "ipython3",
   "version": "3.9.13"
  }
 },
 "nbformat": 4,
 "nbformat_minor": 5
}
